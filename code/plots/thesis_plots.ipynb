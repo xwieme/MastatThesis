{
 "cells": [
  {
   "cell_type": "code",
   "execution_count": 84,
   "id": "f85f0065-48e5-4dce-806d-b6f1d1b4a3ec",
   "metadata": {},
   "outputs": [],
   "source": [
    "import pandas as pd\n",
    "import plotly.express as px\n",
    "import plotly.graph_objects as go\n",
    "from plotly.subplots import make_subplots\n",
    "import plotly.io as pio\n",
    "\n",
    "pio.templates.default = \"plotly_white\""
   ]
  },
  {
   "cell_type": "markdown",
   "id": "77b5178a-9f77-45c9-baea-81e291b9cfa0",
   "metadata": {},
   "source": [
    "# Friedmann plot"
   ]
  },
  {
   "cell_type": "code",
   "execution_count": 6,
   "id": "7a31a717-87fd-4cff-b86d-a8e15726f765",
   "metadata": {},
   "outputs": [
    {
     "data": {
      "text/html": [
       "<div>\n",
       "<style scoped>\n",
       "    .dataframe tbody tr th:only-of-type {\n",
       "        vertical-align: middle;\n",
       "    }\n",
       "\n",
       "    .dataframe tbody tr th {\n",
       "        vertical-align: top;\n",
       "    }\n",
       "\n",
       "    .dataframe thead th {\n",
       "        text-align: right;\n",
       "    }\n",
       "</style>\n",
       "<table border=\"1\" class=\"dataframe\">\n",
       "  <thead>\n",
       "    <tr style=\"text-align: right;\">\n",
       "      <th></th>\n",
       "      <th>Unnamed: 0</th>\n",
       "      <th>smiles</th>\n",
       "      <th>prediction</th>\n",
       "      <th>ESOL</th>\n",
       "      <th>absolute_error</th>\n",
       "      <th>absolute_error_class</th>\n",
       "      <th>SME_rank_corr</th>\n",
       "      <th>Shapley_rank_corr</th>\n",
       "      <th>HN_rank_corr</th>\n",
       "    </tr>\n",
       "  </thead>\n",
       "  <tbody>\n",
       "    <tr>\n",
       "      <th>0</th>\n",
       "      <td>0</td>\n",
       "      <td>BrCCBr</td>\n",
       "      <td>-1.659495</td>\n",
       "      <td>-1.68</td>\n",
       "      <td>0.020505</td>\n",
       "      <td>&lt; 0.6</td>\n",
       "      <td>1.0</td>\n",
       "      <td>1.0</td>\n",
       "      <td>1.0</td>\n",
       "    </tr>\n",
       "    <tr>\n",
       "      <th>1</th>\n",
       "      <td>3</td>\n",
       "      <td>Brc1cc(Br)c(Br)cc1Br</td>\n",
       "      <td>-6.510058</td>\n",
       "      <td>-6.98</td>\n",
       "      <td>0.469942</td>\n",
       "      <td>&lt; 0.6</td>\n",
       "      <td>1.0</td>\n",
       "      <td>1.0</td>\n",
       "      <td>1.0</td>\n",
       "    </tr>\n",
       "    <tr>\n",
       "      <th>2</th>\n",
       "      <td>8</td>\n",
       "      <td>Brc1cccc(Br)c1</td>\n",
       "      <td>-4.152843</td>\n",
       "      <td>-3.54</td>\n",
       "      <td>0.612843</td>\n",
       "      <td>&gt;= 0.6</td>\n",
       "      <td>1.0</td>\n",
       "      <td>1.0</td>\n",
       "      <td>1.0</td>\n",
       "    </tr>\n",
       "    <tr>\n",
       "      <th>3</th>\n",
       "      <td>11</td>\n",
       "      <td>Brc1cccc2ccccc12</td>\n",
       "      <td>-4.388748</td>\n",
       "      <td>-4.35</td>\n",
       "      <td>0.038748</td>\n",
       "      <td>&lt; 0.6</td>\n",
       "      <td>1.0</td>\n",
       "      <td>1.0</td>\n",
       "      <td>1.0</td>\n",
       "    </tr>\n",
       "    <tr>\n",
       "      <th>4</th>\n",
       "      <td>13</td>\n",
       "      <td>C#CCCCCCCC</td>\n",
       "      <td>-4.244354</td>\n",
       "      <td>-4.24</td>\n",
       "      <td>0.004354</td>\n",
       "      <td>&lt; 0.6</td>\n",
       "      <td>1.0</td>\n",
       "      <td>1.0</td>\n",
       "      <td>1.0</td>\n",
       "    </tr>\n",
       "  </tbody>\n",
       "</table>\n",
       "</div>"
      ],
      "text/plain": [
       "   Unnamed: 0                smiles  prediction  ESOL  absolute_error  \\\n",
       "0           0                BrCCBr   -1.659495 -1.68        0.020505   \n",
       "1           3  Brc1cc(Br)c(Br)cc1Br   -6.510058 -6.98        0.469942   \n",
       "2           8        Brc1cccc(Br)c1   -4.152843 -3.54        0.612843   \n",
       "3          11      Brc1cccc2ccccc12   -4.388748 -4.35        0.038748   \n",
       "4          13            C#CCCCCCCC   -4.244354 -4.24        0.004354   \n",
       "\n",
       "  absolute_error_class  SME_rank_corr  Shapley_rank_corr  HN_rank_corr  \n",
       "0                < 0.6            1.0                1.0           1.0  \n",
       "1                < 0.6            1.0                1.0           1.0  \n",
       "2               >= 0.6            1.0                1.0           1.0  \n",
       "3                < 0.6            1.0                1.0           1.0  \n",
       "4                < 0.6            1.0                1.0           1.0  "
      ]
     },
     "execution_count": 6,
     "metadata": {},
     "output_type": "execute_result"
    }
   ],
   "source": [
    "df = pd.read_csv(\"../../data/ESOL/manual_vs_attribution_rank_correlations.csv\")\n",
    "df.head()"
   ]
  },
  {
   "cell_type": "code",
   "execution_count": 31,
   "id": "2d647b8c-b6eb-47d2-be03-e46976006656",
   "metadata": {},
   "outputs": [
    {
     "data": {
      "text/html": [
       "<div>\n",
       "<style scoped>\n",
       "    .dataframe tbody tr th:only-of-type {\n",
       "        vertical-align: middle;\n",
       "    }\n",
       "\n",
       "    .dataframe tbody tr th {\n",
       "        vertical-align: top;\n",
       "    }\n",
       "\n",
       "    .dataframe thead th {\n",
       "        text-align: right;\n",
       "    }\n",
       "</style>\n",
       "<table border=\"1\" class=\"dataframe\">\n",
       "  <thead>\n",
       "    <tr style=\"text-align: right;\">\n",
       "      <th></th>\n",
       "      <th>smiles</th>\n",
       "      <th>prediction</th>\n",
       "      <th>ESOL</th>\n",
       "      <th>absolute_error_class</th>\n",
       "      <th>attribution_method</th>\n",
       "      <th>corr</th>\n",
       "    </tr>\n",
       "  </thead>\n",
       "  <tbody>\n",
       "    <tr>\n",
       "      <th>0</th>\n",
       "      <td>BrCCBr</td>\n",
       "      <td>-1.659495</td>\n",
       "      <td>-1.68</td>\n",
       "      <td>&lt; 0.6</td>\n",
       "      <td>SME</td>\n",
       "      <td>1.0</td>\n",
       "    </tr>\n",
       "    <tr>\n",
       "      <th>1</th>\n",
       "      <td>Brc1cc(Br)c(Br)cc1Br</td>\n",
       "      <td>-6.510058</td>\n",
       "      <td>-6.98</td>\n",
       "      <td>&lt; 0.6</td>\n",
       "      <td>SME</td>\n",
       "      <td>1.0</td>\n",
       "    </tr>\n",
       "    <tr>\n",
       "      <th>2</th>\n",
       "      <td>Brc1cccc(Br)c1</td>\n",
       "      <td>-4.152843</td>\n",
       "      <td>-3.54</td>\n",
       "      <td>&gt;= 0.6</td>\n",
       "      <td>SME</td>\n",
       "      <td>1.0</td>\n",
       "    </tr>\n",
       "    <tr>\n",
       "      <th>3</th>\n",
       "      <td>Brc1cccc2ccccc12</td>\n",
       "      <td>-4.388748</td>\n",
       "      <td>-4.35</td>\n",
       "      <td>&lt; 0.6</td>\n",
       "      <td>SME</td>\n",
       "      <td>1.0</td>\n",
       "    </tr>\n",
       "    <tr>\n",
       "      <th>4</th>\n",
       "      <td>C#CCCCCCCC</td>\n",
       "      <td>-4.244354</td>\n",
       "      <td>-4.24</td>\n",
       "      <td>&lt; 0.6</td>\n",
       "      <td>SME</td>\n",
       "      <td>1.0</td>\n",
       "    </tr>\n",
       "  </tbody>\n",
       "</table>\n",
       "</div>"
      ],
      "text/plain": [
       "                 smiles  prediction  ESOL absolute_error_class  \\\n",
       "0                BrCCBr   -1.659495 -1.68                < 0.6   \n",
       "1  Brc1cc(Br)c(Br)cc1Br   -6.510058 -6.98                < 0.6   \n",
       "2        Brc1cccc(Br)c1   -4.152843 -3.54               >= 0.6   \n",
       "3      Brc1cccc2ccccc12   -4.388748 -4.35                < 0.6   \n",
       "4            C#CCCCCCCC   -4.244354 -4.24                < 0.6   \n",
       "\n",
       "  attribution_method  corr  \n",
       "0                SME   1.0  \n",
       "1                SME   1.0  \n",
       "2                SME   1.0  \n",
       "3                SME   1.0  \n",
       "4                SME   1.0  "
      ]
     },
     "execution_count": 31,
     "metadata": {},
     "output_type": "execute_result"
    }
   ],
   "source": [
    "df_long = df.melt(\n",
    "    id_vars=[\"smiles\", \"prediction\", \"ESOL\", \"absolute_error_class\"], \n",
    "    value_vars=[\"SME_rank_corr\", \"Shapley_rank_corr\", \"HN_rank_corr\"],\n",
    "    value_name=\"corr\",\n",
    "    var_name=\"attribution_method\"\n",
    ")\n",
    "\n",
    "df_long[\"attribution_method\"] = df_long.attribution_method.str.split(\"_\", expand=True)[0]\n",
    "df_long.head()"
   ]
  },
  {
   "cell_type": "code",
   "execution_count": 60,
   "id": "83f545d3-44aa-4320-986b-dfe03d37d386",
   "metadata": {},
   "outputs": [
    {
     "data": {
      "application/vnd.plotly.v1+json": {
       "config": {
        "plotlyServerURL": "https://plot.ly"
       },
       "data": [
        {
         "alignmentgroup": "True",
         "bingroup": "x",
         "hovertemplate": "absolute_error_class=< 0.6<br>attribution_method=SME<br>corr=%{x}<br>count=%{y}<extra></extra>",
         "legendgroup": "",
         "marker": {
          "color": "#636efa",
          "pattern": {
           "shape": ""
          }
         },
         "name": "",
         "nbinsx": 100,
         "offsetgroup": "",
         "orientation": "v",
         "showlegend": false,
         "type": "histogram",
         "x": [
          1,
          1,
          1,
          1,
          1,
          0.5,
          0.5,
          1,
          0.6666666666666666,
          1,
          1,
          1,
          1,
          1,
          1,
          1,
          1,
          1,
          -1,
          1,
          1,
          1,
          1,
          1,
          1,
          1,
          1,
          1,
          1,
          1,
          0.5642880936468347,
          1,
          -0.5789473684210527,
          0.8947368421052632,
          1,
          0.7,
          0.917662935482247,
          -0.5,
          1,
          0.917662935482247,
          1,
          -1,
          1,
          0.816496580927726,
          -1,
          0.8,
          1,
          0.7071067811865475,
          0.7905694150420948,
          1,
          0.641688947919748,
          1,
          0.7453559924999299,
          1,
          1,
          1,
          1,
          1,
          0.5,
          1,
          0.8944271909999159,
          0.5,
          0.3333333333333333,
          1,
          1,
          1,
          -0.1309307341415954,
          0.7254762501100117,
          0.917662935482247,
          1,
          1,
          1
         ],
         "xaxis": "x4",
         "yaxis": "y4"
        },
        {
         "alignmentgroup": "True",
         "bingroup": "x",
         "hovertemplate": "absolute_error_class=< 0.6<br>attribution_method=Shapley<br>corr=%{x}<br>count=%{y}<extra></extra>",
         "legendgroup": "",
         "marker": {
          "color": "#636efa",
          "pattern": {
           "shape": ""
          }
         },
         "name": "",
         "nbinsx": 100,
         "offsetgroup": "",
         "orientation": "v",
         "showlegend": false,
         "type": "histogram",
         "x": [
          1,
          1,
          1,
          1,
          1,
          0.5,
          0.5,
          1,
          0.7777777777777778,
          1,
          1,
          1,
          1,
          1,
          1,
          1,
          1,
          1,
          -1,
          1,
          1,
          1,
          1,
          1,
          1,
          1,
          1,
          1,
          1,
          1,
          -0.1538967528127731,
          1,
          -0.5642880936468347,
          0.8947368421052632,
          1,
          0.9,
          0.917662935482247,
          0.5,
          1,
          1,
          1,
          -1,
          0.5,
          0.816496580927726,
          -1,
          0.8,
          1,
          0.7071067811865475,
          0.7905694150420948,
          1,
          0.641688947919748,
          1,
          0.7453559924999299,
          1,
          1,
          1,
          1,
          1,
          0.5,
          1,
          0.8944271909999159,
          0.5,
          0.3333333333333333,
          1,
          1,
          0.5,
          -0.1309307341415954,
          0.7254762501100117,
          1,
          1,
          1,
          1
         ],
         "xaxis": "x5",
         "yaxis": "y5"
        },
        {
         "alignmentgroup": "True",
         "bingroup": "x",
         "hovertemplate": "absolute_error_class=< 0.6<br>attribution_method=HN<br>corr=%{x}<br>count=%{y}<extra></extra>",
         "legendgroup": "",
         "marker": {
          "color": "#636efa",
          "pattern": {
           "shape": ""
          }
         },
         "name": "",
         "nbinsx": 100,
         "offsetgroup": "",
         "orientation": "v",
         "showlegend": false,
         "type": "histogram",
         "x": [
          1,
          1,
          1,
          1,
          1,
          0.5,
          0.5,
          1,
          0.6666666666666666,
          1,
          1,
          1,
          1,
          1,
          1,
          1,
          1,
          1,
          -1,
          1,
          1,
          1,
          1,
          1,
          1,
          1,
          1,
          1,
          1,
          1,
          -0.1578947368421052,
          1,
          -0.5789473684210527,
          0.8947368421052632,
          1,
          0.7,
          0.917662935482247,
          -0.5,
          1,
          1,
          1,
          -1,
          0.5,
          0.816496580927726,
          -1,
          0.4,
          1,
          0.7071067811865475,
          0.7905694150420948,
          1,
          0.641688947919748,
          1,
          0.7453559924999299,
          1,
          1,
          1,
          1,
          1,
          0.5,
          1,
          0.8944271909999159,
          0.5,
          0.3333333333333333,
          1,
          1,
          0.5,
          0.6546536707079772,
          0.7254762501100117,
          1,
          1,
          1,
          1
         ],
         "xaxis": "x6",
         "yaxis": "y6"
        },
        {
         "alignmentgroup": "True",
         "bingroup": "x",
         "hovertemplate": "absolute_error_class=>= 0.6<br>attribution_method=SME<br>corr=%{x}<br>count=%{y}<extra></extra>",
         "legendgroup": "",
         "marker": {
          "color": "#636efa",
          "pattern": {
           "shape": ""
          }
         },
         "name": "",
         "nbinsx": 100,
         "offsetgroup": "",
         "orientation": "v",
         "showlegend": false,
         "type": "histogram",
         "x": [
          1,
          1,
          1,
          1,
          1,
          -1,
          0.6842105263157895,
          -1,
          1,
          0.8867924528301887,
          1,
          -1,
          0.6071428571428571,
          0.0857142857142857,
          -0.0285714285714285,
          0.6981132075471698,
          -0.7378647873726218,
          0.9710083124552245,
          -0.0895622151039798,
          1,
          1,
          1,
          0.5,
          0.9,
          0.7758801774444581,
          1,
          1,
          0.5368515688594936
         ],
         "xaxis": "x",
         "yaxis": "y"
        },
        {
         "alignmentgroup": "True",
         "bingroup": "x",
         "hovertemplate": "absolute_error_class=>= 0.6<br>attribution_method=Shapley<br>corr=%{x}<br>count=%{y}<extra></extra>",
         "legendgroup": "",
         "marker": {
          "color": "#636efa",
          "pattern": {
           "shape": ""
          }
         },
         "name": "",
         "nbinsx": 100,
         "offsetgroup": "",
         "orientation": "v",
         "showlegend": false,
         "type": "histogram",
         "x": [
          1,
          1,
          1,
          1,
          1,
          -1,
          0.6842105263157895,
          -1,
          1,
          1,
          1,
          -1,
          0.9285714285714286,
          0.0857142857142857,
          -0.0285714285714285,
          1,
          -0.7378647873726218,
          0.9710083124552245,
          -0.0909090909090909,
          1,
          1,
          1,
          1,
          0.9,
          0.7758801774444581,
          1,
          1,
          0.5368515688594936
         ],
         "xaxis": "x2",
         "yaxis": "y2"
        },
        {
         "alignmentgroup": "True",
         "bingroup": "x",
         "hovertemplate": "absolute_error_class=>= 0.6<br>attribution_method=HN<br>corr=%{x}<br>count=%{y}<extra></extra>",
         "legendgroup": "",
         "marker": {
          "color": "#636efa",
          "pattern": {
           "shape": ""
          }
         },
         "name": "",
         "nbinsx": 100,
         "offsetgroup": "",
         "orientation": "v",
         "showlegend": false,
         "type": "histogram",
         "x": [
          1,
          1,
          0.9486832980505138,
          1,
          1,
          -1,
          0.6842105263157895,
          -1,
          1,
          1,
          1,
          -1,
          0.7857142857142857,
          0.0285714285714285,
          -0.0857142857142857,
          0.9906974722292782,
          -0.7378647873726218,
          0.9710083124552245,
          -0.0909090909090909,
          1,
          1,
          1,
          1,
          0.9,
          0.7758801774444581,
          1,
          1,
          0.5368515688594936
         ],
         "xaxis": "x3",
         "yaxis": "y3"
        }
       ],
       "layout": {
        "annotations": [
         {
          "font": {},
          "showarrow": false,
          "text": "SME",
          "x": 0.13999999999999999,
          "xanchor": "center",
          "xref": "paper",
          "y": 1,
          "yanchor": "bottom",
          "yref": "paper"
         },
         {
          "font": {},
          "showarrow": false,
          "text": "Shapley",
          "x": 0.48999999999999994,
          "xanchor": "center",
          "xref": "paper",
          "y": 1,
          "yanchor": "bottom",
          "yref": "paper"
         },
         {
          "font": {},
          "showarrow": false,
          "text": "HN",
          "x": 0.84,
          "xanchor": "center",
          "xref": "paper",
          "y": 1,
          "yanchor": "bottom",
          "yref": "paper"
         },
         {
          "font": {},
          "showarrow": false,
          "text": "\t AE >= 0.6",
          "textangle": 0,
          "x": 0.98,
          "xanchor": "left",
          "xref": "paper",
          "y": 0.2425,
          "yanchor": "middle",
          "yref": "paper"
         },
         {
          "font": {},
          "showarrow": false,
          "text": "\t AE < 0.6",
          "textangle": 0,
          "x": 0.98,
          "xanchor": "left",
          "xref": "paper",
          "y": 0.7575000000000001,
          "yanchor": "middle",
          "yref": "paper"
         }
        ],
        "autosize": false,
        "barmode": "relative",
        "font": {
         "family": "times new roman",
         "size": 20
        },
        "height": 500,
        "legend": {
         "tracegroupgap": 0
        },
        "margin": {
         "r": 150,
         "t": 60
        },
        "template": {
         "data": {
          "bar": [
           {
            "error_x": {
             "color": "#2a3f5f"
            },
            "error_y": {
             "color": "#2a3f5f"
            },
            "marker": {
             "line": {
              "color": "white",
              "width": 0.5
             },
             "pattern": {
              "fillmode": "overlay",
              "size": 10,
              "solidity": 0.2
             }
            },
            "type": "bar"
           }
          ],
          "barpolar": [
           {
            "marker": {
             "line": {
              "color": "white",
              "width": 0.5
             },
             "pattern": {
              "fillmode": "overlay",
              "size": 10,
              "solidity": 0.2
             }
            },
            "type": "barpolar"
           }
          ],
          "carpet": [
           {
            "aaxis": {
             "endlinecolor": "#2a3f5f",
             "gridcolor": "#C8D4E3",
             "linecolor": "#C8D4E3",
             "minorgridcolor": "#C8D4E3",
             "startlinecolor": "#2a3f5f"
            },
            "baxis": {
             "endlinecolor": "#2a3f5f",
             "gridcolor": "#C8D4E3",
             "linecolor": "#C8D4E3",
             "minorgridcolor": "#C8D4E3",
             "startlinecolor": "#2a3f5f"
            },
            "type": "carpet"
           }
          ],
          "choropleth": [
           {
            "colorbar": {
             "outlinewidth": 0,
             "ticks": ""
            },
            "type": "choropleth"
           }
          ],
          "contour": [
           {
            "colorbar": {
             "outlinewidth": 0,
             "ticks": ""
            },
            "colorscale": [
             [
              0,
              "#0d0887"
             ],
             [
              0.1111111111111111,
              "#46039f"
             ],
             [
              0.2222222222222222,
              "#7201a8"
             ],
             [
              0.3333333333333333,
              "#9c179e"
             ],
             [
              0.4444444444444444,
              "#bd3786"
             ],
             [
              0.5555555555555556,
              "#d8576b"
             ],
             [
              0.6666666666666666,
              "#ed7953"
             ],
             [
              0.7777777777777778,
              "#fb9f3a"
             ],
             [
              0.8888888888888888,
              "#fdca26"
             ],
             [
              1,
              "#f0f921"
             ]
            ],
            "type": "contour"
           }
          ],
          "contourcarpet": [
           {
            "colorbar": {
             "outlinewidth": 0,
             "ticks": ""
            },
            "type": "contourcarpet"
           }
          ],
          "heatmap": [
           {
            "colorbar": {
             "outlinewidth": 0,
             "ticks": ""
            },
            "colorscale": [
             [
              0,
              "#0d0887"
             ],
             [
              0.1111111111111111,
              "#46039f"
             ],
             [
              0.2222222222222222,
              "#7201a8"
             ],
             [
              0.3333333333333333,
              "#9c179e"
             ],
             [
              0.4444444444444444,
              "#bd3786"
             ],
             [
              0.5555555555555556,
              "#d8576b"
             ],
             [
              0.6666666666666666,
              "#ed7953"
             ],
             [
              0.7777777777777778,
              "#fb9f3a"
             ],
             [
              0.8888888888888888,
              "#fdca26"
             ],
             [
              1,
              "#f0f921"
             ]
            ],
            "type": "heatmap"
           }
          ],
          "heatmapgl": [
           {
            "colorbar": {
             "outlinewidth": 0,
             "ticks": ""
            },
            "colorscale": [
             [
              0,
              "#0d0887"
             ],
             [
              0.1111111111111111,
              "#46039f"
             ],
             [
              0.2222222222222222,
              "#7201a8"
             ],
             [
              0.3333333333333333,
              "#9c179e"
             ],
             [
              0.4444444444444444,
              "#bd3786"
             ],
             [
              0.5555555555555556,
              "#d8576b"
             ],
             [
              0.6666666666666666,
              "#ed7953"
             ],
             [
              0.7777777777777778,
              "#fb9f3a"
             ],
             [
              0.8888888888888888,
              "#fdca26"
             ],
             [
              1,
              "#f0f921"
             ]
            ],
            "type": "heatmapgl"
           }
          ],
          "histogram": [
           {
            "marker": {
             "pattern": {
              "fillmode": "overlay",
              "size": 10,
              "solidity": 0.2
             }
            },
            "type": "histogram"
           }
          ],
          "histogram2d": [
           {
            "colorbar": {
             "outlinewidth": 0,
             "ticks": ""
            },
            "colorscale": [
             [
              0,
              "#0d0887"
             ],
             [
              0.1111111111111111,
              "#46039f"
             ],
             [
              0.2222222222222222,
              "#7201a8"
             ],
             [
              0.3333333333333333,
              "#9c179e"
             ],
             [
              0.4444444444444444,
              "#bd3786"
             ],
             [
              0.5555555555555556,
              "#d8576b"
             ],
             [
              0.6666666666666666,
              "#ed7953"
             ],
             [
              0.7777777777777778,
              "#fb9f3a"
             ],
             [
              0.8888888888888888,
              "#fdca26"
             ],
             [
              1,
              "#f0f921"
             ]
            ],
            "type": "histogram2d"
           }
          ],
          "histogram2dcontour": [
           {
            "colorbar": {
             "outlinewidth": 0,
             "ticks": ""
            },
            "colorscale": [
             [
              0,
              "#0d0887"
             ],
             [
              0.1111111111111111,
              "#46039f"
             ],
             [
              0.2222222222222222,
              "#7201a8"
             ],
             [
              0.3333333333333333,
              "#9c179e"
             ],
             [
              0.4444444444444444,
              "#bd3786"
             ],
             [
              0.5555555555555556,
              "#d8576b"
             ],
             [
              0.6666666666666666,
              "#ed7953"
             ],
             [
              0.7777777777777778,
              "#fb9f3a"
             ],
             [
              0.8888888888888888,
              "#fdca26"
             ],
             [
              1,
              "#f0f921"
             ]
            ],
            "type": "histogram2dcontour"
           }
          ],
          "mesh3d": [
           {
            "colorbar": {
             "outlinewidth": 0,
             "ticks": ""
            },
            "type": "mesh3d"
           }
          ],
          "parcoords": [
           {
            "line": {
             "colorbar": {
              "outlinewidth": 0,
              "ticks": ""
             }
            },
            "type": "parcoords"
           }
          ],
          "pie": [
           {
            "automargin": true,
            "type": "pie"
           }
          ],
          "scatter": [
           {
            "fillpattern": {
             "fillmode": "overlay",
             "size": 10,
             "solidity": 0.2
            },
            "type": "scatter"
           }
          ],
          "scatter3d": [
           {
            "line": {
             "colorbar": {
              "outlinewidth": 0,
              "ticks": ""
             }
            },
            "marker": {
             "colorbar": {
              "outlinewidth": 0,
              "ticks": ""
             }
            },
            "type": "scatter3d"
           }
          ],
          "scattercarpet": [
           {
            "marker": {
             "colorbar": {
              "outlinewidth": 0,
              "ticks": ""
             }
            },
            "type": "scattercarpet"
           }
          ],
          "scattergeo": [
           {
            "marker": {
             "colorbar": {
              "outlinewidth": 0,
              "ticks": ""
             }
            },
            "type": "scattergeo"
           }
          ],
          "scattergl": [
           {
            "marker": {
             "colorbar": {
              "outlinewidth": 0,
              "ticks": ""
             }
            },
            "type": "scattergl"
           }
          ],
          "scattermapbox": [
           {
            "marker": {
             "colorbar": {
              "outlinewidth": 0,
              "ticks": ""
             }
            },
            "type": "scattermapbox"
           }
          ],
          "scatterpolar": [
           {
            "marker": {
             "colorbar": {
              "outlinewidth": 0,
              "ticks": ""
             }
            },
            "type": "scatterpolar"
           }
          ],
          "scatterpolargl": [
           {
            "marker": {
             "colorbar": {
              "outlinewidth": 0,
              "ticks": ""
             }
            },
            "type": "scatterpolargl"
           }
          ],
          "scatterternary": [
           {
            "marker": {
             "colorbar": {
              "outlinewidth": 0,
              "ticks": ""
             }
            },
            "type": "scatterternary"
           }
          ],
          "surface": [
           {
            "colorbar": {
             "outlinewidth": 0,
             "ticks": ""
            },
            "colorscale": [
             [
              0,
              "#0d0887"
             ],
             [
              0.1111111111111111,
              "#46039f"
             ],
             [
              0.2222222222222222,
              "#7201a8"
             ],
             [
              0.3333333333333333,
              "#9c179e"
             ],
             [
              0.4444444444444444,
              "#bd3786"
             ],
             [
              0.5555555555555556,
              "#d8576b"
             ],
             [
              0.6666666666666666,
              "#ed7953"
             ],
             [
              0.7777777777777778,
              "#fb9f3a"
             ],
             [
              0.8888888888888888,
              "#fdca26"
             ],
             [
              1,
              "#f0f921"
             ]
            ],
            "type": "surface"
           }
          ],
          "table": [
           {
            "cells": {
             "fill": {
              "color": "#EBF0F8"
             },
             "line": {
              "color": "white"
             }
            },
            "header": {
             "fill": {
              "color": "#C8D4E3"
             },
             "line": {
              "color": "white"
             }
            },
            "type": "table"
           }
          ]
         },
         "layout": {
          "annotationdefaults": {
           "arrowcolor": "#2a3f5f",
           "arrowhead": 0,
           "arrowwidth": 1
          },
          "autotypenumbers": "strict",
          "coloraxis": {
           "colorbar": {
            "outlinewidth": 0,
            "ticks": ""
           }
          },
          "colorscale": {
           "diverging": [
            [
             0,
             "#8e0152"
            ],
            [
             0.1,
             "#c51b7d"
            ],
            [
             0.2,
             "#de77ae"
            ],
            [
             0.3,
             "#f1b6da"
            ],
            [
             0.4,
             "#fde0ef"
            ],
            [
             0.5,
             "#f7f7f7"
            ],
            [
             0.6,
             "#e6f5d0"
            ],
            [
             0.7,
             "#b8e186"
            ],
            [
             0.8,
             "#7fbc41"
            ],
            [
             0.9,
             "#4d9221"
            ],
            [
             1,
             "#276419"
            ]
           ],
           "sequential": [
            [
             0,
             "#0d0887"
            ],
            [
             0.1111111111111111,
             "#46039f"
            ],
            [
             0.2222222222222222,
             "#7201a8"
            ],
            [
             0.3333333333333333,
             "#9c179e"
            ],
            [
             0.4444444444444444,
             "#bd3786"
            ],
            [
             0.5555555555555556,
             "#d8576b"
            ],
            [
             0.6666666666666666,
             "#ed7953"
            ],
            [
             0.7777777777777778,
             "#fb9f3a"
            ],
            [
             0.8888888888888888,
             "#fdca26"
            ],
            [
             1,
             "#f0f921"
            ]
           ],
           "sequentialminus": [
            [
             0,
             "#0d0887"
            ],
            [
             0.1111111111111111,
             "#46039f"
            ],
            [
             0.2222222222222222,
             "#7201a8"
            ],
            [
             0.3333333333333333,
             "#9c179e"
            ],
            [
             0.4444444444444444,
             "#bd3786"
            ],
            [
             0.5555555555555556,
             "#d8576b"
            ],
            [
             0.6666666666666666,
             "#ed7953"
            ],
            [
             0.7777777777777778,
             "#fb9f3a"
            ],
            [
             0.8888888888888888,
             "#fdca26"
            ],
            [
             1,
             "#f0f921"
            ]
           ]
          },
          "colorway": [
           "#636efa",
           "#EF553B",
           "#00cc96",
           "#ab63fa",
           "#FFA15A",
           "#19d3f3",
           "#FF6692",
           "#B6E880",
           "#FF97FF",
           "#FECB52"
          ],
          "font": {
           "color": "#2a3f5f"
          },
          "geo": {
           "bgcolor": "white",
           "lakecolor": "white",
           "landcolor": "white",
           "showlakes": true,
           "showland": true,
           "subunitcolor": "#C8D4E3"
          },
          "hoverlabel": {
           "align": "left"
          },
          "hovermode": "closest",
          "mapbox": {
           "style": "light"
          },
          "paper_bgcolor": "white",
          "plot_bgcolor": "white",
          "polar": {
           "angularaxis": {
            "gridcolor": "#EBF0F8",
            "linecolor": "#EBF0F8",
            "ticks": ""
           },
           "bgcolor": "white",
           "radialaxis": {
            "gridcolor": "#EBF0F8",
            "linecolor": "#EBF0F8",
            "ticks": ""
           }
          },
          "scene": {
           "xaxis": {
            "backgroundcolor": "white",
            "gridcolor": "#DFE8F3",
            "gridwidth": 2,
            "linecolor": "#EBF0F8",
            "showbackground": true,
            "ticks": "",
            "zerolinecolor": "#EBF0F8"
           },
           "yaxis": {
            "backgroundcolor": "white",
            "gridcolor": "#DFE8F3",
            "gridwidth": 2,
            "linecolor": "#EBF0F8",
            "showbackground": true,
            "ticks": "",
            "zerolinecolor": "#EBF0F8"
           },
           "zaxis": {
            "backgroundcolor": "white",
            "gridcolor": "#DFE8F3",
            "gridwidth": 2,
            "linecolor": "#EBF0F8",
            "showbackground": true,
            "ticks": "",
            "zerolinecolor": "#EBF0F8"
           }
          },
          "shapedefaults": {
           "line": {
            "color": "#2a3f5f"
           }
          },
          "ternary": {
           "aaxis": {
            "gridcolor": "#DFE8F3",
            "linecolor": "#A2B1C6",
            "ticks": ""
           },
           "baxis": {
            "gridcolor": "#DFE8F3",
            "linecolor": "#A2B1C6",
            "ticks": ""
           },
           "bgcolor": "white",
           "caxis": {
            "gridcolor": "#DFE8F3",
            "linecolor": "#A2B1C6",
            "ticks": ""
           }
          },
          "title": {
           "x": 0.05
          },
          "xaxis": {
           "automargin": true,
           "gridcolor": "#EBF0F8",
           "linecolor": "#EBF0F8",
           "ticks": "",
           "title": {
            "standoff": 15
           },
           "zerolinecolor": "#EBF0F8",
           "zerolinewidth": 2
          },
          "yaxis": {
           "automargin": true,
           "gridcolor": "#EBF0F8",
           "linecolor": "#EBF0F8",
           "ticks": "",
           "title": {
            "standoff": 15
           },
           "zerolinecolor": "#EBF0F8",
           "zerolinewidth": 2
          }
         }
        },
        "width": 800,
        "xaxis": {
         "anchor": "y",
         "autorange": true,
         "domain": [
          0,
          0.27999999999999997
         ],
         "range": [
          -1.0250000000000001,
          1.025
         ],
         "title": {
          "text": "corr"
         },
         "type": "linear"
        },
        "xaxis2": {
         "anchor": "y2",
         "autorange": true,
         "domain": [
          0.35,
          0.6299999999999999
         ],
         "matches": "x",
         "range": [
          -1.0250000000000001,
          1.025
         ],
         "title": {
          "text": "corr"
         },
         "type": "linear"
        },
        "xaxis3": {
         "anchor": "y3",
         "autorange": true,
         "domain": [
          0.7,
          0.98
         ],
         "matches": "x",
         "range": [
          -1.0250000000000001,
          1.025
         ],
         "title": {
          "text": "corr"
         },
         "type": "linear"
        },
        "xaxis4": {
         "anchor": "y4",
         "autorange": true,
         "domain": [
          0,
          0.27999999999999997
         ],
         "matches": "x",
         "range": [
          -1.0250000000000001,
          1.025
         ],
         "showticklabels": false,
         "type": "linear"
        },
        "xaxis5": {
         "anchor": "y5",
         "autorange": true,
         "domain": [
          0.35,
          0.6299999999999999
         ],
         "matches": "x",
         "range": [
          -1.0250000000000001,
          1.025
         ],
         "showticklabels": false,
         "type": "linear"
        },
        "xaxis6": {
         "anchor": "y6",
         "autorange": true,
         "domain": [
          0.7,
          0.98
         ],
         "matches": "x",
         "range": [
          -1.0250000000000001,
          1.025
         ],
         "showticklabels": false,
         "type": "linear"
        },
        "yaxis": {
         "anchor": "x",
         "autorange": true,
         "domain": [
          0,
          0.485
         ],
         "range": [
          0,
          48.421052631578945
         ],
         "title": {
          "text": "count"
         }
        },
        "yaxis2": {
         "anchor": "x2",
         "autorange": true,
         "domain": [
          0,
          0.485
         ],
         "matches": "y",
         "range": [
          0,
          48.421052631578945
         ],
         "showticklabels": false
        },
        "yaxis3": {
         "anchor": "x3",
         "autorange": true,
         "domain": [
          0,
          0.485
         ],
         "matches": "y",
         "range": [
          0,
          48.421052631578945
         ],
         "showticklabels": false
        },
        "yaxis4": {
         "anchor": "x4",
         "autorange": true,
         "domain": [
          0.515,
          1
         ],
         "matches": "y",
         "range": [
          0,
          48.421052631578945
         ],
         "title": {
          "text": "count"
         }
        },
        "yaxis5": {
         "anchor": "x5",
         "autorange": true,
         "domain": [
          0.515,
          1
         ],
         "matches": "y",
         "range": [
          0,
          48.421052631578945
         ],
         "showticklabels": false
        },
        "yaxis6": {
         "anchor": "x6",
         "autorange": true,
         "domain": [
          0.515,
          1
         ],
         "matches": "y",
         "range": [
          0,
          48.421052631578945
         ],
         "showticklabels": false
        }
       }
      },
      "image/png": "[encoded data removed]",
      "text/html": [
       "<div>                            <div id=\"1463a4cf-e686-47e2-83dc-90b0bd4e9874\" class=\"plotly-graph-div\" style=\"height:500px; width:800px;\"></div>            <script type=\"text/javascript\">                require([\"plotly\"], function(Plotly) {                    window.PLOTLYENV=window.PLOTLYENV || {};                                    if (document.getElementById(\"1463a4cf-e686-47e2-83dc-90b0bd4e9874\")) {                    Plotly.newPlot(                        \"1463a4cf-e686-47e2-83dc-90b0bd4e9874\",                        [{\"alignmentgroup\":\"True\",\"bingroup\":\"x\",\"hovertemplate\":\"absolute_error_class=\\u003c 0.6\\u003cbr\\u003eattribution_method=SME\\u003cbr\\u003ecorr=%{x}\\u003cbr\\u003ecount=%{y}\\u003cextra\\u003e\\u003c\\u002fextra\\u003e\",\"legendgroup\":\"\",\"marker\":{\"color\":\"#636efa\",\"pattern\":{\"shape\":\"\"}},\"name\":\"\",\"nbinsx\":100,\"offsetgroup\":\"\",\"orientation\":\"v\",\"showlegend\":false,\"x\":[1.0,1.0,1.0,1.0,1.0,0.5,0.5,1.0,0.6666666666666666,1.0,1.0,1.0,1.0,1.0,1.0,1.0,1.0,1.0,-1.0,1.0,1.0,1.0,1.0,1.0,1.0,1.0,1.0,1.0,1.0,1.0,0.5642880936468347,1.0,-0.5789473684210527,0.8947368421052632,1.0,0.7,0.917662935482247,-0.5,1.0,0.917662935482247,1.0,-1.0,1.0,0.816496580927726,-1.0,0.8,1.0,0.7071067811865475,0.7905694150420948,1.0,0.641688947919748,1.0,0.7453559924999299,1.0,1.0,1.0,1.0,1.0,0.5,1.0,0.8944271909999159,0.5,0.3333333333333333,1.0,1.0,1.0,-0.1309307341415954,0.7254762501100117,0.917662935482247,1.0,1.0,1.0],\"xaxis\":\"x4\",\"yaxis\":\"y4\",\"type\":\"histogram\"},{\"alignmentgroup\":\"True\",\"bingroup\":\"x\",\"hovertemplate\":\"absolute_error_class=\\u003c 0.6\\u003cbr\\u003eattribution_method=Shapley\\u003cbr\\u003ecorr=%{x}\\u003cbr\\u003ecount=%{y}\\u003cextra\\u003e\\u003c\\u002fextra\\u003e\",\"legendgroup\":\"\",\"marker\":{\"color\":\"#636efa\",\"pattern\":{\"shape\":\"\"}},\"name\":\"\",\"nbinsx\":100,\"offsetgroup\":\"\",\"orientation\":\"v\",\"showlegend\":false,\"x\":[1.0,1.0,1.0,1.0,1.0,0.5,0.5,1.0,0.7777777777777778,1.0,1.0,1.0,1.0,1.0,1.0,1.0,1.0,1.0,-1.0,1.0,1.0,1.0,1.0,1.0,1.0,1.0,1.0,1.0,1.0,1.0,-0.1538967528127731,1.0,-0.5642880936468347,0.8947368421052632,1.0,0.9,0.917662935482247,0.5,1.0,1.0,1.0,-1.0,0.5,0.816496580927726,-1.0,0.8,1.0,0.7071067811865475,0.7905694150420948,1.0,0.641688947919748,1.0,0.7453559924999299,1.0,1.0,1.0,1.0,1.0,0.5,1.0,0.8944271909999159,0.5,0.3333333333333333,1.0,1.0,0.5,-0.1309307341415954,0.7254762501100117,1.0,1.0,1.0,1.0],\"xaxis\":\"x5\",\"yaxis\":\"y5\",\"type\":\"histogram\"},{\"alignmentgroup\":\"True\",\"bingroup\":\"x\",\"hovertemplate\":\"absolute_error_class=\\u003c 0.6\\u003cbr\\u003eattribution_method=HN\\u003cbr\\u003ecorr=%{x}\\u003cbr\\u003ecount=%{y}\\u003cextra\\u003e\\u003c\\u002fextra\\u003e\",\"legendgroup\":\"\",\"marker\":{\"color\":\"#636efa\",\"pattern\":{\"shape\":\"\"}},\"name\":\"\",\"nbinsx\":100,\"offsetgroup\":\"\",\"orientation\":\"v\",\"showlegend\":false,\"x\":[1.0,1.0,1.0,1.0,1.0,0.5,0.5,1.0,0.6666666666666666,1.0,1.0,1.0,1.0,1.0,1.0,1.0,1.0,1.0,-1.0,1.0,1.0,1.0,1.0,1.0,1.0,1.0,1.0,1.0,1.0,1.0,-0.1578947368421052,1.0,-0.5789473684210527,0.8947368421052632,1.0,0.7,0.917662935482247,-0.5,1.0,1.0,1.0,-1.0,0.5,0.816496580927726,-1.0,0.4,1.0,0.7071067811865475,0.7905694150420948,1.0,0.641688947919748,1.0,0.7453559924999299,1.0,1.0,1.0,1.0,1.0,0.5,1.0,0.8944271909999159,0.5,0.3333333333333333,1.0,1.0,0.5,0.6546536707079772,0.7254762501100117,1.0,1.0,1.0,1.0],\"xaxis\":\"x6\",\"yaxis\":\"y6\",\"type\":\"histogram\"},{\"alignmentgroup\":\"True\",\"bingroup\":\"x\",\"hovertemplate\":\"absolute_error_class=\\u003e= 0.6\\u003cbr\\u003eattribution_method=SME\\u003cbr\\u003ecorr=%{x}\\u003cbr\\u003ecount=%{y}\\u003cextra\\u003e\\u003c\\u002fextra\\u003e\",\"legendgroup\":\"\",\"marker\":{\"color\":\"#636efa\",\"pattern\":{\"shape\":\"\"}},\"name\":\"\",\"nbinsx\":100,\"offsetgroup\":\"\",\"orientation\":\"v\",\"showlegend\":false,\"x\":[1.0,1.0,1.0,1.0,1.0,-1.0,0.6842105263157895,-1.0,1.0,0.8867924528301887,1.0,-1.0,0.6071428571428571,0.0857142857142857,-0.0285714285714285,0.6981132075471698,-0.7378647873726218,0.9710083124552245,-0.0895622151039798,1.0,1.0,1.0,0.5,0.9,0.7758801774444581,1.0,1.0,0.5368515688594936],\"xaxis\":\"x\",\"yaxis\":\"y\",\"type\":\"histogram\"},{\"alignmentgroup\":\"True\",\"bingroup\":\"x\",\"hovertemplate\":\"absolute_error_class=\\u003e= 0.6\\u003cbr\\u003eattribution_method=Shapley\\u003cbr\\u003ecorr=%{x}\\u003cbr\\u003ecount=%{y}\\u003cextra\\u003e\\u003c\\u002fextra\\u003e\",\"legendgroup\":\"\",\"marker\":{\"color\":\"#636efa\",\"pattern\":{\"shape\":\"\"}},\"name\":\"\",\"nbinsx\":100,\"offsetgroup\":\"\",\"orientation\":\"v\",\"showlegend\":false,\"x\":[1.0,1.0,1.0,1.0,1.0,-1.0,0.6842105263157895,-1.0,1.0,1.0,1.0,-1.0,0.9285714285714286,0.0857142857142857,-0.0285714285714285,1.0,-0.7378647873726218,0.9710083124552245,-0.0909090909090909,1.0,1.0,1.0,1.0,0.9,0.7758801774444581,1.0,1.0,0.5368515688594936],\"xaxis\":\"x2\",\"yaxis\":\"y2\",\"type\":\"histogram\"},{\"alignmentgroup\":\"True\",\"bingroup\":\"x\",\"hovertemplate\":\"absolute_error_class=\\u003e= 0.6\\u003cbr\\u003eattribution_method=HN\\u003cbr\\u003ecorr=%{x}\\u003cbr\\u003ecount=%{y}\\u003cextra\\u003e\\u003c\\u002fextra\\u003e\",\"legendgroup\":\"\",\"marker\":{\"color\":\"#636efa\",\"pattern\":{\"shape\":\"\"}},\"name\":\"\",\"nbinsx\":100,\"offsetgroup\":\"\",\"orientation\":\"v\",\"showlegend\":false,\"x\":[1.0,1.0,0.9486832980505138,1.0,1.0,-1.0,0.6842105263157895,-1.0,1.0,1.0,1.0,-1.0,0.7857142857142857,0.0285714285714285,-0.0857142857142857,0.9906974722292782,-0.7378647873726218,0.9710083124552245,-0.0909090909090909,1.0,1.0,1.0,1.0,0.9,0.7758801774444581,1.0,1.0,0.5368515688594936],\"xaxis\":\"x3\",\"yaxis\":\"y3\",\"type\":\"histogram\"}],                        {\"template\":{\"data\":{\"histogram2dcontour\":[{\"type\":\"histogram2dcontour\",\"colorbar\":{\"outlinewidth\":0,\"ticks\":\"\"},\"colorscale\":[[0.0,\"#0d0887\"],[0.1111111111111111,\"#46039f\"],[0.2222222222222222,\"#7201a8\"],[0.3333333333333333,\"#9c179e\"],[0.4444444444444444,\"#bd3786\"],[0.5555555555555556,\"#d8576b\"],[0.6666666666666666,\"#ed7953\"],[0.7777777777777778,\"#fb9f3a\"],[0.8888888888888888,\"#fdca26\"],[1.0,\"#f0f921\"]]}],\"choropleth\":[{\"type\":\"choropleth\",\"colorbar\":{\"outlinewidth\":0,\"ticks\":\"\"}}],\"histogram2d\":[{\"type\":\"histogram2d\",\"colorbar\":{\"outlinewidth\":0,\"ticks\":\"\"},\"colorscale\":[[0.0,\"#0d0887\"],[0.1111111111111111,\"#46039f\"],[0.2222222222222222,\"#7201a8\"],[0.3333333333333333,\"#9c179e\"],[0.4444444444444444,\"#bd3786\"],[0.5555555555555556,\"#d8576b\"],[0.6666666666666666,\"#ed7953\"],[0.7777777777777778,\"#fb9f3a\"],[0.8888888888888888,\"#fdca26\"],[1.0,\"#f0f921\"]]}],\"heatmap\":[{\"type\":\"heatmap\",\"colorbar\":{\"outlinewidth\":0,\"ticks\":\"\"},\"colorscale\":[[0.0,\"#0d0887\"],[0.1111111111111111,\"#46039f\"],[0.2222222222222222,\"#7201a8\"],[0.3333333333333333,\"#9c179e\"],[0.4444444444444444,\"#bd3786\"],[0.5555555555555556,\"#d8576b\"],[0.6666666666666666,\"#ed7953\"],[0.7777777777777778,\"#fb9f3a\"],[0.8888888888888888,\"#fdca26\"],[1.0,\"#f0f921\"]]}],\"heatmapgl\":[{\"type\":\"heatmapgl\",\"colorbar\":{\"outlinewidth\":0,\"ticks\":\"\"},\"colorscale\":[[0.0,\"#0d0887\"],[0.1111111111111111,\"#46039f\"],[0.2222222222222222,\"#7201a8\"],[0.3333333333333333,\"#9c179e\"],[0.4444444444444444,\"#bd3786\"],[0.5555555555555556,\"#d8576b\"],[0.6666666666666666,\"#ed7953\"],[0.7777777777777778,\"#fb9f3a\"],[0.8888888888888888,\"#fdca26\"],[1.0,\"#f0f921\"]]}],\"contourcarpet\":[{\"type\":\"contourcarpet\",\"colorbar\":{\"outlinewidth\":0,\"ticks\":\"\"}}],\"contour\":[{\"type\":\"contour\",\"colorbar\":{\"outlinewidth\":0,\"ticks\":\"\"},\"colorscale\":[[0.0,\"#0d0887\"],[0.1111111111111111,\"#46039f\"],[0.2222222222222222,\"#7201a8\"],[0.3333333333333333,\"#9c179e\"],[0.4444444444444444,\"#bd3786\"],[0.5555555555555556,\"#d8576b\"],[0.6666666666666666,\"#ed7953\"],[0.7777777777777778,\"#fb9f3a\"],[0.8888888888888888,\"#fdca26\"],[1.0,\"#f0f921\"]]}],\"surface\":[{\"type\":\"surface\",\"colorbar\":{\"outlinewidth\":0,\"ticks\":\"\"},\"colorscale\":[[0.0,\"#0d0887\"],[0.1111111111111111,\"#46039f\"],[0.2222222222222222,\"#7201a8\"],[0.3333333333333333,\"#9c179e\"],[0.4444444444444444,\"#bd3786\"],[0.5555555555555556,\"#d8576b\"],[0.6666666666666666,\"#ed7953\"],[0.7777777777777778,\"#fb9f3a\"],[0.8888888888888888,\"#fdca26\"],[1.0,\"#f0f921\"]]}],\"mesh3d\":[{\"type\":\"mesh3d\",\"colorbar\":{\"outlinewidth\":0,\"ticks\":\"\"}}],\"scatter\":[{\"fillpattern\":{\"fillmode\":\"overlay\",\"size\":10,\"solidity\":0.2},\"type\":\"scatter\"}],\"parcoords\":[{\"type\":\"parcoords\",\"line\":{\"colorbar\":{\"outlinewidth\":0,\"ticks\":\"\"}}}],\"scatterpolargl\":[{\"type\":\"scatterpolargl\",\"marker\":{\"colorbar\":{\"outlinewidth\":0,\"ticks\":\"\"}}}],\"bar\":[{\"error_x\":{\"color\":\"#2a3f5f\"},\"error_y\":{\"color\":\"#2a3f5f\"},\"marker\":{\"line\":{\"color\":\"white\",\"width\":0.5},\"pattern\":{\"fillmode\":\"overlay\",\"size\":10,\"solidity\":0.2}},\"type\":\"bar\"}],\"scattergeo\":[{\"type\":\"scattergeo\",\"marker\":{\"colorbar\":{\"outlinewidth\":0,\"ticks\":\"\"}}}],\"scatterpolar\":[{\"type\":\"scatterpolar\",\"marker\":{\"colorbar\":{\"outlinewidth\":0,\"ticks\":\"\"}}}],\"histogram\":[{\"marker\":{\"pattern\":{\"fillmode\":\"overlay\",\"size\":10,\"solidity\":0.2}},\"type\":\"histogram\"}],\"scattergl\":[{\"type\":\"scattergl\",\"marker\":{\"colorbar\":{\"outlinewidth\":0,\"ticks\":\"\"}}}],\"scatter3d\":[{\"type\":\"scatter3d\",\"line\":{\"colorbar\":{\"outlinewidth\":0,\"ticks\":\"\"}},\"marker\":{\"colorbar\":{\"outlinewidth\":0,\"ticks\":\"\"}}}],\"scattermapbox\":[{\"type\":\"scattermapbox\",\"marker\":{\"colorbar\":{\"outlinewidth\":0,\"ticks\":\"\"}}}],\"scatterternary\":[{\"type\":\"scatterternary\",\"marker\":{\"colorbar\":{\"outlinewidth\":0,\"ticks\":\"\"}}}],\"scattercarpet\":[{\"type\":\"scattercarpet\",\"marker\":{\"colorbar\":{\"outlinewidth\":0,\"ticks\":\"\"}}}],\"carpet\":[{\"aaxis\":{\"endlinecolor\":\"#2a3f5f\",\"gridcolor\":\"#C8D4E3\",\"linecolor\":\"#C8D4E3\",\"minorgridcolor\":\"#C8D4E3\",\"startlinecolor\":\"#2a3f5f\"},\"baxis\":{\"endlinecolor\":\"#2a3f5f\",\"gridcolor\":\"#C8D4E3\",\"linecolor\":\"#C8D4E3\",\"minorgridcolor\":\"#C8D4E3\",\"startlinecolor\":\"#2a3f5f\"},\"type\":\"carpet\"}],\"table\":[{\"cells\":{\"fill\":{\"color\":\"#EBF0F8\"},\"line\":{\"color\":\"white\"}},\"header\":{\"fill\":{\"color\":\"#C8D4E3\"},\"line\":{\"color\":\"white\"}},\"type\":\"table\"}],\"barpolar\":[{\"marker\":{\"line\":{\"color\":\"white\",\"width\":0.5},\"pattern\":{\"fillmode\":\"overlay\",\"size\":10,\"solidity\":0.2}},\"type\":\"barpolar\"}],\"pie\":[{\"automargin\":true,\"type\":\"pie\"}]},\"layout\":{\"autotypenumbers\":\"strict\",\"colorway\":[\"#636efa\",\"#EF553B\",\"#00cc96\",\"#ab63fa\",\"#FFA15A\",\"#19d3f3\",\"#FF6692\",\"#B6E880\",\"#FF97FF\",\"#FECB52\"],\"font\":{\"color\":\"#2a3f5f\"},\"hovermode\":\"closest\",\"hoverlabel\":{\"align\":\"left\"},\"paper_bgcolor\":\"white\",\"plot_bgcolor\":\"white\",\"polar\":{\"bgcolor\":\"white\",\"angularaxis\":{\"gridcolor\":\"#EBF0F8\",\"linecolor\":\"#EBF0F8\",\"ticks\":\"\"},\"radialaxis\":{\"gridcolor\":\"#EBF0F8\",\"linecolor\":\"#EBF0F8\",\"ticks\":\"\"}},\"ternary\":{\"bgcolor\":\"white\",\"aaxis\":{\"gridcolor\":\"#DFE8F3\",\"linecolor\":\"#A2B1C6\",\"ticks\":\"\"},\"baxis\":{\"gridcolor\":\"#DFE8F3\",\"linecolor\":\"#A2B1C6\",\"ticks\":\"\"},\"caxis\":{\"gridcolor\":\"#DFE8F3\",\"linecolor\":\"#A2B1C6\",\"ticks\":\"\"}},\"coloraxis\":{\"colorbar\":{\"outlinewidth\":0,\"ticks\":\"\"}},\"colorscale\":{\"sequential\":[[0.0,\"#0d0887\"],[0.1111111111111111,\"#46039f\"],[0.2222222222222222,\"#7201a8\"],[0.3333333333333333,\"#9c179e\"],[0.4444444444444444,\"#bd3786\"],[0.5555555555555556,\"#d8576b\"],[0.6666666666666666,\"#ed7953\"],[0.7777777777777778,\"#fb9f3a\"],[0.8888888888888888,\"#fdca26\"],[1.0,\"#f0f921\"]],\"sequentialminus\":[[0.0,\"#0d0887\"],[0.1111111111111111,\"#46039f\"],[0.2222222222222222,\"#7201a8\"],[0.3333333333333333,\"#9c179e\"],[0.4444444444444444,\"#bd3786\"],[0.5555555555555556,\"#d8576b\"],[0.6666666666666666,\"#ed7953\"],[0.7777777777777778,\"#fb9f3a\"],[0.8888888888888888,\"#fdca26\"],[1.0,\"#f0f921\"]],\"diverging\":[[0,\"#8e0152\"],[0.1,\"#c51b7d\"],[0.2,\"#de77ae\"],[0.3,\"#f1b6da\"],[0.4,\"#fde0ef\"],[0.5,\"#f7f7f7\"],[0.6,\"#e6f5d0\"],[0.7,\"#b8e186\"],[0.8,\"#7fbc41\"],[0.9,\"#4d9221\"],[1,\"#276419\"]]},\"xaxis\":{\"gridcolor\":\"#EBF0F8\",\"linecolor\":\"#EBF0F8\",\"ticks\":\"\",\"title\":{\"standoff\":15},\"zerolinecolor\":\"#EBF0F8\",\"automargin\":true,\"zerolinewidth\":2},\"yaxis\":{\"gridcolor\":\"#EBF0F8\",\"linecolor\":\"#EBF0F8\",\"ticks\":\"\",\"title\":{\"standoff\":15},\"zerolinecolor\":\"#EBF0F8\",\"automargin\":true,\"zerolinewidth\":2},\"scene\":{\"xaxis\":{\"backgroundcolor\":\"white\",\"gridcolor\":\"#DFE8F3\",\"linecolor\":\"#EBF0F8\",\"showbackground\":true,\"ticks\":\"\",\"zerolinecolor\":\"#EBF0F8\",\"gridwidth\":2},\"yaxis\":{\"backgroundcolor\":\"white\",\"gridcolor\":\"#DFE8F3\",\"linecolor\":\"#EBF0F8\",\"showbackground\":true,\"ticks\":\"\",\"zerolinecolor\":\"#EBF0F8\",\"gridwidth\":2},\"zaxis\":{\"backgroundcolor\":\"white\",\"gridcolor\":\"#DFE8F3\",\"linecolor\":\"#EBF0F8\",\"showbackground\":true,\"ticks\":\"\",\"zerolinecolor\":\"#EBF0F8\",\"gridwidth\":2}},\"shapedefaults\":{\"line\":{\"color\":\"#2a3f5f\"}},\"annotationdefaults\":{\"arrowcolor\":\"#2a3f5f\",\"arrowhead\":0,\"arrowwidth\":1},\"geo\":{\"bgcolor\":\"white\",\"landcolor\":\"white\",\"subunitcolor\":\"#C8D4E3\",\"showland\":true,\"showlakes\":true,\"lakecolor\":\"white\"},\"title\":{\"x\":0.05},\"mapbox\":{\"style\":\"light\"}}},\"xaxis\":{\"anchor\":\"y\",\"domain\":[0.0,0.27999999999999997],\"title\":{\"text\":\"corr\"}},\"yaxis\":{\"anchor\":\"x\",\"domain\":[0.0,0.485],\"title\":{\"text\":\"count\"}},\"xaxis2\":{\"anchor\":\"y2\",\"domain\":[0.35,0.6299999999999999],\"matches\":\"x\",\"title\":{\"text\":\"corr\"}},\"yaxis2\":{\"anchor\":\"x2\",\"domain\":[0.0,0.485],\"matches\":\"y\",\"showticklabels\":false},\"xaxis3\":{\"anchor\":\"y3\",\"domain\":[0.7,0.98],\"matches\":\"x\",\"title\":{\"text\":\"corr\"}},\"yaxis3\":{\"anchor\":\"x3\",\"domain\":[0.0,0.485],\"matches\":\"y\",\"showticklabels\":false},\"xaxis4\":{\"anchor\":\"y4\",\"domain\":[0.0,0.27999999999999997],\"matches\":\"x\",\"showticklabels\":false},\"yaxis4\":{\"anchor\":\"x4\",\"domain\":[0.515,1.0],\"matches\":\"y\",\"title\":{\"text\":\"count\"}},\"xaxis5\":{\"anchor\":\"y5\",\"domain\":[0.35,0.6299999999999999],\"matches\":\"x\",\"showticklabels\":false},\"yaxis5\":{\"anchor\":\"x5\",\"domain\":[0.515,1.0],\"matches\":\"y\",\"showticklabels\":false},\"xaxis6\":{\"anchor\":\"y6\",\"domain\":[0.7,0.98],\"matches\":\"x\",\"showticklabels\":false},\"yaxis6\":{\"anchor\":\"x6\",\"domain\":[0.515,1.0],\"matches\":\"y\",\"showticklabels\":false},\"annotations\":[{\"font\":{},\"showarrow\":false,\"text\":\"SME\",\"x\":0.13999999999999999,\"xanchor\":\"center\",\"xref\":\"paper\",\"y\":1.0,\"yanchor\":\"bottom\",\"yref\":\"paper\"},{\"font\":{},\"showarrow\":false,\"text\":\"Shapley\",\"x\":0.48999999999999994,\"xanchor\":\"center\",\"xref\":\"paper\",\"y\":1.0,\"yanchor\":\"bottom\",\"yref\":\"paper\"},{\"font\":{},\"showarrow\":false,\"text\":\"HN\",\"x\":0.84,\"xanchor\":\"center\",\"xref\":\"paper\",\"y\":1.0,\"yanchor\":\"bottom\",\"yref\":\"paper\"},{\"font\":{},\"showarrow\":false,\"text\":\"\\t AE \\u003e= 0.6\",\"textangle\":0,\"x\":0.98,\"xanchor\":\"left\",\"xref\":\"paper\",\"y\":0.2425,\"yanchor\":\"middle\",\"yref\":\"paper\"},{\"font\":{},\"showarrow\":false,\"text\":\"\\t AE \\u003c 0.6\",\"textangle\":0,\"x\":0.98,\"xanchor\":\"left\",\"xref\":\"paper\",\"y\":0.7575000000000001,\"yanchor\":\"middle\",\"yref\":\"paper\"}],\"legend\":{\"tracegroupgap\":0},\"margin\":{\"t\":60,\"r\":150},\"barmode\":\"relative\",\"font\":{\"family\":\"times new roman\",\"size\":20},\"autosize\":false,\"width\":800,\"height\":500},                        {\"responsive\": true}                    ).then(function(){\n",
       "                            \n",
       "var gd = document.getElementById('1463a4cf-e686-47e2-83dc-90b0bd4e9874');\n",
       "var x = new MutationObserver(function (mutations, observer) {{\n",
       "        var display = window.getComputedStyle(gd).display;\n",
       "        if (!display || display === 'none') {{\n",
       "            console.log([gd, 'removed!']);\n",
       "            Plotly.purge(gd);\n",
       "            observer.disconnect();\n",
       "        }}\n",
       "}});\n",
       "\n",
       "// Listen for the removal of the full notebook cells\n",
       "var notebookContainer = gd.closest('#notebook-container');\n",
       "if (notebookContainer) {{\n",
       "    x.observe(notebookContainer, {childList: true});\n",
       "}}\n",
       "\n",
       "// Listen for the clearing of the current output cell\n",
       "var outputEl = gd.closest('.output');\n",
       "if (outputEl) {{\n",
       "    x.observe(outputEl, {childList: true});\n",
       "}}\n",
       "\n",
       "                        })                };                });            </script>        </div>"
      ]
     },
     "metadata": {},
     "output_type": "display_data"
    }
   ],
   "source": [
    "def annotate(a):\n",
    "\n",
    "    if a.text.split(\"=\")[-1] in df_long.attribution_method.unique():\n",
    "        return a.update(text=a.text.split(\"=\")[-1])\n",
    "    \n",
    "    if a.text.split(\"=\", 1)[-1] in df_long.absolute_error_class.unique(): \n",
    "        return a.update(text=f\"\\t AE {a.text.split('=', 1)[-1]}\", textangle=0)\n",
    "\n",
    "    return  a.update(text=a.text.split(\"=\")[-1])\n",
    "\n",
    "fig = px.histogram(\n",
    "    df_long, \n",
    "    x=\"corr\", \n",
    "    facet_row=\"absolute_error_class\", \n",
    "    facet_col=\"attribution_method\",\n",
    "    nbins=100,\n",
    "    facet_col_spacing=0.07\n",
    ")\n",
    "\n",
    "fig.update_layout(\n",
    "    autosize=False, \n",
    "    width=800, \n",
    "    height=500,\n",
    "    font=dict(\n",
    "        family=\"times new roman\",\n",
    "        size=20\n",
    "    ),\n",
    "    margin={\"r\": 150},\n",
    ")\n",
    "fig.for_each_annotation(annotate)\n",
    "fig.show()"
   ]
  },
  {
   "cell_type": "markdown",
   "id": "5b0e287d-4973-472b-9baa-f7f2a61317f2",
   "metadata": {},
   "source": [
    "# Other"
   ]
  },
  {
   "cell_type": "code",
   "execution_count": 73,
   "id": "774091b6-9294-4098-8c29-3cb407cc57ef",
   "metadata": {},
   "outputs": [
    {
     "data": {
      "text/html": [
       "<div>\n",
       "<style scoped>\n",
       "    .dataframe tbody tr th:only-of-type {\n",
       "        vertical-align: middle;\n",
       "    }\n",
       "\n",
       "    .dataframe tbody tr th {\n",
       "        vertical-align: top;\n",
       "    }\n",
       "\n",
       "    .dataframe thead th {\n",
       "        text-align: right;\n",
       "    }\n",
       "</style>\n",
       "<table border=\"1\" class=\"dataframe\">\n",
       "  <thead>\n",
       "    <tr style=\"text-align: right;\">\n",
       "      <th></th>\n",
       "      <th>molecule_smiles</th>\n",
       "      <th>atom_ids</th>\n",
       "      <th>substruct_smiles</th>\n",
       "      <th>masked_prediction</th>\n",
       "      <th>SME</th>\n",
       "      <th>non_masked_prediction</th>\n",
       "      <th>time_SME</th>\n",
       "      <th>HN_value</th>\n",
       "      <th>time_HN_value</th>\n",
       "      <th>Shapley_value</th>\n",
       "      <th>time_Shapley_value</th>\n",
       "    </tr>\n",
       "  </thead>\n",
       "  <tbody>\n",
       "    <tr>\n",
       "      <th>0</th>\n",
       "      <td>O=C(Nc1ccccc1)Nc1ccccc1</td>\n",
       "      <td>[0, 1, 2, 3, 4, 5, 6, 7, 8, 9, 10, 11, 12, 13,...</td>\n",
       "      <td>scaffold</td>\n",
       "      <td>-0.016130</td>\n",
       "      <td>-3.289866</td>\n",
       "      <td>-3.305996</td>\n",
       "      <td>0.507586</td>\n",
       "      <td>-0.178886</td>\n",
       "      <td>0.019148</td>\n",
       "      <td>-0.178886</td>\n",
       "      <td>0.018450</td>\n",
       "    </tr>\n",
       "    <tr>\n",
       "      <th>1</th>\n",
       "      <td>CC</td>\n",
       "      <td>[0, 1]</td>\n",
       "      <td>scaffold</td>\n",
       "      <td>-0.016130</td>\n",
       "      <td>-1.215026</td>\n",
       "      <td>-1.231156</td>\n",
       "      <td>0.586246</td>\n",
       "      <td>1.895954</td>\n",
       "      <td>0.016790</td>\n",
       "      <td>1.895954</td>\n",
       "      <td>0.016012</td>\n",
       "    </tr>\n",
       "    <tr>\n",
       "      <th>2</th>\n",
       "      <td>C=C(Br)CC1(C(C)CC)C(=O)NC(=O)NC1=O</td>\n",
       "      <td>[2]</td>\n",
       "      <td>[F,Cl,Br,I]</td>\n",
       "      <td>-2.427787</td>\n",
       "      <td>-0.230768</td>\n",
       "      <td>-2.658555</td>\n",
       "      <td>0.514224</td>\n",
       "      <td>1.127742</td>\n",
       "      <td>0.033316</td>\n",
       "      <td>1.127742</td>\n",
       "      <td>0.020878</td>\n",
       "    </tr>\n",
       "    <tr>\n",
       "      <th>3</th>\n",
       "      <td>C=C(Br)CC1(C(C)CC)C(=O)NC(=O)NC1=O</td>\n",
       "      <td>[0, 1, 3, 4, 5, 6, 7, 8, 9, 10, 11, 12, 13, 14...</td>\n",
       "      <td>scaffold</td>\n",
       "      <td>-0.640858</td>\n",
       "      <td>-2.017697</td>\n",
       "      <td>-2.658555</td>\n",
       "      <td>0.514224</td>\n",
       "      <td>-0.659187</td>\n",
       "      <td>0.033316</td>\n",
       "      <td>-0.659187</td>\n",
       "      <td>0.020878</td>\n",
       "    </tr>\n",
       "    <tr>\n",
       "      <th>4</th>\n",
       "      <td>CCOP(=O)(OCC)OCC</td>\n",
       "      <td>[2, 1, 0]</td>\n",
       "      <td>[O;D2]-[C;D2;H2]-[C;D1;H3]</td>\n",
       "      <td>0.837026</td>\n",
       "      <td>-0.066676</td>\n",
       "      <td>0.770350</td>\n",
       "      <td>0.520714</td>\n",
       "      <td>1.564508</td>\n",
       "      <td>0.032584</td>\n",
       "      <td>0.759398</td>\n",
       "      <td>0.019698</td>\n",
       "    </tr>\n",
       "  </tbody>\n",
       "</table>\n",
       "</div>"
      ],
      "text/plain": [
       "                      molecule_smiles  \\\n",
       "0             O=C(Nc1ccccc1)Nc1ccccc1   \n",
       "1                                  CC   \n",
       "2  C=C(Br)CC1(C(C)CC)C(=O)NC(=O)NC1=O   \n",
       "3  C=C(Br)CC1(C(C)CC)C(=O)NC(=O)NC1=O   \n",
       "4                    CCOP(=O)(OCC)OCC   \n",
       "\n",
       "                                            atom_ids  \\\n",
       "0  [0, 1, 2, 3, 4, 5, 6, 7, 8, 9, 10, 11, 12, 13,...   \n",
       "1                                             [0, 1]   \n",
       "2                                                [2]   \n",
       "3  [0, 1, 3, 4, 5, 6, 7, 8, 9, 10, 11, 12, 13, 14...   \n",
       "4                                          [2, 1, 0]   \n",
       "\n",
       "             substruct_smiles  masked_prediction       SME  \\\n",
       "0                    scaffold          -0.016130 -3.289866   \n",
       "1                    scaffold          -0.016130 -1.215026   \n",
       "2                 [F,Cl,Br,I]          -2.427787 -0.230768   \n",
       "3                    scaffold          -0.640858 -2.017697   \n",
       "4  [O;D2]-[C;D2;H2]-[C;D1;H3]           0.837026 -0.066676   \n",
       "\n",
       "   non_masked_prediction  time_SME  HN_value  time_HN_value  Shapley_value  \\\n",
       "0              -3.305996  0.507586 -0.178886       0.019148      -0.178886   \n",
       "1              -1.231156  0.586246  1.895954       0.016790       1.895954   \n",
       "2              -2.658555  0.514224  1.127742       0.033316       1.127742   \n",
       "3              -2.658555  0.514224 -0.659187       0.033316      -0.659187   \n",
       "4               0.770350  0.520714  1.564508       0.032584       0.759398   \n",
       "\n",
       "   time_Shapley_value  \n",
       "0            0.018450  \n",
       "1            0.016012  \n",
       "2            0.020878  \n",
       "3            0.020878  \n",
       "4            0.019698  "
      ]
     },
     "execution_count": 73,
     "metadata": {},
     "output_type": "execute_result"
    }
   ],
   "source": [
    "df = pd.read_json(\"../../data/ESOL/attribution_around_mean.json\").rename(\n",
    "    columns={\"functional_group_smarts\": \"substruct_smiles\", \"difference\": \"SME\", \"time_difference\": \"time_SME\"}\n",
    ")\n",
    "df.head()"
   ]
  },
  {
   "cell_type": "code",
   "execution_count": 75,
   "id": "01319b27-755a-467c-88b0-cf42fe5d4724",
   "metadata": {},
   "outputs": [
    {
     "data": {
      "text/html": [
       "<div>\n",
       "<style scoped>\n",
       "    .dataframe tbody tr th:only-of-type {\n",
       "        vertical-align: middle;\n",
       "    }\n",
       "\n",
       "    .dataframe tbody tr th {\n",
       "        vertical-align: top;\n",
       "    }\n",
       "\n",
       "    .dataframe thead th {\n",
       "        text-align: right;\n",
       "    }\n",
       "</style>\n",
       "<table border=\"1\" class=\"dataframe\">\n",
       "  <thead>\n",
       "    <tr style=\"text-align: right;\">\n",
       "      <th></th>\n",
       "      <th>Unnamed: 0</th>\n",
       "      <th>smiles</th>\n",
       "      <th>ESOL</th>\n",
       "      <th>group</th>\n",
       "    </tr>\n",
       "  </thead>\n",
       "  <tbody>\n",
       "    <tr>\n",
       "      <th>0</th>\n",
       "      <td>0</td>\n",
       "      <td>N#CC(OC1OC(COC2OC(CO)C(O)C(O)C2O)C(O)C(O)C1O)c...</td>\n",
       "      <td>-0.77</td>\n",
       "      <td>training</td>\n",
       "    </tr>\n",
       "    <tr>\n",
       "      <th>1</th>\n",
       "      <td>1</td>\n",
       "      <td>Cc1occc1C(=O)Nc1ccccc1</td>\n",
       "      <td>-3.30</td>\n",
       "      <td>training</td>\n",
       "    </tr>\n",
       "    <tr>\n",
       "      <th>2</th>\n",
       "      <td>2</td>\n",
       "      <td>CC(C)=CCCC(C)=CC=O</td>\n",
       "      <td>-2.06</td>\n",
       "      <td>training</td>\n",
       "    </tr>\n",
       "    <tr>\n",
       "      <th>3</th>\n",
       "      <td>3</td>\n",
       "      <td>c1ccc2c(c1)ccc1c2ccc2c3ccccc3ccc21</td>\n",
       "      <td>-7.87</td>\n",
       "      <td>training</td>\n",
       "    </tr>\n",
       "    <tr>\n",
       "      <th>4</th>\n",
       "      <td>4</td>\n",
       "      <td>c1ccsc1</td>\n",
       "      <td>-1.33</td>\n",
       "      <td>training</td>\n",
       "    </tr>\n",
       "  </tbody>\n",
       "</table>\n",
       "</div>"
      ],
      "text/plain": [
       "   Unnamed: 0                                             smiles  ESOL  \\\n",
       "0           0  N#CC(OC1OC(COC2OC(CO)C(O)C(O)C2O)C(O)C(O)C1O)c... -0.77   \n",
       "1           1                             Cc1occc1C(=O)Nc1ccccc1 -3.30   \n",
       "2           2                                 CC(C)=CCCC(C)=CC=O -2.06   \n",
       "3           3                 c1ccc2c(c1)ccc1c2ccc2c3ccccc3ccc21 -7.87   \n",
       "4           4                                            c1ccsc1 -1.33   \n",
       "\n",
       "      group  \n",
       "0  training  \n",
       "1  training  \n",
       "2  training  \n",
       "3  training  \n",
       "4  training  "
      ]
     },
     "execution_count": 75,
     "metadata": {},
     "output_type": "execute_result"
    }
   ],
   "source": [
    "df_train = pd.read_csv(\"../../data/ESOL/ESOL_train.csv\")\n",
    "df_train.head()"
   ]
  },
  {
   "cell_type": "code",
   "execution_count": 81,
   "id": "d2371de8-e6b0-4915-af36-3f917a6eb78d",
   "metadata": {},
   "outputs": [
    {
     "data": {
      "text/plain": [
       "-3.126729149389177"
      ]
     },
     "execution_count": 81,
     "metadata": {},
     "output_type": "execute_result"
    }
   ],
   "source": [
    "df = pd.read_json(\"../../data/ESOL/attribution_functional_groups.json\")\n",
    "\n",
    "pd.merge(\n",
    "    df.drop_duplicates(\"molecule_smiles\"), \n",
    "    df_train, left_on=\"molecule_smiles\", \n",
    "    right_on=\"smiles\", \n",
    "    how=\"right\"\n",
    ").non_masked_prediction.mean()"
   ]
  },
  {
   "cell_type": "code",
   "execution_count": 85,
   "id": "3b1b8fdd-5f73-4e6f-a892-8c3eb96d0798",
   "metadata": {},
   "outputs": [
    {
     "data": {
      "text/html": [
       "<div>\n",
       "<style scoped>\n",
       "    .dataframe tbody tr th:only-of-type {\n",
       "        vertical-align: middle;\n",
       "    }\n",
       "\n",
       "    .dataframe tbody tr th {\n",
       "        vertical-align: top;\n",
       "    }\n",
       "\n",
       "    .dataframe thead th {\n",
       "        text-align: right;\n",
       "    }\n",
       "</style>\n",
       "<table border=\"1\" class=\"dataframe\">\n",
       "  <thead>\n",
       "    <tr style=\"text-align: right;\">\n",
       "      <th></th>\n",
       "      <th>molecule_smiles</th>\n",
       "      <th>atom_ids</th>\n",
       "      <th>substruct_smiles</th>\n",
       "      <th>masked_prediction</th>\n",
       "      <th>SME</th>\n",
       "      <th>non_masked_prediction</th>\n",
       "      <th>time_SME</th>\n",
       "      <th>HN_value</th>\n",
       "      <th>time_HN_value</th>\n",
       "      <th>Shapley_value</th>\n",
       "      <th>time_Shapley_value</th>\n",
       "    </tr>\n",
       "  </thead>\n",
       "  <tbody>\n",
       "    <tr>\n",
       "      <th>0</th>\n",
       "      <td>O=C(Nc1ccccc1)Nc1ccccc1</td>\n",
       "      <td>[0]</td>\n",
       "      <td>R=O</td>\n",
       "      <td>-3.327164</td>\n",
       "      <td>0.021168</td>\n",
       "      <td>-3.305996</td>\n",
       "      <td>0.634704</td>\n",
       "      <td>0.177110</td>\n",
       "      <td>0.046699</td>\n",
       "      <td>0.177110</td>\n",
       "      <td>0.034110</td>\n",
       "    </tr>\n",
       "    <tr>\n",
       "      <th>1</th>\n",
       "      <td>O=C(Nc1ccccc1)Nc1ccccc1</td>\n",
       "      <td>[1, 2, 3, 4, 5, 6, 7, 8, 9, 10, 11, 12, 13, 14...</td>\n",
       "      <td>scaffold</td>\n",
       "      <td>0.333053</td>\n",
       "      <td>-3.639049</td>\n",
       "      <td>-3.305996</td>\n",
       "      <td>0.634704</td>\n",
       "      <td>-3.483107</td>\n",
       "      <td>0.046699</td>\n",
       "      <td>-3.483107</td>\n",
       "      <td>0.034110</td>\n",
       "    </tr>\n",
       "    <tr>\n",
       "      <th>2</th>\n",
       "      <td>CC</td>\n",
       "      <td>[0, 1]</td>\n",
       "      <td>scaffold</td>\n",
       "      <td>-0.016130</td>\n",
       "      <td>-1.215026</td>\n",
       "      <td>-1.231156</td>\n",
       "      <td>0.913630</td>\n",
       "      <td>-1.231156</td>\n",
       "      <td>0.182212</td>\n",
       "      <td>-1.231156</td>\n",
       "      <td>0.177972</td>\n",
       "    </tr>\n",
       "    <tr>\n",
       "      <th>3</th>\n",
       "      <td>C=C(Br)CC1(C(C)CC)C(=O)NC(=O)NC1=O</td>\n",
       "      <td>[10]</td>\n",
       "      <td>R=O</td>\n",
       "      <td>-2.887617</td>\n",
       "      <td>0.229062</td>\n",
       "      <td>-2.658555</td>\n",
       "      <td>0.571816</td>\n",
       "      <td>0.573590</td>\n",
       "      <td>0.065122</td>\n",
       "      <td>0.307472</td>\n",
       "      <td>0.051281</td>\n",
       "    </tr>\n",
       "    <tr>\n",
       "      <th>4</th>\n",
       "      <td>C=C(Br)CC1(C(C)CC)C(=O)NC(=O)NC1=O</td>\n",
       "      <td>[13]</td>\n",
       "      <td>R=O</td>\n",
       "      <td>-2.706736</td>\n",
       "      <td>0.048181</td>\n",
       "      <td>-2.658555</td>\n",
       "      <td>0.571816</td>\n",
       "      <td>0.475872</td>\n",
       "      <td>0.065122</td>\n",
       "      <td>0.244267</td>\n",
       "      <td>0.051281</td>\n",
       "    </tr>\n",
       "  </tbody>\n",
       "</table>\n",
       "</div>"
      ],
      "text/plain": [
       "                      molecule_smiles  \\\n",
       "0             O=C(Nc1ccccc1)Nc1ccccc1   \n",
       "1             O=C(Nc1ccccc1)Nc1ccccc1   \n",
       "2                                  CC   \n",
       "3  C=C(Br)CC1(C(C)CC)C(=O)NC(=O)NC1=O   \n",
       "4  C=C(Br)CC1(C(C)CC)C(=O)NC(=O)NC1=O   \n",
       "\n",
       "                                            atom_ids substruct_smiles  \\\n",
       "0                                                [0]              R=O   \n",
       "1  [1, 2, 3, 4, 5, 6, 7, 8, 9, 10, 11, 12, 13, 14...         scaffold   \n",
       "2                                             [0, 1]         scaffold   \n",
       "3                                               [10]              R=O   \n",
       "4                                               [13]              R=O   \n",
       "\n",
       "   masked_prediction       SME  non_masked_prediction  time_SME  HN_value  \\\n",
       "0          -3.327164  0.021168              -3.305996  0.634704  0.177110   \n",
       "1           0.333053 -3.639049              -3.305996  0.634704 -3.483107   \n",
       "2          -0.016130 -1.215026              -1.231156  0.913630 -1.231156   \n",
       "3          -2.887617  0.229062              -2.658555  0.571816  0.573590   \n",
       "4          -2.706736  0.048181              -2.658555  0.571816  0.475872   \n",
       "\n",
       "   time_HN_value  Shapley_value  time_Shapley_value  \n",
       "0       0.046699       0.177110            0.034110  \n",
       "1       0.046699      -3.483107            0.034110  \n",
       "2       0.182212      -1.231156            0.177972  \n",
       "3       0.065122       0.307472            0.051281  \n",
       "4       0.065122       0.244267            0.051281  "
      ]
     },
     "execution_count": 85,
     "metadata": {},
     "output_type": "execute_result"
    }
   ],
   "source": [
    "df = pd.read_json(\"../../data/ESOL/attribution_functional_groups.json\")\n",
    "df.head()"
   ]
  },
  {
   "cell_type": "code",
   "execution_count": null,
   "id": "0a92e9c8-035d-4263-824e-f67abb1b5e97",
   "metadata": {},
   "outputs": [],
   "source": []
  }
 ],
 "metadata": {
  "kernelspec": {
   "display_name": "Python 3 (ipykernel)",
   "language": "python",
   "name": "python3"
  },
  "language_info": {
   "codemirror_mode": {
    "name": "ipython",
    "version": 3
   },
   "file_extension": ".py",
   "mimetype": "text/x-python",
   "name": "python",
   "nbconvert_exporter": "python",
   "pygments_lexer": "ipython3",
   "version": "3.11.0"
  }
 },
 "nbformat": 4,
 "nbformat_minor": 5
}
