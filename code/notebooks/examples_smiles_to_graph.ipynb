{
 "cells": [
  {
   "cell_type": "code",
   "execution_count": 16,
   "id": "05ee3705-8a8d-4d67-a831-df9833f0db53",
   "metadata": {},
   "outputs": [],
   "source": [
    "from rdkit import Chem\n",
    "from rdkit.Chem import Draw"
   ]
  },
  {
   "cell_type": "code",
   "execution_count": 47,
   "id": "535a57e2-8de2-42c7-8b4e-def106d3dc77",
   "metadata": {},
   "outputs": [],
   "source": [
    "smiles_list = [\"CC(=O)O\", \"Nc1ncnc2nc[nH]c12\", \"CC(=O)Oc1ccccc1C(=O)O\"]\n",
    "\n",
    "\n",
    "for smiles in smiles_list:\n",
    "    rdmol = Chem.MolFromSmiles(smiles)\n",
    "    img = Draw.MolToImage(rdmol, returnPNG=True)\n",
    "    img.save(f\"../../thesis/Fig/{smiles}.png\")\n"
   ]
  }
 ],
 "metadata": {
  "kernelspec": {
   "display_name": "Python 3 (ipykernel)",
   "language": "python",
   "name": "python3"
  },
  "language_info": {
   "codemirror_mode": {
    "name": "ipython",
    "version": 3
   },
   "file_extension": ".py",
   "mimetype": "text/x-python",
   "name": "python",
   "nbconvert_exporter": "python",
   "pygments_lexer": "ipython3",
   "version": "3.11.0"
  }
 },
 "nbformat": 4,
 "nbformat_minor": 5
}
