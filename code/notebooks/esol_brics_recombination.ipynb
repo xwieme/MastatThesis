{
 "cells": [
  {
   "cell_type": "code",
   "execution_count": 1,
   "id": "614cc8dd-9658-44fe-a0b4-12a749fc7205",
   "metadata": {},
   "outputs": [],
   "source": [
    "import pandas as pd\n",
    "import numpy as np\n",
    "from rdkit import Chem\n",
    "from rdkit.Chem import BRICS\n",
    "import plotly.express as px\n",
    "import plotly.io as pio\n",
    "import XAIChem\n",
    "\n",
    "pio.templates.default = \"seaborn\""
   ]
  },
  {
   "cell_type": "code",
   "execution_count": null,
   "id": "c22962f6-1967-4856-a6c1-24df10116347",
   "metadata": {},
   "outputs": [],
   "source": [
    "data = pd.read_csv(\"../../data/ESOL/ESOL.csv\")\n",
    "attributions_brics = pd.read_json(\"../../data/ESOL/attribution_brics_no_mean.json\")\n",
    "attributions_brics[\"atom_ids\"] = attributions_brics.atom_ids.apply(tuple)"
   ]
  },
  {
   "cell_type": "code",
   "execution_count": 2,
   "id": "6b3f49c7-6b71-42cf-b363-de32742ebd65",
   "metadata": {},
   "outputs": [],
   "source": [
    "def brics_decompose(smiles: str) -> list:\n",
    "    \"\"\"\n",
    "    Break all BRICS bond present in the molecule and return a pandas \n",
    "    dataframe containing the molecule smiles, substructure atom ids and \n",
    "    substructure rdkit molecule object\n",
    "    \"\"\"\n",
    "\n",
    "    rdmol = Chem.MolFromSmiles(smiles)\n",
    "\n",
    "    # Break BRICS bonds\n",
    "    broken_mol = BRICS.BreakBRICSBonds(rdmol)\n",
    "    substructures = Chem.GetMolFrags(broken_mol, asMols=True)\n",
    "    substructures_atom_ids = Chem.GetMolFrags(broken_mol)\n",
    "\n",
    "    out = []\n",
    "\n",
    "    # Remove the atom id of the linking atom\n",
    "    for i, substruct_atom_ids in enumerate(substructures_atom_ids):\n",
    "        substruct_atom_ids = tuple(\n",
    "            atom_id\n",
    "            for atom_id in substruct_atom_ids\n",
    "            if broken_mol.GetAtomWithIdx(atom_id).GetSymbol() != \"*\"\n",
    "        )\n",
    "\n",
    "        out.append([smiles, substruct_atom_ids, substructures[i]])\n",
    "    \n",
    "    return pd.DataFrame(data=out, columns=[\"molecule_smiles\", \"atom_ids\", \"brics_rdmol\"])"
   ]
  },
  {
   "cell_type": "code",
   "execution_count": null,
   "id": "eafc844e-c1ce-41c0-825c-0dadd73dd807",
   "metadata": {},
   "outputs": [],
   "source": [
    "# Get all BRICS rdkit molecule objects with there respective paranet\u0000r\u0000e\u0000s\u0000p\u0000e\u0000c\u0000t\u0000i\u0000v\u0000e atom ids \n",
    "brics_fragments = pd.concat(attributions_brics.molecule_smiles.drop_duplicates().apply(brics_decompose).to_list())\n",
    "brics_fragments.head()"
   ]
  },
  {
   "cell_type": "code",
   "execution_count": null,
   "id": "c35701e5-12aa-4151-83a4-d92f20bec450",
   "metadata": {},
   "outputs": [],
   "source": [
    "# Join brics molecules with attribution dataframe\n",
    "brics_fragments = brics_fragments.join(\n",
    "    attributions_brics.set_index(\n",
    "        [\"molecule_smiles\", \"atom_ids\"]\n",
    "    ), \n",
    "    on=[\"molecule_smiles\", \"atom_ids\"]\n",
    ")[[\n",
    "    \"molecule_smiles\",\n",
    "    \"atom_ids\",\n",
    "    \"brics_rdmol\",\n",
    "    \"substruct_smiles\",\n",
    "    \"SME\",\n",
    "    \"Shapley_value\",\n",
    "    \"HN_value\"\n",
    "]]"
   ]
  },
  {
   "cell_type": "code",
   "execution_count": null,
   "id": "fa613e2c-fea6-4287-9a63-e79d0ad768ce",
   "metadata": {},
   "outputs": [],
   "source": [
    "print(f\"Positive SME attribution: {len(sme_brics_pos := brics_fragments.query('SME >= 0').drop_duplicates('substruct_smiles'))}\")\n",
    "print(f\"Negative SME attribution: {len(sme_brics_neg := brics_fragments.query('SME < 0').drop_duplicates('substruct_smiles'))}\")\n",
    "print()\n",
    "print(f\"Positive Shapley attribution: {len(shapley_brics_pos := brics_fragments.query('Shapley_value >= 0').drop_duplicates('substruct_smiles'))}\")\n",
    "print(f\"Negative Shapley attribution: {len(shapley_brics_neg := brics_fragments.query('Shapley_value < 0').drop_duplicates('substruct_smiles'))}\")\n",
    "print()\n",
    "print(f\"Positive HN attribution: {len(hn_brics_pos := brics_fragments.query('HN_value >= 0').drop_duplicates('substruct_smiles'))}\")\n",
    "print(f\"Negative HN attribution: {len(hn_brics_neg := brics_fragments.query('HN_value < 0').drop_duplicates('substruct_smiles'))}\")"
   ]
  },
  {
   "cell_type": "code",
   "execution_count": null,
   "id": "662baf8c-10a5-416f-9cee-1a67e54e16d1",
   "metadata": {},
   "outputs": [],
   "source": [
    "builder = BRICS.BRICSBuild(sme_brics_pos.brics_rdmol.to_list())\n",
    "\n",
    "for _ in range(1000):\n",
    "    display(next(builder))"
   ]
  }
 ],
 "metadata": {
  "kernelspec": {
   "display_name": "Python 3 (ipykernel)",
   "language": "python",
   "name": "python3"
  },
  "language_info": {
   "codemirror_mode": {
    "name": "ipython",
    "version": 3
   },
   "file_extension": ".py",
   "mimetype": "text/x-python",
   "name": "python",
   "nbconvert_exporter": "python",
   "pygments_lexer": "ipython3",
   "version": "3.11.0"
  }
 },
 "nbformat": 4,
 "nbformat_minor": 5
}
