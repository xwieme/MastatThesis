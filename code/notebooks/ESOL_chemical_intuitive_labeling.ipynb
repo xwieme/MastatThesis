{
 "cells": [
  {
   "cell_type": "code",
   "execution_count": 1,
   "id": "1574d190-8dd1-49a9-9d58-fd05ff2bb507",
   "metadata": {},
   "outputs": [],
   "source": [
    "import pandas as pd\n",
    "import numpy as np\n",
    "import plotly.express as px\n",
    "from rdkit import Chem\n",
    "\n",
    "import XAIChem\n",
    "\n",
    "pd.options.plotting.backend = \"plotly\""
   ]
  },
  {
   "cell_type": "markdown",
   "id": "3c4b224f-e4fe-4893-85d2-fa1612575bfd",
   "metadata": {},
   "source": [
    "# Data preparation"
   ]
  },
  {
   "cell_type": "code",
   "execution_count": 2,
   "id": "56f6f049-d7de-4d3a-aa38-f69434ccc09b",
   "metadata": {},
   "outputs": [
    {
     "data": {
      "text/html": [
       "<div>\n",
       "<style scoped>\n",
       "    .dataframe tbody tr th:only-of-type {\n",
       "        vertical-align: middle;\n",
       "    }\n",
       "\n",
       "    .dataframe tbody tr th {\n",
       "        vertical-align: top;\n",
       "    }\n",
       "\n",
       "    .dataframe thead th {\n",
       "        text-align: right;\n",
       "    }\n",
       "</style>\n",
       "<table border=\"1\" class=\"dataframe\">\n",
       "  <thead>\n",
       "    <tr style=\"text-align: right;\">\n",
       "      <th></th>\n",
       "      <th>smiles</th>\n",
       "      <th>ESOL</th>\n",
       "    </tr>\n",
       "  </thead>\n",
       "  <tbody>\n",
       "    <tr>\n",
       "      <th>0</th>\n",
       "      <td>C=C(C)C1Cc2c(ccc3c2OC2COc4cc(OC)c(OC)cc4C2C3=O)O1</td>\n",
       "      <td>-4.420</td>\n",
       "    </tr>\n",
       "    <tr>\n",
       "      <th>1</th>\n",
       "      <td>C=CCCC</td>\n",
       "      <td>-2.680</td>\n",
       "    </tr>\n",
       "    <tr>\n",
       "      <th>2</th>\n",
       "      <td>CCCCCCCCCC(C)O</td>\n",
       "      <td>-2.940</td>\n",
       "    </tr>\n",
       "    <tr>\n",
       "      <th>3</th>\n",
       "      <td>O=c1[nH]c2c(c(=O)n1C1CCCCC1)CCC2</td>\n",
       "      <td>-4.594</td>\n",
       "    </tr>\n",
       "    <tr>\n",
       "      <th>4</th>\n",
       "      <td>CCCOP(=S)(OCCC)SCC(=O)N1CCCCC1C</td>\n",
       "      <td>-4.150</td>\n",
       "    </tr>\n",
       "  </tbody>\n",
       "</table>\n",
       "</div>"
      ],
      "text/plain": [
       "                                              smiles   ESOL\n",
       "0  C=C(C)C1Cc2c(ccc3c2OC2COc4cc(OC)c(OC)cc4C2C3=O)O1 -4.420\n",
       "1                                             C=CCCC -2.680\n",
       "2                                     CCCCCCCCCC(C)O -2.940\n",
       "3                   O=c1[nH]c2c(c(=O)n1C1CCCCC1)CCC2 -4.594\n",
       "4                    CCCOP(=S)(OCCC)SCC(=O)N1CCCCC1C -4.150"
      ]
     },
     "metadata": {},
     "output_type": "display_data"
    },
    {
     "name": "stdout",
     "output_type": "stream",
     "text": [
      "len(data) = 112\n"
     ]
    }
   ],
   "source": [
    "data = pd.read_csv(\"../../data/ESOL/ESOL_test.csv\")[[\"smiles\", \"ESOL\"]]\n",
    "display(data.head())\n",
    "print(f\"{len(data) = }\")"
   ]
  },
  {
   "cell_type": "code",
   "execution_count": 34,
   "id": "0d0cdc0d-fb4d-4e15-b2a7-7f5a0fa8bb3b",
   "metadata": {},
   "outputs": [],
   "source": [
    "attributions_fg = pd.read_json(\"../../data/ESOL/attribution_functional_groups.json\")\n",
    "attributions_brics = pd.read_json(\"../../data/ESOL/attribution_brics.json\")"
   ]
  },
  {
   "cell_type": "code",
   "execution_count": 35,
   "id": "1e99bd78-141d-4e1d-815e-9f66eea5ed05",
   "metadata": {},
   "outputs": [
    {
     "data": {
      "text/plain": [
       "1     233\n",
       "2     345\n",
       "3     223\n",
       "4     144\n",
       "5      72\n",
       "6      33\n",
       "7      35\n",
       "8      11\n",
       "9       9\n",
       "11      2\n",
       "12      2\n",
       "13      1\n",
       "Name: count, dtype: int64"
      ]
     },
     "execution_count": 35,
     "metadata": {},
     "output_type": "execute_result"
    }
   ],
   "source": [
    "attributions_fg.groupby(\"molecule_smiles\").size().value_counts().sort_index()"
   ]
  },
  {
   "cell_type": "code",
   "execution_count": 36,
   "id": "762dfe21-1eff-4eb8-aac2-82db0ae903e6",
   "metadata": {},
   "outputs": [
    {
     "data": {
      "text/plain": [
       "1    564\n",
       "2    193\n",
       "3    132\n",
       "4     78\n",
       "5     72\n",
       "6     35\n",
       "7     20\n",
       "8     10\n",
       "9      6\n",
       "Name: count, dtype: int64"
      ]
     },
     "execution_count": 36,
     "metadata": {},
     "output_type": "execute_result"
    }
   ],
   "source": [
    "attributions_brics.groupby(\"molecule_smiles\").size().value_counts().sort_index()"
   ]
  },
  {
   "cell_type": "code",
   "execution_count": 37,
   "id": "787241b2-c134-4eb6-82ed-41b51fbcc0d5",
   "metadata": {},
   "outputs": [
    {
     "name": "stdout",
     "output_type": "stream",
     "text": [
      "len(smiles_no_substructures) = 12\n"
     ]
    }
   ],
   "source": [
    "# Compute for each molecule the number of substructures obtained from functional \n",
    "# groups and BRICS and create column 'group' indicating which method create the \n",
    "# most substructures\n",
    "indicator_df = attributions_fg.groupby(\"molecule_smiles\").size().to_frame(\"N_fg\").join(\n",
    "    attributions_brics.groupby(\"molecule_smiles\").size().to_frame(\"N_brics\")\n",
    ").apply(lambda row: \"fg\" if row.N_fg > row.N_brics else \"brics\", axis=1).to_frame(\"group\")\n",
    "\n",
    "# Get the attributions from the method that generates the most substructers.\n",
    "# Subsequently filter the molecules of the test set.\n",
    "test_attributions = pd.concat([\n",
    "    indicator_df.query(\"group == 'fg'\").join(attributions_fg.set_index(\"molecule_smiles\")),\n",
    "    indicator_df.query(\"group == 'brics'\").join(attributions_brics.set_index(\"molecule_smiles\"))\n",
    "]).join(data.set_index(\"smiles\"), how=\"right\").reset_index()\n",
    "\n",
    "# Display how many molecules cannot be split into substructures. These molecules \n",
    "# are removed since their rank correlation will be one no matter their prediction \n",
    "# due to the inability to subdivide the into multiple substructures.\n",
    "smiles_no_substructures = test_attributions.groupby(\"molecule_smiles\")\\\n",
    "    .size().to_frame(\"N\").query(\"N == 1\").index\n",
    "print(f\"{len(smiles_no_substructures) = }\")\n",
    "\n",
    "# Compute absolute error\n",
    "data = test_attributions[[\"molecule_smiles\", \"non_masked_prediction\", \"ESOL\"]]\\\n",
    "    .drop_duplicates()\\\n",
    "    .rename(columns={\"non_masked_prediction\": \"prediction\", \"molecule_smiles\": \"smiles\"})\n",
    "\n",
    "data[\"absolute_error\"] = np.abs(data[\"prediction\"] - data[\"ESOL\"])"
   ]
  },
  {
   "cell_type": "code",
   "execution_count": 38,
   "id": "e5fa15f4-67df-46d8-91b1-13ecf0b5531b",
   "metadata": {},
   "outputs": [
    {
     "data": {
      "text/html": [
       "<div>\n",
       "<style scoped>\n",
       "    .dataframe tbody tr th:only-of-type {\n",
       "        vertical-align: middle;\n",
       "    }\n",
       "\n",
       "    .dataframe tbody tr th {\n",
       "        vertical-align: top;\n",
       "    }\n",
       "\n",
       "    .dataframe thead th {\n",
       "        text-align: right;\n",
       "    }\n",
       "</style>\n",
       "<table border=\"1\" class=\"dataframe\">\n",
       "  <thead>\n",
       "    <tr style=\"text-align: right;\">\n",
       "      <th></th>\n",
       "      <th>group</th>\n",
       "    </tr>\n",
       "    <tr>\n",
       "      <th>molecule_smiles</th>\n",
       "      <th></th>\n",
       "    </tr>\n",
       "  </thead>\n",
       "  <tbody>\n",
       "    <tr>\n",
       "      <th>CCC(C)n1c(=O)[nH]c(C)c(Br)c1=O</th>\n",
       "      <td>fg</td>\n",
       "    </tr>\n",
       "  </tbody>\n",
       "</table>\n",
       "</div>"
      ],
      "text/plain": [
       "                               group\n",
       "molecule_smiles                     \n",
       "CCC(C)n1c(=O)[nH]c(C)c(Br)c1=O    fg"
      ]
     },
     "metadata": {},
     "output_type": "display_data"
    },
    {
     "data": {
      "text/html": [
       "<div>\n",
       "<style scoped>\n",
       "    .dataframe tbody tr th:only-of-type {\n",
       "        vertical-align: middle;\n",
       "    }\n",
       "\n",
       "    .dataframe tbody tr th {\n",
       "        vertical-align: top;\n",
       "    }\n",
       "\n",
       "    .dataframe thead th {\n",
       "        text-align: right;\n",
       "    }\n",
       "</style>\n",
       "<table border=\"1\" class=\"dataframe\">\n",
       "  <thead>\n",
       "    <tr style=\"text-align: right;\">\n",
       "      <th></th>\n",
       "      <th>group</th>\n",
       "    </tr>\n",
       "    <tr>\n",
       "      <th>molecule_smiles</th>\n",
       "      <th></th>\n",
       "    </tr>\n",
       "  </thead>\n",
       "  <tbody>\n",
       "    <tr>\n",
       "      <th>CCOP(=S)(OCC)SCn1c(=O)oc2cc(Cl)ccc21</th>\n",
       "      <td>fg</td>\n",
       "    </tr>\n",
       "  </tbody>\n",
       "</table>\n",
       "</div>"
      ],
      "text/plain": [
       "                                     group\n",
       "molecule_smiles                           \n",
       "CCOP(=S)(OCC)SCn1c(=O)oc2cc(Cl)ccc21    fg"
      ]
     },
     "metadata": {},
     "output_type": "display_data"
    },
    {
     "data": {
      "text/html": [
       "<div>\n",
       "<style scoped>\n",
       "    .dataframe tbody tr th:only-of-type {\n",
       "        vertical-align: middle;\n",
       "    }\n",
       "\n",
       "    .dataframe tbody tr th {\n",
       "        vertical-align: top;\n",
       "    }\n",
       "\n",
       "    .dataframe thead th {\n",
       "        text-align: right;\n",
       "    }\n",
       "</style>\n",
       "<table border=\"1\" class=\"dataframe\">\n",
       "  <thead>\n",
       "    <tr style=\"text-align: right;\">\n",
       "      <th></th>\n",
       "      <th>group</th>\n",
       "    </tr>\n",
       "    <tr>\n",
       "      <th>molecule_smiles</th>\n",
       "      <th></th>\n",
       "    </tr>\n",
       "  </thead>\n",
       "  <tbody>\n",
       "    <tr>\n",
       "      <th>CSc1nnc(C(C)(C)C)c(=O)n1N</th>\n",
       "      <td>fg</td>\n",
       "    </tr>\n",
       "  </tbody>\n",
       "</table>\n",
       "</div>"
      ],
      "text/plain": [
       "                          group\n",
       "molecule_smiles                \n",
       "CSc1nnc(C(C)(C)C)c(=O)n1N    fg"
      ]
     },
     "metadata": {},
     "output_type": "display_data"
    },
    {
     "data": {
      "text/html": [
       "<div>\n",
       "<style scoped>\n",
       "    .dataframe tbody tr th:only-of-type {\n",
       "        vertical-align: middle;\n",
       "    }\n",
       "\n",
       "    .dataframe tbody tr th {\n",
       "        vertical-align: top;\n",
       "    }\n",
       "\n",
       "    .dataframe thead th {\n",
       "        text-align: right;\n",
       "    }\n",
       "</style>\n",
       "<table border=\"1\" class=\"dataframe\">\n",
       "  <thead>\n",
       "    <tr style=\"text-align: right;\">\n",
       "      <th></th>\n",
       "      <th>group</th>\n",
       "    </tr>\n",
       "    <tr>\n",
       "      <th>molecule_smiles</th>\n",
       "      <th></th>\n",
       "    </tr>\n",
       "  </thead>\n",
       "  <tbody>\n",
       "    <tr>\n",
       "      <th>O=c1[nH]c2c(c(=O)n1C1CCCCC1)CCC2</th>\n",
       "      <td>fg</td>\n",
       "    </tr>\n",
       "  </tbody>\n",
       "</table>\n",
       "</div>"
      ],
      "text/plain": [
       "                                 group\n",
       "molecule_smiles                       \n",
       "O=c1[nH]c2c(c(=O)n1C1CCCCC1)CCC2    fg"
      ]
     },
     "metadata": {},
     "output_type": "display_data"
    }
   ],
   "source": [
    "display(indicator_df_around_mean.query(\"molecule_smiles == 'CCC(C)n1c(=O)[nH]c(C)c(Br)c1=O'\"))\n",
    "display(indicator_df_around_mean.query(\"molecule_smiles == 'CCOP(=S)(OCC)SCn1c(=O)oc2cc(Cl)ccc21'\"))\n",
    "display(indicator_df_around_mean.query(\"molecule_smiles == 'CSc1nnc(C(C)(C)C)c(=O)n1N'\"))\n",
    "display(indicator_df_around_mean.query(\"molecule_smiles == 'O=c1[nH]c2c(c(=O)n1C1CCCCC1)CCC2'\"))"
   ]
  },
  {
   "cell_type": "code",
   "execution_count": 53,
   "id": "eda99daa-2862-4a73-b8ba-21e758a5bb21",
   "metadata": {},
   "outputs": [
    {
     "data": {
      "text/html": [
       "<div>\n",
       "<style scoped>\n",
       "    .dataframe tbody tr th:only-of-type {\n",
       "        vertical-align: middle;\n",
       "    }\n",
       "\n",
       "    .dataframe tbody tr th {\n",
       "        vertical-align: top;\n",
       "    }\n",
       "\n",
       "    .dataframe thead th {\n",
       "        text-align: right;\n",
       "    }\n",
       "</style>\n",
       "<table border=\"1\" class=\"dataframe\">\n",
       "  <thead>\n",
       "    <tr style=\"text-align: right;\">\n",
       "      <th></th>\n",
       "      <th>molecule_smiles</th>\n",
       "      <th>group</th>\n",
       "      <th>group_around_mean</th>\n",
       "    </tr>\n",
       "  </thead>\n",
       "  <tbody>\n",
       "    <tr>\n",
       "      <th>54</th>\n",
       "      <td>C=C(C)CN(CC)c1c([N+](=O)[O-])cc(C(F)(F)F)cc1[N...</td>\n",
       "      <td>brics</td>\n",
       "      <td>fg</td>\n",
       "    </tr>\n",
       "    <tr>\n",
       "      <th>103</th>\n",
       "      <td>CC(=O)CC(c1ccccc1)c1c(O)c2ccccc2oc1=O</td>\n",
       "      <td>brics</td>\n",
       "      <td>fg</td>\n",
       "    </tr>\n",
       "    <tr>\n",
       "      <th>106</th>\n",
       "      <td>CC(=O)N(c1onc(C)c1C)S(=O)c1ccc(N)cc1</td>\n",
       "      <td>brics</td>\n",
       "      <td>fg</td>\n",
       "    </tr>\n",
       "    <tr>\n",
       "      <th>107</th>\n",
       "      <td>CC(=O)Nc1cc(NS(=O)(=O)C(F)(F)F)c(C)cc1C</td>\n",
       "      <td>brics</td>\n",
       "      <td>fg</td>\n",
       "    </tr>\n",
       "    <tr>\n",
       "      <th>226</th>\n",
       "      <td>CC1=C(C(=O)Nc2ccccc2)S(=O)(=O)CCO1</td>\n",
       "      <td>brics</td>\n",
       "      <td>fg</td>\n",
       "    </tr>\n",
       "    <tr>\n",
       "      <th>...</th>\n",
       "      <td>...</td>\n",
       "      <td>...</td>\n",
       "      <td>...</td>\n",
       "    </tr>\n",
       "    <tr>\n",
       "      <th>987</th>\n",
       "      <td>O=c1[nH]cnc2nc[nH]c12</td>\n",
       "      <td>brics</td>\n",
       "      <td>fg</td>\n",
       "    </tr>\n",
       "    <tr>\n",
       "      <th>989</th>\n",
       "      <td>O=c1cc[nH]c(=O)[nH]1</td>\n",
       "      <td>brics</td>\n",
       "      <td>fg</td>\n",
       "    </tr>\n",
       "    <tr>\n",
       "      <th>990</th>\n",
       "      <td>O=c1ccnc(S)[nH]1</td>\n",
       "      <td>brics</td>\n",
       "      <td>fg</td>\n",
       "    </tr>\n",
       "    <tr>\n",
       "      <th>1052</th>\n",
       "      <td>Sc1ccccc1</td>\n",
       "      <td>brics</td>\n",
       "      <td>fg</td>\n",
       "    </tr>\n",
       "    <tr>\n",
       "      <th>1053</th>\n",
       "      <td>Sc1nc2ccccc2s1</td>\n",
       "      <td>brics</td>\n",
       "      <td>fg</td>\n",
       "    </tr>\n",
       "  </tbody>\n",
       "</table>\n",
       "<p>67 rows × 3 columns</p>\n",
       "</div>"
      ],
      "text/plain": [
       "                                        molecule_smiles  group  \\\n",
       "54    C=C(C)CN(CC)c1c([N+](=O)[O-])cc(C(F)(F)F)cc1[N...  brics   \n",
       "103               CC(=O)CC(c1ccccc1)c1c(O)c2ccccc2oc1=O  brics   \n",
       "106                CC(=O)N(c1onc(C)c1C)S(=O)c1ccc(N)cc1  brics   \n",
       "107             CC(=O)Nc1cc(NS(=O)(=O)C(F)(F)F)c(C)cc1C  brics   \n",
       "226                  CC1=C(C(=O)Nc2ccccc2)S(=O)(=O)CCO1  brics   \n",
       "...                                                 ...    ...   \n",
       "987                               O=c1[nH]cnc2nc[nH]c12  brics   \n",
       "989                                O=c1cc[nH]c(=O)[nH]1  brics   \n",
       "990                                    O=c1ccnc(S)[nH]1  brics   \n",
       "1052                                          Sc1ccccc1  brics   \n",
       "1053                                     Sc1nc2ccccc2s1  brics   \n",
       "\n",
       "     group_around_mean  \n",
       "54                  fg  \n",
       "103                 fg  \n",
       "106                 fg  \n",
       "107                 fg  \n",
       "226                 fg  \n",
       "...                ...  \n",
       "987                 fg  \n",
       "989                 fg  \n",
       "990                 fg  \n",
       "1052                fg  \n",
       "1053                fg  \n",
       "\n",
       "[67 rows x 3 columns]"
      ]
     },
     "execution_count": 53,
     "metadata": {},
     "output_type": "execute_result"
    }
   ],
   "source": [
    "comparison_df = pd.merge(\n",
    "    indicator_df.reset_index(), \n",
    "    indicator_df_around_mean.reset_index(), \n",
    "    on=\"molecule_smiles\", \n",
    "    suffixes=(\"\", \"_around_mean\")\n",
    ")\n",
    "\n",
    "comparison_df.query(\"group != group_around_mean\")"
   ]
  },
  {
   "cell_type": "code",
   "execution_count": 17,
   "id": "ea7e0415-4232-4b5d-81c2-784a4f20225e",
   "metadata": {},
   "outputs": [
    {
     "data": {
      "application/vnd.plotly.v1+json": {
       "config": {
        "plotlyServerURL": "https://plot.ly"
       },
       "data": [
        {
         "hovertemplate": "Count=%{x}<br>absolute_error=%{y}<extra></extra>",
         "legendgroup": "",
         "marker": {
          "color": "#636efa",
          "symbol": "circle"
         },
         "mode": "markers",
         "name": "",
         "orientation": "v",
         "showlegend": false,
         "type": "scatter",
         "x": [
          3,
          5,
          3,
          2,
          2,
          2,
          1,
          1,
          2,
          1,
          4,
          1,
          3,
          3,
          4,
          4,
          7,
          3,
          2,
          2,
          2,
          2,
          3,
          2,
          3,
          8,
          2,
          2,
          4,
          2,
          2,
          2,
          2,
          5,
          2,
          2,
          2,
          2,
          2,
          7,
          3,
          2,
          2,
          2,
          5,
          2,
          2,
          2,
          7,
          6,
          6,
          7,
          5,
          6,
          5,
          2,
          5,
          5,
          3,
          8,
          3,
          8,
          3,
          6,
          2,
          5,
          4,
          1,
          2,
          4,
          1,
          3,
          6,
          5,
          2,
          7,
          7,
          3,
          5,
          2,
          2,
          3,
          3,
          3,
          5,
          3,
          3,
          3,
          3,
          7,
          12,
          4,
          3,
          2,
          4,
          2,
          2,
          3,
          3,
          6,
          12,
          5,
          5,
          3,
          2,
          1,
          2,
          1,
          1,
          1,
          1,
          1
         ],
         "xaxis": "x",
         "y": [
          0.02050536159999994,
          0.46994159700000004,
          0.6128429984999997,
          0.038747692100000286,
          0.004353771199999912,
          0.5834949684,
          0.6490559959000004,
          0.2442363644000003,
          1.1022316837,
          0.4596888924,
          0.933805542,
          0.20600908280000008,
          0.0074096489000003984,
          0.3246463251,
          0.6620069503999995,
          0.37476003649999967,
          0.40921369789999995,
          0.09209900500000001,
          0.08710250849999923,
          0.07316387409999997,
          0.13489369029999998,
          0.21926452639999994,
          0.15098289490000005,
          0.21741227630000004,
          0.3818274879000003,
          1.8171659355000003,
          1.6256248665000004,
          0.17933085920000003,
          0.23513841820000003,
          0.05880620000000003,
          0.05231292249999997,
          0.012598538399999804,
          0.3736026192000006,
          1.0478749008000001,
          0.8205586243000003,
          1.3057504272,
          0.5431138992000006,
          0.30313455580000026,
          0.09140454770000006,
          0.9943098488000004,
          0.0188134766000001,
          0.11704069139999973,
          0.1829195403999999,
          0.10815591570000005,
          0.5985976218999998,
          0.6026130437999999,
          0.06436846260000006,
          0.8255533027999999,
          0.9676622580999998,
          0.7414913177,
          1.6741534385999999,
          1.4860123634,
          0.17984437180000024,
          0.8522870139999998,
          0.2278730774000004,
          0.059944391299999955,
          0.1657131385999997,
          0.019168624900000042,
          0.4674119729999999,
          0.6212906675000001,
          0.08016679999999998,
          0.2747710495,
          0.11431339259999973,
          1.5957290381999996,
          0.37967746260000007,
          0.09343554689999989,
          0.5377624320999996,
          0.1283459473000006,
          0.30592086789999984,
          0.2811324196,
          0.2630455112000001,
          0.16709442140000008,
          0.4143320560000001,
          0.31303436279999985,
          0.09808649060000008,
          0.7825656509000005,
          0.46848093030000015,
          0.1339679909,
          0.4939557837999997,
          0.11043102259999982,
          0.1660990334000001,
          0.01757454869999986,
          0.325434494,
          0.7073250674999998,
          0.1687688999000001,
          0.7128535556999998,
          0.23094151500000004,
          0.048681459400000016,
          0.9008450279,
          0.9088329582000005,
          0.8135860595999995,
          0.16470802309999977,
          0.4997946930000001,
          0.7388282061000001,
          0.4490712165999997,
          0.047957458499999994,
          0.22908372879999983,
          0.1448392391000004,
          1.5752259673999993,
          0.2379223251,
          0.7162306643,
          0.16494133,
          0.5720606232000001,
          0.016238989799999937,
          0.312657733,
          0.23836399839999878,
          0.24881062509999996,
          0.6909137916999999,
          0.9156543827000001,
          1.5265427016999995,
          0.3531303405999999,
          0.7270176314999999
         ],
         "yaxis": "y"
        },
        {
         "alignmentgroup": "True",
         "bingroup": "x",
         "hovertemplate": "Count=%{x}<br>count=%{y}<extra></extra>",
         "legendgroup": "",
         "marker": {
          "color": "#636efa"
         },
         "name": "",
         "offsetgroup": "",
         "opacity": 0.5,
         "showlegend": false,
         "type": "histogram",
         "x": [
          3,
          5,
          3,
          2,
          2,
          2,
          1,
          1,
          2,
          1,
          4,
          1,
          3,
          3,
          4,
          4,
          7,
          3,
          2,
          2,
          2,
          2,
          3,
          2,
          3,
          8,
          2,
          2,
          4,
          2,
          2,
          2,
          2,
          5,
          2,
          2,
          2,
          2,
          2,
          7,
          3,
          2,
          2,
          2,
          5,
          2,
          2,
          2,
          7,
          6,
          6,
          7,
          5,
          6,
          5,
          2,
          5,
          5,
          3,
          8,
          3,
          8,
          3,
          6,
          2,
          5,
          4,
          1,
          2,
          4,
          1,
          3,
          6,
          5,
          2,
          7,
          7,
          3,
          5,
          2,
          2,
          3,
          3,
          3,
          5,
          3,
          3,
          3,
          3,
          7,
          12,
          4,
          3,
          2,
          4,
          2,
          2,
          3,
          3,
          6,
          12,
          5,
          5,
          3,
          2,
          1,
          2,
          1,
          1,
          1,
          1,
          1
         ],
         "xaxis": "x3",
         "yaxis": "y3"
        },
        {
         "alignmentgroup": "True",
         "bingroup": "y",
         "hovertemplate": "absolute_error=%{y}<br>count=%{x}<extra></extra>",
         "legendgroup": "",
         "marker": {
          "color": "#636efa"
         },
         "name": "",
         "offsetgroup": "",
         "opacity": 0.5,
         "showlegend": false,
         "type": "histogram",
         "xaxis": "x2",
         "y": [
          0.02050536159999994,
          0.46994159700000004,
          0.6128429984999997,
          0.038747692100000286,
          0.004353771199999912,
          0.5834949684,
          0.6490559959000004,
          0.2442363644000003,
          1.1022316837,
          0.4596888924,
          0.933805542,
          0.20600908280000008,
          0.0074096489000003984,
          0.3246463251,
          0.6620069503999995,
          0.37476003649999967,
          0.40921369789999995,
          0.09209900500000001,
          0.08710250849999923,
          0.07316387409999997,
          0.13489369029999998,
          0.21926452639999994,
          0.15098289490000005,
          0.21741227630000004,
          0.3818274879000003,
          1.8171659355000003,
          1.6256248665000004,
          0.17933085920000003,
          0.23513841820000003,
          0.05880620000000003,
          0.05231292249999997,
          0.012598538399999804,
          0.3736026192000006,
          1.0478749008000001,
          0.8205586243000003,
          1.3057504272,
          0.5431138992000006,
          0.30313455580000026,
          0.09140454770000006,
          0.9943098488000004,
          0.0188134766000001,
          0.11704069139999973,
          0.1829195403999999,
          0.10815591570000005,
          0.5985976218999998,
          0.6026130437999999,
          0.06436846260000006,
          0.8255533027999999,
          0.9676622580999998,
          0.7414913177,
          1.6741534385999999,
          1.4860123634,
          0.17984437180000024,
          0.8522870139999998,
          0.2278730774000004,
          0.059944391299999955,
          0.1657131385999997,
          0.019168624900000042,
          0.4674119729999999,
          0.6212906675000001,
          0.08016679999999998,
          0.2747710495,
          0.11431339259999973,
          1.5957290381999996,
          0.37967746260000007,
          0.09343554689999989,
          0.5377624320999996,
          0.1283459473000006,
          0.30592086789999984,
          0.2811324196,
          0.2630455112000001,
          0.16709442140000008,
          0.4143320560000001,
          0.31303436279999985,
          0.09808649060000008,
          0.7825656509000005,
          0.46848093030000015,
          0.1339679909,
          0.4939557837999997,
          0.11043102259999982,
          0.1660990334000001,
          0.01757454869999986,
          0.325434494,
          0.7073250674999998,
          0.1687688999000001,
          0.7128535556999998,
          0.23094151500000004,
          0.048681459400000016,
          0.9008450279,
          0.9088329582000005,
          0.8135860595999995,
          0.16470802309999977,
          0.4997946930000001,
          0.7388282061000001,
          0.4490712165999997,
          0.047957458499999994,
          0.22908372879999983,
          0.1448392391000004,
          1.5752259673999993,
          0.2379223251,
          0.7162306643,
          0.16494133,
          0.5720606232000001,
          0.016238989799999937,
          0.312657733,
          0.23836399839999878,
          0.24881062509999996,
          0.6909137916999999,
          0.9156543827000001,
          1.5265427016999995,
          0.3531303405999999,
          0.7270176314999999
         ],
         "yaxis": "y2"
        }
       ],
       "layout": {
        "autosize": false,
        "barmode": "overlay",
        "height": 500,
        "legend": {
         "tracegroupgap": 0
        },
        "margin": {
         "t": 60
        },
        "shapes": [
         {
          "line": {
           "color": "red"
          },
          "type": "line",
          "x0": 0,
          "x1": 1,
          "xref": "x domain",
          "y0": 0.6,
          "y1": 0.6,
          "yref": "y"
         },
         {
          "line": {
           "color": "red"
          },
          "type": "line",
          "x0": 0,
          "x1": 1,
          "xref": "x2 domain",
          "y0": 0.6,
          "y1": 0.6,
          "yref": "y2"
         },
         {
          "line": {
           "color": "red"
          },
          "type": "line",
          "x0": 0,
          "x1": 1,
          "xref": "x3 domain",
          "y0": 0.6,
          "y1": 0.6,
          "yref": "y3"
         }
        ],
        "template": {
         "data": {
          "bar": [
           {
            "error_x": {
             "color": "#2a3f5f"
            },
            "error_y": {
             "color": "#2a3f5f"
            },
            "marker": {
             "line": {
              "color": "white",
              "width": 0.5
             },
             "pattern": {
              "fillmode": "overlay",
              "size": 10,
              "solidity": 0.2
             }
            },
            "type": "bar"
           }
          ],
          "barpolar": [
           {
            "marker": {
             "line": {
              "color": "white",
              "width": 0.5
             },
             "pattern": {
              "fillmode": "overlay",
              "size": 10,
              "solidity": 0.2
             }
            },
            "type": "barpolar"
           }
          ],
          "carpet": [
           {
            "aaxis": {
             "endlinecolor": "#2a3f5f",
             "gridcolor": "#C8D4E3",
             "linecolor": "#C8D4E3",
             "minorgridcolor": "#C8D4E3",
             "startlinecolor": "#2a3f5f"
            },
            "baxis": {
             "endlinecolor": "#2a3f5f",
             "gridcolor": "#C8D4E3",
             "linecolor": "#C8D4E3",
             "minorgridcolor": "#C8D4E3",
             "startlinecolor": "#2a3f5f"
            },
            "type": "carpet"
           }
          ],
          "choropleth": [
           {
            "colorbar": {
             "outlinewidth": 0,
             "ticks": ""
            },
            "type": "choropleth"
           }
          ],
          "contour": [
           {
            "colorbar": {
             "outlinewidth": 0,
             "ticks": ""
            },
            "colorscale": [
             [
              0,
              "#0d0887"
             ],
             [
              0.1111111111111111,
              "#46039f"
             ],
             [
              0.2222222222222222,
              "#7201a8"
             ],
             [
              0.3333333333333333,
              "#9c179e"
             ],
             [
              0.4444444444444444,
              "#bd3786"
             ],
             [
              0.5555555555555556,
              "#d8576b"
             ],
             [
              0.6666666666666666,
              "#ed7953"
             ],
             [
              0.7777777777777778,
              "#fb9f3a"
             ],
             [
              0.8888888888888888,
              "#fdca26"
             ],
             [
              1,
              "#f0f921"
             ]
            ],
            "type": "contour"
           }
          ],
          "contourcarpet": [
           {
            "colorbar": {
             "outlinewidth": 0,
             "ticks": ""
            },
            "type": "contourcarpet"
           }
          ],
          "heatmap": [
           {
            "colorbar": {
             "outlinewidth": 0,
             "ticks": ""
            },
            "colorscale": [
             [
              0,
              "#0d0887"
             ],
             [
              0.1111111111111111,
              "#46039f"
             ],
             [
              0.2222222222222222,
              "#7201a8"
             ],
             [
              0.3333333333333333,
              "#9c179e"
             ],
             [
              0.4444444444444444,
              "#bd3786"
             ],
             [
              0.5555555555555556,
              "#d8576b"
             ],
             [
              0.6666666666666666,
              "#ed7953"
             ],
             [
              0.7777777777777778,
              "#fb9f3a"
             ],
             [
              0.8888888888888888,
              "#fdca26"
             ],
             [
              1,
              "#f0f921"
             ]
            ],
            "type": "heatmap"
           }
          ],
          "heatmapgl": [
           {
            "colorbar": {
             "outlinewidth": 0,
             "ticks": ""
            },
            "colorscale": [
             [
              0,
              "#0d0887"
             ],
             [
              0.1111111111111111,
              "#46039f"
             ],
             [
              0.2222222222222222,
              "#7201a8"
             ],
             [
              0.3333333333333333,
              "#9c179e"
             ],
             [
              0.4444444444444444,
              "#bd3786"
             ],
             [
              0.5555555555555556,
              "#d8576b"
             ],
             [
              0.6666666666666666,
              "#ed7953"
             ],
             [
              0.7777777777777778,
              "#fb9f3a"
             ],
             [
              0.8888888888888888,
              "#fdca26"
             ],
             [
              1,
              "#f0f921"
             ]
            ],
            "type": "heatmapgl"
           }
          ],
          "histogram": [
           {
            "marker": {
             "pattern": {
              "fillmode": "overlay",
              "size": 10,
              "solidity": 0.2
             }
            },
            "type": "histogram"
           }
          ],
          "histogram2d": [
           {
            "colorbar": {
             "outlinewidth": 0,
             "ticks": ""
            },
            "colorscale": [
             [
              0,
              "#0d0887"
             ],
             [
              0.1111111111111111,
              "#46039f"
             ],
             [
              0.2222222222222222,
              "#7201a8"
             ],
             [
              0.3333333333333333,
              "#9c179e"
             ],
             [
              0.4444444444444444,
              "#bd3786"
             ],
             [
              0.5555555555555556,
              "#d8576b"
             ],
             [
              0.6666666666666666,
              "#ed7953"
             ],
             [
              0.7777777777777778,
              "#fb9f3a"
             ],
             [
              0.8888888888888888,
              "#fdca26"
             ],
             [
              1,
              "#f0f921"
             ]
            ],
            "type": "histogram2d"
           }
          ],
          "histogram2dcontour": [
           {
            "colorbar": {
             "outlinewidth": 0,
             "ticks": ""
            },
            "colorscale": [
             [
              0,
              "#0d0887"
             ],
             [
              0.1111111111111111,
              "#46039f"
             ],
             [
              0.2222222222222222,
              "#7201a8"
             ],
             [
              0.3333333333333333,
              "#9c179e"
             ],
             [
              0.4444444444444444,
              "#bd3786"
             ],
             [
              0.5555555555555556,
              "#d8576b"
             ],
             [
              0.6666666666666666,
              "#ed7953"
             ],
             [
              0.7777777777777778,
              "#fb9f3a"
             ],
             [
              0.8888888888888888,
              "#fdca26"
             ],
             [
              1,
              "#f0f921"
             ]
            ],
            "type": "histogram2dcontour"
           }
          ],
          "mesh3d": [
           {
            "colorbar": {
             "outlinewidth": 0,
             "ticks": ""
            },
            "type": "mesh3d"
           }
          ],
          "parcoords": [
           {
            "line": {
             "colorbar": {
              "outlinewidth": 0,
              "ticks": ""
             }
            },
            "type": "parcoords"
           }
          ],
          "pie": [
           {
            "automargin": true,
            "type": "pie"
           }
          ],
          "scatter": [
           {
            "fillpattern": {
             "fillmode": "overlay",
             "size": 10,
             "solidity": 0.2
            },
            "type": "scatter"
           }
          ],
          "scatter3d": [
           {
            "line": {
             "colorbar": {
              "outlinewidth": 0,
              "ticks": ""
             }
            },
            "marker": {
             "colorbar": {
              "outlinewidth": 0,
              "ticks": ""
             }
            },
            "type": "scatter3d"
           }
          ],
          "scattercarpet": [
           {
            "marker": {
             "colorbar": {
              "outlinewidth": 0,
              "ticks": ""
             }
            },
            "type": "scattercarpet"
           }
          ],
          "scattergeo": [
           {
            "marker": {
             "colorbar": {
              "outlinewidth": 0,
              "ticks": ""
             }
            },
            "type": "scattergeo"
           }
          ],
          "scattergl": [
           {
            "marker": {
             "colorbar": {
              "outlinewidth": 0,
              "ticks": ""
             }
            },
            "type": "scattergl"
           }
          ],
          "scattermapbox": [
           {
            "marker": {
             "colorbar": {
              "outlinewidth": 0,
              "ticks": ""
             }
            },
            "type": "scattermapbox"
           }
          ],
          "scatterpolar": [
           {
            "marker": {
             "colorbar": {
              "outlinewidth": 0,
              "ticks": ""
             }
            },
            "type": "scatterpolar"
           }
          ],
          "scatterpolargl": [
           {
            "marker": {
             "colorbar": {
              "outlinewidth": 0,
              "ticks": ""
             }
            },
            "type": "scatterpolargl"
           }
          ],
          "scatterternary": [
           {
            "marker": {
             "colorbar": {
              "outlinewidth": 0,
              "ticks": ""
             }
            },
            "type": "scatterternary"
           }
          ],
          "surface": [
           {
            "colorbar": {
             "outlinewidth": 0,
             "ticks": ""
            },
            "colorscale": [
             [
              0,
              "#0d0887"
             ],
             [
              0.1111111111111111,
              "#46039f"
             ],
             [
              0.2222222222222222,
              "#7201a8"
             ],
             [
              0.3333333333333333,
              "#9c179e"
             ],
             [
              0.4444444444444444,
              "#bd3786"
             ],
             [
              0.5555555555555556,
              "#d8576b"
             ],
             [
              0.6666666666666666,
              "#ed7953"
             ],
             [
              0.7777777777777778,
              "#fb9f3a"
             ],
             [
              0.8888888888888888,
              "#fdca26"
             ],
             [
              1,
              "#f0f921"
             ]
            ],
            "type": "surface"
           }
          ],
          "table": [
           {
            "cells": {
             "fill": {
              "color": "#EBF0F8"
             },
             "line": {
              "color": "white"
             }
            },
            "header": {
             "fill": {
              "color": "#C8D4E3"
             },
             "line": {
              "color": "white"
             }
            },
            "type": "table"
           }
          ]
         },
         "layout": {
          "annotationdefaults": {
           "arrowcolor": "#2a3f5f",
           "arrowhead": 0,
           "arrowwidth": 1
          },
          "autotypenumbers": "strict",
          "coloraxis": {
           "colorbar": {
            "outlinewidth": 0,
            "ticks": ""
           }
          },
          "colorscale": {
           "diverging": [
            [
             0,
             "#8e0152"
            ],
            [
             0.1,
             "#c51b7d"
            ],
            [
             0.2,
             "#de77ae"
            ],
            [
             0.3,
             "#f1b6da"
            ],
            [
             0.4,
             "#fde0ef"
            ],
            [
             0.5,
             "#f7f7f7"
            ],
            [
             0.6,
             "#e6f5d0"
            ],
            [
             0.7,
             "#b8e186"
            ],
            [
             0.8,
             "#7fbc41"
            ],
            [
             0.9,
             "#4d9221"
            ],
            [
             1,
             "#276419"
            ]
           ],
           "sequential": [
            [
             0,
             "#0d0887"
            ],
            [
             0.1111111111111111,
             "#46039f"
            ],
            [
             0.2222222222222222,
             "#7201a8"
            ],
            [
             0.3333333333333333,
             "#9c179e"
            ],
            [
             0.4444444444444444,
             "#bd3786"
            ],
            [
             0.5555555555555556,
             "#d8576b"
            ],
            [
             0.6666666666666666,
             "#ed7953"
            ],
            [
             0.7777777777777778,
             "#fb9f3a"
            ],
            [
             0.8888888888888888,
             "#fdca26"
            ],
            [
             1,
             "#f0f921"
            ]
           ],
           "sequentialminus": [
            [
             0,
             "#0d0887"
            ],
            [
             0.1111111111111111,
             "#46039f"
            ],
            [
             0.2222222222222222,
             "#7201a8"
            ],
            [
             0.3333333333333333,
             "#9c179e"
            ],
            [
             0.4444444444444444,
             "#bd3786"
            ],
            [
             0.5555555555555556,
             "#d8576b"
            ],
            [
             0.6666666666666666,
             "#ed7953"
            ],
            [
             0.7777777777777778,
             "#fb9f3a"
            ],
            [
             0.8888888888888888,
             "#fdca26"
            ],
            [
             1,
             "#f0f921"
            ]
           ]
          },
          "colorway": [
           "#636efa",
           "#EF553B",
           "#00cc96",
           "#ab63fa",
           "#FFA15A",
           "#19d3f3",
           "#FF6692",
           "#B6E880",
           "#FF97FF",
           "#FECB52"
          ],
          "font": {
           "color": "#2a3f5f"
          },
          "geo": {
           "bgcolor": "white",
           "lakecolor": "white",
           "landcolor": "white",
           "showlakes": true,
           "showland": true,
           "subunitcolor": "#C8D4E3"
          },
          "hoverlabel": {
           "align": "left"
          },
          "hovermode": "closest",
          "mapbox": {
           "style": "light"
          },
          "paper_bgcolor": "white",
          "plot_bgcolor": "white",
          "polar": {
           "angularaxis": {
            "gridcolor": "#EBF0F8",
            "linecolor": "#EBF0F8",
            "ticks": ""
           },
           "bgcolor": "white",
           "radialaxis": {
            "gridcolor": "#EBF0F8",
            "linecolor": "#EBF0F8",
            "ticks": ""
           }
          },
          "scene": {
           "xaxis": {
            "backgroundcolor": "white",
            "gridcolor": "#DFE8F3",
            "gridwidth": 2,
            "linecolor": "#EBF0F8",
            "showbackground": true,
            "ticks": "",
            "zerolinecolor": "#EBF0F8"
           },
           "yaxis": {
            "backgroundcolor": "white",
            "gridcolor": "#DFE8F3",
            "gridwidth": 2,
            "linecolor": "#EBF0F8",
            "showbackground": true,
            "ticks": "",
            "zerolinecolor": "#EBF0F8"
           },
           "zaxis": {
            "backgroundcolor": "white",
            "gridcolor": "#DFE8F3",
            "gridwidth": 2,
            "linecolor": "#EBF0F8",
            "showbackground": true,
            "ticks": "",
            "zerolinecolor": "#EBF0F8"
           }
          },
          "shapedefaults": {
           "line": {
            "color": "#2a3f5f"
           }
          },
          "ternary": {
           "aaxis": {
            "gridcolor": "#DFE8F3",
            "linecolor": "#A2B1C6",
            "ticks": ""
           },
           "baxis": {
            "gridcolor": "#DFE8F3",
            "linecolor": "#A2B1C6",
            "ticks": ""
           },
           "bgcolor": "white",
           "caxis": {
            "gridcolor": "#DFE8F3",
            "linecolor": "#A2B1C6",
            "ticks": ""
           }
          },
          "title": {
           "x": 0.05
          },
          "xaxis": {
           "automargin": true,
           "gridcolor": "#EBF0F8",
           "linecolor": "#EBF0F8",
           "ticks": "",
           "title": {
            "standoff": 15
           },
           "zerolinecolor": "#EBF0F8",
           "zerolinewidth": 2
          },
          "yaxis": {
           "automargin": true,
           "gridcolor": "#EBF0F8",
           "linecolor": "#EBF0F8",
           "ticks": "",
           "title": {
            "standoff": 15
           },
           "zerolinecolor": "#EBF0F8",
           "zerolinewidth": 2
          }
         }
        },
        "width": 800,
        "xaxis": {
         "anchor": "y",
         "autorange": true,
         "domain": [
          0,
          0.7363
         ],
         "range": [
          0.2788736099669522,
          12.721126390033048
         ],
         "title": {
          "text": "Count"
         },
         "type": "linear"
        },
        "xaxis2": {
         "anchor": "y2",
         "autorange": true,
         "domain": [
          0.7413,
          1
         ],
         "matches": "x2",
         "range": [
          0,
          42.10526315789474
         ],
         "showgrid": true,
         "showline": false,
         "showticklabels": false,
         "ticks": ""
        },
        "xaxis3": {
         "anchor": "y3",
         "autorange": true,
         "domain": [
          0,
          0.7363
         ],
         "matches": "x",
         "range": [
          0.2788736099669522,
          12.721126390033048
         ],
         "showgrid": true,
         "showticklabels": false,
         "type": "linear"
        },
        "xaxis4": {
         "anchor": "y4",
         "domain": [
          0.7413,
          1
         ],
         "matches": "x2",
         "showgrid": true,
         "showline": false,
         "showticklabels": false,
         "ticks": ""
        },
        "yaxis": {
         "anchor": "x",
         "autorange": true,
         "domain": [
          0,
          0.7326
         ],
         "range": [
          -0.13259910809596148,
          1.9999999999999998
         ],
         "title": {
          "text": "absolute_error"
         },
         "type": "linear"
        },
        "yaxis2": {
         "anchor": "x2",
         "autorange": true,
         "domain": [
          0,
          0.7326
         ],
         "matches": "y",
         "range": [
          -0.13259910809596148,
          1.9999999999999998
         ],
         "showgrid": true,
         "showticklabels": false,
         "type": "linear"
        },
        "yaxis3": {
         "anchor": "x3",
         "autorange": true,
         "domain": [
          0.7426,
          1
         ],
         "matches": "y3",
         "range": [
          0,
          38.94736842105263
         ],
         "showgrid": true,
         "showline": false,
         "showticklabels": false,
         "ticks": ""
        },
        "yaxis4": {
         "anchor": "x4",
         "domain": [
          0.7426,
          1
         ],
         "matches": "y3",
         "showgrid": true,
         "showline": false,
         "showticklabels": false,
         "ticks": ""
        }
       }
      },
      "image/png": "[encoded data removed]",
      "text/html": [
       "<div>                            <div id=\"94f2381f-c358-433a-8b84-e9f5fb783a4b\" class=\"plotly-graph-div\" style=\"height:500px; width:800px;\"></div>            <script type=\"text/javascript\">                require([\"plotly\"], function(Plotly) {                    window.PLOTLYENV=window.PLOTLYENV || {};                                    if (document.getElementById(\"94f2381f-c358-433a-8b84-e9f5fb783a4b\")) {                    Plotly.newPlot(                        \"94f2381f-c358-433a-8b84-e9f5fb783a4b\",                        [{\"hovertemplate\":\"Count=%{x}\\u003cbr\\u003eabsolute_error=%{y}\\u003cextra\\u003e\\u003c\\u002fextra\\u003e\",\"legendgroup\":\"\",\"marker\":{\"color\":\"#636efa\",\"symbol\":\"circle\"},\"mode\":\"markers\",\"name\":\"\",\"orientation\":\"v\",\"showlegend\":false,\"x\":[3,5,3,2,2,2,1,1,2,1,4,1,3,3,4,4,7,3,2,2,2,2,3,2,3,8,2,2,4,2,2,2,2,5,2,2,2,2,2,7,3,2,2,2,5,2,2,2,7,6,6,7,5,6,5,2,5,5,3,8,3,8,3,6,2,5,4,1,2,4,1,3,6,5,2,7,7,3,5,2,2,3,3,3,5,3,3,3,3,7,12,4,3,2,4,2,2,3,3,6,12,5,5,3,2,1,2,1,1,1,1,1],\"xaxis\":\"x\",\"y\":[0.02050536159999994,0.46994159700000004,0.6128429984999997,0.038747692100000286,0.004353771199999912,0.5834949684,0.6490559959000004,0.2442363644000003,1.1022316837,0.4596888924,0.933805542,0.20600908280000008,0.0074096489000003984,0.3246463251,0.6620069503999995,0.37476003649999967,0.40921369789999995,0.09209900500000001,0.08710250849999923,0.07316387409999997,0.13489369029999998,0.21926452639999994,0.15098289490000005,0.21741227630000004,0.3818274879000003,1.8171659355000003,1.6256248665000004,0.17933085920000003,0.23513841820000003,0.05880620000000003,0.05231292249999997,0.012598538399999804,0.3736026192000006,1.0478749008000001,0.8205586243000003,1.3057504272,0.5431138992000006,0.30313455580000026,0.09140454770000006,0.9943098488000004,0.0188134766000001,0.11704069139999973,0.1829195403999999,0.10815591570000005,0.5985976218999998,0.6026130437999999,0.06436846260000006,0.8255533027999999,0.9676622580999998,0.7414913177,1.6741534385999999,1.4860123634,0.17984437180000024,0.8522870139999998,0.2278730774000004,0.059944391299999955,0.1657131385999997,0.019168624900000042,0.4674119729999999,0.6212906675000001,0.08016679999999998,0.2747710495,0.11431339259999973,1.5957290381999996,0.37967746260000007,0.09343554689999989,0.5377624320999996,0.1283459473000006,0.30592086789999984,0.2811324196,0.2630455112000001,0.16709442140000008,0.4143320560000001,0.31303436279999985,0.09808649060000008,0.7825656509000005,0.46848093030000015,0.1339679909,0.4939557837999997,0.11043102259999982,0.1660990334000001,0.01757454869999986,0.325434494,0.7073250674999998,0.1687688999000001,0.7128535556999998,0.23094151500000004,0.048681459400000016,0.9008450279,0.9088329582000005,0.8135860595999995,0.16470802309999977,0.4997946930000001,0.7388282061000001,0.4490712165999997,0.047957458499999994,0.22908372879999983,0.1448392391000004,1.5752259673999993,0.2379223251,0.7162306643,0.16494133,0.5720606232000001,0.016238989799999937,0.312657733,0.23836399839999878,0.24881062509999996,0.6909137916999999,0.9156543827000001,1.5265427016999995,0.3531303405999999,0.7270176314999999],\"yaxis\":\"y\",\"type\":\"scatter\"},{\"alignmentgroup\":\"True\",\"bingroup\":\"x\",\"hovertemplate\":\"Count=%{x}\\u003cbr\\u003ecount=%{y}\\u003cextra\\u003e\\u003c\\u002fextra\\u003e\",\"legendgroup\":\"\",\"marker\":{\"color\":\"#636efa\"},\"name\":\"\",\"offsetgroup\":\"\",\"opacity\":0.5,\"showlegend\":false,\"x\":[3,5,3,2,2,2,1,1,2,1,4,1,3,3,4,4,7,3,2,2,2,2,3,2,3,8,2,2,4,2,2,2,2,5,2,2,2,2,2,7,3,2,2,2,5,2,2,2,7,6,6,7,5,6,5,2,5,5,3,8,3,8,3,6,2,5,4,1,2,4,1,3,6,5,2,7,7,3,5,2,2,3,3,3,5,3,3,3,3,7,12,4,3,2,4,2,2,3,3,6,12,5,5,3,2,1,2,1,1,1,1,1],\"xaxis\":\"x3\",\"yaxis\":\"y3\",\"type\":\"histogram\"},{\"alignmentgroup\":\"True\",\"bingroup\":\"y\",\"hovertemplate\":\"absolute_error=%{y}\\u003cbr\\u003ecount=%{x}\\u003cextra\\u003e\\u003c\\u002fextra\\u003e\",\"legendgroup\":\"\",\"marker\":{\"color\":\"#636efa\"},\"name\":\"\",\"offsetgroup\":\"\",\"opacity\":0.5,\"showlegend\":false,\"xaxis\":\"x2\",\"y\":[0.02050536159999994,0.46994159700000004,0.6128429984999997,0.038747692100000286,0.004353771199999912,0.5834949684,0.6490559959000004,0.2442363644000003,1.1022316837,0.4596888924,0.933805542,0.20600908280000008,0.0074096489000003984,0.3246463251,0.6620069503999995,0.37476003649999967,0.40921369789999995,0.09209900500000001,0.08710250849999923,0.07316387409999997,0.13489369029999998,0.21926452639999994,0.15098289490000005,0.21741227630000004,0.3818274879000003,1.8171659355000003,1.6256248665000004,0.17933085920000003,0.23513841820000003,0.05880620000000003,0.05231292249999997,0.012598538399999804,0.3736026192000006,1.0478749008000001,0.8205586243000003,1.3057504272,0.5431138992000006,0.30313455580000026,0.09140454770000006,0.9943098488000004,0.0188134766000001,0.11704069139999973,0.1829195403999999,0.10815591570000005,0.5985976218999998,0.6026130437999999,0.06436846260000006,0.8255533027999999,0.9676622580999998,0.7414913177,1.6741534385999999,1.4860123634,0.17984437180000024,0.8522870139999998,0.2278730774000004,0.059944391299999955,0.1657131385999997,0.019168624900000042,0.4674119729999999,0.6212906675000001,0.08016679999999998,0.2747710495,0.11431339259999973,1.5957290381999996,0.37967746260000007,0.09343554689999989,0.5377624320999996,0.1283459473000006,0.30592086789999984,0.2811324196,0.2630455112000001,0.16709442140000008,0.4143320560000001,0.31303436279999985,0.09808649060000008,0.7825656509000005,0.46848093030000015,0.1339679909,0.4939557837999997,0.11043102259999982,0.1660990334000001,0.01757454869999986,0.325434494,0.7073250674999998,0.1687688999000001,0.7128535556999998,0.23094151500000004,0.048681459400000016,0.9008450279,0.9088329582000005,0.8135860595999995,0.16470802309999977,0.4997946930000001,0.7388282061000001,0.4490712165999997,0.047957458499999994,0.22908372879999983,0.1448392391000004,1.5752259673999993,0.2379223251,0.7162306643,0.16494133,0.5720606232000001,0.016238989799999937,0.312657733,0.23836399839999878,0.24881062509999996,0.6909137916999999,0.9156543827000001,1.5265427016999995,0.3531303405999999,0.7270176314999999],\"yaxis\":\"y2\",\"type\":\"histogram\"}],                        {\"template\":{\"data\":{\"barpolar\":[{\"marker\":{\"line\":{\"color\":\"white\",\"width\":0.5},\"pattern\":{\"fillmode\":\"overlay\",\"size\":10,\"solidity\":0.2}},\"type\":\"barpolar\"}],\"bar\":[{\"error_x\":{\"color\":\"#2a3f5f\"},\"error_y\":{\"color\":\"#2a3f5f\"},\"marker\":{\"line\":{\"color\":\"white\",\"width\":0.5},\"pattern\":{\"fillmode\":\"overlay\",\"size\":10,\"solidity\":0.2}},\"type\":\"bar\"}],\"carpet\":[{\"aaxis\":{\"endlinecolor\":\"#2a3f5f\",\"gridcolor\":\"#C8D4E3\",\"linecolor\":\"#C8D4E3\",\"minorgridcolor\":\"#C8D4E3\",\"startlinecolor\":\"#2a3f5f\"},\"baxis\":{\"endlinecolor\":\"#2a3f5f\",\"gridcolor\":\"#C8D4E3\",\"linecolor\":\"#C8D4E3\",\"minorgridcolor\":\"#C8D4E3\",\"startlinecolor\":\"#2a3f5f\"},\"type\":\"carpet\"}],\"choropleth\":[{\"colorbar\":{\"outlinewidth\":0,\"ticks\":\"\"},\"type\":\"choropleth\"}],\"contourcarpet\":[{\"colorbar\":{\"outlinewidth\":0,\"ticks\":\"\"},\"type\":\"contourcarpet\"}],\"contour\":[{\"colorbar\":{\"outlinewidth\":0,\"ticks\":\"\"},\"colorscale\":[[0.0,\"#0d0887\"],[0.1111111111111111,\"#46039f\"],[0.2222222222222222,\"#7201a8\"],[0.3333333333333333,\"#9c179e\"],[0.4444444444444444,\"#bd3786\"],[0.5555555555555556,\"#d8576b\"],[0.6666666666666666,\"#ed7953\"],[0.7777777777777778,\"#fb9f3a\"],[0.8888888888888888,\"#fdca26\"],[1.0,\"#f0f921\"]],\"type\":\"contour\"}],\"heatmapgl\":[{\"colorbar\":{\"outlinewidth\":0,\"ticks\":\"\"},\"colorscale\":[[0.0,\"#0d0887\"],[0.1111111111111111,\"#46039f\"],[0.2222222222222222,\"#7201a8\"],[0.3333333333333333,\"#9c179e\"],[0.4444444444444444,\"#bd3786\"],[0.5555555555555556,\"#d8576b\"],[0.6666666666666666,\"#ed7953\"],[0.7777777777777778,\"#fb9f3a\"],[0.8888888888888888,\"#fdca26\"],[1.0,\"#f0f921\"]],\"type\":\"heatmapgl\"}],\"heatmap\":[{\"colorbar\":{\"outlinewidth\":0,\"ticks\":\"\"},\"colorscale\":[[0.0,\"#0d0887\"],[0.1111111111111111,\"#46039f\"],[0.2222222222222222,\"#7201a8\"],[0.3333333333333333,\"#9c179e\"],[0.4444444444444444,\"#bd3786\"],[0.5555555555555556,\"#d8576b\"],[0.6666666666666666,\"#ed7953\"],[0.7777777777777778,\"#fb9f3a\"],[0.8888888888888888,\"#fdca26\"],[1.0,\"#f0f921\"]],\"type\":\"heatmap\"}],\"histogram2dcontour\":[{\"colorbar\":{\"outlinewidth\":0,\"ticks\":\"\"},\"colorscale\":[[0.0,\"#0d0887\"],[0.1111111111111111,\"#46039f\"],[0.2222222222222222,\"#7201a8\"],[0.3333333333333333,\"#9c179e\"],[0.4444444444444444,\"#bd3786\"],[0.5555555555555556,\"#d8576b\"],[0.6666666666666666,\"#ed7953\"],[0.7777777777777778,\"#fb9f3a\"],[0.8888888888888888,\"#fdca26\"],[1.0,\"#f0f921\"]],\"type\":\"histogram2dcontour\"}],\"histogram2d\":[{\"colorbar\":{\"outlinewidth\":0,\"ticks\":\"\"},\"colorscale\":[[0.0,\"#0d0887\"],[0.1111111111111111,\"#46039f\"],[0.2222222222222222,\"#7201a8\"],[0.3333333333333333,\"#9c179e\"],[0.4444444444444444,\"#bd3786\"],[0.5555555555555556,\"#d8576b\"],[0.6666666666666666,\"#ed7953\"],[0.7777777777777778,\"#fb9f3a\"],[0.8888888888888888,\"#fdca26\"],[1.0,\"#f0f921\"]],\"type\":\"histogram2d\"}],\"histogram\":[{\"marker\":{\"pattern\":{\"fillmode\":\"overlay\",\"size\":10,\"solidity\":0.2}},\"type\":\"histogram\"}],\"mesh3d\":[{\"colorbar\":{\"outlinewidth\":0,\"ticks\":\"\"},\"type\":\"mesh3d\"}],\"parcoords\":[{\"line\":{\"colorbar\":{\"outlinewidth\":0,\"ticks\":\"\"}},\"type\":\"parcoords\"}],\"pie\":[{\"automargin\":true,\"type\":\"pie\"}],\"scatter3d\":[{\"line\":{\"colorbar\":{\"outlinewidth\":0,\"ticks\":\"\"}},\"marker\":{\"colorbar\":{\"outlinewidth\":0,\"ticks\":\"\"}},\"type\":\"scatter3d\"}],\"scattercarpet\":[{\"marker\":{\"colorbar\":{\"outlinewidth\":0,\"ticks\":\"\"}},\"type\":\"scattercarpet\"}],\"scattergeo\":[{\"marker\":{\"colorbar\":{\"outlinewidth\":0,\"ticks\":\"\"}},\"type\":\"scattergeo\"}],\"scattergl\":[{\"marker\":{\"colorbar\":{\"outlinewidth\":0,\"ticks\":\"\"}},\"type\":\"scattergl\"}],\"scattermapbox\":[{\"marker\":{\"colorbar\":{\"outlinewidth\":0,\"ticks\":\"\"}},\"type\":\"scattermapbox\"}],\"scatterpolargl\":[{\"marker\":{\"colorbar\":{\"outlinewidth\":0,\"ticks\":\"\"}},\"type\":\"scatterpolargl\"}],\"scatterpolar\":[{\"marker\":{\"colorbar\":{\"outlinewidth\":0,\"ticks\":\"\"}},\"type\":\"scatterpolar\"}],\"scatter\":[{\"fillpattern\":{\"fillmode\":\"overlay\",\"size\":10,\"solidity\":0.2},\"type\":\"scatter\"}],\"scatterternary\":[{\"marker\":{\"colorbar\":{\"outlinewidth\":0,\"ticks\":\"\"}},\"type\":\"scatterternary\"}],\"surface\":[{\"colorbar\":{\"outlinewidth\":0,\"ticks\":\"\"},\"colorscale\":[[0.0,\"#0d0887\"],[0.1111111111111111,\"#46039f\"],[0.2222222222222222,\"#7201a8\"],[0.3333333333333333,\"#9c179e\"],[0.4444444444444444,\"#bd3786\"],[0.5555555555555556,\"#d8576b\"],[0.6666666666666666,\"#ed7953\"],[0.7777777777777778,\"#fb9f3a\"],[0.8888888888888888,\"#fdca26\"],[1.0,\"#f0f921\"]],\"type\":\"surface\"}],\"table\":[{\"cells\":{\"fill\":{\"color\":\"#EBF0F8\"},\"line\":{\"color\":\"white\"}},\"header\":{\"fill\":{\"color\":\"#C8D4E3\"},\"line\":{\"color\":\"white\"}},\"type\":\"table\"}]},\"layout\":{\"annotationdefaults\":{\"arrowcolor\":\"#2a3f5f\",\"arrowhead\":0,\"arrowwidth\":1},\"autotypenumbers\":\"strict\",\"coloraxis\":{\"colorbar\":{\"outlinewidth\":0,\"ticks\":\"\"}},\"colorscale\":{\"diverging\":[[0,\"#8e0152\"],[0.1,\"#c51b7d\"],[0.2,\"#de77ae\"],[0.3,\"#f1b6da\"],[0.4,\"#fde0ef\"],[0.5,\"#f7f7f7\"],[0.6,\"#e6f5d0\"],[0.7,\"#b8e186\"],[0.8,\"#7fbc41\"],[0.9,\"#4d9221\"],[1,\"#276419\"]],\"sequential\":[[0.0,\"#0d0887\"],[0.1111111111111111,\"#46039f\"],[0.2222222222222222,\"#7201a8\"],[0.3333333333333333,\"#9c179e\"],[0.4444444444444444,\"#bd3786\"],[0.5555555555555556,\"#d8576b\"],[0.6666666666666666,\"#ed7953\"],[0.7777777777777778,\"#fb9f3a\"],[0.8888888888888888,\"#fdca26\"],[1.0,\"#f0f921\"]],\"sequentialminus\":[[0.0,\"#0d0887\"],[0.1111111111111111,\"#46039f\"],[0.2222222222222222,\"#7201a8\"],[0.3333333333333333,\"#9c179e\"],[0.4444444444444444,\"#bd3786\"],[0.5555555555555556,\"#d8576b\"],[0.6666666666666666,\"#ed7953\"],[0.7777777777777778,\"#fb9f3a\"],[0.8888888888888888,\"#fdca26\"],[1.0,\"#f0f921\"]]},\"colorway\":[\"#636efa\",\"#EF553B\",\"#00cc96\",\"#ab63fa\",\"#FFA15A\",\"#19d3f3\",\"#FF6692\",\"#B6E880\",\"#FF97FF\",\"#FECB52\"],\"font\":{\"color\":\"#2a3f5f\"},\"geo\":{\"bgcolor\":\"white\",\"lakecolor\":\"white\",\"landcolor\":\"white\",\"showlakes\":true,\"showland\":true,\"subunitcolor\":\"#C8D4E3\"},\"hoverlabel\":{\"align\":\"left\"},\"hovermode\":\"closest\",\"mapbox\":{\"style\":\"light\"},\"paper_bgcolor\":\"white\",\"plot_bgcolor\":\"white\",\"polar\":{\"angularaxis\":{\"gridcolor\":\"#EBF0F8\",\"linecolor\":\"#EBF0F8\",\"ticks\":\"\"},\"bgcolor\":\"white\",\"radialaxis\":{\"gridcolor\":\"#EBF0F8\",\"linecolor\":\"#EBF0F8\",\"ticks\":\"\"}},\"scene\":{\"xaxis\":{\"backgroundcolor\":\"white\",\"gridcolor\":\"#DFE8F3\",\"gridwidth\":2,\"linecolor\":\"#EBF0F8\",\"showbackground\":true,\"ticks\":\"\",\"zerolinecolor\":\"#EBF0F8\"},\"yaxis\":{\"backgroundcolor\":\"white\",\"gridcolor\":\"#DFE8F3\",\"gridwidth\":2,\"linecolor\":\"#EBF0F8\",\"showbackground\":true,\"ticks\":\"\",\"zerolinecolor\":\"#EBF0F8\"},\"zaxis\":{\"backgroundcolor\":\"white\",\"gridcolor\":\"#DFE8F3\",\"gridwidth\":2,\"linecolor\":\"#EBF0F8\",\"showbackground\":true,\"ticks\":\"\",\"zerolinecolor\":\"#EBF0F8\"}},\"shapedefaults\":{\"line\":{\"color\":\"#2a3f5f\"}},\"ternary\":{\"aaxis\":{\"gridcolor\":\"#DFE8F3\",\"linecolor\":\"#A2B1C6\",\"ticks\":\"\"},\"baxis\":{\"gridcolor\":\"#DFE8F3\",\"linecolor\":\"#A2B1C6\",\"ticks\":\"\"},\"bgcolor\":\"white\",\"caxis\":{\"gridcolor\":\"#DFE8F3\",\"linecolor\":\"#A2B1C6\",\"ticks\":\"\"}},\"title\":{\"x\":0.05},\"xaxis\":{\"automargin\":true,\"gridcolor\":\"#EBF0F8\",\"linecolor\":\"#EBF0F8\",\"ticks\":\"\",\"title\":{\"standoff\":15},\"zerolinecolor\":\"#EBF0F8\",\"zerolinewidth\":2},\"yaxis\":{\"automargin\":true,\"gridcolor\":\"#EBF0F8\",\"linecolor\":\"#EBF0F8\",\"ticks\":\"\",\"title\":{\"standoff\":15},\"zerolinecolor\":\"#EBF0F8\",\"zerolinewidth\":2}}},\"xaxis\":{\"anchor\":\"y\",\"domain\":[0.0,0.7363],\"title\":{\"text\":\"Count\"}},\"yaxis\":{\"anchor\":\"x\",\"domain\":[0.0,0.7326],\"title\":{\"text\":\"absolute_error\"}},\"xaxis2\":{\"anchor\":\"y2\",\"domain\":[0.7413,1.0],\"matches\":\"x2\",\"showticklabels\":false,\"showline\":false,\"ticks\":\"\",\"showgrid\":true},\"yaxis2\":{\"anchor\":\"x2\",\"domain\":[0.0,0.7326],\"matches\":\"y\",\"showticklabels\":false,\"showgrid\":true},\"xaxis3\":{\"anchor\":\"y3\",\"domain\":[0.0,0.7363],\"matches\":\"x\",\"showticklabels\":false,\"showgrid\":true},\"yaxis3\":{\"anchor\":\"x3\",\"domain\":[0.7426,1.0],\"matches\":\"y3\",\"showticklabels\":false,\"showline\":false,\"ticks\":\"\",\"showgrid\":true},\"xaxis4\":{\"anchor\":\"y4\",\"domain\":[0.7413,1.0],\"matches\":\"x2\",\"showticklabels\":false,\"showgrid\":true,\"showline\":false,\"ticks\":\"\"},\"yaxis4\":{\"anchor\":\"x4\",\"domain\":[0.7426,1.0],\"matches\":\"y3\",\"showticklabels\":false,\"showline\":false,\"ticks\":\"\",\"showgrid\":true},\"legend\":{\"tracegroupgap\":0},\"margin\":{\"t\":60},\"barmode\":\"overlay\",\"shapes\":[{\"line\":{\"color\":\"red\"},\"type\":\"line\",\"x0\":0,\"x1\":1,\"xref\":\"x domain\",\"y0\":0.6,\"y1\":0.6,\"yref\":\"y\"},{\"line\":{\"color\":\"red\"},\"type\":\"line\",\"x0\":0,\"x1\":1,\"xref\":\"x2 domain\",\"y0\":0.6,\"y1\":0.6,\"yref\":\"y2\"},{\"line\":{\"color\":\"red\"},\"type\":\"line\",\"x0\":0,\"x1\":1,\"xref\":\"x3 domain\",\"y0\":0.6,\"y1\":0.6,\"yref\":\"y3\"}],\"autosize\":false,\"width\":800,\"height\":500},                        {\"responsive\": true}                    ).then(function(){\n",
       "                            \n",
       "var gd = document.getElementById('94f2381f-c358-433a-8b84-e9f5fb783a4b');\n",
       "var x = new MutationObserver(function (mutations, observer) {{\n",
       "        var display = window.getComputedStyle(gd).display;\n",
       "        if (!display || display === 'none') {{\n",
       "            console.log([gd, 'removed!']);\n",
       "            Plotly.purge(gd);\n",
       "            observer.disconnect();\n",
       "        }}\n",
       "}});\n",
       "\n",
       "// Listen for the removal of the full notebook cells\n",
       "var notebookContainer = gd.closest('#notebook-container');\n",
       "if (notebookContainer) {{\n",
       "    x.observe(notebookContainer, {childList: true});\n",
       "}}\n",
       "\n",
       "// Listen for the clearing of the current output cell\n",
       "var outputEl = gd.closest('.output');\n",
       "if (outputEl) {{\n",
       "    x.observe(outputEl, {childList: true});\n",
       "}}\n",
       "\n",
       "                        })                };                });            </script>        </div>"
      ]
     },
     "metadata": {},
     "output_type": "display_data"
    }
   ],
   "source": [
    "# Plot absolute error in function of the number of substructures\n",
    "df = data.join(test_attributions.groupby(\"molecule_smiles\").size().to_frame(\"Count\"), on=\"smiles\")\n",
    "\n",
    "fig = px.scatter(df, x=\"Count\", y=\"absolute_error\", marginal_x=\"histogram\", marginal_y=\"histogram\")\n",
    "fig.add_hline(y=0.6, line_color=\"red\")\n",
    "fig.update_layout(autosize=False, width=800, height=500, template=\"plotly_white\")\n",
    "fig.show()"
   ]
  },
  {
   "cell_type": "markdown",
   "id": "9e6bd532-9f36-430d-94f4-55167d3c6c39",
   "metadata": {},
   "source": [
    "# Data labeling"
   ]
  },
  {
   "cell_type": "code",
   "execution_count": 56,
   "id": "31dc0ecf-6acb-4d1a-84ce-a211fbf91e9b",
   "metadata": {},
   "outputs": [
    {
     "data": {
      "text/html": [
       "<div>\n",
       "<style scoped>\n",
       "    .dataframe tbody tr th:only-of-type {\n",
       "        vertical-align: middle;\n",
       "    }\n",
       "\n",
       "    .dataframe tbody tr th {\n",
       "        vertical-align: top;\n",
       "    }\n",
       "\n",
       "    .dataframe thead th {\n",
       "        text-align: right;\n",
       "    }\n",
       "</style>\n",
       "<table border=\"1\" class=\"dataframe\">\n",
       "  <thead>\n",
       "    <tr style=\"text-align: right;\">\n",
       "      <th></th>\n",
       "      <th>molecule_smiles</th>\n",
       "      <th>atom_highlights</th>\n",
       "    </tr>\n",
       "  </thead>\n",
       "  <tbody>\n",
       "    <tr>\n",
       "      <th>0</th>\n",
       "      <td>BrCCBr</td>\n",
       "      <td>{(0,): 1, (3,): 1, (1, 2): 1}</td>\n",
       "    </tr>\n",
       "    <tr>\n",
       "      <th>1</th>\n",
       "      <td>Brc1cc(Br)c(Br)cc1Br</td>\n",
       "      <td>{(0,): 1, (4,): 1, (6,): 1, (9,): 1, (1, 2, 3,...</td>\n",
       "    </tr>\n",
       "    <tr>\n",
       "      <th>2</th>\n",
       "      <td>Brc1cccc(Br)c1</td>\n",
       "      <td>{(0,): 1, (6,): 1, (1, 2, 3, 4, 5, 7): 1}</td>\n",
       "    </tr>\n",
       "    <tr>\n",
       "      <th>3</th>\n",
       "      <td>Brc1cccc2ccccc12</td>\n",
       "      <td>{(0,): 1, (1, 2, 3, 4, 5, 6, 7, 8, 9, 10): 1}</td>\n",
       "    </tr>\n",
       "    <tr>\n",
       "      <th>4</th>\n",
       "      <td>C#CCCCCCCC</td>\n",
       "      <td>{(1, 0): 1, (2, 3, 4, 5, 6, 7, 8): 1}</td>\n",
       "    </tr>\n",
       "    <tr>\n",
       "      <th>...</th>\n",
       "      <td>...</td>\n",
       "      <td>...</td>\n",
       "    </tr>\n",
       "    <tr>\n",
       "      <th>107</th>\n",
       "      <td>c1ccc2c(c1)CCCC2</td>\n",
       "      <td>{(0, 1, 2, 3, 4, 5, 6, 7, 8, 9): 1}</td>\n",
       "    </tr>\n",
       "    <tr>\n",
       "      <th>108</th>\n",
       "      <td>c1ccc2c(c1)CCN2</td>\n",
       "      <td>{(0, 1, 2, 3, 4, 5, 6, 7, 8): 1}</td>\n",
       "    </tr>\n",
       "    <tr>\n",
       "      <th>109</th>\n",
       "      <td>c1ccc2c(c1)Cc1cc3ccccc3cc1-2</td>\n",
       "      <td>{(0, 1, 2, 3, 4, 5, 6, 7, 8, 9, 10, 11, 12, 13...</td>\n",
       "    </tr>\n",
       "    <tr>\n",
       "      <th>110</th>\n",
       "      <td>c1ccc2c3c(ccc2c1)-c1cccc2cccc-3c12</td>\n",
       "      <td>{(0, 1, 2, 3, 4, 5, 6, 7, 8, 9, 10, 11, 12, 13...</td>\n",
       "    </tr>\n",
       "    <tr>\n",
       "      <th>111</th>\n",
       "      <td>c1ccc2cc3c(cc2c1)-c1cccc2cccc-3c12</td>\n",
       "      <td>{(0, 1, 2, 3, 4, 5, 6, 7, 8, 9, 10, 11, 12, 13...</td>\n",
       "    </tr>\n",
       "  </tbody>\n",
       "</table>\n",
       "<p>112 rows × 2 columns</p>\n",
       "</div>"
      ],
      "text/plain": [
       "                        molecule_smiles  \\\n",
       "0                                BrCCBr   \n",
       "1                  Brc1cc(Br)c(Br)cc1Br   \n",
       "2                        Brc1cccc(Br)c1   \n",
       "3                      Brc1cccc2ccccc12   \n",
       "4                            C#CCCCCCCC   \n",
       "..                                  ...   \n",
       "107                    c1ccc2c(c1)CCCC2   \n",
       "108                     c1ccc2c(c1)CCN2   \n",
       "109        c1ccc2c(c1)Cc1cc3ccccc3cc1-2   \n",
       "110  c1ccc2c3c(ccc2c1)-c1cccc2cccc-3c12   \n",
       "111  c1ccc2cc3c(cc2c1)-c1cccc2cccc-3c12   \n",
       "\n",
       "                                       atom_highlights  \n",
       "0                        {(0,): 1, (3,): 1, (1, 2): 1}  \n",
       "1    {(0,): 1, (4,): 1, (6,): 1, (9,): 1, (1, 2, 3,...  \n",
       "2            {(0,): 1, (6,): 1, (1, 2, 3, 4, 5, 7): 1}  \n",
       "3        {(0,): 1, (1, 2, 3, 4, 5, 6, 7, 8, 9, 10): 1}  \n",
       "4                {(1, 0): 1, (2, 3, 4, 5, 6, 7, 8): 1}  \n",
       "..                                                 ...  \n",
       "107                {(0, 1, 2, 3, 4, 5, 6, 7, 8, 9): 1}  \n",
       "108                   {(0, 1, 2, 3, 4, 5, 6, 7, 8): 1}  \n",
       "109  {(0, 1, 2, 3, 4, 5, 6, 7, 8, 9, 10, 11, 12, 13...  \n",
       "110  {(0, 1, 2, 3, 4, 5, 6, 7, 8, 9, 10, 11, 12, 13...  \n",
       "111  {(0, 1, 2, 3, 4, 5, 6, 7, 8, 9, 10, 11, 12, 13...  \n",
       "\n",
       "[112 rows x 2 columns]"
      ]
     },
     "execution_count": 56,
     "metadata": {},
     "output_type": "execute_result"
    }
   ],
   "source": [
    "molecules = test_attributions[[\"molecule_smiles\", \"atom_ids\"]].groupby(\"molecule_smiles\")\\\n",
    "    .apply(lambda group: {tuple(key): 1 for key in group.atom_ids})\\\n",
    "    .to_frame(\"atom_highlights\")\\\n",
    "    .reset_index()\n",
    "molecules"
   ]
  },
  {
   "cell_type": "code",
   "execution_count": 57,
   "id": "575c69a6-c150-4676-91f7-2cbeeab3b31b",
   "metadata": {},
   "outputs": [
    {
     "name": "stdout",
     "output_type": "stream",
     "text": [
      "Series([], Name: molecule_smiles, dtype: object)\n",
      "Series([], Name: atom_highlights, dtype: object)\n"
     ]
    },
    {
     "ename": "TypeError",
     "evalue": "No registered converter was able to produce a C++ rvalue of type std::__cxx11::basic_string<wchar_t, std::char_traits<wchar_t>, std::allocator<wchar_t> > from this Python object of type Series",
     "output_type": "error",
     "traceback": [
      "\u001b[0;31m---------------------------------------------------------------------------\u001b[0m",
      "\u001b[0;31mTypeError\u001b[0m                                 Traceback (most recent call last)",
      "Cell \u001b[0;32mIn[57], line 6\u001b[0m\n\u001b[1;32m      3\u001b[0m \u001b[38;5;28mprint\u001b[39m(molecule\u001b[38;5;241m.\u001b[39mmolecule_smiles)\n\u001b[1;32m      4\u001b[0m \u001b[38;5;28mprint\u001b[39m(molecule\u001b[38;5;241m.\u001b[39matom_highlights)\n\u001b[1;32m      5\u001b[0m XAIChem\u001b[38;5;241m.\u001b[39mshowMolecule(\n\u001b[0;32m----> 6\u001b[0m     Chem\u001b[38;5;241m.\u001b[39mMolFromSmiles(molecule\u001b[38;5;241m.\u001b[39mmolecule_smiles), \n\u001b[1;32m      7\u001b[0m     molecule\u001b[38;5;241m.\u001b[39matom_highlights,\n\u001b[1;32m      8\u001b[0m     show_atom_indices\u001b[38;5;241m=\u001b[39m\u001b[38;5;28;01mTrue\u001b[39;00m\n\u001b[1;32m      9\u001b[0m )\n",
      "\u001b[0;31mTypeError\u001b[0m: No registered converter was able to produce a C++ rvalue of type std::__cxx11::basic_string<wchar_t, std::char_traits<wchar_t>, std::allocator<wchar_t> > from this Python object of type Series"
     ]
    }
   ],
   "source": [
    "# molecule = molecules.iloc[53]\n",
    "molecule = molecules.query(\"molecule_smiles == 'O=c1[nH]cnc2nc[nH]c12'\")\n",
    "print(molecule.molecule_smiles)\n",
    "print(molecule.atom_highlights)\n",
    "XAIChem.showMolecule(\n",
    "    Chem.MolFromSmiles(molecule.molecule_smiles), \n",
    "    molecule.atom_highlights,\n",
    "    show_atom_indices=True\n",
    ")"
   ]
  },
  {
   "cell_type": "code",
   "execution_count": 42,
   "id": "0fccef25-6cca-4d38-a6be-b7cd59a0ca0b",
   "metadata": {},
   "outputs": [
    {
     "data": {
      "text/html": [
       "<div>\n",
       "<style scoped>\n",
       "    .dataframe tbody tr th:only-of-type {\n",
       "        vertical-align: middle;\n",
       "    }\n",
       "\n",
       "    .dataframe tbody tr th {\n",
       "        vertical-align: top;\n",
       "    }\n",
       "\n",
       "    .dataframe thead th {\n",
       "        text-align: right;\n",
       "    }\n",
       "</style>\n",
       "<table border=\"1\" class=\"dataframe\">\n",
       "  <thead>\n",
       "    <tr style=\"text-align: right;\">\n",
       "      <th></th>\n",
       "      <th>Manual_rank</th>\n",
       "    </tr>\n",
       "  </thead>\n",
       "  <tbody>\n",
       "    <tr>\n",
       "      <th>BrCCBr</th>\n",
       "      <td>{(0,): 1, (1, 2): 2, (3,): 1}</td>\n",
       "    </tr>\n",
       "  </tbody>\n",
       "</table>\n",
       "</div>"
      ],
      "text/plain": [
       "                          Manual_rank\n",
       "BrCCBr  {(0,): 1, (1, 2): 2, (3,): 1}"
      ]
     },
     "execution_count": 42,
     "metadata": {},
     "output_type": "execute_result"
    }
   ],
   "source": [
    "pd.DataFrame.from_dict({\n",
    "    \"Manual_rank\": {\n",
    "        \"O=C1C(Cl)C(CCl)CN1c1cccc(C(F)(F)F)c1\": {(1, 2, 4, 5, 7, 8, 9, 10, 11, 12, 13, 18): 1, (14, 15, 16, 17): 2, (6,): 3, (3,): 4, (0,): 5},\n",
    "        \"O=C1C2(Cl)C3(Cl)C4(Cl)C(Cl)(Cl)C5(Cl)C3(Cl)C1(Cl)C5(Cl)C24Cl\": {\n",
    "            (1, 2, 4, 6, 8, 11, 13, 15, 17, 19): 1, (3,): 6.5, (5,): 6.5, (7,): 6.5, (9,): 6.5, (10,): 6.5, (12,): 6.5, (14,): 6.5, (16,): 6.5, (18,): 6.5, (20,): 6.5, (0,): 12\n",
    "        },\n",
    "        \"O=C1CN(N=Cc2ccc([N+](=O)[O-])o2)C(=O)N1\": {(10, 11, 12): 1, (1, 2, 3, 4, 5, 6, 7, 8, 9, 13, 14, 16): 1, (0,): 3.5, (15,): 3.5},\n",
    "        \"O=C1NCCN1c1ncc([N+](=O)[O-])s1\": {(10, 11, 12): 1, (1, 2, 3, 4, 5, 6, 7, 8, 9, 13): 2, (0,): 3},\n",
    "        \"O=Cc1ccco1\": {(1, 2, 3, 4, 5, 6): 1, (0,): 2},\n",
    "        \"O=[N+]([O-])c1ccc(Cl)c(Cl)c1\": {(3, 4, 5, 6, 8, 10): 1, (1, 0, 2): 2, (7,): 3.5, (9,): 3.5},\n",
    "        \"O=[N+]([O-])c1cccc2ccccc12\": {(3, 4, 5, 6, 7, 8, 9, 10, 11, 12): 1, (1, 0, 2): 2},\n",
    "        \"O=[N+]([O-])c1ccccc1\": {(3, 4, 5, 6, 7, 8): 1, (1, 0, 2): 2},\n",
    "        \"O=[N+]([O-])c1ccccc1Cl\": {(3, 4, 5, 6, 7, 8): 1, (1, 0, 2): 2, (9,): 3},\n",
    "        \"O=c1[nH]c2c(c(=O)n1C1CCCCC1)CCC2\": {(8, 9, 10, 11, 12, 13): 1, (0, 1, 2, 3, 4, 5, 6, 7, 14, 15, 16): 2},\n",
    "        \"OCC1OC(O)(CO)C(O)C1O\": {(1, 2, 3, 4, 6, 8, 10): 1, (0,): 4, (5,): 4, (7,): 4, (9,): 4, (11,): 4},\n",
    "        \"OCC1OC(OCC2OC(OC3(CO)OC(CO)C(O)C3O)C(O)C(O)C2O)C(O)C(O)C1O\": {\n",
    "            (1, 2, 3, 4, 5, 6, 7, 8, 9, 10, 11, 12, 14, 15, 16, 18, 20, 22, 24, 26, 28, 30, 32): 1, (0,): 7, (13,): 7, (17,): 7, (19,): 7, (21,): 7, (23,): 7, (25,): 7, (27,): 7, \n",
    "            (29,): 7, (31,): 7, (33,): 7,\n",
    "        },\n",
    "        \"OCC1OC(n2cnc3c(O)ncnc32)C(O)C1O\": {(1, 2, 3, 4, 5, 6, 7, 8, 9, 11, 12, 13, 14, 15, 17): 1, (0,): 3.5, (10,): 3.5, (16,): 3.5, (18,): 3.5},\n",
    "        \"Oc1cc(Cl)c(Cl)cc1Cl\": {(1, 2, 3, 5, 7, 8): 1, (4,): 3, (6,): 3, (9,): 3, (0,): 5},\n",
    "        \"Oc1ccccc1Cl\": {(1, 2, 3, 4, 5, 6): 1, (7,): 2, (0,): 3},\n",
    "        \"Oc1ccccn1\": {(1, 2, 3, 4, 5, 6): 1, (0,): 2},\n",
    "        \"c1ccc(C2CO2)cc1\": {(0, 1, 2, 3, 7, 8): 1, (4, 5, 6): 2},\n",
    "        \n",
    "        \n",
    "    }\n",
    "})"
   ]
  },
  {
   "cell_type": "code",
   "execution_count": 99,
   "id": "d198bded-a7d6-4619-b63c-9d1bc3304397",
   "metadata": {},
   "outputs": [
    {
     "data": {
      "text/plain": [
       "array([1., 7., 7., 7., 7., 7., 7., 7., 7., 7., 7., 7.])"
      ]
     },
     "execution_count": 99,
     "metadata": {},
     "output_type": "execute_result"
    }
   ],
   "source": [
    "from scipy.stats import rankdata\n",
    "\n",
    "rankdata([1, *[3]*11])"
   ]
  },
  {
   "cell_type": "code",
   "execution_count": null,
   "id": "8fb8e456-15d6-4d69-81e5-98bed7e70b24",
   "metadata": {},
   "outputs": [],
   "source": []
  }
 ],
 "metadata": {
  "kernelspec": {
   "display_name": "Python 3 (ipykernel)",
   "language": "python",
   "name": "python3"
  },
  "language_info": {
   "codemirror_mode": {
    "name": "ipython",
    "version": 3
   },
   "file_extension": ".py",
   "mimetype": "text/x-python",
   "name": "python",
   "nbconvert_exporter": "python",
   "pygments_lexer": "ipython3",
   "version": "3.11.0"
  }
 },
 "nbformat": 4,
 "nbformat_minor": 5
}
