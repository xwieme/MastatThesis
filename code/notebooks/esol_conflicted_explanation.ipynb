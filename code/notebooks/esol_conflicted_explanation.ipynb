{
 "cells": [
  {
   "cell_type": "code",
   "execution_count": 1,
   "id": "7c8dd737-6b0c-4266-a2a6-40adfa151b1d",
   "metadata": {},
   "outputs": [],
   "source": [
    "from collections import defaultdict\n",
    "\n",
    "import pandas as pd\n",
    "import numpy as np\n",
    "from rdkit import Chem\n",
    "import plotly.express as px\n",
    "import XAIChem"
   ]
  },
  {
   "cell_type": "code",
   "execution_count": 2,
   "id": "1a0d6687-4f14-46ff-8480-81cdf8b353ad",
   "metadata": {},
   "outputs": [],
   "source": [
    "# Load data sets\n",
    "esol_df = pd.read_csv(\"../../data/ESOL/ESOL.csv\")\n",
    "attributions_functional_groups = pd.read_json(\"../../data/ESOL/attribution_functional_groups_around_mean.json\").drop(\n",
    "    columns=[\"time_SME\", \"time_HN_value\", \"time_Shapley_value\"]\n",
    ")\n",
    "attributions_brics = pd.read_json(\"../../data/ESOL/attribution_brics_around_mean.json\").drop(\n",
    "    columns=[\"time_SME\", \"time_HN_value\", \"time_Shapley_value\"]\n",
    ")"
   ]
  },
  {
   "cell_type": "code",
   "execution_count": 3,
   "id": "11945c35-10b8-4ed0-8e6c-841b9407b2e9",
   "metadata": {},
   "outputs": [],
   "source": [
    "# Load trained models\n",
    "model, config = XAIChem.models.PreBuildModels.rgcnWuEtAll(\"../scripts/esol/model_config.yaml\", [\"seed\"], model_id=0)\n",
    "\n",
    "paths = [\n",
    "    f\"../../data/ESOL/trained_models/rgcn_model_{model_id}_early_stop.pt\"\n",
    "    for model_id in range(10)\n",
    "]\n",
    "\n",
    "models = XAIChem.loadModels(model, paths)"
   ]
  },
  {
   "cell_type": "markdown",
   "id": "9b99684b-9d8e-402b-a663-0accc28b244a",
   "metadata": {},
   "source": [
    "# Explain prediction"
   ]
  },
  {
   "cell_type": "code",
   "execution_count": 4,
   "id": "9adc73fd-1ead-42f5-adfc-4b25b0be8e17",
   "metadata": {},
   "outputs": [],
   "source": [
    "def predict_water_solubility(smiles):\n",
    "\n",
    "    graph = XAIChem.createDataObjectFromSmiles(smiles, np.inf)\n",
    "    \n",
    "    experimental_solubility = esol_df.query(\"smiles == @smiles\").ESOL.iloc[0]\n",
    "    predicted_solubility = XAIChem.predict(graph, models).item()\n",
    "\n",
    "    return experimental_solubility, predicted_solubility"
   ]
  },
  {
   "cell_type": "code",
   "execution_count": 27,
   "id": "dc85e2db-c125-46cd-838b-efd0cff7d090",
   "metadata": {
    "scrolled": true
   },
   "outputs": [],
   "source": [
    "def prediction_errors(substruct_smiles, attribution_method):\n",
    "    \"\"\"\n",
    "    Selects all molecules containing the given substructure which have a chemically inconsistent \n",
    "    attribution according to the given method. Then, determine the fraction of molecules that \n",
    "    have an absolute prediction error larger than 0.6 (comparable with experimental error)\n",
    "    \"\"\"\n",
    "    predictions = defaultdict(list)\n",
    "\n",
    "    if attribution_method is not None:\n",
    "        smiles_list = attributions_functional_groups.query(\n",
    "            f\"substruct_smiles == @substruct_smiles and {attribution_method}\"\n",
    "        ).molecule_smiles.unique()\n",
    "\n",
    "    else:\n",
    "        smiles_list = attributions_functional_groups.query(\n",
    "            f\"substruct_smiles == @substruct_smiles\"\n",
    "        ).molecule_smiles.unique()\n",
    "    \n",
    "    for smiles in smiles_list:\n",
    "        experimental_solubility, predicted_solubility = predict_water_solubility(smiles)\n",
    "        \n",
    "        predictions[\"smiles\"].append(smiles)\n",
    "        predictions[\"experimental_solubility\"].append(experimental_solubility)\n",
    "        predictions[\"predicted_solubility\"].append(predicted_solubility)\n",
    "\n",
    "    predictions = pd.DataFrame.from_dict(predictions)\n",
    "    predictions[\"diff\"] = np.abs(predictions.experimental_solubility - predictions.predicted_solubility)\n",
    "    fraction_wrong_predictions = len(predictions.query(\"diff > 0.6\")) / len(predictions)\n",
    "    print(f\"{fraction_wrong_predictions = }\")\n",
    "\n",
    "    display(predictions.query(\"diff > 0.6\"))\n",
    "    display(predictions.query(\"diff <= 0.6\"))"
   ]
  },
  {
   "cell_type": "code",
   "execution_count": 6,
   "id": "7e56ffa9-86d1-402f-9ee3-a226cc6c28da",
   "metadata": {},
   "outputs": [],
   "source": [
    "def explain(smiles):\n",
    "\n",
    "    experimental_solubility, predicted_solubility = predict_water_solubility(smiles)\n",
    "\n",
    "    print(f\"{experimental_solubility = }\")\n",
    "    print(f\"{predicted_solubility = }\")\n",
    "    \n",
    "    explanation = attributions_functional_groups.query(\"molecule_smiles == @smiles\").copy()\n",
    "    explanation[\"atom_ids\"] = explanation.atom_ids.apply(tuple)\n",
    "    \n",
    "    sme_explanation = explanation[[\"atom_ids\", \"SME\"]].set_index(\"atom_ids\").SME.round(2).to_dict()\n",
    "    HN_explanation = explanation[[\"atom_ids\", \"HN_value\"]].set_index(\"atom_ids\").HN_value.round(2).to_dict()\n",
    "    Shapley_explanation = explanation[[\"atom_ids\", \"Shapley_value\"]].set_index(\"atom_ids\").Shapley_value.round(2).to_dict()\n",
    "\n",
    "    rdmol = Chem.MolFromSmiles(smiles)\n",
    "    \n",
    "    print(\"SME\")\n",
    "    display(XAIChem.showMolecule(rdmol, atoms_highlight_values=sme_explanation))\n",
    "    \n",
    "    print(\"Shapley value\")\n",
    "    display(XAIChem.showMolecule(rdmol, atoms_highlight_values=Shapley_explanation))\n",
    "    \n",
    "    print(\"HN value\")\n",
    "    display(XAIChem.showMolecule(rdmol, atoms_highlight_values=HN_explanation))"
   ]
  },
  {
   "cell_type": "markdown",
   "id": "cfa83c24-e9fb-4bde-9044-5636f4abce2d",
   "metadata": {},
   "source": [
    "## Erythritol"
   ]
  },
  {
   "cell_type": "code",
   "execution_count": 42,
   "id": "f8a6db87-939f-49f2-ac32-d0c66643bb4c",
   "metadata": {},
   "outputs": [
    {
     "data": {
      "image/jpeg": "[encoded data removed]",
      "image/png": "[encoded data removed]",
      "text/plain": [
       "<PIL.PngImagePlugin.PngImageFile image mode=RGB size=350x300>"
      ]
     },
     "execution_count": 42,
     "metadata": {},
     "output_type": "execute_result"
    }
   ],
   "source": [
    "erythritol_smiles = 'Nc1nc(O)nc2nc[nH]c12'\n",
    "erythritol_rdmol = Chem.MolFromSmiles(erythritol_smiles)\n",
    "\n",
    "XAIChem.showMolecule(erythritol_rdmol, show_atom_indices=True)"
   ]
  },
  {
   "cell_type": "code",
   "execution_count": 41,
   "id": "d70e4273-c112-4ea6-ac80-df80095192fd",
   "metadata": {},
   "outputs": [
    {
     "name": "stdout",
     "output_type": "stream",
     "text": [
      "experimental_solubility = -3.401\n",
      "predicted_solubility = -2.500154972076416\n",
      "SME\n"
     ]
    },
    {
     "data": {
      "image/jpeg": "[encoded data removed]",
      "image/png": "[encoded data removed]",
      "text/plain": [
       "<PIL.PngImagePlugin.PngImageFile image mode=RGB size=350x300>"
      ]
     },
     "metadata": {},
     "output_type": "display_data"
    },
    {
     "name": "stdout",
     "output_type": "stream",
     "text": [
      "Shapley value\n"
     ]
    },
    {
     "data": {
      "image/jpeg": "[encoded data removed]",
      "image/png": "[encoded data removed]",
      "text/plain": [
       "<PIL.PngImagePlugin.PngImageFile image mode=RGB size=350x300>"
      ]
     },
     "metadata": {},
     "output_type": "display_data"
    },
    {
     "name": "stdout",
     "output_type": "stream",
     "text": [
      "HN value\n"
     ]
    },
    {
     "data": {
      "image/jpeg": "[encoded data removed]",
      "image/png": "[encoded data removed]",
      "text/plain": [
       "<PIL.PngImagePlugin.PngImageFile image mode=RGB size=350x300>"
      ]
     },
     "metadata": {},
     "output_type": "display_data"
    }
   ],
   "source": [
    "explain(erythritol_smiles)"
   ]
  },
  {
   "cell_type": "markdown",
   "id": "4303b166-7336-485e-9c23-ada33bb0c30f",
   "metadata": {},
   "source": [
    "The predicted solubility is not equal to the experimental solubility of the data set. This difference\n",
    "could be explained using different attribution techniques (i.e. SME, Shapley value and HN value). From \n",
    "chemical theory it is known that hydroxyl group improve the solubility while apolar carbon chains are \n",
    "porly soluble. Therefore it is expected that the hydroxyl groups have a positive attribution while the \n",
    "carbon chain has a negative or slightly positive attribution.\n",
    "\n",
    "Both SME and Shapley attributions are in conflict with chemical intuition and could explain why the model predicts a \n",
    "to long solubility. However, the HN attributions do result chemical correct attribution methods. This raises the question \n",
    "wheter the HN explanation is incorrect and the incorrect prediction can be explained by the Shapley and SME attributions,\n",
    "or the HN explanation is correct and the failure of the model is due to another reason."
   ]
  },
  {
   "cell_type": "markdown",
   "id": "63b9f75f-6fb7-4997-9324-acc8320351dc",
   "metadata": {
    "jp-MarkdownHeadingCollapsed": true
   },
   "source": [
    "## Mol 2"
   ]
  },
  {
   "cell_type": "code",
   "execution_count": 24,
   "id": "42215940-ae36-4fe5-906d-d46f36f6cfa2",
   "metadata": {},
   "outputs": [
    {
     "data": {
      "image/png": "[encoded data removed]",
      "text/plain": [
       "<rdkit.Chem.rdchem.Mol at 0x7f0bf6e528f0>"
      ]
     },
     "execution_count": 24,
     "metadata": {},
     "output_type": "execute_result"
    }
   ],
   "source": [
    "smiles = \"OCC1OC(O)(CO)C(O)C1O\"\n",
    "rdmol = Chem.MolFromSmiles(smiles)\n",
    "graph = XAIChem.createDataObjectFromRdMol(rdmol, np.inf)\n",
    "\n",
    "rdmol"
   ]
  },
  {
   "cell_type": "code",
   "execution_count": 25,
   "id": "27d8a020-a590-437c-9fd3-23ace38d9167",
   "metadata": {},
   "outputs": [
    {
     "name": "stdout",
     "output_type": "stream",
     "text": [
      "experimental_solubility = 0.64\n",
      "predicted_solubility = 0.40207815170288086\n",
      "SME\n"
     ]
    },
    {
     "data": {
      "image/jpeg": "[encoded data removed]",
      "image/png": "[encoded data removed]",
      "text/plain": [
       "<PIL.PngImagePlugin.PngImageFile image mode=RGB size=350x300>"
      ]
     },
     "metadata": {},
     "output_type": "display_data"
    },
    {
     "name": "stdout",
     "output_type": "stream",
     "text": [
      "Shapley value\n"
     ]
    },
    {
     "data": {
      "image/jpeg": "[encoded data removed]",
      "image/png": "[encoded data removed]",
      "text/plain": [
       "<PIL.PngImagePlugin.PngImageFile image mode=RGB size=350x300>"
      ]
     },
     "metadata": {},
     "output_type": "display_data"
    },
    {
     "name": "stdout",
     "output_type": "stream",
     "text": [
      "HN value\n"
     ]
    },
    {
     "data": {
      "image/jpeg": "[encoded data removed]",
      "image/png": "[encoded data removed]",
      "text/plain": [
       "<PIL.PngImagePlugin.PngImageFile image mode=RGB size=350x300>"
      ]
     },
     "metadata": {},
     "output_type": "display_data"
    }
   ],
   "source": [
    "explain(smiles)"
   ]
  },
  {
   "cell_type": "markdown",
   "id": "b795ec71-9f86-4c06-bdeb-f870038e8a69",
   "metadata": {},
   "source": [
    "# Functional groups with wrong predictions"
   ]
  },
  {
   "cell_type": "code",
   "execution_count": 29,
   "id": "ec14d598-7c0b-45b0-88fe-60a6e1a7552d",
   "metadata": {},
   "outputs": [
    {
     "name": "stdout",
     "output_type": "stream",
     "text": [
      "fraction_wrong_predictions = 0.12393162393162394\n"
     ]
    },
    {
     "data": {
      "text/html": [
       "<div>\n",
       "<style scoped>\n",
       "    .dataframe tbody tr th:only-of-type {\n",
       "        vertical-align: middle;\n",
       "    }\n",
       "\n",
       "    .dataframe tbody tr th {\n",
       "        vertical-align: top;\n",
       "    }\n",
       "\n",
       "    .dataframe thead th {\n",
       "        text-align: right;\n",
       "    }\n",
       "</style>\n",
       "<table border=\"1\" class=\"dataframe\">\n",
       "  <thead>\n",
       "    <tr style=\"text-align: right;\">\n",
       "      <th></th>\n",
       "      <th>smiles</th>\n",
       "      <th>experimental_solubility</th>\n",
       "      <th>predicted_solubility</th>\n",
       "      <th>diff</th>\n",
       "    </tr>\n",
       "  </thead>\n",
       "  <tbody>\n",
       "    <tr>\n",
       "      <th>1</th>\n",
       "      <td>CC1CCC(C(C)C)C(O)C1</td>\n",
       "      <td>-2.530</td>\n",
       "      <td>-4.155624</td>\n",
       "      <td>1.625624</td>\n",
       "    </tr>\n",
       "    <tr>\n",
       "      <th>12</th>\n",
       "      <td>C#CC1(O)CCC2C3CCc4cc(O)ccc4C3CCC21C</td>\n",
       "      <td>-4.300</td>\n",
       "      <td>-5.215076</td>\n",
       "      <td>0.915076</td>\n",
       "    </tr>\n",
       "    <tr>\n",
       "      <th>13</th>\n",
       "      <td>CC12CCC(=O)C=C1CCC1C2CCC2(C)C(O)CCC12</td>\n",
       "      <td>-4.020</td>\n",
       "      <td>-4.663515</td>\n",
       "      <td>0.643515</td>\n",
       "    </tr>\n",
       "    <tr>\n",
       "      <th>17</th>\n",
       "      <td>OCC1OC(OCC2OC(OC3(CO)OC(CO)C(O)C3O)C(O)C(O)C2O...</td>\n",
       "      <td>-0.410</td>\n",
       "      <td>0.306231</td>\n",
       "      <td>0.716231</td>\n",
       "    </tr>\n",
       "    <tr>\n",
       "      <th>37</th>\n",
       "      <td>C#CC1(O)CCC2C3CCC4=CC(=O)CCC4(C)C3CCC21C</td>\n",
       "      <td>-5.660</td>\n",
       "      <td>-4.850834</td>\n",
       "      <td>0.809166</td>\n",
       "    </tr>\n",
       "    <tr>\n",
       "      <th>42</th>\n",
       "      <td>Oc1cc(Cl)ccc1Oc1ccc(Cl)cc1Cl</td>\n",
       "      <td>-4.460</td>\n",
       "      <td>-5.174350</td>\n",
       "      <td>0.714350</td>\n",
       "    </tr>\n",
       "    <tr>\n",
       "      <th>59</th>\n",
       "      <td>Oc1c2ccccc2cc2ccccc12</td>\n",
       "      <td>-4.730</td>\n",
       "      <td>-4.083386</td>\n",
       "      <td>0.646614</td>\n",
       "    </tr>\n",
       "    <tr>\n",
       "      <th>62</th>\n",
       "      <td>CO</td>\n",
       "      <td>1.570</td>\n",
       "      <td>0.928259</td>\n",
       "      <td>0.641741</td>\n",
       "    </tr>\n",
       "    <tr>\n",
       "      <th>69</th>\n",
       "      <td>Nc1nc(O)nc2nc[nH]c12</td>\n",
       "      <td>-3.401</td>\n",
       "      <td>-2.500155</td>\n",
       "      <td>0.900845</td>\n",
       "    </tr>\n",
       "    <tr>\n",
       "      <th>71</th>\n",
       "      <td>Oc1cccc2cccnc12</td>\n",
       "      <td>-2.420</td>\n",
       "      <td>-1.801126</td>\n",
       "      <td>0.618874</td>\n",
       "    </tr>\n",
       "    <tr>\n",
       "      <th>91</th>\n",
       "      <td>O=C1NC(=O)C(O)(C2(O)C(=O)NC(=O)NC2=O)C(=O)N1</td>\n",
       "      <td>-1.990</td>\n",
       "      <td>-1.313177</td>\n",
       "      <td>0.676823</td>\n",
       "    </tr>\n",
       "    <tr>\n",
       "      <th>94</th>\n",
       "      <td>Oc1cccc2ncccc12</td>\n",
       "      <td>-2.540</td>\n",
       "      <td>-1.793547</td>\n",
       "      <td>0.746453</td>\n",
       "    </tr>\n",
       "    <tr>\n",
       "      <th>97</th>\n",
       "      <td>CC(=O)OCC(=O)C1(O)CCC2C3CCC4=CC(=O)CCC4(C)C3C(...</td>\n",
       "      <td>-4.880</td>\n",
       "      <td>-3.541057</td>\n",
       "      <td>1.338943</td>\n",
       "    </tr>\n",
       "    <tr>\n",
       "      <th>100</th>\n",
       "      <td>COc1ccccc1O</td>\n",
       "      <td>-1.960</td>\n",
       "      <td>-0.986792</td>\n",
       "      <td>0.973208</td>\n",
       "    </tr>\n",
       "    <tr>\n",
       "      <th>145</th>\n",
       "      <td>CC(=O)OCC(=O)C1(O)CCC2C3CCC4=CC(=O)CCC4(C)C3C(...</td>\n",
       "      <td>-4.210</td>\n",
       "      <td>-3.388672</td>\n",
       "      <td>0.821328</td>\n",
       "    </tr>\n",
       "    <tr>\n",
       "      <th>148</th>\n",
       "      <td>CC(=O)CC(c1ccc(Cl)cc1)c1c(O)c2ccccc2oc1=O</td>\n",
       "      <td>-5.839</td>\n",
       "      <td>-4.855382</td>\n",
       "      <td>0.983618</td>\n",
       "    </tr>\n",
       "    <tr>\n",
       "      <th>166</th>\n",
       "      <td>Cc1cc([N+](=O)[O-])cc([N+](=O)[O-])c1O</td>\n",
       "      <td>-1.456</td>\n",
       "      <td>-2.388786</td>\n",
       "      <td>0.932786</td>\n",
       "    </tr>\n",
       "    <tr>\n",
       "      <th>175</th>\n",
       "      <td>OCC(O)C1OC2OC(C(Cl)(Cl)Cl)OC2C1O</td>\n",
       "      <td>-1.840</td>\n",
       "      <td>-1.124054</td>\n",
       "      <td>0.715946</td>\n",
       "    </tr>\n",
       "    <tr>\n",
       "      <th>176</th>\n",
       "      <td>O=C1OC(c2ccc(O)cc2)(c2ccc(O)cc2)c2ccccc21</td>\n",
       "      <td>-2.900</td>\n",
       "      <td>-3.626225</td>\n",
       "      <td>0.726225</td>\n",
       "    </tr>\n",
       "    <tr>\n",
       "      <th>200</th>\n",
       "      <td>CC(=O)CC(c1ccccc1)c1c(O)c2ccccc2oc1=O</td>\n",
       "      <td>-3.893</td>\n",
       "      <td>-4.642958</td>\n",
       "      <td>0.749958</td>\n",
       "    </tr>\n",
       "    <tr>\n",
       "      <th>202</th>\n",
       "      <td>CCCCCCCCCCCCCCCCCCO</td>\n",
       "      <td>-8.400</td>\n",
       "      <td>-7.405501</td>\n",
       "      <td>0.994499</td>\n",
       "    </tr>\n",
       "    <tr>\n",
       "      <th>203</th>\n",
       "      <td>CC12CCC3C(CCC4CC5SC5CC43C)C1CCC2O</td>\n",
       "      <td>-5.410</td>\n",
       "      <td>-6.411152</td>\n",
       "      <td>1.001152</td>\n",
       "    </tr>\n",
       "    <tr>\n",
       "      <th>206</th>\n",
       "      <td>CC1(C)C2CCC1(C)C(O)C2</td>\n",
       "      <td>-2.320</td>\n",
       "      <td>-2.958633</td>\n",
       "      <td>0.638633</td>\n",
       "    </tr>\n",
       "    <tr>\n",
       "      <th>208</th>\n",
       "      <td>CCCCCCCCCC(C)O</td>\n",
       "      <td>-2.940</td>\n",
       "      <td>-4.245750</td>\n",
       "      <td>1.305750</td>\n",
       "    </tr>\n",
       "    <tr>\n",
       "      <th>211</th>\n",
       "      <td>COC(=O)c1ccccc1OC1OC(COC2OCC(O)C(O)C2O)C(O)C(O...</td>\n",
       "      <td>-0.742</td>\n",
       "      <td>-1.363291</td>\n",
       "      <td>0.621291</td>\n",
       "    </tr>\n",
       "    <tr>\n",
       "      <th>222</th>\n",
       "      <td>CC1CC2C3CC(F)C4=CC(=O)C=CC4(C)C3(F)C(O)CC2(C)C...</td>\n",
       "      <td>-5.613</td>\n",
       "      <td>-3.795834</td>\n",
       "      <td>1.817166</td>\n",
       "    </tr>\n",
       "    <tr>\n",
       "      <th>224</th>\n",
       "      <td>CC(=O)OCC(=O)C1(O)C(C)CC2C3CCC4=CC(=O)C=CC4(C)...</td>\n",
       "      <td>-4.900</td>\n",
       "      <td>-4.131112</td>\n",
       "      <td>0.768888</td>\n",
       "    </tr>\n",
       "    <tr>\n",
       "      <th>229</th>\n",
       "      <td>CC12CCC3C(=CCc4cc(O)ccc43)C1CCC2=O</td>\n",
       "      <td>-5.282</td>\n",
       "      <td>-4.277290</td>\n",
       "      <td>1.004710</td>\n",
       "    </tr>\n",
       "    <tr>\n",
       "      <th>230</th>\n",
       "      <td>O=[N+]([O-])c1ccc(O)cc1</td>\n",
       "      <td>-0.740</td>\n",
       "      <td>-1.403026</td>\n",
       "      <td>0.663026</td>\n",
       "    </tr>\n",
       "  </tbody>\n",
       "</table>\n",
       "</div>"
      ],
      "text/plain": [
       "                                                smiles  \\\n",
       "1                                  CC1CCC(C(C)C)C(O)C1   \n",
       "12                 C#CC1(O)CCC2C3CCc4cc(O)ccc4C3CCC21C   \n",
       "13               CC12CCC(=O)C=C1CCC1C2CCC2(C)C(O)CCC12   \n",
       "17   OCC1OC(OCC2OC(OC3(CO)OC(CO)C(O)C3O)C(O)C(O)C2O...   \n",
       "37            C#CC1(O)CCC2C3CCC4=CC(=O)CCC4(C)C3CCC21C   \n",
       "42                        Oc1cc(Cl)ccc1Oc1ccc(Cl)cc1Cl   \n",
       "59                               Oc1c2ccccc2cc2ccccc12   \n",
       "62                                                  CO   \n",
       "69                                Nc1nc(O)nc2nc[nH]c12   \n",
       "71                                     Oc1cccc2cccnc12   \n",
       "91        O=C1NC(=O)C(O)(C2(O)C(=O)NC(=O)NC2=O)C(=O)N1   \n",
       "94                                     Oc1cccc2ncccc12   \n",
       "97   CC(=O)OCC(=O)C1(O)CCC2C3CCC4=CC(=O)CCC4(C)C3C(...   \n",
       "100                                        COc1ccccc1O   \n",
       "145  CC(=O)OCC(=O)C1(O)CCC2C3CCC4=CC(=O)CCC4(C)C3C(...   \n",
       "148          CC(=O)CC(c1ccc(Cl)cc1)c1c(O)c2ccccc2oc1=O   \n",
       "166             Cc1cc([N+](=O)[O-])cc([N+](=O)[O-])c1O   \n",
       "175                   OCC(O)C1OC2OC(C(Cl)(Cl)Cl)OC2C1O   \n",
       "176          O=C1OC(c2ccc(O)cc2)(c2ccc(O)cc2)c2ccccc21   \n",
       "200              CC(=O)CC(c1ccccc1)c1c(O)c2ccccc2oc1=O   \n",
       "202                                CCCCCCCCCCCCCCCCCCO   \n",
       "203                  CC12CCC3C(CCC4CC5SC5CC43C)C1CCC2O   \n",
       "206                              CC1(C)C2CCC1(C)C(O)C2   \n",
       "208                                     CCCCCCCCCC(C)O   \n",
       "211  COC(=O)c1ccccc1OC1OC(COC2OCC(O)C(O)C2O)C(O)C(O...   \n",
       "222  CC1CC2C3CC(F)C4=CC(=O)C=CC4(C)C3(F)C(O)CC2(C)C...   \n",
       "224  CC(=O)OCC(=O)C1(O)C(C)CC2C3CCC4=CC(=O)C=CC4(C)...   \n",
       "229                 CC12CCC3C(=CCc4cc(O)ccc43)C1CCC2=O   \n",
       "230                            O=[N+]([O-])c1ccc(O)cc1   \n",
       "\n",
       "     experimental_solubility  predicted_solubility      diff  \n",
       "1                     -2.530             -4.155624  1.625624  \n",
       "12                    -4.300             -5.215076  0.915076  \n",
       "13                    -4.020             -4.663515  0.643515  \n",
       "17                    -0.410              0.306231  0.716231  \n",
       "37                    -5.660             -4.850834  0.809166  \n",
       "42                    -4.460             -5.174350  0.714350  \n",
       "59                    -4.730             -4.083386  0.646614  \n",
       "62                     1.570              0.928259  0.641741  \n",
       "69                    -3.401             -2.500155  0.900845  \n",
       "71                    -2.420             -1.801126  0.618874  \n",
       "91                    -1.990             -1.313177  0.676823  \n",
       "94                    -2.540             -1.793547  0.746453  \n",
       "97                    -4.880             -3.541057  1.338943  \n",
       "100                   -1.960             -0.986792  0.973208  \n",
       "145                   -4.210             -3.388672  0.821328  \n",
       "148                   -5.839             -4.855382  0.983618  \n",
       "166                   -1.456             -2.388786  0.932786  \n",
       "175                   -1.840             -1.124054  0.715946  \n",
       "176                   -2.900             -3.626225  0.726225  \n",
       "200                   -3.893             -4.642958  0.749958  \n",
       "202                   -8.400             -7.405501  0.994499  \n",
       "203                   -5.410             -6.411152  1.001152  \n",
       "206                   -2.320             -2.958633  0.638633  \n",
       "208                   -2.940             -4.245750  1.305750  \n",
       "211                   -0.742             -1.363291  0.621291  \n",
       "222                   -5.613             -3.795834  1.817166  \n",
       "224                   -4.900             -4.131112  0.768888  \n",
       "229                   -5.282             -4.277290  1.004710  \n",
       "230                   -0.740             -1.403026  0.663026  "
      ]
     },
     "metadata": {},
     "output_type": "display_data"
    },
    {
     "data": {
      "text/html": [
       "<div>\n",
       "<style scoped>\n",
       "    .dataframe tbody tr th:only-of-type {\n",
       "        vertical-align: middle;\n",
       "    }\n",
       "\n",
       "    .dataframe tbody tr th {\n",
       "        vertical-align: top;\n",
       "    }\n",
       "\n",
       "    .dataframe thead th {\n",
       "        text-align: right;\n",
       "    }\n",
       "</style>\n",
       "<table border=\"1\" class=\"dataframe\">\n",
       "  <thead>\n",
       "    <tr style=\"text-align: right;\">\n",
       "      <th></th>\n",
       "      <th>smiles</th>\n",
       "      <th>experimental_solubility</th>\n",
       "      <th>predicted_solubility</th>\n",
       "      <th>diff</th>\n",
       "    </tr>\n",
       "  </thead>\n",
       "  <tbody>\n",
       "    <tr>\n",
       "      <th>0</th>\n",
       "      <td>O=C1Nc2ccc(Cl)cc2C(c2ccccc2Cl)=NC1O</td>\n",
       "      <td>-3.604</td>\n",
       "      <td>-3.889950</td>\n",
       "      <td>0.285950</td>\n",
       "    </tr>\n",
       "    <tr>\n",
       "      <th>2</th>\n",
       "      <td>COC1=CC2OC3C=CC(O)=CC3C(=O)C2C(O)=C1</td>\n",
       "      <td>-2.943</td>\n",
       "      <td>-3.189878</td>\n",
       "      <td>0.246878</td>\n",
       "    </tr>\n",
       "    <tr>\n",
       "      <th>3</th>\n",
       "      <td>CC1OC(OC2C(O)CC(OC3C(O)CC(OC4CCC5(C)C(CCC6C5CC...</td>\n",
       "      <td>-4.081</td>\n",
       "      <td>-4.545399</td>\n",
       "      <td>0.464399</td>\n",
       "    </tr>\n",
       "    <tr>\n",
       "      <th>4</th>\n",
       "      <td>CCC(C)c1cc([N+](=O)[O-])cc([N+](=O)[O-])c1O</td>\n",
       "      <td>-3.380</td>\n",
       "      <td>-3.858643</td>\n",
       "      <td>0.478643</td>\n",
       "    </tr>\n",
       "    <tr>\n",
       "      <th>5</th>\n",
       "      <td>OC(Cn1cncn1)(Cn1cncn1)c1ccc(F)cc1F</td>\n",
       "      <td>-1.800</td>\n",
       "      <td>-1.528953</td>\n",
       "      <td>0.271047</td>\n",
       "    </tr>\n",
       "    <tr>\n",
       "      <th>...</th>\n",
       "      <td>...</td>\n",
       "      <td>...</td>\n",
       "      <td>...</td>\n",
       "      <td>...</td>\n",
       "    </tr>\n",
       "    <tr>\n",
       "      <th>227</th>\n",
       "      <td>CCCC(C)(C)CO</td>\n",
       "      <td>-1.520</td>\n",
       "      <td>-1.422146</td>\n",
       "      <td>0.097854</td>\n",
       "    </tr>\n",
       "    <tr>\n",
       "      <th>228</th>\n",
       "      <td>CC(=O)C1(O)CCC2C3CC(C)C4=CC(=O)C=CC4(C)C3(F)C(...</td>\n",
       "      <td>-4.099</td>\n",
       "      <td>-4.195755</td>\n",
       "      <td>0.096755</td>\n",
       "    </tr>\n",
       "    <tr>\n",
       "      <th>231</th>\n",
       "      <td>CC12CCC(=O)C=C1CCC1C2CCC2(C)C(C(=O)CO)CCC12</td>\n",
       "      <td>-3.450</td>\n",
       "      <td>-3.719813</td>\n",
       "      <td>0.269813</td>\n",
       "    </tr>\n",
       "    <tr>\n",
       "      <th>232</th>\n",
       "      <td>CCC(CC)CO</td>\n",
       "      <td>-1.170</td>\n",
       "      <td>-0.997089</td>\n",
       "      <td>0.172911</td>\n",
       "    </tr>\n",
       "    <tr>\n",
       "      <th>233</th>\n",
       "      <td>N#CC(OC1OC(COC2OC(CO)C(O)C(O)C2O)C(O)C(O)C1O)c...</td>\n",
       "      <td>-0.770</td>\n",
       "      <td>-0.347240</td>\n",
       "      <td>0.422760</td>\n",
       "    </tr>\n",
       "  </tbody>\n",
       "</table>\n",
       "<p>205 rows × 4 columns</p>\n",
       "</div>"
      ],
      "text/plain": [
       "                                                smiles  \\\n",
       "0                  O=C1Nc2ccc(Cl)cc2C(c2ccccc2Cl)=NC1O   \n",
       "2                 COC1=CC2OC3C=CC(O)=CC3C(=O)C2C(O)=C1   \n",
       "3    CC1OC(OC2C(O)CC(OC3C(O)CC(OC4CCC5(C)C(CCC6C5CC...   \n",
       "4          CCC(C)c1cc([N+](=O)[O-])cc([N+](=O)[O-])c1O   \n",
       "5                   OC(Cn1cncn1)(Cn1cncn1)c1ccc(F)cc1F   \n",
       "..                                                 ...   \n",
       "227                                       CCCC(C)(C)CO   \n",
       "228  CC(=O)C1(O)CCC2C3CC(C)C4=CC(=O)C=CC4(C)C3(F)C(...   \n",
       "231        CC12CCC(=O)C=C1CCC1C2CCC2(C)C(C(=O)CO)CCC12   \n",
       "232                                          CCC(CC)CO   \n",
       "233  N#CC(OC1OC(COC2OC(CO)C(O)C(O)C2O)C(O)C(O)C1O)c...   \n",
       "\n",
       "     experimental_solubility  predicted_solubility      diff  \n",
       "0                     -3.604             -3.889950  0.285950  \n",
       "2                     -2.943             -3.189878  0.246878  \n",
       "3                     -4.081             -4.545399  0.464399  \n",
       "4                     -3.380             -3.858643  0.478643  \n",
       "5                     -1.800             -1.528953  0.271047  \n",
       "..                       ...                   ...       ...  \n",
       "227                   -1.520             -1.422146  0.097854  \n",
       "228                   -4.099             -4.195755  0.096755  \n",
       "231                   -3.450             -3.719813  0.269813  \n",
       "232                   -1.170             -0.997089  0.172911  \n",
       "233                   -0.770             -0.347240  0.422760  \n",
       "\n",
       "[205 rows x 4 columns]"
      ]
     },
     "metadata": {},
     "output_type": "display_data"
    }
   ],
   "source": [
    "prediction_errors(\"ROH\", None)"
   ]
  },
  {
   "cell_type": "code",
   "execution_count": 21,
   "id": "fb64eeb2-ba03-43b3-8d45-df85c22dde85",
   "metadata": {},
   "outputs": [
    {
     "name": "stdout",
     "output_type": "stream",
     "text": [
      "fraction_wrong_predictions = 0.3125\n"
     ]
    },
    {
     "data": {
      "text/html": [
       "<div>\n",
       "<style scoped>\n",
       "    .dataframe tbody tr th:only-of-type {\n",
       "        vertical-align: middle;\n",
       "    }\n",
       "\n",
       "    .dataframe tbody tr th {\n",
       "        vertical-align: top;\n",
       "    }\n",
       "\n",
       "    .dataframe thead th {\n",
       "        text-align: right;\n",
       "    }\n",
       "</style>\n",
       "<table border=\"1\" class=\"dataframe\">\n",
       "  <thead>\n",
       "    <tr style=\"text-align: right;\">\n",
       "      <th></th>\n",
       "      <th>smiles</th>\n",
       "      <th>experimental_solubility</th>\n",
       "      <th>predicted_solubility</th>\n",
       "      <th>diff</th>\n",
       "    </tr>\n",
       "  </thead>\n",
       "  <tbody>\n",
       "    <tr>\n",
       "      <th>2</th>\n",
       "      <td>Nc1nc(O)nc2nc[nH]c12</td>\n",
       "      <td>-3.401</td>\n",
       "      <td>-2.500155</td>\n",
       "      <td>0.900845</td>\n",
       "    </tr>\n",
       "    <tr>\n",
       "      <th>3</th>\n",
       "      <td>Oc1cccc2cccnc12</td>\n",
       "      <td>-2.420</td>\n",
       "      <td>-1.801126</td>\n",
       "      <td>0.618874</td>\n",
       "    </tr>\n",
       "    <tr>\n",
       "      <th>4</th>\n",
       "      <td>Oc1cccc2ncccc12</td>\n",
       "      <td>-2.540</td>\n",
       "      <td>-1.793547</td>\n",
       "      <td>0.746453</td>\n",
       "    </tr>\n",
       "    <tr>\n",
       "      <th>9</th>\n",
       "      <td>OCC(O)C1OC2OC(C(Cl)(Cl)Cl)OC2C1O</td>\n",
       "      <td>-1.840</td>\n",
       "      <td>-1.124054</td>\n",
       "      <td>0.715946</td>\n",
       "    </tr>\n",
       "    <tr>\n",
       "      <th>12</th>\n",
       "      <td>CCCCCCCCCCCCCCCCCCO</td>\n",
       "      <td>-8.400</td>\n",
       "      <td>-7.405501</td>\n",
       "      <td>0.994499</td>\n",
       "    </tr>\n",
       "  </tbody>\n",
       "</table>\n",
       "</div>"
      ],
      "text/plain": [
       "                              smiles  experimental_solubility  \\\n",
       "2               Nc1nc(O)nc2nc[nH]c12                   -3.401   \n",
       "3                    Oc1cccc2cccnc12                   -2.420   \n",
       "4                    Oc1cccc2ncccc12                   -2.540   \n",
       "9   OCC(O)C1OC2OC(C(Cl)(Cl)Cl)OC2C1O                   -1.840   \n",
       "12               CCCCCCCCCCCCCCCCCCO                   -8.400   \n",
       "\n",
       "    predicted_solubility      diff  \n",
       "2              -2.500155  0.900845  \n",
       "3              -1.801126  0.618874  \n",
       "4              -1.793547  0.746453  \n",
       "9              -1.124054  0.715946  \n",
       "12             -7.405501  0.994499  "
      ]
     },
     "metadata": {},
     "output_type": "display_data"
    },
    {
     "data": {
      "text/html": [
       "<div>\n",
       "<style scoped>\n",
       "    .dataframe tbody tr th:only-of-type {\n",
       "        vertical-align: middle;\n",
       "    }\n",
       "\n",
       "    .dataframe tbody tr th {\n",
       "        vertical-align: top;\n",
       "    }\n",
       "\n",
       "    .dataframe thead th {\n",
       "        text-align: right;\n",
       "    }\n",
       "</style>\n",
       "<table border=\"1\" class=\"dataframe\">\n",
       "  <thead>\n",
       "    <tr style=\"text-align: right;\">\n",
       "      <th></th>\n",
       "      <th>smiles</th>\n",
       "      <th>experimental_solubility</th>\n",
       "      <th>predicted_solubility</th>\n",
       "      <th>diff</th>\n",
       "    </tr>\n",
       "  </thead>\n",
       "  <tbody>\n",
       "    <tr>\n",
       "      <th>0</th>\n",
       "      <td>O=C1CC(c2ccc(O)c(O)c2)Oc2cc(O)cc(O)c21</td>\n",
       "      <td>-3.620</td>\n",
       "      <td>-3.286066</td>\n",
       "      <td>0.333934</td>\n",
       "    </tr>\n",
       "    <tr>\n",
       "      <th>1</th>\n",
       "      <td>OCC(O)C(O)CO</td>\n",
       "      <td>0.700</td>\n",
       "      <td>0.432186</td>\n",
       "      <td>0.267814</td>\n",
       "    </tr>\n",
       "    <tr>\n",
       "      <th>5</th>\n",
       "      <td>OC1COC(O)C(O)C1O</td>\n",
       "      <td>0.390</td>\n",
       "      <td>0.775286</td>\n",
       "      <td>0.385286</td>\n",
       "    </tr>\n",
       "    <tr>\n",
       "      <th>6</th>\n",
       "      <td>CN1C(C(=O)Nc2ccccn2)=C(O)c2ccccc2S1(=O)=O</td>\n",
       "      <td>-4.160</td>\n",
       "      <td>-4.154682</td>\n",
       "      <td>0.005318</td>\n",
       "    </tr>\n",
       "    <tr>\n",
       "      <th>7</th>\n",
       "      <td>OCC1OC(O)(CO)C(O)C1O</td>\n",
       "      <td>0.640</td>\n",
       "      <td>0.402078</td>\n",
       "      <td>0.237922</td>\n",
       "    </tr>\n",
       "    <tr>\n",
       "      <th>8</th>\n",
       "      <td>Cc1cc2nc3c(=O)[nH]c(=O)nc-3n(CC(O)C(O)C(O)CO)c...</td>\n",
       "      <td>-3.685</td>\n",
       "      <td>-3.548808</td>\n",
       "      <td>0.136192</td>\n",
       "    </tr>\n",
       "    <tr>\n",
       "      <th>10</th>\n",
       "      <td>OCC1OC(O)C(O)C(O)C1O</td>\n",
       "      <td>0.740</td>\n",
       "      <td>0.763188</td>\n",
       "      <td>0.023188</td>\n",
       "    </tr>\n",
       "    <tr>\n",
       "      <th>11</th>\n",
       "      <td>OCC1OC(OC2C(CO)OC(O)C(O)C2O)C(O)C(O)C1O</td>\n",
       "      <td>-0.244</td>\n",
       "      <td>0.290772</td>\n",
       "      <td>0.534772</td>\n",
       "    </tr>\n",
       "    <tr>\n",
       "      <th>13</th>\n",
       "      <td>Oc1ncc2nccnc2n1</td>\n",
       "      <td>-1.947</td>\n",
       "      <td>-1.653501</td>\n",
       "      <td>0.293499</td>\n",
       "    </tr>\n",
       "    <tr>\n",
       "      <th>14</th>\n",
       "      <td>Nc1ncnc2c1ccn2C1OC(CO)C(O)C1O</td>\n",
       "      <td>-1.950</td>\n",
       "      <td>-1.662153</td>\n",
       "      <td>0.287847</td>\n",
       "    </tr>\n",
       "    <tr>\n",
       "      <th>15</th>\n",
       "      <td>OCC(O)CO</td>\n",
       "      <td>1.120</td>\n",
       "      <td>0.661937</td>\n",
       "      <td>0.458063</td>\n",
       "    </tr>\n",
       "  </tbody>\n",
       "</table>\n",
       "</div>"
      ],
      "text/plain": [
       "                                               smiles  \\\n",
       "0              O=C1CC(c2ccc(O)c(O)c2)Oc2cc(O)cc(O)c21   \n",
       "1                                        OCC(O)C(O)CO   \n",
       "5                                    OC1COC(O)C(O)C1O   \n",
       "6           CN1C(C(=O)Nc2ccccn2)=C(O)c2ccccc2S1(=O)=O   \n",
       "7                                OCC1OC(O)(CO)C(O)C1O   \n",
       "8   Cc1cc2nc3c(=O)[nH]c(=O)nc-3n(CC(O)C(O)C(O)CO)c...   \n",
       "10                               OCC1OC(O)C(O)C(O)C1O   \n",
       "11            OCC1OC(OC2C(CO)OC(O)C(O)C2O)C(O)C(O)C1O   \n",
       "13                                    Oc1ncc2nccnc2n1   \n",
       "14                      Nc1ncnc2c1ccn2C1OC(CO)C(O)C1O   \n",
       "15                                           OCC(O)CO   \n",
       "\n",
       "    experimental_solubility  predicted_solubility      diff  \n",
       "0                    -3.620             -3.286066  0.333934  \n",
       "1                     0.700              0.432186  0.267814  \n",
       "5                     0.390              0.775286  0.385286  \n",
       "6                    -4.160             -4.154682  0.005318  \n",
       "7                     0.640              0.402078  0.237922  \n",
       "8                    -3.685             -3.548808  0.136192  \n",
       "10                    0.740              0.763188  0.023188  \n",
       "11                   -0.244              0.290772  0.534772  \n",
       "13                   -1.947             -1.653501  0.293499  \n",
       "14                   -1.950             -1.662153  0.287847  \n",
       "15                    1.120              0.661937  0.458063  "
      ]
     },
     "metadata": {},
     "output_type": "display_data"
    }
   ],
   "source": [
    "prediction_errors(\"ROH\", \"SME < 0\")"
   ]
  },
  {
   "cell_type": "code",
   "execution_count": 39,
   "id": "fa4e4759-4dc3-4caf-8b72-a8d0868ae608",
   "metadata": {},
   "outputs": [
    {
     "name": "stdout",
     "output_type": "stream",
     "text": [
      "O=C1CC(c2ccc(O)c(O)c2)Oc2cc(O)cc(O)c21: training\n",
      "OCC(O)C(O)CO: valid\n",
      "Nc1nc(O)nc2nc[nH]c12: test\n",
      "Oc1cccc2cccnc12: training\n",
      "Oc1cccc2ncccc12: training\n",
      "OC1COC(O)C(O)C1O: training\n",
      "CN1C(C(=O)Nc2ccccn2)=C(O)c2ccccc2S1(=O)=O: training\n",
      "OCC1OC(O)(CO)C(O)C1O: test\n",
      "Cc1cc2nc3c(=O)[nH]c(=O)nc-3n(CC(O)C(O)C(O)CO)c2cc1C: training\n",
      "OCC(O)C1OC2OC(C(Cl)(Cl)Cl)OC2C1O: training\n",
      "OCC1OC(O)C(O)C(O)C1O: training\n",
      "OCC1OC(OC2C(CO)OC(O)C(O)C2O)C(O)C(O)C1O: training\n",
      "CCCCCCCCCCCCCCCCCCO: training\n",
      "Oc1ncc2nccnc2n1: training\n",
      "Nc1ncnc2c1ccn2C1OC(CO)C(O)C1O: training\n",
      "OCC(O)CO: valid\n"
     ]
    }
   ],
   "source": [
    "for smiles in attributions_functional_groups.query(\n",
    "    f\"substruct_smiles == 'ROH' and SME <= 0\"\n",
    ").molecule_smiles.unique():\n",
    "\n",
    "    entry = esol_df.query(\"smiles == @smiles\")\n",
    "    print(f\"{entry.smiles.iloc[0]}: {entry.group.iloc[0]}\")"
   ]
  },
  {
   "cell_type": "code",
   "execution_count": 189,
   "id": "819c2574-abff-4a39-926a-303b3149d28e",
   "metadata": {},
   "outputs": [
    {
     "name": "stdout",
     "output_type": "stream",
     "text": [
      "fraction_wrong_predictions = 0.36363636363636365\n"
     ]
    },
    {
     "data": {
      "text/html": [
       "<div>\n",
       "<style scoped>\n",
       "    .dataframe tbody tr th:only-of-type {\n",
       "        vertical-align: middle;\n",
       "    }\n",
       "\n",
       "    .dataframe tbody tr th {\n",
       "        vertical-align: top;\n",
       "    }\n",
       "\n",
       "    .dataframe thead th {\n",
       "        text-align: right;\n",
       "    }\n",
       "</style>\n",
       "<table border=\"1\" class=\"dataframe\">\n",
       "  <thead>\n",
       "    <tr style=\"text-align: right;\">\n",
       "      <th></th>\n",
       "      <th>smiles</th>\n",
       "      <th>experimental_solubility</th>\n",
       "      <th>predicted_solubility</th>\n",
       "      <th>diff</th>\n",
       "    </tr>\n",
       "  </thead>\n",
       "  <tbody>\n",
       "    <tr>\n",
       "      <th>6</th>\n",
       "      <td>CCN1c2ncccc2C(=S)N(C)c2cccnc21</td>\n",
       "      <td>-4.634</td>\n",
       "      <td>-4.182835</td>\n",
       "      <td>0.451165</td>\n",
       "    </tr>\n",
       "    <tr>\n",
       "      <th>7</th>\n",
       "      <td>C=CCC1(C(C)CCC)C(=O)NC(=S)NC1=O</td>\n",
       "      <td>-3.460</td>\n",
       "      <td>-3.083044</td>\n",
       "      <td>0.376956</td>\n",
       "    </tr>\n",
       "    <tr>\n",
       "      <th>8</th>\n",
       "      <td>CN(C)C(=S)SSC(=S)N(C)C</td>\n",
       "      <td>-3.900</td>\n",
       "      <td>-3.136156</td>\n",
       "      <td>0.763844</td>\n",
       "    </tr>\n",
       "    <tr>\n",
       "      <th>9</th>\n",
       "      <td>CCN(CC)C(=S)SSC(=S)N(CC)CC</td>\n",
       "      <td>-4.860</td>\n",
       "      <td>-4.346002</td>\n",
       "      <td>0.513998</td>\n",
       "    </tr>\n",
       "  </tbody>\n",
       "</table>\n",
       "</div>"
      ],
      "text/plain": [
       "                            smiles  experimental_solubility  \\\n",
       "6   CCN1c2ncccc2C(=S)N(C)c2cccnc21                   -4.634   \n",
       "7  C=CCC1(C(C)CCC)C(=O)NC(=S)NC1=O                   -3.460   \n",
       "8           CN(C)C(=S)SSC(=S)N(C)C                   -3.900   \n",
       "9       CCN(CC)C(=S)SSC(=S)N(CC)CC                   -4.860   \n",
       "\n",
       "   predicted_solubility      diff  \n",
       "6             -4.182835  0.451165  \n",
       "7             -3.083044  0.376956  \n",
       "8             -3.136156  0.763844  \n",
       "9             -4.346002  0.513998  "
      ]
     },
     "metadata": {},
     "output_type": "display_data"
    }
   ],
   "source": [
    "prediction_errors(\"R=S\", \"SME < 0\")"
   ]
  },
  {
   "cell_type": "code",
   "execution_count": 204,
   "id": "a0e2b3f3-7bdf-4435-8dc0-f8af18d32d63",
   "metadata": {},
   "outputs": [
    {
     "name": "stdout",
     "output_type": "stream",
     "text": [
      "fraction_wrong_predictions = 0.1111111111111111\n"
     ]
    },
    {
     "data": {
      "text/html": [
       "<div>\n",
       "<style scoped>\n",
       "    .dataframe tbody tr th:only-of-type {\n",
       "        vertical-align: middle;\n",
       "    }\n",
       "\n",
       "    .dataframe tbody tr th {\n",
       "        vertical-align: top;\n",
       "    }\n",
       "\n",
       "    .dataframe thead th {\n",
       "        text-align: right;\n",
       "    }\n",
       "</style>\n",
       "<table border=\"1\" class=\"dataframe\">\n",
       "  <thead>\n",
       "    <tr style=\"text-align: right;\">\n",
       "      <th></th>\n",
       "      <th>smiles</th>\n",
       "      <th>experimental_solubility</th>\n",
       "      <th>predicted_solubility</th>\n",
       "      <th>diff</th>\n",
       "    </tr>\n",
       "  </thead>\n",
       "  <tbody>\n",
       "    <tr>\n",
       "      <th>5</th>\n",
       "      <td>COCC(=O)N(c1c(C)cccc1C)C(C)C(=O)OC</td>\n",
       "      <td>-1.601</td>\n",
       "      <td>-2.833154</td>\n",
       "      <td>1.232154</td>\n",
       "    </tr>\n",
       "    <tr>\n",
       "      <th>17</th>\n",
       "      <td>COC(=O)c1ccccc1OC1OC(COC2OCC(O)C(O)C2O)C(O)C(O...</td>\n",
       "      <td>-0.742</td>\n",
       "      <td>-1.363291</td>\n",
       "      <td>0.621291</td>\n",
       "    </tr>\n",
       "  </tbody>\n",
       "</table>\n",
       "</div>"
      ],
      "text/plain": [
       "                                               smiles  \\\n",
       "5                  COCC(=O)N(c1c(C)cccc1C)C(C)C(=O)OC   \n",
       "17  COC(=O)c1ccccc1OC1OC(COC2OCC(O)C(O)C2O)C(O)C(O...   \n",
       "\n",
       "    experimental_solubility  predicted_solubility      diff  \n",
       "5                    -1.601             -2.833154  1.232154  \n",
       "17                   -0.742             -1.363291  0.621291  "
      ]
     },
     "metadata": {},
     "output_type": "display_data"
    }
   ],
   "source": [
    "prediction_errors(\"R-C(=O)OCH3\", \"Shapley_value > 0\")"
   ]
  },
  {
   "cell_type": "code",
   "execution_count": 27,
   "id": "7972791d-10ca-4aec-9a97-51b073decbfa",
   "metadata": {},
   "outputs": [
    {
     "name": "stdout",
     "output_type": "stream",
     "text": [
      "experimental_solubility = -0.742\n",
      "predicted_solubility = -1.3632909059524536\n",
      "SME\n"
     ]
    },
    {
     "data": {
      "image/jpeg": "[encoded data removed]",
      "image/png": "[encoded data removed]",
      "text/plain": [
       "<PIL.PngImagePlugin.PngImageFile image mode=RGB size=350x300>"
      ]
     },
     "metadata": {},
     "output_type": "display_data"
    },
    {
     "name": "stdout",
     "output_type": "stream",
     "text": [
      "Shapley value\n"
     ]
    },
    {
     "data": {
      "image/jpeg": "[encoded data removed]",
      "image/png": "[encoded data removed]",
      "text/plain": [
       "<PIL.PngImagePlugin.PngImageFile image mode=RGB size=350x300>"
      ]
     },
     "metadata": {},
     "output_type": "display_data"
    },
    {
     "name": "stdout",
     "output_type": "stream",
     "text": [
      "HN value\n"
     ]
    },
    {
     "data": {
      "image/jpeg": "[encoded data removed]",
      "image/png": "[encoded data removed]",
      "text/plain": [
       "<PIL.PngImagePlugin.PngImageFile image mode=RGB size=350x300>"
      ]
     },
     "metadata": {},
     "output_type": "display_data"
    }
   ],
   "source": [
    "explain(\"COC(=O)c1ccccc1OC1OC(COC2OCC(O)C(O)C2O)C(O)C(O)C1O\")"
   ]
  },
  {
   "cell_type": "code",
   "execution_count": 194,
   "id": "ee6b6dfe-9bf6-4726-8840-7d461923cfac",
   "metadata": {},
   "outputs": [
    {
     "data": {
      "text/html": [
       "<div>\n",
       "<style scoped>\n",
       "    .dataframe tbody tr th:only-of-type {\n",
       "        vertical-align: middle;\n",
       "    }\n",
       "\n",
       "    .dataframe tbody tr th {\n",
       "        vertical-align: top;\n",
       "    }\n",
       "\n",
       "    .dataframe thead th {\n",
       "        text-align: right;\n",
       "    }\n",
       "</style>\n",
       "<table border=\"1\" class=\"dataframe\">\n",
       "  <thead>\n",
       "    <tr style=\"text-align: right;\">\n",
       "      <th></th>\n",
       "      <th>smiles</th>\n",
       "      <th>ESOL</th>\n",
       "      <th>group</th>\n",
       "    </tr>\n",
       "  </thead>\n",
       "  <tbody>\n",
       "    <tr>\n",
       "      <th>960</th>\n",
       "      <td>CC(=O)C(C)C</td>\n",
       "      <td>-0.12</td>\n",
       "      <td>training</td>\n",
       "    </tr>\n",
       "  </tbody>\n",
       "</table>\n",
       "</div>"
      ],
      "text/plain": [
       "          smiles  ESOL     group\n",
       "960  CC(=O)C(C)C -0.12  training"
      ]
     },
     "execution_count": 194,
     "metadata": {},
     "output_type": "execute_result"
    }
   ],
   "source": [
    "esol_df.query(\"smiles == 'CC(=O)C(C)C'\")"
   ]
  },
  {
   "cell_type": "code",
   "execution_count": 12,
   "id": "6408ecb6-4b59-438b-9d24-2ae465bcc0b7",
   "metadata": {},
   "outputs": [
    {
     "data": {
      "text/plain": [
       "smiles    CC(=O)C1CCC2C3CC=C4CC(O)CCC4(C)C3CCC12C\n",
       "ESOL                                        -4.65\n",
       "group                                    training\n",
       "Name: 171, dtype: object"
      ]
     },
     "execution_count": 12,
     "metadata": {},
     "output_type": "execute_result"
    }
   ],
   "source": [
    "esol_df.loc[171]"
   ]
  },
  {
   "cell_type": "code",
   "execution_count": 24,
   "id": "a9577ed6-814a-4463-ac6b-5418ef2fea28",
   "metadata": {},
   "outputs": [
    {
     "data": {
      "text/html": [
       "<div>\n",
       "<style scoped>\n",
       "    .dataframe tbody tr th:only-of-type {\n",
       "        vertical-align: middle;\n",
       "    }\n",
       "\n",
       "    .dataframe tbody tr th {\n",
       "        vertical-align: top;\n",
       "    }\n",
       "\n",
       "    .dataframe thead th {\n",
       "        text-align: right;\n",
       "    }\n",
       "</style>\n",
       "<table border=\"1\" class=\"dataframe\">\n",
       "  <thead>\n",
       "    <tr style=\"text-align: right;\">\n",
       "      <th></th>\n",
       "      <th>N</th>\n",
       "    </tr>\n",
       "    <tr>\n",
       "      <th>molecule_smiles</th>\n",
       "      <th></th>\n",
       "    </tr>\n",
       "  </thead>\n",
       "  <tbody>\n",
       "    <tr>\n",
       "      <th>COC(=O)c1cc(O)c(O)c(O)c1</th>\n",
       "      <td>1</td>\n",
       "    </tr>\n",
       "    <tr>\n",
       "      <th>COC(=O)c1ccc(O)cc1</th>\n",
       "      <td>1</td>\n",
       "    </tr>\n",
       "    <tr>\n",
       "      <th>COC(=O)c1ccccc1OC1OC(COC2OCC(O)C(O)C2O)C(O)C(O)C1O</th>\n",
       "      <td>1</td>\n",
       "    </tr>\n",
       "  </tbody>\n",
       "</table>\n",
       "</div>"
      ],
      "text/plain": [
       "                                                    N\n",
       "molecule_smiles                                      \n",
       "COC(=O)c1cc(O)c(O)c(O)c1                            1\n",
       "COC(=O)c1ccc(O)cc1                                  1\n",
       "COC(=O)c1ccccc1OC1OC(COC2OCC(O)C(O)C2O)C(O)C(O)C1O  1"
      ]
     },
     "execution_count": 24,
     "metadata": {},
     "output_type": "execute_result"
    }
   ],
   "source": [
    "fg_groups = [\"ROH\", \"R-C(=O)CH3\"]\n",
    "def selector(x):\n",
    "    substructures = x.substruct_smiles.values\n",
    "    if \"ROH\" in substructures and \"R-C(=O)OCH3\" in substructures:\n",
    "        return 1\n",
    "\n",
    "    return 0\n",
    "\n",
    "attributions_functional_groups.groupby(\"molecule_smiles\").apply(selector).to_frame(\"N\").query(\"N == 1\")"
   ]
  },
  {
   "cell_type": "code",
   "execution_count": 21,
   "id": "cc3eb68b-0c61-4016-95a3-ffac0420524f",
   "metadata": {},
   "outputs": [
    {
     "data": {
      "text/plain": [
       "62"
      ]
     },
     "execution_count": 21,
     "metadata": {},
     "output_type": "execute_result"
    }
   ],
   "source": [
    "fg_groups = [\"ROH\", \"R-C(=O)CH3\"]\n",
    "def selector(x):\n",
    "    substructures = x.substruct_smiles.values\n",
    "    if \"ROH\" in substructures and \"R=O\" in substructures:\n",
    "        return 1\n",
    "\n",
    "    return 0\n",
    "\n",
    "attributions_functional_groups.groupby(\"molecule_smiles\").apply(selector).sum()"
   ]
  },
  {
   "cell_type": "code",
   "execution_count": 29,
   "id": "0ddbfe18-b993-421a-bfff-bcf741f8341a",
   "metadata": {},
   "outputs": [
    {
     "data": {
      "text/html": [
       "<div>\n",
       "<style scoped>\n",
       "    .dataframe tbody tr th:only-of-type {\n",
       "        vertical-align: middle;\n",
       "    }\n",
       "\n",
       "    .dataframe tbody tr th {\n",
       "        vertical-align: top;\n",
       "    }\n",
       "\n",
       "    .dataframe thead th {\n",
       "        text-align: right;\n",
       "    }\n",
       "</style>\n",
       "<table border=\"1\" class=\"dataframe\">\n",
       "  <thead>\n",
       "    <tr style=\"text-align: right;\">\n",
       "      <th></th>\n",
       "      <th>molecule_smiles</th>\n",
       "      <th>group</th>\n",
       "      <th>atom_ids</th>\n",
       "      <th>functional_group</th>\n",
       "      <th>masked_prediction</th>\n",
       "      <th>SME</th>\n",
       "      <th>non_masked_prediction</th>\n",
       "      <th>time_SME</th>\n",
       "      <th>HN_value</th>\n",
       "      <th>time_HN_value</th>\n",
       "      <th>Shapley_value</th>\n",
       "      <th>time_Shapley_value</th>\n",
       "      <th>substruct_smiles</th>\n",
       "      <th>ESOL</th>\n",
       "    </tr>\n",
       "  </thead>\n",
       "  <tbody>\n",
       "    <tr>\n",
       "      <th>0</th>\n",
       "      <td>BrCCBr</td>\n",
       "      <td>fg</td>\n",
       "      <td>[0]</td>\n",
       "      <td>RX</td>\n",
       "      <td>-1.365084</td>\n",
       "      <td>-0.294411</td>\n",
       "      <td>-1.659495</td>\n",
       "      <td>0.467680</td>\n",
       "      <td>1.202001</td>\n",
       "      <td>0.042732</td>\n",
       "      <td>0.686595</td>\n",
       "      <td>0.030586</td>\n",
       "      <td>None</td>\n",
       "      <td>-1.68</td>\n",
       "    </tr>\n",
       "    <tr>\n",
       "      <th>1</th>\n",
       "      <td>BrCCBr</td>\n",
       "      <td>fg</td>\n",
       "      <td>[3]</td>\n",
       "      <td>RX</td>\n",
       "      <td>-1.365084</td>\n",
       "      <td>-0.294411</td>\n",
       "      <td>-1.659495</td>\n",
       "      <td>0.467680</td>\n",
       "      <td>1.202000</td>\n",
       "      <td>0.042732</td>\n",
       "      <td>0.686595</td>\n",
       "      <td>0.030586</td>\n",
       "      <td>None</td>\n",
       "      <td>-1.68</td>\n",
       "    </tr>\n",
       "    <tr>\n",
       "      <th>2</th>\n",
       "      <td>BrCCBr</td>\n",
       "      <td>fg</td>\n",
       "      <td>[1, 2]</td>\n",
       "      <td>scaffold</td>\n",
       "      <td>-0.808419</td>\n",
       "      <td>-0.851076</td>\n",
       "      <td>-1.659495</td>\n",
       "      <td>0.467680</td>\n",
       "      <td>-0.936767</td>\n",
       "      <td>0.042732</td>\n",
       "      <td>0.094045</td>\n",
       "      <td>0.030586</td>\n",
       "      <td>None</td>\n",
       "      <td>-1.68</td>\n",
       "    </tr>\n",
       "    <tr>\n",
       "      <th>3</th>\n",
       "      <td>Brc1cc(Br)c(Br)cc1Br</td>\n",
       "      <td>fg</td>\n",
       "      <td>[0]</td>\n",
       "      <td>RX</td>\n",
       "      <td>-6.303532</td>\n",
       "      <td>-0.206526</td>\n",
       "      <td>-6.510058</td>\n",
       "      <td>0.535912</td>\n",
       "      <td>1.271198</td>\n",
       "      <td>0.032272</td>\n",
       "      <td>0.322045</td>\n",
       "      <td>0.020008</td>\n",
       "      <td>None</td>\n",
       "      <td>-6.98</td>\n",
       "    </tr>\n",
       "    <tr>\n",
       "      <th>4</th>\n",
       "      <td>Brc1cc(Br)c(Br)cc1Br</td>\n",
       "      <td>fg</td>\n",
       "      <td>[4]</td>\n",
       "      <td>RX</td>\n",
       "      <td>-6.303532</td>\n",
       "      <td>-0.206526</td>\n",
       "      <td>-6.510058</td>\n",
       "      <td>0.535912</td>\n",
       "      <td>1.271198</td>\n",
       "      <td>0.032272</td>\n",
       "      <td>0.322045</td>\n",
       "      <td>0.020008</td>\n",
       "      <td>None</td>\n",
       "      <td>-6.98</td>\n",
       "    </tr>\n",
       "  </tbody>\n",
       "</table>\n",
       "</div>"
      ],
      "text/plain": [
       "        molecule_smiles group atom_ids functional_group  masked_prediction  \\\n",
       "0                BrCCBr    fg      [0]               RX          -1.365084   \n",
       "1                BrCCBr    fg      [3]               RX          -1.365084   \n",
       "2                BrCCBr    fg   [1, 2]         scaffold          -0.808419   \n",
       "3  Brc1cc(Br)c(Br)cc1Br    fg      [0]               RX          -6.303532   \n",
       "4  Brc1cc(Br)c(Br)cc1Br    fg      [4]               RX          -6.303532   \n",
       "\n",
       "        SME  non_masked_prediction  time_SME  HN_value  time_HN_value  \\\n",
       "0 -0.294411              -1.659495  0.467680  1.202001       0.042732   \n",
       "1 -0.294411              -1.659495  0.467680  1.202000       0.042732   \n",
       "2 -0.851076              -1.659495  0.467680 -0.936767       0.042732   \n",
       "3 -0.206526              -6.510058  0.535912  1.271198       0.032272   \n",
       "4 -0.206526              -6.510058  0.535912  1.271198       0.032272   \n",
       "\n",
       "   Shapley_value  time_Shapley_value substruct_smiles  ESOL  \n",
       "0       0.686595            0.030586             None -1.68  \n",
       "1       0.686595            0.030586             None -1.68  \n",
       "2       0.094045            0.030586             None -1.68  \n",
       "3       0.322045            0.020008             None -6.98  \n",
       "4       0.322045            0.020008             None -6.98  "
      ]
     },
     "execution_count": 29,
     "metadata": {},
     "output_type": "execute_result"
    }
   ],
   "source": [
    "test_attributions = pd.read_json(\"../../data/ESOL/test_attributions_around_mean.json\")\n",
    "test_attributions.head()"
   ]
  },
  {
   "cell_type": "code",
   "execution_count": 39,
   "id": "f481fa02-4e14-4ce0-9dbf-8b18b39eb02f",
   "metadata": {},
   "outputs": [
    {
     "name": "stdout",
     "output_type": "stream",
     "text": [
      "1\n"
     ]
    },
    {
     "data": {
      "text/plain": [
       "SME              2\n",
       "Shapley_value    2\n",
       "HN_value         2\n",
       "dtype: int64"
      ]
     },
     "execution_count": 39,
     "metadata": {},
     "output_type": "execute_result"
    }
   ],
   "source": [
    "print(len(test_attributions.query(\"functional_group == 'R=S'\")[[\"SME\", \"Shapley_value\", \"HN_value\"]]))\n",
    "\n",
    "(test_attributions.query(\"functional_group == 'R-tBu'\")[[\"SME\", \"Shapley_value\", \"HN_value\"]] < 0).sum()"
   ]
  },
  {
   "cell_type": "markdown",
   "id": "9fe9e435-b87b-43ed-ad75-446fdfa1b653",
   "metadata": {},
   "source": [
    "# Manual ranks"
   ]
  },
  {
   "cell_type": "code",
   "execution_count": 43,
   "id": "6a78a763-0e71-4cc7-9d16-9bb982f0def3",
   "metadata": {},
   "outputs": [
    {
     "data": {
      "text/html": [
       "<div>\n",
       "<style scoped>\n",
       "    .dataframe tbody tr th:only-of-type {\n",
       "        vertical-align: middle;\n",
       "    }\n",
       "\n",
       "    .dataframe tbody tr th {\n",
       "        vertical-align: top;\n",
       "    }\n",
       "\n",
       "    .dataframe thead th {\n",
       "        text-align: right;\n",
       "    }\n",
       "</style>\n",
       "<table border=\"1\" class=\"dataframe\">\n",
       "  <thead>\n",
       "    <tr style=\"text-align: right;\">\n",
       "      <th></th>\n",
       "      <th>Unnamed: 0</th>\n",
       "      <th>smiles</th>\n",
       "      <th>prediction</th>\n",
       "      <th>ESOL</th>\n",
       "      <th>absolute_error</th>\n",
       "      <th>absolute_error_class</th>\n",
       "      <th>SME_rank_corr</th>\n",
       "      <th>Shapley_rank_corr</th>\n",
       "      <th>HN_rank_corr</th>\n",
       "    </tr>\n",
       "  </thead>\n",
       "  <tbody>\n",
       "    <tr>\n",
       "      <th>0</th>\n",
       "      <td>0</td>\n",
       "      <td>BrCCBr</td>\n",
       "      <td>-1.659495</td>\n",
       "      <td>-1.68</td>\n",
       "      <td>0.020505</td>\n",
       "      <td>&lt; 0.6</td>\n",
       "      <td>1.0</td>\n",
       "      <td>1.0</td>\n",
       "      <td>0.866025</td>\n",
       "    </tr>\n",
       "    <tr>\n",
       "      <th>1</th>\n",
       "      <td>3</td>\n",
       "      <td>Brc1cc(Br)c(Br)cc1Br</td>\n",
       "      <td>-6.510058</td>\n",
       "      <td>-6.98</td>\n",
       "      <td>0.469942</td>\n",
       "      <td>&lt; 0.6</td>\n",
       "      <td>1.0</td>\n",
       "      <td>1.0</td>\n",
       "      <td>1.000000</td>\n",
       "    </tr>\n",
       "    <tr>\n",
       "      <th>2</th>\n",
       "      <td>8</td>\n",
       "      <td>Brc1cccc(Br)c1</td>\n",
       "      <td>-4.152843</td>\n",
       "      <td>-3.54</td>\n",
       "      <td>0.612843</td>\n",
       "      <td>&gt;= 0.6</td>\n",
       "      <td>1.0</td>\n",
       "      <td>1.0</td>\n",
       "      <td>1.000000</td>\n",
       "    </tr>\n",
       "    <tr>\n",
       "      <th>3</th>\n",
       "      <td>11</td>\n",
       "      <td>Brc1cccc2ccccc12</td>\n",
       "      <td>-4.388748</td>\n",
       "      <td>-4.35</td>\n",
       "      <td>0.038748</td>\n",
       "      <td>&lt; 0.6</td>\n",
       "      <td>1.0</td>\n",
       "      <td>1.0</td>\n",
       "      <td>1.000000</td>\n",
       "    </tr>\n",
       "    <tr>\n",
       "      <th>4</th>\n",
       "      <td>13</td>\n",
       "      <td>C#CCCCCCCC</td>\n",
       "      <td>-4.244354</td>\n",
       "      <td>-4.24</td>\n",
       "      <td>0.004354</td>\n",
       "      <td>&lt; 0.6</td>\n",
       "      <td>1.0</td>\n",
       "      <td>1.0</td>\n",
       "      <td>1.000000</td>\n",
       "    </tr>\n",
       "  </tbody>\n",
       "</table>\n",
       "</div>"
      ],
      "text/plain": [
       "   Unnamed: 0                smiles  prediction  ESOL  absolute_error  \\\n",
       "0           0                BrCCBr   -1.659495 -1.68        0.020505   \n",
       "1           3  Brc1cc(Br)c(Br)cc1Br   -6.510058 -6.98        0.469942   \n",
       "2           8        Brc1cccc(Br)c1   -4.152843 -3.54        0.612843   \n",
       "3          11      Brc1cccc2ccccc12   -4.388748 -4.35        0.038748   \n",
       "4          13            C#CCCCCCCC   -4.244354 -4.24        0.004354   \n",
       "\n",
       "  absolute_error_class  SME_rank_corr  Shapley_rank_corr  HN_rank_corr  \n",
       "0                < 0.6            1.0                1.0      0.866025  \n",
       "1                < 0.6            1.0                1.0      1.000000  \n",
       "2               >= 0.6            1.0                1.0      1.000000  \n",
       "3                < 0.6            1.0                1.0      1.000000  \n",
       "4                < 0.6            1.0                1.0      1.000000  "
      ]
     },
     "execution_count": 43,
     "metadata": {},
     "output_type": "execute_result"
    }
   ],
   "source": [
    "df = pd.read_csv(\"../../data/ESOL/manual_vs_attribution_rank_correlations_around_mean.csv\")\n",
    "df.head()"
   ]
  },
  {
   "cell_type": "code",
   "execution_count": 63,
   "id": "b58a87a7-7bc4-4964-83a0-0533d3bfaf66",
   "metadata": {},
   "outputs": [
    {
     "data": {
      "application/vnd.plotly.v1+json": {
       "config": {
        "plotlyServerURL": "https://plot.ly"
       },
       "data": [
        {
         "coloraxis": "coloraxis",
         "hovertemplate": "x: %{x}<br>y: %{y}<br>color: %{z}<extra></extra>",
         "name": "0",
         "type": "heatmap",
         "xaxis": "x",
         "yaxis": "y",
         "z": [
          [
           1,
           1,
           1,
           1,
           1,
           1,
           1,
           1,
           0.5,
           0.5,
           1,
           1,
           0.6666666666666666,
           1,
           0.5,
           1,
           1,
           1,
           1,
           1,
           1,
           1,
           -1,
           1,
           -1,
           1,
           1,
           1,
           1,
           0.6842105263157895,
           -1,
           1,
           1,
           1,
           1,
           0.8867924528301887,
           1,
           1,
           1,
           1,
           0.5642880936468347,
           1,
           1,
           -1,
           0.6071428571428571,
           0.0857142857142857,
           -0.0285714285714285,
           0.6981132075471698,
           -0.5789473684210527,
           -0.7378647873726218,
           0.8947368421052632,
           1,
           0.7,
           0.917662935482247,
           -0.5,
           0.9710083124552245,
           1,
           1,
           -0.0895622151039798,
           -1,
           1,
           0.816496580927726,
           -1,
           0.8,
           1,
           1,
           0.7071067811865475,
           0.7905694150420948,
           0.8660254037844387,
           1,
           0.641688947919748,
           1,
           0.7254762501100117,
           1,
           1,
           1,
           1,
           1,
           1,
           1,
           -1,
           1,
           0.5,
           0.9,
           0.7758801774444581,
           0.8944271909999159,
           0.5,
           1,
           0.3333333333333333,
           1,
           1,
           1,
           1,
           -0.1309307341415954,
           0.5368515688594936,
           0.7254762501100117,
           1,
           1,
           1,
           1
          ],
          [
           1,
           1,
           1,
           1,
           1,
           1,
           1,
           1,
           0.5,
           0.5,
           1,
           1,
           0.7777777777777778,
           1,
           0.5,
           1,
           1,
           1,
           1,
           1,
           1,
           1,
           -1,
           1,
           -1,
           1,
           1,
           1,
           1,
           0.6842105263157895,
           -1,
           1,
           1,
           1,
           1,
           1,
           1,
           1,
           1,
           1,
           -0.1578947368421052,
           1,
           1,
           -1,
           0.9285714285714286,
           0.0857142857142857,
           -0.0285714285714285,
           1,
           -0.5789473684210527,
           -0.7777777777777778,
           0.8947368421052632,
           1,
           0.9,
           0.917662935482247,
           0.5,
           0.9710083124552245,
           1,
           1,
           -0.0909090909090909,
           -1,
           0.5,
           0.816496580927726,
           -1,
           0.8,
           1,
           1,
           0.7071067811865475,
           0.7905694150420948,
           0.8660254037844387,
           0.7637626158259733,
           0.641688947919748,
           1,
           0.7453559924999299,
           1,
           1,
           1,
           1,
           1,
           0.816496580927726,
           1,
           -1,
           1,
           1,
           0.9,
           0.7758801774444581,
           0.8944271909999159,
           0.5,
           1,
           0.3333333333333333,
           1,
           1,
           0.5,
           1,
           -0.1309307341415954,
           0.5368515688594936,
           0.7254762501100117,
           1,
           1,
           1,
           1
          ],
          [
           0.8660254037844387,
           1,
           1,
           1,
           1,
           1,
           1,
           1,
           0.5,
           -0.5,
           1,
           0.8,
           0.7777777777777778,
           1,
           0.5,
           1,
           1,
           1,
           1,
           1,
           -0.5,
           1,
           -1,
           1,
           -1,
           1,
           1,
           1,
           1,
           -0.1578947368421052,
           -1,
           1,
           1,
           1,
           1,
           0.8867924528301887,
           1,
           1,
           1,
           1,
           -0.3684210526315789,
           1,
           1,
           -1,
           0.1785714285714285,
           -0.6571428571428571,
           -0.7714285714285715,
           0.0943396226415094,
           -0.5789473684210527,
           -1,
           0.6668859288553503,
           1,
           0.2,
           0.917662935482247,
           -1,
           0.8827348295047495,
           1,
           1,
           -0.8181818181818182,
           -1,
           -0.5,
           0.816496580927726,
           -1,
           0.4,
           1,
           1,
           0.7071067811865475,
           0.7905694150420948,
           0.8660254037844387,
           1,
           0.641688947919748,
           1,
           0.7453559924999299,
           1,
           1,
           1,
           1,
           1,
           1,
           1,
           -1,
           1,
           1,
           0.9,
           0.7758801774444581,
           0.8944271909999159,
           0.5,
           1,
           0.3333333333333333,
           1,
           1,
           0.5,
           1,
           0.6546536707079772,
           0.5368515688594936,
           0.7254762501100117,
           1,
           1,
           1,
           1
          ]
         ]
        }
       ],
       "layout": {
        "coloraxis": {
         "colorscale": [
          [
           0,
           "rgb(103,0,31)"
          ],
          [
           0.1,
           "rgb(178,24,43)"
          ],
          [
           0.2,
           "rgb(214,96,77)"
          ],
          [
           0.3,
           "rgb(244,165,130)"
          ],
          [
           0.4,
           "rgb(253,219,199)"
          ],
          [
           0.5,
           "rgb(247,247,247)"
          ],
          [
           0.6,
           "rgb(209,229,240)"
          ],
          [
           0.7,
           "rgb(146,197,222)"
          ],
          [
           0.8,
           "rgb(67,147,195)"
          ],
          [
           0.9,
           "rgb(33,102,172)"
          ],
          [
           1,
           "rgb(5,48,97)"
          ]
         ]
        },
        "height": 300,
        "margin": {
         "t": 60
        },
        "template": {
         "data": {
          "bar": [
           {
            "error_x": {
             "color": "#2a3f5f"
            },
            "error_y": {
             "color": "#2a3f5f"
            },
            "marker": {
             "line": {
              "color": "#E5ECF6",
              "width": 0.5
             },
             "pattern": {
              "fillmode": "overlay",
              "size": 10,
              "solidity": 0.2
             }
            },
            "type": "bar"
           }
          ],
          "barpolar": [
           {
            "marker": {
             "line": {
              "color": "#E5ECF6",
              "width": 0.5
             },
             "pattern": {
              "fillmode": "overlay",
              "size": 10,
              "solidity": 0.2
             }
            },
            "type": "barpolar"
           }
          ],
          "carpet": [
           {
            "aaxis": {
             "endlinecolor": "#2a3f5f",
             "gridcolor": "white",
             "linecolor": "white",
             "minorgridcolor": "white",
             "startlinecolor": "#2a3f5f"
            },
            "baxis": {
             "endlinecolor": "#2a3f5f",
             "gridcolor": "white",
             "linecolor": "white",
             "minorgridcolor": "white",
             "startlinecolor": "#2a3f5f"
            },
            "type": "carpet"
           }
          ],
          "choropleth": [
           {
            "colorbar": {
             "outlinewidth": 0,
             "ticks": ""
            },
            "type": "choropleth"
           }
          ],
          "contour": [
           {
            "colorbar": {
             "outlinewidth": 0,
             "ticks": ""
            },
            "colorscale": [
             [
              0,
              "#0d0887"
             ],
             [
              0.1111111111111111,
              "#46039f"
             ],
             [
              0.2222222222222222,
              "#7201a8"
             ],
             [
              0.3333333333333333,
              "#9c179e"
             ],
             [
              0.4444444444444444,
              "#bd3786"
             ],
             [
              0.5555555555555556,
              "#d8576b"
             ],
             [
              0.6666666666666666,
              "#ed7953"
             ],
             [
              0.7777777777777778,
              "#fb9f3a"
             ],
             [
              0.8888888888888888,
              "#fdca26"
             ],
             [
              1,
              "#f0f921"
             ]
            ],
            "type": "contour"
           }
          ],
          "contourcarpet": [
           {
            "colorbar": {
             "outlinewidth": 0,
             "ticks": ""
            },
            "type": "contourcarpet"
           }
          ],
          "heatmap": [
           {
            "colorbar": {
             "outlinewidth": 0,
             "ticks": ""
            },
            "colorscale": [
             [
              0,
              "#0d0887"
             ],
             [
              0.1111111111111111,
              "#46039f"
             ],
             [
              0.2222222222222222,
              "#7201a8"
             ],
             [
              0.3333333333333333,
              "#9c179e"
             ],
             [
              0.4444444444444444,
              "#bd3786"
             ],
             [
              0.5555555555555556,
              "#d8576b"
             ],
             [
              0.6666666666666666,
              "#ed7953"
             ],
             [
              0.7777777777777778,
              "#fb9f3a"
             ],
             [
              0.8888888888888888,
              "#fdca26"
             ],
             [
              1,
              "#f0f921"
             ]
            ],
            "type": "heatmap"
           }
          ],
          "heatmapgl": [
           {
            "colorbar": {
             "outlinewidth": 0,
             "ticks": ""
            },
            "colorscale": [
             [
              0,
              "#0d0887"
             ],
             [
              0.1111111111111111,
              "#46039f"
             ],
             [
              0.2222222222222222,
              "#7201a8"
             ],
             [
              0.3333333333333333,
              "#9c179e"
             ],
             [
              0.4444444444444444,
              "#bd3786"
             ],
             [
              0.5555555555555556,
              "#d8576b"
             ],
             [
              0.6666666666666666,
              "#ed7953"
             ],
             [
              0.7777777777777778,
              "#fb9f3a"
             ],
             [
              0.8888888888888888,
              "#fdca26"
             ],
             [
              1,
              "#f0f921"
             ]
            ],
            "type": "heatmapgl"
           }
          ],
          "histogram": [
           {
            "marker": {
             "pattern": {
              "fillmode": "overlay",
              "size": 10,
              "solidity": 0.2
             }
            },
            "type": "histogram"
           }
          ],
          "histogram2d": [
           {
            "colorbar": {
             "outlinewidth": 0,
             "ticks": ""
            },
            "colorscale": [
             [
              0,
              "#0d0887"
             ],
             [
              0.1111111111111111,
              "#46039f"
             ],
             [
              0.2222222222222222,
              "#7201a8"
             ],
             [
              0.3333333333333333,
              "#9c179e"
             ],
             [
              0.4444444444444444,
              "#bd3786"
             ],
             [
              0.5555555555555556,
              "#d8576b"
             ],
             [
              0.6666666666666666,
              "#ed7953"
             ],
             [
              0.7777777777777778,
              "#fb9f3a"
             ],
             [
              0.8888888888888888,
              "#fdca26"
             ],
             [
              1,
              "#f0f921"
             ]
            ],
            "type": "histogram2d"
           }
          ],
          "histogram2dcontour": [
           {
            "colorbar": {
             "outlinewidth": 0,
             "ticks": ""
            },
            "colorscale": [
             [
              0,
              "#0d0887"
             ],
             [
              0.1111111111111111,
              "#46039f"
             ],
             [
              0.2222222222222222,
              "#7201a8"
             ],
             [
              0.3333333333333333,
              "#9c179e"
             ],
             [
              0.4444444444444444,
              "#bd3786"
             ],
             [
              0.5555555555555556,
              "#d8576b"
             ],
             [
              0.6666666666666666,
              "#ed7953"
             ],
             [
              0.7777777777777778,
              "#fb9f3a"
             ],
             [
              0.8888888888888888,
              "#fdca26"
             ],
             [
              1,
              "#f0f921"
             ]
            ],
            "type": "histogram2dcontour"
           }
          ],
          "mesh3d": [
           {
            "colorbar": {
             "outlinewidth": 0,
             "ticks": ""
            },
            "type": "mesh3d"
           }
          ],
          "parcoords": [
           {
            "line": {
             "colorbar": {
              "outlinewidth": 0,
              "ticks": ""
             }
            },
            "type": "parcoords"
           }
          ],
          "pie": [
           {
            "automargin": true,
            "type": "pie"
           }
          ],
          "scatter": [
           {
            "fillpattern": {
             "fillmode": "overlay",
             "size": 10,
             "solidity": 0.2
            },
            "type": "scatter"
           }
          ],
          "scatter3d": [
           {
            "line": {
             "colorbar": {
              "outlinewidth": 0,
              "ticks": ""
             }
            },
            "marker": {
             "colorbar": {
              "outlinewidth": 0,
              "ticks": ""
             }
            },
            "type": "scatter3d"
           }
          ],
          "scattercarpet": [
           {
            "marker": {
             "colorbar": {
              "outlinewidth": 0,
              "ticks": ""
             }
            },
            "type": "scattercarpet"
           }
          ],
          "scattergeo": [
           {
            "marker": {
             "colorbar": {
              "outlinewidth": 0,
              "ticks": ""
             }
            },
            "type": "scattergeo"
           }
          ],
          "scattergl": [
           {
            "marker": {
             "colorbar": {
              "outlinewidth": 0,
              "ticks": ""
             }
            },
            "type": "scattergl"
           }
          ],
          "scattermapbox": [
           {
            "marker": {
             "colorbar": {
              "outlinewidth": 0,
              "ticks": ""
             }
            },
            "type": "scattermapbox"
           }
          ],
          "scatterpolar": [
           {
            "marker": {
             "colorbar": {
              "outlinewidth": 0,
              "ticks": ""
             }
            },
            "type": "scatterpolar"
           }
          ],
          "scatterpolargl": [
           {
            "marker": {
             "colorbar": {
              "outlinewidth": 0,
              "ticks": ""
             }
            },
            "type": "scatterpolargl"
           }
          ],
          "scatterternary": [
           {
            "marker": {
             "colorbar": {
              "outlinewidth": 0,
              "ticks": ""
             }
            },
            "type": "scatterternary"
           }
          ],
          "surface": [
           {
            "colorbar": {
             "outlinewidth": 0,
             "ticks": ""
            },
            "colorscale": [
             [
              0,
              "#0d0887"
             ],
             [
              0.1111111111111111,
              "#46039f"
             ],
             [
              0.2222222222222222,
              "#7201a8"
             ],
             [
              0.3333333333333333,
              "#9c179e"
             ],
             [
              0.4444444444444444,
              "#bd3786"
             ],
             [
              0.5555555555555556,
              "#d8576b"
             ],
             [
              0.6666666666666666,
              "#ed7953"
             ],
             [
              0.7777777777777778,
              "#fb9f3a"
             ],
             [
              0.8888888888888888,
              "#fdca26"
             ],
             [
              1,
              "#f0f921"
             ]
            ],
            "type": "surface"
           }
          ],
          "table": [
           {
            "cells": {
             "fill": {
              "color": "#EBF0F8"
             },
             "line": {
              "color": "white"
             }
            },
            "header": {
             "fill": {
              "color": "#C8D4E3"
             },
             "line": {
              "color": "white"
             }
            },
            "type": "table"
           }
          ]
         },
         "layout": {
          "annotationdefaults": {
           "arrowcolor": "#2a3f5f",
           "arrowhead": 0,
           "arrowwidth": 1
          },
          "autotypenumbers": "strict",
          "coloraxis": {
           "colorbar": {
            "outlinewidth": 0,
            "ticks": ""
           }
          },
          "colorscale": {
           "diverging": [
            [
             0,
             "#8e0152"
            ],
            [
             0.1,
             "#c51b7d"
            ],
            [
             0.2,
             "#de77ae"
            ],
            [
             0.3,
             "#f1b6da"
            ],
            [
             0.4,
             "#fde0ef"
            ],
            [
             0.5,
             "#f7f7f7"
            ],
            [
             0.6,
             "#e6f5d0"
            ],
            [
             0.7,
             "#b8e186"
            ],
            [
             0.8,
             "#7fbc41"
            ],
            [
             0.9,
             "#4d9221"
            ],
            [
             1,
             "#276419"
            ]
           ],
           "sequential": [
            [
             0,
             "#0d0887"
            ],
            [
             0.1111111111111111,
             "#46039f"
            ],
            [
             0.2222222222222222,
             "#7201a8"
            ],
            [
             0.3333333333333333,
             "#9c179e"
            ],
            [
             0.4444444444444444,
             "#bd3786"
            ],
            [
             0.5555555555555556,
             "#d8576b"
            ],
            [
             0.6666666666666666,
             "#ed7953"
            ],
            [
             0.7777777777777778,
             "#fb9f3a"
            ],
            [
             0.8888888888888888,
             "#fdca26"
            ],
            [
             1,
             "#f0f921"
            ]
           ],
           "sequentialminus": [
            [
             0,
             "#0d0887"
            ],
            [
             0.1111111111111111,
             "#46039f"
            ],
            [
             0.2222222222222222,
             "#7201a8"
            ],
            [
             0.3333333333333333,
             "#9c179e"
            ],
            [
             0.4444444444444444,
             "#bd3786"
            ],
            [
             0.5555555555555556,
             "#d8576b"
            ],
            [
             0.6666666666666666,
             "#ed7953"
            ],
            [
             0.7777777777777778,
             "#fb9f3a"
            ],
            [
             0.8888888888888888,
             "#fdca26"
            ],
            [
             1,
             "#f0f921"
            ]
           ]
          },
          "colorway": [
           "#636efa",
           "#EF553B",
           "#00cc96",
           "#ab63fa",
           "#FFA15A",
           "#19d3f3",
           "#FF6692",
           "#B6E880",
           "#FF97FF",
           "#FECB52"
          ],
          "font": {
           "color": "#2a3f5f"
          },
          "geo": {
           "bgcolor": "white",
           "lakecolor": "white",
           "landcolor": "#E5ECF6",
           "showlakes": true,
           "showland": true,
           "subunitcolor": "white"
          },
          "hoverlabel": {
           "align": "left"
          },
          "hovermode": "closest",
          "mapbox": {
           "style": "light"
          },
          "paper_bgcolor": "white",
          "plot_bgcolor": "#E5ECF6",
          "polar": {
           "angularaxis": {
            "gridcolor": "white",
            "linecolor": "white",
            "ticks": ""
           },
           "bgcolor": "#E5ECF6",
           "radialaxis": {
            "gridcolor": "white",
            "linecolor": "white",
            "ticks": ""
           }
          },
          "scene": {
           "xaxis": {
            "backgroundcolor": "#E5ECF6",
            "gridcolor": "white",
            "gridwidth": 2,
            "linecolor": "white",
            "showbackground": true,
            "ticks": "",
            "zerolinecolor": "white"
           },
           "yaxis": {
            "backgroundcolor": "#E5ECF6",
            "gridcolor": "white",
            "gridwidth": 2,
            "linecolor": "white",
            "showbackground": true,
            "ticks": "",
            "zerolinecolor": "white"
           },
           "zaxis": {
            "backgroundcolor": "#E5ECF6",
            "gridcolor": "white",
            "gridwidth": 2,
            "linecolor": "white",
            "showbackground": true,
            "ticks": "",
            "zerolinecolor": "white"
           }
          },
          "shapedefaults": {
           "line": {
            "color": "#2a3f5f"
           }
          },
          "ternary": {
           "aaxis": {
            "gridcolor": "white",
            "linecolor": "white",
            "ticks": ""
           },
           "baxis": {
            "gridcolor": "white",
            "linecolor": "white",
            "ticks": ""
           },
           "bgcolor": "#E5ECF6",
           "caxis": {
            "gridcolor": "white",
            "linecolor": "white",
            "ticks": ""
           }
          },
          "title": {
           "x": 0.05
          },
          "xaxis": {
           "automargin": true,
           "gridcolor": "white",
           "linecolor": "white",
           "ticks": "",
           "title": {
            "standoff": 15
           },
           "zerolinecolor": "white",
           "zerolinewidth": 2
          },
          "yaxis": {
           "automargin": true,
           "gridcolor": "white",
           "linecolor": "white",
           "ticks": "",
           "title": {
            "standoff": 15
           },
           "zerolinecolor": "white",
           "zerolinewidth": 2
          }
         }
        },
        "width": 1200,
        "xaxis": {
         "anchor": "y",
         "autorange": true,
         "domain": [
          0,
          1
         ],
         "range": [
          -0.5,
          99.5
         ]
        },
        "yaxis": {
         "anchor": "x",
         "autorange": true,
         "domain": [
          0,
          1
         ],
         "range": [
          2.5,
          -0.5
         ]
        }
       }
      },
      "image/png": "[encoded data removed]",
      "text/html": [
       "<div>                            <div id=\"f9a9be06-d865-4d3e-a18b-87aa81ea3cd9\" class=\"plotly-graph-div\" style=\"height:300px; width:1200px;\"></div>            <script type=\"text/javascript\">                require([\"plotly\"], function(Plotly) {                    window.PLOTLYENV=window.PLOTLYENV || {};                                    if (document.getElementById(\"f9a9be06-d865-4d3e-a18b-87aa81ea3cd9\")) {                    Plotly.newPlot(                        \"f9a9be06-d865-4d3e-a18b-87aa81ea3cd9\",                        [{\"coloraxis\":\"coloraxis\",\"name\":\"0\",\"z\":[[1.0,1.0,1.0,1.0,1.0,1.0,1.0,1.0,0.5,0.5,1.0,1.0,0.6666666666666666,1.0,0.5,1.0,1.0,1.0,1.0,1.0,1.0,1.0,-1.0,1.0,-1.0,1.0,1.0,1.0,1.0,0.6842105263157895,-1.0,1.0,1.0,1.0,1.0,0.8867924528301887,1.0,1.0,1.0,1.0,0.5642880936468347,1.0,1.0,-1.0,0.6071428571428571,0.0857142857142857,-0.0285714285714285,0.6981132075471698,-0.5789473684210527,-0.7378647873726218,0.8947368421052632,1.0,0.7,0.917662935482247,-0.5,0.9710083124552245,1.0,1.0,-0.0895622151039798,-1.0,1.0,0.816496580927726,-1.0,0.8,1.0,1.0,0.7071067811865475,0.7905694150420948,0.8660254037844387,1.0,0.641688947919748,1.0,0.7254762501100117,1.0,1.0,1.0,1.0,1.0,1.0,1.0,-1.0,1.0,0.5,0.9,0.7758801774444581,0.8944271909999159,0.5,1.0,0.3333333333333333,1.0,1.0,1.0,1.0,-0.1309307341415954,0.5368515688594936,0.7254762501100117,1.0,1.0,1.0,1.0],[1.0,1.0,1.0,1.0,1.0,1.0,1.0,1.0,0.5,0.5,1.0,1.0,0.7777777777777778,1.0,0.5,1.0,1.0,1.0,1.0,1.0,1.0,1.0,-1.0,1.0,-1.0,1.0,1.0,1.0,1.0,0.6842105263157895,-1.0,1.0,1.0,1.0,1.0,1.0,1.0,1.0,1.0,1.0,-0.1578947368421052,1.0,1.0,-1.0,0.9285714285714286,0.0857142857142857,-0.0285714285714285,1.0,-0.5789473684210527,-0.7777777777777778,0.8947368421052632,1.0,0.9,0.917662935482247,0.5,0.9710083124552245,1.0,1.0,-0.0909090909090909,-1.0,0.5,0.816496580927726,-1.0,0.8,1.0,1.0,0.7071067811865475,0.7905694150420948,0.8660254037844387,0.7637626158259733,0.641688947919748,1.0,0.7453559924999299,1.0,1.0,1.0,1.0,1.0,0.816496580927726,1.0,-1.0,1.0,1.0,0.9,0.7758801774444581,0.8944271909999159,0.5,1.0,0.3333333333333333,1.0,1.0,0.5,1.0,-0.1309307341415954,0.5368515688594936,0.7254762501100117,1.0,1.0,1.0,1.0],[0.8660254037844387,1.0,1.0,1.0,1.0,1.0,1.0,1.0,0.5,-0.5,1.0,0.8,0.7777777777777778,1.0,0.5,1.0,1.0,1.0,1.0,1.0,-0.5,1.0,-1.0,1.0,-1.0,1.0,1.0,1.0,1.0,-0.1578947368421052,-1.0,1.0,1.0,1.0,1.0,0.8867924528301887,1.0,1.0,1.0,1.0,-0.3684210526315789,1.0,1.0,-1.0,0.1785714285714285,-0.6571428571428571,-0.7714285714285715,0.0943396226415094,-0.5789473684210527,-1.0,0.6668859288553503,1.0,0.2,0.917662935482247,-1.0,0.8827348295047495,1.0,1.0,-0.8181818181818182,-1.0,-0.5,0.816496580927726,-1.0,0.4,1.0,1.0,0.7071067811865475,0.7905694150420948,0.8660254037844387,1.0,0.641688947919748,1.0,0.7453559924999299,1.0,1.0,1.0,1.0,1.0,1.0,1.0,-1.0,1.0,1.0,0.9,0.7758801774444581,0.8944271909999159,0.5,1.0,0.3333333333333333,1.0,1.0,0.5,1.0,0.6546536707079772,0.5368515688594936,0.7254762501100117,1.0,1.0,1.0,1.0]],\"type\":\"heatmap\",\"xaxis\":\"x\",\"yaxis\":\"y\",\"hovertemplate\":\"x: %{x}\\u003cbr\\u003ey: %{y}\\u003cbr\\u003ecolor: %{z}\\u003cextra\\u003e\\u003c\\u002fextra\\u003e\"}],                        {\"template\":{\"data\":{\"histogram2dcontour\":[{\"type\":\"histogram2dcontour\",\"colorbar\":{\"outlinewidth\":0,\"ticks\":\"\"},\"colorscale\":[[0.0,\"#0d0887\"],[0.1111111111111111,\"#46039f\"],[0.2222222222222222,\"#7201a8\"],[0.3333333333333333,\"#9c179e\"],[0.4444444444444444,\"#bd3786\"],[0.5555555555555556,\"#d8576b\"],[0.6666666666666666,\"#ed7953\"],[0.7777777777777778,\"#fb9f3a\"],[0.8888888888888888,\"#fdca26\"],[1.0,\"#f0f921\"]]}],\"choropleth\":[{\"type\":\"choropleth\",\"colorbar\":{\"outlinewidth\":0,\"ticks\":\"\"}}],\"histogram2d\":[{\"type\":\"histogram2d\",\"colorbar\":{\"outlinewidth\":0,\"ticks\":\"\"},\"colorscale\":[[0.0,\"#0d0887\"],[0.1111111111111111,\"#46039f\"],[0.2222222222222222,\"#7201a8\"],[0.3333333333333333,\"#9c179e\"],[0.4444444444444444,\"#bd3786\"],[0.5555555555555556,\"#d8576b\"],[0.6666666666666666,\"#ed7953\"],[0.7777777777777778,\"#fb9f3a\"],[0.8888888888888888,\"#fdca26\"],[1.0,\"#f0f921\"]]}],\"heatmap\":[{\"type\":\"heatmap\",\"colorbar\":{\"outlinewidth\":0,\"ticks\":\"\"},\"colorscale\":[[0.0,\"#0d0887\"],[0.1111111111111111,\"#46039f\"],[0.2222222222222222,\"#7201a8\"],[0.3333333333333333,\"#9c179e\"],[0.4444444444444444,\"#bd3786\"],[0.5555555555555556,\"#d8576b\"],[0.6666666666666666,\"#ed7953\"],[0.7777777777777778,\"#fb9f3a\"],[0.8888888888888888,\"#fdca26\"],[1.0,\"#f0f921\"]]}],\"heatmapgl\":[{\"type\":\"heatmapgl\",\"colorbar\":{\"outlinewidth\":0,\"ticks\":\"\"},\"colorscale\":[[0.0,\"#0d0887\"],[0.1111111111111111,\"#46039f\"],[0.2222222222222222,\"#7201a8\"],[0.3333333333333333,\"#9c179e\"],[0.4444444444444444,\"#bd3786\"],[0.5555555555555556,\"#d8576b\"],[0.6666666666666666,\"#ed7953\"],[0.7777777777777778,\"#fb9f3a\"],[0.8888888888888888,\"#fdca26\"],[1.0,\"#f0f921\"]]}],\"contourcarpet\":[{\"type\":\"contourcarpet\",\"colorbar\":{\"outlinewidth\":0,\"ticks\":\"\"}}],\"contour\":[{\"type\":\"contour\",\"colorbar\":{\"outlinewidth\":0,\"ticks\":\"\"},\"colorscale\":[[0.0,\"#0d0887\"],[0.1111111111111111,\"#46039f\"],[0.2222222222222222,\"#7201a8\"],[0.3333333333333333,\"#9c179e\"],[0.4444444444444444,\"#bd3786\"],[0.5555555555555556,\"#d8576b\"],[0.6666666666666666,\"#ed7953\"],[0.7777777777777778,\"#fb9f3a\"],[0.8888888888888888,\"#fdca26\"],[1.0,\"#f0f921\"]]}],\"surface\":[{\"type\":\"surface\",\"colorbar\":{\"outlinewidth\":0,\"ticks\":\"\"},\"colorscale\":[[0.0,\"#0d0887\"],[0.1111111111111111,\"#46039f\"],[0.2222222222222222,\"#7201a8\"],[0.3333333333333333,\"#9c179e\"],[0.4444444444444444,\"#bd3786\"],[0.5555555555555556,\"#d8576b\"],[0.6666666666666666,\"#ed7953\"],[0.7777777777777778,\"#fb9f3a\"],[0.8888888888888888,\"#fdca26\"],[1.0,\"#f0f921\"]]}],\"mesh3d\":[{\"type\":\"mesh3d\",\"colorbar\":{\"outlinewidth\":0,\"ticks\":\"\"}}],\"scatter\":[{\"fillpattern\":{\"fillmode\":\"overlay\",\"size\":10,\"solidity\":0.2},\"type\":\"scatter\"}],\"parcoords\":[{\"type\":\"parcoords\",\"line\":{\"colorbar\":{\"outlinewidth\":0,\"ticks\":\"\"}}}],\"scatterpolargl\":[{\"type\":\"scatterpolargl\",\"marker\":{\"colorbar\":{\"outlinewidth\":0,\"ticks\":\"\"}}}],\"bar\":[{\"error_x\":{\"color\":\"#2a3f5f\"},\"error_y\":{\"color\":\"#2a3f5f\"},\"marker\":{\"line\":{\"color\":\"#E5ECF6\",\"width\":0.5},\"pattern\":{\"fillmode\":\"overlay\",\"size\":10,\"solidity\":0.2}},\"type\":\"bar\"}],\"scattergeo\":[{\"type\":\"scattergeo\",\"marker\":{\"colorbar\":{\"outlinewidth\":0,\"ticks\":\"\"}}}],\"scatterpolar\":[{\"type\":\"scatterpolar\",\"marker\":{\"colorbar\":{\"outlinewidth\":0,\"ticks\":\"\"}}}],\"histogram\":[{\"marker\":{\"pattern\":{\"fillmode\":\"overlay\",\"size\":10,\"solidity\":0.2}},\"type\":\"histogram\"}],\"scattergl\":[{\"type\":\"scattergl\",\"marker\":{\"colorbar\":{\"outlinewidth\":0,\"ticks\":\"\"}}}],\"scatter3d\":[{\"type\":\"scatter3d\",\"line\":{\"colorbar\":{\"outlinewidth\":0,\"ticks\":\"\"}},\"marker\":{\"colorbar\":{\"outlinewidth\":0,\"ticks\":\"\"}}}],\"scattermapbox\":[{\"type\":\"scattermapbox\",\"marker\":{\"colorbar\":{\"outlinewidth\":0,\"ticks\":\"\"}}}],\"scatterternary\":[{\"type\":\"scatterternary\",\"marker\":{\"colorbar\":{\"outlinewidth\":0,\"ticks\":\"\"}}}],\"scattercarpet\":[{\"type\":\"scattercarpet\",\"marker\":{\"colorbar\":{\"outlinewidth\":0,\"ticks\":\"\"}}}],\"carpet\":[{\"aaxis\":{\"endlinecolor\":\"#2a3f5f\",\"gridcolor\":\"white\",\"linecolor\":\"white\",\"minorgridcolor\":\"white\",\"startlinecolor\":\"#2a3f5f\"},\"baxis\":{\"endlinecolor\":\"#2a3f5f\",\"gridcolor\":\"white\",\"linecolor\":\"white\",\"minorgridcolor\":\"white\",\"startlinecolor\":\"#2a3f5f\"},\"type\":\"carpet\"}],\"table\":[{\"cells\":{\"fill\":{\"color\":\"#EBF0F8\"},\"line\":{\"color\":\"white\"}},\"header\":{\"fill\":{\"color\":\"#C8D4E3\"},\"line\":{\"color\":\"white\"}},\"type\":\"table\"}],\"barpolar\":[{\"marker\":{\"line\":{\"color\":\"#E5ECF6\",\"width\":0.5},\"pattern\":{\"fillmode\":\"overlay\",\"size\":10,\"solidity\":0.2}},\"type\":\"barpolar\"}],\"pie\":[{\"automargin\":true,\"type\":\"pie\"}]},\"layout\":{\"autotypenumbers\":\"strict\",\"colorway\":[\"#636efa\",\"#EF553B\",\"#00cc96\",\"#ab63fa\",\"#FFA15A\",\"#19d3f3\",\"#FF6692\",\"#B6E880\",\"#FF97FF\",\"#FECB52\"],\"font\":{\"color\":\"#2a3f5f\"},\"hovermode\":\"closest\",\"hoverlabel\":{\"align\":\"left\"},\"paper_bgcolor\":\"white\",\"plot_bgcolor\":\"#E5ECF6\",\"polar\":{\"bgcolor\":\"#E5ECF6\",\"angularaxis\":{\"gridcolor\":\"white\",\"linecolor\":\"white\",\"ticks\":\"\"},\"radialaxis\":{\"gridcolor\":\"white\",\"linecolor\":\"white\",\"ticks\":\"\"}},\"ternary\":{\"bgcolor\":\"#E5ECF6\",\"aaxis\":{\"gridcolor\":\"white\",\"linecolor\":\"white\",\"ticks\":\"\"},\"baxis\":{\"gridcolor\":\"white\",\"linecolor\":\"white\",\"ticks\":\"\"},\"caxis\":{\"gridcolor\":\"white\",\"linecolor\":\"white\",\"ticks\":\"\"}},\"coloraxis\":{\"colorbar\":{\"outlinewidth\":0,\"ticks\":\"\"}},\"colorscale\":{\"sequential\":[[0.0,\"#0d0887\"],[0.1111111111111111,\"#46039f\"],[0.2222222222222222,\"#7201a8\"],[0.3333333333333333,\"#9c179e\"],[0.4444444444444444,\"#bd3786\"],[0.5555555555555556,\"#d8576b\"],[0.6666666666666666,\"#ed7953\"],[0.7777777777777778,\"#fb9f3a\"],[0.8888888888888888,\"#fdca26\"],[1.0,\"#f0f921\"]],\"sequentialminus\":[[0.0,\"#0d0887\"],[0.1111111111111111,\"#46039f\"],[0.2222222222222222,\"#7201a8\"],[0.3333333333333333,\"#9c179e\"],[0.4444444444444444,\"#bd3786\"],[0.5555555555555556,\"#d8576b\"],[0.6666666666666666,\"#ed7953\"],[0.7777777777777778,\"#fb9f3a\"],[0.8888888888888888,\"#fdca26\"],[1.0,\"#f0f921\"]],\"diverging\":[[0,\"#8e0152\"],[0.1,\"#c51b7d\"],[0.2,\"#de77ae\"],[0.3,\"#f1b6da\"],[0.4,\"#fde0ef\"],[0.5,\"#f7f7f7\"],[0.6,\"#e6f5d0\"],[0.7,\"#b8e186\"],[0.8,\"#7fbc41\"],[0.9,\"#4d9221\"],[1,\"#276419\"]]},\"xaxis\":{\"gridcolor\":\"white\",\"linecolor\":\"white\",\"ticks\":\"\",\"title\":{\"standoff\":15},\"zerolinecolor\":\"white\",\"automargin\":true,\"zerolinewidth\":2},\"yaxis\":{\"gridcolor\":\"white\",\"linecolor\":\"white\",\"ticks\":\"\",\"title\":{\"standoff\":15},\"zerolinecolor\":\"white\",\"automargin\":true,\"zerolinewidth\":2},\"scene\":{\"xaxis\":{\"backgroundcolor\":\"#E5ECF6\",\"gridcolor\":\"white\",\"linecolor\":\"white\",\"showbackground\":true,\"ticks\":\"\",\"zerolinecolor\":\"white\",\"gridwidth\":2},\"yaxis\":{\"backgroundcolor\":\"#E5ECF6\",\"gridcolor\":\"white\",\"linecolor\":\"white\",\"showbackground\":true,\"ticks\":\"\",\"zerolinecolor\":\"white\",\"gridwidth\":2},\"zaxis\":{\"backgroundcolor\":\"#E5ECF6\",\"gridcolor\":\"white\",\"linecolor\":\"white\",\"showbackground\":true,\"ticks\":\"\",\"zerolinecolor\":\"white\",\"gridwidth\":2}},\"shapedefaults\":{\"line\":{\"color\":\"#2a3f5f\"}},\"annotationdefaults\":{\"arrowcolor\":\"#2a3f5f\",\"arrowhead\":0,\"arrowwidth\":1},\"geo\":{\"bgcolor\":\"white\",\"landcolor\":\"#E5ECF6\",\"subunitcolor\":\"white\",\"showland\":true,\"showlakes\":true,\"lakecolor\":\"white\"},\"title\":{\"x\":0.05},\"mapbox\":{\"style\":\"light\"}}},\"xaxis\":{\"anchor\":\"y\",\"domain\":[0.0,1.0]},\"yaxis\":{\"anchor\":\"x\",\"domain\":[0.0,1.0],\"autorange\":\"reversed\"},\"coloraxis\":{\"colorscale\":[[0.0,\"rgb(103,0,31)\"],[0.1,\"rgb(178,24,43)\"],[0.2,\"rgb(214,96,77)\"],[0.3,\"rgb(244,165,130)\"],[0.4,\"rgb(253,219,199)\"],[0.5,\"rgb(247,247,247)\"],[0.6,\"rgb(209,229,240)\"],[0.7,\"rgb(146,197,222)\"],[0.8,\"rgb(67,147,195)\"],[0.9,\"rgb(33,102,172)\"],[1.0,\"rgb(5,48,97)\"]]},\"margin\":{\"t\":60},\"height\":300,\"width\":1200},                        {\"responsive\": true}                    ).then(function(){\n",
       "                            \n",
       "var gd = document.getElementById('f9a9be06-d865-4d3e-a18b-87aa81ea3cd9');\n",
       "var x = new MutationObserver(function (mutations, observer) {{\n",
       "        var display = window.getComputedStyle(gd).display;\n",
       "        if (!display || display === 'none') {{\n",
       "            console.log([gd, 'removed!']);\n",
       "            Plotly.purge(gd);\n",
       "            observer.disconnect();\n",
       "        }}\n",
       "}});\n",
       "\n",
       "// Listen for the removal of the full notebook cells\n",
       "var notebookContainer = gd.closest('#notebook-container');\n",
       "if (notebookContainer) {{\n",
       "    x.observe(notebookContainer, {childList: true});\n",
       "}}\n",
       "\n",
       "// Listen for the clearing of the current output cell\n",
       "var outputEl = gd.closest('.output');\n",
       "if (outputEl) {{\n",
       "    x.observe(outputEl, {childList: true});\n",
       "}}\n",
       "\n",
       "                        })                };                });            </script>        </div>"
      ]
     },
     "metadata": {},
     "output_type": "display_data"
    }
   ],
   "source": [
    "fig = px.imshow(\n",
    "    df[[\"SME_rank_corr\", \"Shapley_rank_corr\", \"HN_rank_corr\"]].values.T,\n",
    "    color_continuous_scale=\"RdBu\",\n",
    "    aspect=\"auto\",\n",
    "    width=1200,\n",
    "    height=300,\n",
    ")\n",
    "fig.show()"
   ]
  },
  {
   "cell_type": "code",
   "execution_count": 78,
   "id": "082839b3-d6d1-48e2-8c43-53a924fc6ce9",
   "metadata": {},
   "outputs": [
    {
     "data": {
      "application/vnd.plotly.v1+json": {
       "config": {
        "plotlyServerURL": "https://plot.ly"
       },
       "data": [
        {
         "coloraxis": "coloraxis",
         "hovertemplate": "x: %{x}<br>y: %{y}<br>color: %{z}<extra></extra>",
         "name": "0",
         "type": "heatmap",
         "x": [
          "SME_rank_corr",
          "Shapley_rank_corr",
          "HN_rank_corr"
         ],
         "xaxis": "x",
         "y": [
          "BrCCBr",
          "Brc1cc(Br)c(Br)cc1Br",
          "Brc1cccc(Br)c1",
          "Brc1cccc2ccccc12",
          "C#CCCCCCCC",
          "C/C=C/C=O",
          "C=C(C)C1CC=C(C)C(=O)C1",
          "C=C(C)C1Cc2c(ccc3c2OC2COc4cc(OC)c(OC)cc4C2C3=O)O1",
          "CC(=O)C1CCC2C3CCC4=CC(=O)CCC4(C)C3CCC12C",
          "CC(=O)Nc1ccc(O)cc1",
          "CC(=O)OC1(C(C)=O)CCC2C3C=C(C)C4=CC(=O)CCC4(C)C3CCC21C",
          "CC(=O)OCC(=O)C1CCC2C3CCC4=CC(=O)CCC4(C)C3CCC12C",
          "CC(=O)OCC(COC(C)=O)OC(C)=O",
          "CC(C)(C)CO",
          "CC(C)(C)Cc1ccccc1",
          "CC(C)O",
          "CC(C)OC=O",
          "CC(C)c1ccccc1",
          "CC(Cl)Cl",
          "CC(O)c1ccccc1",
          "CC1=C(C(=O)Nc2ccccc2)SCCO1",
          "CC1CC2C3CC(F)C4=CC(=O)C=CC4(C)C3(F)C(O)CC2(C)C1(O)C(=O)CO",
          "CC1CCC(C(C)C)C(O)C1",
          "CCBr",
          "CCC(C)n1c(=O)[nH]c(C)c(Br)c1=O"
         ],
         "yaxis": "y",
         "z": [
          [
           1,
           1,
           0.8660254037844387
          ],
          [
           1,
           1,
           1
          ],
          [
           1,
           1,
           1
          ],
          [
           1,
           1,
           1
          ],
          [
           1,
           1,
           1
          ],
          [
           1,
           1,
           1
          ],
          [
           1,
           1,
           1
          ],
          [
           1,
           1,
           1
          ],
          [
           0.5,
           0.5,
           0.5
          ],
          [
           0.5,
           0.5,
           -0.5
          ],
          [
           1,
           1,
           1
          ],
          [
           1,
           1,
           0.8
          ],
          [
           0.6666666666666666,
           0.7777777777777778,
           0.7777777777777778
          ],
          [
           1,
           1,
           1
          ],
          [
           0.5,
           0.5,
           0.5
          ],
          [
           1,
           1,
           1
          ],
          [
           1,
           1,
           1
          ],
          [
           1,
           1,
           1
          ],
          [
           1,
           1,
           1
          ],
          [
           1,
           1,
           1
          ],
          [
           1,
           1,
           -0.5
          ],
          [
           1,
           1,
           1
          ],
          [
           -1,
           -1,
           -1
          ],
          [
           1,
           1,
           1
          ],
          [
           -1,
           -1,
           -1
          ]
         ]
        }
       ],
       "layout": {
        "coloraxis": {
         "colorscale": [
          [
           0,
           "rgb(165,0,38)"
          ],
          [
           0.1,
           "rgb(215,48,39)"
          ],
          [
           0.2,
           "rgb(244,109,67)"
          ],
          [
           0.3,
           "rgb(253,174,97)"
          ],
          [
           0.4,
           "rgb(254,224,144)"
          ],
          [
           0.5,
           "rgb(255,255,191)"
          ],
          [
           0.6,
           "rgb(224,243,248)"
          ],
          [
           0.7,
           "rgb(171,217,233)"
          ],
          [
           0.8,
           "rgb(116,173,209)"
          ],
          [
           0.9,
           "rgb(69,117,180)"
          ],
          [
           1,
           "rgb(49,54,149)"
          ]
         ]
        },
        "height": 875,
        "margin": {
         "t": 60
        },
        "shapes": [
         {
          "line": {
           "color": "white",
           "width": 2
          },
          "type": "line",
          "x0": 0.5,
          "x1": 0.5,
          "y0": -0.5,
          "y1": 24.5
         },
         {
          "line": {
           "color": "white",
           "width": 2
          },
          "type": "line",
          "x0": 1.5,
          "x1": 1.5,
          "y0": -0.5,
          "y1": 24.5
         },
         {
          "line": {
           "color": "white",
           "width": 2
          },
          "type": "line",
          "x0": 2.5,
          "x1": 2.5,
          "y0": -0.5,
          "y1": 24.5
         },
         {
          "line": {
           "color": "white",
           "width": 2
          },
          "type": "line",
          "x0": -0.5,
          "x1": 2.5,
          "y0": 0.5,
          "y1": 0.5
         },
         {
          "line": {
           "color": "white",
           "width": 2
          },
          "type": "line",
          "x0": -0.5,
          "x1": 2.5,
          "y0": 1.5,
          "y1": 1.5
         },
         {
          "line": {
           "color": "white",
           "width": 2
          },
          "type": "line",
          "x0": -0.5,
          "x1": 2.5,
          "y0": 2.5,
          "y1": 2.5
         },
         {
          "line": {
           "color": "white",
           "width": 2
          },
          "type": "line",
          "x0": -0.5,
          "x1": 2.5,
          "y0": 3.5,
          "y1": 3.5
         },
         {
          "line": {
           "color": "white",
           "width": 2
          },
          "type": "line",
          "x0": -0.5,
          "x1": 2.5,
          "y0": 4.5,
          "y1": 4.5
         },
         {
          "line": {
           "color": "white",
           "width": 2
          },
          "type": "line",
          "x0": -0.5,
          "x1": 2.5,
          "y0": 5.5,
          "y1": 5.5
         },
         {
          "line": {
           "color": "white",
           "width": 2
          },
          "type": "line",
          "x0": -0.5,
          "x1": 2.5,
          "y0": 6.5,
          "y1": 6.5
         },
         {
          "line": {
           "color": "white",
           "width": 2
          },
          "type": "line",
          "x0": -0.5,
          "x1": 2.5,
          "y0": 7.5,
          "y1": 7.5
         },
         {
          "line": {
           "color": "white",
           "width": 2
          },
          "type": "line",
          "x0": -0.5,
          "x1": 2.5,
          "y0": 8.5,
          "y1": 8.5
         },
         {
          "line": {
           "color": "white",
           "width": 2
          },
          "type": "line",
          "x0": -0.5,
          "x1": 2.5,
          "y0": 9.5,
          "y1": 9.5
         },
         {
          "line": {
           "color": "white",
           "width": 2
          },
          "type": "line",
          "x0": -0.5,
          "x1": 2.5,
          "y0": 10.5,
          "y1": 10.5
         },
         {
          "line": {
           "color": "white",
           "width": 2
          },
          "type": "line",
          "x0": -0.5,
          "x1": 2.5,
          "y0": 11.5,
          "y1": 11.5
         },
         {
          "line": {
           "color": "white",
           "width": 2
          },
          "type": "line",
          "x0": -0.5,
          "x1": 2.5,
          "y0": 12.5,
          "y1": 12.5
         },
         {
          "line": {
           "color": "white",
           "width": 2
          },
          "type": "line",
          "x0": -0.5,
          "x1": 2.5,
          "y0": 13.5,
          "y1": 13.5
         },
         {
          "line": {
           "color": "white",
           "width": 2
          },
          "type": "line",
          "x0": -0.5,
          "x1": 2.5,
          "y0": 14.5,
          "y1": 14.5
         },
         {
          "line": {
           "color": "white",
           "width": 2
          },
          "type": "line",
          "x0": -0.5,
          "x1": 2.5,
          "y0": 15.5,
          "y1": 15.5
         },
         {
          "line": {
           "color": "white",
           "width": 2
          },
          "type": "line",
          "x0": -0.5,
          "x1": 2.5,
          "y0": 16.5,
          "y1": 16.5
         },
         {
          "line": {
           "color": "white",
           "width": 2
          },
          "type": "line",
          "x0": -0.5,
          "x1": 2.5,
          "y0": 17.5,
          "y1": 17.5
         },
         {
          "line": {
           "color": "white",
           "width": 2
          },
          "type": "line",
          "x0": -0.5,
          "x1": 2.5,
          "y0": 18.5,
          "y1": 18.5
         },
         {
          "line": {
           "color": "white",
           "width": 2
          },
          "type": "line",
          "x0": -0.5,
          "x1": 2.5,
          "y0": 19.5,
          "y1": 19.5
         },
         {
          "line": {
           "color": "white",
           "width": 2
          },
          "type": "line",
          "x0": -0.5,
          "x1": 2.5,
          "y0": 20.5,
          "y1": 20.5
         },
         {
          "line": {
           "color": "white",
           "width": 2
          },
          "type": "line",
          "x0": -0.5,
          "x1": 2.5,
          "y0": 21.5,
          "y1": 21.5
         },
         {
          "line": {
           "color": "white",
           "width": 2
          },
          "type": "line",
          "x0": -0.5,
          "x1": 2.5,
          "y0": 22.5,
          "y1": 22.5
         },
         {
          "line": {
           "color": "white",
           "width": 2
          },
          "type": "line",
          "x0": -0.5,
          "x1": 2.5,
          "y0": 23.5,
          "y1": 23.5
         },
         {
          "line": {
           "color": "white",
           "width": 2
          },
          "type": "line",
          "x0": -0.5,
          "x1": 2.5,
          "y0": 24.5,
          "y1": 24.5
         }
        ],
        "template": {
         "data": {
          "bar": [
           {
            "error_x": {
             "color": "#2a3f5f"
            },
            "error_y": {
             "color": "#2a3f5f"
            },
            "marker": {
             "line": {
              "color": "#E5ECF6",
              "width": 0.5
             },
             "pattern": {
              "fillmode": "overlay",
              "size": 10,
              "solidity": 0.2
             }
            },
            "type": "bar"
           }
          ],
          "barpolar": [
           {
            "marker": {
             "line": {
              "color": "#E5ECF6",
              "width": 0.5
             },
             "pattern": {
              "fillmode": "overlay",
              "size": 10,
              "solidity": 0.2
             }
            },
            "type": "barpolar"
           }
          ],
          "carpet": [
           {
            "aaxis": {
             "endlinecolor": "#2a3f5f",
             "gridcolor": "white",
             "linecolor": "white",
             "minorgridcolor": "white",
             "startlinecolor": "#2a3f5f"
            },
            "baxis": {
             "endlinecolor": "#2a3f5f",
             "gridcolor": "white",
             "linecolor": "white",
             "minorgridcolor": "white",
             "startlinecolor": "#2a3f5f"
            },
            "type": "carpet"
           }
          ],
          "choropleth": [
           {
            "colorbar": {
             "outlinewidth": 0,
             "ticks": ""
            },
            "type": "choropleth"
           }
          ],
          "contour": [
           {
            "colorbar": {
             "outlinewidth": 0,
             "ticks": ""
            },
            "colorscale": [
             [
              0,
              "#0d0887"
             ],
             [
              0.1111111111111111,
              "#46039f"
             ],
             [
              0.2222222222222222,
              "#7201a8"
             ],
             [
              0.3333333333333333,
              "#9c179e"
             ],
             [
              0.4444444444444444,
              "#bd3786"
             ],
             [
              0.5555555555555556,
              "#d8576b"
             ],
             [
              0.6666666666666666,
              "#ed7953"
             ],
             [
              0.7777777777777778,
              "#fb9f3a"
             ],
             [
              0.8888888888888888,
              "#fdca26"
             ],
             [
              1,
              "#f0f921"
             ]
            ],
            "type": "contour"
           }
          ],
          "contourcarpet": [
           {
            "colorbar": {
             "outlinewidth": 0,
             "ticks": ""
            },
            "type": "contourcarpet"
           }
          ],
          "heatmap": [
           {
            "colorbar": {
             "outlinewidth": 0,
             "ticks": ""
            },
            "colorscale": [
             [
              0,
              "#0d0887"
             ],
             [
              0.1111111111111111,
              "#46039f"
             ],
             [
              0.2222222222222222,
              "#7201a8"
             ],
             [
              0.3333333333333333,
              "#9c179e"
             ],
             [
              0.4444444444444444,
              "#bd3786"
             ],
             [
              0.5555555555555556,
              "#d8576b"
             ],
             [
              0.6666666666666666,
              "#ed7953"
             ],
             [
              0.7777777777777778,
              "#fb9f3a"
             ],
             [
              0.8888888888888888,
              "#fdca26"
             ],
             [
              1,
              "#f0f921"
             ]
            ],
            "type": "heatmap"
           }
          ],
          "heatmapgl": [
           {
            "colorbar": {
             "outlinewidth": 0,
             "ticks": ""
            },
            "colorscale": [
             [
              0,
              "#0d0887"
             ],
             [
              0.1111111111111111,
              "#46039f"
             ],
             [
              0.2222222222222222,
              "#7201a8"
             ],
             [
              0.3333333333333333,
              "#9c179e"
             ],
             [
              0.4444444444444444,
              "#bd3786"
             ],
             [
              0.5555555555555556,
              "#d8576b"
             ],
             [
              0.6666666666666666,
              "#ed7953"
             ],
             [
              0.7777777777777778,
              "#fb9f3a"
             ],
             [
              0.8888888888888888,
              "#fdca26"
             ],
             [
              1,
              "#f0f921"
             ]
            ],
            "type": "heatmapgl"
           }
          ],
          "histogram": [
           {
            "marker": {
             "pattern": {
              "fillmode": "overlay",
              "size": 10,
              "solidity": 0.2
             }
            },
            "type": "histogram"
           }
          ],
          "histogram2d": [
           {
            "colorbar": {
             "outlinewidth": 0,
             "ticks": ""
            },
            "colorscale": [
             [
              0,
              "#0d0887"
             ],
             [
              0.1111111111111111,
              "#46039f"
             ],
             [
              0.2222222222222222,
              "#7201a8"
             ],
             [
              0.3333333333333333,
              "#9c179e"
             ],
             [
              0.4444444444444444,
              "#bd3786"
             ],
             [
              0.5555555555555556,
              "#d8576b"
             ],
             [
              0.6666666666666666,
              "#ed7953"
             ],
             [
              0.7777777777777778,
              "#fb9f3a"
             ],
             [
              0.8888888888888888,
              "#fdca26"
             ],
             [
              1,
              "#f0f921"
             ]
            ],
            "type": "histogram2d"
           }
          ],
          "histogram2dcontour": [
           {
            "colorbar": {
             "outlinewidth": 0,
             "ticks": ""
            },
            "colorscale": [
             [
              0,
              "#0d0887"
             ],
             [
              0.1111111111111111,
              "#46039f"
             ],
             [
              0.2222222222222222,
              "#7201a8"
             ],
             [
              0.3333333333333333,
              "#9c179e"
             ],
             [
              0.4444444444444444,
              "#bd3786"
             ],
             [
              0.5555555555555556,
              "#d8576b"
             ],
             [
              0.6666666666666666,
              "#ed7953"
             ],
             [
              0.7777777777777778,
              "#fb9f3a"
             ],
             [
              0.8888888888888888,
              "#fdca26"
             ],
             [
              1,
              "#f0f921"
             ]
            ],
            "type": "histogram2dcontour"
           }
          ],
          "mesh3d": [
           {
            "colorbar": {
             "outlinewidth": 0,
             "ticks": ""
            },
            "type": "mesh3d"
           }
          ],
          "parcoords": [
           {
            "line": {
             "colorbar": {
              "outlinewidth": 0,
              "ticks": ""
             }
            },
            "type": "parcoords"
           }
          ],
          "pie": [
           {
            "automargin": true,
            "type": "pie"
           }
          ],
          "scatter": [
           {
            "fillpattern": {
             "fillmode": "overlay",
             "size": 10,
             "solidity": 0.2
            },
            "type": "scatter"
           }
          ],
          "scatter3d": [
           {
            "line": {
             "colorbar": {
              "outlinewidth": 0,
              "ticks": ""
             }
            },
            "marker": {
             "colorbar": {
              "outlinewidth": 0,
              "ticks": ""
             }
            },
            "type": "scatter3d"
           }
          ],
          "scattercarpet": [
           {
            "marker": {
             "colorbar": {
              "outlinewidth": 0,
              "ticks": ""
             }
            },
            "type": "scattercarpet"
           }
          ],
          "scattergeo": [
           {
            "marker": {
             "colorbar": {
              "outlinewidth": 0,
              "ticks": ""
             }
            },
            "type": "scattergeo"
           }
          ],
          "scattergl": [
           {
            "marker": {
             "colorbar": {
              "outlinewidth": 0,
              "ticks": ""
             }
            },
            "type": "scattergl"
           }
          ],
          "scattermapbox": [
           {
            "marker": {
             "colorbar": {
              "outlinewidth": 0,
              "ticks": ""
             }
            },
            "type": "scattermapbox"
           }
          ],
          "scatterpolar": [
           {
            "marker": {
             "colorbar": {
              "outlinewidth": 0,
              "ticks": ""
             }
            },
            "type": "scatterpolar"
           }
          ],
          "scatterpolargl": [
           {
            "marker": {
             "colorbar": {
              "outlinewidth": 0,
              "ticks": ""
             }
            },
            "type": "scatterpolargl"
           }
          ],
          "scatterternary": [
           {
            "marker": {
             "colorbar": {
              "outlinewidth": 0,
              "ticks": ""
             }
            },
            "type": "scatterternary"
           }
          ],
          "surface": [
           {
            "colorbar": {
             "outlinewidth": 0,
             "ticks": ""
            },
            "colorscale": [
             [
              0,
              "#0d0887"
             ],
             [
              0.1111111111111111,
              "#46039f"
             ],
             [
              0.2222222222222222,
              "#7201a8"
             ],
             [
              0.3333333333333333,
              "#9c179e"
             ],
             [
              0.4444444444444444,
              "#bd3786"
             ],
             [
              0.5555555555555556,
              "#d8576b"
             ],
             [
              0.6666666666666666,
              "#ed7953"
             ],
             [
              0.7777777777777778,
              "#fb9f3a"
             ],
             [
              0.8888888888888888,
              "#fdca26"
             ],
             [
              1,
              "#f0f921"
             ]
            ],
            "type": "surface"
           }
          ],
          "table": [
           {
            "cells": {
             "fill": {
              "color": "#EBF0F8"
             },
             "line": {
              "color": "white"
             }
            },
            "header": {
             "fill": {
              "color": "#C8D4E3"
             },
             "line": {
              "color": "white"
             }
            },
            "type": "table"
           }
          ]
         },
         "layout": {
          "annotationdefaults": {
           "arrowcolor": "#2a3f5f",
           "arrowhead": 0,
           "arrowwidth": 1
          },
          "autotypenumbers": "strict",
          "coloraxis": {
           "colorbar": {
            "outlinewidth": 0,
            "ticks": ""
           }
          },
          "colorscale": {
           "diverging": [
            [
             0,
             "#8e0152"
            ],
            [
             0.1,
             "#c51b7d"
            ],
            [
             0.2,
             "#de77ae"
            ],
            [
             0.3,
             "#f1b6da"
            ],
            [
             0.4,
             "#fde0ef"
            ],
            [
             0.5,
             "#f7f7f7"
            ],
            [
             0.6,
             "#e6f5d0"
            ],
            [
             0.7,
             "#b8e186"
            ],
            [
             0.8,
             "#7fbc41"
            ],
            [
             0.9,
             "#4d9221"
            ],
            [
             1,
             "#276419"
            ]
           ],
           "sequential": [
            [
             0,
             "#0d0887"
            ],
            [
             0.1111111111111111,
             "#46039f"
            ],
            [
             0.2222222222222222,
             "#7201a8"
            ],
            [
             0.3333333333333333,
             "#9c179e"
            ],
            [
             0.4444444444444444,
             "#bd3786"
            ],
            [
             0.5555555555555556,
             "#d8576b"
            ],
            [
             0.6666666666666666,
             "#ed7953"
            ],
            [
             0.7777777777777778,
             "#fb9f3a"
            ],
            [
             0.8888888888888888,
             "#fdca26"
            ],
            [
             1,
             "#f0f921"
            ]
           ],
           "sequentialminus": [
            [
             0,
             "#0d0887"
            ],
            [
             0.1111111111111111,
             "#46039f"
            ],
            [
             0.2222222222222222,
             "#7201a8"
            ],
            [
             0.3333333333333333,
             "#9c179e"
            ],
            [
             0.4444444444444444,
             "#bd3786"
            ],
            [
             0.5555555555555556,
             "#d8576b"
            ],
            [
             0.6666666666666666,
             "#ed7953"
            ],
            [
             0.7777777777777778,
             "#fb9f3a"
            ],
            [
             0.8888888888888888,
             "#fdca26"
            ],
            [
             1,
             "#f0f921"
            ]
           ]
          },
          "colorway": [
           "#636efa",
           "#EF553B",
           "#00cc96",
           "#ab63fa",
           "#FFA15A",
           "#19d3f3",
           "#FF6692",
           "#B6E880",
           "#FF97FF",
           "#FECB52"
          ],
          "font": {
           "color": "#2a3f5f"
          },
          "geo": {
           "bgcolor": "white",
           "lakecolor": "white",
           "landcolor": "#E5ECF6",
           "showlakes": true,
           "showland": true,
           "subunitcolor": "white"
          },
          "hoverlabel": {
           "align": "left"
          },
          "hovermode": "closest",
          "mapbox": {
           "style": "light"
          },
          "paper_bgcolor": "white",
          "plot_bgcolor": "#E5ECF6",
          "polar": {
           "angularaxis": {
            "gridcolor": "white",
            "linecolor": "white",
            "ticks": ""
           },
           "bgcolor": "#E5ECF6",
           "radialaxis": {
            "gridcolor": "white",
            "linecolor": "white",
            "ticks": ""
           }
          },
          "scene": {
           "xaxis": {
            "backgroundcolor": "#E5ECF6",
            "gridcolor": "white",
            "gridwidth": 2,
            "linecolor": "white",
            "showbackground": true,
            "ticks": "",
            "zerolinecolor": "white"
           },
           "yaxis": {
            "backgroundcolor": "#E5ECF6",
            "gridcolor": "white",
            "gridwidth": 2,
            "linecolor": "white",
            "showbackground": true,
            "ticks": "",
            "zerolinecolor": "white"
           },
           "zaxis": {
            "backgroundcolor": "#E5ECF6",
            "gridcolor": "white",
            "gridwidth": 2,
            "linecolor": "white",
            "showbackground": true,
            "ticks": "",
            "zerolinecolor": "white"
           }
          },
          "shapedefaults": {
           "line": {
            "color": "#2a3f5f"
           }
          },
          "ternary": {
           "aaxis": {
            "gridcolor": "white",
            "linecolor": "white",
            "ticks": ""
           },
           "baxis": {
            "gridcolor": "white",
            "linecolor": "white",
            "ticks": ""
           },
           "bgcolor": "#E5ECF6",
           "caxis": {
            "gridcolor": "white",
            "linecolor": "white",
            "ticks": ""
           }
          },
          "title": {
           "x": 0.05
          },
          "xaxis": {
           "automargin": true,
           "gridcolor": "white",
           "linecolor": "white",
           "ticks": "",
           "title": {
            "standoff": 15
           },
           "zerolinecolor": "white",
           "zerolinewidth": 2
          },
          "yaxis": {
           "automargin": true,
           "gridcolor": "white",
           "linecolor": "white",
           "ticks": "",
           "title": {
            "standoff": 15
           },
           "zerolinecolor": "white",
           "zerolinewidth": 2
          }
         }
        },
        "width": 405,
        "xaxis": {
         "anchor": "y",
         "autorange": true,
         "constrain": "domain",
         "domain": [
          2.557245689621679e-05,
          0.9999744275431037
         ],
         "range": [
          -0.5483896514937333,
          2.5483896514937334
         ],
         "scaleanchor": "y",
         "type": "category"
        },
        "yaxis": {
         "anchor": "x",
         "autorange": true,
         "constrain": "domain",
         "domain": [
          0.14718408885761186,
          0.8528159111423881
         ],
         "range": [
          24.548389651493732,
          -0.5483896514937333
         ],
         "type": "category"
        }
       }
      },
      "image/png": "[encoded data removed]",
      "text/html": [
       "<div>                            <div id=\"f65a502f-bbcc-4ba0-9e61-960afbcd75ba\" class=\"plotly-graph-div\" style=\"height:875px; width:405px;\"></div>            <script type=\"text/javascript\">                require([\"plotly\"], function(Plotly) {                    window.PLOTLYENV=window.PLOTLYENV || {};                                    if (document.getElementById(\"f65a502f-bbcc-4ba0-9e61-960afbcd75ba\")) {                    Plotly.newPlot(                        \"f65a502f-bbcc-4ba0-9e61-960afbcd75ba\",                        [{\"coloraxis\":\"coloraxis\",\"name\":\"0\",\"x\":[\"SME_rank_corr\",\"Shapley_rank_corr\",\"HN_rank_corr\"],\"y\":[\"BrCCBr\",\"Brc1cc(Br)c(Br)cc1Br\",\"Brc1cccc(Br)c1\",\"Brc1cccc2ccccc12\",\"C#CCCCCCCC\",\"C\\u002fC=C\\u002fC=O\",\"C=C(C)C1CC=C(C)C(=O)C1\",\"C=C(C)C1Cc2c(ccc3c2OC2COc4cc(OC)c(OC)cc4C2C3=O)O1\",\"CC(=O)C1CCC2C3CCC4=CC(=O)CCC4(C)C3CCC12C\",\"CC(=O)Nc1ccc(O)cc1\",\"CC(=O)OC1(C(C)=O)CCC2C3C=C(C)C4=CC(=O)CCC4(C)C3CCC21C\",\"CC(=O)OCC(=O)C1CCC2C3CCC4=CC(=O)CCC4(C)C3CCC12C\",\"CC(=O)OCC(COC(C)=O)OC(C)=O\",\"CC(C)(C)CO\",\"CC(C)(C)Cc1ccccc1\",\"CC(C)O\",\"CC(C)OC=O\",\"CC(C)c1ccccc1\",\"CC(Cl)Cl\",\"CC(O)c1ccccc1\",\"CC1=C(C(=O)Nc2ccccc2)SCCO1\",\"CC1CC2C3CC(F)C4=CC(=O)C=CC4(C)C3(F)C(O)CC2(C)C1(O)C(=O)CO\",\"CC1CCC(C(C)C)C(O)C1\",\"CCBr\",\"CCC(C)n1c(=O)[nH]c(C)c(Br)c1=O\"],\"z\":[[1.0,1.0,0.8660254037844387],[1.0,1.0,1.0],[1.0,1.0,1.0],[1.0,1.0,1.0],[1.0,1.0,1.0],[1.0,1.0,1.0],[1.0,1.0,1.0],[1.0,1.0,1.0],[0.5,0.5,0.5],[0.5,0.5,-0.5],[1.0,1.0,1.0],[1.0,1.0,0.8],[0.6666666666666666,0.7777777777777778,0.7777777777777778],[1.0,1.0,1.0],[0.5,0.5,0.5],[1.0,1.0,1.0],[1.0,1.0,1.0],[1.0,1.0,1.0],[1.0,1.0,1.0],[1.0,1.0,1.0],[1.0,1.0,-0.5],[1.0,1.0,1.0],[-1.0,-1.0,-1.0],[1.0,1.0,1.0],[-1.0,-1.0,-1.0]],\"type\":\"heatmap\",\"xaxis\":\"x\",\"yaxis\":\"y\",\"hovertemplate\":\"x: %{x}\\u003cbr\\u003ey: %{y}\\u003cbr\\u003ecolor: %{z}\\u003cextra\\u003e\\u003c\\u002fextra\\u003e\"}],                        {\"template\":{\"data\":{\"histogram2dcontour\":[{\"type\":\"histogram2dcontour\",\"colorbar\":{\"outlinewidth\":0,\"ticks\":\"\"},\"colorscale\":[[0.0,\"#0d0887\"],[0.1111111111111111,\"#46039f\"],[0.2222222222222222,\"#7201a8\"],[0.3333333333333333,\"#9c179e\"],[0.4444444444444444,\"#bd3786\"],[0.5555555555555556,\"#d8576b\"],[0.6666666666666666,\"#ed7953\"],[0.7777777777777778,\"#fb9f3a\"],[0.8888888888888888,\"#fdca26\"],[1.0,\"#f0f921\"]]}],\"choropleth\":[{\"type\":\"choropleth\",\"colorbar\":{\"outlinewidth\":0,\"ticks\":\"\"}}],\"histogram2d\":[{\"type\":\"histogram2d\",\"colorbar\":{\"outlinewidth\":0,\"ticks\":\"\"},\"colorscale\":[[0.0,\"#0d0887\"],[0.1111111111111111,\"#46039f\"],[0.2222222222222222,\"#7201a8\"],[0.3333333333333333,\"#9c179e\"],[0.4444444444444444,\"#bd3786\"],[0.5555555555555556,\"#d8576b\"],[0.6666666666666666,\"#ed7953\"],[0.7777777777777778,\"#fb9f3a\"],[0.8888888888888888,\"#fdca26\"],[1.0,\"#f0f921\"]]}],\"heatmap\":[{\"type\":\"heatmap\",\"colorbar\":{\"outlinewidth\":0,\"ticks\":\"\"},\"colorscale\":[[0.0,\"#0d0887\"],[0.1111111111111111,\"#46039f\"],[0.2222222222222222,\"#7201a8\"],[0.3333333333333333,\"#9c179e\"],[0.4444444444444444,\"#bd3786\"],[0.5555555555555556,\"#d8576b\"],[0.6666666666666666,\"#ed7953\"],[0.7777777777777778,\"#fb9f3a\"],[0.8888888888888888,\"#fdca26\"],[1.0,\"#f0f921\"]]}],\"heatmapgl\":[{\"type\":\"heatmapgl\",\"colorbar\":{\"outlinewidth\":0,\"ticks\":\"\"},\"colorscale\":[[0.0,\"#0d0887\"],[0.1111111111111111,\"#46039f\"],[0.2222222222222222,\"#7201a8\"],[0.3333333333333333,\"#9c179e\"],[0.4444444444444444,\"#bd3786\"],[0.5555555555555556,\"#d8576b\"],[0.6666666666666666,\"#ed7953\"],[0.7777777777777778,\"#fb9f3a\"],[0.8888888888888888,\"#fdca26\"],[1.0,\"#f0f921\"]]}],\"contourcarpet\":[{\"type\":\"contourcarpet\",\"colorbar\":{\"outlinewidth\":0,\"ticks\":\"\"}}],\"contour\":[{\"type\":\"contour\",\"colorbar\":{\"outlinewidth\":0,\"ticks\":\"\"},\"colorscale\":[[0.0,\"#0d0887\"],[0.1111111111111111,\"#46039f\"],[0.2222222222222222,\"#7201a8\"],[0.3333333333333333,\"#9c179e\"],[0.4444444444444444,\"#bd3786\"],[0.5555555555555556,\"#d8576b\"],[0.6666666666666666,\"#ed7953\"],[0.7777777777777778,\"#fb9f3a\"],[0.8888888888888888,\"#fdca26\"],[1.0,\"#f0f921\"]]}],\"surface\":[{\"type\":\"surface\",\"colorbar\":{\"outlinewidth\":0,\"ticks\":\"\"},\"colorscale\":[[0.0,\"#0d0887\"],[0.1111111111111111,\"#46039f\"],[0.2222222222222222,\"#7201a8\"],[0.3333333333333333,\"#9c179e\"],[0.4444444444444444,\"#bd3786\"],[0.5555555555555556,\"#d8576b\"],[0.6666666666666666,\"#ed7953\"],[0.7777777777777778,\"#fb9f3a\"],[0.8888888888888888,\"#fdca26\"],[1.0,\"#f0f921\"]]}],\"mesh3d\":[{\"type\":\"mesh3d\",\"colorbar\":{\"outlinewidth\":0,\"ticks\":\"\"}}],\"scatter\":[{\"fillpattern\":{\"fillmode\":\"overlay\",\"size\":10,\"solidity\":0.2},\"type\":\"scatter\"}],\"parcoords\":[{\"type\":\"parcoords\",\"line\":{\"colorbar\":{\"outlinewidth\":0,\"ticks\":\"\"}}}],\"scatterpolargl\":[{\"type\":\"scatterpolargl\",\"marker\":{\"colorbar\":{\"outlinewidth\":0,\"ticks\":\"\"}}}],\"bar\":[{\"error_x\":{\"color\":\"#2a3f5f\"},\"error_y\":{\"color\":\"#2a3f5f\"},\"marker\":{\"line\":{\"color\":\"#E5ECF6\",\"width\":0.5},\"pattern\":{\"fillmode\":\"overlay\",\"size\":10,\"solidity\":0.2}},\"type\":\"bar\"}],\"scattergeo\":[{\"type\":\"scattergeo\",\"marker\":{\"colorbar\":{\"outlinewidth\":0,\"ticks\":\"\"}}}],\"scatterpolar\":[{\"type\":\"scatterpolar\",\"marker\":{\"colorbar\":{\"outlinewidth\":0,\"ticks\":\"\"}}}],\"histogram\":[{\"marker\":{\"pattern\":{\"fillmode\":\"overlay\",\"size\":10,\"solidity\":0.2}},\"type\":\"histogram\"}],\"scattergl\":[{\"type\":\"scattergl\",\"marker\":{\"colorbar\":{\"outlinewidth\":0,\"ticks\":\"\"}}}],\"scatter3d\":[{\"type\":\"scatter3d\",\"line\":{\"colorbar\":{\"outlinewidth\":0,\"ticks\":\"\"}},\"marker\":{\"colorbar\":{\"outlinewidth\":0,\"ticks\":\"\"}}}],\"scattermapbox\":[{\"type\":\"scattermapbox\",\"marker\":{\"colorbar\":{\"outlinewidth\":0,\"ticks\":\"\"}}}],\"scatterternary\":[{\"type\":\"scatterternary\",\"marker\":{\"colorbar\":{\"outlinewidth\":0,\"ticks\":\"\"}}}],\"scattercarpet\":[{\"type\":\"scattercarpet\",\"marker\":{\"colorbar\":{\"outlinewidth\":0,\"ticks\":\"\"}}}],\"carpet\":[{\"aaxis\":{\"endlinecolor\":\"#2a3f5f\",\"gridcolor\":\"white\",\"linecolor\":\"white\",\"minorgridcolor\":\"white\",\"startlinecolor\":\"#2a3f5f\"},\"baxis\":{\"endlinecolor\":\"#2a3f5f\",\"gridcolor\":\"white\",\"linecolor\":\"white\",\"minorgridcolor\":\"white\",\"startlinecolor\":\"#2a3f5f\"},\"type\":\"carpet\"}],\"table\":[{\"cells\":{\"fill\":{\"color\":\"#EBF0F8\"},\"line\":{\"color\":\"white\"}},\"header\":{\"fill\":{\"color\":\"#C8D4E3\"},\"line\":{\"color\":\"white\"}},\"type\":\"table\"}],\"barpolar\":[{\"marker\":{\"line\":{\"color\":\"#E5ECF6\",\"width\":0.5},\"pattern\":{\"fillmode\":\"overlay\",\"size\":10,\"solidity\":0.2}},\"type\":\"barpolar\"}],\"pie\":[{\"automargin\":true,\"type\":\"pie\"}]},\"layout\":{\"autotypenumbers\":\"strict\",\"colorway\":[\"#636efa\",\"#EF553B\",\"#00cc96\",\"#ab63fa\",\"#FFA15A\",\"#19d3f3\",\"#FF6692\",\"#B6E880\",\"#FF97FF\",\"#FECB52\"],\"font\":{\"color\":\"#2a3f5f\"},\"hovermode\":\"closest\",\"hoverlabel\":{\"align\":\"left\"},\"paper_bgcolor\":\"white\",\"plot_bgcolor\":\"#E5ECF6\",\"polar\":{\"bgcolor\":\"#E5ECF6\",\"angularaxis\":{\"gridcolor\":\"white\",\"linecolor\":\"white\",\"ticks\":\"\"},\"radialaxis\":{\"gridcolor\":\"white\",\"linecolor\":\"white\",\"ticks\":\"\"}},\"ternary\":{\"bgcolor\":\"#E5ECF6\",\"aaxis\":{\"gridcolor\":\"white\",\"linecolor\":\"white\",\"ticks\":\"\"},\"baxis\":{\"gridcolor\":\"white\",\"linecolor\":\"white\",\"ticks\":\"\"},\"caxis\":{\"gridcolor\":\"white\",\"linecolor\":\"white\",\"ticks\":\"\"}},\"coloraxis\":{\"colorbar\":{\"outlinewidth\":0,\"ticks\":\"\"}},\"colorscale\":{\"sequential\":[[0.0,\"#0d0887\"],[0.1111111111111111,\"#46039f\"],[0.2222222222222222,\"#7201a8\"],[0.3333333333333333,\"#9c179e\"],[0.4444444444444444,\"#bd3786\"],[0.5555555555555556,\"#d8576b\"],[0.6666666666666666,\"#ed7953\"],[0.7777777777777778,\"#fb9f3a\"],[0.8888888888888888,\"#fdca26\"],[1.0,\"#f0f921\"]],\"sequentialminus\":[[0.0,\"#0d0887\"],[0.1111111111111111,\"#46039f\"],[0.2222222222222222,\"#7201a8\"],[0.3333333333333333,\"#9c179e\"],[0.4444444444444444,\"#bd3786\"],[0.5555555555555556,\"#d8576b\"],[0.6666666666666666,\"#ed7953\"],[0.7777777777777778,\"#fb9f3a\"],[0.8888888888888888,\"#fdca26\"],[1.0,\"#f0f921\"]],\"diverging\":[[0,\"#8e0152\"],[0.1,\"#c51b7d\"],[0.2,\"#de77ae\"],[0.3,\"#f1b6da\"],[0.4,\"#fde0ef\"],[0.5,\"#f7f7f7\"],[0.6,\"#e6f5d0\"],[0.7,\"#b8e186\"],[0.8,\"#7fbc41\"],[0.9,\"#4d9221\"],[1,\"#276419\"]]},\"xaxis\":{\"gridcolor\":\"white\",\"linecolor\":\"white\",\"ticks\":\"\",\"title\":{\"standoff\":15},\"zerolinecolor\":\"white\",\"automargin\":true,\"zerolinewidth\":2},\"yaxis\":{\"gridcolor\":\"white\",\"linecolor\":\"white\",\"ticks\":\"\",\"title\":{\"standoff\":15},\"zerolinecolor\":\"white\",\"automargin\":true,\"zerolinewidth\":2},\"scene\":{\"xaxis\":{\"backgroundcolor\":\"#E5ECF6\",\"gridcolor\":\"white\",\"linecolor\":\"white\",\"showbackground\":true,\"ticks\":\"\",\"zerolinecolor\":\"white\",\"gridwidth\":2},\"yaxis\":{\"backgroundcolor\":\"#E5ECF6\",\"gridcolor\":\"white\",\"linecolor\":\"white\",\"showbackground\":true,\"ticks\":\"\",\"zerolinecolor\":\"white\",\"gridwidth\":2},\"zaxis\":{\"backgroundcolor\":\"#E5ECF6\",\"gridcolor\":\"white\",\"linecolor\":\"white\",\"showbackground\":true,\"ticks\":\"\",\"zerolinecolor\":\"white\",\"gridwidth\":2}},\"shapedefaults\":{\"line\":{\"color\":\"#2a3f5f\"}},\"annotationdefaults\":{\"arrowcolor\":\"#2a3f5f\",\"arrowhead\":0,\"arrowwidth\":1},\"geo\":{\"bgcolor\":\"white\",\"landcolor\":\"#E5ECF6\",\"subunitcolor\":\"white\",\"showland\":true,\"showlakes\":true,\"lakecolor\":\"white\"},\"title\":{\"x\":0.05},\"mapbox\":{\"style\":\"light\"}}},\"xaxis\":{\"anchor\":\"y\",\"domain\":[0.0,1.0],\"scaleanchor\":\"y\",\"constrain\":\"domain\"},\"yaxis\":{\"anchor\":\"x\",\"domain\":[0.0,1.0],\"autorange\":\"reversed\",\"constrain\":\"domain\"},\"coloraxis\":{\"colorscale\":[[0.0,\"rgb(165,0,38)\"],[0.1,\"rgb(215,48,39)\"],[0.2,\"rgb(244,109,67)\"],[0.3,\"rgb(253,174,97)\"],[0.4,\"rgb(254,224,144)\"],[0.5,\"rgb(255,255,191)\"],[0.6,\"rgb(224,243,248)\"],[0.7,\"rgb(171,217,233)\"],[0.8,\"rgb(116,173,209)\"],[0.9,\"rgb(69,117,180)\"],[1.0,\"rgb(49,54,149)\"]]},\"margin\":{\"t\":60},\"height\":875,\"width\":405,\"shapes\":[{\"line\":{\"color\":\"white\",\"width\":2},\"type\":\"line\",\"x0\":0.5,\"x1\":0.5,\"y0\":-0.5,\"y1\":24.5},{\"line\":{\"color\":\"white\",\"width\":2},\"type\":\"line\",\"x0\":1.5,\"x1\":1.5,\"y0\":-0.5,\"y1\":24.5},{\"line\":{\"color\":\"white\",\"width\":2},\"type\":\"line\",\"x0\":2.5,\"x1\":2.5,\"y0\":-0.5,\"y1\":24.5},{\"line\":{\"color\":\"white\",\"width\":2},\"type\":\"line\",\"x0\":-0.5,\"x1\":2.5,\"y0\":0.5,\"y1\":0.5},{\"line\":{\"color\":\"white\",\"width\":2},\"type\":\"line\",\"x0\":-0.5,\"x1\":2.5,\"y0\":1.5,\"y1\":1.5},{\"line\":{\"color\":\"white\",\"width\":2},\"type\":\"line\",\"x0\":-0.5,\"x1\":2.5,\"y0\":2.5,\"y1\":2.5},{\"line\":{\"color\":\"white\",\"width\":2},\"type\":\"line\",\"x0\":-0.5,\"x1\":2.5,\"y0\":3.5,\"y1\":3.5},{\"line\":{\"color\":\"white\",\"width\":2},\"type\":\"line\",\"x0\":-0.5,\"x1\":2.5,\"y0\":4.5,\"y1\":4.5},{\"line\":{\"color\":\"white\",\"width\":2},\"type\":\"line\",\"x0\":-0.5,\"x1\":2.5,\"y0\":5.5,\"y1\":5.5},{\"line\":{\"color\":\"white\",\"width\":2},\"type\":\"line\",\"x0\":-0.5,\"x1\":2.5,\"y0\":6.5,\"y1\":6.5},{\"line\":{\"color\":\"white\",\"width\":2},\"type\":\"line\",\"x0\":-0.5,\"x1\":2.5,\"y0\":7.5,\"y1\":7.5},{\"line\":{\"color\":\"white\",\"width\":2},\"type\":\"line\",\"x0\":-0.5,\"x1\":2.5,\"y0\":8.5,\"y1\":8.5},{\"line\":{\"color\":\"white\",\"width\":2},\"type\":\"line\",\"x0\":-0.5,\"x1\":2.5,\"y0\":9.5,\"y1\":9.5},{\"line\":{\"color\":\"white\",\"width\":2},\"type\":\"line\",\"x0\":-0.5,\"x1\":2.5,\"y0\":10.5,\"y1\":10.5},{\"line\":{\"color\":\"white\",\"width\":2},\"type\":\"line\",\"x0\":-0.5,\"x1\":2.5,\"y0\":11.5,\"y1\":11.5},{\"line\":{\"color\":\"white\",\"width\":2},\"type\":\"line\",\"x0\":-0.5,\"x1\":2.5,\"y0\":12.5,\"y1\":12.5},{\"line\":{\"color\":\"white\",\"width\":2},\"type\":\"line\",\"x0\":-0.5,\"x1\":2.5,\"y0\":13.5,\"y1\":13.5},{\"line\":{\"color\":\"white\",\"width\":2},\"type\":\"line\",\"x0\":-0.5,\"x1\":2.5,\"y0\":14.5,\"y1\":14.5},{\"line\":{\"color\":\"white\",\"width\":2},\"type\":\"line\",\"x0\":-0.5,\"x1\":2.5,\"y0\":15.5,\"y1\":15.5},{\"line\":{\"color\":\"white\",\"width\":2},\"type\":\"line\",\"x0\":-0.5,\"x1\":2.5,\"y0\":16.5,\"y1\":16.5},{\"line\":{\"color\":\"white\",\"width\":2},\"type\":\"line\",\"x0\":-0.5,\"x1\":2.5,\"y0\":17.5,\"y1\":17.5},{\"line\":{\"color\":\"white\",\"width\":2},\"type\":\"line\",\"x0\":-0.5,\"x1\":2.5,\"y0\":18.5,\"y1\":18.5},{\"line\":{\"color\":\"white\",\"width\":2},\"type\":\"line\",\"x0\":-0.5,\"x1\":2.5,\"y0\":19.5,\"y1\":19.5},{\"line\":{\"color\":\"white\",\"width\":2},\"type\":\"line\",\"x0\":-0.5,\"x1\":2.5,\"y0\":20.5,\"y1\":20.5},{\"line\":{\"color\":\"white\",\"width\":2},\"type\":\"line\",\"x0\":-0.5,\"x1\":2.5,\"y0\":21.5,\"y1\":21.5},{\"line\":{\"color\":\"white\",\"width\":2},\"type\":\"line\",\"x0\":-0.5,\"x1\":2.5,\"y0\":22.5,\"y1\":22.5},{\"line\":{\"color\":\"white\",\"width\":2},\"type\":\"line\",\"x0\":-0.5,\"x1\":2.5,\"y0\":23.5,\"y1\":23.5},{\"line\":{\"color\":\"white\",\"width\":2},\"type\":\"line\",\"x0\":-0.5,\"x1\":2.5,\"y0\":24.5,\"y1\":24.5}]},                        {\"responsive\": true}                    ).then(function(){\n",
       "                            \n",
       "var gd = document.getElementById('f65a502f-bbcc-4ba0-9e61-960afbcd75ba');\n",
       "var x = new MutationObserver(function (mutations, observer) {{\n",
       "        var display = window.getComputedStyle(gd).display;\n",
       "        if (!display || display === 'none') {{\n",
       "            console.log([gd, 'removed!']);\n",
       "            Plotly.purge(gd);\n",
       "            observer.disconnect();\n",
       "        }}\n",
       "}});\n",
       "\n",
       "// Listen for the removal of the full notebook cells\n",
       "var notebookContainer = gd.closest('#notebook-container');\n",
       "if (notebookContainer) {{\n",
       "    x.observe(notebookContainer, {childList: true});\n",
       "}}\n",
       "\n",
       "// Listen for the clearing of the current output cell\n",
       "var outputEl = gd.closest('.output');\n",
       "if (outputEl) {{\n",
       "    x.observe(outputEl, {childList: true});\n",
       "}}\n",
       "\n",
       "                        })                };                });            </script>        </div>"
      ]
     },
     "metadata": {},
     "output_type": "display_data"
    }
   ],
   "source": [
    "hm = df[[\"SME_rank_corr\", \"Shapley_rank_corr\", \"HN_rank_corr\"]].iloc[:25]\n",
    "\n",
    "cell_size = 35\n",
    "row_title_width = 300\n",
    "width = cell_size*len(hm.columns) + row_title_width\n",
    "height = cell_size*len(hm.index)\n",
    "\n",
    "fig = px.imshow(hm, width=width, height=height, y=df.smiles.iloc[:25], color_continuous_scale='RdYlBu')\n",
    "\n",
    "for i in range(len(hm.columns)):\n",
    "    fig.add_shape(type=\"line\", x0=0.5 + i, y0=-0.5, x1=0.5 + i, y1=len(hm.index) - 0.5, line=dict(color=\"white\", width=2))\n",
    "\n",
    "for i in range(len(hm.index)):\n",
    "    fig.add_shape(type=\"line\", x0=-0.5, y0=0.5 + i, x1=len(hm.columns) - 0.5, y1=0.5 + i, line=dict(color=\"white\", width=2))\n",
    "\n",
    "fig.show()"
   ]
  },
  {
   "cell_type": "code",
   "execution_count": 82,
   "id": "8bc2fc63-d962-40a8-a958-4a654562285c",
   "metadata": {},
   "outputs": [
    {
     "data": {
      "text/html": [
       "<div>\n",
       "<style scoped>\n",
       "    .dataframe tbody tr th:only-of-type {\n",
       "        vertical-align: middle;\n",
       "    }\n",
       "\n",
       "    .dataframe tbody tr th {\n",
       "        vertical-align: top;\n",
       "    }\n",
       "\n",
       "    .dataframe thead th {\n",
       "        text-align: right;\n",
       "    }\n",
       "</style>\n",
       "<table border=\"1\" class=\"dataframe\">\n",
       "  <thead>\n",
       "    <tr style=\"text-align: right;\">\n",
       "      <th></th>\n",
       "      <th>smiles</th>\n",
       "      <th>SME_rank_corr</th>\n",
       "      <th>Shapley_rank_corr</th>\n",
       "      <th>HN_rank_corr</th>\n",
       "    </tr>\n",
       "  </thead>\n",
       "  <tbody>\n",
       "    <tr>\n",
       "      <th>0</th>\n",
       "      <td>BrCCBr</td>\n",
       "      <td>1.000000</td>\n",
       "      <td>1.000000</td>\n",
       "      <td>0.866025</td>\n",
       "    </tr>\n",
       "    <tr>\n",
       "      <th>1</th>\n",
       "      <td>Brc1cc(Br)c(Br)cc1Br</td>\n",
       "      <td>1.000000</td>\n",
       "      <td>1.000000</td>\n",
       "      <td>1.000000</td>\n",
       "    </tr>\n",
       "    <tr>\n",
       "      <th>2</th>\n",
       "      <td>Brc1cccc(Br)c1</td>\n",
       "      <td>1.000000</td>\n",
       "      <td>1.000000</td>\n",
       "      <td>1.000000</td>\n",
       "    </tr>\n",
       "    <tr>\n",
       "      <th>3</th>\n",
       "      <td>Brc1cccc2ccccc12</td>\n",
       "      <td>1.000000</td>\n",
       "      <td>1.000000</td>\n",
       "      <td>1.000000</td>\n",
       "    </tr>\n",
       "    <tr>\n",
       "      <th>4</th>\n",
       "      <td>C#CCCCCCCC</td>\n",
       "      <td>1.000000</td>\n",
       "      <td>1.000000</td>\n",
       "      <td>1.000000</td>\n",
       "    </tr>\n",
       "    <tr>\n",
       "      <th>5</th>\n",
       "      <td>C/C=C/C=O</td>\n",
       "      <td>1.000000</td>\n",
       "      <td>1.000000</td>\n",
       "      <td>1.000000</td>\n",
       "    </tr>\n",
       "    <tr>\n",
       "      <th>6</th>\n",
       "      <td>C=C(C)C1CC=C(C)C(=O)C1</td>\n",
       "      <td>1.000000</td>\n",
       "      <td>1.000000</td>\n",
       "      <td>1.000000</td>\n",
       "    </tr>\n",
       "    <tr>\n",
       "      <th>7</th>\n",
       "      <td>C=C(C)C1Cc2c(ccc3c2OC2COc4cc(OC)c(OC)cc4C2C3=O)O1</td>\n",
       "      <td>1.000000</td>\n",
       "      <td>1.000000</td>\n",
       "      <td>1.000000</td>\n",
       "    </tr>\n",
       "    <tr>\n",
       "      <th>8</th>\n",
       "      <td>CC(=O)C1CCC2C3CCC4=CC(=O)CCC4(C)C3CCC12C</td>\n",
       "      <td>0.500000</td>\n",
       "      <td>0.500000</td>\n",
       "      <td>0.500000</td>\n",
       "    </tr>\n",
       "    <tr>\n",
       "      <th>9</th>\n",
       "      <td>CC(=O)Nc1ccc(O)cc1</td>\n",
       "      <td>0.500000</td>\n",
       "      <td>0.500000</td>\n",
       "      <td>-0.500000</td>\n",
       "    </tr>\n",
       "    <tr>\n",
       "      <th>10</th>\n",
       "      <td>CC(=O)OC1(C(C)=O)CCC2C3C=C(C)C4=CC(=O)CCC4(C)C...</td>\n",
       "      <td>1.000000</td>\n",
       "      <td>1.000000</td>\n",
       "      <td>1.000000</td>\n",
       "    </tr>\n",
       "    <tr>\n",
       "      <th>11</th>\n",
       "      <td>CC(=O)OCC(=O)C1CCC2C3CCC4=CC(=O)CCC4(C)C3CCC12C</td>\n",
       "      <td>1.000000</td>\n",
       "      <td>1.000000</td>\n",
       "      <td>0.800000</td>\n",
       "    </tr>\n",
       "    <tr>\n",
       "      <th>12</th>\n",
       "      <td>CC(=O)OCC(COC(C)=O)OC(C)=O</td>\n",
       "      <td>0.666667</td>\n",
       "      <td>0.777778</td>\n",
       "      <td>0.777778</td>\n",
       "    </tr>\n",
       "    <tr>\n",
       "      <th>13</th>\n",
       "      <td>CC(C)(C)CO</td>\n",
       "      <td>1.000000</td>\n",
       "      <td>1.000000</td>\n",
       "      <td>1.000000</td>\n",
       "    </tr>\n",
       "    <tr>\n",
       "      <th>14</th>\n",
       "      <td>CC(C)(C)Cc1ccccc1</td>\n",
       "      <td>0.500000</td>\n",
       "      <td>0.500000</td>\n",
       "      <td>0.500000</td>\n",
       "    </tr>\n",
       "    <tr>\n",
       "      <th>15</th>\n",
       "      <td>CC(C)O</td>\n",
       "      <td>1.000000</td>\n",
       "      <td>1.000000</td>\n",
       "      <td>1.000000</td>\n",
       "    </tr>\n",
       "    <tr>\n",
       "      <th>16</th>\n",
       "      <td>CC(C)OC=O</td>\n",
       "      <td>1.000000</td>\n",
       "      <td>1.000000</td>\n",
       "      <td>1.000000</td>\n",
       "    </tr>\n",
       "    <tr>\n",
       "      <th>17</th>\n",
       "      <td>CC(C)c1ccccc1</td>\n",
       "      <td>1.000000</td>\n",
       "      <td>1.000000</td>\n",
       "      <td>1.000000</td>\n",
       "    </tr>\n",
       "    <tr>\n",
       "      <th>18</th>\n",
       "      <td>CC(Cl)Cl</td>\n",
       "      <td>1.000000</td>\n",
       "      <td>1.000000</td>\n",
       "      <td>1.000000</td>\n",
       "    </tr>\n",
       "    <tr>\n",
       "      <th>19</th>\n",
       "      <td>CC(O)c1ccccc1</td>\n",
       "      <td>1.000000</td>\n",
       "      <td>1.000000</td>\n",
       "      <td>1.000000</td>\n",
       "    </tr>\n",
       "    <tr>\n",
       "      <th>20</th>\n",
       "      <td>CC1=C(C(=O)Nc2ccccc2)SCCO1</td>\n",
       "      <td>1.000000</td>\n",
       "      <td>1.000000</td>\n",
       "      <td>-0.500000</td>\n",
       "    </tr>\n",
       "    <tr>\n",
       "      <th>21</th>\n",
       "      <td>CC1CC2C3CC(F)C4=CC(=O)C=CC4(C)C3(F)C(O)CC2(C)C...</td>\n",
       "      <td>1.000000</td>\n",
       "      <td>1.000000</td>\n",
       "      <td>1.000000</td>\n",
       "    </tr>\n",
       "    <tr>\n",
       "      <th>22</th>\n",
       "      <td>CC1CCC(C(C)C)C(O)C1</td>\n",
       "      <td>-1.000000</td>\n",
       "      <td>-1.000000</td>\n",
       "      <td>-1.000000</td>\n",
       "    </tr>\n",
       "    <tr>\n",
       "      <th>23</th>\n",
       "      <td>CCBr</td>\n",
       "      <td>1.000000</td>\n",
       "      <td>1.000000</td>\n",
       "      <td>1.000000</td>\n",
       "    </tr>\n",
       "    <tr>\n",
       "      <th>24</th>\n",
       "      <td>CCC(C)n1c(=O)[nH]c(C)c(Br)c1=O</td>\n",
       "      <td>-1.000000</td>\n",
       "      <td>-1.000000</td>\n",
       "      <td>-1.000000</td>\n",
       "    </tr>\n",
       "  </tbody>\n",
       "</table>\n",
       "</div>"
      ],
      "text/plain": [
       "                                               smiles  SME_rank_corr  \\\n",
       "0                                              BrCCBr       1.000000   \n",
       "1                                Brc1cc(Br)c(Br)cc1Br       1.000000   \n",
       "2                                      Brc1cccc(Br)c1       1.000000   \n",
       "3                                    Brc1cccc2ccccc12       1.000000   \n",
       "4                                          C#CCCCCCCC       1.000000   \n",
       "5                                           C/C=C/C=O       1.000000   \n",
       "6                              C=C(C)C1CC=C(C)C(=O)C1       1.000000   \n",
       "7   C=C(C)C1Cc2c(ccc3c2OC2COc4cc(OC)c(OC)cc4C2C3=O)O1       1.000000   \n",
       "8            CC(=O)C1CCC2C3CCC4=CC(=O)CCC4(C)C3CCC12C       0.500000   \n",
       "9                                  CC(=O)Nc1ccc(O)cc1       0.500000   \n",
       "10  CC(=O)OC1(C(C)=O)CCC2C3C=C(C)C4=CC(=O)CCC4(C)C...       1.000000   \n",
       "11    CC(=O)OCC(=O)C1CCC2C3CCC4=CC(=O)CCC4(C)C3CCC12C       1.000000   \n",
       "12                         CC(=O)OCC(COC(C)=O)OC(C)=O       0.666667   \n",
       "13                                         CC(C)(C)CO       1.000000   \n",
       "14                                  CC(C)(C)Cc1ccccc1       0.500000   \n",
       "15                                             CC(C)O       1.000000   \n",
       "16                                          CC(C)OC=O       1.000000   \n",
       "17                                      CC(C)c1ccccc1       1.000000   \n",
       "18                                           CC(Cl)Cl       1.000000   \n",
       "19                                      CC(O)c1ccccc1       1.000000   \n",
       "20                         CC1=C(C(=O)Nc2ccccc2)SCCO1       1.000000   \n",
       "21  CC1CC2C3CC(F)C4=CC(=O)C=CC4(C)C3(F)C(O)CC2(C)C...       1.000000   \n",
       "22                                CC1CCC(C(C)C)C(O)C1      -1.000000   \n",
       "23                                               CCBr       1.000000   \n",
       "24                     CCC(C)n1c(=O)[nH]c(C)c(Br)c1=O      -1.000000   \n",
       "\n",
       "    Shapley_rank_corr  HN_rank_corr  \n",
       "0            1.000000      0.866025  \n",
       "1            1.000000      1.000000  \n",
       "2            1.000000      1.000000  \n",
       "3            1.000000      1.000000  \n",
       "4            1.000000      1.000000  \n",
       "5            1.000000      1.000000  \n",
       "6            1.000000      1.000000  \n",
       "7            1.000000      1.000000  \n",
       "8            0.500000      0.500000  \n",
       "9            0.500000     -0.500000  \n",
       "10           1.000000      1.000000  \n",
       "11           1.000000      0.800000  \n",
       "12           0.777778      0.777778  \n",
       "13           1.000000      1.000000  \n",
       "14           0.500000      0.500000  \n",
       "15           1.000000      1.000000  \n",
       "16           1.000000      1.000000  \n",
       "17           1.000000      1.000000  \n",
       "18           1.000000      1.000000  \n",
       "19           1.000000      1.000000  \n",
       "20           1.000000     -0.500000  \n",
       "21           1.000000      1.000000  \n",
       "22          -1.000000     -1.000000  \n",
       "23           1.000000      1.000000  \n",
       "24          -1.000000     -1.000000  "
      ]
     },
     "execution_count": 82,
     "metadata": {},
     "output_type": "execute_result"
    }
   ],
   "source": [
    "df[[\"smiles\", \"SME_rank_corr\", \"Shapley_rank_corr\", \"HN_rank_corr\"]].iloc[:25]"
   ]
  },
  {
   "cell_type": "code",
   "execution_count": 105,
   "id": "857bb09e-d7b9-4964-bbf3-94d3f33ac96c",
   "metadata": {},
   "outputs": [],
   "source": [
    "cols = [\n",
    "    df[[\"SME_rank_corr\", \"Shapley_rank_corr\", \"HN_rank_corr\"]].iloc[i * 25: (i + 1) * 25].values\n",
    "    for i in range(4)\n",
    "]\n",
    "\n",
    "# for row in zip(*cols):\n",
    "\n",
    "#     row_str = f\"\"\n",
    "\n",
    "#     for molecule in row:\n",
    "#         row_str += str(molecule[0]) + \" \\t \"\n",
    "        \n",
    "#         for j in range(1, 4):\n",
    "#             row_str += str(round(molecule[j], 2)) + \" \"\n",
    "\n",
    "#         row_str += \" \\t \"\n",
    "    \n",
    "#     print(row_str)\n",
    "#     print(\"#####\")"
   ]
  },
  {
   "cell_type": "code",
   "execution_count": 118,
   "id": "35779262-04e6-4846-ad41-b01c340f49f6",
   "metadata": {
    "scrolled": true
   },
   "outputs": [
    {
     "data": {
      "text/plain": [
       "[array([[ 1.        ,  1.        ,  0.8660254 ],\n",
       "        [ 1.        ,  1.        ,  1.        ],\n",
       "        [ 1.        ,  1.        ,  1.        ],\n",
       "        [ 1.        ,  1.        ,  1.        ],\n",
       "        [ 1.        ,  1.        ,  1.        ],\n",
       "        [ 1.        ,  1.        ,  1.        ],\n",
       "        [ 1.        ,  1.        ,  1.        ],\n",
       "        [ 1.        ,  1.        ,  1.        ],\n",
       "        [ 0.5       ,  0.5       ,  0.5       ],\n",
       "        [ 0.5       ,  0.5       , -0.5       ],\n",
       "        [ 1.        ,  1.        ,  1.        ],\n",
       "        [ 1.        ,  1.        ,  0.8       ],\n",
       "        [ 0.66666667,  0.77777778,  0.77777778],\n",
       "        [ 1.        ,  1.        ,  1.        ],\n",
       "        [ 0.5       ,  0.5       ,  0.5       ],\n",
       "        [ 1.        ,  1.        ,  1.        ],\n",
       "        [ 1.        ,  1.        ,  1.        ],\n",
       "        [ 1.        ,  1.        ,  1.        ],\n",
       "        [ 1.        ,  1.        ,  1.        ],\n",
       "        [ 1.        ,  1.        ,  1.        ],\n",
       "        [ 1.        ,  1.        , -0.5       ],\n",
       "        [ 1.        ,  1.        ,  1.        ],\n",
       "        [-1.        , -1.        , -1.        ],\n",
       "        [ 1.        ,  1.        ,  1.        ],\n",
       "        [-1.        , -1.        , -1.        ]]),\n",
       " array([[ 1.        ,  1.        ,  1.        ],\n",
       "        [ 1.        ,  1.        ,  1.        ],\n",
       "        [ 1.        ,  1.        ,  1.        ],\n",
       "        [ 1.        ,  1.        ,  1.        ],\n",
       "        [ 0.68421053,  0.68421053, -0.15789474],\n",
       "        [-1.        , -1.        , -1.        ],\n",
       "        [ 1.        ,  1.        ,  1.        ],\n",
       "        [ 1.        ,  1.        ,  1.        ],\n",
       "        [ 1.        ,  1.        ,  1.        ],\n",
       "        [ 1.        ,  1.        ,  1.        ],\n",
       "        [ 0.88679245,  1.        ,  0.88679245],\n",
       "        [ 1.        ,  1.        ,  1.        ],\n",
       "        [ 1.        ,  1.        ,  1.        ],\n",
       "        [ 1.        ,  1.        ,  1.        ],\n",
       "        [ 1.        ,  1.        ,  1.        ],\n",
       "        [ 0.56428809, -0.15789474, -0.36842105],\n",
       "        [ 1.        ,  1.        ,  1.        ],\n",
       "        [ 1.        ,  1.        ,  1.        ],\n",
       "        [-1.        , -1.        , -1.        ],\n",
       "        [ 0.60714286,  0.92857143,  0.17857143],\n",
       "        [ 0.08571429,  0.08571429, -0.65714286],\n",
       "        [-0.02857143, -0.02857143, -0.77142857],\n",
       "        [ 0.69811321,  1.        ,  0.09433962],\n",
       "        [-0.57894737, -0.57894737, -0.57894737],\n",
       "        [-0.73786479, -0.77777778, -1.        ]]),\n",
       " array([[ 0.89473684,  0.89473684,  0.66688593],\n",
       "        [ 1.        ,  1.        ,  1.        ],\n",
       "        [ 0.7       ,  0.9       ,  0.2       ],\n",
       "        [ 0.91766294,  0.91766294,  0.91766294],\n",
       "        [-0.5       ,  0.5       , -1.        ],\n",
       "        [ 0.97100831,  0.97100831,  0.88273483],\n",
       "        [ 1.        ,  1.        ,  1.        ],\n",
       "        [ 1.        ,  1.        ,  1.        ],\n",
       "        [-0.08956222, -0.09090909, -0.81818182],\n",
       "        [-1.        , -1.        , -1.        ],\n",
       "        [ 1.        ,  0.5       , -0.5       ],\n",
       "        [ 0.81649658,  0.81649658,  0.81649658],\n",
       "        [-1.        , -1.        , -1.        ],\n",
       "        [ 0.8       ,  0.8       ,  0.4       ],\n",
       "        [ 1.        ,  1.        ,  1.        ],\n",
       "        [ 1.        ,  1.        ,  1.        ],\n",
       "        [ 0.70710678,  0.70710678,  0.70710678],\n",
       "        [ 0.79056942,  0.79056942,  0.79056942],\n",
       "        [ 0.8660254 ,  0.8660254 ,  0.8660254 ],\n",
       "        [ 1.        ,  0.76376262,  1.        ],\n",
       "        [ 0.64168895,  0.64168895,  0.64168895],\n",
       "        [ 1.        ,  1.        ,  1.        ],\n",
       "        [ 0.72547625,  0.74535599,  0.74535599],\n",
       "        [ 1.        ,  1.        ,  1.        ],\n",
       "        [ 1.        ,  1.        ,  1.        ]]),\n",
       " array([[ 1.        ,  1.        ,  1.        ],\n",
       "        [ 1.        ,  1.        ,  1.        ],\n",
       "        [ 1.        ,  1.        ,  1.        ],\n",
       "        [ 1.        ,  0.81649658,  1.        ],\n",
       "        [ 1.        ,  1.        ,  1.        ],\n",
       "        [-1.        , -1.        , -1.        ],\n",
       "        [ 1.        ,  1.        ,  1.        ],\n",
       "        [ 0.5       ,  1.        ,  1.        ],\n",
       "        [ 0.9       ,  0.9       ,  0.9       ],\n",
       "        [ 0.77588018,  0.77588018,  0.77588018],\n",
       "        [ 0.89442719,  0.89442719,  0.89442719],\n",
       "        [ 0.5       ,  0.5       ,  0.5       ],\n",
       "        [ 1.        ,  1.        ,  1.        ],\n",
       "        [ 0.33333333,  0.33333333,  0.33333333],\n",
       "        [ 1.        ,  1.        ,  1.        ],\n",
       "        [ 1.        ,  1.        ,  1.        ],\n",
       "        [ 1.        ,  0.5       ,  0.5       ],\n",
       "        [ 1.        ,  1.        ,  1.        ],\n",
       "        [-0.13093073, -0.13093073,  0.65465367],\n",
       "        [ 0.53685157,  0.53685157,  0.53685157],\n",
       "        [ 0.72547625,  0.72547625,  0.72547625],\n",
       "        [ 1.        ,  1.        ,  1.        ],\n",
       "        [ 1.        ,  1.        ,  1.        ],\n",
       "        [ 1.        ,  1.        ,  1.        ],\n",
       "        [ 1.        ,  1.        ,  1.        ]])]"
      ]
     },
     "execution_count": 118,
     "metadata": {},
     "output_type": "execute_result"
    }
   ],
   "source": [
    "cols"
   ]
  },
  {
   "cell_type": "code",
   "execution_count": 142,
   "id": "bd6cae58-25ad-4d17-90e8-6cb2ed7e336e",
   "metadata": {
    "scrolled": true
   },
   "outputs": [
    {
     "data": {
      "application/vnd.plotly.v1+json": {
       "config": {
        "plotlyServerURL": "https://plot.ly"
       },
       "data": [
        {
         "coloraxis": "coloraxis",
         "hovertemplate": "x: %{x}<br>y: %{y}<br>color: %{z}<extra></extra>",
         "name": "0",
         "type": "heatmap",
         "xaxis": "x",
         "yaxis": "y",
         "z": [
          [
           1,
           1,
           0.8660254037844387,
           0,
           0,
           1,
           1,
           1,
           0,
           0,
           0.8947368421052632,
           0.8947368421052632,
           0.6668859288553503,
           0,
           0,
           1,
           1,
           1
          ],
          [
           1,
           1,
           1,
           0,
           0,
           1,
           1,
           1,
           0,
           0,
           1,
           1,
           1,
           0,
           0,
           1,
           1,
           1
          ],
          [
           1,
           1,
           1,
           0,
           0,
           1,
           1,
           1,
           0,
           0,
           0.7,
           0.9,
           0.2,
           0,
           0,
           1,
           1,
           1
          ],
          [
           1,
           1,
           1,
           0,
           0,
           1,
           1,
           1,
           0,
           0,
           0.917662935482247,
           0.917662935482247,
           0.917662935482247,
           0,
           0,
           1,
           0.816496580927726,
           1
          ],
          [
           1,
           1,
           1,
           0,
           0,
           0.6842105263157895,
           0.6842105263157895,
           -0.1578947368421052,
           0,
           0,
           -0.5,
           0.5,
           -1,
           0,
           0,
           1,
           1,
           1
          ],
          [
           1,
           1,
           1,
           0,
           0,
           -1,
           -1,
           -1,
           0,
           0,
           0.9710083124552245,
           0.9710083124552245,
           0.8827348295047495,
           0,
           0,
           -1,
           -1,
           -1
          ],
          [
           1,
           1,
           1,
           0,
           0,
           1,
           1,
           1,
           0,
           0,
           1,
           1,
           1,
           0,
           0,
           1,
           1,
           1
          ],
          [
           1,
           1,
           1,
           0,
           0,
           1,
           1,
           1,
           0,
           0,
           1,
           1,
           1,
           0,
           0,
           0.5,
           1,
           1
          ],
          [
           0.5,
           0.5,
           0.5,
           0,
           0,
           1,
           1,
           1,
           0,
           0,
           -0.0895622151039798,
           -0.0909090909090909,
           -0.8181818181818182,
           0,
           0,
           0.9,
           0.9,
           0.9
          ],
          [
           0.5,
           0.5,
           -0.5,
           0,
           0,
           1,
           1,
           1,
           0,
           0,
           -1,
           -1,
           -1,
           0,
           0,
           0.7758801774444581,
           0.7758801774444581,
           0.7758801774444581
          ],
          [
           1,
           1,
           1,
           0,
           0,
           0.8867924528301887,
           1,
           0.8867924528301887,
           0,
           0,
           1,
           0.5,
           -0.5,
           0,
           0,
           0.8944271909999159,
           0.8944271909999159,
           0.8944271909999159
          ],
          [
           1,
           1,
           0.8,
           0,
           0,
           1,
           1,
           1,
           0,
           0,
           0.816496580927726,
           0.816496580927726,
           0.816496580927726,
           0,
           0,
           0.5,
           0.5,
           0.5
          ],
          [
           0.6666666666666666,
           0.7777777777777778,
           0.7777777777777778,
           0,
           0,
           1,
           1,
           1,
           0,
           0,
           -1,
           -1,
           -1,
           0,
           0,
           1,
           1,
           1
          ],
          [
           1,
           1,
           1,
           0,
           0,
           1,
           1,
           1,
           0,
           0,
           0.8,
           0.8,
           0.4,
           0,
           0,
           0.3333333333333333,
           0.3333333333333333,
           0.3333333333333333
          ],
          [
           0.5,
           0.5,
           0.5,
           0,
           0,
           1,
           1,
           1,
           0,
           0,
           1,
           1,
           1,
           0,
           0,
           1,
           1,
           1
          ],
          [
           1,
           1,
           1,
           0,
           0,
           0.5642880936468347,
           -0.1578947368421052,
           -0.3684210526315789,
           0,
           0,
           1,
           1,
           1,
           0,
           0,
           1,
           1,
           1
          ],
          [
           1,
           1,
           1,
           0,
           0,
           1,
           1,
           1,
           0,
           0,
           0.7071067811865475,
           0.7071067811865475,
           0.7071067811865475,
           0,
           0,
           1,
           0.5,
           0.5
          ],
          [
           1,
           1,
           1,
           0,
           0,
           1,
           1,
           1,
           0,
           0,
           0.7905694150420948,
           0.7905694150420948,
           0.7905694150420948,
           0,
           0,
           1,
           1,
           1
          ],
          [
           1,
           1,
           1,
           0,
           0,
           -1,
           -1,
           -1,
           0,
           0,
           0.8660254037844387,
           0.8660254037844387,
           0.8660254037844387,
           0,
           0,
           -0.1309307341415954,
           -0.1309307341415954,
           0.6546536707079772
          ],
          [
           1,
           1,
           1,
           0,
           0,
           0.6071428571428571,
           0.9285714285714286,
           0.1785714285714285,
           0,
           0,
           1,
           0.7637626158259733,
           1,
           0,
           0,
           0.5368515688594936,
           0.5368515688594936,
           0.5368515688594936
          ],
          [
           1,
           1,
           -0.5,
           0,
           0,
           0.0857142857142857,
           0.0857142857142857,
           -0.6571428571428571,
           0,
           0,
           0.641688947919748,
           0.641688947919748,
           0.641688947919748,
           0,
           0,
           0.7254762501100117,
           0.7254762501100117,
           0.7254762501100117
          ],
          [
           1,
           1,
           1,
           0,
           0,
           -0.0285714285714285,
           -0.0285714285714285,
           -0.7714285714285715,
           0,
           0,
           1,
           1,
           1,
           0,
           0,
           1,
           1,
           1
          ],
          [
           -1,
           -1,
           -1,
           0,
           0,
           0.6981132075471698,
           1,
           0.0943396226415094,
           0,
           0,
           0.7254762501100117,
           0.7453559924999299,
           0.7453559924999299,
           0,
           0,
           1,
           1,
           1
          ],
          [
           1,
           1,
           1,
           0,
           0,
           -0.5789473684210527,
           -0.5789473684210527,
           -0.5789473684210527,
           0,
           0,
           1,
           1,
           1,
           0,
           0,
           1,
           1,
           1
          ],
          [
           -1,
           -1,
           -1,
           0,
           0,
           -0.7378647873726218,
           -0.7777777777777778,
           -1,
           0,
           0,
           1,
           1,
           1,
           0,
           0,
           1,
           1,
           1
          ]
         ]
        }
       ],
       "layout": {
        "coloraxis": {
         "colorscale": [
          [
           0,
           "rgb(103,0,31)"
          ],
          [
           0.1,
           "rgb(178,24,43)"
          ],
          [
           0.2,
           "rgb(214,96,77)"
          ],
          [
           0.3,
           "rgb(244,165,130)"
          ],
          [
           0.4,
           "rgb(253,219,199)"
          ],
          [
           0.5,
           "rgb(247,247,247)"
          ],
          [
           0.6,
           "rgb(209,229,240)"
          ],
          [
           0.7,
           "rgb(146,197,222)"
          ],
          [
           0.8,
           "rgb(67,147,195)"
          ],
          [
           0.9,
           "rgb(33,102,172)"
          ],
          [
           1,
           "rgb(5,48,97)"
          ]
         ]
        },
        "height": 300,
        "margin": {
         "t": 60
        },
        "template": {
         "data": {
          "bar": [
           {
            "error_x": {
             "color": "#2a3f5f"
            },
            "error_y": {
             "color": "#2a3f5f"
            },
            "marker": {
             "line": {
              "color": "#E5ECF6",
              "width": 0.5
             },
             "pattern": {
              "fillmode": "overlay",
              "size": 10,
              "solidity": 0.2
             }
            },
            "type": "bar"
           }
          ],
          "barpolar": [
           {
            "marker": {
             "line": {
              "color": "#E5ECF6",
              "width": 0.5
             },
             "pattern": {
              "fillmode": "overlay",
              "size": 10,
              "solidity": 0.2
             }
            },
            "type": "barpolar"
           }
          ],
          "carpet": [
           {
            "aaxis": {
             "endlinecolor": "#2a3f5f",
             "gridcolor": "white",
             "linecolor": "white",
             "minorgridcolor": "white",
             "startlinecolor": "#2a3f5f"
            },
            "baxis": {
             "endlinecolor": "#2a3f5f",
             "gridcolor": "white",
             "linecolor": "white",
             "minorgridcolor": "white",
             "startlinecolor": "#2a3f5f"
            },
            "type": "carpet"
           }
          ],
          "choropleth": [
           {
            "colorbar": {
             "outlinewidth": 0,
             "ticks": ""
            },
            "type": "choropleth"
           }
          ],
          "contour": [
           {
            "colorbar": {
             "outlinewidth": 0,
             "ticks": ""
            },
            "colorscale": [
             [
              0,
              "#0d0887"
             ],
             [
              0.1111111111111111,
              "#46039f"
             ],
             [
              0.2222222222222222,
              "#7201a8"
             ],
             [
              0.3333333333333333,
              "#9c179e"
             ],
             [
              0.4444444444444444,
              "#bd3786"
             ],
             [
              0.5555555555555556,
              "#d8576b"
             ],
             [
              0.6666666666666666,
              "#ed7953"
             ],
             [
              0.7777777777777778,
              "#fb9f3a"
             ],
             [
              0.8888888888888888,
              "#fdca26"
             ],
             [
              1,
              "#f0f921"
             ]
            ],
            "type": "contour"
           }
          ],
          "contourcarpet": [
           {
            "colorbar": {
             "outlinewidth": 0,
             "ticks": ""
            },
            "type": "contourcarpet"
           }
          ],
          "heatmap": [
           {
            "colorbar": {
             "outlinewidth": 0,
             "ticks": ""
            },
            "colorscale": [
             [
              0,
              "#0d0887"
             ],
             [
              0.1111111111111111,
              "#46039f"
             ],
             [
              0.2222222222222222,
              "#7201a8"
             ],
             [
              0.3333333333333333,
              "#9c179e"
             ],
             [
              0.4444444444444444,
              "#bd3786"
             ],
             [
              0.5555555555555556,
              "#d8576b"
             ],
             [
              0.6666666666666666,
              "#ed7953"
             ],
             [
              0.7777777777777778,
              "#fb9f3a"
             ],
             [
              0.8888888888888888,
              "#fdca26"
             ],
             [
              1,
              "#f0f921"
             ]
            ],
            "type": "heatmap"
           }
          ],
          "heatmapgl": [
           {
            "colorbar": {
             "outlinewidth": 0,
             "ticks": ""
            },
            "colorscale": [
             [
              0,
              "#0d0887"
             ],
             [
              0.1111111111111111,
              "#46039f"
             ],
             [
              0.2222222222222222,
              "#7201a8"
             ],
             [
              0.3333333333333333,
              "#9c179e"
             ],
             [
              0.4444444444444444,
              "#bd3786"
             ],
             [
              0.5555555555555556,
              "#d8576b"
             ],
             [
              0.6666666666666666,
              "#ed7953"
             ],
             [
              0.7777777777777778,
              "#fb9f3a"
             ],
             [
              0.8888888888888888,
              "#fdca26"
             ],
             [
              1,
              "#f0f921"
             ]
            ],
            "type": "heatmapgl"
           }
          ],
          "histogram": [
           {
            "marker": {
             "pattern": {
              "fillmode": "overlay",
              "size": 10,
              "solidity": 0.2
             }
            },
            "type": "histogram"
           }
          ],
          "histogram2d": [
           {
            "colorbar": {
             "outlinewidth": 0,
             "ticks": ""
            },
            "colorscale": [
             [
              0,
              "#0d0887"
             ],
             [
              0.1111111111111111,
              "#46039f"
             ],
             [
              0.2222222222222222,
              "#7201a8"
             ],
             [
              0.3333333333333333,
              "#9c179e"
             ],
             [
              0.4444444444444444,
              "#bd3786"
             ],
             [
              0.5555555555555556,
              "#d8576b"
             ],
             [
              0.6666666666666666,
              "#ed7953"
             ],
             [
              0.7777777777777778,
              "#fb9f3a"
             ],
             [
              0.8888888888888888,
              "#fdca26"
             ],
             [
              1,
              "#f0f921"
             ]
            ],
            "type": "histogram2d"
           }
          ],
          "histogram2dcontour": [
           {
            "colorbar": {
             "outlinewidth": 0,
             "ticks": ""
            },
            "colorscale": [
             [
              0,
              "#0d0887"
             ],
             [
              0.1111111111111111,
              "#46039f"
             ],
             [
              0.2222222222222222,
              "#7201a8"
             ],
             [
              0.3333333333333333,
              "#9c179e"
             ],
             [
              0.4444444444444444,
              "#bd3786"
             ],
             [
              0.5555555555555556,
              "#d8576b"
             ],
             [
              0.6666666666666666,
              "#ed7953"
             ],
             [
              0.7777777777777778,
              "#fb9f3a"
             ],
             [
              0.8888888888888888,
              "#fdca26"
             ],
             [
              1,
              "#f0f921"
             ]
            ],
            "type": "histogram2dcontour"
           }
          ],
          "mesh3d": [
           {
            "colorbar": {
             "outlinewidth": 0,
             "ticks": ""
            },
            "type": "mesh3d"
           }
          ],
          "parcoords": [
           {
            "line": {
             "colorbar": {
              "outlinewidth": 0,
              "ticks": ""
             }
            },
            "type": "parcoords"
           }
          ],
          "pie": [
           {
            "automargin": true,
            "type": "pie"
           }
          ],
          "scatter": [
           {
            "fillpattern": {
             "fillmode": "overlay",
             "size": 10,
             "solidity": 0.2
            },
            "type": "scatter"
           }
          ],
          "scatter3d": [
           {
            "line": {
             "colorbar": {
              "outlinewidth": 0,
              "ticks": ""
             }
            },
            "marker": {
             "colorbar": {
              "outlinewidth": 0,
              "ticks": ""
             }
            },
            "type": "scatter3d"
           }
          ],
          "scattercarpet": [
           {
            "marker": {
             "colorbar": {
              "outlinewidth": 0,
              "ticks": ""
             }
            },
            "type": "scattercarpet"
           }
          ],
          "scattergeo": [
           {
            "marker": {
             "colorbar": {
              "outlinewidth": 0,
              "ticks": ""
             }
            },
            "type": "scattergeo"
           }
          ],
          "scattergl": [
           {
            "marker": {
             "colorbar": {
              "outlinewidth": 0,
              "ticks": ""
             }
            },
            "type": "scattergl"
           }
          ],
          "scattermapbox": [
           {
            "marker": {
             "colorbar": {
              "outlinewidth": 0,
              "ticks": ""
             }
            },
            "type": "scattermapbox"
           }
          ],
          "scatterpolar": [
           {
            "marker": {
             "colorbar": {
              "outlinewidth": 0,
              "ticks": ""
             }
            },
            "type": "scatterpolar"
           }
          ],
          "scatterpolargl": [
           {
            "marker": {
             "colorbar": {
              "outlinewidth": 0,
              "ticks": ""
             }
            },
            "type": "scatterpolargl"
           }
          ],
          "scatterternary": [
           {
            "marker": {
             "colorbar": {
              "outlinewidth": 0,
              "ticks": ""
             }
            },
            "type": "scatterternary"
           }
          ],
          "surface": [
           {
            "colorbar": {
             "outlinewidth": 0,
             "ticks": ""
            },
            "colorscale": [
             [
              0,
              "#0d0887"
             ],
             [
              0.1111111111111111,
              "#46039f"
             ],
             [
              0.2222222222222222,
              "#7201a8"
             ],
             [
              0.3333333333333333,
              "#9c179e"
             ],
             [
              0.4444444444444444,
              "#bd3786"
             ],
             [
              0.5555555555555556,
              "#d8576b"
             ],
             [
              0.6666666666666666,
              "#ed7953"
             ],
             [
              0.7777777777777778,
              "#fb9f3a"
             ],
             [
              0.8888888888888888,
              "#fdca26"
             ],
             [
              1,
              "#f0f921"
             ]
            ],
            "type": "surface"
           }
          ],
          "table": [
           {
            "cells": {
             "fill": {
              "color": "#EBF0F8"
             },
             "line": {
              "color": "white"
             }
            },
            "header": {
             "fill": {
              "color": "#C8D4E3"
             },
             "line": {
              "color": "white"
             }
            },
            "type": "table"
           }
          ]
         },
         "layout": {
          "annotationdefaults": {
           "arrowcolor": "#2a3f5f",
           "arrowhead": 0,
           "arrowwidth": 1
          },
          "autotypenumbers": "strict",
          "coloraxis": {
           "colorbar": {
            "outlinewidth": 0,
            "ticks": ""
           }
          },
          "colorscale": {
           "diverging": [
            [
             0,
             "#8e0152"
            ],
            [
             0.1,
             "#c51b7d"
            ],
            [
             0.2,
             "#de77ae"
            ],
            [
             0.3,
             "#f1b6da"
            ],
            [
             0.4,
             "#fde0ef"
            ],
            [
             0.5,
             "#f7f7f7"
            ],
            [
             0.6,
             "#e6f5d0"
            ],
            [
             0.7,
             "#b8e186"
            ],
            [
             0.8,
             "#7fbc41"
            ],
            [
             0.9,
             "#4d9221"
            ],
            [
             1,
             "#276419"
            ]
           ],
           "sequential": [
            [
             0,
             "#0d0887"
            ],
            [
             0.1111111111111111,
             "#46039f"
            ],
            [
             0.2222222222222222,
             "#7201a8"
            ],
            [
             0.3333333333333333,
             "#9c179e"
            ],
            [
             0.4444444444444444,
             "#bd3786"
            ],
            [
             0.5555555555555556,
             "#d8576b"
            ],
            [
             0.6666666666666666,
             "#ed7953"
            ],
            [
             0.7777777777777778,
             "#fb9f3a"
            ],
            [
             0.8888888888888888,
             "#fdca26"
            ],
            [
             1,
             "#f0f921"
            ]
           ],
           "sequentialminus": [
            [
             0,
             "#0d0887"
            ],
            [
             0.1111111111111111,
             "#46039f"
            ],
            [
             0.2222222222222222,
             "#7201a8"
            ],
            [
             0.3333333333333333,
             "#9c179e"
            ],
            [
             0.4444444444444444,
             "#bd3786"
            ],
            [
             0.5555555555555556,
             "#d8576b"
            ],
            [
             0.6666666666666666,
             "#ed7953"
            ],
            [
             0.7777777777777778,
             "#fb9f3a"
            ],
            [
             0.8888888888888888,
             "#fdca26"
            ],
            [
             1,
             "#f0f921"
            ]
           ]
          },
          "colorway": [
           "#636efa",
           "#EF553B",
           "#00cc96",
           "#ab63fa",
           "#FFA15A",
           "#19d3f3",
           "#FF6692",
           "#B6E880",
           "#FF97FF",
           "#FECB52"
          ],
          "font": {
           "color": "#2a3f5f"
          },
          "geo": {
           "bgcolor": "white",
           "lakecolor": "white",
           "landcolor": "#E5ECF6",
           "showlakes": true,
           "showland": true,
           "subunitcolor": "white"
          },
          "hoverlabel": {
           "align": "left"
          },
          "hovermode": "closest",
          "mapbox": {
           "style": "light"
          },
          "paper_bgcolor": "white",
          "plot_bgcolor": "#E5ECF6",
          "polar": {
           "angularaxis": {
            "gridcolor": "white",
            "linecolor": "white",
            "ticks": ""
           },
           "bgcolor": "#E5ECF6",
           "radialaxis": {
            "gridcolor": "white",
            "linecolor": "white",
            "ticks": ""
           }
          },
          "scene": {
           "xaxis": {
            "backgroundcolor": "#E5ECF6",
            "gridcolor": "white",
            "gridwidth": 2,
            "linecolor": "white",
            "showbackground": true,
            "ticks": "",
            "zerolinecolor": "white"
           },
           "yaxis": {
            "backgroundcolor": "#E5ECF6",
            "gridcolor": "white",
            "gridwidth": 2,
            "linecolor": "white",
            "showbackground": true,
            "ticks": "",
            "zerolinecolor": "white"
           },
           "zaxis": {
            "backgroundcolor": "#E5ECF6",
            "gridcolor": "white",
            "gridwidth": 2,
            "linecolor": "white",
            "showbackground": true,
            "ticks": "",
            "zerolinecolor": "white"
           }
          },
          "shapedefaults": {
           "line": {
            "color": "#2a3f5f"
           }
          },
          "ternary": {
           "aaxis": {
            "gridcolor": "white",
            "linecolor": "white",
            "ticks": ""
           },
           "baxis": {
            "gridcolor": "white",
            "linecolor": "white",
            "ticks": ""
           },
           "bgcolor": "#E5ECF6",
           "caxis": {
            "gridcolor": "white",
            "linecolor": "white",
            "ticks": ""
           }
          },
          "title": {
           "x": 0.05
          },
          "xaxis": {
           "automargin": true,
           "gridcolor": "white",
           "linecolor": "white",
           "ticks": "",
           "title": {
            "standoff": 15
           },
           "zerolinecolor": "white",
           "zerolinewidth": 2
          },
          "yaxis": {
           "automargin": true,
           "gridcolor": "white",
           "linecolor": "white",
           "ticks": "",
           "title": {
            "standoff": 15
           },
           "zerolinecolor": "white",
           "zerolinewidth": 2
          }
         }
        },
        "width": 1000,
        "xaxis": {
         "anchor": "y",
         "autorange": true,
         "domain": [
          0,
          1
         ],
         "range": [
          -0.5,
          17.5
         ]
        },
        "yaxis": {
         "anchor": "x",
         "autorange": true,
         "domain": [
          0,
          1
         ],
         "range": [
          24.5,
          -0.5
         ]
        }
       }
      },
      "image/png": "[encoded data removed]",
      "text/html": [
       "<div>                            <div id=\"2a4da9b7-2581-4022-958b-94ae7af49daf\" class=\"plotly-graph-div\" style=\"height:300px; width:1000px;\"></div>            <script type=\"text/javascript\">                require([\"plotly\"], function(Plotly) {                    window.PLOTLYENV=window.PLOTLYENV || {};                                    if (document.getElementById(\"2a4da9b7-2581-4022-958b-94ae7af49daf\")) {                    Plotly.newPlot(                        \"2a4da9b7-2581-4022-958b-94ae7af49daf\",                        [{\"coloraxis\":\"coloraxis\",\"name\":\"0\",\"z\":[[1.0,1.0,0.8660254037844387,0.0,0.0,1.0,1.0,1.0,0.0,0.0,0.8947368421052632,0.8947368421052632,0.6668859288553503,0.0,0.0,1.0,1.0,1.0],[1.0,1.0,1.0,0.0,0.0,1.0,1.0,1.0,0.0,0.0,1.0,1.0,1.0,0.0,0.0,1.0,1.0,1.0],[1.0,1.0,1.0,0.0,0.0,1.0,1.0,1.0,0.0,0.0,0.7,0.9,0.2,0.0,0.0,1.0,1.0,1.0],[1.0,1.0,1.0,0.0,0.0,1.0,1.0,1.0,0.0,0.0,0.917662935482247,0.917662935482247,0.917662935482247,0.0,0.0,1.0,0.816496580927726,1.0],[1.0,1.0,1.0,0.0,0.0,0.6842105263157895,0.6842105263157895,-0.1578947368421052,0.0,0.0,-0.5,0.5,-1.0,0.0,0.0,1.0,1.0,1.0],[1.0,1.0,1.0,0.0,0.0,-1.0,-1.0,-1.0,0.0,0.0,0.9710083124552245,0.9710083124552245,0.8827348295047495,0.0,0.0,-1.0,-1.0,-1.0],[1.0,1.0,1.0,0.0,0.0,1.0,1.0,1.0,0.0,0.0,1.0,1.0,1.0,0.0,0.0,1.0,1.0,1.0],[1.0,1.0,1.0,0.0,0.0,1.0,1.0,1.0,0.0,0.0,1.0,1.0,1.0,0.0,0.0,0.5,1.0,1.0],[0.5,0.5,0.5,0.0,0.0,1.0,1.0,1.0,0.0,0.0,-0.0895622151039798,-0.0909090909090909,-0.8181818181818182,0.0,0.0,0.9,0.9,0.9],[0.5,0.5,-0.5,0.0,0.0,1.0,1.0,1.0,0.0,0.0,-1.0,-1.0,-1.0,0.0,0.0,0.7758801774444581,0.7758801774444581,0.7758801774444581],[1.0,1.0,1.0,0.0,0.0,0.8867924528301887,1.0,0.8867924528301887,0.0,0.0,1.0,0.5,-0.5,0.0,0.0,0.8944271909999159,0.8944271909999159,0.8944271909999159],[1.0,1.0,0.8,0.0,0.0,1.0,1.0,1.0,0.0,0.0,0.816496580927726,0.816496580927726,0.816496580927726,0.0,0.0,0.5,0.5,0.5],[0.6666666666666666,0.7777777777777778,0.7777777777777778,0.0,0.0,1.0,1.0,1.0,0.0,0.0,-1.0,-1.0,-1.0,0.0,0.0,1.0,1.0,1.0],[1.0,1.0,1.0,0.0,0.0,1.0,1.0,1.0,0.0,0.0,0.8,0.8,0.4,0.0,0.0,0.3333333333333333,0.3333333333333333,0.3333333333333333],[0.5,0.5,0.5,0.0,0.0,1.0,1.0,1.0,0.0,0.0,1.0,1.0,1.0,0.0,0.0,1.0,1.0,1.0],[1.0,1.0,1.0,0.0,0.0,0.5642880936468347,-0.1578947368421052,-0.3684210526315789,0.0,0.0,1.0,1.0,1.0,0.0,0.0,1.0,1.0,1.0],[1.0,1.0,1.0,0.0,0.0,1.0,1.0,1.0,0.0,0.0,0.7071067811865475,0.7071067811865475,0.7071067811865475,0.0,0.0,1.0,0.5,0.5],[1.0,1.0,1.0,0.0,0.0,1.0,1.0,1.0,0.0,0.0,0.7905694150420948,0.7905694150420948,0.7905694150420948,0.0,0.0,1.0,1.0,1.0],[1.0,1.0,1.0,0.0,0.0,-1.0,-1.0,-1.0,0.0,0.0,0.8660254037844387,0.8660254037844387,0.8660254037844387,0.0,0.0,-0.1309307341415954,-0.1309307341415954,0.6546536707079772],[1.0,1.0,1.0,0.0,0.0,0.6071428571428571,0.9285714285714286,0.1785714285714285,0.0,0.0,1.0,0.7637626158259733,1.0,0.0,0.0,0.5368515688594936,0.5368515688594936,0.5368515688594936],[1.0,1.0,-0.5,0.0,0.0,0.0857142857142857,0.0857142857142857,-0.6571428571428571,0.0,0.0,0.641688947919748,0.641688947919748,0.641688947919748,0.0,0.0,0.7254762501100117,0.7254762501100117,0.7254762501100117],[1.0,1.0,1.0,0.0,0.0,-0.0285714285714285,-0.0285714285714285,-0.7714285714285715,0.0,0.0,1.0,1.0,1.0,0.0,0.0,1.0,1.0,1.0],[-1.0,-1.0,-1.0,0.0,0.0,0.6981132075471698,1.0,0.0943396226415094,0.0,0.0,0.7254762501100117,0.7453559924999299,0.7453559924999299,0.0,0.0,1.0,1.0,1.0],[1.0,1.0,1.0,0.0,0.0,-0.5789473684210527,-0.5789473684210527,-0.5789473684210527,0.0,0.0,1.0,1.0,1.0,0.0,0.0,1.0,1.0,1.0],[-1.0,-1.0,-1.0,0.0,0.0,-0.7378647873726218,-0.7777777777777778,-1.0,0.0,0.0,1.0,1.0,1.0,0.0,0.0,1.0,1.0,1.0]],\"type\":\"heatmap\",\"xaxis\":\"x\",\"yaxis\":\"y\",\"hovertemplate\":\"x: %{x}\\u003cbr\\u003ey: %{y}\\u003cbr\\u003ecolor: %{z}\\u003cextra\\u003e\\u003c\\u002fextra\\u003e\"}],                        {\"template\":{\"data\":{\"histogram2dcontour\":[{\"type\":\"histogram2dcontour\",\"colorbar\":{\"outlinewidth\":0,\"ticks\":\"\"},\"colorscale\":[[0.0,\"#0d0887\"],[0.1111111111111111,\"#46039f\"],[0.2222222222222222,\"#7201a8\"],[0.3333333333333333,\"#9c179e\"],[0.4444444444444444,\"#bd3786\"],[0.5555555555555556,\"#d8576b\"],[0.6666666666666666,\"#ed7953\"],[0.7777777777777778,\"#fb9f3a\"],[0.8888888888888888,\"#fdca26\"],[1.0,\"#f0f921\"]]}],\"choropleth\":[{\"type\":\"choropleth\",\"colorbar\":{\"outlinewidth\":0,\"ticks\":\"\"}}],\"histogram2d\":[{\"type\":\"histogram2d\",\"colorbar\":{\"outlinewidth\":0,\"ticks\":\"\"},\"colorscale\":[[0.0,\"#0d0887\"],[0.1111111111111111,\"#46039f\"],[0.2222222222222222,\"#7201a8\"],[0.3333333333333333,\"#9c179e\"],[0.4444444444444444,\"#bd3786\"],[0.5555555555555556,\"#d8576b\"],[0.6666666666666666,\"#ed7953\"],[0.7777777777777778,\"#fb9f3a\"],[0.8888888888888888,\"#fdca26\"],[1.0,\"#f0f921\"]]}],\"heatmap\":[{\"type\":\"heatmap\",\"colorbar\":{\"outlinewidth\":0,\"ticks\":\"\"},\"colorscale\":[[0.0,\"#0d0887\"],[0.1111111111111111,\"#46039f\"],[0.2222222222222222,\"#7201a8\"],[0.3333333333333333,\"#9c179e\"],[0.4444444444444444,\"#bd3786\"],[0.5555555555555556,\"#d8576b\"],[0.6666666666666666,\"#ed7953\"],[0.7777777777777778,\"#fb9f3a\"],[0.8888888888888888,\"#fdca26\"],[1.0,\"#f0f921\"]]}],\"heatmapgl\":[{\"type\":\"heatmapgl\",\"colorbar\":{\"outlinewidth\":0,\"ticks\":\"\"},\"colorscale\":[[0.0,\"#0d0887\"],[0.1111111111111111,\"#46039f\"],[0.2222222222222222,\"#7201a8\"],[0.3333333333333333,\"#9c179e\"],[0.4444444444444444,\"#bd3786\"],[0.5555555555555556,\"#d8576b\"],[0.6666666666666666,\"#ed7953\"],[0.7777777777777778,\"#fb9f3a\"],[0.8888888888888888,\"#fdca26\"],[1.0,\"#f0f921\"]]}],\"contourcarpet\":[{\"type\":\"contourcarpet\",\"colorbar\":{\"outlinewidth\":0,\"ticks\":\"\"}}],\"contour\":[{\"type\":\"contour\",\"colorbar\":{\"outlinewidth\":0,\"ticks\":\"\"},\"colorscale\":[[0.0,\"#0d0887\"],[0.1111111111111111,\"#46039f\"],[0.2222222222222222,\"#7201a8\"],[0.3333333333333333,\"#9c179e\"],[0.4444444444444444,\"#bd3786\"],[0.5555555555555556,\"#d8576b\"],[0.6666666666666666,\"#ed7953\"],[0.7777777777777778,\"#fb9f3a\"],[0.8888888888888888,\"#fdca26\"],[1.0,\"#f0f921\"]]}],\"surface\":[{\"type\":\"surface\",\"colorbar\":{\"outlinewidth\":0,\"ticks\":\"\"},\"colorscale\":[[0.0,\"#0d0887\"],[0.1111111111111111,\"#46039f\"],[0.2222222222222222,\"#7201a8\"],[0.3333333333333333,\"#9c179e\"],[0.4444444444444444,\"#bd3786\"],[0.5555555555555556,\"#d8576b\"],[0.6666666666666666,\"#ed7953\"],[0.7777777777777778,\"#fb9f3a\"],[0.8888888888888888,\"#fdca26\"],[1.0,\"#f0f921\"]]}],\"mesh3d\":[{\"type\":\"mesh3d\",\"colorbar\":{\"outlinewidth\":0,\"ticks\":\"\"}}],\"scatter\":[{\"fillpattern\":{\"fillmode\":\"overlay\",\"size\":10,\"solidity\":0.2},\"type\":\"scatter\"}],\"parcoords\":[{\"type\":\"parcoords\",\"line\":{\"colorbar\":{\"outlinewidth\":0,\"ticks\":\"\"}}}],\"scatterpolargl\":[{\"type\":\"scatterpolargl\",\"marker\":{\"colorbar\":{\"outlinewidth\":0,\"ticks\":\"\"}}}],\"bar\":[{\"error_x\":{\"color\":\"#2a3f5f\"},\"error_y\":{\"color\":\"#2a3f5f\"},\"marker\":{\"line\":{\"color\":\"#E5ECF6\",\"width\":0.5},\"pattern\":{\"fillmode\":\"overlay\",\"size\":10,\"solidity\":0.2}},\"type\":\"bar\"}],\"scattergeo\":[{\"type\":\"scattergeo\",\"marker\":{\"colorbar\":{\"outlinewidth\":0,\"ticks\":\"\"}}}],\"scatterpolar\":[{\"type\":\"scatterpolar\",\"marker\":{\"colorbar\":{\"outlinewidth\":0,\"ticks\":\"\"}}}],\"histogram\":[{\"marker\":{\"pattern\":{\"fillmode\":\"overlay\",\"size\":10,\"solidity\":0.2}},\"type\":\"histogram\"}],\"scattergl\":[{\"type\":\"scattergl\",\"marker\":{\"colorbar\":{\"outlinewidth\":0,\"ticks\":\"\"}}}],\"scatter3d\":[{\"type\":\"scatter3d\",\"line\":{\"colorbar\":{\"outlinewidth\":0,\"ticks\":\"\"}},\"marker\":{\"colorbar\":{\"outlinewidth\":0,\"ticks\":\"\"}}}],\"scattermapbox\":[{\"type\":\"scattermapbox\",\"marker\":{\"colorbar\":{\"outlinewidth\":0,\"ticks\":\"\"}}}],\"scatterternary\":[{\"type\":\"scatterternary\",\"marker\":{\"colorbar\":{\"outlinewidth\":0,\"ticks\":\"\"}}}],\"scattercarpet\":[{\"type\":\"scattercarpet\",\"marker\":{\"colorbar\":{\"outlinewidth\":0,\"ticks\":\"\"}}}],\"carpet\":[{\"aaxis\":{\"endlinecolor\":\"#2a3f5f\",\"gridcolor\":\"white\",\"linecolor\":\"white\",\"minorgridcolor\":\"white\",\"startlinecolor\":\"#2a3f5f\"},\"baxis\":{\"endlinecolor\":\"#2a3f5f\",\"gridcolor\":\"white\",\"linecolor\":\"white\",\"minorgridcolor\":\"white\",\"startlinecolor\":\"#2a3f5f\"},\"type\":\"carpet\"}],\"table\":[{\"cells\":{\"fill\":{\"color\":\"#EBF0F8\"},\"line\":{\"color\":\"white\"}},\"header\":{\"fill\":{\"color\":\"#C8D4E3\"},\"line\":{\"color\":\"white\"}},\"type\":\"table\"}],\"barpolar\":[{\"marker\":{\"line\":{\"color\":\"#E5ECF6\",\"width\":0.5},\"pattern\":{\"fillmode\":\"overlay\",\"size\":10,\"solidity\":0.2}},\"type\":\"barpolar\"}],\"pie\":[{\"automargin\":true,\"type\":\"pie\"}]},\"layout\":{\"autotypenumbers\":\"strict\",\"colorway\":[\"#636efa\",\"#EF553B\",\"#00cc96\",\"#ab63fa\",\"#FFA15A\",\"#19d3f3\",\"#FF6692\",\"#B6E880\",\"#FF97FF\",\"#FECB52\"],\"font\":{\"color\":\"#2a3f5f\"},\"hovermode\":\"closest\",\"hoverlabel\":{\"align\":\"left\"},\"paper_bgcolor\":\"white\",\"plot_bgcolor\":\"#E5ECF6\",\"polar\":{\"bgcolor\":\"#E5ECF6\",\"angularaxis\":{\"gridcolor\":\"white\",\"linecolor\":\"white\",\"ticks\":\"\"},\"radialaxis\":{\"gridcolor\":\"white\",\"linecolor\":\"white\",\"ticks\":\"\"}},\"ternary\":{\"bgcolor\":\"#E5ECF6\",\"aaxis\":{\"gridcolor\":\"white\",\"linecolor\":\"white\",\"ticks\":\"\"},\"baxis\":{\"gridcolor\":\"white\",\"linecolor\":\"white\",\"ticks\":\"\"},\"caxis\":{\"gridcolor\":\"white\",\"linecolor\":\"white\",\"ticks\":\"\"}},\"coloraxis\":{\"colorbar\":{\"outlinewidth\":0,\"ticks\":\"\"}},\"colorscale\":{\"sequential\":[[0.0,\"#0d0887\"],[0.1111111111111111,\"#46039f\"],[0.2222222222222222,\"#7201a8\"],[0.3333333333333333,\"#9c179e\"],[0.4444444444444444,\"#bd3786\"],[0.5555555555555556,\"#d8576b\"],[0.6666666666666666,\"#ed7953\"],[0.7777777777777778,\"#fb9f3a\"],[0.8888888888888888,\"#fdca26\"],[1.0,\"#f0f921\"]],\"sequentialminus\":[[0.0,\"#0d0887\"],[0.1111111111111111,\"#46039f\"],[0.2222222222222222,\"#7201a8\"],[0.3333333333333333,\"#9c179e\"],[0.4444444444444444,\"#bd3786\"],[0.5555555555555556,\"#d8576b\"],[0.6666666666666666,\"#ed7953\"],[0.7777777777777778,\"#fb9f3a\"],[0.8888888888888888,\"#fdca26\"],[1.0,\"#f0f921\"]],\"diverging\":[[0,\"#8e0152\"],[0.1,\"#c51b7d\"],[0.2,\"#de77ae\"],[0.3,\"#f1b6da\"],[0.4,\"#fde0ef\"],[0.5,\"#f7f7f7\"],[0.6,\"#e6f5d0\"],[0.7,\"#b8e186\"],[0.8,\"#7fbc41\"],[0.9,\"#4d9221\"],[1,\"#276419\"]]},\"xaxis\":{\"gridcolor\":\"white\",\"linecolor\":\"white\",\"ticks\":\"\",\"title\":{\"standoff\":15},\"zerolinecolor\":\"white\",\"automargin\":true,\"zerolinewidth\":2},\"yaxis\":{\"gridcolor\":\"white\",\"linecolor\":\"white\",\"ticks\":\"\",\"title\":{\"standoff\":15},\"zerolinecolor\":\"white\",\"automargin\":true,\"zerolinewidth\":2},\"scene\":{\"xaxis\":{\"backgroundcolor\":\"#E5ECF6\",\"gridcolor\":\"white\",\"linecolor\":\"white\",\"showbackground\":true,\"ticks\":\"\",\"zerolinecolor\":\"white\",\"gridwidth\":2},\"yaxis\":{\"backgroundcolor\":\"#E5ECF6\",\"gridcolor\":\"white\",\"linecolor\":\"white\",\"showbackground\":true,\"ticks\":\"\",\"zerolinecolor\":\"white\",\"gridwidth\":2},\"zaxis\":{\"backgroundcolor\":\"#E5ECF6\",\"gridcolor\":\"white\",\"linecolor\":\"white\",\"showbackground\":true,\"ticks\":\"\",\"zerolinecolor\":\"white\",\"gridwidth\":2}},\"shapedefaults\":{\"line\":{\"color\":\"#2a3f5f\"}},\"annotationdefaults\":{\"arrowcolor\":\"#2a3f5f\",\"arrowhead\":0,\"arrowwidth\":1},\"geo\":{\"bgcolor\":\"white\",\"landcolor\":\"#E5ECF6\",\"subunitcolor\":\"white\",\"showland\":true,\"showlakes\":true,\"lakecolor\":\"white\"},\"title\":{\"x\":0.05},\"mapbox\":{\"style\":\"light\"}}},\"xaxis\":{\"anchor\":\"y\",\"domain\":[0.0,1.0]},\"yaxis\":{\"anchor\":\"x\",\"domain\":[0.0,1.0],\"autorange\":\"reversed\"},\"coloraxis\":{\"colorscale\":[[0.0,\"rgb(103,0,31)\"],[0.1,\"rgb(178,24,43)\"],[0.2,\"rgb(214,96,77)\"],[0.3,\"rgb(244,165,130)\"],[0.4,\"rgb(253,219,199)\"],[0.5,\"rgb(247,247,247)\"],[0.6,\"rgb(209,229,240)\"],[0.7,\"rgb(146,197,222)\"],[0.8,\"rgb(67,147,195)\"],[0.9,\"rgb(33,102,172)\"],[1.0,\"rgb(5,48,97)\"]]},\"margin\":{\"t\":60},\"height\":300,\"width\":1000},                        {\"responsive\": true}                    ).then(function(){\n",
       "                            \n",
       "var gd = document.getElementById('2a4da9b7-2581-4022-958b-94ae7af49daf');\n",
       "var x = new MutationObserver(function (mutations, observer) {{\n",
       "        var display = window.getComputedStyle(gd).display;\n",
       "        if (!display || display === 'none') {{\n",
       "            console.log([gd, 'removed!']);\n",
       "            Plotly.purge(gd);\n",
       "            observer.disconnect();\n",
       "        }}\n",
       "}});\n",
       "\n",
       "// Listen for the removal of the full notebook cells\n",
       "var notebookContainer = gd.closest('#notebook-container');\n",
       "if (notebookContainer) {{\n",
       "    x.observe(notebookContainer, {childList: true});\n",
       "}}\n",
       "\n",
       "// Listen for the clearing of the current output cell\n",
       "var outputEl = gd.closest('.output');\n",
       "if (outputEl) {{\n",
       "    x.observe(outputEl, {childList: true});\n",
       "}}\n",
       "\n",
       "                        })                };                });            </script>        </div>"
      ]
     },
     "metadata": {},
     "output_type": "display_data"
    }
   ],
   "source": [
    "A = np.asarray(list(zip(*cols))).reshape(25, 12)\n",
    "A = np.insert(A, [3, 6, 9], 0, axis=1)\n",
    "A = np.insert(A, [3, 7, 11], 0, axis=1)\n",
    "\n",
    "fig = px.imshow(\n",
    "    A,\n",
    "    color_continuous_scale=\"RdBu\",\n",
    "    aspect=\"auto\",\n",
    "    width=1000,\n",
    "    height=300,\n",
    ")\n",
    "fig.show()"
   ]
  },
  {
   "cell_type": "code",
   "execution_count": 143,
   "id": "d7d0bf4e-4e51-4daa-ade8-3dd79b8dd203",
   "metadata": {},
   "outputs": [
    {
     "data": {
      "application/vnd.plotly.v1+json": {
       "config": {
        "plotlyServerURL": "https://plot.ly"
       },
       "data": [
        {
         "coloraxis": "coloraxis",
         "hovertemplate": "x: %{x}<br>y: %{y}<br>color: %{z}<extra></extra>",
         "name": "0",
         "type": "heatmap",
         "x": [
          0,
          1,
          2,
          3,
          4,
          5,
          6,
          7,
          8,
          9,
          10,
          11,
          12,
          13,
          14,
          15,
          16,
          17
         ],
         "xaxis": "x",
         "y": [
          0,
          1,
          2,
          3,
          4,
          5,
          6,
          7,
          8,
          9,
          10,
          11,
          12,
          13,
          14,
          15,
          16,
          17,
          18,
          19,
          20,
          21,
          22,
          23,
          24
         ],
         "yaxis": "y",
         "z": [
          [
           1,
           1,
           0.8660254037844387,
           0,
           0,
           1,
           1,
           1,
           0,
           0,
           0.8947368421052632,
           0.8947368421052632,
           0.6668859288553503,
           0,
           0,
           1,
           1,
           1
          ],
          [
           1,
           1,
           1,
           0,
           0,
           1,
           1,
           1,
           0,
           0,
           1,
           1,
           1,
           0,
           0,
           1,
           1,
           1
          ],
          [
           1,
           1,
           1,
           0,
           0,
           1,
           1,
           1,
           0,
           0,
           0.7,
           0.9,
           0.2,
           0,
           0,
           1,
           1,
           1
          ],
          [
           1,
           1,
           1,
           0,
           0,
           1,
           1,
           1,
           0,
           0,
           0.917662935482247,
           0.917662935482247,
           0.917662935482247,
           0,
           0,
           1,
           0.816496580927726,
           1
          ],
          [
           1,
           1,
           1,
           0,
           0,
           0.6842105263157895,
           0.6842105263157895,
           -0.1578947368421052,
           0,
           0,
           -0.5,
           0.5,
           -1,
           0,
           0,
           1,
           1,
           1
          ],
          [
           1,
           1,
           1,
           0,
           0,
           -1,
           -1,
           -1,
           0,
           0,
           0.9710083124552245,
           0.9710083124552245,
           0.8827348295047495,
           0,
           0,
           -1,
           -1,
           -1
          ],
          [
           1,
           1,
           1,
           0,
           0,
           1,
           1,
           1,
           0,
           0,
           1,
           1,
           1,
           0,
           0,
           1,
           1,
           1
          ],
          [
           1,
           1,
           1,
           0,
           0,
           1,
           1,
           1,
           0,
           0,
           1,
           1,
           1,
           0,
           0,
           0.5,
           1,
           1
          ],
          [
           0.5,
           0.5,
           0.5,
           0,
           0,
           1,
           1,
           1,
           0,
           0,
           -0.0895622151039798,
           -0.0909090909090909,
           -0.8181818181818182,
           0,
           0,
           0.9,
           0.9,
           0.9
          ],
          [
           0.5,
           0.5,
           -0.5,
           0,
           0,
           1,
           1,
           1,
           0,
           0,
           -1,
           -1,
           -1,
           0,
           0,
           0.7758801774444581,
           0.7758801774444581,
           0.7758801774444581
          ],
          [
           1,
           1,
           1,
           0,
           0,
           0.8867924528301887,
           1,
           0.8867924528301887,
           0,
           0,
           1,
           0.5,
           -0.5,
           0,
           0,
           0.8944271909999159,
           0.8944271909999159,
           0.8944271909999159
          ],
          [
           1,
           1,
           0.8,
           0,
           0,
           1,
           1,
           1,
           0,
           0,
           0.816496580927726,
           0.816496580927726,
           0.816496580927726,
           0,
           0,
           0.5,
           0.5,
           0.5
          ],
          [
           0.6666666666666666,
           0.7777777777777778,
           0.7777777777777778,
           0,
           0,
           1,
           1,
           1,
           0,
           0,
           -1,
           -1,
           -1,
           0,
           0,
           1,
           1,
           1
          ],
          [
           1,
           1,
           1,
           0,
           0,
           1,
           1,
           1,
           0,
           0,
           0.8,
           0.8,
           0.4,
           0,
           0,
           0.3333333333333333,
           0.3333333333333333,
           0.3333333333333333
          ],
          [
           0.5,
           0.5,
           0.5,
           0,
           0,
           1,
           1,
           1,
           0,
           0,
           1,
           1,
           1,
           0,
           0,
           1,
           1,
           1
          ],
          [
           1,
           1,
           1,
           0,
           0,
           0.5642880936468347,
           -0.1578947368421052,
           -0.3684210526315789,
           0,
           0,
           1,
           1,
           1,
           0,
           0,
           1,
           1,
           1
          ],
          [
           1,
           1,
           1,
           0,
           0,
           1,
           1,
           1,
           0,
           0,
           0.7071067811865475,
           0.7071067811865475,
           0.7071067811865475,
           0,
           0,
           1,
           0.5,
           0.5
          ],
          [
           1,
           1,
           1,
           0,
           0,
           1,
           1,
           1,
           0,
           0,
           0.7905694150420948,
           0.7905694150420948,
           0.7905694150420948,
           0,
           0,
           1,
           1,
           1
          ],
          [
           1,
           1,
           1,
           0,
           0,
           -1,
           -1,
           -1,
           0,
           0,
           0.8660254037844387,
           0.8660254037844387,
           0.8660254037844387,
           0,
           0,
           -0.1309307341415954,
           -0.1309307341415954,
           0.6546536707079772
          ],
          [
           1,
           1,
           1,
           0,
           0,
           0.6071428571428571,
           0.9285714285714286,
           0.1785714285714285,
           0,
           0,
           1,
           0.7637626158259733,
           1,
           0,
           0,
           0.5368515688594936,
           0.5368515688594936,
           0.5368515688594936
          ],
          [
           1,
           1,
           -0.5,
           0,
           0,
           0.0857142857142857,
           0.0857142857142857,
           -0.6571428571428571,
           0,
           0,
           0.641688947919748,
           0.641688947919748,
           0.641688947919748,
           0,
           0,
           0.7254762501100117,
           0.7254762501100117,
           0.7254762501100117
          ],
          [
           1,
           1,
           1,
           0,
           0,
           -0.0285714285714285,
           -0.0285714285714285,
           -0.7714285714285715,
           0,
           0,
           1,
           1,
           1,
           0,
           0,
           1,
           1,
           1
          ],
          [
           -1,
           -1,
           -1,
           0,
           0,
           0.6981132075471698,
           1,
           0.0943396226415094,
           0,
           0,
           0.7254762501100117,
           0.7453559924999299,
           0.7453559924999299,
           0,
           0,
           1,
           1,
           1
          ],
          [
           1,
           1,
           1,
           0,
           0,
           -0.5789473684210527,
           -0.5789473684210527,
           -0.5789473684210527,
           0,
           0,
           1,
           1,
           1,
           0,
           0,
           1,
           1,
           1
          ],
          [
           -1,
           -1,
           -1,
           0,
           0,
           -0.7378647873726218,
           -0.7777777777777778,
           -1,
           0,
           0,
           1,
           1,
           1,
           0,
           0,
           1,
           1,
           1
          ]
         ]
        }
       ],
       "layout": {
        "coloraxis": {
         "colorscale": [
          [
           0,
           "rgb(103,0,31)"
          ],
          [
           0.1,
           "rgb(178,24,43)"
          ],
          [
           0.2,
           "rgb(214,96,77)"
          ],
          [
           0.3,
           "rgb(244,165,130)"
          ],
          [
           0.4,
           "rgb(253,219,199)"
          ],
          [
           0.5,
           "rgb(247,247,247)"
          ],
          [
           0.6,
           "rgb(209,229,240)"
          ],
          [
           0.7,
           "rgb(146,197,222)"
          ],
          [
           0.8,
           "rgb(67,147,195)"
          ],
          [
           0.9,
           "rgb(33,102,172)"
          ],
          [
           1,
           "rgb(5,48,97)"
          ]
         ]
        },
        "height": 875,
        "margin": {
         "t": 60
        },
        "shapes": [
         {
          "line": {
           "color": "white",
           "width": 2
          },
          "type": "line",
          "x0": 0.5,
          "x1": 0.5,
          "y0": -0.5,
          "y1": 24.5
         },
         {
          "line": {
           "color": "white",
           "width": 2
          },
          "type": "line",
          "x0": 1.5,
          "x1": 1.5,
          "y0": -0.5,
          "y1": 24.5
         },
         {
          "line": {
           "color": "white",
           "width": 2
          },
          "type": "line",
          "x0": 2.5,
          "x1": 2.5,
          "y0": -0.5,
          "y1": 24.5
         },
         {
          "line": {
           "color": "white",
           "width": 2
          },
          "type": "line",
          "x0": 3.5,
          "x1": 3.5,
          "y0": -0.5,
          "y1": 24.5
         },
         {
          "line": {
           "color": "white",
           "width": 2
          },
          "type": "line",
          "x0": 4.5,
          "x1": 4.5,
          "y0": -0.5,
          "y1": 24.5
         },
         {
          "line": {
           "color": "white",
           "width": 2
          },
          "type": "line",
          "x0": 5.5,
          "x1": 5.5,
          "y0": -0.5,
          "y1": 24.5
         },
         {
          "line": {
           "color": "white",
           "width": 2
          },
          "type": "line",
          "x0": 6.5,
          "x1": 6.5,
          "y0": -0.5,
          "y1": 24.5
         },
         {
          "line": {
           "color": "white",
           "width": 2
          },
          "type": "line",
          "x0": 7.5,
          "x1": 7.5,
          "y0": -0.5,
          "y1": 24.5
         },
         {
          "line": {
           "color": "white",
           "width": 2
          },
          "type": "line",
          "x0": 8.5,
          "x1": 8.5,
          "y0": -0.5,
          "y1": 24.5
         },
         {
          "line": {
           "color": "white",
           "width": 2
          },
          "type": "line",
          "x0": 9.5,
          "x1": 9.5,
          "y0": -0.5,
          "y1": 24.5
         },
         {
          "line": {
           "color": "white",
           "width": 2
          },
          "type": "line",
          "x0": 10.5,
          "x1": 10.5,
          "y0": -0.5,
          "y1": 24.5
         },
         {
          "line": {
           "color": "white",
           "width": 2
          },
          "type": "line",
          "x0": 11.5,
          "x1": 11.5,
          "y0": -0.5,
          "y1": 24.5
         },
         {
          "line": {
           "color": "white",
           "width": 2
          },
          "type": "line",
          "x0": 12.5,
          "x1": 12.5,
          "y0": -0.5,
          "y1": 24.5
         },
         {
          "line": {
           "color": "white",
           "width": 2
          },
          "type": "line",
          "x0": 13.5,
          "x1": 13.5,
          "y0": -0.5,
          "y1": 24.5
         },
         {
          "line": {
           "color": "white",
           "width": 2
          },
          "type": "line",
          "x0": 14.5,
          "x1": 14.5,
          "y0": -0.5,
          "y1": 24.5
         },
         {
          "line": {
           "color": "white",
           "width": 2
          },
          "type": "line",
          "x0": 15.5,
          "x1": 15.5,
          "y0": -0.5,
          "y1": 24.5
         },
         {
          "line": {
           "color": "white",
           "width": 2
          },
          "type": "line",
          "x0": 16.5,
          "x1": 16.5,
          "y0": -0.5,
          "y1": 24.5
         },
         {
          "line": {
           "color": "white",
           "width": 2
          },
          "type": "line",
          "x0": 17.5,
          "x1": 17.5,
          "y0": -0.5,
          "y1": 24.5
         },
         {
          "line": {
           "color": "white",
           "width": 2
          },
          "type": "line",
          "x0": -0.5,
          "x1": 17.5,
          "y0": 0.5,
          "y1": 0.5
         },
         {
          "line": {
           "color": "white",
           "width": 2
          },
          "type": "line",
          "x0": -0.5,
          "x1": 17.5,
          "y0": 1.5,
          "y1": 1.5
         },
         {
          "line": {
           "color": "white",
           "width": 2
          },
          "type": "line",
          "x0": -0.5,
          "x1": 17.5,
          "y0": 2.5,
          "y1": 2.5
         },
         {
          "line": {
           "color": "white",
           "width": 2
          },
          "type": "line",
          "x0": -0.5,
          "x1": 17.5,
          "y0": 3.5,
          "y1": 3.5
         },
         {
          "line": {
           "color": "white",
           "width": 2
          },
          "type": "line",
          "x0": -0.5,
          "x1": 17.5,
          "y0": 4.5,
          "y1": 4.5
         },
         {
          "line": {
           "color": "white",
           "width": 2
          },
          "type": "line",
          "x0": -0.5,
          "x1": 17.5,
          "y0": 5.5,
          "y1": 5.5
         },
         {
          "line": {
           "color": "white",
           "width": 2
          },
          "type": "line",
          "x0": -0.5,
          "x1": 17.5,
          "y0": 6.5,
          "y1": 6.5
         },
         {
          "line": {
           "color": "white",
           "width": 2
          },
          "type": "line",
          "x0": -0.5,
          "x1": 17.5,
          "y0": 7.5,
          "y1": 7.5
         },
         {
          "line": {
           "color": "white",
           "width": 2
          },
          "type": "line",
          "x0": -0.5,
          "x1": 17.5,
          "y0": 8.5,
          "y1": 8.5
         },
         {
          "line": {
           "color": "white",
           "width": 2
          },
          "type": "line",
          "x0": -0.5,
          "x1": 17.5,
          "y0": 9.5,
          "y1": 9.5
         },
         {
          "line": {
           "color": "white",
           "width": 2
          },
          "type": "line",
          "x0": -0.5,
          "x1": 17.5,
          "y0": 10.5,
          "y1": 10.5
         },
         {
          "line": {
           "color": "white",
           "width": 2
          },
          "type": "line",
          "x0": -0.5,
          "x1": 17.5,
          "y0": 11.5,
          "y1": 11.5
         },
         {
          "line": {
           "color": "white",
           "width": 2
          },
          "type": "line",
          "x0": -0.5,
          "x1": 17.5,
          "y0": 12.5,
          "y1": 12.5
         },
         {
          "line": {
           "color": "white",
           "width": 2
          },
          "type": "line",
          "x0": -0.5,
          "x1": 17.5,
          "y0": 13.5,
          "y1": 13.5
         },
         {
          "line": {
           "color": "white",
           "width": 2
          },
          "type": "line",
          "x0": -0.5,
          "x1": 17.5,
          "y0": 14.5,
          "y1": 14.5
         },
         {
          "line": {
           "color": "white",
           "width": 2
          },
          "type": "line",
          "x0": -0.5,
          "x1": 17.5,
          "y0": 15.5,
          "y1": 15.5
         },
         {
          "line": {
           "color": "white",
           "width": 2
          },
          "type": "line",
          "x0": -0.5,
          "x1": 17.5,
          "y0": 16.5,
          "y1": 16.5
         },
         {
          "line": {
           "color": "white",
           "width": 2
          },
          "type": "line",
          "x0": -0.5,
          "x1": 17.5,
          "y0": 17.5,
          "y1": 17.5
         },
         {
          "line": {
           "color": "white",
           "width": 2
          },
          "type": "line",
          "x0": -0.5,
          "x1": 17.5,
          "y0": 18.5,
          "y1": 18.5
         },
         {
          "line": {
           "color": "white",
           "width": 2
          },
          "type": "line",
          "x0": -0.5,
          "x1": 17.5,
          "y0": 19.5,
          "y1": 19.5
         },
         {
          "line": {
           "color": "white",
           "width": 2
          },
          "type": "line",
          "x0": -0.5,
          "x1": 17.5,
          "y0": 20.5,
          "y1": 20.5
         },
         {
          "line": {
           "color": "white",
           "width": 2
          },
          "type": "line",
          "x0": -0.5,
          "x1": 17.5,
          "y0": 21.5,
          "y1": 21.5
         },
         {
          "line": {
           "color": "white",
           "width": 2
          },
          "type": "line",
          "x0": -0.5,
          "x1": 17.5,
          "y0": 22.5,
          "y1": 22.5
         },
         {
          "line": {
           "color": "white",
           "width": 2
          },
          "type": "line",
          "x0": -0.5,
          "x1": 17.5,
          "y0": 23.5,
          "y1": 23.5
         },
         {
          "line": {
           "color": "white",
           "width": 2
          },
          "type": "line",
          "x0": -0.5,
          "x1": 17.5,
          "y0": 24.5,
          "y1": 24.5
         }
        ],
        "template": {
         "data": {
          "bar": [
           {
            "error_x": {
             "color": "#2a3f5f"
            },
            "error_y": {
             "color": "#2a3f5f"
            },
            "marker": {
             "line": {
              "color": "#E5ECF6",
              "width": 0.5
             },
             "pattern": {
              "fillmode": "overlay",
              "size": 10,
              "solidity": 0.2
             }
            },
            "type": "bar"
           }
          ],
          "barpolar": [
           {
            "marker": {
             "line": {
              "color": "#E5ECF6",
              "width": 0.5
             },
             "pattern": {
              "fillmode": "overlay",
              "size": 10,
              "solidity": 0.2
             }
            },
            "type": "barpolar"
           }
          ],
          "carpet": [
           {
            "aaxis": {
             "endlinecolor": "#2a3f5f",
             "gridcolor": "white",
             "linecolor": "white",
             "minorgridcolor": "white",
             "startlinecolor": "#2a3f5f"
            },
            "baxis": {
             "endlinecolor": "#2a3f5f",
             "gridcolor": "white",
             "linecolor": "white",
             "minorgridcolor": "white",
             "startlinecolor": "#2a3f5f"
            },
            "type": "carpet"
           }
          ],
          "choropleth": [
           {
            "colorbar": {
             "outlinewidth": 0,
             "ticks": ""
            },
            "type": "choropleth"
           }
          ],
          "contour": [
           {
            "colorbar": {
             "outlinewidth": 0,
             "ticks": ""
            },
            "colorscale": [
             [
              0,
              "#0d0887"
             ],
             [
              0.1111111111111111,
              "#46039f"
             ],
             [
              0.2222222222222222,
              "#7201a8"
             ],
             [
              0.3333333333333333,
              "#9c179e"
             ],
             [
              0.4444444444444444,
              "#bd3786"
             ],
             [
              0.5555555555555556,
              "#d8576b"
             ],
             [
              0.6666666666666666,
              "#ed7953"
             ],
             [
              0.7777777777777778,
              "#fb9f3a"
             ],
             [
              0.8888888888888888,
              "#fdca26"
             ],
             [
              1,
              "#f0f921"
             ]
            ],
            "type": "contour"
           }
          ],
          "contourcarpet": [
           {
            "colorbar": {
             "outlinewidth": 0,
             "ticks": ""
            },
            "type": "contourcarpet"
           }
          ],
          "heatmap": [
           {
            "colorbar": {
             "outlinewidth": 0,
             "ticks": ""
            },
            "colorscale": [
             [
              0,
              "#0d0887"
             ],
             [
              0.1111111111111111,
              "#46039f"
             ],
             [
              0.2222222222222222,
              "#7201a8"
             ],
             [
              0.3333333333333333,
              "#9c179e"
             ],
             [
              0.4444444444444444,
              "#bd3786"
             ],
             [
              0.5555555555555556,
              "#d8576b"
             ],
             [
              0.6666666666666666,
              "#ed7953"
             ],
             [
              0.7777777777777778,
              "#fb9f3a"
             ],
             [
              0.8888888888888888,
              "#fdca26"
             ],
             [
              1,
              "#f0f921"
             ]
            ],
            "type": "heatmap"
           }
          ],
          "heatmapgl": [
           {
            "colorbar": {
             "outlinewidth": 0,
             "ticks": ""
            },
            "colorscale": [
             [
              0,
              "#0d0887"
             ],
             [
              0.1111111111111111,
              "#46039f"
             ],
             [
              0.2222222222222222,
              "#7201a8"
             ],
             [
              0.3333333333333333,
              "#9c179e"
             ],
             [
              0.4444444444444444,
              "#bd3786"
             ],
             [
              0.5555555555555556,
              "#d8576b"
             ],
             [
              0.6666666666666666,
              "#ed7953"
             ],
             [
              0.7777777777777778,
              "#fb9f3a"
             ],
             [
              0.8888888888888888,
              "#fdca26"
             ],
             [
              1,
              "#f0f921"
             ]
            ],
            "type": "heatmapgl"
           }
          ],
          "histogram": [
           {
            "marker": {
             "pattern": {
              "fillmode": "overlay",
              "size": 10,
              "solidity": 0.2
             }
            },
            "type": "histogram"
           }
          ],
          "histogram2d": [
           {
            "colorbar": {
             "outlinewidth": 0,
             "ticks": ""
            },
            "colorscale": [
             [
              0,
              "#0d0887"
             ],
             [
              0.1111111111111111,
              "#46039f"
             ],
             [
              0.2222222222222222,
              "#7201a8"
             ],
             [
              0.3333333333333333,
              "#9c179e"
             ],
             [
              0.4444444444444444,
              "#bd3786"
             ],
             [
              0.5555555555555556,
              "#d8576b"
             ],
             [
              0.6666666666666666,
              "#ed7953"
             ],
             [
              0.7777777777777778,
              "#fb9f3a"
             ],
             [
              0.8888888888888888,
              "#fdca26"
             ],
             [
              1,
              "#f0f921"
             ]
            ],
            "type": "histogram2d"
           }
          ],
          "histogram2dcontour": [
           {
            "colorbar": {
             "outlinewidth": 0,
             "ticks": ""
            },
            "colorscale": [
             [
              0,
              "#0d0887"
             ],
             [
              0.1111111111111111,
              "#46039f"
             ],
             [
              0.2222222222222222,
              "#7201a8"
             ],
             [
              0.3333333333333333,
              "#9c179e"
             ],
             [
              0.4444444444444444,
              "#bd3786"
             ],
             [
              0.5555555555555556,
              "#d8576b"
             ],
             [
              0.6666666666666666,
              "#ed7953"
             ],
             [
              0.7777777777777778,
              "#fb9f3a"
             ],
             [
              0.8888888888888888,
              "#fdca26"
             ],
             [
              1,
              "#f0f921"
             ]
            ],
            "type": "histogram2dcontour"
           }
          ],
          "mesh3d": [
           {
            "colorbar": {
             "outlinewidth": 0,
             "ticks": ""
            },
            "type": "mesh3d"
           }
          ],
          "parcoords": [
           {
            "line": {
             "colorbar": {
              "outlinewidth": 0,
              "ticks": ""
             }
            },
            "type": "parcoords"
           }
          ],
          "pie": [
           {
            "automargin": true,
            "type": "pie"
           }
          ],
          "scatter": [
           {
            "fillpattern": {
             "fillmode": "overlay",
             "size": 10,
             "solidity": 0.2
            },
            "type": "scatter"
           }
          ],
          "scatter3d": [
           {
            "line": {
             "colorbar": {
              "outlinewidth": 0,
              "ticks": ""
             }
            },
            "marker": {
             "colorbar": {
              "outlinewidth": 0,
              "ticks": ""
             }
            },
            "type": "scatter3d"
           }
          ],
          "scattercarpet": [
           {
            "marker": {
             "colorbar": {
              "outlinewidth": 0,
              "ticks": ""
             }
            },
            "type": "scattercarpet"
           }
          ],
          "scattergeo": [
           {
            "marker": {
             "colorbar": {
              "outlinewidth": 0,
              "ticks": ""
             }
            },
            "type": "scattergeo"
           }
          ],
          "scattergl": [
           {
            "marker": {
             "colorbar": {
              "outlinewidth": 0,
              "ticks": ""
             }
            },
            "type": "scattergl"
           }
          ],
          "scattermapbox": [
           {
            "marker": {
             "colorbar": {
              "outlinewidth": 0,
              "ticks": ""
             }
            },
            "type": "scattermapbox"
           }
          ],
          "scatterpolar": [
           {
            "marker": {
             "colorbar": {
              "outlinewidth": 0,
              "ticks": ""
             }
            },
            "type": "scatterpolar"
           }
          ],
          "scatterpolargl": [
           {
            "marker": {
             "colorbar": {
              "outlinewidth": 0,
              "ticks": ""
             }
            },
            "type": "scatterpolargl"
           }
          ],
          "scatterternary": [
           {
            "marker": {
             "colorbar": {
              "outlinewidth": 0,
              "ticks": ""
             }
            },
            "type": "scatterternary"
           }
          ],
          "surface": [
           {
            "colorbar": {
             "outlinewidth": 0,
             "ticks": ""
            },
            "colorscale": [
             [
              0,
              "#0d0887"
             ],
             [
              0.1111111111111111,
              "#46039f"
             ],
             [
              0.2222222222222222,
              "#7201a8"
             ],
             [
              0.3333333333333333,
              "#9c179e"
             ],
             [
              0.4444444444444444,
              "#bd3786"
             ],
             [
              0.5555555555555556,
              "#d8576b"
             ],
             [
              0.6666666666666666,
              "#ed7953"
             ],
             [
              0.7777777777777778,
              "#fb9f3a"
             ],
             [
              0.8888888888888888,
              "#fdca26"
             ],
             [
              1,
              "#f0f921"
             ]
            ],
            "type": "surface"
           }
          ],
          "table": [
           {
            "cells": {
             "fill": {
              "color": "#EBF0F8"
             },
             "line": {
              "color": "white"
             }
            },
            "header": {
             "fill": {
              "color": "#C8D4E3"
             },
             "line": {
              "color": "white"
             }
            },
            "type": "table"
           }
          ]
         },
         "layout": {
          "annotationdefaults": {
           "arrowcolor": "#2a3f5f",
           "arrowhead": 0,
           "arrowwidth": 1
          },
          "autotypenumbers": "strict",
          "coloraxis": {
           "colorbar": {
            "outlinewidth": 0,
            "ticks": ""
           }
          },
          "colorscale": {
           "diverging": [
            [
             0,
             "#8e0152"
            ],
            [
             0.1,
             "#c51b7d"
            ],
            [
             0.2,
             "#de77ae"
            ],
            [
             0.3,
             "#f1b6da"
            ],
            [
             0.4,
             "#fde0ef"
            ],
            [
             0.5,
             "#f7f7f7"
            ],
            [
             0.6,
             "#e6f5d0"
            ],
            [
             0.7,
             "#b8e186"
            ],
            [
             0.8,
             "#7fbc41"
            ],
            [
             0.9,
             "#4d9221"
            ],
            [
             1,
             "#276419"
            ]
           ],
           "sequential": [
            [
             0,
             "#0d0887"
            ],
            [
             0.1111111111111111,
             "#46039f"
            ],
            [
             0.2222222222222222,
             "#7201a8"
            ],
            [
             0.3333333333333333,
             "#9c179e"
            ],
            [
             0.4444444444444444,
             "#bd3786"
            ],
            [
             0.5555555555555556,
             "#d8576b"
            ],
            [
             0.6666666666666666,
             "#ed7953"
            ],
            [
             0.7777777777777778,
             "#fb9f3a"
            ],
            [
             0.8888888888888888,
             "#fdca26"
            ],
            [
             1,
             "#f0f921"
            ]
           ],
           "sequentialminus": [
            [
             0,
             "#0d0887"
            ],
            [
             0.1111111111111111,
             "#46039f"
            ],
            [
             0.2222222222222222,
             "#7201a8"
            ],
            [
             0.3333333333333333,
             "#9c179e"
            ],
            [
             0.4444444444444444,
             "#bd3786"
            ],
            [
             0.5555555555555556,
             "#d8576b"
            ],
            [
             0.6666666666666666,
             "#ed7953"
            ],
            [
             0.7777777777777778,
             "#fb9f3a"
            ],
            [
             0.8888888888888888,
             "#fdca26"
            ],
            [
             1,
             "#f0f921"
            ]
           ]
          },
          "colorway": [
           "#636efa",
           "#EF553B",
           "#00cc96",
           "#ab63fa",
           "#FFA15A",
           "#19d3f3",
           "#FF6692",
           "#B6E880",
           "#FF97FF",
           "#FECB52"
          ],
          "font": {
           "color": "#2a3f5f"
          },
          "geo": {
           "bgcolor": "white",
           "lakecolor": "white",
           "landcolor": "#E5ECF6",
           "showlakes": true,
           "showland": true,
           "subunitcolor": "white"
          },
          "hoverlabel": {
           "align": "left"
          },
          "hovermode": "closest",
          "mapbox": {
           "style": "light"
          },
          "paper_bgcolor": "white",
          "plot_bgcolor": "#E5ECF6",
          "polar": {
           "angularaxis": {
            "gridcolor": "white",
            "linecolor": "white",
            "ticks": ""
           },
           "bgcolor": "#E5ECF6",
           "radialaxis": {
            "gridcolor": "white",
            "linecolor": "white",
            "ticks": ""
           }
          },
          "scene": {
           "xaxis": {
            "backgroundcolor": "#E5ECF6",
            "gridcolor": "white",
            "gridwidth": 2,
            "linecolor": "white",
            "showbackground": true,
            "ticks": "",
            "zerolinecolor": "white"
           },
           "yaxis": {
            "backgroundcolor": "#E5ECF6",
            "gridcolor": "white",
            "gridwidth": 2,
            "linecolor": "white",
            "showbackground": true,
            "ticks": "",
            "zerolinecolor": "white"
           },
           "zaxis": {
            "backgroundcolor": "#E5ECF6",
            "gridcolor": "white",
            "gridwidth": 2,
            "linecolor": "white",
            "showbackground": true,
            "ticks": "",
            "zerolinecolor": "white"
           }
          },
          "shapedefaults": {
           "line": {
            "color": "#2a3f5f"
           }
          },
          "ternary": {
           "aaxis": {
            "gridcolor": "white",
            "linecolor": "white",
            "ticks": ""
           },
           "baxis": {
            "gridcolor": "white",
            "linecolor": "white",
            "ticks": ""
           },
           "bgcolor": "#E5ECF6",
           "caxis": {
            "gridcolor": "white",
            "linecolor": "white",
            "ticks": ""
           }
          },
          "title": {
           "x": 0.05
          },
          "xaxis": {
           "automargin": true,
           "gridcolor": "white",
           "linecolor": "white",
           "ticks": "",
           "title": {
            "standoff": 15
           },
           "zerolinecolor": "white",
           "zerolinewidth": 2
          },
          "yaxis": {
           "automargin": true,
           "gridcolor": "white",
           "linecolor": "white",
           "ticks": "",
           "title": {
            "standoff": 15
           },
           "zerolinecolor": "white",
           "zerolinewidth": 2
          }
         }
        },
        "width": 930,
        "xaxis": {
         "anchor": "y",
         "autorange": true,
         "constrain": "domain",
         "domain": [
          0.14540829986613124,
          0.8545917001338688
         ],
         "range": [
          -0.534106412005457,
          17.534106412005457
         ],
         "scaleanchor": "y",
         "type": "linear"
        },
        "yaxis": {
         "anchor": "x",
         "autorange": true,
         "constrain": "domain",
         "domain": [
          0,
          1
         ],
         "range": [
          24.534106412005457,
          -0.534106412005457
         ],
         "type": "linear"
        }
       }
      },
      "image/png": "[encoded data removed]",
      "text/html": [
       "<div>                            <div id=\"030a195a-3d54-4ed1-b464-cd17f69f7f79\" class=\"plotly-graph-div\" style=\"height:875px; width:930px;\"></div>            <script type=\"text/javascript\">                require([\"plotly\"], function(Plotly) {                    window.PLOTLYENV=window.PLOTLYENV || {};                                    if (document.getElementById(\"030a195a-3d54-4ed1-b464-cd17f69f7f79\")) {                    Plotly.newPlot(                        \"030a195a-3d54-4ed1-b464-cd17f69f7f79\",                        [{\"coloraxis\":\"coloraxis\",\"name\":\"0\",\"x\":[0,1,2,3,4,5,6,7,8,9,10,11,12,13,14,15,16,17],\"y\":[0,1,2,3,4,5,6,7,8,9,10,11,12,13,14,15,16,17,18,19,20,21,22,23,24],\"z\":[[1.0,1.0,0.8660254037844387,0.0,0.0,1.0,1.0,1.0,0.0,0.0,0.8947368421052632,0.8947368421052632,0.6668859288553503,0.0,0.0,1.0,1.0,1.0],[1.0,1.0,1.0,0.0,0.0,1.0,1.0,1.0,0.0,0.0,1.0,1.0,1.0,0.0,0.0,1.0,1.0,1.0],[1.0,1.0,1.0,0.0,0.0,1.0,1.0,1.0,0.0,0.0,0.7,0.9,0.2,0.0,0.0,1.0,1.0,1.0],[1.0,1.0,1.0,0.0,0.0,1.0,1.0,1.0,0.0,0.0,0.917662935482247,0.917662935482247,0.917662935482247,0.0,0.0,1.0,0.816496580927726,1.0],[1.0,1.0,1.0,0.0,0.0,0.6842105263157895,0.6842105263157895,-0.1578947368421052,0.0,0.0,-0.5,0.5,-1.0,0.0,0.0,1.0,1.0,1.0],[1.0,1.0,1.0,0.0,0.0,-1.0,-1.0,-1.0,0.0,0.0,0.9710083124552245,0.9710083124552245,0.8827348295047495,0.0,0.0,-1.0,-1.0,-1.0],[1.0,1.0,1.0,0.0,0.0,1.0,1.0,1.0,0.0,0.0,1.0,1.0,1.0,0.0,0.0,1.0,1.0,1.0],[1.0,1.0,1.0,0.0,0.0,1.0,1.0,1.0,0.0,0.0,1.0,1.0,1.0,0.0,0.0,0.5,1.0,1.0],[0.5,0.5,0.5,0.0,0.0,1.0,1.0,1.0,0.0,0.0,-0.0895622151039798,-0.0909090909090909,-0.8181818181818182,0.0,0.0,0.9,0.9,0.9],[0.5,0.5,-0.5,0.0,0.0,1.0,1.0,1.0,0.0,0.0,-1.0,-1.0,-1.0,0.0,0.0,0.7758801774444581,0.7758801774444581,0.7758801774444581],[1.0,1.0,1.0,0.0,0.0,0.8867924528301887,1.0,0.8867924528301887,0.0,0.0,1.0,0.5,-0.5,0.0,0.0,0.8944271909999159,0.8944271909999159,0.8944271909999159],[1.0,1.0,0.8,0.0,0.0,1.0,1.0,1.0,0.0,0.0,0.816496580927726,0.816496580927726,0.816496580927726,0.0,0.0,0.5,0.5,0.5],[0.6666666666666666,0.7777777777777778,0.7777777777777778,0.0,0.0,1.0,1.0,1.0,0.0,0.0,-1.0,-1.0,-1.0,0.0,0.0,1.0,1.0,1.0],[1.0,1.0,1.0,0.0,0.0,1.0,1.0,1.0,0.0,0.0,0.8,0.8,0.4,0.0,0.0,0.3333333333333333,0.3333333333333333,0.3333333333333333],[0.5,0.5,0.5,0.0,0.0,1.0,1.0,1.0,0.0,0.0,1.0,1.0,1.0,0.0,0.0,1.0,1.0,1.0],[1.0,1.0,1.0,0.0,0.0,0.5642880936468347,-0.1578947368421052,-0.3684210526315789,0.0,0.0,1.0,1.0,1.0,0.0,0.0,1.0,1.0,1.0],[1.0,1.0,1.0,0.0,0.0,1.0,1.0,1.0,0.0,0.0,0.7071067811865475,0.7071067811865475,0.7071067811865475,0.0,0.0,1.0,0.5,0.5],[1.0,1.0,1.0,0.0,0.0,1.0,1.0,1.0,0.0,0.0,0.7905694150420948,0.7905694150420948,0.7905694150420948,0.0,0.0,1.0,1.0,1.0],[1.0,1.0,1.0,0.0,0.0,-1.0,-1.0,-1.0,0.0,0.0,0.8660254037844387,0.8660254037844387,0.8660254037844387,0.0,0.0,-0.1309307341415954,-0.1309307341415954,0.6546536707079772],[1.0,1.0,1.0,0.0,0.0,0.6071428571428571,0.9285714285714286,0.1785714285714285,0.0,0.0,1.0,0.7637626158259733,1.0,0.0,0.0,0.5368515688594936,0.5368515688594936,0.5368515688594936],[1.0,1.0,-0.5,0.0,0.0,0.0857142857142857,0.0857142857142857,-0.6571428571428571,0.0,0.0,0.641688947919748,0.641688947919748,0.641688947919748,0.0,0.0,0.7254762501100117,0.7254762501100117,0.7254762501100117],[1.0,1.0,1.0,0.0,0.0,-0.0285714285714285,-0.0285714285714285,-0.7714285714285715,0.0,0.0,1.0,1.0,1.0,0.0,0.0,1.0,1.0,1.0],[-1.0,-1.0,-1.0,0.0,0.0,0.6981132075471698,1.0,0.0943396226415094,0.0,0.0,0.7254762501100117,0.7453559924999299,0.7453559924999299,0.0,0.0,1.0,1.0,1.0],[1.0,1.0,1.0,0.0,0.0,-0.5789473684210527,-0.5789473684210527,-0.5789473684210527,0.0,0.0,1.0,1.0,1.0,0.0,0.0,1.0,1.0,1.0],[-1.0,-1.0,-1.0,0.0,0.0,-0.7378647873726218,-0.7777777777777778,-1.0,0.0,0.0,1.0,1.0,1.0,0.0,0.0,1.0,1.0,1.0]],\"type\":\"heatmap\",\"xaxis\":\"x\",\"yaxis\":\"y\",\"hovertemplate\":\"x: %{x}\\u003cbr\\u003ey: %{y}\\u003cbr\\u003ecolor: %{z}\\u003cextra\\u003e\\u003c\\u002fextra\\u003e\"}],                        {\"template\":{\"data\":{\"histogram2dcontour\":[{\"type\":\"histogram2dcontour\",\"colorbar\":{\"outlinewidth\":0,\"ticks\":\"\"},\"colorscale\":[[0.0,\"#0d0887\"],[0.1111111111111111,\"#46039f\"],[0.2222222222222222,\"#7201a8\"],[0.3333333333333333,\"#9c179e\"],[0.4444444444444444,\"#bd3786\"],[0.5555555555555556,\"#d8576b\"],[0.6666666666666666,\"#ed7953\"],[0.7777777777777778,\"#fb9f3a\"],[0.8888888888888888,\"#fdca26\"],[1.0,\"#f0f921\"]]}],\"choropleth\":[{\"type\":\"choropleth\",\"colorbar\":{\"outlinewidth\":0,\"ticks\":\"\"}}],\"histogram2d\":[{\"type\":\"histogram2d\",\"colorbar\":{\"outlinewidth\":0,\"ticks\":\"\"},\"colorscale\":[[0.0,\"#0d0887\"],[0.1111111111111111,\"#46039f\"],[0.2222222222222222,\"#7201a8\"],[0.3333333333333333,\"#9c179e\"],[0.4444444444444444,\"#bd3786\"],[0.5555555555555556,\"#d8576b\"],[0.6666666666666666,\"#ed7953\"],[0.7777777777777778,\"#fb9f3a\"],[0.8888888888888888,\"#fdca26\"],[1.0,\"#f0f921\"]]}],\"heatmap\":[{\"type\":\"heatmap\",\"colorbar\":{\"outlinewidth\":0,\"ticks\":\"\"},\"colorscale\":[[0.0,\"#0d0887\"],[0.1111111111111111,\"#46039f\"],[0.2222222222222222,\"#7201a8\"],[0.3333333333333333,\"#9c179e\"],[0.4444444444444444,\"#bd3786\"],[0.5555555555555556,\"#d8576b\"],[0.6666666666666666,\"#ed7953\"],[0.7777777777777778,\"#fb9f3a\"],[0.8888888888888888,\"#fdca26\"],[1.0,\"#f0f921\"]]}],\"heatmapgl\":[{\"type\":\"heatmapgl\",\"colorbar\":{\"outlinewidth\":0,\"ticks\":\"\"},\"colorscale\":[[0.0,\"#0d0887\"],[0.1111111111111111,\"#46039f\"],[0.2222222222222222,\"#7201a8\"],[0.3333333333333333,\"#9c179e\"],[0.4444444444444444,\"#bd3786\"],[0.5555555555555556,\"#d8576b\"],[0.6666666666666666,\"#ed7953\"],[0.7777777777777778,\"#fb9f3a\"],[0.8888888888888888,\"#fdca26\"],[1.0,\"#f0f921\"]]}],\"contourcarpet\":[{\"type\":\"contourcarpet\",\"colorbar\":{\"outlinewidth\":0,\"ticks\":\"\"}}],\"contour\":[{\"type\":\"contour\",\"colorbar\":{\"outlinewidth\":0,\"ticks\":\"\"},\"colorscale\":[[0.0,\"#0d0887\"],[0.1111111111111111,\"#46039f\"],[0.2222222222222222,\"#7201a8\"],[0.3333333333333333,\"#9c179e\"],[0.4444444444444444,\"#bd3786\"],[0.5555555555555556,\"#d8576b\"],[0.6666666666666666,\"#ed7953\"],[0.7777777777777778,\"#fb9f3a\"],[0.8888888888888888,\"#fdca26\"],[1.0,\"#f0f921\"]]}],\"surface\":[{\"type\":\"surface\",\"colorbar\":{\"outlinewidth\":0,\"ticks\":\"\"},\"colorscale\":[[0.0,\"#0d0887\"],[0.1111111111111111,\"#46039f\"],[0.2222222222222222,\"#7201a8\"],[0.3333333333333333,\"#9c179e\"],[0.4444444444444444,\"#bd3786\"],[0.5555555555555556,\"#d8576b\"],[0.6666666666666666,\"#ed7953\"],[0.7777777777777778,\"#fb9f3a\"],[0.8888888888888888,\"#fdca26\"],[1.0,\"#f0f921\"]]}],\"mesh3d\":[{\"type\":\"mesh3d\",\"colorbar\":{\"outlinewidth\":0,\"ticks\":\"\"}}],\"scatter\":[{\"fillpattern\":{\"fillmode\":\"overlay\",\"size\":10,\"solidity\":0.2},\"type\":\"scatter\"}],\"parcoords\":[{\"type\":\"parcoords\",\"line\":{\"colorbar\":{\"outlinewidth\":0,\"ticks\":\"\"}}}],\"scatterpolargl\":[{\"type\":\"scatterpolargl\",\"marker\":{\"colorbar\":{\"outlinewidth\":0,\"ticks\":\"\"}}}],\"bar\":[{\"error_x\":{\"color\":\"#2a3f5f\"},\"error_y\":{\"color\":\"#2a3f5f\"},\"marker\":{\"line\":{\"color\":\"#E5ECF6\",\"width\":0.5},\"pattern\":{\"fillmode\":\"overlay\",\"size\":10,\"solidity\":0.2}},\"type\":\"bar\"}],\"scattergeo\":[{\"type\":\"scattergeo\",\"marker\":{\"colorbar\":{\"outlinewidth\":0,\"ticks\":\"\"}}}],\"scatterpolar\":[{\"type\":\"scatterpolar\",\"marker\":{\"colorbar\":{\"outlinewidth\":0,\"ticks\":\"\"}}}],\"histogram\":[{\"marker\":{\"pattern\":{\"fillmode\":\"overlay\",\"size\":10,\"solidity\":0.2}},\"type\":\"histogram\"}],\"scattergl\":[{\"type\":\"scattergl\",\"marker\":{\"colorbar\":{\"outlinewidth\":0,\"ticks\":\"\"}}}],\"scatter3d\":[{\"type\":\"scatter3d\",\"line\":{\"colorbar\":{\"outlinewidth\":0,\"ticks\":\"\"}},\"marker\":{\"colorbar\":{\"outlinewidth\":0,\"ticks\":\"\"}}}],\"scattermapbox\":[{\"type\":\"scattermapbox\",\"marker\":{\"colorbar\":{\"outlinewidth\":0,\"ticks\":\"\"}}}],\"scatterternary\":[{\"type\":\"scatterternary\",\"marker\":{\"colorbar\":{\"outlinewidth\":0,\"ticks\":\"\"}}}],\"scattercarpet\":[{\"type\":\"scattercarpet\",\"marker\":{\"colorbar\":{\"outlinewidth\":0,\"ticks\":\"\"}}}],\"carpet\":[{\"aaxis\":{\"endlinecolor\":\"#2a3f5f\",\"gridcolor\":\"white\",\"linecolor\":\"white\",\"minorgridcolor\":\"white\",\"startlinecolor\":\"#2a3f5f\"},\"baxis\":{\"endlinecolor\":\"#2a3f5f\",\"gridcolor\":\"white\",\"linecolor\":\"white\",\"minorgridcolor\":\"white\",\"startlinecolor\":\"#2a3f5f\"},\"type\":\"carpet\"}],\"table\":[{\"cells\":{\"fill\":{\"color\":\"#EBF0F8\"},\"line\":{\"color\":\"white\"}},\"header\":{\"fill\":{\"color\":\"#C8D4E3\"},\"line\":{\"color\":\"white\"}},\"type\":\"table\"}],\"barpolar\":[{\"marker\":{\"line\":{\"color\":\"#E5ECF6\",\"width\":0.5},\"pattern\":{\"fillmode\":\"overlay\",\"size\":10,\"solidity\":0.2}},\"type\":\"barpolar\"}],\"pie\":[{\"automargin\":true,\"type\":\"pie\"}]},\"layout\":{\"autotypenumbers\":\"strict\",\"colorway\":[\"#636efa\",\"#EF553B\",\"#00cc96\",\"#ab63fa\",\"#FFA15A\",\"#19d3f3\",\"#FF6692\",\"#B6E880\",\"#FF97FF\",\"#FECB52\"],\"font\":{\"color\":\"#2a3f5f\"},\"hovermode\":\"closest\",\"hoverlabel\":{\"align\":\"left\"},\"paper_bgcolor\":\"white\",\"plot_bgcolor\":\"#E5ECF6\",\"polar\":{\"bgcolor\":\"#E5ECF6\",\"angularaxis\":{\"gridcolor\":\"white\",\"linecolor\":\"white\",\"ticks\":\"\"},\"radialaxis\":{\"gridcolor\":\"white\",\"linecolor\":\"white\",\"ticks\":\"\"}},\"ternary\":{\"bgcolor\":\"#E5ECF6\",\"aaxis\":{\"gridcolor\":\"white\",\"linecolor\":\"white\",\"ticks\":\"\"},\"baxis\":{\"gridcolor\":\"white\",\"linecolor\":\"white\",\"ticks\":\"\"},\"caxis\":{\"gridcolor\":\"white\",\"linecolor\":\"white\",\"ticks\":\"\"}},\"coloraxis\":{\"colorbar\":{\"outlinewidth\":0,\"ticks\":\"\"}},\"colorscale\":{\"sequential\":[[0.0,\"#0d0887\"],[0.1111111111111111,\"#46039f\"],[0.2222222222222222,\"#7201a8\"],[0.3333333333333333,\"#9c179e\"],[0.4444444444444444,\"#bd3786\"],[0.5555555555555556,\"#d8576b\"],[0.6666666666666666,\"#ed7953\"],[0.7777777777777778,\"#fb9f3a\"],[0.8888888888888888,\"#fdca26\"],[1.0,\"#f0f921\"]],\"sequentialminus\":[[0.0,\"#0d0887\"],[0.1111111111111111,\"#46039f\"],[0.2222222222222222,\"#7201a8\"],[0.3333333333333333,\"#9c179e\"],[0.4444444444444444,\"#bd3786\"],[0.5555555555555556,\"#d8576b\"],[0.6666666666666666,\"#ed7953\"],[0.7777777777777778,\"#fb9f3a\"],[0.8888888888888888,\"#fdca26\"],[1.0,\"#f0f921\"]],\"diverging\":[[0,\"#8e0152\"],[0.1,\"#c51b7d\"],[0.2,\"#de77ae\"],[0.3,\"#f1b6da\"],[0.4,\"#fde0ef\"],[0.5,\"#f7f7f7\"],[0.6,\"#e6f5d0\"],[0.7,\"#b8e186\"],[0.8,\"#7fbc41\"],[0.9,\"#4d9221\"],[1,\"#276419\"]]},\"xaxis\":{\"gridcolor\":\"white\",\"linecolor\":\"white\",\"ticks\":\"\",\"title\":{\"standoff\":15},\"zerolinecolor\":\"white\",\"automargin\":true,\"zerolinewidth\":2},\"yaxis\":{\"gridcolor\":\"white\",\"linecolor\":\"white\",\"ticks\":\"\",\"title\":{\"standoff\":15},\"zerolinecolor\":\"white\",\"automargin\":true,\"zerolinewidth\":2},\"scene\":{\"xaxis\":{\"backgroundcolor\":\"#E5ECF6\",\"gridcolor\":\"white\",\"linecolor\":\"white\",\"showbackground\":true,\"ticks\":\"\",\"zerolinecolor\":\"white\",\"gridwidth\":2},\"yaxis\":{\"backgroundcolor\":\"#E5ECF6\",\"gridcolor\":\"white\",\"linecolor\":\"white\",\"showbackground\":true,\"ticks\":\"\",\"zerolinecolor\":\"white\",\"gridwidth\":2},\"zaxis\":{\"backgroundcolor\":\"#E5ECF6\",\"gridcolor\":\"white\",\"linecolor\":\"white\",\"showbackground\":true,\"ticks\":\"\",\"zerolinecolor\":\"white\",\"gridwidth\":2}},\"shapedefaults\":{\"line\":{\"color\":\"#2a3f5f\"}},\"annotationdefaults\":{\"arrowcolor\":\"#2a3f5f\",\"arrowhead\":0,\"arrowwidth\":1},\"geo\":{\"bgcolor\":\"white\",\"landcolor\":\"#E5ECF6\",\"subunitcolor\":\"white\",\"showland\":true,\"showlakes\":true,\"lakecolor\":\"white\"},\"title\":{\"x\":0.05},\"mapbox\":{\"style\":\"light\"}}},\"xaxis\":{\"anchor\":\"y\",\"domain\":[0.0,1.0],\"scaleanchor\":\"y\",\"constrain\":\"domain\"},\"yaxis\":{\"anchor\":\"x\",\"domain\":[0.0,1.0],\"autorange\":\"reversed\",\"constrain\":\"domain\"},\"coloraxis\":{\"colorscale\":[[0.0,\"rgb(103,0,31)\"],[0.1,\"rgb(178,24,43)\"],[0.2,\"rgb(214,96,77)\"],[0.3,\"rgb(244,165,130)\"],[0.4,\"rgb(253,219,199)\"],[0.5,\"rgb(247,247,247)\"],[0.6,\"rgb(209,229,240)\"],[0.7,\"rgb(146,197,222)\"],[0.8,\"rgb(67,147,195)\"],[0.9,\"rgb(33,102,172)\"],[1.0,\"rgb(5,48,97)\"]]},\"margin\":{\"t\":60},\"height\":875,\"width\":930,\"shapes\":[{\"line\":{\"color\":\"white\",\"width\":2},\"type\":\"line\",\"x0\":0.5,\"x1\":0.5,\"y0\":-0.5,\"y1\":24.5},{\"line\":{\"color\":\"white\",\"width\":2},\"type\":\"line\",\"x0\":1.5,\"x1\":1.5,\"y0\":-0.5,\"y1\":24.5},{\"line\":{\"color\":\"white\",\"width\":2},\"type\":\"line\",\"x0\":2.5,\"x1\":2.5,\"y0\":-0.5,\"y1\":24.5},{\"line\":{\"color\":\"white\",\"width\":2},\"type\":\"line\",\"x0\":3.5,\"x1\":3.5,\"y0\":-0.5,\"y1\":24.5},{\"line\":{\"color\":\"white\",\"width\":2},\"type\":\"line\",\"x0\":4.5,\"x1\":4.5,\"y0\":-0.5,\"y1\":24.5},{\"line\":{\"color\":\"white\",\"width\":2},\"type\":\"line\",\"x0\":5.5,\"x1\":5.5,\"y0\":-0.5,\"y1\":24.5},{\"line\":{\"color\":\"white\",\"width\":2},\"type\":\"line\",\"x0\":6.5,\"x1\":6.5,\"y0\":-0.5,\"y1\":24.5},{\"line\":{\"color\":\"white\",\"width\":2},\"type\":\"line\",\"x0\":7.5,\"x1\":7.5,\"y0\":-0.5,\"y1\":24.5},{\"line\":{\"color\":\"white\",\"width\":2},\"type\":\"line\",\"x0\":8.5,\"x1\":8.5,\"y0\":-0.5,\"y1\":24.5},{\"line\":{\"color\":\"white\",\"width\":2},\"type\":\"line\",\"x0\":9.5,\"x1\":9.5,\"y0\":-0.5,\"y1\":24.5},{\"line\":{\"color\":\"white\",\"width\":2},\"type\":\"line\",\"x0\":10.5,\"x1\":10.5,\"y0\":-0.5,\"y1\":24.5},{\"line\":{\"color\":\"white\",\"width\":2},\"type\":\"line\",\"x0\":11.5,\"x1\":11.5,\"y0\":-0.5,\"y1\":24.5},{\"line\":{\"color\":\"white\",\"width\":2},\"type\":\"line\",\"x0\":12.5,\"x1\":12.5,\"y0\":-0.5,\"y1\":24.5},{\"line\":{\"color\":\"white\",\"width\":2},\"type\":\"line\",\"x0\":13.5,\"x1\":13.5,\"y0\":-0.5,\"y1\":24.5},{\"line\":{\"color\":\"white\",\"width\":2},\"type\":\"line\",\"x0\":14.5,\"x1\":14.5,\"y0\":-0.5,\"y1\":24.5},{\"line\":{\"color\":\"white\",\"width\":2},\"type\":\"line\",\"x0\":15.5,\"x1\":15.5,\"y0\":-0.5,\"y1\":24.5},{\"line\":{\"color\":\"white\",\"width\":2},\"type\":\"line\",\"x0\":16.5,\"x1\":16.5,\"y0\":-0.5,\"y1\":24.5},{\"line\":{\"color\":\"white\",\"width\":2},\"type\":\"line\",\"x0\":17.5,\"x1\":17.5,\"y0\":-0.5,\"y1\":24.5},{\"line\":{\"color\":\"white\",\"width\":2},\"type\":\"line\",\"x0\":-0.5,\"x1\":17.5,\"y0\":0.5,\"y1\":0.5},{\"line\":{\"color\":\"white\",\"width\":2},\"type\":\"line\",\"x0\":-0.5,\"x1\":17.5,\"y0\":1.5,\"y1\":1.5},{\"line\":{\"color\":\"white\",\"width\":2},\"type\":\"line\",\"x0\":-0.5,\"x1\":17.5,\"y0\":2.5,\"y1\":2.5},{\"line\":{\"color\":\"white\",\"width\":2},\"type\":\"line\",\"x0\":-0.5,\"x1\":17.5,\"y0\":3.5,\"y1\":3.5},{\"line\":{\"color\":\"white\",\"width\":2},\"type\":\"line\",\"x0\":-0.5,\"x1\":17.5,\"y0\":4.5,\"y1\":4.5},{\"line\":{\"color\":\"white\",\"width\":2},\"type\":\"line\",\"x0\":-0.5,\"x1\":17.5,\"y0\":5.5,\"y1\":5.5},{\"line\":{\"color\":\"white\",\"width\":2},\"type\":\"line\",\"x0\":-0.5,\"x1\":17.5,\"y0\":6.5,\"y1\":6.5},{\"line\":{\"color\":\"white\",\"width\":2},\"type\":\"line\",\"x0\":-0.5,\"x1\":17.5,\"y0\":7.5,\"y1\":7.5},{\"line\":{\"color\":\"white\",\"width\":2},\"type\":\"line\",\"x0\":-0.5,\"x1\":17.5,\"y0\":8.5,\"y1\":8.5},{\"line\":{\"color\":\"white\",\"width\":2},\"type\":\"line\",\"x0\":-0.5,\"x1\":17.5,\"y0\":9.5,\"y1\":9.5},{\"line\":{\"color\":\"white\",\"width\":2},\"type\":\"line\",\"x0\":-0.5,\"x1\":17.5,\"y0\":10.5,\"y1\":10.5},{\"line\":{\"color\":\"white\",\"width\":2},\"type\":\"line\",\"x0\":-0.5,\"x1\":17.5,\"y0\":11.5,\"y1\":11.5},{\"line\":{\"color\":\"white\",\"width\":2},\"type\":\"line\",\"x0\":-0.5,\"x1\":17.5,\"y0\":12.5,\"y1\":12.5},{\"line\":{\"color\":\"white\",\"width\":2},\"type\":\"line\",\"x0\":-0.5,\"x1\":17.5,\"y0\":13.5,\"y1\":13.5},{\"line\":{\"color\":\"white\",\"width\":2},\"type\":\"line\",\"x0\":-0.5,\"x1\":17.5,\"y0\":14.5,\"y1\":14.5},{\"line\":{\"color\":\"white\",\"width\":2},\"type\":\"line\",\"x0\":-0.5,\"x1\":17.5,\"y0\":15.5,\"y1\":15.5},{\"line\":{\"color\":\"white\",\"width\":2},\"type\":\"line\",\"x0\":-0.5,\"x1\":17.5,\"y0\":16.5,\"y1\":16.5},{\"line\":{\"color\":\"white\",\"width\":2},\"type\":\"line\",\"x0\":-0.5,\"x1\":17.5,\"y0\":17.5,\"y1\":17.5},{\"line\":{\"color\":\"white\",\"width\":2},\"type\":\"line\",\"x0\":-0.5,\"x1\":17.5,\"y0\":18.5,\"y1\":18.5},{\"line\":{\"color\":\"white\",\"width\":2},\"type\":\"line\",\"x0\":-0.5,\"x1\":17.5,\"y0\":19.5,\"y1\":19.5},{\"line\":{\"color\":\"white\",\"width\":2},\"type\":\"line\",\"x0\":-0.5,\"x1\":17.5,\"y0\":20.5,\"y1\":20.5},{\"line\":{\"color\":\"white\",\"width\":2},\"type\":\"line\",\"x0\":-0.5,\"x1\":17.5,\"y0\":21.5,\"y1\":21.5},{\"line\":{\"color\":\"white\",\"width\":2},\"type\":\"line\",\"x0\":-0.5,\"x1\":17.5,\"y0\":22.5,\"y1\":22.5},{\"line\":{\"color\":\"white\",\"width\":2},\"type\":\"line\",\"x0\":-0.5,\"x1\":17.5,\"y0\":23.5,\"y1\":23.5},{\"line\":{\"color\":\"white\",\"width\":2},\"type\":\"line\",\"x0\":-0.5,\"x1\":17.5,\"y0\":24.5,\"y1\":24.5}]},                        {\"responsive\": true}                    ).then(function(){\n",
       "                            \n",
       "var gd = document.getElementById('030a195a-3d54-4ed1-b464-cd17f69f7f79');\n",
       "var x = new MutationObserver(function (mutations, observer) {{\n",
       "        var display = window.getComputedStyle(gd).display;\n",
       "        if (!display || display === 'none') {{\n",
       "            console.log([gd, 'removed!']);\n",
       "            Plotly.purge(gd);\n",
       "            observer.disconnect();\n",
       "        }}\n",
       "}});\n",
       "\n",
       "// Listen for the removal of the full notebook cells\n",
       "var notebookContainer = gd.closest('#notebook-container');\n",
       "if (notebookContainer) {{\n",
       "    x.observe(notebookContainer, {childList: true});\n",
       "}}\n",
       "\n",
       "// Listen for the clearing of the current output cell\n",
       "var outputEl = gd.closest('.output');\n",
       "if (outputEl) {{\n",
       "    x.observe(outputEl, {childList: true});\n",
       "}}\n",
       "\n",
       "                        })                };                });            </script>        </div>"
      ]
     },
     "metadata": {},
     "output_type": "display_data"
    }
   ],
   "source": [
    "hm = pd.DataFrame(A)\n",
    "\n",
    "cell_size = 35\n",
    "row_title_width = 300\n",
    "width = cell_size*len(hm.columns) + row_title_width\n",
    "height = cell_size*len(hm.index)\n",
    "\n",
    "fig = px.imshow(hm, width=width, height=height, color_continuous_scale='RdBu')\n",
    "\n",
    "for i in range(len(hm.columns)):\n",
    "    fig.add_shape(type=\"line\", x0=0.5 + i, y0=-0.5, x1=0.5 + i, y1=len(hm.index) - 0.5, line=dict(color=\"white\", width=2))\n",
    "\n",
    "for i in range(len(hm.index)):\n",
    "    fig.add_shape(type=\"line\", x0=-0.5, y0=0.5 + i, x1=len(hm.columns) - 0.5, y1=0.5 + i, line=dict(color=\"white\", width=2))\n",
    "\n",
    "fig.show()"
   ]
  },
  {
   "cell_type": "code",
   "execution_count": null,
   "id": "9cd64ad8-7866-4273-a2e0-342d90d6242d",
   "metadata": {},
   "outputs": [],
   "source": []
  }
 ],
 "metadata": {
  "kernelspec": {
   "display_name": "Python 3 (ipykernel)",
   "language": "python",
   "name": "python3"
  },
  "language_info": {
   "codemirror_mode": {
    "name": "ipython",
    "version": 3
   },
   "file_extension": ".py",
   "mimetype": "text/x-python",
   "name": "python",
   "nbconvert_exporter": "python",
   "pygments_lexer": "ipython3",
   "version": "3.11.0"
  }
 },
 "nbformat": 4,
 "nbformat_minor": 5
}
