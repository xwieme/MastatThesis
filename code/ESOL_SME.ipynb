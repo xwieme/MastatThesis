{
 "cells": [
  {
   "cell_type": "code",
   "execution_count": 1,
   "id": "42448219-fa80-4071-a5e8-3d9053b2a96e",
   "metadata": {},
   "outputs": [],
   "source": [
    "from collections import defaultdict\n",
    "\n",
    "import numpy as np\n",
    "from sklearn.metrics import r2_score\n",
    "import wandb\n",
    "import torch\n",
    "import torch.nn.functional as F\n",
    "from torch_geometric.loader import DataLoader\n",
    "from rdkit import Chem\n",
    "\n",
    "from io import BytesIO\n",
    "from PIL import Image\n",
    "from rdkit.Chem import rdDepictor\n",
    "from rdkit.Chem import Draw\n",
    "from rdkit.Chem.Draw import IPythonConsole\n",
    "IPythonConsole.drawOptions.addAtomIndices = True\n",
    "\n",
    "import XAIChem"
   ]
  },
  {
   "cell_type": "markdown",
   "id": "5ad7086e-47b4-457a-abe2-25cbc440198c",
   "metadata": {},
   "source": [
    "## Load data"
   ]
  },
  {
   "cell_type": "code",
   "execution_count": 2,
   "id": "38f5d0cb-1d14-4f9d-8058-57a91faffb4f",
   "metadata": {},
   "outputs": [],
   "source": [
    "train_data = XAIChem.Dataset(root=\"../data\", name=\"ESOL\", tag=\"train\")\n",
    "val_data = XAIChem.Dataset(root=\"../data\", name=\"ESOL\", tag=\"val\")\n",
    "test_data = XAIChem.Dataset(root=\"../data\", name=\"ESOL\", tag=\"test\")"
   ]
  },
  {
   "cell_type": "code",
   "execution_count": 3,
   "id": "9a1b7be0-2ffa-4b60-8813-e8d84069d5dd",
   "metadata": {},
   "outputs": [],
   "source": [
    "train_loader = DataLoader(train_data, batch_size=256)\n",
    "val_loader = DataLoader(val_data, batch_size=256)\n",
    "test_loader = DataLoader(test_data, batch_size=256)"
   ]
  },
  {
   "cell_type": "markdown",
   "id": "5107b68e-f8ed-4fd4-8372-4094d5fa1bff",
   "metadata": {},
   "source": [
    "## Model training and evaluation setup"
   ]
  },
  {
   "cell_type": "code",
   "execution_count": 4,
   "id": "3ee7ec68-547c-45bd-8937-c3c7b08654a4",
   "metadata": {},
   "outputs": [],
   "source": [
    "def train(loader, model, criterion, optimzer):\n",
    "    \"\"\"\n",
    "    Perform one epoch of the training step\n",
    "    \"\"\"\n",
    "    model.train()\n",
    "\n",
    "    # Iterate through the batches\n",
    "    for i, data in enumerate(loader):\n",
    "        data.to(device)\n",
    "        \n",
    "        out = model(data.x, data.edge_index, data.edge_type, data.batch)\n",
    "        loss = criterion(out, data.y.view(-1, 1))\n",
    "        loss.backward()\n",
    "        optimizer.step()\n",
    "        optimizer.zero_grad()"
   ]
  },
  {
   "cell_type": "code",
   "execution_count": 5,
   "id": "8e953724-8148-4cfd-8bdf-3e3546ad42bf",
   "metadata": {},
   "outputs": [],
   "source": [
    "def evaluate(loader, model, criterion):\n",
    "    model.eval()\n",
    "\n",
    "    with torch.no_grad():\n",
    "        # Log average loss of batches\n",
    "        losses = torch.zeros(len(loader))\n",
    "    \n",
    "        # Save all predictions and labels to compute the \n",
    "        # coefficient of determination (i.e. R^2) of the \n",
    "        # whole data set\n",
    "        predictions = torch.zeros(len(loader.dataset))\n",
    "        labels = torch.zeros(len(loader.dataset))\n",
    "    \n",
    "        index = 0\n",
    "        for i, data in enumerate(loader):\n",
    "            data.to(device)\n",
    "            \n",
    "            pred = model(data.x, data.edge_index, data.edge_type, data.batch)\n",
    "            losses[i] = criterion(pred, data.y.view(-1, 1))\n",
    "    \n",
    "            new_index = index + data.batch_size\n",
    "            predictions[index:new_index] = pred.view(1, -1)\n",
    "            labels[index:new_index] = data.y\n",
    "            index = new_index\n",
    "    \n",
    "        r2 = r2_score(labels, predictions)\n",
    "\n",
    "    return r2, torch.mean(losses)"
   ]
  },
  {
   "cell_type": "markdown",
   "id": "4b064e05-3b6b-44bd-910a-5a13dfe97b3e",
   "metadata": {},
   "source": [
    "## Train models"
   ]
  },
  {
   "cell_type": "code",
   "execution_count": 6,
   "id": "692bcc43-5afa-4556-add7-76db46e8dce2",
   "metadata": {},
   "outputs": [],
   "source": [
    "device = torch.device(\"cuda\" if torch.cuda.is_available() else \"cpu\")"
   ]
  },
  {
   "cell_type": "code",
   "execution_count": 7,
   "id": "02495b1e-536e-41ec-a69b-5c723402f4fa",
   "metadata": {
    "scrolled": true
   },
   "outputs": [
    {
     "name": "stderr",
     "output_type": "stream",
     "text": [
      "\u001b[34m\u001b[1mwandb\u001b[0m: Currently logged in as: \u001b[33mxwieme\u001b[0m (\u001b[33mmlchem\u001b[0m). Use \u001b[1m`wandb login --relogin`\u001b[0m to force relogin\n"
     ]
    },
    {
     "data": {
      "text/html": [
       "wandb version 0.16.0 is available!  To upgrade, please run:\n",
       " $ pip install wandb --upgrade"
      ],
      "text/plain": [
       "<IPython.core.display.HTML object>"
      ]
     },
     "metadata": {},
     "output_type": "display_data"
    },
    {
     "data": {
      "text/html": [
       "Tracking run with wandb version 0.15.12"
      ],
      "text/plain": [
       "<IPython.core.display.HTML object>"
      ]
     },
     "metadata": {},
     "output_type": "display_data"
    },
    {
     "data": {
      "text/html": [
       "Run data is saved locally in <code>/workspace/code/wandb/run-20231122_132845-6yd7ra4a</code>"
      ],
      "text/plain": [
       "<IPython.core.display.HTML object>"
      ]
     },
     "metadata": {},
     "output_type": "display_data"
    },
    {
     "data": {
      "text/html": [
       "Syncing run <strong><a href='https://wandb.ai/mlchem/ESOL_reproduction/runs/6yd7ra4a' target=\"_blank\">model_0_c</a></strong> to <a href='https://wandb.ai/mlchem/ESOL_reproduction' target=\"_blank\">Weights & Biases</a> (<a href='https://wandb.me/run' target=\"_blank\">docs</a>)<br/>"
      ],
      "text/plain": [
       "<IPython.core.display.HTML object>"
      ]
     },
     "metadata": {},
     "output_type": "display_data"
    },
    {
     "data": {
      "text/html": [
       " View project at <a href='https://wandb.ai/mlchem/ESOL_reproduction' target=\"_blank\">https://wandb.ai/mlchem/ESOL_reproduction</a>"
      ],
      "text/plain": [
       "<IPython.core.display.HTML object>"
      ]
     },
     "metadata": {},
     "output_type": "display_data"
    },
    {
     "data": {
      "text/html": [
       " View run at <a href='https://wandb.ai/mlchem/ESOL_reproduction/runs/6yd7ra4a' target=\"_blank\">https://wandb.ai/mlchem/ESOL_reproduction/runs/6yd7ra4a</a>"
      ],
      "text/plain": [
       "<IPython.core.display.HTML object>"
      ]
     },
     "metadata": {},
     "output_type": "display_data"
    },
    {
     "data": {
      "text/html": [
       "Waiting for W&B process to finish... <strong style=\"color:green\">(success).</strong>"
      ],
      "text/plain": [
       "<IPython.core.display.HTML object>"
      ]
     },
     "metadata": {},
     "output_type": "display_data"
    },
    {
     "data": {
      "text/html": [
       "<style>\n",
       "    table.wandb td:nth-child(1) { padding: 0 10px; text-align: left ; width: auto;} td:nth-child(2) {text-align: left ; width: 100%}\n",
       "    .wandb-row { display: flex; flex-direction: row; flex-wrap: wrap; justify-content: flex-start; width: 100% }\n",
       "    .wandb-col { display: flex; flex-direction: column; flex-basis: 100%; flex: 1; padding: 10px; }\n",
       "    </style>\n",
       "<div class=\"wandb-row\"><div class=\"wandb-col\"><h3>Run history:</h3><br/><table class=\"wandb\"><tr><td>epoch</td><td>▁▁▁▂▂▂▂▂▂▃▃▃▃▃▄▄▄▄▄▄▅▅▅▅▅▅▆▆▆▆▆▇▇▇▇▇▇███</td></tr><tr><td>test_loss</td><td>█▁▁▁▁▁▁▁▁▁▁▁▁▁▁▁▁▁▁▁▁▁▁▁▁▁▁▁▁▁▁▁▁▁▁▁▁▁▁▁</td></tr><tr><td>test_r2</td><td>▁███████████████████████████████████████</td></tr><tr><td>train_loss</td><td>█▂▁▁▁▁▁▁▁▁▁▁▁▁▁▁▁▁▁▁▁▁▁▁▁▁▁▁▁▁▁▁▁▁▁▁▁▁▁▁</td></tr><tr><td>train_r2</td><td>▁▇██████████████████████████████████████</td></tr><tr><td>val_loss</td><td>█▂▁▁▁▁▁▁▁▁▁▁▁▁▁▁▁▁▁▁▁▁▁▁▁▁▁▁▁▁▁▁▁▁▁▁▁▁▁▁</td></tr><tr><td>val_r2</td><td>▁▇██████████████████████████████████████</td></tr></table><br/></div><div class=\"wandb-col\"><h3>Run summary:</h3><br/><table class=\"wandb\"><tr><td>epoch</td><td>499</td></tr><tr><td>test_loss</td><td>0.3785</td></tr><tr><td>test_r2</td><td>0.91211</td></tr><tr><td>train_loss</td><td>0.05141</td></tr><tr><td>train_r2</td><td>0.98725</td></tr><tr><td>val_loss</td><td>0.35022</td></tr><tr><td>val_r2</td><td>0.92996</td></tr></table><br/></div></div>"
      ],
      "text/plain": [
       "<IPython.core.display.HTML object>"
      ]
     },
     "metadata": {},
     "output_type": "display_data"
    },
    {
     "data": {
      "text/html": [
       " View run <strong style=\"color:#cdcd00\">model_0_c</strong> at: <a href='https://wandb.ai/mlchem/ESOL_reproduction/runs/6yd7ra4a' target=\"_blank\">https://wandb.ai/mlchem/ESOL_reproduction/runs/6yd7ra4a</a><br/>Synced 5 W&B file(s), 0 media file(s), 0 artifact file(s) and 0 other file(s)"
      ],
      "text/plain": [
       "<IPython.core.display.HTML object>"
      ]
     },
     "metadata": {},
     "output_type": "display_data"
    },
    {
     "data": {
      "text/html": [
       "Find logs at: <code>./wandb/run-20231122_132845-6yd7ra4a/logs</code>"
      ],
      "text/plain": [
       "<IPython.core.display.HTML object>"
      ]
     },
     "metadata": {},
     "output_type": "display_data"
    },
    {
     "data": {
      "text/html": [
       "wandb version 0.16.0 is available!  To upgrade, please run:\n",
       " $ pip install wandb --upgrade"
      ],
      "text/plain": [
       "<IPython.core.display.HTML object>"
      ]
     },
     "metadata": {},
     "output_type": "display_data"
    },
    {
     "data": {
      "text/html": [
       "Tracking run with wandb version 0.15.12"
      ],
      "text/plain": [
       "<IPython.core.display.HTML object>"
      ]
     },
     "metadata": {},
     "output_type": "display_data"
    },
    {
     "data": {
      "text/html": [
       "Run data is saved locally in <code>/workspace/code/wandb/run-20231122_133225-rcg7spr2</code>"
      ],
      "text/plain": [
       "<IPython.core.display.HTML object>"
      ]
     },
     "metadata": {},
     "output_type": "display_data"
    },
    {
     "data": {
      "text/html": [
       "Syncing run <strong><a href='https://wandb.ai/mlchem/ESOL_reproduction/runs/rcg7spr2' target=\"_blank\">model_1_c</a></strong> to <a href='https://wandb.ai/mlchem/ESOL_reproduction' target=\"_blank\">Weights & Biases</a> (<a href='https://wandb.me/run' target=\"_blank\">docs</a>)<br/>"
      ],
      "text/plain": [
       "<IPython.core.display.HTML object>"
      ]
     },
     "metadata": {},
     "output_type": "display_data"
    },
    {
     "data": {
      "text/html": [
       " View project at <a href='https://wandb.ai/mlchem/ESOL_reproduction' target=\"_blank\">https://wandb.ai/mlchem/ESOL_reproduction</a>"
      ],
      "text/plain": [
       "<IPython.core.display.HTML object>"
      ]
     },
     "metadata": {},
     "output_type": "display_data"
    },
    {
     "data": {
      "text/html": [
       " View run at <a href='https://wandb.ai/mlchem/ESOL_reproduction/runs/rcg7spr2' target=\"_blank\">https://wandb.ai/mlchem/ESOL_reproduction/runs/rcg7spr2</a>"
      ],
      "text/plain": [
       "<IPython.core.display.HTML object>"
      ]
     },
     "metadata": {},
     "output_type": "display_data"
    },
    {
     "data": {
      "text/html": [
       "Waiting for W&B process to finish... <strong style=\"color:green\">(success).</strong>"
      ],
      "text/plain": [
       "<IPython.core.display.HTML object>"
      ]
     },
     "metadata": {},
     "output_type": "display_data"
    },
    {
     "data": {
      "text/html": [
       "<style>\n",
       "    table.wandb td:nth-child(1) { padding: 0 10px; text-align: left ; width: auto;} td:nth-child(2) {text-align: left ; width: 100%}\n",
       "    .wandb-row { display: flex; flex-direction: row; flex-wrap: wrap; justify-content: flex-start; width: 100% }\n",
       "    .wandb-col { display: flex; flex-direction: column; flex-basis: 100%; flex: 1; padding: 10px; }\n",
       "    </style>\n",
       "<div class=\"wandb-row\"><div class=\"wandb-col\"><h3>Run history:</h3><br/><table class=\"wandb\"><tr><td>epoch</td><td>▁▁▁▂▂▂▂▂▂▃▃▃▃▃▄▄▄▄▄▄▅▅▅▅▅▅▆▆▆▆▆▇▇▇▇▇▇███</td></tr><tr><td>test_loss</td><td>█▂▁▁▁▁▁▁▁▁▁▁▁▁▁▁▁▁▁▁▁▁▁▁▁▁▁▁▁▁▁▁▁▁▁▁▁▁▁▁</td></tr><tr><td>test_r2</td><td>▁▇██████████████████████████████████████</td></tr><tr><td>train_loss</td><td>█▃▂▂▁▂▁▁▁▁▁▁▁▁▁▁▁▁▁▁▁▁▁▁▁▁▁▁▁▁▁▁▁▁▁▁▁▁▁▁</td></tr><tr><td>train_r2</td><td>▁▆▇▇█▇██████████████████████████████████</td></tr><tr><td>val_loss</td><td>█▃▂▁▁▁▁▁▁▁▁▁▁▁▁▁▁▁▁▁▁▁▁▁▁▁▁▁▁▁▁▁▁▁▁▁▁▁▁▁</td></tr><tr><td>val_r2</td><td>▁▆▇█████████████████████████████████████</td></tr></table><br/></div><div class=\"wandb-col\"><h3>Run summary:</h3><br/><table class=\"wandb\"><tr><td>epoch</td><td>499</td></tr><tr><td>test_loss</td><td>0.45366</td></tr><tr><td>test_r2</td><td>0.89466</td></tr><tr><td>train_loss</td><td>0.07775</td></tr><tr><td>train_r2</td><td>0.98095</td></tr><tr><td>val_loss</td><td>0.41632</td></tr><tr><td>val_r2</td><td>0.91674</td></tr></table><br/></div></div>"
      ],
      "text/plain": [
       "<IPython.core.display.HTML object>"
      ]
     },
     "metadata": {},
     "output_type": "display_data"
    },
    {
     "data": {
      "text/html": [
       " View run <strong style=\"color:#cdcd00\">model_1_c</strong> at: <a href='https://wandb.ai/mlchem/ESOL_reproduction/runs/rcg7spr2' target=\"_blank\">https://wandb.ai/mlchem/ESOL_reproduction/runs/rcg7spr2</a><br/>Synced 5 W&B file(s), 0 media file(s), 0 artifact file(s) and 0 other file(s)"
      ],
      "text/plain": [
       "<IPython.core.display.HTML object>"
      ]
     },
     "metadata": {},
     "output_type": "display_data"
    },
    {
     "data": {
      "text/html": [
       "Find logs at: <code>./wandb/run-20231122_133225-rcg7spr2/logs</code>"
      ],
      "text/plain": [
       "<IPython.core.display.HTML object>"
      ]
     },
     "metadata": {},
     "output_type": "display_data"
    },
    {
     "data": {
      "text/html": [
       "wandb version 0.16.0 is available!  To upgrade, please run:\n",
       " $ pip install wandb --upgrade"
      ],
      "text/plain": [
       "<IPython.core.display.HTML object>"
      ]
     },
     "metadata": {},
     "output_type": "display_data"
    },
    {
     "data": {
      "text/html": [
       "Tracking run with wandb version 0.15.12"
      ],
      "text/plain": [
       "<IPython.core.display.HTML object>"
      ]
     },
     "metadata": {},
     "output_type": "display_data"
    },
    {
     "data": {
      "text/html": [
       "Run data is saved locally in <code>/workspace/code/wandb/run-20231122_133606-5pn9dr6h</code>"
      ],
      "text/plain": [
       "<IPython.core.display.HTML object>"
      ]
     },
     "metadata": {},
     "output_type": "display_data"
    },
    {
     "data": {
      "text/html": [
       "Syncing run <strong><a href='https://wandb.ai/mlchem/ESOL_reproduction/runs/5pn9dr6h' target=\"_blank\">model_2_c</a></strong> to <a href='https://wandb.ai/mlchem/ESOL_reproduction' target=\"_blank\">Weights & Biases</a> (<a href='https://wandb.me/run' target=\"_blank\">docs</a>)<br/>"
      ],
      "text/plain": [
       "<IPython.core.display.HTML object>"
      ]
     },
     "metadata": {},
     "output_type": "display_data"
    },
    {
     "data": {
      "text/html": [
       " View project at <a href='https://wandb.ai/mlchem/ESOL_reproduction' target=\"_blank\">https://wandb.ai/mlchem/ESOL_reproduction</a>"
      ],
      "text/plain": [
       "<IPython.core.display.HTML object>"
      ]
     },
     "metadata": {},
     "output_type": "display_data"
    },
    {
     "data": {
      "text/html": [
       " View run at <a href='https://wandb.ai/mlchem/ESOL_reproduction/runs/5pn9dr6h' target=\"_blank\">https://wandb.ai/mlchem/ESOL_reproduction/runs/5pn9dr6h</a>"
      ],
      "text/plain": [
       "<IPython.core.display.HTML object>"
      ]
     },
     "metadata": {},
     "output_type": "display_data"
    },
    {
     "data": {
      "text/html": [
       "Waiting for W&B process to finish... <strong style=\"color:green\">(success).</strong>"
      ],
      "text/plain": [
       "<IPython.core.display.HTML object>"
      ]
     },
     "metadata": {},
     "output_type": "display_data"
    },
    {
     "data": {
      "text/html": [
       "<style>\n",
       "    table.wandb td:nth-child(1) { padding: 0 10px; text-align: left ; width: auto;} td:nth-child(2) {text-align: left ; width: 100%}\n",
       "    .wandb-row { display: flex; flex-direction: row; flex-wrap: wrap; justify-content: flex-start; width: 100% }\n",
       "    .wandb-col { display: flex; flex-direction: column; flex-basis: 100%; flex: 1; padding: 10px; }\n",
       "    </style>\n",
       "<div class=\"wandb-row\"><div class=\"wandb-col\"><h3>Run history:</h3><br/><table class=\"wandb\"><tr><td>epoch</td><td>▁▁▁▂▂▂▂▂▂▃▃▃▃▃▄▄▄▄▄▄▅▅▅▅▅▅▆▆▆▆▆▇▇▇▇▇▇███</td></tr><tr><td>test_loss</td><td>█▃▂▁▁▁▁▁▁▁▁▁▁▁▁▁▁▁▁▁▁▁▁▁▁▁▁▁▁▁▁▁▁▁▁▁▁▁▁▁</td></tr><tr><td>test_r2</td><td>▁▆▇█████████████████████████████████████</td></tr><tr><td>train_loss</td><td>█▃▂▂▁▁▁▁▁▁▁▁▁▁▁▁▁▁▁▁▁▁▁▁▁▁▁▁▁▁▁▁▁▁▁▁▁▁▁▁</td></tr><tr><td>train_r2</td><td>▁▆▇▇████████████████████████████████████</td></tr><tr><td>val_loss</td><td>█▄▃▂▁▁▁▁▁▁▁▁▁▁▁▁▁▁▁▁▁▁▁▁▁▁▁▁▁▁▁▁▁▁▁▁▁▁▁▁</td></tr><tr><td>val_r2</td><td>▁▅▆▇████████████████████████████████████</td></tr></table><br/></div><div class=\"wandb-col\"><h3>Run summary:</h3><br/><table class=\"wandb\"><tr><td>epoch</td><td>499</td></tr><tr><td>test_loss</td><td>0.40663</td></tr><tr><td>test_r2</td><td>0.90558</td></tr><tr><td>train_loss</td><td>0.0553</td></tr><tr><td>train_r2</td><td>0.98619</td></tr><tr><td>val_loss</td><td>0.3794</td></tr><tr><td>val_r2</td><td>0.92412</td></tr></table><br/></div></div>"
      ],
      "text/plain": [
       "<IPython.core.display.HTML object>"
      ]
     },
     "metadata": {},
     "output_type": "display_data"
    },
    {
     "data": {
      "text/html": [
       " View run <strong style=\"color:#cdcd00\">model_2_c</strong> at: <a href='https://wandb.ai/mlchem/ESOL_reproduction/runs/5pn9dr6h' target=\"_blank\">https://wandb.ai/mlchem/ESOL_reproduction/runs/5pn9dr6h</a><br/>Synced 5 W&B file(s), 0 media file(s), 0 artifact file(s) and 0 other file(s)"
      ],
      "text/plain": [
       "<IPython.core.display.HTML object>"
      ]
     },
     "metadata": {},
     "output_type": "display_data"
    },
    {
     "data": {
      "text/html": [
       "Find logs at: <code>./wandb/run-20231122_133606-5pn9dr6h/logs</code>"
      ],
      "text/plain": [
       "<IPython.core.display.HTML object>"
      ]
     },
     "metadata": {},
     "output_type": "display_data"
    },
    {
     "data": {
      "text/html": [
       "wandb version 0.16.0 is available!  To upgrade, please run:\n",
       " $ pip install wandb --upgrade"
      ],
      "text/plain": [
       "<IPython.core.display.HTML object>"
      ]
     },
     "metadata": {},
     "output_type": "display_data"
    },
    {
     "data": {
      "text/html": [
       "Tracking run with wandb version 0.15.12"
      ],
      "text/plain": [
       "<IPython.core.display.HTML object>"
      ]
     },
     "metadata": {},
     "output_type": "display_data"
    },
    {
     "data": {
      "text/html": [
       "Run data is saved locally in <code>/workspace/code/wandb/run-20231122_133946-xnh788cc</code>"
      ],
      "text/plain": [
       "<IPython.core.display.HTML object>"
      ]
     },
     "metadata": {},
     "output_type": "display_data"
    },
    {
     "data": {
      "text/html": [
       "Syncing run <strong><a href='https://wandb.ai/mlchem/ESOL_reproduction/runs/xnh788cc' target=\"_blank\">model_3_c</a></strong> to <a href='https://wandb.ai/mlchem/ESOL_reproduction' target=\"_blank\">Weights & Biases</a> (<a href='https://wandb.me/run' target=\"_blank\">docs</a>)<br/>"
      ],
      "text/plain": [
       "<IPython.core.display.HTML object>"
      ]
     },
     "metadata": {},
     "output_type": "display_data"
    },
    {
     "data": {
      "text/html": [
       " View project at <a href='https://wandb.ai/mlchem/ESOL_reproduction' target=\"_blank\">https://wandb.ai/mlchem/ESOL_reproduction</a>"
      ],
      "text/plain": [
       "<IPython.core.display.HTML object>"
      ]
     },
     "metadata": {},
     "output_type": "display_data"
    },
    {
     "data": {
      "text/html": [
       " View run at <a href='https://wandb.ai/mlchem/ESOL_reproduction/runs/xnh788cc' target=\"_blank\">https://wandb.ai/mlchem/ESOL_reproduction/runs/xnh788cc</a>"
      ],
      "text/plain": [
       "<IPython.core.display.HTML object>"
      ]
     },
     "metadata": {},
     "output_type": "display_data"
    },
    {
     "data": {
      "text/html": [
       "Waiting for W&B process to finish... <strong style=\"color:green\">(success).</strong>"
      ],
      "text/plain": [
       "<IPython.core.display.HTML object>"
      ]
     },
     "metadata": {},
     "output_type": "display_data"
    },
    {
     "data": {
      "text/html": [
       "<style>\n",
       "    table.wandb td:nth-child(1) { padding: 0 10px; text-align: left ; width: auto;} td:nth-child(2) {text-align: left ; width: 100%}\n",
       "    .wandb-row { display: flex; flex-direction: row; flex-wrap: wrap; justify-content: flex-start; width: 100% }\n",
       "    .wandb-col { display: flex; flex-direction: column; flex-basis: 100%; flex: 1; padding: 10px; }\n",
       "    </style>\n",
       "<div class=\"wandb-row\"><div class=\"wandb-col\"><h3>Run history:</h3><br/><table class=\"wandb\"><tr><td>epoch</td><td>▁▁▁▂▂▂▂▂▂▃▃▃▃▃▄▄▄▄▄▄▅▅▅▅▅▅▆▆▆▆▆▇▇▇▇▇▇███</td></tr><tr><td>test_loss</td><td>█▂▁▁▂▁▁▁▁▁▁▁▁▁▁▁▁▁▁▁▁▁▁▁▁▁▁▁▁▁▁▁▁▁▁▁▁▁▁▁</td></tr><tr><td>test_r2</td><td>▁▇██▇███████████████████████████████████</td></tr><tr><td>train_loss</td><td>█▂▂▂▂▁▁▁▁▁▁▁▁▁▁▁▁▁▁▁▁▁▁▁▁▁▁▁▁▁▁▁▁▁▁▁▁▁▁▁</td></tr><tr><td>train_r2</td><td>▁▇▇▇▇███████████████████████████████████</td></tr><tr><td>val_loss</td><td>█▂▂▁▂▁▁▁▁▁▁▁▁▁▁▁▁▁▁▁▁▁▁▁▁▁▁▁▁▁▁▁▁▁▁▁▁▁▁▁</td></tr><tr><td>val_r2</td><td>▁▇▇█▇███████████████████████████████████</td></tr></table><br/></div><div class=\"wandb-col\"><h3>Run summary:</h3><br/><table class=\"wandb\"><tr><td>epoch</td><td>499</td></tr><tr><td>test_loss</td><td>0.38754</td></tr><tr><td>test_r2</td><td>0.91001</td></tr><tr><td>train_loss</td><td>0.0468</td></tr><tr><td>train_r2</td><td>0.98812</td></tr><tr><td>val_loss</td><td>0.34703</td></tr><tr><td>val_r2</td><td>0.93059</td></tr></table><br/></div></div>"
      ],
      "text/plain": [
       "<IPython.core.display.HTML object>"
      ]
     },
     "metadata": {},
     "output_type": "display_data"
    },
    {
     "data": {
      "text/html": [
       " View run <strong style=\"color:#cdcd00\">model_3_c</strong> at: <a href='https://wandb.ai/mlchem/ESOL_reproduction/runs/xnh788cc' target=\"_blank\">https://wandb.ai/mlchem/ESOL_reproduction/runs/xnh788cc</a><br/>Synced 5 W&B file(s), 0 media file(s), 0 artifact file(s) and 0 other file(s)"
      ],
      "text/plain": [
       "<IPython.core.display.HTML object>"
      ]
     },
     "metadata": {},
     "output_type": "display_data"
    },
    {
     "data": {
      "text/html": [
       "Find logs at: <code>./wandb/run-20231122_133946-xnh788cc/logs</code>"
      ],
      "text/plain": [
       "<IPython.core.display.HTML object>"
      ]
     },
     "metadata": {},
     "output_type": "display_data"
    },
    {
     "data": {
      "text/html": [
       "wandb version 0.16.0 is available!  To upgrade, please run:\n",
       " $ pip install wandb --upgrade"
      ],
      "text/plain": [
       "<IPython.core.display.HTML object>"
      ]
     },
     "metadata": {},
     "output_type": "display_data"
    },
    {
     "data": {
      "text/html": [
       "Tracking run with wandb version 0.15.12"
      ],
      "text/plain": [
       "<IPython.core.display.HTML object>"
      ]
     },
     "metadata": {},
     "output_type": "display_data"
    },
    {
     "data": {
      "text/html": [
       "Run data is saved locally in <code>/workspace/code/wandb/run-20231122_134329-9z8vgjr0</code>"
      ],
      "text/plain": [
       "<IPython.core.display.HTML object>"
      ]
     },
     "metadata": {},
     "output_type": "display_data"
    },
    {
     "data": {
      "text/html": [
       "Syncing run <strong><a href='https://wandb.ai/mlchem/ESOL_reproduction/runs/9z8vgjr0' target=\"_blank\">model_4_c</a></strong> to <a href='https://wandb.ai/mlchem/ESOL_reproduction' target=\"_blank\">Weights & Biases</a> (<a href='https://wandb.me/run' target=\"_blank\">docs</a>)<br/>"
      ],
      "text/plain": [
       "<IPython.core.display.HTML object>"
      ]
     },
     "metadata": {},
     "output_type": "display_data"
    },
    {
     "data": {
      "text/html": [
       " View project at <a href='https://wandb.ai/mlchem/ESOL_reproduction' target=\"_blank\">https://wandb.ai/mlchem/ESOL_reproduction</a>"
      ],
      "text/plain": [
       "<IPython.core.display.HTML object>"
      ]
     },
     "metadata": {},
     "output_type": "display_data"
    },
    {
     "data": {
      "text/html": [
       " View run at <a href='https://wandb.ai/mlchem/ESOL_reproduction/runs/9z8vgjr0' target=\"_blank\">https://wandb.ai/mlchem/ESOL_reproduction/runs/9z8vgjr0</a>"
      ],
      "text/plain": [
       "<IPython.core.display.HTML object>"
      ]
     },
     "metadata": {},
     "output_type": "display_data"
    },
    {
     "data": {
      "text/html": [
       "Waiting for W&B process to finish... <strong style=\"color:green\">(success).</strong>"
      ],
      "text/plain": [
       "<IPython.core.display.HTML object>"
      ]
     },
     "metadata": {},
     "output_type": "display_data"
    },
    {
     "data": {
      "text/html": [
       "<style>\n",
       "    table.wandb td:nth-child(1) { padding: 0 10px; text-align: left ; width: auto;} td:nth-child(2) {text-align: left ; width: 100%}\n",
       "    .wandb-row { display: flex; flex-direction: row; flex-wrap: wrap; justify-content: flex-start; width: 100% }\n",
       "    .wandb-col { display: flex; flex-direction: column; flex-basis: 100%; flex: 1; padding: 10px; }\n",
       "    </style>\n",
       "<div class=\"wandb-row\"><div class=\"wandb-col\"><h3>Run history:</h3><br/><table class=\"wandb\"><tr><td>epoch</td><td>▁▁▁▂▂▂▂▂▂▃▃▃▃▃▄▄▄▄▄▄▅▅▅▅▅▅▆▆▆▆▆▇▇▇▇▇▇███</td></tr><tr><td>test_loss</td><td>█▃▂▁▁▁▁▁▁▁▁▁▁▁▁▁▁▁▁▁▁▁▁▁▁▁▁▁▁▁▁▁▁▁▁▁▁▁▁▁</td></tr><tr><td>test_r2</td><td>▁▆▇█████████████████████████████████████</td></tr><tr><td>train_loss</td><td>█▃▂▂▁▁▁▁▁▁▁▁▁▁▁▁▁▁▁▁▁▁▁▁▁▁▁▁▁▁▁▁▁▁▁▁▁▁▁▁</td></tr><tr><td>train_r2</td><td>▁▆▇▇████████████████████████████████████</td></tr><tr><td>val_loss</td><td>█▃▂▁▁▁▁▁▁▁▁▁▁▁▁▁▁▁▁▁▁▁▁▁▁▁▁▁▁▁▁▁▁▁▁▁▁▁▁▁</td></tr><tr><td>val_r2</td><td>▁▆▇█████████████████████████████████████</td></tr></table><br/></div><div class=\"wandb-col\"><h3>Run summary:</h3><br/><table class=\"wandb\"><tr><td>epoch</td><td>499</td></tr><tr><td>test_loss</td><td>0.40536</td></tr><tr><td>test_r2</td><td>0.90587</td></tr><tr><td>train_loss</td><td>0.05369</td></tr><tr><td>train_r2</td><td>0.98659</td></tr><tr><td>val_loss</td><td>0.35909</td></tr><tr><td>val_r2</td><td>0.92818</td></tr></table><br/></div></div>"
      ],
      "text/plain": [
       "<IPython.core.display.HTML object>"
      ]
     },
     "metadata": {},
     "output_type": "display_data"
    },
    {
     "data": {
      "text/html": [
       " View run <strong style=\"color:#cdcd00\">model_4_c</strong> at: <a href='https://wandb.ai/mlchem/ESOL_reproduction/runs/9z8vgjr0' target=\"_blank\">https://wandb.ai/mlchem/ESOL_reproduction/runs/9z8vgjr0</a><br/>Synced 5 W&B file(s), 0 media file(s), 0 artifact file(s) and 0 other file(s)"
      ],
      "text/plain": [
       "<IPython.core.display.HTML object>"
      ]
     },
     "metadata": {},
     "output_type": "display_data"
    },
    {
     "data": {
      "text/html": [
       "Find logs at: <code>./wandb/run-20231122_134329-9z8vgjr0/logs</code>"
      ],
      "text/plain": [
       "<IPython.core.display.HTML object>"
      ]
     },
     "metadata": {},
     "output_type": "display_data"
    },
    {
     "data": {
      "text/html": [
       "wandb version 0.16.0 is available!  To upgrade, please run:\n",
       " $ pip install wandb --upgrade"
      ],
      "text/plain": [
       "<IPython.core.display.HTML object>"
      ]
     },
     "metadata": {},
     "output_type": "display_data"
    },
    {
     "data": {
      "text/html": [
       "Tracking run with wandb version 0.15.12"
      ],
      "text/plain": [
       "<IPython.core.display.HTML object>"
      ]
     },
     "metadata": {},
     "output_type": "display_data"
    },
    {
     "data": {
      "text/html": [
       "Run data is saved locally in <code>/workspace/code/wandb/run-20231122_134712-upejrqyt</code>"
      ],
      "text/plain": [
       "<IPython.core.display.HTML object>"
      ]
     },
     "metadata": {},
     "output_type": "display_data"
    },
    {
     "data": {
      "text/html": [
       "Syncing run <strong><a href='https://wandb.ai/mlchem/ESOL_reproduction/runs/upejrqyt' target=\"_blank\">model_5_c</a></strong> to <a href='https://wandb.ai/mlchem/ESOL_reproduction' target=\"_blank\">Weights & Biases</a> (<a href='https://wandb.me/run' target=\"_blank\">docs</a>)<br/>"
      ],
      "text/plain": [
       "<IPython.core.display.HTML object>"
      ]
     },
     "metadata": {},
     "output_type": "display_data"
    },
    {
     "data": {
      "text/html": [
       " View project at <a href='https://wandb.ai/mlchem/ESOL_reproduction' target=\"_blank\">https://wandb.ai/mlchem/ESOL_reproduction</a>"
      ],
      "text/plain": [
       "<IPython.core.display.HTML object>"
      ]
     },
     "metadata": {},
     "output_type": "display_data"
    },
    {
     "data": {
      "text/html": [
       " View run at <a href='https://wandb.ai/mlchem/ESOL_reproduction/runs/upejrqyt' target=\"_blank\">https://wandb.ai/mlchem/ESOL_reproduction/runs/upejrqyt</a>"
      ],
      "text/plain": [
       "<IPython.core.display.HTML object>"
      ]
     },
     "metadata": {},
     "output_type": "display_data"
    },
    {
     "data": {
      "text/html": [
       "Waiting for W&B process to finish... <strong style=\"color:green\">(success).</strong>"
      ],
      "text/plain": [
       "<IPython.core.display.HTML object>"
      ]
     },
     "metadata": {},
     "output_type": "display_data"
    },
    {
     "data": {
      "text/html": [
       "<style>\n",
       "    table.wandb td:nth-child(1) { padding: 0 10px; text-align: left ; width: auto;} td:nth-child(2) {text-align: left ; width: 100%}\n",
       "    .wandb-row { display: flex; flex-direction: row; flex-wrap: wrap; justify-content: flex-start; width: 100% }\n",
       "    .wandb-col { display: flex; flex-direction: column; flex-basis: 100%; flex: 1; padding: 10px; }\n",
       "    </style>\n",
       "<div class=\"wandb-row\"><div class=\"wandb-col\"><h3>Run history:</h3><br/><table class=\"wandb\"><tr><td>epoch</td><td>▁▁▁▂▂▂▂▂▂▃▃▃▃▃▄▄▄▄▄▄▅▅▅▅▅▅▆▆▆▆▆▇▇▇▇▇▇███</td></tr><tr><td>test_loss</td><td>█▃▂▁▁▁▁▁▁▁▁▁▁▁▁▁▁▁▁▁▁▁▁▁▁▁▁▁▁▁▁▁▁▁▁▁▁▁▁▁</td></tr><tr><td>test_r2</td><td>▁▆▇█████████████████████████████████████</td></tr><tr><td>train_loss</td><td>█▃▂▂▁▁▁▁▁▁▁▁▁▁▁▁▁▁▁▁▁▁▁▁▁▁▁▁▁▁▁▁▁▁▁▁▁▁▁▁</td></tr><tr><td>train_r2</td><td>▁▆▇▇████████████████████████████████████</td></tr><tr><td>val_loss</td><td>█▄▃▂▁▁▁▁▁▁▁▁▁▁▁▁▁▁▁▁▁▁▁▁▁▁▁▁▁▁▁▁▁▁▁▁▁▁▁▁</td></tr><tr><td>val_r2</td><td>▁▅▆▇████████████████████████████████████</td></tr></table><br/></div><div class=\"wandb-col\"><h3>Run summary:</h3><br/><table class=\"wandb\"><tr><td>epoch</td><td>499</td></tr><tr><td>test_loss</td><td>0.36864</td></tr><tr><td>test_r2</td><td>0.9144</td></tr><tr><td>train_loss</td><td>0.0444</td></tr><tr><td>train_r2</td><td>0.98911</td></tr><tr><td>val_loss</td><td>0.34692</td></tr><tr><td>val_r2</td><td>0.93062</td></tr></table><br/></div></div>"
      ],
      "text/plain": [
       "<IPython.core.display.HTML object>"
      ]
     },
     "metadata": {},
     "output_type": "display_data"
    },
    {
     "data": {
      "text/html": [
       " View run <strong style=\"color:#cdcd00\">model_5_c</strong> at: <a href='https://wandb.ai/mlchem/ESOL_reproduction/runs/upejrqyt' target=\"_blank\">https://wandb.ai/mlchem/ESOL_reproduction/runs/upejrqyt</a><br/>Synced 5 W&B file(s), 0 media file(s), 0 artifact file(s) and 0 other file(s)"
      ],
      "text/plain": [
       "<IPython.core.display.HTML object>"
      ]
     },
     "metadata": {},
     "output_type": "display_data"
    },
    {
     "data": {
      "text/html": [
       "Find logs at: <code>./wandb/run-20231122_134712-upejrqyt/logs</code>"
      ],
      "text/plain": [
       "<IPython.core.display.HTML object>"
      ]
     },
     "metadata": {},
     "output_type": "display_data"
    },
    {
     "data": {
      "text/html": [
       "wandb version 0.16.0 is available!  To upgrade, please run:\n",
       " $ pip install wandb --upgrade"
      ],
      "text/plain": [
       "<IPython.core.display.HTML object>"
      ]
     },
     "metadata": {},
     "output_type": "display_data"
    },
    {
     "data": {
      "text/html": [
       "Tracking run with wandb version 0.15.12"
      ],
      "text/plain": [
       "<IPython.core.display.HTML object>"
      ]
     },
     "metadata": {},
     "output_type": "display_data"
    },
    {
     "data": {
      "text/html": [
       "Run data is saved locally in <code>/workspace/code/wandb/run-20231122_135052-1cirf20g</code>"
      ],
      "text/plain": [
       "<IPython.core.display.HTML object>"
      ]
     },
     "metadata": {},
     "output_type": "display_data"
    },
    {
     "data": {
      "text/html": [
       "Syncing run <strong><a href='https://wandb.ai/mlchem/ESOL_reproduction/runs/1cirf20g' target=\"_blank\">model_6_c</a></strong> to <a href='https://wandb.ai/mlchem/ESOL_reproduction' target=\"_blank\">Weights & Biases</a> (<a href='https://wandb.me/run' target=\"_blank\">docs</a>)<br/>"
      ],
      "text/plain": [
       "<IPython.core.display.HTML object>"
      ]
     },
     "metadata": {},
     "output_type": "display_data"
    },
    {
     "data": {
      "text/html": [
       " View project at <a href='https://wandb.ai/mlchem/ESOL_reproduction' target=\"_blank\">https://wandb.ai/mlchem/ESOL_reproduction</a>"
      ],
      "text/plain": [
       "<IPython.core.display.HTML object>"
      ]
     },
     "metadata": {},
     "output_type": "display_data"
    },
    {
     "data": {
      "text/html": [
       " View run at <a href='https://wandb.ai/mlchem/ESOL_reproduction/runs/1cirf20g' target=\"_blank\">https://wandb.ai/mlchem/ESOL_reproduction/runs/1cirf20g</a>"
      ],
      "text/plain": [
       "<IPython.core.display.HTML object>"
      ]
     },
     "metadata": {},
     "output_type": "display_data"
    },
    {
     "data": {
      "text/html": [
       "Waiting for W&B process to finish... <strong style=\"color:green\">(success).</strong>"
      ],
      "text/plain": [
       "<IPython.core.display.HTML object>"
      ]
     },
     "metadata": {},
     "output_type": "display_data"
    },
    {
     "data": {
      "text/html": [
       "<style>\n",
       "    table.wandb td:nth-child(1) { padding: 0 10px; text-align: left ; width: auto;} td:nth-child(2) {text-align: left ; width: 100%}\n",
       "    .wandb-row { display: flex; flex-direction: row; flex-wrap: wrap; justify-content: flex-start; width: 100% }\n",
       "    .wandb-col { display: flex; flex-direction: column; flex-basis: 100%; flex: 1; padding: 10px; }\n",
       "    </style>\n",
       "<div class=\"wandb-row\"><div class=\"wandb-col\"><h3>Run history:</h3><br/><table class=\"wandb\"><tr><td>epoch</td><td>▁▁▁▂▂▂▂▂▂▃▃▃▃▃▄▄▄▄▄▄▅▅▅▅▅▅▆▆▆▆▆▇▇▇▇▇▇███</td></tr><tr><td>test_loss</td><td>█▂▂▁▁▁▁▁▁▁▁▁▁▁▁▁▁▁▁▁▁▁▁▁▁▁▁▁▁▁▁▁▁▁▁▁▁▁▁▁</td></tr><tr><td>test_r2</td><td>▁▇▇█████████████████████████████████████</td></tr><tr><td>train_loss</td><td>█▃▂▁▁▁▁▁▁▁▁▁▁▁▁▁▁▁▁▁▁▁▁▁▁▁▁▁▁▁▁▁▁▁▁▁▁▁▁▁</td></tr><tr><td>train_r2</td><td>▁▆▇█████████████████████████████████████</td></tr><tr><td>val_loss</td><td>█▃▂▁▁▁▁▁▁▁▁▁▁▁▁▁▁▁▁▁▁▁▁▁▁▁▁▁▁▁▁▁▁▁▁▁▁▁▁▁</td></tr><tr><td>val_r2</td><td>▁▆▇█████████████████████████████████████</td></tr></table><br/></div><div class=\"wandb-col\"><h3>Run summary:</h3><br/><table class=\"wandb\"><tr><td>epoch</td><td>499</td></tr><tr><td>test_loss</td><td>0.4328</td></tr><tr><td>test_r2</td><td>0.8995</td></tr><tr><td>train_loss</td><td>0.04727</td></tr><tr><td>train_r2</td><td>0.98859</td></tr><tr><td>val_loss</td><td>0.3647</td></tr><tr><td>val_r2</td><td>0.92706</td></tr></table><br/></div></div>"
      ],
      "text/plain": [
       "<IPython.core.display.HTML object>"
      ]
     },
     "metadata": {},
     "output_type": "display_data"
    },
    {
     "data": {
      "text/html": [
       " View run <strong style=\"color:#cdcd00\">model_6_c</strong> at: <a href='https://wandb.ai/mlchem/ESOL_reproduction/runs/1cirf20g' target=\"_blank\">https://wandb.ai/mlchem/ESOL_reproduction/runs/1cirf20g</a><br/>Synced 5 W&B file(s), 0 media file(s), 0 artifact file(s) and 0 other file(s)"
      ],
      "text/plain": [
       "<IPython.core.display.HTML object>"
      ]
     },
     "metadata": {},
     "output_type": "display_data"
    },
    {
     "data": {
      "text/html": [
       "Find logs at: <code>./wandb/run-20231122_135052-1cirf20g/logs</code>"
      ],
      "text/plain": [
       "<IPython.core.display.HTML object>"
      ]
     },
     "metadata": {},
     "output_type": "display_data"
    },
    {
     "data": {
      "text/html": [
       "wandb version 0.16.0 is available!  To upgrade, please run:\n",
       " $ pip install wandb --upgrade"
      ],
      "text/plain": [
       "<IPython.core.display.HTML object>"
      ]
     },
     "metadata": {},
     "output_type": "display_data"
    },
    {
     "data": {
      "text/html": [
       "Tracking run with wandb version 0.15.12"
      ],
      "text/plain": [
       "<IPython.core.display.HTML object>"
      ]
     },
     "metadata": {},
     "output_type": "display_data"
    },
    {
     "data": {
      "text/html": [
       "Run data is saved locally in <code>/workspace/code/wandb/run-20231122_135433-8a7fwify</code>"
      ],
      "text/plain": [
       "<IPython.core.display.HTML object>"
      ]
     },
     "metadata": {},
     "output_type": "display_data"
    },
    {
     "data": {
      "text/html": [
       "Syncing run <strong><a href='https://wandb.ai/mlchem/ESOL_reproduction/runs/8a7fwify' target=\"_blank\">model_7_c</a></strong> to <a href='https://wandb.ai/mlchem/ESOL_reproduction' target=\"_blank\">Weights & Biases</a> (<a href='https://wandb.me/run' target=\"_blank\">docs</a>)<br/>"
      ],
      "text/plain": [
       "<IPython.core.display.HTML object>"
      ]
     },
     "metadata": {},
     "output_type": "display_data"
    },
    {
     "data": {
      "text/html": [
       " View project at <a href='https://wandb.ai/mlchem/ESOL_reproduction' target=\"_blank\">https://wandb.ai/mlchem/ESOL_reproduction</a>"
      ],
      "text/plain": [
       "<IPython.core.display.HTML object>"
      ]
     },
     "metadata": {},
     "output_type": "display_data"
    },
    {
     "data": {
      "text/html": [
       " View run at <a href='https://wandb.ai/mlchem/ESOL_reproduction/runs/8a7fwify' target=\"_blank\">https://wandb.ai/mlchem/ESOL_reproduction/runs/8a7fwify</a>"
      ],
      "text/plain": [
       "<IPython.core.display.HTML object>"
      ]
     },
     "metadata": {},
     "output_type": "display_data"
    },
    {
     "data": {
      "text/html": [
       "Waiting for W&B process to finish... <strong style=\"color:green\">(success).</strong>"
      ],
      "text/plain": [
       "<IPython.core.display.HTML object>"
      ]
     },
     "metadata": {},
     "output_type": "display_data"
    },
    {
     "data": {
      "text/html": [
       "<style>\n",
       "    table.wandb td:nth-child(1) { padding: 0 10px; text-align: left ; width: auto;} td:nth-child(2) {text-align: left ; width: 100%}\n",
       "    .wandb-row { display: flex; flex-direction: row; flex-wrap: wrap; justify-content: flex-start; width: 100% }\n",
       "    .wandb-col { display: flex; flex-direction: column; flex-basis: 100%; flex: 1; padding: 10px; }\n",
       "    </style>\n",
       "<div class=\"wandb-row\"><div class=\"wandb-col\"><h3>Run history:</h3><br/><table class=\"wandb\"><tr><td>epoch</td><td>▁▁▁▂▂▂▂▂▂▃▃▃▃▃▄▄▄▄▄▄▅▅▅▅▅▅▆▆▆▆▆▇▇▇▇▇▇███</td></tr><tr><td>test_loss</td><td>█▂▂▂▂▁▁▁▁▁▁▁▁▁▁▁▁▁▁▁▁▁▁▁▁▁▁▁▁▁▁▁▁▁▁▁▁▁▁▁</td></tr><tr><td>test_r2</td><td>▁▇▇▇▇███████████████████████████████████</td></tr><tr><td>train_loss</td><td>█▃▂▂▂▂▁▁▁▁▁▁▁▁▁▁▁▁▁▁▁▁▁▁▁▁▁▁▁▁▁▁▁▁▁▁▁▁▁▁</td></tr><tr><td>train_r2</td><td>▁▆▇▇▇▇██████████████████████████████████</td></tr><tr><td>val_loss</td><td>█▃▂▂▂▂▁▁▁▁▁▁▁▁▁▁▁▁▁▁▁▁▁▁▁▁▁▁▁▁▁▁▁▁▁▁▁▁▁▁</td></tr><tr><td>val_r2</td><td>▁▆▇▇▇▇██████████████████████████████████</td></tr></table><br/></div><div class=\"wandb-col\"><h3>Run summary:</h3><br/><table class=\"wandb\"><tr><td>epoch</td><td>499</td></tr><tr><td>test_loss</td><td>0.40823</td></tr><tr><td>test_r2</td><td>0.90521</td></tr><tr><td>train_loss</td><td>0.04438</td></tr><tr><td>train_r2</td><td>0.98886</td></tr><tr><td>val_loss</td><td>0.3516</td></tr><tr><td>val_r2</td><td>0.92968</td></tr></table><br/></div></div>"
      ],
      "text/plain": [
       "<IPython.core.display.HTML object>"
      ]
     },
     "metadata": {},
     "output_type": "display_data"
    },
    {
     "data": {
      "text/html": [
       " View run <strong style=\"color:#cdcd00\">model_7_c</strong> at: <a href='https://wandb.ai/mlchem/ESOL_reproduction/runs/8a7fwify' target=\"_blank\">https://wandb.ai/mlchem/ESOL_reproduction/runs/8a7fwify</a><br/>Synced 5 W&B file(s), 0 media file(s), 0 artifact file(s) and 0 other file(s)"
      ],
      "text/plain": [
       "<IPython.core.display.HTML object>"
      ]
     },
     "metadata": {},
     "output_type": "display_data"
    },
    {
     "data": {
      "text/html": [
       "Find logs at: <code>./wandb/run-20231122_135433-8a7fwify/logs</code>"
      ],
      "text/plain": [
       "<IPython.core.display.HTML object>"
      ]
     },
     "metadata": {},
     "output_type": "display_data"
    },
    {
     "data": {
      "text/html": [
       "wandb version 0.16.0 is available!  To upgrade, please run:\n",
       " $ pip install wandb --upgrade"
      ],
      "text/plain": [
       "<IPython.core.display.HTML object>"
      ]
     },
     "metadata": {},
     "output_type": "display_data"
    },
    {
     "data": {
      "text/html": [
       "Tracking run with wandb version 0.15.12"
      ],
      "text/plain": [
       "<IPython.core.display.HTML object>"
      ]
     },
     "metadata": {},
     "output_type": "display_data"
    },
    {
     "data": {
      "text/html": [
       "Run data is saved locally in <code>/workspace/code/wandb/run-20231122_135815-ojlcqvp6</code>"
      ],
      "text/plain": [
       "<IPython.core.display.HTML object>"
      ]
     },
     "metadata": {},
     "output_type": "display_data"
    },
    {
     "data": {
      "text/html": [
       "Syncing run <strong><a href='https://wandb.ai/mlchem/ESOL_reproduction/runs/ojlcqvp6' target=\"_blank\">model_8_c</a></strong> to <a href='https://wandb.ai/mlchem/ESOL_reproduction' target=\"_blank\">Weights & Biases</a> (<a href='https://wandb.me/run' target=\"_blank\">docs</a>)<br/>"
      ],
      "text/plain": [
       "<IPython.core.display.HTML object>"
      ]
     },
     "metadata": {},
     "output_type": "display_data"
    },
    {
     "data": {
      "text/html": [
       " View project at <a href='https://wandb.ai/mlchem/ESOL_reproduction' target=\"_blank\">https://wandb.ai/mlchem/ESOL_reproduction</a>"
      ],
      "text/plain": [
       "<IPython.core.display.HTML object>"
      ]
     },
     "metadata": {},
     "output_type": "display_data"
    },
    {
     "data": {
      "text/html": [
       " View run at <a href='https://wandb.ai/mlchem/ESOL_reproduction/runs/ojlcqvp6' target=\"_blank\">https://wandb.ai/mlchem/ESOL_reproduction/runs/ojlcqvp6</a>"
      ],
      "text/plain": [
       "<IPython.core.display.HTML object>"
      ]
     },
     "metadata": {},
     "output_type": "display_data"
    },
    {
     "data": {
      "text/html": [
       "Waiting for W&B process to finish... <strong style=\"color:green\">(success).</strong>"
      ],
      "text/plain": [
       "<IPython.core.display.HTML object>"
      ]
     },
     "metadata": {},
     "output_type": "display_data"
    },
    {
     "data": {
      "text/html": [
       "<style>\n",
       "    table.wandb td:nth-child(1) { padding: 0 10px; text-align: left ; width: auto;} td:nth-child(2) {text-align: left ; width: 100%}\n",
       "    .wandb-row { display: flex; flex-direction: row; flex-wrap: wrap; justify-content: flex-start; width: 100% }\n",
       "    .wandb-col { display: flex; flex-direction: column; flex-basis: 100%; flex: 1; padding: 10px; }\n",
       "    </style>\n",
       "<div class=\"wandb-row\"><div class=\"wandb-col\"><h3>Run history:</h3><br/><table class=\"wandb\"><tr><td>epoch</td><td>▁▁▁▂▂▂▂▂▂▃▃▃▃▃▄▄▄▄▄▄▅▅▅▅▅▅▆▆▆▆▆▇▇▇▇▇▇███</td></tr><tr><td>test_loss</td><td>█▂▂▁▁▁▁▁▁▁▁▁▁▁▁▁▁▁▁▁▁▁▁▁▁▁▁▁▁▁▁▁▁▁▁▁▁▁▁▁</td></tr><tr><td>test_r2</td><td>▁▇▇█████████████████████████████████████</td></tr><tr><td>train_loss</td><td>█▂▂▂▁▁▁▁▁▁▁▁▁▁▁▁▁▁▁▁▁▁▁▁▁▁▁▁▁▁▁▁▁▁▁▁▁▁▁▁</td></tr><tr><td>train_r2</td><td>▁▇▇▇█▇██████████████████████████████████</td></tr><tr><td>val_loss</td><td>█▂▂▂▁▂▁▁▁▁▁▁▁▁▁▁▁▁▁▁▁▁▁▁▁▁▁▁▁▁▁▁▁▁▁▁▁▁▁▁</td></tr><tr><td>val_r2</td><td>▁▇▇▇█▇██████████████████████████████████</td></tr></table><br/></div><div class=\"wandb-col\"><h3>Run summary:</h3><br/><table class=\"wandb\"><tr><td>epoch</td><td>499</td></tr><tr><td>test_loss</td><td>0.42568</td></tr><tr><td>test_r2</td><td>0.90115</td></tr><tr><td>train_loss</td><td>0.07132</td></tr><tr><td>train_r2</td><td>0.98225</td></tr><tr><td>val_loss</td><td>0.3608</td></tr><tr><td>val_r2</td><td>0.92784</td></tr></table><br/></div></div>"
      ],
      "text/plain": [
       "<IPython.core.display.HTML object>"
      ]
     },
     "metadata": {},
     "output_type": "display_data"
    },
    {
     "data": {
      "text/html": [
       " View run <strong style=\"color:#cdcd00\">model_8_c</strong> at: <a href='https://wandb.ai/mlchem/ESOL_reproduction/runs/ojlcqvp6' target=\"_blank\">https://wandb.ai/mlchem/ESOL_reproduction/runs/ojlcqvp6</a><br/>Synced 5 W&B file(s), 0 media file(s), 0 artifact file(s) and 0 other file(s)"
      ],
      "text/plain": [
       "<IPython.core.display.HTML object>"
      ]
     },
     "metadata": {},
     "output_type": "display_data"
    },
    {
     "data": {
      "text/html": [
       "Find logs at: <code>./wandb/run-20231122_135815-ojlcqvp6/logs</code>"
      ],
      "text/plain": [
       "<IPython.core.display.HTML object>"
      ]
     },
     "metadata": {},
     "output_type": "display_data"
    },
    {
     "data": {
      "text/html": [
       "wandb version 0.16.0 is available!  To upgrade, please run:\n",
       " $ pip install wandb --upgrade"
      ],
      "text/plain": [
       "<IPython.core.display.HTML object>"
      ]
     },
     "metadata": {},
     "output_type": "display_data"
    },
    {
     "data": {
      "text/html": [
       "Tracking run with wandb version 0.15.12"
      ],
      "text/plain": [
       "<IPython.core.display.HTML object>"
      ]
     },
     "metadata": {},
     "output_type": "display_data"
    },
    {
     "data": {
      "text/html": [
       "Run data is saved locally in <code>/workspace/code/wandb/run-20231122_140157-538z20nr</code>"
      ],
      "text/plain": [
       "<IPython.core.display.HTML object>"
      ]
     },
     "metadata": {},
     "output_type": "display_data"
    },
    {
     "data": {
      "text/html": [
       "Syncing run <strong><a href='https://wandb.ai/mlchem/ESOL_reproduction/runs/538z20nr' target=\"_blank\">model_9_c</a></strong> to <a href='https://wandb.ai/mlchem/ESOL_reproduction' target=\"_blank\">Weights & Biases</a> (<a href='https://wandb.me/run' target=\"_blank\">docs</a>)<br/>"
      ],
      "text/plain": [
       "<IPython.core.display.HTML object>"
      ]
     },
     "metadata": {},
     "output_type": "display_data"
    },
    {
     "data": {
      "text/html": [
       " View project at <a href='https://wandb.ai/mlchem/ESOL_reproduction' target=\"_blank\">https://wandb.ai/mlchem/ESOL_reproduction</a>"
      ],
      "text/plain": [
       "<IPython.core.display.HTML object>"
      ]
     },
     "metadata": {},
     "output_type": "display_data"
    },
    {
     "data": {
      "text/html": [
       " View run at <a href='https://wandb.ai/mlchem/ESOL_reproduction/runs/538z20nr' target=\"_blank\">https://wandb.ai/mlchem/ESOL_reproduction/runs/538z20nr</a>"
      ],
      "text/plain": [
       "<IPython.core.display.HTML object>"
      ]
     },
     "metadata": {},
     "output_type": "display_data"
    },
    {
     "data": {
      "text/html": [
       "Waiting for W&B process to finish... <strong style=\"color:green\">(success).</strong>"
      ],
      "text/plain": [
       "<IPython.core.display.HTML object>"
      ]
     },
     "metadata": {},
     "output_type": "display_data"
    },
    {
     "data": {
      "text/html": [
       "<style>\n",
       "    table.wandb td:nth-child(1) { padding: 0 10px; text-align: left ; width: auto;} td:nth-child(2) {text-align: left ; width: 100%}\n",
       "    .wandb-row { display: flex; flex-direction: row; flex-wrap: wrap; justify-content: flex-start; width: 100% }\n",
       "    .wandb-col { display: flex; flex-direction: column; flex-basis: 100%; flex: 1; padding: 10px; }\n",
       "    </style>\n",
       "<div class=\"wandb-row\"><div class=\"wandb-col\"><h3>Run history:</h3><br/><table class=\"wandb\"><tr><td>epoch</td><td>▁▁▁▂▂▂▂▂▂▃▃▃▃▃▄▄▄▄▄▄▅▅▅▅▅▅▆▆▆▆▆▇▇▇▇▇▇███</td></tr><tr><td>test_loss</td><td>█▂▁▁▁▁▁▁▁▁▁▁▁▁▁▁▁▁▁▁▁▁▁▁▁▁▁▁▁▁▁▁▁▁▁▁▁▁▁▁</td></tr><tr><td>test_r2</td><td>▁▇██████████████████████████████████████</td></tr><tr><td>train_loss</td><td>█▃▂▂▁▁▁▁▁▁▁▁▁▁▁▁▁▁▁▁▁▁▁▁▁▁▁▁▁▁▁▁▁▁▁▁▁▁▁▁</td></tr><tr><td>train_r2</td><td>▁▆▇▇████████████████████████████████████</td></tr><tr><td>val_loss</td><td>█▃▂▂▁▁▁▁▁▁▁▁▁▁▁▁▁▁▁▁▁▁▁▁▁▁▁▁▁▁▁▁▁▁▁▁▁▁▁▁</td></tr><tr><td>val_r2</td><td>▁▆▇▇████████████████████████████████████</td></tr></table><br/></div><div class=\"wandb-col\"><h3>Run summary:</h3><br/><table class=\"wandb\"><tr><td>epoch</td><td>499</td></tr><tr><td>test_loss</td><td>0.39585</td></tr><tr><td>test_r2</td><td>0.90808</td></tr><tr><td>train_loss</td><td>0.06903</td></tr><tr><td>train_r2</td><td>0.98343</td></tr><tr><td>val_loss</td><td>0.3481</td></tr><tr><td>val_r2</td><td>0.93038</td></tr></table><br/></div></div>"
      ],
      "text/plain": [
       "<IPython.core.display.HTML object>"
      ]
     },
     "metadata": {},
     "output_type": "display_data"
    },
    {
     "data": {
      "text/html": [
       " View run <strong style=\"color:#cdcd00\">model_9_c</strong> at: <a href='https://wandb.ai/mlchem/ESOL_reproduction/runs/538z20nr' target=\"_blank\">https://wandb.ai/mlchem/ESOL_reproduction/runs/538z20nr</a><br/>Synced 5 W&B file(s), 0 media file(s), 0 artifact file(s) and 0 other file(s)"
      ],
      "text/plain": [
       "<IPython.core.display.HTML object>"
      ]
     },
     "metadata": {},
     "output_type": "display_data"
    },
    {
     "data": {
      "text/html": [
       "Find logs at: <code>./wandb/run-20231122_140157-538z20nr/logs</code>"
      ],
      "text/plain": [
       "<IPython.core.display.HTML object>"
      ]
     },
     "metadata": {},
     "output_type": "display_data"
    }
   ],
   "source": [
    "# wandb will be used to log the training progress\n",
    "wandb.login()\n",
    "\n",
    "for model_id in range(10):\n",
    "    \n",
    "    config = {\n",
    "        \"architecture\": \"RGCN by Wu et al.\",\n",
    "        \"dataset\": \"ESOL from Wu et al.\",\n",
    "        \"epochs\": 500,\n",
    "        \"random_seed\": 2022 + model_id * 10,\n",
    "        \"learning_rate\": 0.003,\n",
    "        \"rgcn_dropout_rate\": 0.5,\n",
    "        \"mlp_dropout_rate\": 0.1\n",
    "    }\n",
    "\n",
    "    wandb.init(project=\"ESOL_reproduction\", name=f\"model_{model_id}_c\", config=config)\n",
    "    XAIChem.set_seed(config[\"random_seed\"])\n",
    "\n",
    "    model = XAIChem.RGCN(num_node_features=XAIChem.getNumAtomFeatures()).to(device)\n",
    "    criterion = torch.nn.MSELoss()\n",
    "    optimizer = torch.optim.Adam(model.parameters(), lr=config[\"learning_rate\"])\n",
    "\n",
    "    for epoch in range(config[\"epochs\"]):\n",
    "    \n",
    "        train(train_loader, model, criterion, optimizer)\n",
    "    \n",
    "        train_r2, train_loss = evaluate(train_loader, model, criterion)\n",
    "        val_r2, val_loss = evaluate(val_loader, model, criterion)\n",
    "        test_r2, test_loss = evaluate(test_loader, model, criterion)\n",
    "    \n",
    "        wandb.log({\n",
    "            \"epoch\": epoch,\n",
    "            \"train_loss\": train_loss,\n",
    "            \"train_r2\": train_r2,\n",
    "            \"val_loss\": val_loss,\n",
    "            \"val_r2\": val_r2,\n",
    "            \"test_loss\": test_loss,\n",
    "            \"test_r2\": test_r2,\n",
    "        })\n",
    "    \n",
    "    torch.save(\n",
    "        model.state_dict(),\n",
    "        f\"../data/trained_models/ESOL/ESOL_rgcn_model_{model_id}_c.pt\"\n",
    "    )\n",
    "    wandb.finish()"
   ]
  },
  {
   "cell_type": "markdown",
   "id": "503a15e2-1d5b-4776-9128-53db657e211f",
   "metadata": {},
   "source": [
    "## Substructure mask explanation"
   ]
  },
  {
   "cell_type": "code",
   "execution_count": 187,
   "id": "f96cb0ef-6bee-4c64-9f98-12b14768e79e",
   "metadata": {},
   "outputs": [],
   "source": [
    "models = []\n",
    "\n",
    "for model_id in range(10):\n",
    "    model = XAIChem.RGCN(num_node_features=XAIChem.getNumAtomFeatures())\n",
    "    model.load_state_dict(\n",
    "        torch.load(\n",
    "            f\"../data/trained_models/ESOL/ESOL_rgcn_model_{model_id}_c.pt\"\n",
    "        )\n",
    "    )\n",
    "    model.eval()\n",
    "    models.append(model)"
   ]
  },
  {
   "cell_type": "code",
   "execution_count": 189,
   "id": "2a903b3c-d181-4de1-8eb3-6b5cc5879028",
   "metadata": {},
   "outputs": [],
   "source": [
    "def predict(graph, mask=None):\n",
    "\n",
    "    predictions = torch.zeros(10)\n",
    "    for i, model in enumerate(models):\n",
    "        predictions[i] = model(\n",
    "            graph.x, \n",
    "            graph.edge_index, \n",
    "            graph.edge_type, \n",
    "            torch.zeros(1, dtype=torch.long),\n",
    "            mask\n",
    "        )\n",
    "\n",
    "    return torch.mean(predictions), torch.std(predictions)"
   ]
  },
  {
   "cell_type": "code",
   "execution_count": 190,
   "id": "c75c2c70-c05a-4786-9ba9-46668f8a872e",
   "metadata": {},
   "outputs": [],
   "source": [
    "def show_molecule(mol, legend: str = '', highlightAtoms=[]):\n",
    "    \n",
    "    drawer = Draw.MolDraw2DCairo(350, 300)\n",
    "    options = drawer.drawOptions()\n",
    "    options.useBWAtomPalette()\n",
    "    options.annotationFontScale = 0.6\n",
    "\n",
    "    highlightAtoms = defaultdict(list)\n",
    "    highlightAtoms[7].append((1, 0, 0, 0.7))\n",
    "    highlightAtoms[8].append((0, 0, 1, 0.7))\n",
    "    \n",
    "    drawer.DrawMoleculeWithHighlights(\n",
    "        mol, \n",
    "        legend, \n",
    "        dict(highlightAtoms),\n",
    "        {},\n",
    "        {7: 0.2, 8: 0.2},\n",
    "        {}\n",
    "    )\n",
    "    drawer.FinishDrawing()\n",
    "    \n",
    "    return Image.open(BytesIO(drawer.GetDrawingText()))"
   ]
  },
  {
   "cell_type": "markdown",
   "id": "f21fd6a9-600b-476f-9738-af497169b5c3",
   "metadata": {},
   "source": [
    "### Menthol"
   ]
  },
  {
   "cell_type": "code",
   "execution_count": 192,
   "id": "efe6419c-3e97-4804-a9e8-a755c8f82ec9",
   "metadata": {},
   "outputs": [
    {
     "data": {
      "image/jpeg": "[encoded data removed]",
      "image/png": "[encoded data removed]",
      "text/plain": [
       "<PIL.PngImagePlugin.PngImageFile image mode=RGB size=350x300>"
      ]
     },
     "execution_count": 192,
     "metadata": {},
     "output_type": "execute_result"
    }
   ],
   "source": [
    "menthol_smiles = \"CC1CCC(C(C1)O)C(C)C\"\n",
    "menthol_rdmol = Chem.MolFromSmiles(menthol_smiles)\n",
    "rdDepictor.Compute2DCoords(menthol_rdmol)\n",
    "rdDepictor.StraightenDepiction(menthol_rdmol)\n",
    "\n",
    "menthol_rdmol.GetAtomWithIdx(7).SetProp('atomNote', '0.962')\n",
    "\n",
    "show_molecule(menthol_rdmol)"
   ]
  },
  {
   "cell_type": "code",
   "execution_count": 193,
   "id": "cf37a152-2c4e-43d2-9a19-a1dda6b16482",
   "metadata": {},
   "outputs": [],
   "source": [
    "functional_groups = [\"[OH]\", \"[NH2]\", \"[SH]\", \"[CH3]\"]"
   ]
  },
  {
   "cell_type": "code",
   "execution_count": 194,
   "id": "e91cb42e-7246-4387-a702-674b0af0f497",
   "metadata": {},
   "outputs": [
    {
     "name": "stdout",
     "output_type": "stream",
     "text": [
      "((7,),)\n",
      "()\n",
      "()\n",
      "((0,), (9,), (10,))\n"
     ]
    }
   ],
   "source": [
    "for functional_group in functional_groups:\n",
    "    print(menthol_rdmol.GetSubstructMatches(Chem.MolFromSmarts(functional_group)))"
   ]
  },
  {
   "cell_type": "code",
   "execution_count": 195,
   "id": "2d243b1b-225b-490b-85c3-f3807772523f",
   "metadata": {},
   "outputs": [],
   "source": [
    "mask = torch.zeros(menthol_rdmol.GetNumAtoms(), dtype=int)\n",
    "\n",
    "for i, atom in enumerate(menthol_rdmol.GetAtoms()):\n",
    "    mask[i] = atom.GetIdx() not in (7,)"
   ]
  },
  {
   "cell_type": "code",
   "execution_count": 196,
   "id": "b1eb6e79-a969-4a84-a9ad-4366cd706250",
   "metadata": {},
   "outputs": [
    {
     "name": "stdout",
     "output_type": "stream",
     "text": [
      "tensor(-3.8441) tensor(0.1910)\n",
      "tensor(-4.2353) tensor(0.1500)\n"
     ]
    }
   ],
   "source": [
    "graph = XAIChem.createDataObjectFromSmiles(menthol_smiles, -1)\n",
    "\n",
    "with torch.no_grad():\n",
    "    # Prediction of molecule without mask\n",
    "    pred_mean, pred_sd = predict(graph)\n",
    "    print(pred_mean, pred_sd)\n",
    "\n",
    "    # Mask hydroxyl group\n",
    "    pred_mean_masked_hydroxyl, pred_sd_masked_hydroxyl = predict(\n",
    "        graph, mask.view(-1, 1)\n",
    "    )\n",
    "    print(pred_mean_masked_hydroxyl, pred_sd_masked_hydroxyl)"
   ]
  },
  {
   "cell_type": "code",
   "execution_count": 88,
   "id": "fe8df835-2933-42b6-8293-2d41f39977c3",
   "metadata": {},
   "outputs": [],
   "source": [
    "attribution = pred_mean - pred_mean_masked_hydroxyl\n",
    "attribution_N = F.tanh(attribution)"
   ]
  },
  {
   "cell_type": "code",
   "execution_count": 89,
   "id": "5c0af65a-cd13-41f0-82a0-1d4d029c14a4",
   "metadata": {},
   "outputs": [
    {
     "data": {
      "text/plain": [
       "tensor(0.9074)"
      ]
     },
     "execution_count": 89,
     "metadata": {},
     "output_type": "execute_result"
    }
   ],
   "source": [
    "attribution"
   ]
  },
  {
   "cell_type": "code",
   "execution_count": 90,
   "id": "1e46dfb2-bf80-4324-9a5c-47af66aabb7b",
   "metadata": {},
   "outputs": [
    {
     "data": {
      "text/plain": [
       "tensor(0.7199)"
      ]
     },
     "execution_count": 90,
     "metadata": {},
     "output_type": "execute_result"
    }
   ],
   "source": [
    "attribution_N"
   ]
  },
  {
   "cell_type": "markdown",
   "id": "7c9b0037-c6e7-44ce-8edf-973339c6a817",
   "metadata": {},
   "source": [
    "### p-Menthane"
   ]
  },
  {
   "cell_type": "code",
   "execution_count": 46,
   "id": "d20e0df3-b38c-4a08-8707-33625e1599ec",
   "metadata": {},
   "outputs": [
    {
     "data": {
      "image/png": "[encoded data removed]",
      "text/plain": [
       "<rdkit.Chem.rdchem.Mol at 0x7f01180c43c0>"
      ]
     },
     "execution_count": 46,
     "metadata": {},
     "output_type": "execute_result"
    }
   ],
   "source": [
    "p_menthane_smiles = \"CC1CCC(CC1)C(C)C\"\n",
    "p_menthane_rdmol = Chem.MolFromSmiles(p_menthane_smiles)\n",
    "p_menthane_rdmol"
   ]
  },
  {
   "cell_type": "code",
   "execution_count": 47,
   "id": "f74cc841-3bde-4331-920b-c4b86f929651",
   "metadata": {},
   "outputs": [
    {
     "name": "stdout",
     "output_type": "stream",
     "text": [
      "tensor(-4.9916) tensor(0.1944)\n"
     ]
    }
   ],
   "source": [
    "graph = XAIChem.createDataObjectFromSmiles(p_menthane_smiles, -1)\n",
    "\n",
    "with torch.no_grad():\n",
    "    # Prediction of molecule without mask\n",
    "    pred_mean, pred_sd = predict(graph)\n",
    "    print(pred_mean, pred_sd)"
   ]
  },
  {
   "cell_type": "code",
   "execution_count": 48,
   "id": "501e53b8-62a1-4456-b1b9-dd251f774316",
   "metadata": {},
   "outputs": [
    {
     "data": {
      "text/plain": [
       "tensor(0.0068)"
      ]
     },
     "execution_count": 48,
     "metadata": {},
     "output_type": "execute_result"
    }
   ],
   "source": [
    "np.exp(pred_mean)"
   ]
  },
  {
   "cell_type": "code",
   "execution_count": null,
   "id": "c2c1cd50-b3bf-48cd-b151-0e772e52015e",
   "metadata": {},
   "outputs": [],
   "source": []
  }
 ],
 "metadata": {
  "kernelspec": {
   "display_name": "Python 3 (ipykernel)",
   "language": "python",
   "name": "python3"
  },
  "language_info": {
   "codemirror_mode": {
    "name": "ipython",
    "version": 3
   },
   "file_extension": ".py",
   "mimetype": "text/x-python",
   "name": "python",
   "nbconvert_exporter": "python",
   "pygments_lexer": "ipython3",
   "version": "3.10.13"
  }
 },
 "nbformat": 4,
 "nbformat_minor": 5
}
