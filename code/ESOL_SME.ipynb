{
 "cells": [
  {
   "cell_type": "code",
   "execution_count": 1,
   "id": "42448219-fa80-4071-a5e8-3d9053b2a96e",
   "metadata": {},
   "outputs": [],
   "source": [
    "import numpy as np\n",
    "import wandb\n",
    "import torch\n",
    "from torch_geometric.loader import DataLoader\n",
    "\n",
    "import XAIChem"
   ]
  },
  {
   "cell_type": "code",
   "execution_count": 15,
   "id": "375b42c2-fe3e-4a5a-8fd0-08b13807c2b7",
   "metadata": {},
   "outputs": [
    {
     "name": "stderr",
     "output_type": "stream",
     "text": [
      "\u001b[34m\u001b[1mwandb\u001b[0m: Currently logged in as: \u001b[33mxwieme\u001b[0m (\u001b[33mmlchem\u001b[0m). Use \u001b[1m`wandb login --relogin`\u001b[0m to force relogin\n"
     ]
    },
    {
     "data": {
      "text/plain": [
       "True"
      ]
     },
     "execution_count": 15,
     "metadata": {},
     "output_type": "execute_result"
    }
   ],
   "source": [
    "wandb.login()"
   ]
  },
  {
   "cell_type": "code",
   "execution_count": 2,
   "id": "543946b6-e358-49a1-a9e0-76a1ae9645a9",
   "metadata": {},
   "outputs": [],
   "source": [
    "device = torch.device(\"cuda\" if torch.cuda.is_available() else \"cpu\")"
   ]
  },
  {
   "cell_type": "markdown",
   "id": "5ad7086e-47b4-457a-abe2-25cbc440198c",
   "metadata": {},
   "source": [
    "## Load data"
   ]
  },
  {
   "cell_type": "code",
   "execution_count": 3,
   "id": "38f5d0cb-1d14-4f9d-8058-57a91faffb4f",
   "metadata": {},
   "outputs": [],
   "source": [
    "train_data = XAIChem.Dataset(root=\"../data\", name=\"ESOL\", tag=\"train\")\n",
    "val_data = XAIChem.Dataset(root=\"../data\", name=\"ESOL\", tag=\"val\")\n",
    "test_data = XAIChem.Dataset(root=\"../data\", name=\"ESOL\", tag=\"test\")"
   ]
  },
  {
   "cell_type": "code",
   "execution_count": 4,
   "id": "9a1b7be0-2ffa-4b60-8813-e8d84069d5dd",
   "metadata": {},
   "outputs": [],
   "source": [
    "train_loader = DataLoader(train_data, batch_size=256)\n",
    "val_loader = DataLoader(val_data, batch_size=256)\n",
    "test_loader = DataLoader(test_data, batch_size=256)"
   ]
  },
  {
   "cell_type": "markdown",
   "id": "5107b68e-f8ed-4fd4-8372-4094d5fa1bff",
   "metadata": {},
   "source": [
    "## Model setup"
   ]
  },
  {
   "cell_type": "code",
   "execution_count": 5,
   "id": "3ee7ec68-547c-45bd-8937-c3c7b08654a4",
   "metadata": {},
   "outputs": [],
   "source": [
    "def train(loader, model, criterion, optimzer):\n",
    "    \"\"\"\n",
    "    Perform one epoch of the training step\n",
    "    \"\"\"\n",
    "    model.train()\n",
    "\n",
    "    # Iterate through the batches\n",
    "    for i, data in enumerate(loader):\n",
    "        data.to(device)\n",
    "        \n",
    "        out = model(data.x, data.edge_index, data.edge_type, data.batch)\n",
    "        loss = criterion(out, data.y.view(-1, 1))\n",
    "        loss.backward()\n",
    "        optimizer.step()\n",
    "        optimizer.zero_grad()"
   ]
  },
  {
   "cell_type": "code",
   "execution_count": 6,
   "id": "8e953724-8148-4cfd-8bdf-3e3546ad42bf",
   "metadata": {},
   "outputs": [],
   "source": [
    "def evaluate(loader, model, criterion):\n",
    "    model.eval()\n",
    "\n",
    "    # Log average loss of batches\n",
    "    losses = torch.zeros(len(loader))\n",
    "\n",
    "    # Save all predictions and labels to compute the \n",
    "    # Pearson correlation of the whole data set\n",
    "    predictions = torch.zeros(len(loader.dataset))\n",
    "    labels = torch.zeros(len(loader.dataset))\n",
    "\n",
    "    index = 0\n",
    "    for i, data in enumerate(loader):\n",
    "        data.to(device)\n",
    "        \n",
    "        pred = model(data.x, data.edge_index, data.edge_type, data.batch)\n",
    "        losses[i] = criterion(pred, data.y.view(-1, 1))\n",
    "\n",
    "        new_index = index + data.batch_size\n",
    "        predictions[index:new_index] = pred.view(1, -1)\n",
    "        labels[index:new_index] = data.y\n",
    "        index = new_index\n",
    "\n",
    "    predictions -= torch.mean(predictions)\n",
    "    labels -= torch.mean(labels)\n",
    "\n",
    "    pearson_corr = torch.sum(predictions * labels) / (\n",
    "        torch.sqrt(torch.sum(predictions**2)) *\n",
    "        torch.sqrt(torch.sum(labels**2))\n",
    "    )\n",
    "\n",
    "    return pearson_corr, torch.mean(losses)"
   ]
  },
  {
   "cell_type": "code",
   "execution_count": 7,
   "id": "5621fca4-be6f-4bf7-8572-4137a1af0f79",
   "metadata": {},
   "outputs": [],
   "source": [
    "model = XAIChem.RGCN(num_node_features=35).to(device)\n",
    "criterion = torch.nn.MSELoss()\n",
    "optimizer = torch.optim.Adam(model.parameters(), lr=0.003)"
   ]
  },
  {
   "cell_type": "markdown",
   "id": "4b064e05-3b6b-44bd-910a-5a13dfe97b3e",
   "metadata": {},
   "source": [
    "## Train model"
   ]
  },
  {
   "cell_type": "code",
   "execution_count": null,
   "id": "02495b1e-536e-41ec-a69b-5c723402f4fa",
   "metadata": {},
   "outputs": [],
   "source": [
    "for epoch in range(500):\n",
    "\n",
    "    train(train_loader, model, criterion, optimizer)\n",
    "\n",
    "    train_pearson_corr, train_loss = evaluate(train_loader, model, criterion)\n",
    "    val_pearson_corr, val_loss = evaluate(val_loader, model, criterion)\n",
    "    test_pearson_corr, test_loss = evaluate(test_loader, model, criterion)\n",
    "\n",
    "    print(train_loss)"
   ]
  },
  {
   "cell_type": "markdown",
   "id": "503a15e2-1d5b-4776-9128-53db657e211f",
   "metadata": {},
   "source": [
    "## Substructure mask explanation"
   ]
  },
  {
   "cell_type": "code",
   "execution_count": null,
   "id": "c7054df5-28f5-454e-b242-fafdd889b0da",
   "metadata": {},
   "outputs": [],
   "source": []
  }
 ],
 "metadata": {
  "kernelspec": {
   "display_name": "Python 3 (ipykernel)",
   "language": "python",
   "name": "python3"
  },
  "language_info": {
   "codemirror_mode": {
    "name": "ipython",
    "version": 3
   },
   "file_extension": ".py",
   "mimetype": "text/x-python",
   "name": "python",
   "nbconvert_exporter": "python",
   "pygments_lexer": "ipython3",
   "version": "3.10.13"
  }
 },
 "nbformat": 4,
 "nbformat_minor": 5
}
