{
 "cells": [
  {
   "cell_type": "code",
   "execution_count": 1,
   "id": "42448219-fa80-4071-a5e8-3d9053b2a96e",
   "metadata": {},
   "outputs": [],
   "source": [
    "from typing import List, Tuple, Iterable, Dict\n",
    "from collections import defaultdict\n",
    "\n",
    "from tqdm import tqdm\n",
    "import numpy as np\n",
    "import pandas as pd\n",
    "from sklearn.metrics import r2_score\n",
    "import wandb\n",
    "import torch\n",
    "import torch.nn.functional as F\n",
    "from torch_geometric.loader import DataLoader\n",
    "from rdkit import Chem\n",
    "from rdkit.Chem import BRICS\n",
    "from rdkit.Chem import Draw\n",
    "import plotly.express as px\n",
    "import plotly.graph_objects as go\n",
    "\n",
    "import XAIChem"
   ]
  },
  {
   "cell_type": "markdown",
   "id": "5ad7086e-47b4-457a-abe2-25cbc440198c",
   "metadata": {
    "jp-MarkdownHeadingCollapsed": true
   },
   "source": [
    "## Load data"
   ]
  },
  {
   "cell_type": "code",
   "execution_count": 2,
   "id": "38f5d0cb-1d14-4f9d-8058-57a91faffb4f",
   "metadata": {},
   "outputs": [],
   "source": [
    "train_data = XAIChem.Dataset(root=\"../data\", name=\"ESOL\", tag=\"train\")\n",
    "val_data = XAIChem.Dataset(root=\"../data\", name=\"ESOL\", tag=\"val\")\n",
    "test_data = XAIChem.Dataset(root=\"../data\", name=\"ESOL\", tag=\"test\")"
   ]
  },
  {
   "cell_type": "code",
   "execution_count": 3,
   "id": "9a1b7be0-2ffa-4b60-8813-e8d84069d5dd",
   "metadata": {},
   "outputs": [],
   "source": [
    "train_loader = DataLoader(train_data, batch_size=256)\n",
    "val_loader = DataLoader(val_data, batch_size=256)\n",
    "test_loader = DataLoader(test_data, batch_size=256)"
   ]
  },
  {
   "cell_type": "markdown",
   "id": "5107b68e-f8ed-4fd4-8372-4094d5fa1bff",
   "metadata": {
    "jp-MarkdownHeadingCollapsed": true
   },
   "source": [
    "## Model training and evaluation setup"
   ]
  },
  {
   "cell_type": "code",
   "execution_count": 4,
   "id": "3ee7ec68-547c-45bd-8937-c3c7b08654a4",
   "metadata": {},
   "outputs": [],
   "source": [
    "def train(loader, model, criterion, optimzer):\n",
    "    \"\"\"\n",
    "    Perform one epoch of the training step\n",
    "    \"\"\"\n",
    "    model.train()\n",
    "\n",
    "    # Iterate through the batches\n",
    "    for i, data in enumerate(loader):\n",
    "        data.to(device)\n",
    "        \n",
    "        out = model(data.x, data.edge_index, data.edge_type, data.batch)\n",
    "        loss = criterion(out, data.y.view(-1, 1))\n",
    "        loss.backward()\n",
    "        optimizer.step()\n",
    "        optimizer.zero_grad()"
   ]
  },
  {
   "cell_type": "code",
   "execution_count": 5,
   "id": "8e953724-8148-4cfd-8bdf-3e3546ad42bf",
   "metadata": {},
   "outputs": [],
   "source": [
    "def evaluate(loader, model, criterion):\n",
    "    model.eval()\n",
    "\n",
    "    with torch.no_grad():\n",
    "        # Log average loss of batches\n",
    "        losses = torch.zeros(len(loader))\n",
    "    \n",
    "        # Save all predictions and labels to compute the \n",
    "        # coefficient of determination (i.e. R^2) of the \n",
    "        # whole data set\n",
    "        predictions = torch.zeros(len(loader.dataset))\n",
    "        labels = torch.zeros(len(loader.dataset))\n",
    "    \n",
    "        index = 0\n",
    "        for i, data in enumerate(loader):\n",
    "            data.to(device)\n",
    "            \n",
    "            pred = model(data.x, data.edge_index, data.edge_type, data.batch)\n",
    "            losses[i] = criterion(pred, data.y.view(-1, 1))\n",
    "    \n",
    "            new_index = index + data.batch_size\n",
    "            predictions[index:new_index] = pred.view(1, -1)\n",
    "            labels[index:new_index] = data.y\n",
    "            index = new_index\n",
    "    \n",
    "        r2 = r2_score(labels, predictions)\n",
    "\n",
    "    return r2, torch.mean(losses)"
   ]
  },
  {
   "cell_type": "markdown",
   "id": "4b064e05-3b6b-44bd-910a-5a13dfe97b3e",
   "metadata": {
    "jp-MarkdownHeadingCollapsed": true
   },
   "source": [
    "## Train models"
   ]
  },
  {
   "cell_type": "code",
   "execution_count": 6,
   "id": "692bcc43-5afa-4556-add7-76db46e8dce2",
   "metadata": {},
   "outputs": [],
   "source": [
    "device = torch.device(\"cuda\" if torch.cuda.is_available() else \"cpu\")"
   ]
  },
  {
   "cell_type": "code",
   "execution_count": 7,
   "id": "02495b1e-536e-41ec-a69b-5c723402f4fa",
   "metadata": {
    "scrolled": true
   },
   "outputs": [
    {
     "name": "stderr",
     "output_type": "stream",
     "text": [
      "\u001b[34m\u001b[1mwandb\u001b[0m: Currently logged in as: \u001b[33mxwieme\u001b[0m (\u001b[33mmlchem\u001b[0m). Use \u001b[1m`wandb login --relogin`\u001b[0m to force relogin\n"
     ]
    },
    {
     "data": {
      "text/html": [
       "wandb version 0.16.0 is available!  To upgrade, please run:\n",
       " $ pip install wandb --upgrade"
      ],
      "text/plain": [
       "<IPython.core.display.HTML object>"
      ]
     },
     "metadata": {},
     "output_type": "display_data"
    },
    {
     "data": {
      "text/html": [
       "Tracking run with wandb version 0.15.12"
      ],
      "text/plain": [
       "<IPython.core.display.HTML object>"
      ]
     },
     "metadata": {},
     "output_type": "display_data"
    },
    {
     "data": {
      "text/html": [
       "Run data is saved locally in <code>/workspace/code/wandb/run-20231122_132845-6yd7ra4a</code>"
      ],
      "text/plain": [
       "<IPython.core.display.HTML object>"
      ]
     },
     "metadata": {},
     "output_type": "display_data"
    },
    {
     "data": {
      "text/html": [
       "Syncing run <strong><a href='https://wandb.ai/mlchem/ESOL_reproduction/runs/6yd7ra4a' target=\"_blank\">model_0_c</a></strong> to <a href='https://wandb.ai/mlchem/ESOL_reproduction' target=\"_blank\">Weights & Biases</a> (<a href='https://wandb.me/run' target=\"_blank\">docs</a>)<br/>"
      ],
      "text/plain": [
       "<IPython.core.display.HTML object>"
      ]
     },
     "metadata": {},
     "output_type": "display_data"
    },
    {
     "data": {
      "text/html": [
       " View project at <a href='https://wandb.ai/mlchem/ESOL_reproduction' target=\"_blank\">https://wandb.ai/mlchem/ESOL_reproduction</a>"
      ],
      "text/plain": [
       "<IPython.core.display.HTML object>"
      ]
     },
     "metadata": {},
     "output_type": "display_data"
    },
    {
     "data": {
      "text/html": [
       " View run at <a href='https://wandb.ai/mlchem/ESOL_reproduction/runs/6yd7ra4a' target=\"_blank\">https://wandb.ai/mlchem/ESOL_reproduction/runs/6yd7ra4a</a>"
      ],
      "text/plain": [
       "<IPython.core.display.HTML object>"
      ]
     },
     "metadata": {},
     "output_type": "display_data"
    },
    {
     "data": {
      "text/html": [
       "Waiting for W&B process to finish... <strong style=\"color:green\">(success).</strong>"
      ],
      "text/plain": [
       "<IPython.core.display.HTML object>"
      ]
     },
     "metadata": {},
     "output_type": "display_data"
    },
    {
     "data": {
      "text/html": [
       "<style>\n",
       "    table.wandb td:nth-child(1) { padding: 0 10px; text-align: left ; width: auto;} td:nth-child(2) {text-align: left ; width: 100%}\n",
       "    .wandb-row { display: flex; flex-direction: row; flex-wrap: wrap; justify-content: flex-start; width: 100% }\n",
       "    .wandb-col { display: flex; flex-direction: column; flex-basis: 100%; flex: 1; padding: 10px; }\n",
       "    </style>\n",
       "<div class=\"wandb-row\"><div class=\"wandb-col\"><h3>Run history:</h3><br/><table class=\"wandb\"><tr><td>epoch</td><td>▁▁▁▂▂▂▂▂▂▃▃▃▃▃▄▄▄▄▄▄▅▅▅▅▅▅▆▆▆▆▆▇▇▇▇▇▇███</td></tr><tr><td>test_loss</td><td>█▁▁▁▁▁▁▁▁▁▁▁▁▁▁▁▁▁▁▁▁▁▁▁▁▁▁▁▁▁▁▁▁▁▁▁▁▁▁▁</td></tr><tr><td>test_r2</td><td>▁███████████████████████████████████████</td></tr><tr><td>train_loss</td><td>█▂▁▁▁▁▁▁▁▁▁▁▁▁▁▁▁▁▁▁▁▁▁▁▁▁▁▁▁▁▁▁▁▁▁▁▁▁▁▁</td></tr><tr><td>train_r2</td><td>▁▇██████████████████████████████████████</td></tr><tr><td>val_loss</td><td>█▂▁▁▁▁▁▁▁▁▁▁▁▁▁▁▁▁▁▁▁▁▁▁▁▁▁▁▁▁▁▁▁▁▁▁▁▁▁▁</td></tr><tr><td>val_r2</td><td>▁▇██████████████████████████████████████</td></tr></table><br/></div><div class=\"wandb-col\"><h3>Run summary:</h3><br/><table class=\"wandb\"><tr><td>epoch</td><td>499</td></tr><tr><td>test_loss</td><td>0.3785</td></tr><tr><td>test_r2</td><td>0.91211</td></tr><tr><td>train_loss</td><td>0.05141</td></tr><tr><td>train_r2</td><td>0.98725</td></tr><tr><td>val_loss</td><td>0.35022</td></tr><tr><td>val_r2</td><td>0.92996</td></tr></table><br/></div></div>"
      ],
      "text/plain": [
       "<IPython.core.display.HTML object>"
      ]
     },
     "metadata": {},
     "output_type": "display_data"
    },
    {
     "data": {
      "text/html": [
       " View run <strong style=\"color:#cdcd00\">model_0_c</strong> at: <a href='https://wandb.ai/mlchem/ESOL_reproduction/runs/6yd7ra4a' target=\"_blank\">https://wandb.ai/mlchem/ESOL_reproduction/runs/6yd7ra4a</a><br/>Synced 5 W&B file(s), 0 media file(s), 0 artifact file(s) and 0 other file(s)"
      ],
      "text/plain": [
       "<IPython.core.display.HTML object>"
      ]
     },
     "metadata": {},
     "output_type": "display_data"
    },
    {
     "data": {
      "text/html": [
       "Find logs at: <code>./wandb/run-20231122_132845-6yd7ra4a/logs</code>"
      ],
      "text/plain": [
       "<IPython.core.display.HTML object>"
      ]
     },
     "metadata": {},
     "output_type": "display_data"
    },
    {
     "data": {
      "text/html": [
       "wandb version 0.16.0 is available!  To upgrade, please run:\n",
       " $ pip install wandb --upgrade"
      ],
      "text/plain": [
       "<IPython.core.display.HTML object>"
      ]
     },
     "metadata": {},
     "output_type": "display_data"
    },
    {
     "data": {
      "text/html": [
       "Tracking run with wandb version 0.15.12"
      ],
      "text/plain": [
       "<IPython.core.display.HTML object>"
      ]
     },
     "metadata": {},
     "output_type": "display_data"
    },
    {
     "data": {
      "text/html": [
       "Run data is saved locally in <code>/workspace/code/wandb/run-20231122_133225-rcg7spr2</code>"
      ],
      "text/plain": [
       "<IPython.core.display.HTML object>"
      ]
     },
     "metadata": {},
     "output_type": "display_data"
    },
    {
     "data": {
      "text/html": [
       "Syncing run <strong><a href='https://wandb.ai/mlchem/ESOL_reproduction/runs/rcg7spr2' target=\"_blank\">model_1_c</a></strong> to <a href='https://wandb.ai/mlchem/ESOL_reproduction' target=\"_blank\">Weights & Biases</a> (<a href='https://wandb.me/run' target=\"_blank\">docs</a>)<br/>"
      ],
      "text/plain": [
       "<IPython.core.display.HTML object>"
      ]
     },
     "metadata": {},
     "output_type": "display_data"
    },
    {
     "data": {
      "text/html": [
       " View project at <a href='https://wandb.ai/mlchem/ESOL_reproduction' target=\"_blank\">https://wandb.ai/mlchem/ESOL_reproduction</a>"
      ],
      "text/plain": [
       "<IPython.core.display.HTML object>"
      ]
     },
     "metadata": {},
     "output_type": "display_data"
    },
    {
     "data": {
      "text/html": [
       " View run at <a href='https://wandb.ai/mlchem/ESOL_reproduction/runs/rcg7spr2' target=\"_blank\">https://wandb.ai/mlchem/ESOL_reproduction/runs/rcg7spr2</a>"
      ],
      "text/plain": [
       "<IPython.core.display.HTML object>"
      ]
     },
     "metadata": {},
     "output_type": "display_data"
    },
    {
     "data": {
      "text/html": [
       "Waiting for W&B process to finish... <strong style=\"color:green\">(success).</strong>"
      ],
      "text/plain": [
       "<IPython.core.display.HTML object>"
      ]
     },
     "metadata": {},
     "output_type": "display_data"
    },
    {
     "data": {
      "text/html": [
       "<style>\n",
       "    table.wandb td:nth-child(1) { padding: 0 10px; text-align: left ; width: auto;} td:nth-child(2) {text-align: left ; width: 100%}\n",
       "    .wandb-row { display: flex; flex-direction: row; flex-wrap: wrap; justify-content: flex-start; width: 100% }\n",
       "    .wandb-col { display: flex; flex-direction: column; flex-basis: 100%; flex: 1; padding: 10px; }\n",
       "    </style>\n",
       "<div class=\"wandb-row\"><div class=\"wandb-col\"><h3>Run history:</h3><br/><table class=\"wandb\"><tr><td>epoch</td><td>▁▁▁▂▂▂▂▂▂▃▃▃▃▃▄▄▄▄▄▄▅▅▅▅▅▅▆▆▆▆▆▇▇▇▇▇▇███</td></tr><tr><td>test_loss</td><td>█▂▁▁▁▁▁▁▁▁▁▁▁▁▁▁▁▁▁▁▁▁▁▁▁▁▁▁▁▁▁▁▁▁▁▁▁▁▁▁</td></tr><tr><td>test_r2</td><td>▁▇██████████████████████████████████████</td></tr><tr><td>train_loss</td><td>█▃▂▂▁▂▁▁▁▁▁▁▁▁▁▁▁▁▁▁▁▁▁▁▁▁▁▁▁▁▁▁▁▁▁▁▁▁▁▁</td></tr><tr><td>train_r2</td><td>▁▆▇▇█▇██████████████████████████████████</td></tr><tr><td>val_loss</td><td>█▃▂▁▁▁▁▁▁▁▁▁▁▁▁▁▁▁▁▁▁▁▁▁▁▁▁▁▁▁▁▁▁▁▁▁▁▁▁▁</td></tr><tr><td>val_r2</td><td>▁▆▇█████████████████████████████████████</td></tr></table><br/></div><div class=\"wandb-col\"><h3>Run summary:</h3><br/><table class=\"wandb\"><tr><td>epoch</td><td>499</td></tr><tr><td>test_loss</td><td>0.45366</td></tr><tr><td>test_r2</td><td>0.89466</td></tr><tr><td>train_loss</td><td>0.07775</td></tr><tr><td>train_r2</td><td>0.98095</td></tr><tr><td>val_loss</td><td>0.41632</td></tr><tr><td>val_r2</td><td>0.91674</td></tr></table><br/></div></div>"
      ],
      "text/plain": [
       "<IPython.core.display.HTML object>"
      ]
     },
     "metadata": {},
     "output_type": "display_data"
    },
    {
     "data": {
      "text/html": [
       " View run <strong style=\"color:#cdcd00\">model_1_c</strong> at: <a href='https://wandb.ai/mlchem/ESOL_reproduction/runs/rcg7spr2' target=\"_blank\">https://wandb.ai/mlchem/ESOL_reproduction/runs/rcg7spr2</a><br/>Synced 5 W&B file(s), 0 media file(s), 0 artifact file(s) and 0 other file(s)"
      ],
      "text/plain": [
       "<IPython.core.display.HTML object>"
      ]
     },
     "metadata": {},
     "output_type": "display_data"
    },
    {
     "data": {
      "text/html": [
       "Find logs at: <code>./wandb/run-20231122_133225-rcg7spr2/logs</code>"
      ],
      "text/plain": [
       "<IPython.core.display.HTML object>"
      ]
     },
     "metadata": {},
     "output_type": "display_data"
    },
    {
     "data": {
      "text/html": [
       "wandb version 0.16.0 is available!  To upgrade, please run:\n",
       " $ pip install wandb --upgrade"
      ],
      "text/plain": [
       "<IPython.core.display.HTML object>"
      ]
     },
     "metadata": {},
     "output_type": "display_data"
    },
    {
     "data": {
      "text/html": [
       "Tracking run with wandb version 0.15.12"
      ],
      "text/plain": [
       "<IPython.core.display.HTML object>"
      ]
     },
     "metadata": {},
     "output_type": "display_data"
    },
    {
     "data": {
      "text/html": [
       "Run data is saved locally in <code>/workspace/code/wandb/run-20231122_133606-5pn9dr6h</code>"
      ],
      "text/plain": [
       "<IPython.core.display.HTML object>"
      ]
     },
     "metadata": {},
     "output_type": "display_data"
    },
    {
     "data": {
      "text/html": [
       "Syncing run <strong><a href='https://wandb.ai/mlchem/ESOL_reproduction/runs/5pn9dr6h' target=\"_blank\">model_2_c</a></strong> to <a href='https://wandb.ai/mlchem/ESOL_reproduction' target=\"_blank\">Weights & Biases</a> (<a href='https://wandb.me/run' target=\"_blank\">docs</a>)<br/>"
      ],
      "text/plain": [
       "<IPython.core.display.HTML object>"
      ]
     },
     "metadata": {},
     "output_type": "display_data"
    },
    {
     "data": {
      "text/html": [
       " View project at <a href='https://wandb.ai/mlchem/ESOL_reproduction' target=\"_blank\">https://wandb.ai/mlchem/ESOL_reproduction</a>"
      ],
      "text/plain": [
       "<IPython.core.display.HTML object>"
      ]
     },
     "metadata": {},
     "output_type": "display_data"
    },
    {
     "data": {
      "text/html": [
       " View run at <a href='https://wandb.ai/mlchem/ESOL_reproduction/runs/5pn9dr6h' target=\"_blank\">https://wandb.ai/mlchem/ESOL_reproduction/runs/5pn9dr6h</a>"
      ],
      "text/plain": [
       "<IPython.core.display.HTML object>"
      ]
     },
     "metadata": {},
     "output_type": "display_data"
    },
    {
     "data": {
      "text/html": [
       "Waiting for W&B process to finish... <strong style=\"color:green\">(success).</strong>"
      ],
      "text/plain": [
       "<IPython.core.display.HTML object>"
      ]
     },
     "metadata": {},
     "output_type": "display_data"
    },
    {
     "data": {
      "text/html": [
       "<style>\n",
       "    table.wandb td:nth-child(1) { padding: 0 10px; text-align: left ; width: auto;} td:nth-child(2) {text-align: left ; width: 100%}\n",
       "    .wandb-row { display: flex; flex-direction: row; flex-wrap: wrap; justify-content: flex-start; width: 100% }\n",
       "    .wandb-col { display: flex; flex-direction: column; flex-basis: 100%; flex: 1; padding: 10px; }\n",
       "    </style>\n",
       "<div class=\"wandb-row\"><div class=\"wandb-col\"><h3>Run history:</h3><br/><table class=\"wandb\"><tr><td>epoch</td><td>▁▁▁▂▂▂▂▂▂▃▃▃▃▃▄▄▄▄▄▄▅▅▅▅▅▅▆▆▆▆▆▇▇▇▇▇▇███</td></tr><tr><td>test_loss</td><td>█▃▂▁▁▁▁▁▁▁▁▁▁▁▁▁▁▁▁▁▁▁▁▁▁▁▁▁▁▁▁▁▁▁▁▁▁▁▁▁</td></tr><tr><td>test_r2</td><td>▁▆▇█████████████████████████████████████</td></tr><tr><td>train_loss</td><td>█▃▂▂▁▁▁▁▁▁▁▁▁▁▁▁▁▁▁▁▁▁▁▁▁▁▁▁▁▁▁▁▁▁▁▁▁▁▁▁</td></tr><tr><td>train_r2</td><td>▁▆▇▇████████████████████████████████████</td></tr><tr><td>val_loss</td><td>█▄▃▂▁▁▁▁▁▁▁▁▁▁▁▁▁▁▁▁▁▁▁▁▁▁▁▁▁▁▁▁▁▁▁▁▁▁▁▁</td></tr><tr><td>val_r2</td><td>▁▅▆▇████████████████████████████████████</td></tr></table><br/></div><div class=\"wandb-col\"><h3>Run summary:</h3><br/><table class=\"wandb\"><tr><td>epoch</td><td>499</td></tr><tr><td>test_loss</td><td>0.40663</td></tr><tr><td>test_r2</td><td>0.90558</td></tr><tr><td>train_loss</td><td>0.0553</td></tr><tr><td>train_r2</td><td>0.98619</td></tr><tr><td>val_loss</td><td>0.3794</td></tr><tr><td>val_r2</td><td>0.92412</td></tr></table><br/></div></div>"
      ],
      "text/plain": [
       "<IPython.core.display.HTML object>"
      ]
     },
     "metadata": {},
     "output_type": "display_data"
    },
    {
     "data": {
      "text/html": [
       " View run <strong style=\"color:#cdcd00\">model_2_c</strong> at: <a href='https://wandb.ai/mlchem/ESOL_reproduction/runs/5pn9dr6h' target=\"_blank\">https://wandb.ai/mlchem/ESOL_reproduction/runs/5pn9dr6h</a><br/>Synced 5 W&B file(s), 0 media file(s), 0 artifact file(s) and 0 other file(s)"
      ],
      "text/plain": [
       "<IPython.core.display.HTML object>"
      ]
     },
     "metadata": {},
     "output_type": "display_data"
    },
    {
     "data": {
      "text/html": [
       "Find logs at: <code>./wandb/run-20231122_133606-5pn9dr6h/logs</code>"
      ],
      "text/plain": [
       "<IPython.core.display.HTML object>"
      ]
     },
     "metadata": {},
     "output_type": "display_data"
    },
    {
     "data": {
      "text/html": [
       "wandb version 0.16.0 is available!  To upgrade, please run:\n",
       " $ pip install wandb --upgrade"
      ],
      "text/plain": [
       "<IPython.core.display.HTML object>"
      ]
     },
     "metadata": {},
     "output_type": "display_data"
    },
    {
     "data": {
      "text/html": [
       "Tracking run with wandb version 0.15.12"
      ],
      "text/plain": [
       "<IPython.core.display.HTML object>"
      ]
     },
     "metadata": {},
     "output_type": "display_data"
    },
    {
     "data": {
      "text/html": [
       "Run data is saved locally in <code>/workspace/code/wandb/run-20231122_133946-xnh788cc</code>"
      ],
      "text/plain": [
       "<IPython.core.display.HTML object>"
      ]
     },
     "metadata": {},
     "output_type": "display_data"
    },
    {
     "data": {
      "text/html": [
       "Syncing run <strong><a href='https://wandb.ai/mlchem/ESOL_reproduction/runs/xnh788cc' target=\"_blank\">model_3_c</a></strong> to <a href='https://wandb.ai/mlchem/ESOL_reproduction' target=\"_blank\">Weights & Biases</a> (<a href='https://wandb.me/run' target=\"_blank\">docs</a>)<br/>"
      ],
      "text/plain": [
       "<IPython.core.display.HTML object>"
      ]
     },
     "metadata": {},
     "output_type": "display_data"
    },
    {
     "data": {
      "text/html": [
       " View project at <a href='https://wandb.ai/mlchem/ESOL_reproduction' target=\"_blank\">https://wandb.ai/mlchem/ESOL_reproduction</a>"
      ],
      "text/plain": [
       "<IPython.core.display.HTML object>"
      ]
     },
     "metadata": {},
     "output_type": "display_data"
    },
    {
     "data": {
      "text/html": [
       " View run at <a href='https://wandb.ai/mlchem/ESOL_reproduction/runs/xnh788cc' target=\"_blank\">https://wandb.ai/mlchem/ESOL_reproduction/runs/xnh788cc</a>"
      ],
      "text/plain": [
       "<IPython.core.display.HTML object>"
      ]
     },
     "metadata": {},
     "output_type": "display_data"
    },
    {
     "data": {
      "text/html": [
       "Waiting for W&B process to finish... <strong style=\"color:green\">(success).</strong>"
      ],
      "text/plain": [
       "<IPython.core.display.HTML object>"
      ]
     },
     "metadata": {},
     "output_type": "display_data"
    },
    {
     "data": {
      "text/html": [
       "<style>\n",
       "    table.wandb td:nth-child(1) { padding: 0 10px; text-align: left ; width: auto;} td:nth-child(2) {text-align: left ; width: 100%}\n",
       "    .wandb-row { display: flex; flex-direction: row; flex-wrap: wrap; justify-content: flex-start; width: 100% }\n",
       "    .wandb-col { display: flex; flex-direction: column; flex-basis: 100%; flex: 1; padding: 10px; }\n",
       "    </style>\n",
       "<div class=\"wandb-row\"><div class=\"wandb-col\"><h3>Run history:</h3><br/><table class=\"wandb\"><tr><td>epoch</td><td>▁▁▁▂▂▂▂▂▂▃▃▃▃▃▄▄▄▄▄▄▅▅▅▅▅▅▆▆▆▆▆▇▇▇▇▇▇███</td></tr><tr><td>test_loss</td><td>█▂▁▁▂▁▁▁▁▁▁▁▁▁▁▁▁▁▁▁▁▁▁▁▁▁▁▁▁▁▁▁▁▁▁▁▁▁▁▁</td></tr><tr><td>test_r2</td><td>▁▇██▇███████████████████████████████████</td></tr><tr><td>train_loss</td><td>█▂▂▂▂▁▁▁▁▁▁▁▁▁▁▁▁▁▁▁▁▁▁▁▁▁▁▁▁▁▁▁▁▁▁▁▁▁▁▁</td></tr><tr><td>train_r2</td><td>▁▇▇▇▇███████████████████████████████████</td></tr><tr><td>val_loss</td><td>█▂▂▁▂▁▁▁▁▁▁▁▁▁▁▁▁▁▁▁▁▁▁▁▁▁▁▁▁▁▁▁▁▁▁▁▁▁▁▁</td></tr><tr><td>val_r2</td><td>▁▇▇█▇███████████████████████████████████</td></tr></table><br/></div><div class=\"wandb-col\"><h3>Run summary:</h3><br/><table class=\"wandb\"><tr><td>epoch</td><td>499</td></tr><tr><td>test_loss</td><td>0.38754</td></tr><tr><td>test_r2</td><td>0.91001</td></tr><tr><td>train_loss</td><td>0.0468</td></tr><tr><td>train_r2</td><td>0.98812</td></tr><tr><td>val_loss</td><td>0.34703</td></tr><tr><td>val_r2</td><td>0.93059</td></tr></table><br/></div></div>"
      ],
      "text/plain": [
       "<IPython.core.display.HTML object>"
      ]
     },
     "metadata": {},
     "output_type": "display_data"
    },
    {
     "data": {
      "text/html": [
       " View run <strong style=\"color:#cdcd00\">model_3_c</strong> at: <a href='https://wandb.ai/mlchem/ESOL_reproduction/runs/xnh788cc' target=\"_blank\">https://wandb.ai/mlchem/ESOL_reproduction/runs/xnh788cc</a><br/>Synced 5 W&B file(s), 0 media file(s), 0 artifact file(s) and 0 other file(s)"
      ],
      "text/plain": [
       "<IPython.core.display.HTML object>"
      ]
     },
     "metadata": {},
     "output_type": "display_data"
    },
    {
     "data": {
      "text/html": [
       "Find logs at: <code>./wandb/run-20231122_133946-xnh788cc/logs</code>"
      ],
      "text/plain": [
       "<IPython.core.display.HTML object>"
      ]
     },
     "metadata": {},
     "output_type": "display_data"
    },
    {
     "data": {
      "text/html": [
       "wandb version 0.16.0 is available!  To upgrade, please run:\n",
       " $ pip install wandb --upgrade"
      ],
      "text/plain": [
       "<IPython.core.display.HTML object>"
      ]
     },
     "metadata": {},
     "output_type": "display_data"
    },
    {
     "data": {
      "text/html": [
       "Tracking run with wandb version 0.15.12"
      ],
      "text/plain": [
       "<IPython.core.display.HTML object>"
      ]
     },
     "metadata": {},
     "output_type": "display_data"
    },
    {
     "data": {
      "text/html": [
       "Run data is saved locally in <code>/workspace/code/wandb/run-20231122_134329-9z8vgjr0</code>"
      ],
      "text/plain": [
       "<IPython.core.display.HTML object>"
      ]
     },
     "metadata": {},
     "output_type": "display_data"
    },
    {
     "data": {
      "text/html": [
       "Syncing run <strong><a href='https://wandb.ai/mlchem/ESOL_reproduction/runs/9z8vgjr0' target=\"_blank\">model_4_c</a></strong> to <a href='https://wandb.ai/mlchem/ESOL_reproduction' target=\"_blank\">Weights & Biases</a> (<a href='https://wandb.me/run' target=\"_blank\">docs</a>)<br/>"
      ],
      "text/plain": [
       "<IPython.core.display.HTML object>"
      ]
     },
     "metadata": {},
     "output_type": "display_data"
    },
    {
     "data": {
      "text/html": [
       " View project at <a href='https://wandb.ai/mlchem/ESOL_reproduction' target=\"_blank\">https://wandb.ai/mlchem/ESOL_reproduction</a>"
      ],
      "text/plain": [
       "<IPython.core.display.HTML object>"
      ]
     },
     "metadata": {},
     "output_type": "display_data"
    },
    {
     "data": {
      "text/html": [
       " View run at <a href='https://wandb.ai/mlchem/ESOL_reproduction/runs/9z8vgjr0' target=\"_blank\">https://wandb.ai/mlchem/ESOL_reproduction/runs/9z8vgjr0</a>"
      ],
      "text/plain": [
       "<IPython.core.display.HTML object>"
      ]
     },
     "metadata": {},
     "output_type": "display_data"
    },
    {
     "data": {
      "text/html": [
       "Waiting for W&B process to finish... <strong style=\"color:green\">(success).</strong>"
      ],
      "text/plain": [
       "<IPython.core.display.HTML object>"
      ]
     },
     "metadata": {},
     "output_type": "display_data"
    },
    {
     "data": {
      "text/html": [
       "<style>\n",
       "    table.wandb td:nth-child(1) { padding: 0 10px; text-align: left ; width: auto;} td:nth-child(2) {text-align: left ; width: 100%}\n",
       "    .wandb-row { display: flex; flex-direction: row; flex-wrap: wrap; justify-content: flex-start; width: 100% }\n",
       "    .wandb-col { display: flex; flex-direction: column; flex-basis: 100%; flex: 1; padding: 10px; }\n",
       "    </style>\n",
       "<div class=\"wandb-row\"><div class=\"wandb-col\"><h3>Run history:</h3><br/><table class=\"wandb\"><tr><td>epoch</td><td>▁▁▁▂▂▂▂▂▂▃▃▃▃▃▄▄▄▄▄▄▅▅▅▅▅▅▆▆▆▆▆▇▇▇▇▇▇███</td></tr><tr><td>test_loss</td><td>█▃▂▁▁▁▁▁▁▁▁▁▁▁▁▁▁▁▁▁▁▁▁▁▁▁▁▁▁▁▁▁▁▁▁▁▁▁▁▁</td></tr><tr><td>test_r2</td><td>▁▆▇█████████████████████████████████████</td></tr><tr><td>train_loss</td><td>█▃▂▂▁▁▁▁▁▁▁▁▁▁▁▁▁▁▁▁▁▁▁▁▁▁▁▁▁▁▁▁▁▁▁▁▁▁▁▁</td></tr><tr><td>train_r2</td><td>▁▆▇▇████████████████████████████████████</td></tr><tr><td>val_loss</td><td>█▃▂▁▁▁▁▁▁▁▁▁▁▁▁▁▁▁▁▁▁▁▁▁▁▁▁▁▁▁▁▁▁▁▁▁▁▁▁▁</td></tr><tr><td>val_r2</td><td>▁▆▇█████████████████████████████████████</td></tr></table><br/></div><div class=\"wandb-col\"><h3>Run summary:</h3><br/><table class=\"wandb\"><tr><td>epoch</td><td>499</td></tr><tr><td>test_loss</td><td>0.40536</td></tr><tr><td>test_r2</td><td>0.90587</td></tr><tr><td>train_loss</td><td>0.05369</td></tr><tr><td>train_r2</td><td>0.98659</td></tr><tr><td>val_loss</td><td>0.35909</td></tr><tr><td>val_r2</td><td>0.92818</td></tr></table><br/></div></div>"
      ],
      "text/plain": [
       "<IPython.core.display.HTML object>"
      ]
     },
     "metadata": {},
     "output_type": "display_data"
    },
    {
     "data": {
      "text/html": [
       " View run <strong style=\"color:#cdcd00\">model_4_c</strong> at: <a href='https://wandb.ai/mlchem/ESOL_reproduction/runs/9z8vgjr0' target=\"_blank\">https://wandb.ai/mlchem/ESOL_reproduction/runs/9z8vgjr0</a><br/>Synced 5 W&B file(s), 0 media file(s), 0 artifact file(s) and 0 other file(s)"
      ],
      "text/plain": [
       "<IPython.core.display.HTML object>"
      ]
     },
     "metadata": {},
     "output_type": "display_data"
    },
    {
     "data": {
      "text/html": [
       "Find logs at: <code>./wandb/run-20231122_134329-9z8vgjr0/logs</code>"
      ],
      "text/plain": [
       "<IPython.core.display.HTML object>"
      ]
     },
     "metadata": {},
     "output_type": "display_data"
    },
    {
     "data": {
      "text/html": [
       "wandb version 0.16.0 is available!  To upgrade, please run:\n",
       " $ pip install wandb --upgrade"
      ],
      "text/plain": [
       "<IPython.core.display.HTML object>"
      ]
     },
     "metadata": {},
     "output_type": "display_data"
    },
    {
     "data": {
      "text/html": [
       "Tracking run with wandb version 0.15.12"
      ],
      "text/plain": [
       "<IPython.core.display.HTML object>"
      ]
     },
     "metadata": {},
     "output_type": "display_data"
    },
    {
     "data": {
      "text/html": [
       "Run data is saved locally in <code>/workspace/code/wandb/run-20231122_134712-upejrqyt</code>"
      ],
      "text/plain": [
       "<IPython.core.display.HTML object>"
      ]
     },
     "metadata": {},
     "output_type": "display_data"
    },
    {
     "data": {
      "text/html": [
       "Syncing run <strong><a href='https://wandb.ai/mlchem/ESOL_reproduction/runs/upejrqyt' target=\"_blank\">model_5_c</a></strong> to <a href='https://wandb.ai/mlchem/ESOL_reproduction' target=\"_blank\">Weights & Biases</a> (<a href='https://wandb.me/run' target=\"_blank\">docs</a>)<br/>"
      ],
      "text/plain": [
       "<IPython.core.display.HTML object>"
      ]
     },
     "metadata": {},
     "output_type": "display_data"
    },
    {
     "data": {
      "text/html": [
       " View project at <a href='https://wandb.ai/mlchem/ESOL_reproduction' target=\"_blank\">https://wandb.ai/mlchem/ESOL_reproduction</a>"
      ],
      "text/plain": [
       "<IPython.core.display.HTML object>"
      ]
     },
     "metadata": {},
     "output_type": "display_data"
    },
    {
     "data": {
      "text/html": [
       " View run at <a href='https://wandb.ai/mlchem/ESOL_reproduction/runs/upejrqyt' target=\"_blank\">https://wandb.ai/mlchem/ESOL_reproduction/runs/upejrqyt</a>"
      ],
      "text/plain": [
       "<IPython.core.display.HTML object>"
      ]
     },
     "metadata": {},
     "output_type": "display_data"
    },
    {
     "data": {
      "text/html": [
       "Waiting for W&B process to finish... <strong style=\"color:green\">(success).</strong>"
      ],
      "text/plain": [
       "<IPython.core.display.HTML object>"
      ]
     },
     "metadata": {},
     "output_type": "display_data"
    },
    {
     "data": {
      "text/html": [
       "<style>\n",
       "    table.wandb td:nth-child(1) { padding: 0 10px; text-align: left ; width: auto;} td:nth-child(2) {text-align: left ; width: 100%}\n",
       "    .wandb-row { display: flex; flex-direction: row; flex-wrap: wrap; justify-content: flex-start; width: 100% }\n",
       "    .wandb-col { display: flex; flex-direction: column; flex-basis: 100%; flex: 1; padding: 10px; }\n",
       "    </style>\n",
       "<div class=\"wandb-row\"><div class=\"wandb-col\"><h3>Run history:</h3><br/><table class=\"wandb\"><tr><td>epoch</td><td>▁▁▁▂▂▂▂▂▂▃▃▃▃▃▄▄▄▄▄▄▅▅▅▅▅▅▆▆▆▆▆▇▇▇▇▇▇███</td></tr><tr><td>test_loss</td><td>█▃▂▁▁▁▁▁▁▁▁▁▁▁▁▁▁▁▁▁▁▁▁▁▁▁▁▁▁▁▁▁▁▁▁▁▁▁▁▁</td></tr><tr><td>test_r2</td><td>▁▆▇█████████████████████████████████████</td></tr><tr><td>train_loss</td><td>█▃▂▂▁▁▁▁▁▁▁▁▁▁▁▁▁▁▁▁▁▁▁▁▁▁▁▁▁▁▁▁▁▁▁▁▁▁▁▁</td></tr><tr><td>train_r2</td><td>▁▆▇▇████████████████████████████████████</td></tr><tr><td>val_loss</td><td>█▄▃▂▁▁▁▁▁▁▁▁▁▁▁▁▁▁▁▁▁▁▁▁▁▁▁▁▁▁▁▁▁▁▁▁▁▁▁▁</td></tr><tr><td>val_r2</td><td>▁▅▆▇████████████████████████████████████</td></tr></table><br/></div><div class=\"wandb-col\"><h3>Run summary:</h3><br/><table class=\"wandb\"><tr><td>epoch</td><td>499</td></tr><tr><td>test_loss</td><td>0.36864</td></tr><tr><td>test_r2</td><td>0.9144</td></tr><tr><td>train_loss</td><td>0.0444</td></tr><tr><td>train_r2</td><td>0.98911</td></tr><tr><td>val_loss</td><td>0.34692</td></tr><tr><td>val_r2</td><td>0.93062</td></tr></table><br/></div></div>"
      ],
      "text/plain": [
       "<IPython.core.display.HTML object>"
      ]
     },
     "metadata": {},
     "output_type": "display_data"
    },
    {
     "data": {
      "text/html": [
       " View run <strong style=\"color:#cdcd00\">model_5_c</strong> at: <a href='https://wandb.ai/mlchem/ESOL_reproduction/runs/upejrqyt' target=\"_blank\">https://wandb.ai/mlchem/ESOL_reproduction/runs/upejrqyt</a><br/>Synced 5 W&B file(s), 0 media file(s), 0 artifact file(s) and 0 other file(s)"
      ],
      "text/plain": [
       "<IPython.core.display.HTML object>"
      ]
     },
     "metadata": {},
     "output_type": "display_data"
    },
    {
     "data": {
      "text/html": [
       "Find logs at: <code>./wandb/run-20231122_134712-upejrqyt/logs</code>"
      ],
      "text/plain": [
       "<IPython.core.display.HTML object>"
      ]
     },
     "metadata": {},
     "output_type": "display_data"
    },
    {
     "data": {
      "text/html": [
       "wandb version 0.16.0 is available!  To upgrade, please run:\n",
       " $ pip install wandb --upgrade"
      ],
      "text/plain": [
       "<IPython.core.display.HTML object>"
      ]
     },
     "metadata": {},
     "output_type": "display_data"
    },
    {
     "data": {
      "text/html": [
       "Tracking run with wandb version 0.15.12"
      ],
      "text/plain": [
       "<IPython.core.display.HTML object>"
      ]
     },
     "metadata": {},
     "output_type": "display_data"
    },
    {
     "data": {
      "text/html": [
       "Run data is saved locally in <code>/workspace/code/wandb/run-20231122_135052-1cirf20g</code>"
      ],
      "text/plain": [
       "<IPython.core.display.HTML object>"
      ]
     },
     "metadata": {},
     "output_type": "display_data"
    },
    {
     "data": {
      "text/html": [
       "Syncing run <strong><a href='https://wandb.ai/mlchem/ESOL_reproduction/runs/1cirf20g' target=\"_blank\">model_6_c</a></strong> to <a href='https://wandb.ai/mlchem/ESOL_reproduction' target=\"_blank\">Weights & Biases</a> (<a href='https://wandb.me/run' target=\"_blank\">docs</a>)<br/>"
      ],
      "text/plain": [
       "<IPython.core.display.HTML object>"
      ]
     },
     "metadata": {},
     "output_type": "display_data"
    },
    {
     "data": {
      "text/html": [
       " View project at <a href='https://wandb.ai/mlchem/ESOL_reproduction' target=\"_blank\">https://wandb.ai/mlchem/ESOL_reproduction</a>"
      ],
      "text/plain": [
       "<IPython.core.display.HTML object>"
      ]
     },
     "metadata": {},
     "output_type": "display_data"
    },
    {
     "data": {
      "text/html": [
       " View run at <a href='https://wandb.ai/mlchem/ESOL_reproduction/runs/1cirf20g' target=\"_blank\">https://wandb.ai/mlchem/ESOL_reproduction/runs/1cirf20g</a>"
      ],
      "text/plain": [
       "<IPython.core.display.HTML object>"
      ]
     },
     "metadata": {},
     "output_type": "display_data"
    },
    {
     "data": {
      "text/html": [
       "Waiting for W&B process to finish... <strong style=\"color:green\">(success).</strong>"
      ],
      "text/plain": [
       "<IPython.core.display.HTML object>"
      ]
     },
     "metadata": {},
     "output_type": "display_data"
    },
    {
     "data": {
      "text/html": [
       "<style>\n",
       "    table.wandb td:nth-child(1) { padding: 0 10px; text-align: left ; width: auto;} td:nth-child(2) {text-align: left ; width: 100%}\n",
       "    .wandb-row { display: flex; flex-direction: row; flex-wrap: wrap; justify-content: flex-start; width: 100% }\n",
       "    .wandb-col { display: flex; flex-direction: column; flex-basis: 100%; flex: 1; padding: 10px; }\n",
       "    </style>\n",
       "<div class=\"wandb-row\"><div class=\"wandb-col\"><h3>Run history:</h3><br/><table class=\"wandb\"><tr><td>epoch</td><td>▁▁▁▂▂▂▂▂▂▃▃▃▃▃▄▄▄▄▄▄▅▅▅▅▅▅▆▆▆▆▆▇▇▇▇▇▇███</td></tr><tr><td>test_loss</td><td>█▂▂▁▁▁▁▁▁▁▁▁▁▁▁▁▁▁▁▁▁▁▁▁▁▁▁▁▁▁▁▁▁▁▁▁▁▁▁▁</td></tr><tr><td>test_r2</td><td>▁▇▇█████████████████████████████████████</td></tr><tr><td>train_loss</td><td>█▃▂▁▁▁▁▁▁▁▁▁▁▁▁▁▁▁▁▁▁▁▁▁▁▁▁▁▁▁▁▁▁▁▁▁▁▁▁▁</td></tr><tr><td>train_r2</td><td>▁▆▇█████████████████████████████████████</td></tr><tr><td>val_loss</td><td>█▃▂▁▁▁▁▁▁▁▁▁▁▁▁▁▁▁▁▁▁▁▁▁▁▁▁▁▁▁▁▁▁▁▁▁▁▁▁▁</td></tr><tr><td>val_r2</td><td>▁▆▇█████████████████████████████████████</td></tr></table><br/></div><div class=\"wandb-col\"><h3>Run summary:</h3><br/><table class=\"wandb\"><tr><td>epoch</td><td>499</td></tr><tr><td>test_loss</td><td>0.4328</td></tr><tr><td>test_r2</td><td>0.8995</td></tr><tr><td>train_loss</td><td>0.04727</td></tr><tr><td>train_r2</td><td>0.98859</td></tr><tr><td>val_loss</td><td>0.3647</td></tr><tr><td>val_r2</td><td>0.92706</td></tr></table><br/></div></div>"
      ],
      "text/plain": [
       "<IPython.core.display.HTML object>"
      ]
     },
     "metadata": {},
     "output_type": "display_data"
    },
    {
     "data": {
      "text/html": [
       " View run <strong style=\"color:#cdcd00\">model_6_c</strong> at: <a href='https://wandb.ai/mlchem/ESOL_reproduction/runs/1cirf20g' target=\"_blank\">https://wandb.ai/mlchem/ESOL_reproduction/runs/1cirf20g</a><br/>Synced 5 W&B file(s), 0 media file(s), 0 artifact file(s) and 0 other file(s)"
      ],
      "text/plain": [
       "<IPython.core.display.HTML object>"
      ]
     },
     "metadata": {},
     "output_type": "display_data"
    },
    {
     "data": {
      "text/html": [
       "Find logs at: <code>./wandb/run-20231122_135052-1cirf20g/logs</code>"
      ],
      "text/plain": [
       "<IPython.core.display.HTML object>"
      ]
     },
     "metadata": {},
     "output_type": "display_data"
    },
    {
     "data": {
      "text/html": [
       "wandb version 0.16.0 is available!  To upgrade, please run:\n",
       " $ pip install wandb --upgrade"
      ],
      "text/plain": [
       "<IPython.core.display.HTML object>"
      ]
     },
     "metadata": {},
     "output_type": "display_data"
    },
    {
     "data": {
      "text/html": [
       "Tracking run with wandb version 0.15.12"
      ],
      "text/plain": [
       "<IPython.core.display.HTML object>"
      ]
     },
     "metadata": {},
     "output_type": "display_data"
    },
    {
     "data": {
      "text/html": [
       "Run data is saved locally in <code>/workspace/code/wandb/run-20231122_135433-8a7fwify</code>"
      ],
      "text/plain": [
       "<IPython.core.display.HTML object>"
      ]
     },
     "metadata": {},
     "output_type": "display_data"
    },
    {
     "data": {
      "text/html": [
       "Syncing run <strong><a href='https://wandb.ai/mlchem/ESOL_reproduction/runs/8a7fwify' target=\"_blank\">model_7_c</a></strong> to <a href='https://wandb.ai/mlchem/ESOL_reproduction' target=\"_blank\">Weights & Biases</a> (<a href='https://wandb.me/run' target=\"_blank\">docs</a>)<br/>"
      ],
      "text/plain": [
       "<IPython.core.display.HTML object>"
      ]
     },
     "metadata": {},
     "output_type": "display_data"
    },
    {
     "data": {
      "text/html": [
       " View project at <a href='https://wandb.ai/mlchem/ESOL_reproduction' target=\"_blank\">https://wandb.ai/mlchem/ESOL_reproduction</a>"
      ],
      "text/plain": [
       "<IPython.core.display.HTML object>"
      ]
     },
     "metadata": {},
     "output_type": "display_data"
    },
    {
     "data": {
      "text/html": [
       " View run at <a href='https://wandb.ai/mlchem/ESOL_reproduction/runs/8a7fwify' target=\"_blank\">https://wandb.ai/mlchem/ESOL_reproduction/runs/8a7fwify</a>"
      ],
      "text/plain": [
       "<IPython.core.display.HTML object>"
      ]
     },
     "metadata": {},
     "output_type": "display_data"
    },
    {
     "data": {
      "text/html": [
       "Waiting for W&B process to finish... <strong style=\"color:green\">(success).</strong>"
      ],
      "text/plain": [
       "<IPython.core.display.HTML object>"
      ]
     },
     "metadata": {},
     "output_type": "display_data"
    },
    {
     "data": {
      "text/html": [
       "<style>\n",
       "    table.wandb td:nth-child(1) { padding: 0 10px; text-align: left ; width: auto;} td:nth-child(2) {text-align: left ; width: 100%}\n",
       "    .wandb-row { display: flex; flex-direction: row; flex-wrap: wrap; justify-content: flex-start; width: 100% }\n",
       "    .wandb-col { display: flex; flex-direction: column; flex-basis: 100%; flex: 1; padding: 10px; }\n",
       "    </style>\n",
       "<div class=\"wandb-row\"><div class=\"wandb-col\"><h3>Run history:</h3><br/><table class=\"wandb\"><tr><td>epoch</td><td>▁▁▁▂▂▂▂▂▂▃▃▃▃▃▄▄▄▄▄▄▅▅▅▅▅▅▆▆▆▆▆▇▇▇▇▇▇███</td></tr><tr><td>test_loss</td><td>█▂▂▂▂▁▁▁▁▁▁▁▁▁▁▁▁▁▁▁▁▁▁▁▁▁▁▁▁▁▁▁▁▁▁▁▁▁▁▁</td></tr><tr><td>test_r2</td><td>▁▇▇▇▇███████████████████████████████████</td></tr><tr><td>train_loss</td><td>█▃▂▂▂▂▁▁▁▁▁▁▁▁▁▁▁▁▁▁▁▁▁▁▁▁▁▁▁▁▁▁▁▁▁▁▁▁▁▁</td></tr><tr><td>train_r2</td><td>▁▆▇▇▇▇██████████████████████████████████</td></tr><tr><td>val_loss</td><td>█▃▂▂▂▂▁▁▁▁▁▁▁▁▁▁▁▁▁▁▁▁▁▁▁▁▁▁▁▁▁▁▁▁▁▁▁▁▁▁</td></tr><tr><td>val_r2</td><td>▁▆▇▇▇▇██████████████████████████████████</td></tr></table><br/></div><div class=\"wandb-col\"><h3>Run summary:</h3><br/><table class=\"wandb\"><tr><td>epoch</td><td>499</td></tr><tr><td>test_loss</td><td>0.40823</td></tr><tr><td>test_r2</td><td>0.90521</td></tr><tr><td>train_loss</td><td>0.04438</td></tr><tr><td>train_r2</td><td>0.98886</td></tr><tr><td>val_loss</td><td>0.3516</td></tr><tr><td>val_r2</td><td>0.92968</td></tr></table><br/></div></div>"
      ],
      "text/plain": [
       "<IPython.core.display.HTML object>"
      ]
     },
     "metadata": {},
     "output_type": "display_data"
    },
    {
     "data": {
      "text/html": [
       " View run <strong style=\"color:#cdcd00\">model_7_c</strong> at: <a href='https://wandb.ai/mlchem/ESOL_reproduction/runs/8a7fwify' target=\"_blank\">https://wandb.ai/mlchem/ESOL_reproduction/runs/8a7fwify</a><br/>Synced 5 W&B file(s), 0 media file(s), 0 artifact file(s) and 0 other file(s)"
      ],
      "text/plain": [
       "<IPython.core.display.HTML object>"
      ]
     },
     "metadata": {},
     "output_type": "display_data"
    },
    {
     "data": {
      "text/html": [
       "Find logs at: <code>./wandb/run-20231122_135433-8a7fwify/logs</code>"
      ],
      "text/plain": [
       "<IPython.core.display.HTML object>"
      ]
     },
     "metadata": {},
     "output_type": "display_data"
    },
    {
     "data": {
      "text/html": [
       "wandb version 0.16.0 is available!  To upgrade, please run:\n",
       " $ pip install wandb --upgrade"
      ],
      "text/plain": [
       "<IPython.core.display.HTML object>"
      ]
     },
     "metadata": {},
     "output_type": "display_data"
    },
    {
     "data": {
      "text/html": [
       "Tracking run with wandb version 0.15.12"
      ],
      "text/plain": [
       "<IPython.core.display.HTML object>"
      ]
     },
     "metadata": {},
     "output_type": "display_data"
    },
    {
     "data": {
      "text/html": [
       "Run data is saved locally in <code>/workspace/code/wandb/run-20231122_135815-ojlcqvp6</code>"
      ],
      "text/plain": [
       "<IPython.core.display.HTML object>"
      ]
     },
     "metadata": {},
     "output_type": "display_data"
    },
    {
     "data": {
      "text/html": [
       "Syncing run <strong><a href='https://wandb.ai/mlchem/ESOL_reproduction/runs/ojlcqvp6' target=\"_blank\">model_8_c</a></strong> to <a href='https://wandb.ai/mlchem/ESOL_reproduction' target=\"_blank\">Weights & Biases</a> (<a href='https://wandb.me/run' target=\"_blank\">docs</a>)<br/>"
      ],
      "text/plain": [
       "<IPython.core.display.HTML object>"
      ]
     },
     "metadata": {},
     "output_type": "display_data"
    },
    {
     "data": {
      "text/html": [
       " View project at <a href='https://wandb.ai/mlchem/ESOL_reproduction' target=\"_blank\">https://wandb.ai/mlchem/ESOL_reproduction</a>"
      ],
      "text/plain": [
       "<IPython.core.display.HTML object>"
      ]
     },
     "metadata": {},
     "output_type": "display_data"
    },
    {
     "data": {
      "text/html": [
       " View run at <a href='https://wandb.ai/mlchem/ESOL_reproduction/runs/ojlcqvp6' target=\"_blank\">https://wandb.ai/mlchem/ESOL_reproduction/runs/ojlcqvp6</a>"
      ],
      "text/plain": [
       "<IPython.core.display.HTML object>"
      ]
     },
     "metadata": {},
     "output_type": "display_data"
    },
    {
     "data": {
      "text/html": [
       "Waiting for W&B process to finish... <strong style=\"color:green\">(success).</strong>"
      ],
      "text/plain": [
       "<IPython.core.display.HTML object>"
      ]
     },
     "metadata": {},
     "output_type": "display_data"
    },
    {
     "data": {
      "text/html": [
       "<style>\n",
       "    table.wandb td:nth-child(1) { padding: 0 10px; text-align: left ; width: auto;} td:nth-child(2) {text-align: left ; width: 100%}\n",
       "    .wandb-row { display: flex; flex-direction: row; flex-wrap: wrap; justify-content: flex-start; width: 100% }\n",
       "    .wandb-col { display: flex; flex-direction: column; flex-basis: 100%; flex: 1; padding: 10px; }\n",
       "    </style>\n",
       "<div class=\"wandb-row\"><div class=\"wandb-col\"><h3>Run history:</h3><br/><table class=\"wandb\"><tr><td>epoch</td><td>▁▁▁▂▂▂▂▂▂▃▃▃▃▃▄▄▄▄▄▄▅▅▅▅▅▅▆▆▆▆▆▇▇▇▇▇▇███</td></tr><tr><td>test_loss</td><td>█▂▂▁▁▁▁▁▁▁▁▁▁▁▁▁▁▁▁▁▁▁▁▁▁▁▁▁▁▁▁▁▁▁▁▁▁▁▁▁</td></tr><tr><td>test_r2</td><td>▁▇▇█████████████████████████████████████</td></tr><tr><td>train_loss</td><td>█▂▂▂▁▁▁▁▁▁▁▁▁▁▁▁▁▁▁▁▁▁▁▁▁▁▁▁▁▁▁▁▁▁▁▁▁▁▁▁</td></tr><tr><td>train_r2</td><td>▁▇▇▇█▇██████████████████████████████████</td></tr><tr><td>val_loss</td><td>█▂▂▂▁▂▁▁▁▁▁▁▁▁▁▁▁▁▁▁▁▁▁▁▁▁▁▁▁▁▁▁▁▁▁▁▁▁▁▁</td></tr><tr><td>val_r2</td><td>▁▇▇▇█▇██████████████████████████████████</td></tr></table><br/></div><div class=\"wandb-col\"><h3>Run summary:</h3><br/><table class=\"wandb\"><tr><td>epoch</td><td>499</td></tr><tr><td>test_loss</td><td>0.42568</td></tr><tr><td>test_r2</td><td>0.90115</td></tr><tr><td>train_loss</td><td>0.07132</td></tr><tr><td>train_r2</td><td>0.98225</td></tr><tr><td>val_loss</td><td>0.3608</td></tr><tr><td>val_r2</td><td>0.92784</td></tr></table><br/></div></div>"
      ],
      "text/plain": [
       "<IPython.core.display.HTML object>"
      ]
     },
     "metadata": {},
     "output_type": "display_data"
    },
    {
     "data": {
      "text/html": [
       " View run <strong style=\"color:#cdcd00\">model_8_c</strong> at: <a href='https://wandb.ai/mlchem/ESOL_reproduction/runs/ojlcqvp6' target=\"_blank\">https://wandb.ai/mlchem/ESOL_reproduction/runs/ojlcqvp6</a><br/>Synced 5 W&B file(s), 0 media file(s), 0 artifact file(s) and 0 other file(s)"
      ],
      "text/plain": [
       "<IPython.core.display.HTML object>"
      ]
     },
     "metadata": {},
     "output_type": "display_data"
    },
    {
     "data": {
      "text/html": [
       "Find logs at: <code>./wandb/run-20231122_135815-ojlcqvp6/logs</code>"
      ],
      "text/plain": [
       "<IPython.core.display.HTML object>"
      ]
     },
     "metadata": {},
     "output_type": "display_data"
    },
    {
     "data": {
      "text/html": [
       "wandb version 0.16.0 is available!  To upgrade, please run:\n",
       " $ pip install wandb --upgrade"
      ],
      "text/plain": [
       "<IPython.core.display.HTML object>"
      ]
     },
     "metadata": {},
     "output_type": "display_data"
    },
    {
     "data": {
      "text/html": [
       "Tracking run with wandb version 0.15.12"
      ],
      "text/plain": [
       "<IPython.core.display.HTML object>"
      ]
     },
     "metadata": {},
     "output_type": "display_data"
    },
    {
     "data": {
      "text/html": [
       "Run data is saved locally in <code>/workspace/code/wandb/run-20231122_140157-538z20nr</code>"
      ],
      "text/plain": [
       "<IPython.core.display.HTML object>"
      ]
     },
     "metadata": {},
     "output_type": "display_data"
    },
    {
     "data": {
      "text/html": [
       "Syncing run <strong><a href='https://wandb.ai/mlchem/ESOL_reproduction/runs/538z20nr' target=\"_blank\">model_9_c</a></strong> to <a href='https://wandb.ai/mlchem/ESOL_reproduction' target=\"_blank\">Weights & Biases</a> (<a href='https://wandb.me/run' target=\"_blank\">docs</a>)<br/>"
      ],
      "text/plain": [
       "<IPython.core.display.HTML object>"
      ]
     },
     "metadata": {},
     "output_type": "display_data"
    },
    {
     "data": {
      "text/html": [
       " View project at <a href='https://wandb.ai/mlchem/ESOL_reproduction' target=\"_blank\">https://wandb.ai/mlchem/ESOL_reproduction</a>"
      ],
      "text/plain": [
       "<IPython.core.display.HTML object>"
      ]
     },
     "metadata": {},
     "output_type": "display_data"
    },
    {
     "data": {
      "text/html": [
       " View run at <a href='https://wandb.ai/mlchem/ESOL_reproduction/runs/538z20nr' target=\"_blank\">https://wandb.ai/mlchem/ESOL_reproduction/runs/538z20nr</a>"
      ],
      "text/plain": [
       "<IPython.core.display.HTML object>"
      ]
     },
     "metadata": {},
     "output_type": "display_data"
    },
    {
     "data": {
      "text/html": [
       "Waiting for W&B process to finish... <strong style=\"color:green\">(success).</strong>"
      ],
      "text/plain": [
       "<IPython.core.display.HTML object>"
      ]
     },
     "metadata": {},
     "output_type": "display_data"
    },
    {
     "data": {
      "text/html": [
       "<style>\n",
       "    table.wandb td:nth-child(1) { padding: 0 10px; text-align: left ; width: auto;} td:nth-child(2) {text-align: left ; width: 100%}\n",
       "    .wandb-row { display: flex; flex-direction: row; flex-wrap: wrap; justify-content: flex-start; width: 100% }\n",
       "    .wandb-col { display: flex; flex-direction: column; flex-basis: 100%; flex: 1; padding: 10px; }\n",
       "    </style>\n",
       "<div class=\"wandb-row\"><div class=\"wandb-col\"><h3>Run history:</h3><br/><table class=\"wandb\"><tr><td>epoch</td><td>▁▁▁▂▂▂▂▂▂▃▃▃▃▃▄▄▄▄▄▄▅▅▅▅▅▅▆▆▆▆▆▇▇▇▇▇▇███</td></tr><tr><td>test_loss</td><td>█▂▁▁▁▁▁▁▁▁▁▁▁▁▁▁▁▁▁▁▁▁▁▁▁▁▁▁▁▁▁▁▁▁▁▁▁▁▁▁</td></tr><tr><td>test_r2</td><td>▁▇██████████████████████████████████████</td></tr><tr><td>train_loss</td><td>█▃▂▂▁▁▁▁▁▁▁▁▁▁▁▁▁▁▁▁▁▁▁▁▁▁▁▁▁▁▁▁▁▁▁▁▁▁▁▁</td></tr><tr><td>train_r2</td><td>▁▆▇▇████████████████████████████████████</td></tr><tr><td>val_loss</td><td>█▃▂▂▁▁▁▁▁▁▁▁▁▁▁▁▁▁▁▁▁▁▁▁▁▁▁▁▁▁▁▁▁▁▁▁▁▁▁▁</td></tr><tr><td>val_r2</td><td>▁▆▇▇████████████████████████████████████</td></tr></table><br/></div><div class=\"wandb-col\"><h3>Run summary:</h3><br/><table class=\"wandb\"><tr><td>epoch</td><td>499</td></tr><tr><td>test_loss</td><td>0.39585</td></tr><tr><td>test_r2</td><td>0.90808</td></tr><tr><td>train_loss</td><td>0.06903</td></tr><tr><td>train_r2</td><td>0.98343</td></tr><tr><td>val_loss</td><td>0.3481</td></tr><tr><td>val_r2</td><td>0.93038</td></tr></table><br/></div></div>"
      ],
      "text/plain": [
       "<IPython.core.display.HTML object>"
      ]
     },
     "metadata": {},
     "output_type": "display_data"
    },
    {
     "data": {
      "text/html": [
       " View run <strong style=\"color:#cdcd00\">model_9_c</strong> at: <a href='https://wandb.ai/mlchem/ESOL_reproduction/runs/538z20nr' target=\"_blank\">https://wandb.ai/mlchem/ESOL_reproduction/runs/538z20nr</a><br/>Synced 5 W&B file(s), 0 media file(s), 0 artifact file(s) and 0 other file(s)"
      ],
      "text/plain": [
       "<IPython.core.display.HTML object>"
      ]
     },
     "metadata": {},
     "output_type": "display_data"
    },
    {
     "data": {
      "text/html": [
       "Find logs at: <code>./wandb/run-20231122_140157-538z20nr/logs</code>"
      ],
      "text/plain": [
       "<IPython.core.display.HTML object>"
      ]
     },
     "metadata": {},
     "output_type": "display_data"
    }
   ],
   "source": [
    "# wandb will be used to log the training progress\n",
    "wandb.login()\n",
    "\n",
    "for model_id in range(10):\n",
    "    \n",
    "    config = {\n",
    "        \"architecture\": \"RGCN by Wu et al.\",\n",
    "        \"dataset\": \"ESOL from Wu et al.\",\n",
    "        \"epochs\": 500,\n",
    "        \"random_seed\": 2022 + model_id * 10,\n",
    "        \"learning_rate\": 0.003,\n",
    "        \"rgcn_dropout_rate\": 0.5,\n",
    "        \"mlp_dropout_rate\": 0.1\n",
    "    }\n",
    "\n",
    "    wandb.init(project=\"ESOL_reproduction\", name=f\"model_{model_id}_c\", config=config)\n",
    "    XAIChem.set_seed(config[\"random_seed\"])\n",
    "\n",
    "    model = XAIChem.RGCN(num_node_features=XAIChem.getNumAtomFeatures()).to(device)\n",
    "    criterion = torch.nn.MSELoss()\n",
    "    optimizer = torch.optim.Adam(model.parameters(), lr=config[\"learning_rate\"])\n",
    "\n",
    "    for epoch in range(config[\"epochs\"]):\n",
    "    \n",
    "        train(train_loader, model, criterion, optimizer)\n",
    "    \n",
    "        train_r2, train_loss = evaluate(train_loader, model, criterion)\n",
    "        val_r2, val_loss = evaluate(val_loader, model, criterion)\n",
    "        test_r2, test_loss = evaluate(test_loader, model, criterion)\n",
    "    \n",
    "        wandb.log({\n",
    "            \"epoch\": epoch,\n",
    "            \"train_loss\": train_loss,\n",
    "            \"train_r2\": train_r2,\n",
    "            \"val_loss\": val_loss,\n",
    "            \"val_r2\": val_r2,\n",
    "            \"test_loss\": test_loss,\n",
    "            \"test_r2\": test_r2,\n",
    "        })\n",
    "    \n",
    "    torch.save(\n",
    "        model.state_dict(),\n",
    "        f\"../data/trained_models/ESOL/ESOL_rgcn_model_{model_id}_c.pt\"\n",
    "    )\n",
    "    wandb.finish()"
   ]
  },
  {
   "cell_type": "markdown",
   "id": "503a15e2-1d5b-4776-9128-53db657e211f",
   "metadata": {},
   "source": [
    "## Substructure mask explanation"
   ]
  },
  {
   "cell_type": "code",
   "execution_count": 17,
   "id": "f96cb0ef-6bee-4c64-9f98-12b14768e79e",
   "metadata": {},
   "outputs": [],
   "source": [
    "models = []\n",
    "\n",
    "for model_id in range(10):\n",
    "    model = XAIChem.RGCN(num_node_features=XAIChem.getNumAtomFeatures())\n",
    "    model.load_state_dict(\n",
    "        torch.load(\n",
    "            f\"../data/trained_models/ESOL/ESOL_rgcn_model_{model_id}_c.pt\",\n",
    "            map_location=torch.device('cpu')\n",
    "        )\n",
    "    )\n",
    "    model.eval()\n",
    "    models.append(model)"
   ]
  },
  {
   "cell_type": "code",
   "execution_count": 18,
   "id": "2a903b3c-d181-4de1-8eb3-6b5cc5879028",
   "metadata": {},
   "outputs": [],
   "source": [
    "def predict(graph, mask=None):\n",
    "\n",
    "    with torch.no_grad():\n",
    "        predictions = torch.zeros(10)\n",
    "        for i, model in enumerate(models):\n",
    "            predictions[i] = model(\n",
    "                graph.x, \n",
    "                graph.edge_index, \n",
    "                graph.edge_type, \n",
    "                torch.zeros(1, dtype=torch.long),\n",
    "                mask\n",
    "            )\n",
    "\n",
    "    return torch.mean(predictions)\n",
    "\n",
    "\n",
    "def predictBatch(data, masks=None):\n",
    "\n",
    "    with torch.no_grad():\n",
    "        predictions = torch.zeros(data.batch_size, len(models))\n",
    "        for i, model in enumerate(models):\n",
    "            \n",
    "            predictions[:, i] = model(\n",
    "                data.x, \n",
    "                data.edge_index, \n",
    "                data.edge_type, \n",
    "                data.batch,\n",
    "                masks\n",
    "            ).view(-1)\n",
    "\n",
    "    return torch.mean(predictions, dim=1)"
   ]
  },
  {
   "cell_type": "code",
   "execution_count": 19,
   "id": "d80e4199-2444-4817-9c2e-9e473609db47",
   "metadata": {},
   "outputs": [],
   "source": [
    "def createMask(molecule: Chem.rdchem.Mol, substructure: Iterable[int]) -> torch.Tensor:\n",
    "    \n",
    "    mask = torch.zeros(molecule.GetNumAtoms(), dtype=int)\n",
    "    for i, atom in enumerate(molecule.GetAtoms()):\n",
    "        mask[i] = atom.GetIdx() not in substructure\n",
    "    \n",
    "    return mask.view(-1, 1)"
   ]
  },
  {
   "cell_type": "code",
   "execution_count": 20,
   "id": "66a0d929-be9d-4c61-9b37-903a138a59a1",
   "metadata": {},
   "outputs": [],
   "source": [
    "functional_groups = [\n",
    "    \"[C;D4]([C;D1])([C;D1])-[C;D1]\", \"[S;D1]\", \"[C;D4](F)(F)F\", \"[S;D2]-[C;D1;H3]\", \n",
    "    \"[C;D2]#[C;D1;H1]\", \"[#6][F,Cl,Br,I]\", \"[O;D2]-[C;D2;H2]-[C;D1;H3]\",\n",
    "    \"[N]#[C]\", \"[N;D3](=[O;D1])[O;D1]\", \"[O;D2;H1]-[C;D1;H3]\", \n",
    "    \"C(=[O;D1])[O;D2]-[C;D1;H3]\", \"[O;D1;H1]\", \"C(=[O;D1])-[N;D1]\",\n",
    "    \"[N;D1;H2]\", \"C(=[O;D1])-[C;D1;H3]\", \"[S;D4](=[O;D1])(=[O;D1])-[N;D1;H2]\"\n",
    "]"
   ]
  },
  {
   "cell_type": "code",
   "execution_count": 21,
   "id": "68fbebf5-7644-4bc4-9d73-aa0d44f2dfe1",
   "metadata": {},
   "outputs": [],
   "source": [
    "def functionGroupAttributionScores(\n",
    "    smiles: str, \n",
    "    functional_groups: List[str],\n",
    "    key: str = \"atom_ids\"\n",
    ") -> Dict[str,list]:\n",
    "    \"\"\"\n",
    "    Compute the attribution scores for all present functional groups.\n",
    "\n",
    "    :param smiles: smiles represenation of the molecule\n",
    "    :param functional_groups: list of functional groups to search for in the molecule\n",
    "    :param key: determines the structure of the output dictionairy. If key is \n",
    "        'atom_ids', than a dictionairy with atom ids as keys and the associated \n",
    "        attribution score will be returned e.g.\n",
    "            {(0,): -0.3, (5, 4, 3): 0.3}.\n",
    "        If key is 'functional_groups', then a dictionairy with functional group \n",
    "        smarts as keys and a list of attribution scores will be returned \n",
    "        e.g. {\"[N]#[C]\": -0.035, \"[O;D1;H1]\": 0.7}\n",
    "\n",
    "    \"\"\"\n",
    "\n",
    "    molecule = Chem.MolFromSmiles(smiles)\n",
    "\n",
    "    # Get atom indices of present functional groups\n",
    "    functional_groups_matches = dict()\n",
    "    for functional_group in functional_groups:\n",
    "        \n",
    "        for match in molecule.GetSubstructMatches(\n",
    "            Chem.MolFromSmarts(functional_group)\n",
    "        ): \n",
    "            functional_groups_matches[match] = functional_group\n",
    "\n",
    "    # Quit if no matches are found\n",
    "    if len(functional_groups_matches) == 0:\n",
    "        return\n",
    "    \n",
    "    masks = torch.cat([\n",
    "        createMask(molecule, substructure)\n",
    "        for substructure in functional_groups_matches.keys()\n",
    "    ])\n",
    "\n",
    "    # Create a batch with size of the number of functional groups that are present\n",
    "    graph = XAIChem.createDataObjectFromSmiles(smiles, -1)\n",
    "    graphs = DataLoader(\n",
    "        [graph for _ in range(len(functional_groups_matches))], \n",
    "        batch_size=len(functional_groups_matches)\n",
    "    )\n",
    "    \n",
    "    for data in graphs:\n",
    "        pred = predictBatch(data)\n",
    "        pred_masked = predictBatch(data, masks.view(-1, 1))\n",
    "\n",
    "    if key == \"atom_ids\":\n",
    "        # Create a dictionary with the atom indices of the functional groups as keys \n",
    "        # and the normalized attribution scores as values\n",
    "        attribution_scores = dict(zip(\n",
    "            functional_groups_matches.keys(),\n",
    "            pred - pred_masked\n",
    "        ))\n",
    "    elif key == \"functional_groups\":\n",
    "        # Create a dictuionary with the present functional groups as keys and a list \n",
    "        # of attribution scores as values\n",
    "        attribution_scores = defaultdict(list)\n",
    "        for i, functional_group in enumerate(functional_groups_matches.values()):\n",
    "            attribution_scores[functional_group].append(\n",
    "                pred[i] - pred_masked[i]\n",
    "            )\n",
    "    else:\n",
    "        raise ValueError(\"Specified key does not exists. Please use either 'atom_ids' or 'functional_groups'\")\n",
    "        \n",
    "    return attribution_scores"
   ]
  },
  {
   "cell_type": "markdown",
   "id": "1b979e55-1e12-4546-86d8-6bc3ac2961b9",
   "metadata": {},
   "source": [
    "### ESOL data set"
   ]
  },
  {
   "cell_type": "code",
   "execution_count": 22,
   "id": "38ad7b6a-2ec4-4a42-a19f-49be9635f9cb",
   "metadata": {},
   "outputs": [
    {
     "data": {
      "text/html": [
       "<div>\n",
       "<style scoped>\n",
       "    .dataframe tbody tr th:only-of-type {\n",
       "        vertical-align: middle;\n",
       "    }\n",
       "\n",
       "    .dataframe tbody tr th {\n",
       "        vertical-align: top;\n",
       "    }\n",
       "\n",
       "    .dataframe thead th {\n",
       "        text-align: right;\n",
       "    }\n",
       "</style>\n",
       "<table border=\"1\" class=\"dataframe\">\n",
       "  <thead>\n",
       "    <tr style=\"text-align: right;\">\n",
       "      <th></th>\n",
       "      <th>smiles</th>\n",
       "      <th>ESOL</th>\n",
       "      <th>group</th>\n",
       "    </tr>\n",
       "  </thead>\n",
       "  <tbody>\n",
       "    <tr>\n",
       "      <th>0</th>\n",
       "      <td>N#CC(OC1OC(COC2OC(CO)C(O)C(O)C2O)C(O)C(O)C1O)c...</td>\n",
       "      <td>-0.77</td>\n",
       "      <td>training</td>\n",
       "    </tr>\n",
       "    <tr>\n",
       "      <th>1</th>\n",
       "      <td>Cc1occc1C(=O)Nc1ccccc1</td>\n",
       "      <td>-3.30</td>\n",
       "      <td>training</td>\n",
       "    </tr>\n",
       "    <tr>\n",
       "      <th>2</th>\n",
       "      <td>CC(C)=CCCC(C)=CC=O</td>\n",
       "      <td>-2.06</td>\n",
       "      <td>training</td>\n",
       "    </tr>\n",
       "    <tr>\n",
       "      <th>3</th>\n",
       "      <td>c1ccc2c(c1)ccc1c2ccc2c3ccccc3ccc21</td>\n",
       "      <td>-7.87</td>\n",
       "      <td>training</td>\n",
       "    </tr>\n",
       "    <tr>\n",
       "      <th>4</th>\n",
       "      <td>c1ccsc1</td>\n",
       "      <td>-1.33</td>\n",
       "      <td>training</td>\n",
       "    </tr>\n",
       "  </tbody>\n",
       "</table>\n",
       "</div>"
      ],
      "text/plain": [
       "                                              smiles  ESOL     group\n",
       "0  N#CC(OC1OC(COC2OC(CO)C(O)C(O)C2O)C(O)C(O)C1O)c... -0.77  training\n",
       "1                             Cc1occc1C(=O)Nc1ccccc1 -3.30  training\n",
       "2                                 CC(C)=CCCC(C)=CC=O -2.06  training\n",
       "3                 c1ccc2c(c1)ccc1c2ccc2c3ccccc3ccc21 -7.87  training\n",
       "4                                            c1ccsc1 -1.33  training"
      ]
     },
     "execution_count": 22,
     "metadata": {},
     "output_type": "execute_result"
    }
   ],
   "source": [
    "esol_df = pd.read_csv(\"../data/ESOL/ESOL.csv\")\n",
    "esol_df.head()"
   ]
  },
  {
   "cell_type": "code",
   "execution_count": 23,
   "id": "f659e37d-e1f2-4aa9-ac16-174eec667888",
   "metadata": {},
   "outputs": [],
   "source": [
    "tqdm.pandas()"
   ]
  },
  {
   "cell_type": "code",
   "execution_count": 24,
   "id": "54b13d1f-289f-4be1-b1d2-92d549e186c4",
   "metadata": {},
   "outputs": [
    {
     "name": "stderr",
     "output_type": "stream",
     "text": [
      "100%|████████████████████████████████████████████████████████████████████████████████████████████████████████████████████████████████| 1111/1111 [03:38<00:00,  5.08it/s]\n"
     ]
    }
   ],
   "source": [
    "esol_df[\"attributions\"] = esol_df.smiles.progress_apply(\n",
    "    functionGroupAttributionScores,\n",
    "    functional_groups=functional_groups,\n",
    "    key=\"functional_groups\"\n",
    ")"
   ]
  },
  {
   "cell_type": "code",
   "execution_count": 25,
   "id": "357eda03-c6d0-4a1e-94f0-f2c9ec0e4bc0",
   "metadata": {},
   "outputs": [
    {
     "data": {
      "text/html": [
       "<div>\n",
       "<style scoped>\n",
       "    .dataframe tbody tr th:only-of-type {\n",
       "        vertical-align: middle;\n",
       "    }\n",
       "\n",
       "    .dataframe tbody tr th {\n",
       "        vertical-align: top;\n",
       "    }\n",
       "\n",
       "    .dataframe thead th {\n",
       "        text-align: right;\n",
       "    }\n",
       "</style>\n",
       "<table border=\"1\" class=\"dataframe\">\n",
       "  <thead>\n",
       "    <tr style=\"text-align: right;\">\n",
       "      <th></th>\n",
       "      <th>smiles</th>\n",
       "      <th>ESOL</th>\n",
       "      <th>group</th>\n",
       "      <th>attributions</th>\n",
       "    </tr>\n",
       "  </thead>\n",
       "  <tbody>\n",
       "    <tr>\n",
       "      <th>0</th>\n",
       "      <td>N#CC(OC1OC(COC2OC(CO)C(O)C(O)C2O)C(O)C(O)C1O)c...</td>\n",
       "      <td>-0.77</td>\n",
       "      <td>training</td>\n",
       "      <td>{'[N]#[C]': [tensor(0.0396)], '[O;D1;H1]': [te...</td>\n",
       "    </tr>\n",
       "    <tr>\n",
       "      <th>1</th>\n",
       "      <td>Cc1occc1C(=O)Nc1ccccc1</td>\n",
       "      <td>-3.30</td>\n",
       "      <td>training</td>\n",
       "      <td>None</td>\n",
       "    </tr>\n",
       "    <tr>\n",
       "      <th>2</th>\n",
       "      <td>CC(C)=CCCC(C)=CC=O</td>\n",
       "      <td>-2.06</td>\n",
       "      <td>training</td>\n",
       "      <td>None</td>\n",
       "    </tr>\n",
       "    <tr>\n",
       "      <th>3</th>\n",
       "      <td>c1ccc2c(c1)ccc1c2ccc2c3ccccc3ccc21</td>\n",
       "      <td>-7.87</td>\n",
       "      <td>training</td>\n",
       "      <td>None</td>\n",
       "    </tr>\n",
       "    <tr>\n",
       "      <th>4</th>\n",
       "      <td>c1ccsc1</td>\n",
       "      <td>-1.33</td>\n",
       "      <td>training</td>\n",
       "      <td>None</td>\n",
       "    </tr>\n",
       "  </tbody>\n",
       "</table>\n",
       "</div>"
      ],
      "text/plain": [
       "                                              smiles  ESOL     group  \\\n",
       "0  N#CC(OC1OC(COC2OC(CO)C(O)C(O)C2O)C(O)C(O)C1O)c... -0.77  training   \n",
       "1                             Cc1occc1C(=O)Nc1ccccc1 -3.30  training   \n",
       "2                                 CC(C)=CCCC(C)=CC=O -2.06  training   \n",
       "3                 c1ccc2c(c1)ccc1c2ccc2c3ccccc3ccc21 -7.87  training   \n",
       "4                                            c1ccsc1 -1.33  training   \n",
       "\n",
       "                                        attributions  \n",
       "0  {'[N]#[C]': [tensor(0.0396)], '[O;D1;H1]': [te...  \n",
       "1                                               None  \n",
       "2                                               None  \n",
       "3                                               None  \n",
       "4                                               None  "
      ]
     },
     "execution_count": 25,
     "metadata": {},
     "output_type": "execute_result"
    }
   ],
   "source": [
    "esol_df.head()"
   ]
  },
  {
   "cell_type": "code",
   "execution_count": 26,
   "id": "a9a6545c-42ad-4115-bd7a-fe9b876dcdab",
   "metadata": {},
   "outputs": [],
   "source": [
    "functional_group_attributions = defaultdict(list)\n",
    "\n",
    "for attributions in esol_df[\"attributions\"]:\n",
    "    if attributions is not None:\n",
    "        for functional_group, attribution in attributions.items():\n",
    "            functional_group_attributions[functional_group].extend(attribution)"
   ]
  },
  {
   "cell_type": "code",
   "execution_count": 27,
   "id": "a09e78ca-24bd-41cf-8f89-5dac4398266c",
   "metadata": {},
   "outputs": [
    {
     "name": "stdout",
     "output_type": "stream",
     "text": [
      "[N]#[C]                            : -0.354\n",
      "[O;D1;H1]                          : 0.123\n",
      "[#6][F,Cl,Br,I]                    : -0.669\n",
      "[S;D1]                             : -0.358\n",
      "[O;D2]-[C;D2;H2]-[C;D1;H3]         : -0.395\n",
      "C(=[O;D1])-[C;D1;H3]               : 0.102\n",
      "[C;D4](F)(F)F                      : -0.547\n",
      "[N;D3](=[O;D1])[O;D1]              : -0.329\n",
      "[N;D1;H2]                          : -0.025\n",
      "C(=[O;D1])[O;D2]-[C;D1;H3]         : 0.019\n",
      "[C;D4]([C;D1])([C;D1])-[C;D1]      : -1.432\n",
      "[C;D2]#[C;D1;H1]                   : -0.319\n",
      "C(=[O;D1])-[N;D1]                  : -0.040\n",
      "[S;D2]-[C;D1;H3]                   : -0.411\n",
      "[S;D4](=[O;D1])(=[O;D1])-[N;D1;H2] : -0.136\n"
     ]
    },
    {
     "data": {
      "application/vnd.plotly.v1+json": {
       "config": {
        "plotlyServerURL": "https://plot.ly"
       },
       "data": [
        {
         "line": {
          "color": "#1f77b4"
         },
         "name": "[N]#[C]",
         "showlegend": false,
         "spanmode": "hard",
         "type": "violin",
         "x": [
          0.039591073989868164,
          0.4335430860519409,
          -0.7382330894470215,
          -0.21246051788330078,
          -0.21246099472045898,
          -0.606722354888916,
          -0.8607287406921387,
          0.004502102732658386,
          -0.110137939453125,
          0.11573159694671631,
          -0.837986946105957,
          -0.7159781455993652,
          -0.8850641250610352,
          0.102552130818367,
          -0.7907490730285645,
          -0.1954726278781891,
          0.010856982320547104,
          -0.8621654510498047,
          0.7733588218688965,
          -0.8449525833129883,
          -0.9008731842041016,
          0.00040875375270843506,
          -0.601555347442627,
          -0.601555347442627
         ]
        },
        {
         "line": {
          "color": "#1f77b4"
         },
         "name": "[O;D1;H1]",
         "showlegend": false,
         "spanmode": "hard",
         "type": "violin",
         "x": [
          0.06315702199935913,
          0.02211374044418335,
          0.02211374044418335,
          0.02211374044418335,
          0.02211374044418335,
          0.02211374044418335,
          0.02211374044418335,
          0.20083045959472656,
          -0.024573802947998047,
          0.417598158121109,
          0.7787139415740967,
          0.42272138595581055,
          0.49349305033683777,
          0.39116358757019043,
          0.454326868057251,
          0.16528385877609253,
          0.01697850227355957,
          -0.002501964569091797,
          0.07520484924316406,
          0.016978025436401367,
          -0.15046292543411255,
          0.15787220001220703,
          0.031296491622924805,
          0.031296491622924805,
          0.2841949462890625,
          -0.014860928058624268,
          -0.010018080472946167,
          -0.036219775676727295,
          -0.03621980547904968,
          0.0963735580444336,
          0.16357624530792236,
          -0.14303505420684814,
          0.055573225021362305,
          0.055573225021362305,
          0.06575894355773926,
          0.13080310821533203,
          0.1906810998916626,
          0.12226533889770508,
          0.03408098220825195,
          0.0033969879150390625,
          0.1039588451385498,
          0.01172947883605957,
          0.2840843200683594,
          -0.7647509574890137,
          0.13838744163513184,
          0.11305785179138184,
          0.03578948974609375,
          0.03578948974609375,
          0.08982086181640625,
          0.08982086181640625,
          0.4932609796524048,
          0.25357139110565186,
          0.08908200263977051,
          0.13315963745117188,
          0.06369900703430176,
          0.0345916748046875,
          0.06142234802246094,
          -0.11037015914916992,
          -0.0544736385345459,
          -0.3118703365325928,
          -0.03043961524963379,
          -0.03043961524963379,
          -0.03548002243041992,
          0.19301974773406982,
          0.14879271388053894,
          0.23543381690979004,
          0.10472244024276733,
          0.10472238063812256,
          0.5587602853775024,
          0.1300201416015625,
          0.08541250228881836,
          0.07826900482177734,
          -0.3323397636413574,
          0.19458580017089844,
          0.03649020195007324,
          0.09684598445892334,
          0.10345578193664551,
          0.09684592485427856,
          0.006910264492034912,
          0.021084189414978027,
          0.006910264492034912,
          0.0069103240966796875,
          0.006910264492034912,
          0.0069103240966796875,
          0.0069103240966796875,
          0.0069103240966796875,
          0.44895315170288086,
          0.26871752738952637,
          0.26715707778930664,
          -0.03733491897583008,
          0.5625340938568115,
          0.012512445449829102,
          0.09409904479980469,
          0.05706411600112915,
          -0.0019215941429138184,
          -0.02465146780014038,
          -0.024651527404785156,
          -0.024651527404785156,
          0.20616084337234497,
          0.051691532135009766,
          0.2056942582130432,
          0.16776132583618164,
          0.16776132583618164,
          0.00030231475830078125,
          0.003797292709350586,
          0.09809637069702148,
          -0.010062217712402344,
          0.13813543319702148,
          0.1016993522644043,
          0.1034097671508789,
          0.057656288146972656,
          0.04156327247619629,
          0.39787811040878296,
          0.2781486511230469,
          0.7131750583648682,
          0.08648467063903809,
          -0.3170614242553711,
          0.2537193298339844,
          0.25235074758529663,
          0.035944223403930664,
          0.12259888648986816,
          0.12499892711639404,
          0.027959823608398438,
          0.13293862342834473,
          -0.021129369735717773,
          -0.022830486297607422,
          -0.02775263786315918,
          -0.022830486297607422,
          -0.02775263786315918,
          0.10325908660888672,
          0.5719280242919922,
          0.09652943164110184,
          0.09652940183877945,
          0.01722583919763565,
          0.0029418393969535828,
          0.002941802144050598,
          0.002941802144050598,
          0.002941802144050598,
          0.002941802144050598,
          0.3679357171058655,
          0.12286090850830078,
          0.1294260025024414,
          0.4690006971359253,
          0.1831117868423462,
          0.539671778678894,
          0.07680726051330566,
          0.4008275270462036,
          0.5647006034851074,
          0.002492189407348633,
          0.20032285153865814,
          0.4595870077610016,
          -0.014150381088256836,
          0.16534531116485596,
          0.44167518615722656,
          0.18056750297546387,
          0.4459761381149292,
          0.1386932134628296,
          0.42723506689071655,
          0.40781766176223755,
          -0.09797072410583496,
          0.10044223070144653,
          0.10904812812805176,
          0.034357666969299316,
          0.03435760736465454,
          0.034357547760009766,
          0.28132766485214233,
          0.12268638610839844,
          0.43919676542282104,
          0.07950234413146973,
          0.1002969741821289,
          0.4218006730079651,
          0.04646778106689453,
          0.0451812744140625,
          0.0451812744140625,
          0.044528961181640625,
          0.03743171691894531,
          0.0451812744140625,
          0.047055721282958984,
          0.0880122184753418,
          0.1437774896621704,
          0.1437774896621704,
          0.010529756546020508,
          0.0051653385162353516,
          0.10632824897766113,
          -0.1954628825187683,
          0.14167213439941406,
          -0.026025772094726562,
          -0.023064851760864258,
          -0.026025772094726562,
          -0.02530050277709961,
          0.09781444072723389,
          -0.04639101028442383,
          -0.06308913230895996,
          0.5258646607398987,
          0.789301872253418,
          0.050916194915771484,
          0.01832127571105957,
          0.1829833984375,
          0.07913088798522949,
          0.11571097373962402,
          0.06494522094726562,
          0.06494522094726562,
          0.05773353576660156,
          0.06494569778442383,
          0.06968832015991211,
          -0.32050395011901855,
          -0.01672506332397461,
          -0.01672506332397461,
          0.02928149700164795,
          0.3181244134902954,
          0.017826437950134277,
          -0.01908254623413086,
          0.017826437950134277,
          0.000713348388671875,
          0.09737396240234375,
          0.10532474517822266,
          0.04267549514770508,
          0.005269050598144531,
          0.04267549514770508,
          -0.1494755744934082,
          0.4335443377494812,
          0.10316252708435059,
          0.2377481460571289,
          0.011497020721435547,
          0.06872367858886719,
          0.014611244201660156,
          0.7300140857696533,
          0.04550743103027344,
          0.058730125427246094,
          -0.09446096420288086,
          0.1283712387084961,
          -0.0060579776763916016,
          0.0007212162017822266,
          0.0007212162017822266,
          0.15547245740890503,
          0.3890666961669922,
          0.35504603385925293,
          0.19961333274841309,
          -0.10851573944091797,
          -0.013737916946411133,
          0.11772012710571289,
          0.3969534635543823,
          0.46389245986938477,
          0.012275218963623047,
          0.13216304779052734,
          0.0016367435455322266,
          -0.03624725341796875,
          -0.03951597213745117,
          -0.02455615997314453,
          0.16635751724243164,
          0.05515706539154053,
          0.009474396705627441,
          0.009474396705627441,
          0.05515706539154053,
          0.13880586624145508,
          0.18668603897094727,
          0.027827858924865723,
          0.30116844177246094,
          0.05716550350189209,
          0.057165563106536865,
          0.16207313537597656,
          0.016013622283935547,
          0.013185977935791016,
          0.18865132331848145,
          0.2008070945739746,
          0.2613844871520996,
          0.11732292175292969,
          0.17907094955444336,
          0.05441141128540039,
          0.05441141128540039,
          0.4551604390144348,
          0.058093905448913574,
          0.015361011028289795,
          0.060657382011413574,
          -0.005382418632507324,
          -0.026030123233795166,
          0.12932348251342773,
          0.0015511512756347656,
          0.011067390441894531,
          0.18052589893341064,
          0.03947901725769043,
          0.20450037717819214,
          0.5365406274795532,
          0.48776841163635254,
          0.4843639135360718,
          0.4687725305557251,
          -0.09038585424423218,
          0.018111705780029297,
          0.060306549072265625,
          0.07596969604492188,
          0.42562657594680786,
          0.03998565673828125,
          0.6786503791809082,
          0.5471436977386475,
          0.4619868993759155,
          0.5330820083618164,
          0.14003753662109375,
          -0.35483884811401367,
          0.19464778900146484,
          0.4001593589782715,
          -0.021788597106933594,
          0.5489220023155212,
          0.3108959197998047,
          0.039910316467285156,
          0.16449475288391113,
          0.34906530380249023,
          0.13004660606384277,
          0.3712630271911621,
          0.49001896381378174,
          0.0784749984741211,
          0.06514167785644531,
          0.23545074462890625,
          0.37369129061698914,
          0.2343032956123352,
          0.050748348236083984,
          0.024810314178466797,
          0.17172503471374512,
          0.014028668403625488,
          0.09405916929244995,
          0.10075807571411133,
          0.09405910968780518,
          0.004645049571990967,
          0.01763993501663208,
          0.004645049571990967,
          0.004644989967346191,
          0.004645049571990967,
          -0.028352826833724976,
          -0.028352826833724976,
          -0.028352797031402588,
          -0.028352826833724976,
          -0.02835288643836975,
          -0.02835288643836975,
          0.06578174233436584,
          0.1295875906944275,
          0.12470459938049316,
          0.07593631744384766,
          0.3361201286315918,
          0.11093902587890625,
          0.06059598922729492,
          -0.012937307357788086,
          -0.011976242065429688,
          0.1935650110244751,
          0.028049826622009277,
          0.02475738525390625,
          0.02475738525390625,
          0.0247575044631958,
          0.02475738525390625,
          0.0247575044631958,
          0.4223531484603882,
          0.16738688945770264,
          0.6820082664489746,
          0.8765065670013428,
          0.2021486759185791,
          0.06796073913574219,
          0.08542394638061523,
          0.06439852714538574,
          0.07676458358764648,
          0.3901028335094452,
          0.42388784885406494,
          0.1746528148651123,
          -0.1349804401397705,
          -0.06879377365112305,
          -0.06879377365112305,
          -0.05840325355529785,
          -0.06879377365112305,
          0.4337038993835449,
          0.008485853672027588,
          0.37217575311660767,
          0.49914103746414185,
          0.056095123291015625,
          0.056095123291015625,
          0.5095032453536987,
          0.058536529541015625
         ]
        },
        {
         "line": {
          "color": "#1f77b4"
         },
         "name": "[#6][F,Cl,Br,I]",
         "showlegend": false,
         "spanmode": "hard",
         "type": "violin",
         "x": [
          -0.43987607955932617,
          -0.49967050552368164,
          -0.5272073745727539,
          -0.5272073745727539,
          -0.49967145919799805,
          -0.4588909149169922,
          -0.4588909149169922,
          -0.3237419128417969,
          -0.3237419128417969,
          -0.3101935386657715,
          -0.3101935386657715,
          -0.9235594272613525,
          -0.8111187815666199,
          -0.47086143493652344,
          -0.547731876373291,
          -0.5318946838378906,
          -0.6443691253662109,
          -0.5182080268859863,
          -0.42272281646728516,
          -0.42272281646728516,
          -0.42272281646728516,
          -0.6124629974365234,
          -0.6124629974365234,
          -0.5416197776794434,
          -0.5416197776794434,
          -0.9156607389450073,
          -0.9156605005264282,
          -1.3799378871917725,
          -0.8714900016784668,
          -1.5481659173965454,
          -0.8008944988250732,
          -0.7124757766723633,
          -0.4866371154785156,
          -0.5780134201049805,
          -0.4629859924316406,
          -0.4629859924316406,
          -0.5780124664306641,
          -0.5396270751953125,
          -0.4793853759765625,
          -0.4793853759765625,
          -0.6249456405639648,
          -0.6249456405639648,
          -0.4793853759765625,
          -0.4793853759765625,
          -0.6249456405639648,
          -0.6249456405639648,
          -0.24761724472045898,
          -0.4729437828063965,
          -0.29918408393859863,
          -1.124043345451355,
          -1.041369915008545,
          -1.041369915008545,
          -0.8743228912353516,
          -0.8927164077758789,
          -0.7463126182556152,
          -0.7463126182556152,
          -0.8014888763427734,
          -0.9555697441101074,
          -0.49211883544921875,
          -0.5053269863128662,
          -0.8263440132141113,
          -0.8263440132141113,
          -0.8263440132141113,
          -0.8263437747955322,
          -0.8263444900512695,
          -0.8263442516326904,
          -0.05739116668701172,
          -0.057392120361328125,
          -0.6569480895996094,
          -0.750291109085083,
          -0.8237800598144531,
          -0.7807126045227051,
          -0.8107089996337891,
          -0.7807126045227051,
          -0.7548727989196777,
          -0.5834074020385742,
          -0.6402859687805176,
          -0.6441326141357422,
          -0.6482200622558594,
          -1.1856160163879395,
          -1.1856160163879395,
          -1.1525344848632812,
          -1.1525344848632812,
          -0.7740688323974609,
          -0.7740688323974609,
          -0.9515457153320312,
          -0.9515457153320312,
          -0.5366888046264648,
          -0.5396685600280762,
          -0.5338995456695557,
          -0.8292028903961182,
          -1.0354504585266113,
          -1.0354504585266113,
          -1.0918102264404297,
          -1.113844871520996,
          -1.0918097496032715,
          -0.4909701347351074,
          -0.4909701347351074,
          -0.27821874618530273,
          -0.9331183433532715,
          -0.22828292846679688,
          -1.0554988384246826,
          -1.4653680324554443,
          -1.1755423545837402,
          -0.5229390859603882,
          -0.6657286882400513,
          -0.6657286882400513,
          -0.31363940238952637,
          -0.2152724266052246,
          -0.6320444941520691,
          -0.6552729606628418,
          -0.687225341796875,
          -0.6328558921813965,
          -0.9070537090301514,
          -0.9939522743225098,
          -1.036592960357666,
          -0.2836432456970215,
          -0.2836432456970215,
          -0.2836432456970215,
          -1.1460485458374023,
          -1.1460485458374023,
          -1.2330775260925293,
          -1.2330775260925293,
          -1.6696319580078125,
          -0.43350639939308167,
          -0.6983847618103027,
          -0.6983847618103027,
          -0.6944293975830078,
          -1.1117868423461914,
          -1.1379287242889404,
          -1.2384512424468994,
          -1.1379287242889404,
          -0.7018122673034668,
          -0.5693135261535645,
          -0.557988166809082,
          -0.8913788795471191,
          -0.4589332342147827,
          -0.7101436257362366,
          -0.886075496673584,
          -0.8860759735107422,
          -0.6494879722595215,
          -1.2524633407592773,
          -0.3960683345794678,
          -0.3620305061340332,
          -0.888353705406189,
          -0.95103520154953,
          -0.95103520154953,
          -0.95103520154953,
          -0.35328030586242676,
          -0.35328030586242676,
          -0.35328030586242676,
          -0.643104076385498,
          -0.25704073905944824,
          -1.1497106552124023,
          -1.1788897514343262,
          -1.1867408752441406,
          -0.13630223274230957,
          -0.13857579231262207,
          -0.8954974412918091,
          -0.5457859039306641,
          -0.6934247016906738,
          -0.6934247016906738,
          -0.6934247016906738,
          -0.44170093536376953,
          -0.44170093536376953,
          -0.4546823501586914,
          -0.5103378295898438,
          -0.611149787902832,
          -0.4892997741699219,
          -1.3232204914093018,
          -0.38683128356933594,
          -0.45394396781921387,
          -0.17836308479309082,
          -0.7363294363021851,
          -1.0574793815612793,
          -1.0574793815612793,
          -1.0574793815612793,
          -1.0574793815612793,
          -0.9305075407028198,
          -0.7634115219116211,
          -0.7634115219116211,
          -1.3705048561096191,
          -0.5791401267051697,
          -0.5807469487190247,
          -0.5807469487190247,
          -0.5189945697784424,
          -0.4418424367904663,
          -0.4418424367904663,
          -0.4418424367904663,
          -0.4418424367904663,
          -0.782313346862793,
          -1.0431008338928223,
          -1.0431008338928223,
          -1.0013322830200195,
          -0.12228596210479736,
          -0.27642297744750977,
          -0.33290648460388184,
          -0.47606372833251953,
          -0.47606468200683594,
          -0.6074838638305664,
          -0.6459722518920898,
          -0.6088876724243164,
          -0.6088876724243164,
          -0.6459722518920898,
          -0.6074833869934082,
          -0.7041389346122742,
          -0.7041389346122742,
          -0.663449764251709,
          -0.663449764251709,
          -0.663449764251709,
          -0.663449764251709,
          -0.6634502410888672,
          -0.663449764251709,
          -1.149143934249878,
          -1.149144172668457,
          -1.220524549484253,
          -0.7849090099334717,
          -0.7849090099334717,
          -0.7849090099334717,
          -0.7849090099334717,
          -0.8025109767913818,
          -0.7740490436553955,
          -0.5276041030883789,
          -0.5311279296875,
          -0.5480861663818359,
          -0.6216897964477539,
          -0.5276041030883789,
          -0.8312139511108398,
          -0.9147629737854004,
          -1.0280776023864746,
          -0.4210090637207031,
          -0.8200278878211975,
          -0.5503756999969482,
          -0.5503756999969482,
          -0.5503756999969482,
          -0.13997602462768555,
          -0.739782452583313,
          -0.8401136994361877,
          -0.8401136994361877,
          -0.543093204498291,
          -1.515977144241333,
          -1.115131139755249,
          -0.7451632022857666,
          -0.5934023857116699,
          -0.3370697498321533,
          -0.710568904876709,
          -0.7934380769729614,
          -0.7205145359039307,
          -0.7411725521087646,
          -1.4619261026382446,
          -0.11270713806152344,
          -0.22412991523742676,
          -1.1110116243362427,
          -1.0203375816345215,
          -0.808478832244873,
          -0.8037784099578857,
          -0.4346923828125,
          -0.4346923828125,
          -0.4346923828125,
          -0.7576210498809814,
          -0.7576210498809814,
          -1.003711223602295,
          -1.0132789611816406,
          -0.8175609111785889,
          -1.045781135559082,
          -1.045781135559082,
          -1.045781135559082,
          -0.8175606727600098,
          -0.8818191885948181,
          -0.8946384191513062,
          -1.3592056035995483,
          -1.3256103992462158,
          -1.330024003982544,
          -0.3213235139846802,
          -0.3213235139846802,
          -0.4336819648742676,
          -0.4336819648742676,
          -0.3355684280395508,
          -0.335568904876709,
          -0.3226895332336426,
          -0.3226895332336426,
          -0.7657108306884766,
          -0.7657113075256348,
          -0.8473339080810547,
          -0.8473339080810547,
          -0.23106813430786133,
          -0.39479970932006836,
          -0.39479970932006836,
          -0.3848419189453125,
          -0.3848419189453125,
          -1.1868512630462646,
          -1.1963772773742676,
          -1.1926422119140625,
          -0.11828088760375977,
          -0.3526744842529297,
          -0.4049410820007324,
          -0.40148019790649414,
          -0.40148019790649414,
          -0.40148019790649414,
          -0.40148019790649414,
          -0.4049410820007324,
          -0.3526744842529297,
          -0.4049410820007324,
          -0.4049410820007324,
          -0.4184565544128418,
          -0.36856555938720703,
          -0.25974130630493164,
          -0.25974130630493164,
          -0.36856555938720703,
          -0.4184556007385254,
          -0.4184556007385254,
          -0.36856555938720703,
          -0.36856555938720703,
          -0.4184560775756836,
          -0.6448860168457031,
          -0.7779349684715271,
          -0.7779349684715271,
          -1.0972672700881958,
          -0.6996452808380127,
          -0.9446818828582764,
          -1.0941755771636963,
          -1.2898576259613037,
          -1.6517701148986816,
          -0.5973000526428223,
          -0.6004014015197754,
          -0.6004014015197754,
          -0.5074038505554199,
          -0.5074043273925781,
          -0.9288473129272461,
          -0.9262164831161499,
          -0.935662031173706,
          -0.507178783416748,
          -0.507178783416748,
          -0.43726861476898193,
          -0.43726861476898193,
          -0.5209847688674927,
          -1.0295159816741943,
          -1.3477587699890137,
          -0.7511625289916992,
          -0.7843023538589478,
          -1.5161454677581787,
          -0.8175461292266846,
          -0.4976515769958496,
          -0.5124564170837402,
          -0.420926570892334,
          -0.2341470718383789,
          -0.2341470718383789,
          -0.2341470718383789,
          -0.5124564170837402,
          -0.4976520538330078,
          -0.3485696315765381,
          -0.15245437622070312,
          -0.15245437622070312,
          -0.15245437622070312,
          -0.43004846572875977,
          -0.7855470180511475,
          -0.7855468988418579,
          -0.7855470180511475,
          -0.7843776345252991,
          -0.7843776345252991,
          -0.7843776345252991,
          -0.6823616027832031,
          -1.149118423461914,
          -0.9958701729774475,
          -0.5009903907775879,
          -0.5009903907775879,
          -0.42093563079833984,
          -0.42093563079833984,
          -0.42093515396118164,
          -1.316748857498169,
          -1.316748857498169,
          -0.7432544231414795,
          -0.7587676048278809,
          -0.9488444328308105,
          -0.9488441944122314,
          -0.36654210090637207,
          -0.6681157350540161,
          -0.6681157350540161,
          -0.6681157350540161,
          -1.2137231826782227,
          -1.2137231826782227,
          -1.2137231826782227,
          -1.4251879453659058,
          -0.7251094579696655,
          -0.6078729629516602,
          -0.6078739166259766,
          -0.6651277542114258,
          -0.6734113693237305,
          -0.817512035369873,
          -0.817512035369873,
          -0.7946829795837402,
          -0.7946829795837402,
          -0.8175125122070312,
          -0.817512035369873,
          -1.2092273235321045,
          -0.45556187629699707,
          -0.45556187629699707,
          -0.45556187629699707,
          -0.48975276947021484,
          -0.5489444732666016,
          -0.6535911560058594,
          -0.6539592742919922,
          -0.5385637283325195,
          -0.5016746520996094,
          -0.5016756057739258,
          -0.5827422142028809,
          -0.5862059593200684,
          -0.5862059593200684,
          -0.5827422142028809,
          -1.204496145248413,
          -1.2044966220855713,
          -1.2044966220855713,
          -1.204496145248413,
          -0.9289754629135132,
          -0.9656274318695068,
          -0.7323363423347473,
          -0.7323363423347473,
          -0.8362155556678772,
          -1.3126630783081055,
          -0.0988457202911377,
          -0.0988457202911377,
          -0.0988457202911377,
          -0.9919965267181396,
          -0.7436623573303223,
          -0.7436623573303223,
          -0.7464709281921387,
          -0.7464709281921387,
          -0.7436618804931641,
          -0.9772369861602783,
          -0.4001951217651367,
          -1.0783839225769043,
          -0.9471547603607178,
          -0.8149567246437073,
          -0.5184340476989746,
          -0.5184340476989746,
          -0.944472074508667,
          -0.944472074508667,
          -0.6840314865112305,
          -0.6840314865112305,
          -0.6922140121459961,
          -0.6922140121459961,
          -0.6840314865112305,
          -0.6840314865112305,
          -0.6840314865112305,
          -0.6922140121459961,
          -0.6922149658203125,
          -0.6840324401855469,
          -1.0616899728775024,
          -1.0616899728775024,
          -0.28171229362487793,
          -0.43909990787506104,
          -0.2181382179260254,
          -0.2181382179260254,
          -0.2181382179260254,
          -0.2181382179260254,
          -0.2181377410888672,
          -0.2181382179260254,
          -0.1678175926208496,
          -0.1678175926208496,
          -0.1678175926208496,
          -1.1287171840667725,
          -1.1935970783233643,
          -1.1099028587341309,
          -0.32819676399230957,
          -1.1048115491867065,
          -1.351893663406372,
          -1.351893663406372,
          -1.351893663406372,
          -0.7682037353515625,
          -0.7682037353515625,
          -0.75030517578125,
          -0.4715322256088257,
          -1.0319018363952637,
          -1.0861430168151855,
          -1.0861430168151855,
          -1.0861430168151855,
          -1.0319013595581055,
          -0.3580751419067383,
          -0.4036555290222168,
          -0.12774991989135742,
          -0.12774991989135742,
          -0.12774991989135742,
          -0.3797335624694824,
          -0.4177980422973633,
          -0.5905289649963379,
          -0.4391365051269531,
          -0.6531224250793457,
          -0.6497421264648438,
          -0.6497421264648438,
          -0.6497411727905273,
          -0.6531224250793457,
          -0.4814739227294922,
          -0.5414608716964722,
          -0.5414608716964722,
          -0.2918882369995117,
          -1.051115870475769,
          -1.0163781642913818,
          -1.1240954399108887,
          -0.4194965362548828,
          -0.460235595703125,
          -0.4507613182067871,
          -0.5464491844177246,
          -0.5783772468566895,
          -0.5505027770996094,
          -0.6130292415618896,
          -0.6130292415618896,
          -0.799933671951294,
          -0.6786201000213623,
          -0.8511927127838135,
          -0.8511927127838135,
          -0.6310415267944336,
          -0.658393383026123,
          -0.5057730674743652,
          -0.5057730674743652,
          -0.6147966384887695,
          -0.6147966384887695,
          -0.4806184768676758,
          -0.6783785820007324,
          -0.6748566627502441,
          -0.4186079502105713,
          -1.1765148639678955,
          -1.3431012630462646,
          -1.1142034530639648,
          -0.4728212356567383,
          -0.4545450210571289,
          -0.8601998686790466,
          -1.1801867485046387,
          -0.9813069701194763,
          -0.8615453243255615,
          -0.8615453243255615,
          -0.8615453243255615,
          -0.8615453243255615,
          -0.5389938354492188,
          -0.5350728034973145,
          -0.6521916389465332,
          -0.711613655090332,
          -0.7382292747497559,
          -0.8239130973815918,
          -0.22263550758361816,
          -1.2819538116455078,
          -1.2805933952331543,
          -0.8501869440078735,
          -0.4169645309448242,
          -0.11641216278076172,
          -0.6467852592468262,
          -0.43658876419067383,
          -0.14527511596679688,
          -0.14527511596679688,
          -0.14527606964111328,
          -0.15245509147644043,
          -0.22130751609802246,
          -0.0877079963684082,
          -0.0877079963684082,
          -1.0729118585586548,
          -1.0729118585586548,
          -0.8986611366271973,
          -0.6764135956764221,
          -0.6764136552810669,
          -0.6764135956764221,
          -0.6358966827392578,
          -0.8640295267105103,
          -1.055140495300293,
          -1.009860873222351,
          -1.293935775756836,
          -1.293935775756836,
          -0.36881208419799805,
          -0.4873523712158203,
          -0.4873523712158203,
          -0.3663477897644043,
          -0.35468149185180664,
          -0.35468101501464844,
          -0.4841327667236328,
          -0.4841327667236328,
          -0.3822760581970215,
          -0.37969303131103516,
          -0.3712306022644043,
          -0.3712306022644043,
          -0.48092198371887207,
          -0.6024878025054932,
          -0.42311954498291016,
          -0.4623231887817383,
          -0.56573486328125,
          -0.4578971862792969,
          -0.4578971862792969,
          -0.56573486328125,
          -0.8332879543304443,
          -0.8332879543304443,
          -0.8332878351211548,
          -1.2445687055587769,
          -1.0337159633636475,
          -0.5891084671020508,
          -0.589108943939209,
          -0.2665224075317383,
          -0.2665224075317383,
          -0.2665224075317383,
          -1.0157175064086914,
          -1.4656057357788086,
          -0.8649910688400269,
          -0.5731391906738281,
          -0.6029877662658691,
          -0.17049694061279297,
          -0.5775942802429199,
          -0.8280003070831299,
          -0.9807708263397217,
          -0.7501883506774902,
          -0.9497079849243164,
          -0.9497079849243164,
          -0.46727609634399414,
          -0.46727657318115234,
          -0.4180288314819336,
          -0.4180288314819336,
          -0.41802978515625,
          -0.11758756637573242,
          -0.11758756637573242,
          -0.11758756637573242,
          -0.16068768501281738,
          -0.16068768501281738,
          -0.16068768501281738,
          -0.4412107467651367,
          -0.43645620346069336,
          -0.5294761657714844,
          -0.5616655349731445,
          -0.5329041481018066,
          -0.4426279067993164,
          -0.5089221000671387,
          -0.5089211463928223,
          -0.25075721740722656,
          -1.1160300970077515,
          -1.300047755241394,
          -1.300047755241394,
          -1.5807071924209595,
          -0.3927302360534668,
          -0.44594812393188477,
          -0.44594812393188477,
          -0.3927302360534668,
          -0.44594812393188477,
          -0.44594812393188477,
          -0.9761133193969727,
          -0.6692023277282715,
          -1.0875943899154663,
          -0.44214868545532227,
          -0.49023914337158203,
          -0.6585288047790527,
          -0.654757022857666,
          -0.654757022857666,
          -0.654757022857666,
          -0.6585283279418945,
          -0.11258697509765625,
          -0.11661076545715332,
          -0.8775242567062378,
          -0.9801647663116455,
          -1.0928280353546143,
          -0.20615696907043457,
          -0.34703874588012695,
          -0.4312863349914551,
          -0.21004962921142578,
          -0.21004962921142578,
          -0.21004962921142578,
          -0.3614084720611572,
          -0.48508405685424805,
          -0.48508405685424805,
          -0.3717684745788574,
          -0.44206905364990234,
          -0.3688082695007324,
          -0.35550928115844727,
          -0.35551023483276367,
          -0.32530784606933594,
          -1.068105697631836,
          -0.7370061874389648,
          -0.7401394844055176,
          -0.7989778518676758,
          -0.4172496795654297,
          -0.44812965393066406,
          -0.5451173782348633,
          -0.5777344703674316,
          -0.5485916137695312,
          -0.4611482620239258,
          -0.852149486541748,
          -0.852149486541748,
          -0.852149486541748,
          -1.1133785247802734,
          -1.1133785247802734,
          -0.20229578018188477,
          -0.31493711471557617,
          -0.3634366989135742,
          -0.6663761138916016,
          -0.7133095264434814,
          -0.7133095264434814,
          -0.26633167266845703,
          -0.9490063190460205,
          -0.6880712509155273,
          -0.638192355632782,
          -0.5493339896202087,
          -0.9562883377075195,
          -1.042755126953125,
          -1.042755126953125,
          -0.5343985557556152,
          -0.5343985557556152,
          -0.5779943466186523,
          -0.9215726852416992,
          -0.9215726852416992,
          -0.9279286861419678,
          -0.7046928405761719,
          -0.7046928405761719,
          -0.7046928405761719,
          -0.7046928405761719,
          -1.2173404693603516,
          -0.3975485563278198,
          -0.3975486755371094,
          -0.2569894790649414,
          -0.2569894790649414,
          -0.2569894790649414,
          -0.3243284225463867,
          -0.3243284225463867,
          -0.3243284225463867,
          -0.3243284225463867,
          -0.3243284225463867,
          -0.3243284225463867,
          -0.3243284225463867,
          -0.3243284225463867,
          -0.3243284225463867,
          -0.3243284225463867,
          -0.3243284225463867,
          -0.3243284225463867,
          -0.7717938423156738,
          -0.4969024658203125,
          -0.4969024658203125,
          -0.6382074356079102,
          -0.7747485637664795,
          -0.7747485637664795,
          -0.7747485637664795,
          -0.7747485637664795,
          -0.15558815002441406,
          -0.27878499031066895,
          -0.8933563232421875,
          -0.8933563232421875,
          -0.9633307456970215,
          -0.6816287040710449,
          -0.8608431816101074,
          -0.6636276245117188,
          -0.5889692306518555,
          -0.5889697074890137,
          -0.6261768341064453,
          -0.906806468963623,
          -0.8698028922080994,
          -0.8698030114173889,
          -0.31601786613464355,
          -0.31601786613464355,
          -1.1916661262512207,
          -1.1916663646697998,
          -0.7565799951553345,
          -0.8406914472579956,
          -0.7565797567367554,
          -0.19605159759521484,
          -0.46352720260620117,
          -0.46767187118530273,
          -0.46352720260620117,
          -0.46352720260620117,
          -0.46767377853393555,
          -0.46352720260620117,
          -0.5233473777770996,
          -0.5233473777770996,
          -0.3574862480163574,
          -0.4303121566772461,
          -0.4194645881652832,
          -0.35990476608276367,
          -0.349761962890625,
          -0.349761962890625,
          -0.9503629207611084,
          -1.0680153369903564,
          -0.8393431901931763,
          -0.8393431901931763,
          -0.6464688777923584,
          -0.4697685241699219,
          -0.6158397197723389,
          -0.9769806861877441,
          -0.9769806861877441,
          -0.9769806861877441,
          -0.3172450065612793,
          -0.8619570732116699,
          -0.9691753387451172,
          -1.0063636302947998,
          -0.7390692234039307,
          -0.1582951545715332,
          -0.29758119583129883,
          -0.7030656337738037,
          -0.7030656337738037,
          -0.9214074611663818,
          -0.9214074611663818,
          -0.9214076995849609,
          -1.4378833770751953,
          -1.4378833770751953,
          -0.7797017097473145,
          -0.8540282249450684,
          -0.8540282249450684,
          -0.7797019481658936,
          -0.6885755062103271,
          -0.6885755062103271,
          -0.9413906335830688,
          -0.6885755062103271,
          -0.6885755062103271,
          -0.9413906335830688,
          -0.6989126205444336,
          -0.916000247001648,
          -0.0996239185333252,
          -0.0996239185333252,
          -0.0996239185333252,
          -0.9986453056335449,
          -0.9986453056335449,
          -0.5808486938476562,
          -0.8877913951873779,
          -0.8877913951873779,
          -0.2409985065460205,
          -0.4895944595336914,
          -0.47039175033569336,
          -0.4625978469848633,
          -0.584348201751709,
          -0.6234617233276367,
          -0.5851221084594727,
          -0.584348201751709,
          -0.27642619609832764,
          -0.27642619609832764,
          -0.27642619609832764,
          -0.7310446500778198,
          -0.8736624121665955,
          -1.1463208198547363,
          -1.2974209785461426,
          -1.2974209785461426,
          -1.310547113418579
         ]
        },
        {
         "line": {
          "color": "#1f77b4"
         },
         "name": "[S;D1]",
         "showlegend": false,
         "spanmode": "hard",
         "type": "violin",
         "x": [
          -0.26767635345458984,
          -0.5772566795349121,
          -0.27947425842285156,
          -0.208052396774292,
          -0.5501495599746704,
          -0.2847192585468292,
          -0.3667635917663574,
          -0.19437170028686523,
          -0.21016836166381836,
          -0.20589494705200195,
          -0.20622920989990234,
          -0.46051478385925293,
          -0.26625537872314453,
          -0.15709877014160156,
          -0.3688817024230957,
          -0.6918946504592896,
          -0.2287588119506836,
          -0.5177011489868164,
          -0.519709587097168,
          -0.0593419075012207,
          -0.14282655715942383,
          -0.4857945442199707,
          -0.3101184368133545,
          -0.6797398328781128,
          -0.20423126220703125,
          -0.20423126220703125,
          -0.514970064163208,
          -0.19669389724731445,
          -0.7145025730133057,
          -0.5408992767333984,
          -0.3853116035461426,
          -0.28635263442993164,
          -0.27147817611694336,
          -0.21655607223510742,
          -0.29512834548950195,
          -0.29512834548950195,
          -0.20126080513000488,
          -0.5706741809844971,
          -0.5437831878662109,
          -0.15936851501464844,
          -0.358426570892334,
          -0.2628331184387207,
          -0.533149003982544,
          -0.31170129776000977,
          -0.2801041603088379,
          -0.3068065643310547,
          -0.5880758762359619,
          -0.5880758762359619,
          -0.06791138648986816,
          -0.3798694610595703,
          -0.17461729049682617,
          -0.17461633682250977,
          -1.1209864616394043
         ]
        },
        {
         "line": {
          "color": "#1f77b4"
         },
         "name": "[O;D2]-[C;D2;H2]-[C;D1;H3]",
         "showlegend": false,
         "spanmode": "hard",
         "type": "violin",
         "x": [
          -0.3255891799926758,
          -0.3255891799926758,
          -0.6568083763122559,
          -0.6568078994750977,
          -0.5610299110412598,
          -0.3978438377380371,
          -0.3978438377380371,
          -0.11352717876434326,
          -0.48718979954719543,
          -0.48718973994255066,
          -0.3820457458496094,
          -0.4167923927307129,
          -0.12993431091308594,
          -0.3172159194946289,
          -0.3172154426574707,
          -0.5470055937767029,
          -0.4840836524963379,
          -0.4840841293334961,
          -0.19724583625793457,
          -0.19724583625793457,
          -0.5451217889785767,
          -0.2591322064399719,
          -0.42080068588256836,
          -0.42080068588256836,
          -0.32774996757507324,
          -0.1604938507080078,
          -0.5883979797363281,
          -0.1683964729309082,
          0.0736076831817627,
          -0.3789234161376953,
          -0.26291728019714355,
          -0.2571544647216797,
          -0.17752861976623535,
          -0.530066967010498,
          -0.5904629230499268,
          -0.40961742401123047,
          -0.40961790084838867,
          -0.6452080011367798,
          -0.5733232498168945,
          -0.22553062438964844,
          -0.346651554107666,
          -0.5954760313034058,
          -0.5954760313034058,
          -0.31377434730529785,
          -0.5184723734855652,
          -0.5184723734855652,
          -0.3937206268310547,
          -0.3937201499938965,
          -0.43700075149536133,
          -0.43700075149536133,
          -0.43700122833251953,
          -0.43700122833251953,
          -0.7502305507659912,
          -0.6354151964187622,
          -0.5013000965118408,
          -0.21811294555664062,
          -0.21811294555664062,
          -0.1896851658821106,
          -0.1896851658821106,
          -0.1896851658821106,
          -0.7379770278930664,
          -0.45341235399246216,
          -0.45341235399246216,
          -0.3154139518737793,
          -0.3154139518737793,
          -0.5414918661117554,
          -0.4288492202758789,
          -0.14537930488586426,
          -0.46314287185668945,
          -0.46314287185668945,
          -0.18529009819030762,
          -0.2791872024536133,
          -0.2791872024536133,
          -0.6317291259765625,
          -0.6317286491394043,
          -0.47163382172584534,
          -0.5001590251922607,
          -0.5001592636108398,
          -0.10640335083007812,
          -0.10640287399291992,
          -0.5483386516571045
         ]
        },
        {
         "line": {
          "color": "#1f77b4"
         },
         "name": "C(=[O;D1])-[C;D1;H3]",
         "showlegend": false,
         "spanmode": "hard",
         "type": "violin",
         "x": [
          0.29094481468200684,
          -0.0735020637512207,
          0.66936194896698,
          0.025952577590942383,
          -0.25002825260162354,
          -0.25002822279930115,
          -0.23881874978542328,
          0.3697360157966614,
          -0.05742073059082031,
          0.8324012756347656,
          -0.1568591296672821,
          0.6618432998657227,
          1.088529109954834,
          -0.17554283142089844,
          0.09632158279418945,
          -0.08447122573852539,
          -0.05544900894165039,
          0.752135694026947,
          0.13383960723876953,
          -0.4546027183532715,
          -0.46671557426452637,
          0.5059268474578857,
          -0.2818450927734375,
          0.07274532318115234,
          -0.3752284049987793,
          0.19574737548828125,
          -0.3811066150665283,
          -0.5297832489013672,
          0.4013862609863281,
          0.18497657775878906,
          -0.47223997116088867,
          -0.02154994010925293,
          -0.4621739387512207,
          -0.11006677150726318,
          0.11178922653198242,
          1.0080654621124268,
          -0.023525595664978027,
          0.4061530828475952,
          0.3699655532836914,
          0.20939373970031738,
          -0.5837063789367676,
          -0.133880615234375,
          -0.4071250557899475,
          -0.16603446006774902,
          0.7404353022575378,
          0.9469869136810303,
          -0.34902191162109375,
          0.6298383474349976,
          0.9391944408416748,
          0.8359107971191406,
          0.12093114852905273,
          -0.33651161193847656,
          0.04594922065734863,
          0.13602983951568604,
          -0.047872066497802734,
          0.01129150390625,
          -0.05893909931182861
         ]
        },
        {
         "line": {
          "color": "#1f77b4"
         },
         "name": "[C;D4](F)(F)F",
         "showlegend": false,
         "spanmode": "hard",
         "type": "violin",
         "x": [
          -1.1761651039123535,
          -0.6634664535522461,
          -1.0326337814331055,
          -1.334747314453125,
          -0.44205379486083984,
          -0.16257381439208984,
          -0.7747799158096313,
          -0.34964656829833984,
          -0.3941049575805664,
          -0.21247243881225586,
          -0.1598339080810547,
          -0.6432547569274902,
          -0.20573091506958008,
          -0.3759455680847168,
          -0.4520139694213867,
          -0.5805234909057617,
          -0.30190587043762207,
          -0.5812362432479858
         ]
        },
        {
         "line": {
          "color": "#1f77b4"
         },
         "name": "[N;D3](=[O;D1])[O;D1]",
         "showlegend": false,
         "spanmode": "hard",
         "type": "violin",
         "x": [
          -0.44848060607910156,
          -0.4437084197998047,
          -0.21868324279785156,
          -0.7829189300537109,
          -0.3886909484863281,
          0.2288060188293457,
          -0.12759870290756226,
          -0.232316255569458,
          -0.686983048915863,
          -0.23226261138916016,
          -0.6817429065704346,
          -0.2214900404214859,
          -0.4529685974121094,
          -0.4529685974121094,
          -0.33801889419555664,
          -0.3376150131225586,
          0.062395572662353516,
          -0.1660919189453125,
          -0.3280158042907715,
          -0.27844762802124023,
          -0.27844762802124023,
          -0.19123077392578125,
          -0.2197723388671875,
          -0.21927165985107422,
          -0.2197723388671875,
          -0.4441711902618408,
          -0.4441709518432617,
          -0.28793907165527344,
          -0.29167962074279785,
          -0.4009667634963989,
          -0.7010071873664856,
          -0.8659055233001709,
          -0.35083818435668945,
          -0.35083818435668945,
          -1.0533310174942017,
          0.08761453628540039,
          -0.5123467445373535,
          -0.2569406032562256,
          -0.2569406032562256,
          -0.2569406032562256,
          -0.08746194839477539,
          -0.22203755378723145,
          -0.2870294451713562,
          -0.287029504776001,
          -0.2882397174835205,
          -1.0968365669250488,
          -0.05614471435546875,
          -0.0320582389831543,
          -0.35868167877197266,
          -0.35682010650634766,
          -0.3570239543914795,
          -0.46553921699523926,
          -0.46553897857666016,
          -0.07857894897460938,
          -0.03415226936340332,
          -0.39891862869262695,
          -0.39891958236694336,
          -0.12670385837554932,
          -0.1268683671951294,
          -0.23946714401245117,
          -0.23946714401245117,
          -0.17816030979156494,
          -0.9026234149932861,
          0.06971216201782227,
          -0.11293172836303711,
          -0.26096606254577637,
          -0.45880675315856934,
          -0.45880627632141113,
          -0.36670589447021484,
          -0.36670589447021484,
          -0.15875458717346191,
          -0.6320842504501343,
          -0.3240722417831421,
          -0.30820465087890625,
          -0.30820465087890625,
          -0.15654826164245605
         ]
        },
        {
         "line": {
          "color": "#1f77b4"
         },
         "name": "[N;D1;H2]",
         "showlegend": false,
         "spanmode": "hard",
         "type": "violin",
         "x": [
          -0.0720672607421875,
          -0.013019800186157227,
          -0.3276817500591278,
          -0.3541155457496643,
          -0.02602410316467285,
          0.017904311418533325,
          0.017904311418533325,
          0.45479440689086914,
          0.373380184173584,
          -0.18069398403167725,
          0.03598366677761078,
          -0.06801629066467285,
          0.0678856372833252,
          0.19783806800842285,
          -0.015748023986816406,
          -0.015748023986816406,
          -0.2957215905189514,
          -0.044645071029663086,
          -0.044645071029663086,
          0.10613787174224854,
          -0.04120826721191406,
          0.24903500080108643,
          -0.146942138671875,
          0.06493127346038818,
          -0.3194918632507324,
          -0.11439347267150879,
          -0.08772587776184082,
          -0.004799604415893555,
          -0.35710132122039795,
          0.2299201488494873,
          -0.006575107574462891,
          -0.0008559226989746094,
          -0.02377164363861084,
          -0.04245162010192871,
          -0.02025580406188965,
          -0.02025580406188965,
          0.23528623580932617,
          -0.241889089345932,
          0.0102996826171875,
          0.036836862564086914,
          -0.1082162857055664,
          -0.016519784927368164,
          -0.06228828430175781,
          -0.08055651187896729,
          -0.24582988023757935,
          -0.05614495277404785,
          -0.05483555793762207,
          0.2653625011444092,
          -0.060584306716918945,
          -0.12771952152252197,
          -0.16208267211914062,
          -0.04909944534301758,
          0.0067708492279052734,
          0.0067708492279052734,
          0.1852872371673584,
          -0.27696752548217773,
          0.20722579956054688,
          0.05402731895446777,
          -0.10692131519317627,
          0.47258567810058594,
          0.15245628356933594,
          -0.03557109832763672,
          -0.35623395442962646,
          0.19731509685516357,
          0.002701997756958008,
          -0.09460008144378662,
          -0.011026144027709961,
          -0.03043985366821289,
          0.48160192370414734,
          0.002589702606201172,
          0.002589702606201172,
          0.013344675302505493,
          -0.09260129928588867,
          -0.016803741455078125,
          -0.029924869537353516,
          -0.21831800043582916,
          -0.21831800043582916,
          -0.17006754875183105,
          -0.24710983037948608,
          -0.14315199851989746,
          0.005514860153198242,
          -0.07443618774414062,
          -1.1920928955078125e-05,
          -0.40617457032203674,
          -0.00692141056060791,
          0.10867023468017578,
          0.008751392364501953
         ]
        },
        {
         "line": {
          "color": "#1f77b4"
         },
         "name": "C(=[O;D1])[O;D2]-[C;D1;H3]",
         "showlegend": false,
         "spanmode": "hard",
         "type": "violin",
         "x": [
          0.7815718650817871,
          -0.3293190002441406,
          -0.09421491622924805,
          -0.09421491622924805,
          0.07389557361602783,
          -0.14507031440734863,
          0.6249322891235352,
          -0.04959237575531006,
          -0.04278433322906494,
          1.116589069366455,
          -1.0000848770141602,
          -0.0033121109008789062,
          -0.0033121109008789062,
          0.28603219985961914,
          -1.046569585800171,
          -0.08312666416168213,
          1.282057285308838,
          -1.0495445728302002,
          -0.009802311658859253,
          -0.23252463340759277,
          0.9492647647857666,
          -0.4023919105529785,
          0.05820537358522415,
          -0.12263131141662598
         ]
        },
        {
         "line": {
          "color": "#1f77b4"
         },
         "name": "[C;D4]([C;D1])([C;D1])-[C;D1]",
         "showlegend": false,
         "spanmode": "hard",
         "type": "violin",
         "x": [
          -1.0370657444000244,
          -2.2011356353759766,
          -2.141130208969116,
          -0.8603355884552002,
          -0.9976253509521484,
          -2.7678120136260986,
          -1.3216328620910645,
          -1.282414197921753,
          -1.055556297302246,
          -0.7137727737426758,
          -2.090221881866455,
          -2.510205030441284,
          -0.08454060554504395,
          -0.6490888595581055,
          -1.4700522422790527,
          -1.6613786220550537,
          -1.8381550312042236,
          -0.8971822261810303,
          -2.9154179096221924,
          -0.24982285499572754,
          -1.6774718761444092,
          -0.6927521228790283,
          -0.6927523612976074,
          -1.4807100296020508,
          -1.1172025203704834,
          -2.8174915313720703
         ]
        },
        {
         "line": {
          "color": "#1f77b4"
         },
         "name": "[C;D2]#[C;D1;H1]",
         "showlegend": false,
         "spanmode": "hard",
         "type": "violin",
         "x": [
          -0.19877171516418457,
          -0.9408783912658691,
          -0.08122754096984863,
          -0.1059575080871582,
          -0.39977768063545227,
          -0.49252235889434814,
          -0.4665069580078125,
          0.08691787719726562,
          -0.28474390506744385,
          -0.12054300308227539,
          0.3045792579650879,
          -0.39395689964294434,
          -1.0951447486877441,
          -0.2709197998046875
         ]
        },
        {
         "line": {
          "color": "#1f77b4"
         },
         "name": "C(=[O;D1])-[N;D1]",
         "showlegend": false,
         "spanmode": "hard",
         "type": "violin",
         "x": [
          -0.8796912431716919,
          0.09388613700866699,
          0.19620868563652039,
          -0.10728585720062256,
          -0.10728585720062256,
          0.3086128234863281,
          -0.8706591129302979,
          0.31416964530944824,
          -0.025572538375854492,
          0.5026226043701172,
          -0.2735847234725952,
          0.3175649046897888,
          0.12639790773391724,
          0.12639790773391724,
          -0.7682199478149414,
          0.4120805263519287
         ]
        },
        {
         "line": {
          "color": "#1f77b4"
         },
         "name": "[S;D2]-[C;D1;H3]",
         "showlegend": false,
         "spanmode": "hard",
         "type": "violin",
         "x": [
          -0.376397967338562,
          -0.42065906524658203,
          -0.916597843170166,
          -0.916597843170166,
          -0.17767930030822754,
          0.08762955665588379,
          0.06002664566040039,
          -0.22647476196289062,
          -0.12131810188293457,
          -0.141099214553833,
          -0.6756675243377686,
          0.0036106109619140625,
          -0.9354475736618042,
          -0.9354475736618042,
          -0.5576974153518677,
          -0.32729849219322205
         ]
        },
        {
         "line": {
          "color": "#1f77b4"
         },
         "name": "[S;D4](=[O;D1])(=[O;D1])-[N;D1;H2]",
         "showlegend": false,
         "spanmode": "hard",
         "type": "violin",
         "x": [
          -0.7009314298629761,
          0.21547961235046387,
          0.20396971702575684,
          -0.6322762966156006,
          -1.369422435760498,
          -0.1599125862121582,
          0.24143218994140625,
          0.03213620185852051,
          0.0373995304107666,
          -0.004908323287963867,
          -0.05559110641479492,
          0.15014219284057617,
          -0.2125568389892578,
          0.34549903869628906
         ]
        }
       ],
       "layout": {
        "autosize": false,
        "height": 700,
        "shapes": [
         {
          "line": {
           "dash": "dash",
           "width": 3
          },
          "type": "line",
          "x0": 0,
          "x1": 0,
          "xref": "x",
          "y0": 0,
          "y1": 1,
          "yref": "y domain"
         }
        ],
        "template": {
         "data": {
          "bar": [
           {
            "error_x": {
             "color": "rgb(36,36,36)"
            },
            "error_y": {
             "color": "rgb(36,36,36)"
            },
            "marker": {
             "line": {
              "color": "white",
              "width": 0.5
             },
             "pattern": {
              "fillmode": "overlay",
              "size": 10,
              "solidity": 0.2
             }
            },
            "type": "bar"
           }
          ],
          "barpolar": [
           {
            "marker": {
             "line": {
              "color": "white",
              "width": 0.5
             },
             "pattern": {
              "fillmode": "overlay",
              "size": 10,
              "solidity": 0.2
             }
            },
            "type": "barpolar"
           }
          ],
          "carpet": [
           {
            "aaxis": {
             "endlinecolor": "rgb(36,36,36)",
             "gridcolor": "white",
             "linecolor": "white",
             "minorgridcolor": "white",
             "startlinecolor": "rgb(36,36,36)"
            },
            "baxis": {
             "endlinecolor": "rgb(36,36,36)",
             "gridcolor": "white",
             "linecolor": "white",
             "minorgridcolor": "white",
             "startlinecolor": "rgb(36,36,36)"
            },
            "type": "carpet"
           }
          ],
          "choropleth": [
           {
            "colorbar": {
             "outlinewidth": 1,
             "tickcolor": "rgb(36,36,36)",
             "ticks": "outside"
            },
            "type": "choropleth"
           }
          ],
          "contour": [
           {
            "colorbar": {
             "outlinewidth": 1,
             "tickcolor": "rgb(36,36,36)",
             "ticks": "outside"
            },
            "colorscale": [
             [
              0,
              "#440154"
             ],
             [
              0.1111111111111111,
              "#482878"
             ],
             [
              0.2222222222222222,
              "#3e4989"
             ],
             [
              0.3333333333333333,
              "#31688e"
             ],
             [
              0.4444444444444444,
              "#26828e"
             ],
             [
              0.5555555555555556,
              "#1f9e89"
             ],
             [
              0.6666666666666666,
              "#35b779"
             ],
             [
              0.7777777777777778,
              "#6ece58"
             ],
             [
              0.8888888888888888,
              "#b5de2b"
             ],
             [
              1,
              "#fde725"
             ]
            ],
            "type": "contour"
           }
          ],
          "contourcarpet": [
           {
            "colorbar": {
             "outlinewidth": 1,
             "tickcolor": "rgb(36,36,36)",
             "ticks": "outside"
            },
            "type": "contourcarpet"
           }
          ],
          "heatmap": [
           {
            "colorbar": {
             "outlinewidth": 1,
             "tickcolor": "rgb(36,36,36)",
             "ticks": "outside"
            },
            "colorscale": [
             [
              0,
              "#440154"
             ],
             [
              0.1111111111111111,
              "#482878"
             ],
             [
              0.2222222222222222,
              "#3e4989"
             ],
             [
              0.3333333333333333,
              "#31688e"
             ],
             [
              0.4444444444444444,
              "#26828e"
             ],
             [
              0.5555555555555556,
              "#1f9e89"
             ],
             [
              0.6666666666666666,
              "#35b779"
             ],
             [
              0.7777777777777778,
              "#6ece58"
             ],
             [
              0.8888888888888888,
              "#b5de2b"
             ],
             [
              1,
              "#fde725"
             ]
            ],
            "type": "heatmap"
           }
          ],
          "heatmapgl": [
           {
            "colorbar": {
             "outlinewidth": 1,
             "tickcolor": "rgb(36,36,36)",
             "ticks": "outside"
            },
            "colorscale": [
             [
              0,
              "#440154"
             ],
             [
              0.1111111111111111,
              "#482878"
             ],
             [
              0.2222222222222222,
              "#3e4989"
             ],
             [
              0.3333333333333333,
              "#31688e"
             ],
             [
              0.4444444444444444,
              "#26828e"
             ],
             [
              0.5555555555555556,
              "#1f9e89"
             ],
             [
              0.6666666666666666,
              "#35b779"
             ],
             [
              0.7777777777777778,
              "#6ece58"
             ],
             [
              0.8888888888888888,
              "#b5de2b"
             ],
             [
              1,
              "#fde725"
             ]
            ],
            "type": "heatmapgl"
           }
          ],
          "histogram": [
           {
            "marker": {
             "line": {
              "color": "white",
              "width": 0.6
             }
            },
            "type": "histogram"
           }
          ],
          "histogram2d": [
           {
            "colorbar": {
             "outlinewidth": 1,
             "tickcolor": "rgb(36,36,36)",
             "ticks": "outside"
            },
            "colorscale": [
             [
              0,
              "#440154"
             ],
             [
              0.1111111111111111,
              "#482878"
             ],
             [
              0.2222222222222222,
              "#3e4989"
             ],
             [
              0.3333333333333333,
              "#31688e"
             ],
             [
              0.4444444444444444,
              "#26828e"
             ],
             [
              0.5555555555555556,
              "#1f9e89"
             ],
             [
              0.6666666666666666,
              "#35b779"
             ],
             [
              0.7777777777777778,
              "#6ece58"
             ],
             [
              0.8888888888888888,
              "#b5de2b"
             ],
             [
              1,
              "#fde725"
             ]
            ],
            "type": "histogram2d"
           }
          ],
          "histogram2dcontour": [
           {
            "colorbar": {
             "outlinewidth": 1,
             "tickcolor": "rgb(36,36,36)",
             "ticks": "outside"
            },
            "colorscale": [
             [
              0,
              "#440154"
             ],
             [
              0.1111111111111111,
              "#482878"
             ],
             [
              0.2222222222222222,
              "#3e4989"
             ],
             [
              0.3333333333333333,
              "#31688e"
             ],
             [
              0.4444444444444444,
              "#26828e"
             ],
             [
              0.5555555555555556,
              "#1f9e89"
             ],
             [
              0.6666666666666666,
              "#35b779"
             ],
             [
              0.7777777777777778,
              "#6ece58"
             ],
             [
              0.8888888888888888,
              "#b5de2b"
             ],
             [
              1,
              "#fde725"
             ]
            ],
            "type": "histogram2dcontour"
           }
          ],
          "mesh3d": [
           {
            "colorbar": {
             "outlinewidth": 1,
             "tickcolor": "rgb(36,36,36)",
             "ticks": "outside"
            },
            "type": "mesh3d"
           }
          ],
          "parcoords": [
           {
            "line": {
             "colorbar": {
              "outlinewidth": 1,
              "tickcolor": "rgb(36,36,36)",
              "ticks": "outside"
             }
            },
            "type": "parcoords"
           }
          ],
          "pie": [
           {
            "automargin": true,
            "type": "pie"
           }
          ],
          "scatter": [
           {
            "fillpattern": {
             "fillmode": "overlay",
             "size": 10,
             "solidity": 0.2
            },
            "type": "scatter"
           }
          ],
          "scatter3d": [
           {
            "line": {
             "colorbar": {
              "outlinewidth": 1,
              "tickcolor": "rgb(36,36,36)",
              "ticks": "outside"
             }
            },
            "marker": {
             "colorbar": {
              "outlinewidth": 1,
              "tickcolor": "rgb(36,36,36)",
              "ticks": "outside"
             }
            },
            "type": "scatter3d"
           }
          ],
          "scattercarpet": [
           {
            "marker": {
             "colorbar": {
              "outlinewidth": 1,
              "tickcolor": "rgb(36,36,36)",
              "ticks": "outside"
             }
            },
            "type": "scattercarpet"
           }
          ],
          "scattergeo": [
           {
            "marker": {
             "colorbar": {
              "outlinewidth": 1,
              "tickcolor": "rgb(36,36,36)",
              "ticks": "outside"
             }
            },
            "type": "scattergeo"
           }
          ],
          "scattergl": [
           {
            "marker": {
             "colorbar": {
              "outlinewidth": 1,
              "tickcolor": "rgb(36,36,36)",
              "ticks": "outside"
             }
            },
            "type": "scattergl"
           }
          ],
          "scattermapbox": [
           {
            "marker": {
             "colorbar": {
              "outlinewidth": 1,
              "tickcolor": "rgb(36,36,36)",
              "ticks": "outside"
             }
            },
            "type": "scattermapbox"
           }
          ],
          "scatterpolar": [
           {
            "marker": {
             "colorbar": {
              "outlinewidth": 1,
              "tickcolor": "rgb(36,36,36)",
              "ticks": "outside"
             }
            },
            "type": "scatterpolar"
           }
          ],
          "scatterpolargl": [
           {
            "marker": {
             "colorbar": {
              "outlinewidth": 1,
              "tickcolor": "rgb(36,36,36)",
              "ticks": "outside"
             }
            },
            "type": "scatterpolargl"
           }
          ],
          "scatterternary": [
           {
            "marker": {
             "colorbar": {
              "outlinewidth": 1,
              "tickcolor": "rgb(36,36,36)",
              "ticks": "outside"
             }
            },
            "type": "scatterternary"
           }
          ],
          "surface": [
           {
            "colorbar": {
             "outlinewidth": 1,
             "tickcolor": "rgb(36,36,36)",
             "ticks": "outside"
            },
            "colorscale": [
             [
              0,
              "#440154"
             ],
             [
              0.1111111111111111,
              "#482878"
             ],
             [
              0.2222222222222222,
              "#3e4989"
             ],
             [
              0.3333333333333333,
              "#31688e"
             ],
             [
              0.4444444444444444,
              "#26828e"
             ],
             [
              0.5555555555555556,
              "#1f9e89"
             ],
             [
              0.6666666666666666,
              "#35b779"
             ],
             [
              0.7777777777777778,
              "#6ece58"
             ],
             [
              0.8888888888888888,
              "#b5de2b"
             ],
             [
              1,
              "#fde725"
             ]
            ],
            "type": "surface"
           }
          ],
          "table": [
           {
            "cells": {
             "fill": {
              "color": "rgb(237,237,237)"
             },
             "line": {
              "color": "white"
             }
            },
            "header": {
             "fill": {
              "color": "rgb(217,217,217)"
             },
             "line": {
              "color": "white"
             }
            },
            "type": "table"
           }
          ]
         },
         "layout": {
          "annotationdefaults": {
           "arrowhead": 0,
           "arrowwidth": 1
          },
          "autotypenumbers": "strict",
          "coloraxis": {
           "colorbar": {
            "outlinewidth": 1,
            "tickcolor": "rgb(36,36,36)",
            "ticks": "outside"
           }
          },
          "colorscale": {
           "diverging": [
            [
             0,
             "rgb(103,0,31)"
            ],
            [
             0.1,
             "rgb(178,24,43)"
            ],
            [
             0.2,
             "rgb(214,96,77)"
            ],
            [
             0.3,
             "rgb(244,165,130)"
            ],
            [
             0.4,
             "rgb(253,219,199)"
            ],
            [
             0.5,
             "rgb(247,247,247)"
            ],
            [
             0.6,
             "rgb(209,229,240)"
            ],
            [
             0.7,
             "rgb(146,197,222)"
            ],
            [
             0.8,
             "rgb(67,147,195)"
            ],
            [
             0.9,
             "rgb(33,102,172)"
            ],
            [
             1,
             "rgb(5,48,97)"
            ]
           ],
           "sequential": [
            [
             0,
             "#440154"
            ],
            [
             0.1111111111111111,
             "#482878"
            ],
            [
             0.2222222222222222,
             "#3e4989"
            ],
            [
             0.3333333333333333,
             "#31688e"
            ],
            [
             0.4444444444444444,
             "#26828e"
            ],
            [
             0.5555555555555556,
             "#1f9e89"
            ],
            [
             0.6666666666666666,
             "#35b779"
            ],
            [
             0.7777777777777778,
             "#6ece58"
            ],
            [
             0.8888888888888888,
             "#b5de2b"
            ],
            [
             1,
             "#fde725"
            ]
           ],
           "sequentialminus": [
            [
             0,
             "#440154"
            ],
            [
             0.1111111111111111,
             "#482878"
            ],
            [
             0.2222222222222222,
             "#3e4989"
            ],
            [
             0.3333333333333333,
             "#31688e"
            ],
            [
             0.4444444444444444,
             "#26828e"
            ],
            [
             0.5555555555555556,
             "#1f9e89"
            ],
            [
             0.6666666666666666,
             "#35b779"
            ],
            [
             0.7777777777777778,
             "#6ece58"
            ],
            [
             0.8888888888888888,
             "#b5de2b"
            ],
            [
             1,
             "#fde725"
            ]
           ]
          },
          "colorway": [
           "#1F77B4",
           "#FF7F0E",
           "#2CA02C",
           "#D62728",
           "#9467BD",
           "#8C564B",
           "#E377C2",
           "#7F7F7F",
           "#BCBD22",
           "#17BECF"
          ],
          "font": {
           "color": "rgb(36,36,36)"
          },
          "geo": {
           "bgcolor": "white",
           "lakecolor": "white",
           "landcolor": "white",
           "showlakes": true,
           "showland": true,
           "subunitcolor": "white"
          },
          "hoverlabel": {
           "align": "left"
          },
          "hovermode": "closest",
          "mapbox": {
           "style": "light"
          },
          "paper_bgcolor": "white",
          "plot_bgcolor": "white",
          "polar": {
           "angularaxis": {
            "gridcolor": "rgb(232,232,232)",
            "linecolor": "rgb(36,36,36)",
            "showgrid": false,
            "showline": true,
            "ticks": "outside"
           },
           "bgcolor": "white",
           "radialaxis": {
            "gridcolor": "rgb(232,232,232)",
            "linecolor": "rgb(36,36,36)",
            "showgrid": false,
            "showline": true,
            "ticks": "outside"
           }
          },
          "scene": {
           "xaxis": {
            "backgroundcolor": "white",
            "gridcolor": "rgb(232,232,232)",
            "gridwidth": 2,
            "linecolor": "rgb(36,36,36)",
            "showbackground": true,
            "showgrid": false,
            "showline": true,
            "ticks": "outside",
            "zeroline": false,
            "zerolinecolor": "rgb(36,36,36)"
           },
           "yaxis": {
            "backgroundcolor": "white",
            "gridcolor": "rgb(232,232,232)",
            "gridwidth": 2,
            "linecolor": "rgb(36,36,36)",
            "showbackground": true,
            "showgrid": false,
            "showline": true,
            "ticks": "outside",
            "zeroline": false,
            "zerolinecolor": "rgb(36,36,36)"
           },
           "zaxis": {
            "backgroundcolor": "white",
            "gridcolor": "rgb(232,232,232)",
            "gridwidth": 2,
            "linecolor": "rgb(36,36,36)",
            "showbackground": true,
            "showgrid": false,
            "showline": true,
            "ticks": "outside",
            "zeroline": false,
            "zerolinecolor": "rgb(36,36,36)"
           }
          },
          "shapedefaults": {
           "fillcolor": "black",
           "line": {
            "width": 0
           },
           "opacity": 0.3
          },
          "ternary": {
           "aaxis": {
            "gridcolor": "rgb(232,232,232)",
            "linecolor": "rgb(36,36,36)",
            "showgrid": false,
            "showline": true,
            "ticks": "outside"
           },
           "baxis": {
            "gridcolor": "rgb(232,232,232)",
            "linecolor": "rgb(36,36,36)",
            "showgrid": false,
            "showline": true,
            "ticks": "outside"
           },
           "bgcolor": "white",
           "caxis": {
            "gridcolor": "rgb(232,232,232)",
            "linecolor": "rgb(36,36,36)",
            "showgrid": false,
            "showline": true,
            "ticks": "outside"
           }
          },
          "title": {
           "x": 0.05
          },
          "xaxis": {
           "automargin": true,
           "gridcolor": "rgb(232,232,232)",
           "linecolor": "rgb(36,36,36)",
           "showgrid": false,
           "showline": true,
           "ticks": "outside",
           "title": {
            "standoff": 15
           },
           "zeroline": false,
           "zerolinecolor": "rgb(36,36,36)"
          },
          "yaxis": {
           "automargin": true,
           "gridcolor": "rgb(232,232,232)",
           "linecolor": "rgb(36,36,36)",
           "showgrid": false,
           "showline": true,
           "ticks": "outside",
           "title": {
            "standoff": 15
           },
           "zeroline": false,
           "zerolinecolor": "rgb(36,36,36)"
          }
         }
        },
        "width": 700,
        "xaxis": {
         "autorange": true,
         "range": [
          -3.14861097600725,
          1.515250351693895
         ],
         "type": "linear"
        },
        "yaxis": {
         "autorange": true,
         "range": [
          -0.5,
          14.5
         ],
         "type": "category"
        }
       }
      },
      "image/png": "[encoded data removed]",
      "text/html": [
       "<div>                            <div id=\"a04a53fe-12d4-48ee-86be-e0de1d037ddb\" class=\"plotly-graph-div\" style=\"height:700px; width:700px;\"></div>            <script type=\"text/javascript\">                require([\"plotly\"], function(Plotly) {                    window.PLOTLYENV=window.PLOTLYENV || {};                                    if (document.getElementById(\"a04a53fe-12d4-48ee-86be-e0de1d037ddb\")) {                    Plotly.newPlot(                        \"a04a53fe-12d4-48ee-86be-e0de1d037ddb\",                        [{\"line\":{\"color\":\"#1f77b4\"},\"name\":\"[N]#[C]\",\"showlegend\":false,\"spanmode\":\"hard\",\"x\":[0.039591073989868164,0.4335430860519409,-0.7382330894470215,-0.21246051788330078,-0.21246099472045898,-0.606722354888916,-0.8607287406921387,0.004502102732658386,-0.110137939453125,0.11573159694671631,-0.837986946105957,-0.7159781455993652,-0.8850641250610352,0.102552130818367,-0.7907490730285645,-0.1954726278781891,0.010856982320547104,-0.8621654510498047,0.7733588218688965,-0.8449525833129883,-0.9008731842041016,0.00040875375270843506,-0.601555347442627,-0.601555347442627],\"type\":\"violin\"},{\"line\":{\"color\":\"#1f77b4\"},\"name\":\"[O;D1;H1]\",\"showlegend\":false,\"spanmode\":\"hard\",\"x\":[0.06315702199935913,0.02211374044418335,0.02211374044418335,0.02211374044418335,0.02211374044418335,0.02211374044418335,0.02211374044418335,0.20083045959472656,-0.024573802947998047,0.417598158121109,0.7787139415740967,0.42272138595581055,0.49349305033683777,0.39116358757019043,0.454326868057251,0.16528385877609253,0.01697850227355957,-0.002501964569091797,0.07520484924316406,0.016978025436401367,-0.15046292543411255,0.15787220001220703,0.031296491622924805,0.031296491622924805,0.2841949462890625,-0.014860928058624268,-0.010018080472946167,-0.036219775676727295,-0.03621980547904968,0.0963735580444336,0.16357624530792236,-0.14303505420684814,0.055573225021362305,0.055573225021362305,0.06575894355773926,0.13080310821533203,0.1906810998916626,0.12226533889770508,0.03408098220825195,0.0033969879150390625,0.1039588451385498,0.01172947883605957,0.2840843200683594,-0.7647509574890137,0.13838744163513184,0.11305785179138184,0.03578948974609375,0.03578948974609375,0.08982086181640625,0.08982086181640625,0.4932609796524048,0.25357139110565186,0.08908200263977051,0.13315963745117188,0.06369900703430176,0.0345916748046875,0.06142234802246094,-0.11037015914916992,-0.0544736385345459,-0.3118703365325928,-0.03043961524963379,-0.03043961524963379,-0.03548002243041992,0.19301974773406982,0.14879271388053894,0.23543381690979004,0.10472244024276733,0.10472238063812256,0.5587602853775024,0.1300201416015625,0.08541250228881836,0.07826900482177734,-0.3323397636413574,0.19458580017089844,0.03649020195007324,0.09684598445892334,0.10345578193664551,0.09684592485427856,0.006910264492034912,0.021084189414978027,0.006910264492034912,0.0069103240966796875,0.006910264492034912,0.0069103240966796875,0.0069103240966796875,0.0069103240966796875,0.44895315170288086,0.26871752738952637,0.26715707778930664,-0.03733491897583008,0.5625340938568115,0.012512445449829102,0.09409904479980469,0.05706411600112915,-0.0019215941429138184,-0.02465146780014038,-0.024651527404785156,-0.024651527404785156,0.20616084337234497,0.051691532135009766,0.2056942582130432,0.16776132583618164,0.16776132583618164,0.00030231475830078125,0.003797292709350586,0.09809637069702148,-0.010062217712402344,0.13813543319702148,0.1016993522644043,0.1034097671508789,0.057656288146972656,0.04156327247619629,0.39787811040878296,0.2781486511230469,0.7131750583648682,0.08648467063903809,-0.3170614242553711,0.2537193298339844,0.25235074758529663,0.035944223403930664,0.12259888648986816,0.12499892711639404,0.027959823608398438,0.13293862342834473,-0.021129369735717773,-0.022830486297607422,-0.02775263786315918,-0.022830486297607422,-0.02775263786315918,0.10325908660888672,0.5719280242919922,0.09652943164110184,0.09652940183877945,0.01722583919763565,0.0029418393969535828,0.002941802144050598,0.002941802144050598,0.002941802144050598,0.002941802144050598,0.3679357171058655,0.12286090850830078,0.1294260025024414,0.4690006971359253,0.1831117868423462,0.539671778678894,0.07680726051330566,0.4008275270462036,0.5647006034851074,0.002492189407348633,0.20032285153865814,0.4595870077610016,-0.014150381088256836,0.16534531116485596,0.44167518615722656,0.18056750297546387,0.4459761381149292,0.1386932134628296,0.42723506689071655,0.40781766176223755,-0.09797072410583496,0.10044223070144653,0.10904812812805176,0.034357666969299316,0.03435760736465454,0.034357547760009766,0.28132766485214233,0.12268638610839844,0.43919676542282104,0.07950234413146973,0.1002969741821289,0.4218006730079651,0.04646778106689453,0.0451812744140625,0.0451812744140625,0.044528961181640625,0.03743171691894531,0.0451812744140625,0.047055721282958984,0.0880122184753418,0.1437774896621704,0.1437774896621704,0.010529756546020508,0.0051653385162353516,0.10632824897766113,-0.1954628825187683,0.14167213439941406,-0.026025772094726562,-0.023064851760864258,-0.026025772094726562,-0.02530050277709961,0.09781444072723389,-0.04639101028442383,-0.06308913230895996,0.5258646607398987,0.789301872253418,0.050916194915771484,0.01832127571105957,0.1829833984375,0.07913088798522949,0.11571097373962402,0.06494522094726562,0.06494522094726562,0.05773353576660156,0.06494569778442383,0.06968832015991211,-0.32050395011901855,-0.01672506332397461,-0.01672506332397461,0.02928149700164795,0.3181244134902954,0.017826437950134277,-0.01908254623413086,0.017826437950134277,0.000713348388671875,0.09737396240234375,0.10532474517822266,0.04267549514770508,0.005269050598144531,0.04267549514770508,-0.1494755744934082,0.4335443377494812,0.10316252708435059,0.2377481460571289,0.011497020721435547,0.06872367858886719,0.014611244201660156,0.7300140857696533,0.04550743103027344,0.058730125427246094,-0.09446096420288086,0.1283712387084961,-0.0060579776763916016,0.0007212162017822266,0.0007212162017822266,0.15547245740890503,0.3890666961669922,0.35504603385925293,0.19961333274841309,-0.10851573944091797,-0.013737916946411133,0.11772012710571289,0.3969534635543823,0.46389245986938477,0.012275218963623047,0.13216304779052734,0.0016367435455322266,-0.03624725341796875,-0.03951597213745117,-0.02455615997314453,0.16635751724243164,0.05515706539154053,0.009474396705627441,0.009474396705627441,0.05515706539154053,0.13880586624145508,0.18668603897094727,0.027827858924865723,0.30116844177246094,0.05716550350189209,0.057165563106536865,0.16207313537597656,0.016013622283935547,0.013185977935791016,0.18865132331848145,0.2008070945739746,0.2613844871520996,0.11732292175292969,0.17907094955444336,0.05441141128540039,0.05441141128540039,0.4551604390144348,0.058093905448913574,0.015361011028289795,0.060657382011413574,-0.005382418632507324,-0.026030123233795166,0.12932348251342773,0.0015511512756347656,0.011067390441894531,0.18052589893341064,0.03947901725769043,0.20450037717819214,0.5365406274795532,0.48776841163635254,0.4843639135360718,0.4687725305557251,-0.09038585424423218,0.018111705780029297,0.060306549072265625,0.07596969604492188,0.42562657594680786,0.03998565673828125,0.6786503791809082,0.5471436977386475,0.4619868993759155,0.5330820083618164,0.14003753662109375,-0.35483884811401367,0.19464778900146484,0.4001593589782715,-0.021788597106933594,0.5489220023155212,0.3108959197998047,0.039910316467285156,0.16449475288391113,0.34906530380249023,0.13004660606384277,0.3712630271911621,0.49001896381378174,0.0784749984741211,0.06514167785644531,0.23545074462890625,0.37369129061698914,0.2343032956123352,0.050748348236083984,0.024810314178466797,0.17172503471374512,0.014028668403625488,0.09405916929244995,0.10075807571411133,0.09405910968780518,0.004645049571990967,0.01763993501663208,0.004645049571990967,0.004644989967346191,0.004645049571990967,-0.028352826833724976,-0.028352826833724976,-0.028352797031402588,-0.028352826833724976,-0.02835288643836975,-0.02835288643836975,0.06578174233436584,0.1295875906944275,0.12470459938049316,0.07593631744384766,0.3361201286315918,0.11093902587890625,0.06059598922729492,-0.012937307357788086,-0.011976242065429688,0.1935650110244751,0.028049826622009277,0.02475738525390625,0.02475738525390625,0.0247575044631958,0.02475738525390625,0.0247575044631958,0.4223531484603882,0.16738688945770264,0.6820082664489746,0.8765065670013428,0.2021486759185791,0.06796073913574219,0.08542394638061523,0.06439852714538574,0.07676458358764648,0.3901028335094452,0.42388784885406494,0.1746528148651123,-0.1349804401397705,-0.06879377365112305,-0.06879377365112305,-0.05840325355529785,-0.06879377365112305,0.4337038993835449,0.008485853672027588,0.37217575311660767,0.49914103746414185,0.056095123291015625,0.056095123291015625,0.5095032453536987,0.058536529541015625],\"type\":\"violin\"},{\"line\":{\"color\":\"#1f77b4\"},\"name\":\"[#6][F,Cl,Br,I]\",\"showlegend\":false,\"spanmode\":\"hard\",\"x\":[-0.43987607955932617,-0.49967050552368164,-0.5272073745727539,-0.5272073745727539,-0.49967145919799805,-0.4588909149169922,-0.4588909149169922,-0.3237419128417969,-0.3237419128417969,-0.3101935386657715,-0.3101935386657715,-0.9235594272613525,-0.8111187815666199,-0.47086143493652344,-0.547731876373291,-0.5318946838378906,-0.6443691253662109,-0.5182080268859863,-0.42272281646728516,-0.42272281646728516,-0.42272281646728516,-0.6124629974365234,-0.6124629974365234,-0.5416197776794434,-0.5416197776794434,-0.9156607389450073,-0.9156605005264282,-1.3799378871917725,-0.8714900016784668,-1.5481659173965454,-0.8008944988250732,-0.7124757766723633,-0.4866371154785156,-0.5780134201049805,-0.4629859924316406,-0.4629859924316406,-0.5780124664306641,-0.5396270751953125,-0.4793853759765625,-0.4793853759765625,-0.6249456405639648,-0.6249456405639648,-0.4793853759765625,-0.4793853759765625,-0.6249456405639648,-0.6249456405639648,-0.24761724472045898,-0.4729437828063965,-0.29918408393859863,-1.124043345451355,-1.041369915008545,-1.041369915008545,-0.8743228912353516,-0.8927164077758789,-0.7463126182556152,-0.7463126182556152,-0.8014888763427734,-0.9555697441101074,-0.49211883544921875,-0.5053269863128662,-0.8263440132141113,-0.8263440132141113,-0.8263440132141113,-0.8263437747955322,-0.8263444900512695,-0.8263442516326904,-0.05739116668701172,-0.057392120361328125,-0.6569480895996094,-0.750291109085083,-0.8237800598144531,-0.7807126045227051,-0.8107089996337891,-0.7807126045227051,-0.7548727989196777,-0.5834074020385742,-0.6402859687805176,-0.6441326141357422,-0.6482200622558594,-1.1856160163879395,-1.1856160163879395,-1.1525344848632812,-1.1525344848632812,-0.7740688323974609,-0.7740688323974609,-0.9515457153320312,-0.9515457153320312,-0.5366888046264648,-0.5396685600280762,-0.5338995456695557,-0.8292028903961182,-1.0354504585266113,-1.0354504585266113,-1.0918102264404297,-1.113844871520996,-1.0918097496032715,-0.4909701347351074,-0.4909701347351074,-0.27821874618530273,-0.9331183433532715,-0.22828292846679688,-1.0554988384246826,-1.4653680324554443,-1.1755423545837402,-0.5229390859603882,-0.6657286882400513,-0.6657286882400513,-0.31363940238952637,-0.2152724266052246,-0.6320444941520691,-0.6552729606628418,-0.687225341796875,-0.6328558921813965,-0.9070537090301514,-0.9939522743225098,-1.036592960357666,-0.2836432456970215,-0.2836432456970215,-0.2836432456970215,-1.1460485458374023,-1.1460485458374023,-1.2330775260925293,-1.2330775260925293,-1.6696319580078125,-0.43350639939308167,-0.6983847618103027,-0.6983847618103027,-0.6944293975830078,-1.1117868423461914,-1.1379287242889404,-1.2384512424468994,-1.1379287242889404,-0.7018122673034668,-0.5693135261535645,-0.557988166809082,-0.8913788795471191,-0.4589332342147827,-0.7101436257362366,-0.886075496673584,-0.8860759735107422,-0.6494879722595215,-1.2524633407592773,-0.3960683345794678,-0.3620305061340332,-0.888353705406189,-0.95103520154953,-0.95103520154953,-0.95103520154953,-0.35328030586242676,-0.35328030586242676,-0.35328030586242676,-0.643104076385498,-0.25704073905944824,-1.1497106552124023,-1.1788897514343262,-1.1867408752441406,-0.13630223274230957,-0.13857579231262207,-0.8954974412918091,-0.5457859039306641,-0.6934247016906738,-0.6934247016906738,-0.6934247016906738,-0.44170093536376953,-0.44170093536376953,-0.4546823501586914,-0.5103378295898438,-0.611149787902832,-0.4892997741699219,-1.3232204914093018,-0.38683128356933594,-0.45394396781921387,-0.17836308479309082,-0.7363294363021851,-1.0574793815612793,-1.0574793815612793,-1.0574793815612793,-1.0574793815612793,-0.9305075407028198,-0.7634115219116211,-0.7634115219116211,-1.3705048561096191,-0.5791401267051697,-0.5807469487190247,-0.5807469487190247,-0.5189945697784424,-0.4418424367904663,-0.4418424367904663,-0.4418424367904663,-0.4418424367904663,-0.782313346862793,-1.0431008338928223,-1.0431008338928223,-1.0013322830200195,-0.12228596210479736,-0.27642297744750977,-0.33290648460388184,-0.47606372833251953,-0.47606468200683594,-0.6074838638305664,-0.6459722518920898,-0.6088876724243164,-0.6088876724243164,-0.6459722518920898,-0.6074833869934082,-0.7041389346122742,-0.7041389346122742,-0.663449764251709,-0.663449764251709,-0.663449764251709,-0.663449764251709,-0.6634502410888672,-0.663449764251709,-1.149143934249878,-1.149144172668457,-1.220524549484253,-0.7849090099334717,-0.7849090099334717,-0.7849090099334717,-0.7849090099334717,-0.8025109767913818,-0.7740490436553955,-0.5276041030883789,-0.5311279296875,-0.5480861663818359,-0.6216897964477539,-0.5276041030883789,-0.8312139511108398,-0.9147629737854004,-1.0280776023864746,-0.4210090637207031,-0.8200278878211975,-0.5503756999969482,-0.5503756999969482,-0.5503756999969482,-0.13997602462768555,-0.739782452583313,-0.8401136994361877,-0.8401136994361877,-0.543093204498291,-1.515977144241333,-1.115131139755249,-0.7451632022857666,-0.5934023857116699,-0.3370697498321533,-0.710568904876709,-0.7934380769729614,-0.7205145359039307,-0.7411725521087646,-1.4619261026382446,-0.11270713806152344,-0.22412991523742676,-1.1110116243362427,-1.0203375816345215,-0.808478832244873,-0.8037784099578857,-0.4346923828125,-0.4346923828125,-0.4346923828125,-0.7576210498809814,-0.7576210498809814,-1.003711223602295,-1.0132789611816406,-0.8175609111785889,-1.045781135559082,-1.045781135559082,-1.045781135559082,-0.8175606727600098,-0.8818191885948181,-0.8946384191513062,-1.3592056035995483,-1.3256103992462158,-1.330024003982544,-0.3213235139846802,-0.3213235139846802,-0.4336819648742676,-0.4336819648742676,-0.3355684280395508,-0.335568904876709,-0.3226895332336426,-0.3226895332336426,-0.7657108306884766,-0.7657113075256348,-0.8473339080810547,-0.8473339080810547,-0.23106813430786133,-0.39479970932006836,-0.39479970932006836,-0.3848419189453125,-0.3848419189453125,-1.1868512630462646,-1.1963772773742676,-1.1926422119140625,-0.11828088760375977,-0.3526744842529297,-0.4049410820007324,-0.40148019790649414,-0.40148019790649414,-0.40148019790649414,-0.40148019790649414,-0.4049410820007324,-0.3526744842529297,-0.4049410820007324,-0.4049410820007324,-0.4184565544128418,-0.36856555938720703,-0.25974130630493164,-0.25974130630493164,-0.36856555938720703,-0.4184556007385254,-0.4184556007385254,-0.36856555938720703,-0.36856555938720703,-0.4184560775756836,-0.6448860168457031,-0.7779349684715271,-0.7779349684715271,-1.0972672700881958,-0.6996452808380127,-0.9446818828582764,-1.0941755771636963,-1.2898576259613037,-1.6517701148986816,-0.5973000526428223,-0.6004014015197754,-0.6004014015197754,-0.5074038505554199,-0.5074043273925781,-0.9288473129272461,-0.9262164831161499,-0.935662031173706,-0.507178783416748,-0.507178783416748,-0.43726861476898193,-0.43726861476898193,-0.5209847688674927,-1.0295159816741943,-1.3477587699890137,-0.7511625289916992,-0.7843023538589478,-1.5161454677581787,-0.8175461292266846,-0.4976515769958496,-0.5124564170837402,-0.420926570892334,-0.2341470718383789,-0.2341470718383789,-0.2341470718383789,-0.5124564170837402,-0.4976520538330078,-0.3485696315765381,-0.15245437622070312,-0.15245437622070312,-0.15245437622070312,-0.43004846572875977,-0.7855470180511475,-0.7855468988418579,-0.7855470180511475,-0.7843776345252991,-0.7843776345252991,-0.7843776345252991,-0.6823616027832031,-1.149118423461914,-0.9958701729774475,-0.5009903907775879,-0.5009903907775879,-0.42093563079833984,-0.42093563079833984,-0.42093515396118164,-1.316748857498169,-1.316748857498169,-0.7432544231414795,-0.7587676048278809,-0.9488444328308105,-0.9488441944122314,-0.36654210090637207,-0.6681157350540161,-0.6681157350540161,-0.6681157350540161,-1.2137231826782227,-1.2137231826782227,-1.2137231826782227,-1.4251879453659058,-0.7251094579696655,-0.6078729629516602,-0.6078739166259766,-0.6651277542114258,-0.6734113693237305,-0.817512035369873,-0.817512035369873,-0.7946829795837402,-0.7946829795837402,-0.8175125122070312,-0.817512035369873,-1.2092273235321045,-0.45556187629699707,-0.45556187629699707,-0.45556187629699707,-0.48975276947021484,-0.5489444732666016,-0.6535911560058594,-0.6539592742919922,-0.5385637283325195,-0.5016746520996094,-0.5016756057739258,-0.5827422142028809,-0.5862059593200684,-0.5862059593200684,-0.5827422142028809,-1.204496145248413,-1.2044966220855713,-1.2044966220855713,-1.204496145248413,-0.9289754629135132,-0.9656274318695068,-0.7323363423347473,-0.7323363423347473,-0.8362155556678772,-1.3126630783081055,-0.0988457202911377,-0.0988457202911377,-0.0988457202911377,-0.9919965267181396,-0.7436623573303223,-0.7436623573303223,-0.7464709281921387,-0.7464709281921387,-0.7436618804931641,-0.9772369861602783,-0.4001951217651367,-1.0783839225769043,-0.9471547603607178,-0.8149567246437073,-0.5184340476989746,-0.5184340476989746,-0.944472074508667,-0.944472074508667,-0.6840314865112305,-0.6840314865112305,-0.6922140121459961,-0.6922140121459961,-0.6840314865112305,-0.6840314865112305,-0.6840314865112305,-0.6922140121459961,-0.6922149658203125,-0.6840324401855469,-1.0616899728775024,-1.0616899728775024,-0.28171229362487793,-0.43909990787506104,-0.2181382179260254,-0.2181382179260254,-0.2181382179260254,-0.2181382179260254,-0.2181377410888672,-0.2181382179260254,-0.1678175926208496,-0.1678175926208496,-0.1678175926208496,-1.1287171840667725,-1.1935970783233643,-1.1099028587341309,-0.32819676399230957,-1.1048115491867065,-1.351893663406372,-1.351893663406372,-1.351893663406372,-0.7682037353515625,-0.7682037353515625,-0.75030517578125,-0.4715322256088257,-1.0319018363952637,-1.0861430168151855,-1.0861430168151855,-1.0861430168151855,-1.0319013595581055,-0.3580751419067383,-0.4036555290222168,-0.12774991989135742,-0.12774991989135742,-0.12774991989135742,-0.3797335624694824,-0.4177980422973633,-0.5905289649963379,-0.4391365051269531,-0.6531224250793457,-0.6497421264648438,-0.6497421264648438,-0.6497411727905273,-0.6531224250793457,-0.4814739227294922,-0.5414608716964722,-0.5414608716964722,-0.2918882369995117,-1.051115870475769,-1.0163781642913818,-1.1240954399108887,-0.4194965362548828,-0.460235595703125,-0.4507613182067871,-0.5464491844177246,-0.5783772468566895,-0.5505027770996094,-0.6130292415618896,-0.6130292415618896,-0.799933671951294,-0.6786201000213623,-0.8511927127838135,-0.8511927127838135,-0.6310415267944336,-0.658393383026123,-0.5057730674743652,-0.5057730674743652,-0.6147966384887695,-0.6147966384887695,-0.4806184768676758,-0.6783785820007324,-0.6748566627502441,-0.4186079502105713,-1.1765148639678955,-1.3431012630462646,-1.1142034530639648,-0.4728212356567383,-0.4545450210571289,-0.8601998686790466,-1.1801867485046387,-0.9813069701194763,-0.8615453243255615,-0.8615453243255615,-0.8615453243255615,-0.8615453243255615,-0.5389938354492188,-0.5350728034973145,-0.6521916389465332,-0.711613655090332,-0.7382292747497559,-0.8239130973815918,-0.22263550758361816,-1.2819538116455078,-1.2805933952331543,-0.8501869440078735,-0.4169645309448242,-0.11641216278076172,-0.6467852592468262,-0.43658876419067383,-0.14527511596679688,-0.14527511596679688,-0.14527606964111328,-0.15245509147644043,-0.22130751609802246,-0.0877079963684082,-0.0877079963684082,-1.0729118585586548,-1.0729118585586548,-0.8986611366271973,-0.6764135956764221,-0.6764136552810669,-0.6764135956764221,-0.6358966827392578,-0.8640295267105103,-1.055140495300293,-1.009860873222351,-1.293935775756836,-1.293935775756836,-0.36881208419799805,-0.4873523712158203,-0.4873523712158203,-0.3663477897644043,-0.35468149185180664,-0.35468101501464844,-0.4841327667236328,-0.4841327667236328,-0.3822760581970215,-0.37969303131103516,-0.3712306022644043,-0.3712306022644043,-0.48092198371887207,-0.6024878025054932,-0.42311954498291016,-0.4623231887817383,-0.56573486328125,-0.4578971862792969,-0.4578971862792969,-0.56573486328125,-0.8332879543304443,-0.8332879543304443,-0.8332878351211548,-1.2445687055587769,-1.0337159633636475,-0.5891084671020508,-0.589108943939209,-0.2665224075317383,-0.2665224075317383,-0.2665224075317383,-1.0157175064086914,-1.4656057357788086,-0.8649910688400269,-0.5731391906738281,-0.6029877662658691,-0.17049694061279297,-0.5775942802429199,-0.8280003070831299,-0.9807708263397217,-0.7501883506774902,-0.9497079849243164,-0.9497079849243164,-0.46727609634399414,-0.46727657318115234,-0.4180288314819336,-0.4180288314819336,-0.41802978515625,-0.11758756637573242,-0.11758756637573242,-0.11758756637573242,-0.16068768501281738,-0.16068768501281738,-0.16068768501281738,-0.4412107467651367,-0.43645620346069336,-0.5294761657714844,-0.5616655349731445,-0.5329041481018066,-0.4426279067993164,-0.5089221000671387,-0.5089211463928223,-0.25075721740722656,-1.1160300970077515,-1.300047755241394,-1.300047755241394,-1.5807071924209595,-0.3927302360534668,-0.44594812393188477,-0.44594812393188477,-0.3927302360534668,-0.44594812393188477,-0.44594812393188477,-0.9761133193969727,-0.6692023277282715,-1.0875943899154663,-0.44214868545532227,-0.49023914337158203,-0.6585288047790527,-0.654757022857666,-0.654757022857666,-0.654757022857666,-0.6585283279418945,-0.11258697509765625,-0.11661076545715332,-0.8775242567062378,-0.9801647663116455,-1.0928280353546143,-0.20615696907043457,-0.34703874588012695,-0.4312863349914551,-0.21004962921142578,-0.21004962921142578,-0.21004962921142578,-0.3614084720611572,-0.48508405685424805,-0.48508405685424805,-0.3717684745788574,-0.44206905364990234,-0.3688082695007324,-0.35550928115844727,-0.35551023483276367,-0.32530784606933594,-1.068105697631836,-0.7370061874389648,-0.7401394844055176,-0.7989778518676758,-0.4172496795654297,-0.44812965393066406,-0.5451173782348633,-0.5777344703674316,-0.5485916137695312,-0.4611482620239258,-0.852149486541748,-0.852149486541748,-0.852149486541748,-1.1133785247802734,-1.1133785247802734,-0.20229578018188477,-0.31493711471557617,-0.3634366989135742,-0.6663761138916016,-0.7133095264434814,-0.7133095264434814,-0.26633167266845703,-0.9490063190460205,-0.6880712509155273,-0.638192355632782,-0.5493339896202087,-0.9562883377075195,-1.042755126953125,-1.042755126953125,-0.5343985557556152,-0.5343985557556152,-0.5779943466186523,-0.9215726852416992,-0.9215726852416992,-0.9279286861419678,-0.7046928405761719,-0.7046928405761719,-0.7046928405761719,-0.7046928405761719,-1.2173404693603516,-0.3975485563278198,-0.3975486755371094,-0.2569894790649414,-0.2569894790649414,-0.2569894790649414,-0.3243284225463867,-0.3243284225463867,-0.3243284225463867,-0.3243284225463867,-0.3243284225463867,-0.3243284225463867,-0.3243284225463867,-0.3243284225463867,-0.3243284225463867,-0.3243284225463867,-0.3243284225463867,-0.3243284225463867,-0.7717938423156738,-0.4969024658203125,-0.4969024658203125,-0.6382074356079102,-0.7747485637664795,-0.7747485637664795,-0.7747485637664795,-0.7747485637664795,-0.15558815002441406,-0.27878499031066895,-0.8933563232421875,-0.8933563232421875,-0.9633307456970215,-0.6816287040710449,-0.8608431816101074,-0.6636276245117188,-0.5889692306518555,-0.5889697074890137,-0.6261768341064453,-0.906806468963623,-0.8698028922080994,-0.8698030114173889,-0.31601786613464355,-0.31601786613464355,-1.1916661262512207,-1.1916663646697998,-0.7565799951553345,-0.8406914472579956,-0.7565797567367554,-0.19605159759521484,-0.46352720260620117,-0.46767187118530273,-0.46352720260620117,-0.46352720260620117,-0.46767377853393555,-0.46352720260620117,-0.5233473777770996,-0.5233473777770996,-0.3574862480163574,-0.4303121566772461,-0.4194645881652832,-0.35990476608276367,-0.349761962890625,-0.349761962890625,-0.9503629207611084,-1.0680153369903564,-0.8393431901931763,-0.8393431901931763,-0.6464688777923584,-0.4697685241699219,-0.6158397197723389,-0.9769806861877441,-0.9769806861877441,-0.9769806861877441,-0.3172450065612793,-0.8619570732116699,-0.9691753387451172,-1.0063636302947998,-0.7390692234039307,-0.1582951545715332,-0.29758119583129883,-0.7030656337738037,-0.7030656337738037,-0.9214074611663818,-0.9214074611663818,-0.9214076995849609,-1.4378833770751953,-1.4378833770751953,-0.7797017097473145,-0.8540282249450684,-0.8540282249450684,-0.7797019481658936,-0.6885755062103271,-0.6885755062103271,-0.9413906335830688,-0.6885755062103271,-0.6885755062103271,-0.9413906335830688,-0.6989126205444336,-0.916000247001648,-0.0996239185333252,-0.0996239185333252,-0.0996239185333252,-0.9986453056335449,-0.9986453056335449,-0.5808486938476562,-0.8877913951873779,-0.8877913951873779,-0.2409985065460205,-0.4895944595336914,-0.47039175033569336,-0.4625978469848633,-0.584348201751709,-0.6234617233276367,-0.5851221084594727,-0.584348201751709,-0.27642619609832764,-0.27642619609832764,-0.27642619609832764,-0.7310446500778198,-0.8736624121665955,-1.1463208198547363,-1.2974209785461426,-1.2974209785461426,-1.310547113418579],\"type\":\"violin\"},{\"line\":{\"color\":\"#1f77b4\"},\"name\":\"[S;D1]\",\"showlegend\":false,\"spanmode\":\"hard\",\"x\":[-0.26767635345458984,-0.5772566795349121,-0.27947425842285156,-0.208052396774292,-0.5501495599746704,-0.2847192585468292,-0.3667635917663574,-0.19437170028686523,-0.21016836166381836,-0.20589494705200195,-0.20622920989990234,-0.46051478385925293,-0.26625537872314453,-0.15709877014160156,-0.3688817024230957,-0.6918946504592896,-0.2287588119506836,-0.5177011489868164,-0.519709587097168,-0.0593419075012207,-0.14282655715942383,-0.4857945442199707,-0.3101184368133545,-0.6797398328781128,-0.20423126220703125,-0.20423126220703125,-0.514970064163208,-0.19669389724731445,-0.7145025730133057,-0.5408992767333984,-0.3853116035461426,-0.28635263442993164,-0.27147817611694336,-0.21655607223510742,-0.29512834548950195,-0.29512834548950195,-0.20126080513000488,-0.5706741809844971,-0.5437831878662109,-0.15936851501464844,-0.358426570892334,-0.2628331184387207,-0.533149003982544,-0.31170129776000977,-0.2801041603088379,-0.3068065643310547,-0.5880758762359619,-0.5880758762359619,-0.06791138648986816,-0.3798694610595703,-0.17461729049682617,-0.17461633682250977,-1.1209864616394043],\"type\":\"violin\"},{\"line\":{\"color\":\"#1f77b4\"},\"name\":\"[O;D2]-[C;D2;H2]-[C;D1;H3]\",\"showlegend\":false,\"spanmode\":\"hard\",\"x\":[-0.3255891799926758,-0.3255891799926758,-0.6568083763122559,-0.6568078994750977,-0.5610299110412598,-0.3978438377380371,-0.3978438377380371,-0.11352717876434326,-0.48718979954719543,-0.48718973994255066,-0.3820457458496094,-0.4167923927307129,-0.12993431091308594,-0.3172159194946289,-0.3172154426574707,-0.5470055937767029,-0.4840836524963379,-0.4840841293334961,-0.19724583625793457,-0.19724583625793457,-0.5451217889785767,-0.2591322064399719,-0.42080068588256836,-0.42080068588256836,-0.32774996757507324,-0.1604938507080078,-0.5883979797363281,-0.1683964729309082,0.0736076831817627,-0.3789234161376953,-0.26291728019714355,-0.2571544647216797,-0.17752861976623535,-0.530066967010498,-0.5904629230499268,-0.40961742401123047,-0.40961790084838867,-0.6452080011367798,-0.5733232498168945,-0.22553062438964844,-0.346651554107666,-0.5954760313034058,-0.5954760313034058,-0.31377434730529785,-0.5184723734855652,-0.5184723734855652,-0.3937206268310547,-0.3937201499938965,-0.43700075149536133,-0.43700075149536133,-0.43700122833251953,-0.43700122833251953,-0.7502305507659912,-0.6354151964187622,-0.5013000965118408,-0.21811294555664062,-0.21811294555664062,-0.1896851658821106,-0.1896851658821106,-0.1896851658821106,-0.7379770278930664,-0.45341235399246216,-0.45341235399246216,-0.3154139518737793,-0.3154139518737793,-0.5414918661117554,-0.4288492202758789,-0.14537930488586426,-0.46314287185668945,-0.46314287185668945,-0.18529009819030762,-0.2791872024536133,-0.2791872024536133,-0.6317291259765625,-0.6317286491394043,-0.47163382172584534,-0.5001590251922607,-0.5001592636108398,-0.10640335083007812,-0.10640287399291992,-0.5483386516571045],\"type\":\"violin\"},{\"line\":{\"color\":\"#1f77b4\"},\"name\":\"C(=[O;D1])-[C;D1;H3]\",\"showlegend\":false,\"spanmode\":\"hard\",\"x\":[0.29094481468200684,-0.0735020637512207,0.66936194896698,0.025952577590942383,-0.25002825260162354,-0.25002822279930115,-0.23881874978542328,0.3697360157966614,-0.05742073059082031,0.8324012756347656,-0.1568591296672821,0.6618432998657227,1.088529109954834,-0.17554283142089844,0.09632158279418945,-0.08447122573852539,-0.05544900894165039,0.752135694026947,0.13383960723876953,-0.4546027183532715,-0.46671557426452637,0.5059268474578857,-0.2818450927734375,0.07274532318115234,-0.3752284049987793,0.19574737548828125,-0.3811066150665283,-0.5297832489013672,0.4013862609863281,0.18497657775878906,-0.47223997116088867,-0.02154994010925293,-0.4621739387512207,-0.11006677150726318,0.11178922653198242,1.0080654621124268,-0.023525595664978027,0.4061530828475952,0.3699655532836914,0.20939373970031738,-0.5837063789367676,-0.133880615234375,-0.4071250557899475,-0.16603446006774902,0.7404353022575378,0.9469869136810303,-0.34902191162109375,0.6298383474349976,0.9391944408416748,0.8359107971191406,0.12093114852905273,-0.33651161193847656,0.04594922065734863,0.13602983951568604,-0.047872066497802734,0.01129150390625,-0.05893909931182861],\"type\":\"violin\"},{\"line\":{\"color\":\"#1f77b4\"},\"name\":\"[C;D4](F)(F)F\",\"showlegend\":false,\"spanmode\":\"hard\",\"x\":[-1.1761651039123535,-0.6634664535522461,-1.0326337814331055,-1.334747314453125,-0.44205379486083984,-0.16257381439208984,-0.7747799158096313,-0.34964656829833984,-0.3941049575805664,-0.21247243881225586,-0.1598339080810547,-0.6432547569274902,-0.20573091506958008,-0.3759455680847168,-0.4520139694213867,-0.5805234909057617,-0.30190587043762207,-0.5812362432479858],\"type\":\"violin\"},{\"line\":{\"color\":\"#1f77b4\"},\"name\":\"[N;D3](=[O;D1])[O;D1]\",\"showlegend\":false,\"spanmode\":\"hard\",\"x\":[-0.44848060607910156,-0.4437084197998047,-0.21868324279785156,-0.7829189300537109,-0.3886909484863281,0.2288060188293457,-0.12759870290756226,-0.232316255569458,-0.686983048915863,-0.23226261138916016,-0.6817429065704346,-0.2214900404214859,-0.4529685974121094,-0.4529685974121094,-0.33801889419555664,-0.3376150131225586,0.062395572662353516,-0.1660919189453125,-0.3280158042907715,-0.27844762802124023,-0.27844762802124023,-0.19123077392578125,-0.2197723388671875,-0.21927165985107422,-0.2197723388671875,-0.4441711902618408,-0.4441709518432617,-0.28793907165527344,-0.29167962074279785,-0.4009667634963989,-0.7010071873664856,-0.8659055233001709,-0.35083818435668945,-0.35083818435668945,-1.0533310174942017,0.08761453628540039,-0.5123467445373535,-0.2569406032562256,-0.2569406032562256,-0.2569406032562256,-0.08746194839477539,-0.22203755378723145,-0.2870294451713562,-0.287029504776001,-0.2882397174835205,-1.0968365669250488,-0.05614471435546875,-0.0320582389831543,-0.35868167877197266,-0.35682010650634766,-0.3570239543914795,-0.46553921699523926,-0.46553897857666016,-0.07857894897460938,-0.03415226936340332,-0.39891862869262695,-0.39891958236694336,-0.12670385837554932,-0.1268683671951294,-0.23946714401245117,-0.23946714401245117,-0.17816030979156494,-0.9026234149932861,0.06971216201782227,-0.11293172836303711,-0.26096606254577637,-0.45880675315856934,-0.45880627632141113,-0.36670589447021484,-0.36670589447021484,-0.15875458717346191,-0.6320842504501343,-0.3240722417831421,-0.30820465087890625,-0.30820465087890625,-0.15654826164245605],\"type\":\"violin\"},{\"line\":{\"color\":\"#1f77b4\"},\"name\":\"[N;D1;H2]\",\"showlegend\":false,\"spanmode\":\"hard\",\"x\":[-0.0720672607421875,-0.013019800186157227,-0.3276817500591278,-0.3541155457496643,-0.02602410316467285,0.017904311418533325,0.017904311418533325,0.45479440689086914,0.373380184173584,-0.18069398403167725,0.03598366677761078,-0.06801629066467285,0.0678856372833252,0.19783806800842285,-0.015748023986816406,-0.015748023986816406,-0.2957215905189514,-0.044645071029663086,-0.044645071029663086,0.10613787174224854,-0.04120826721191406,0.24903500080108643,-0.146942138671875,0.06493127346038818,-0.3194918632507324,-0.11439347267150879,-0.08772587776184082,-0.004799604415893555,-0.35710132122039795,0.2299201488494873,-0.006575107574462891,-0.0008559226989746094,-0.02377164363861084,-0.04245162010192871,-0.02025580406188965,-0.02025580406188965,0.23528623580932617,-0.241889089345932,0.0102996826171875,0.036836862564086914,-0.1082162857055664,-0.016519784927368164,-0.06228828430175781,-0.08055651187896729,-0.24582988023757935,-0.05614495277404785,-0.05483555793762207,0.2653625011444092,-0.060584306716918945,-0.12771952152252197,-0.16208267211914062,-0.04909944534301758,0.0067708492279052734,0.0067708492279052734,0.1852872371673584,-0.27696752548217773,0.20722579956054688,0.05402731895446777,-0.10692131519317627,0.47258567810058594,0.15245628356933594,-0.03557109832763672,-0.35623395442962646,0.19731509685516357,0.002701997756958008,-0.09460008144378662,-0.011026144027709961,-0.03043985366821289,0.48160192370414734,0.002589702606201172,0.002589702606201172,0.013344675302505493,-0.09260129928588867,-0.016803741455078125,-0.029924869537353516,-0.21831800043582916,-0.21831800043582916,-0.17006754875183105,-0.24710983037948608,-0.14315199851989746,0.005514860153198242,-0.07443618774414062,-1.1920928955078125e-05,-0.40617457032203674,-0.00692141056060791,0.10867023468017578,0.008751392364501953],\"type\":\"violin\"},{\"line\":{\"color\":\"#1f77b4\"},\"name\":\"C(=[O;D1])[O;D2]-[C;D1;H3]\",\"showlegend\":false,\"spanmode\":\"hard\",\"x\":[0.7815718650817871,-0.3293190002441406,-0.09421491622924805,-0.09421491622924805,0.07389557361602783,-0.14507031440734863,0.6249322891235352,-0.04959237575531006,-0.04278433322906494,1.116589069366455,-1.0000848770141602,-0.0033121109008789062,-0.0033121109008789062,0.28603219985961914,-1.046569585800171,-0.08312666416168213,1.282057285308838,-1.0495445728302002,-0.009802311658859253,-0.23252463340759277,0.9492647647857666,-0.4023919105529785,0.05820537358522415,-0.12263131141662598],\"type\":\"violin\"},{\"line\":{\"color\":\"#1f77b4\"},\"name\":\"[C;D4]([C;D1])([C;D1])-[C;D1]\",\"showlegend\":false,\"spanmode\":\"hard\",\"x\":[-1.0370657444000244,-2.2011356353759766,-2.141130208969116,-0.8603355884552002,-0.9976253509521484,-2.7678120136260986,-1.3216328620910645,-1.282414197921753,-1.055556297302246,-0.7137727737426758,-2.090221881866455,-2.510205030441284,-0.08454060554504395,-0.6490888595581055,-1.4700522422790527,-1.6613786220550537,-1.8381550312042236,-0.8971822261810303,-2.9154179096221924,-0.24982285499572754,-1.6774718761444092,-0.6927521228790283,-0.6927523612976074,-1.4807100296020508,-1.1172025203704834,-2.8174915313720703],\"type\":\"violin\"},{\"line\":{\"color\":\"#1f77b4\"},\"name\":\"[C;D2]#[C;D1;H1]\",\"showlegend\":false,\"spanmode\":\"hard\",\"x\":[-0.19877171516418457,-0.9408783912658691,-0.08122754096984863,-0.1059575080871582,-0.39977768063545227,-0.49252235889434814,-0.4665069580078125,0.08691787719726562,-0.28474390506744385,-0.12054300308227539,0.3045792579650879,-0.39395689964294434,-1.0951447486877441,-0.2709197998046875],\"type\":\"violin\"},{\"line\":{\"color\":\"#1f77b4\"},\"name\":\"C(=[O;D1])-[N;D1]\",\"showlegend\":false,\"spanmode\":\"hard\",\"x\":[-0.8796912431716919,0.09388613700866699,0.19620868563652039,-0.10728585720062256,-0.10728585720062256,0.3086128234863281,-0.8706591129302979,0.31416964530944824,-0.025572538375854492,0.5026226043701172,-0.2735847234725952,0.3175649046897888,0.12639790773391724,0.12639790773391724,-0.7682199478149414,0.4120805263519287],\"type\":\"violin\"},{\"line\":{\"color\":\"#1f77b4\"},\"name\":\"[S;D2]-[C;D1;H3]\",\"showlegend\":false,\"spanmode\":\"hard\",\"x\":[-0.376397967338562,-0.42065906524658203,-0.916597843170166,-0.916597843170166,-0.17767930030822754,0.08762955665588379,0.06002664566040039,-0.22647476196289062,-0.12131810188293457,-0.141099214553833,-0.6756675243377686,0.0036106109619140625,-0.9354475736618042,-0.9354475736618042,-0.5576974153518677,-0.32729849219322205],\"type\":\"violin\"},{\"line\":{\"color\":\"#1f77b4\"},\"name\":\"[S;D4](=[O;D1])(=[O;D1])-[N;D1;H2]\",\"showlegend\":false,\"spanmode\":\"hard\",\"x\":[-0.7009314298629761,0.21547961235046387,0.20396971702575684,-0.6322762966156006,-1.369422435760498,-0.1599125862121582,0.24143218994140625,0.03213620185852051,0.0373995304107666,-0.004908323287963867,-0.05559110641479492,0.15014219284057617,-0.2125568389892578,0.34549903869628906],\"type\":\"violin\"}],                        {\"template\":{\"data\":{\"barpolar\":[{\"marker\":{\"line\":{\"color\":\"white\",\"width\":0.5},\"pattern\":{\"fillmode\":\"overlay\",\"size\":10,\"solidity\":0.2}},\"type\":\"barpolar\"}],\"bar\":[{\"error_x\":{\"color\":\"rgb(36,36,36)\"},\"error_y\":{\"color\":\"rgb(36,36,36)\"},\"marker\":{\"line\":{\"color\":\"white\",\"width\":0.5},\"pattern\":{\"fillmode\":\"overlay\",\"size\":10,\"solidity\":0.2}},\"type\":\"bar\"}],\"carpet\":[{\"aaxis\":{\"endlinecolor\":\"rgb(36,36,36)\",\"gridcolor\":\"white\",\"linecolor\":\"white\",\"minorgridcolor\":\"white\",\"startlinecolor\":\"rgb(36,36,36)\"},\"baxis\":{\"endlinecolor\":\"rgb(36,36,36)\",\"gridcolor\":\"white\",\"linecolor\":\"white\",\"minorgridcolor\":\"white\",\"startlinecolor\":\"rgb(36,36,36)\"},\"type\":\"carpet\"}],\"choropleth\":[{\"colorbar\":{\"outlinewidth\":1,\"tickcolor\":\"rgb(36,36,36)\",\"ticks\":\"outside\"},\"type\":\"choropleth\"}],\"contourcarpet\":[{\"colorbar\":{\"outlinewidth\":1,\"tickcolor\":\"rgb(36,36,36)\",\"ticks\":\"outside\"},\"type\":\"contourcarpet\"}],\"contour\":[{\"colorbar\":{\"outlinewidth\":1,\"tickcolor\":\"rgb(36,36,36)\",\"ticks\":\"outside\"},\"colorscale\":[[0.0,\"#440154\"],[0.1111111111111111,\"#482878\"],[0.2222222222222222,\"#3e4989\"],[0.3333333333333333,\"#31688e\"],[0.4444444444444444,\"#26828e\"],[0.5555555555555556,\"#1f9e89\"],[0.6666666666666666,\"#35b779\"],[0.7777777777777778,\"#6ece58\"],[0.8888888888888888,\"#b5de2b\"],[1.0,\"#fde725\"]],\"type\":\"contour\"}],\"heatmapgl\":[{\"colorbar\":{\"outlinewidth\":1,\"tickcolor\":\"rgb(36,36,36)\",\"ticks\":\"outside\"},\"colorscale\":[[0.0,\"#440154\"],[0.1111111111111111,\"#482878\"],[0.2222222222222222,\"#3e4989\"],[0.3333333333333333,\"#31688e\"],[0.4444444444444444,\"#26828e\"],[0.5555555555555556,\"#1f9e89\"],[0.6666666666666666,\"#35b779\"],[0.7777777777777778,\"#6ece58\"],[0.8888888888888888,\"#b5de2b\"],[1.0,\"#fde725\"]],\"type\":\"heatmapgl\"}],\"heatmap\":[{\"colorbar\":{\"outlinewidth\":1,\"tickcolor\":\"rgb(36,36,36)\",\"ticks\":\"outside\"},\"colorscale\":[[0.0,\"#440154\"],[0.1111111111111111,\"#482878\"],[0.2222222222222222,\"#3e4989\"],[0.3333333333333333,\"#31688e\"],[0.4444444444444444,\"#26828e\"],[0.5555555555555556,\"#1f9e89\"],[0.6666666666666666,\"#35b779\"],[0.7777777777777778,\"#6ece58\"],[0.8888888888888888,\"#b5de2b\"],[1.0,\"#fde725\"]],\"type\":\"heatmap\"}],\"histogram2dcontour\":[{\"colorbar\":{\"outlinewidth\":1,\"tickcolor\":\"rgb(36,36,36)\",\"ticks\":\"outside\"},\"colorscale\":[[0.0,\"#440154\"],[0.1111111111111111,\"#482878\"],[0.2222222222222222,\"#3e4989\"],[0.3333333333333333,\"#31688e\"],[0.4444444444444444,\"#26828e\"],[0.5555555555555556,\"#1f9e89\"],[0.6666666666666666,\"#35b779\"],[0.7777777777777778,\"#6ece58\"],[0.8888888888888888,\"#b5de2b\"],[1.0,\"#fde725\"]],\"type\":\"histogram2dcontour\"}],\"histogram2d\":[{\"colorbar\":{\"outlinewidth\":1,\"tickcolor\":\"rgb(36,36,36)\",\"ticks\":\"outside\"},\"colorscale\":[[0.0,\"#440154\"],[0.1111111111111111,\"#482878\"],[0.2222222222222222,\"#3e4989\"],[0.3333333333333333,\"#31688e\"],[0.4444444444444444,\"#26828e\"],[0.5555555555555556,\"#1f9e89\"],[0.6666666666666666,\"#35b779\"],[0.7777777777777778,\"#6ece58\"],[0.8888888888888888,\"#b5de2b\"],[1.0,\"#fde725\"]],\"type\":\"histogram2d\"}],\"histogram\":[{\"marker\":{\"line\":{\"color\":\"white\",\"width\":0.6}},\"type\":\"histogram\"}],\"mesh3d\":[{\"colorbar\":{\"outlinewidth\":1,\"tickcolor\":\"rgb(36,36,36)\",\"ticks\":\"outside\"},\"type\":\"mesh3d\"}],\"parcoords\":[{\"line\":{\"colorbar\":{\"outlinewidth\":1,\"tickcolor\":\"rgb(36,36,36)\",\"ticks\":\"outside\"}},\"type\":\"parcoords\"}],\"pie\":[{\"automargin\":true,\"type\":\"pie\"}],\"scatter3d\":[{\"line\":{\"colorbar\":{\"outlinewidth\":1,\"tickcolor\":\"rgb(36,36,36)\",\"ticks\":\"outside\"}},\"marker\":{\"colorbar\":{\"outlinewidth\":1,\"tickcolor\":\"rgb(36,36,36)\",\"ticks\":\"outside\"}},\"type\":\"scatter3d\"}],\"scattercarpet\":[{\"marker\":{\"colorbar\":{\"outlinewidth\":1,\"tickcolor\":\"rgb(36,36,36)\",\"ticks\":\"outside\"}},\"type\":\"scattercarpet\"}],\"scattergeo\":[{\"marker\":{\"colorbar\":{\"outlinewidth\":1,\"tickcolor\":\"rgb(36,36,36)\",\"ticks\":\"outside\"}},\"type\":\"scattergeo\"}],\"scattergl\":[{\"marker\":{\"colorbar\":{\"outlinewidth\":1,\"tickcolor\":\"rgb(36,36,36)\",\"ticks\":\"outside\"}},\"type\":\"scattergl\"}],\"scattermapbox\":[{\"marker\":{\"colorbar\":{\"outlinewidth\":1,\"tickcolor\":\"rgb(36,36,36)\",\"ticks\":\"outside\"}},\"type\":\"scattermapbox\"}],\"scatterpolargl\":[{\"marker\":{\"colorbar\":{\"outlinewidth\":1,\"tickcolor\":\"rgb(36,36,36)\",\"ticks\":\"outside\"}},\"type\":\"scatterpolargl\"}],\"scatterpolar\":[{\"marker\":{\"colorbar\":{\"outlinewidth\":1,\"tickcolor\":\"rgb(36,36,36)\",\"ticks\":\"outside\"}},\"type\":\"scatterpolar\"}],\"scatter\":[{\"fillpattern\":{\"fillmode\":\"overlay\",\"size\":10,\"solidity\":0.2},\"type\":\"scatter\"}],\"scatterternary\":[{\"marker\":{\"colorbar\":{\"outlinewidth\":1,\"tickcolor\":\"rgb(36,36,36)\",\"ticks\":\"outside\"}},\"type\":\"scatterternary\"}],\"surface\":[{\"colorbar\":{\"outlinewidth\":1,\"tickcolor\":\"rgb(36,36,36)\",\"ticks\":\"outside\"},\"colorscale\":[[0.0,\"#440154\"],[0.1111111111111111,\"#482878\"],[0.2222222222222222,\"#3e4989\"],[0.3333333333333333,\"#31688e\"],[0.4444444444444444,\"#26828e\"],[0.5555555555555556,\"#1f9e89\"],[0.6666666666666666,\"#35b779\"],[0.7777777777777778,\"#6ece58\"],[0.8888888888888888,\"#b5de2b\"],[1.0,\"#fde725\"]],\"type\":\"surface\"}],\"table\":[{\"cells\":{\"fill\":{\"color\":\"rgb(237,237,237)\"},\"line\":{\"color\":\"white\"}},\"header\":{\"fill\":{\"color\":\"rgb(217,217,217)\"},\"line\":{\"color\":\"white\"}},\"type\":\"table\"}]},\"layout\":{\"annotationdefaults\":{\"arrowhead\":0,\"arrowwidth\":1},\"autotypenumbers\":\"strict\",\"coloraxis\":{\"colorbar\":{\"outlinewidth\":1,\"tickcolor\":\"rgb(36,36,36)\",\"ticks\":\"outside\"}},\"colorscale\":{\"diverging\":[[0.0,\"rgb(103,0,31)\"],[0.1,\"rgb(178,24,43)\"],[0.2,\"rgb(214,96,77)\"],[0.3,\"rgb(244,165,130)\"],[0.4,\"rgb(253,219,199)\"],[0.5,\"rgb(247,247,247)\"],[0.6,\"rgb(209,229,240)\"],[0.7,\"rgb(146,197,222)\"],[0.8,\"rgb(67,147,195)\"],[0.9,\"rgb(33,102,172)\"],[1.0,\"rgb(5,48,97)\"]],\"sequential\":[[0.0,\"#440154\"],[0.1111111111111111,\"#482878\"],[0.2222222222222222,\"#3e4989\"],[0.3333333333333333,\"#31688e\"],[0.4444444444444444,\"#26828e\"],[0.5555555555555556,\"#1f9e89\"],[0.6666666666666666,\"#35b779\"],[0.7777777777777778,\"#6ece58\"],[0.8888888888888888,\"#b5de2b\"],[1.0,\"#fde725\"]],\"sequentialminus\":[[0.0,\"#440154\"],[0.1111111111111111,\"#482878\"],[0.2222222222222222,\"#3e4989\"],[0.3333333333333333,\"#31688e\"],[0.4444444444444444,\"#26828e\"],[0.5555555555555556,\"#1f9e89\"],[0.6666666666666666,\"#35b779\"],[0.7777777777777778,\"#6ece58\"],[0.8888888888888888,\"#b5de2b\"],[1.0,\"#fde725\"]]},\"colorway\":[\"#1F77B4\",\"#FF7F0E\",\"#2CA02C\",\"#D62728\",\"#9467BD\",\"#8C564B\",\"#E377C2\",\"#7F7F7F\",\"#BCBD22\",\"#17BECF\"],\"font\":{\"color\":\"rgb(36,36,36)\"},\"geo\":{\"bgcolor\":\"white\",\"lakecolor\":\"white\",\"landcolor\":\"white\",\"showlakes\":true,\"showland\":true,\"subunitcolor\":\"white\"},\"hoverlabel\":{\"align\":\"left\"},\"hovermode\":\"closest\",\"mapbox\":{\"style\":\"light\"},\"paper_bgcolor\":\"white\",\"plot_bgcolor\":\"white\",\"polar\":{\"angularaxis\":{\"gridcolor\":\"rgb(232,232,232)\",\"linecolor\":\"rgb(36,36,36)\",\"showgrid\":false,\"showline\":true,\"ticks\":\"outside\"},\"bgcolor\":\"white\",\"radialaxis\":{\"gridcolor\":\"rgb(232,232,232)\",\"linecolor\":\"rgb(36,36,36)\",\"showgrid\":false,\"showline\":true,\"ticks\":\"outside\"}},\"scene\":{\"xaxis\":{\"backgroundcolor\":\"white\",\"gridcolor\":\"rgb(232,232,232)\",\"gridwidth\":2,\"linecolor\":\"rgb(36,36,36)\",\"showbackground\":true,\"showgrid\":false,\"showline\":true,\"ticks\":\"outside\",\"zeroline\":false,\"zerolinecolor\":\"rgb(36,36,36)\"},\"yaxis\":{\"backgroundcolor\":\"white\",\"gridcolor\":\"rgb(232,232,232)\",\"gridwidth\":2,\"linecolor\":\"rgb(36,36,36)\",\"showbackground\":true,\"showgrid\":false,\"showline\":true,\"ticks\":\"outside\",\"zeroline\":false,\"zerolinecolor\":\"rgb(36,36,36)\"},\"zaxis\":{\"backgroundcolor\":\"white\",\"gridcolor\":\"rgb(232,232,232)\",\"gridwidth\":2,\"linecolor\":\"rgb(36,36,36)\",\"showbackground\":true,\"showgrid\":false,\"showline\":true,\"ticks\":\"outside\",\"zeroline\":false,\"zerolinecolor\":\"rgb(36,36,36)\"}},\"shapedefaults\":{\"fillcolor\":\"black\",\"line\":{\"width\":0},\"opacity\":0.3},\"ternary\":{\"aaxis\":{\"gridcolor\":\"rgb(232,232,232)\",\"linecolor\":\"rgb(36,36,36)\",\"showgrid\":false,\"showline\":true,\"ticks\":\"outside\"},\"baxis\":{\"gridcolor\":\"rgb(232,232,232)\",\"linecolor\":\"rgb(36,36,36)\",\"showgrid\":false,\"showline\":true,\"ticks\":\"outside\"},\"bgcolor\":\"white\",\"caxis\":{\"gridcolor\":\"rgb(232,232,232)\",\"linecolor\":\"rgb(36,36,36)\",\"showgrid\":false,\"showline\":true,\"ticks\":\"outside\"}},\"title\":{\"x\":0.05},\"xaxis\":{\"automargin\":true,\"gridcolor\":\"rgb(232,232,232)\",\"linecolor\":\"rgb(36,36,36)\",\"showgrid\":false,\"showline\":true,\"ticks\":\"outside\",\"title\":{\"standoff\":15},\"zeroline\":false,\"zerolinecolor\":\"rgb(36,36,36)\"},\"yaxis\":{\"automargin\":true,\"gridcolor\":\"rgb(232,232,232)\",\"linecolor\":\"rgb(36,36,36)\",\"showgrid\":false,\"showline\":true,\"ticks\":\"outside\",\"title\":{\"standoff\":15},\"zeroline\":false,\"zerolinecolor\":\"rgb(36,36,36)\"}}},\"shapes\":[{\"line\":{\"dash\":\"dash\",\"width\":3},\"type\":\"line\",\"x0\":0,\"x1\":0,\"xref\":\"x\",\"y0\":0,\"y1\":1,\"yref\":\"y domain\"}],\"autosize\":false,\"width\":700,\"height\":700},                        {\"responsive\": true}                    ).then(function(){\n",
       "                            \n",
       "var gd = document.getElementById('a04a53fe-12d4-48ee-86be-e0de1d037ddb');\n",
       "var x = new MutationObserver(function (mutations, observer) {{\n",
       "        var display = window.getComputedStyle(gd).display;\n",
       "        if (!display || display === 'none') {{\n",
       "            console.log([gd, 'removed!']);\n",
       "            Plotly.purge(gd);\n",
       "            observer.disconnect();\n",
       "        }}\n",
       "}});\n",
       "\n",
       "// Listen for the removal of the full notebook cells\n",
       "var notebookContainer = gd.closest('#notebook-container');\n",
       "if (notebookContainer) {{\n",
       "    x.observe(notebookContainer, {childList: true});\n",
       "}}\n",
       "\n",
       "// Listen for the clearing of the current output cell\n",
       "var outputEl = gd.closest('.output');\n",
       "if (outputEl) {{\n",
       "    x.observe(outputEl, {childList: true});\n",
       "}}\n",
       "\n",
       "                        })                };                });            </script>        </div>"
      ]
     },
     "metadata": {},
     "output_type": "display_data"
    }
   ],
   "source": [
    "fig = go.Figure()\n",
    "\n",
    "for functional_group, attributions in functional_group_attributions.items():\n",
    "    print(f\"{functional_group:<35}: {np.mean(attributions):.3f}\")\n",
    "    fig.add_trace(\n",
    "        go.Violin(\n",
    "            x=attributions, \n",
    "            name=functional_group, \n",
    "            spanmode=\"hard\",\n",
    "            line_color=\"#1f77b4\",\n",
    "            showlegend=False\n",
    "        ),\n",
    "        \n",
    "    )\n",
    "fig.add_vline(x=0, line_width=3, line_dash=\"dash\")\n",
    "fig.update_layout(autosize=False, width=700, height=700, template=\"simple_white\")\n",
    "fig.show()\n",
    "# px.violin(functional_group_attributions[\"[N]#[C]\"], width=600, height=500, template=\"simple_white\")"
   ]
  },
  {
   "cell_type": "markdown",
   "id": "f21fd6a9-600b-476f-9738-af497169b5c3",
   "metadata": {
    "jp-MarkdownHeadingCollapsed": true
   },
   "source": [
    "### Menthol"
   ]
  },
  {
   "cell_type": "code",
   "execution_count": 231,
   "id": "efe6419c-3e97-4804-a9e8-a755c8f82ec9",
   "metadata": {},
   "outputs": [
    {
     "data": {
      "image/jpeg": "[encoded data removed]",
      "image/png": "[encoded data removed]",
      "text/plain": [
       "<PIL.PngImagePlugin.PngImageFile image mode=RGB size=350x300>"
      ]
     },
     "execution_count": 231,
     "metadata": {},
     "output_type": "execute_result"
    }
   ],
   "source": [
    "menthol_smiles = \"CC1CCC(C(C1)O)C(C)C\"\n",
    "menthol_rdmol = Chem.MolFromSmiles(menthol_smiles)\n",
    "menthol_rdmol\n",
    "XAIChem.showMolecule(menthol_rdmol, show_atom_indices=True)"
   ]
  },
  {
   "cell_type": "code",
   "execution_count": 246,
   "id": "e91cb42e-7246-4387-a702-674b0af0f497",
   "metadata": {},
   "outputs": [
    {
     "data": {
      "text/plain": [
       "defaultdict(list, {'[O;D1]': [0.72]})"
      ]
     },
     "execution_count": 246,
     "metadata": {},
     "output_type": "execute_result"
    }
   ],
   "source": [
    "functionGroupNormalizedAttributionScores(menthol_smiles, functional_groups)\n",
    "\n",
    "# XAIChem.showMolecule(menthol_rdmol, atoms_highlight_values={substructure: attribution_normalized}).show()"
   ]
  },
  {
   "cell_type": "code",
   "execution_count": 183,
   "id": "2c1e69f0-a393-4126-871e-5f1c5520c379",
   "metadata": {},
   "outputs": [],
   "source": [
    "frags = list(BRICS.BRICSDecompose(menthol_rdmol))\n",
    "mols = [Chem.MolFromSmiles(frag) for frag in frags]"
   ]
  },
  {
   "cell_type": "code",
   "execution_count": 13,
   "id": "a575badb-86c0-4c90-9a9b-f051285a2672",
   "metadata": {},
   "outputs": [],
   "source": [
    "bricks_substructures = [\n",
    "    XAIChem.breakBRICKSBond(menthol_rdmol, bond[0])\n",
    "    for bond in BRICS.FindBRICSBonds(menthol_rdmol)\n",
    "]"
   ]
  },
  {
   "cell_type": "code",
   "execution_count": 16,
   "id": "2d243b1b-225b-490b-85c3-f3807772523f",
   "metadata": {},
   "outputs": [
    {
     "name": "stdout",
     "output_type": "stream",
     "text": [
      "tensor([1, 1, 1, 1, 1, 1, 1, 1, 0, 0, 0])\n",
      "tensor([0, 0, 0, 0, 0, 0, 0, 0, 1, 1, 1])\n"
     ]
    }
   ],
   "source": [
    "for bricks_substructure in bricks_substructures:\n",
    "    for substructure in bricks_substructure:\n"
   ]
  },
  {
   "cell_type": "code",
   "execution_count": 196,
   "id": "b1eb6e79-a969-4a84-a9ad-4366cd706250",
   "metadata": {},
   "outputs": [
    {
     "name": "stdout",
     "output_type": "stream",
     "text": [
      "tensor(-3.8441) tensor(0.1910)\n",
      "tensor(-4.2353) tensor(0.1500)\n"
     ]
    }
   ],
   "source": [
    "graph = XAIChem.createDataObjectFromSmiles(menthol_smiles, -1)\n",
    "\n",
    "with torch.no_grad():\n",
    "    # Prediction of molecule without mask\n",
    "    pred_mean, pred_sd = predict(graph)\n",
    "    print(pred_mean, pred_sd)\n",
    "\n",
    "    # Mask hydroxyl group\n",
    "    pred_mean_masked_hydroxyl, pred_sd_masked_hydroxyl = predict(\n",
    "        graph, mask.view(-1, 1)\n",
    "    )\n",
    "    print(pred_mean_masked_hydroxyl, pred_sd_masked_hydroxyl)"
   ]
  },
  {
   "cell_type": "code",
   "execution_count": 88,
   "id": "fe8df835-2933-42b6-8293-2d41f39977c3",
   "metadata": {},
   "outputs": [],
   "source": [
    "attribution = pred_mean - pred_mean_masked_hydroxyl\n",
    "attribution_N = F.tanh(attribution)"
   ]
  },
  {
   "cell_type": "code",
   "execution_count": 89,
   "id": "5c0af65a-cd13-41f0-82a0-1d4d029c14a4",
   "metadata": {},
   "outputs": [
    {
     "data": {
      "text/plain": [
       "tensor(0.9074)"
      ]
     },
     "execution_count": 89,
     "metadata": {},
     "output_type": "execute_result"
    }
   ],
   "source": [
    "attribution"
   ]
  },
  {
   "cell_type": "code",
   "execution_count": 90,
   "id": "1e46dfb2-bf80-4324-9a5c-47af66aabb7b",
   "metadata": {},
   "outputs": [
    {
     "data": {
      "text/plain": [
       "tensor(0.7199)"
      ]
     },
     "execution_count": 90,
     "metadata": {},
     "output_type": "execute_result"
    }
   ],
   "source": [
    "attribution_N"
   ]
  },
  {
   "cell_type": "markdown",
   "id": "7c9b0037-c6e7-44ce-8edf-973339c6a817",
   "metadata": {
    "jp-MarkdownHeadingCollapsed": true
   },
   "source": [
    "### p-Menthane"
   ]
  },
  {
   "cell_type": "code",
   "execution_count": 105,
   "id": "d20e0df3-b38c-4a08-8707-33625e1599ec",
   "metadata": {},
   "outputs": [
    {
     "data": {
      "image/png": "[encoded data removed]",
      "text/plain": [
       "<rdkit.Chem.rdchem.Mol at 0x7f39fd967b50>"
      ]
     },
     "execution_count": 105,
     "metadata": {},
     "output_type": "execute_result"
    }
   ],
   "source": [
    "p_menthane_smiles = \"CC1CCC(CC1)C(C)C\"\n",
    "p_menthane_rdmol = Chem.MolFromSmiles(p_menthane_smiles)\n",
    "p_menthane_rdmol"
   ]
  },
  {
   "cell_type": "code",
   "execution_count": 47,
   "id": "f74cc841-3bde-4331-920b-c4b86f929651",
   "metadata": {},
   "outputs": [
    {
     "name": "stdout",
     "output_type": "stream",
     "text": [
      "tensor(-4.9916) tensor(0.1944)\n"
     ]
    }
   ],
   "source": [
    "graph = XAIChem.createDataObjectFromSmiles(p_menthane_smiles, -1)\n",
    "\n",
    "with torch.no_grad():\n",
    "    # Prediction of molecule without mask\n",
    "    pred_mean, pred_sd = predict(graph)\n",
    "    print(pred_mean, pred_sd)"
   ]
  },
  {
   "cell_type": "code",
   "execution_count": 48,
   "id": "501e53b8-62a1-4456-b1b9-dd251f774316",
   "metadata": {},
   "outputs": [
    {
     "data": {
      "text/plain": [
       "tensor(0.0068)"
      ]
     },
     "execution_count": 48,
     "metadata": {},
     "output_type": "execute_result"
    }
   ],
   "source": [
    "np.exp(pred_mean)"
   ]
  },
  {
   "cell_type": "code",
   "execution_count": null,
   "id": "9ce304ed-8191-4d9c-9ba5-953de96fe486",
   "metadata": {},
   "outputs": [],
   "source": []
  }
 ],
 "metadata": {
  "kernelspec": {
   "display_name": "Python 3 (ipykernel)",
   "language": "python",
   "name": "python3"
  },
  "language_info": {
   "codemirror_mode": {
    "name": "ipython",
    "version": 3
   },
   "file_extension": ".py",
   "mimetype": "text/x-python",
   "name": "python",
   "nbconvert_exporter": "python",
   "pygments_lexer": "ipython3",
   "version": "3.11.0"
  }
 },
 "nbformat": 4,
 "nbformat_minor": 5
}
