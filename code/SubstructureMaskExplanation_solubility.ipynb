{
 "cells": [
  {
   "cell_type": "code",
   "execution_count": 1,
   "metadata": {},
   "outputs": [],
   "source": [
    "from typing import Optional, Callable\n",
    "import os.path as osp\n",
    "\n",
    "# Data science packages\n",
    "import pandas as pd \n",
    "import numpy as np\n",
    "\n",
    "# Chemoinformatics packages\n",
    "from rdkit import Chem\n",
    "from rdkit.Chem import PeriodicTable\n",
    "\n",
    "# Graph neural netowrks packages\n",
    "import torch\n",
    "from torch.nn import Linear\n",
    "import torch.nn.functional as F\n",
    "from torch_geometric.nn import RGCNConv\n",
    "from torch_geometric.data import (\n",
    "    DataLoader, \n",
    "    InMemoryDataset, \n",
    "    download_url,\n",
    "    Data\n",
    ")"
   ]
  },
  {
   "cell_type": "markdown",
   "metadata": {},
   "source": [
    "## Feature vectors"
   ]
  },
  {
   "cell_type": "code",
   "execution_count": 2,
   "metadata": {},
   "outputs": [],
   "source": [
    "def oneHotEncoding(x, values):\n",
    "    \"\"\"\n",
    "    Helper function to encode the given value as a one-hot vector\n",
    "\n",
    "    :param x: value to encode\n",
    "    :param values: encoding vector, i.e. contains every possible values of x\n",
    "    \"\"\"\n",
    "\n",
    "    return [int(x == value) for value in values]"
   ]
  },
  {
   "cell_type": "code",
   "execution_count": 3,
   "metadata": {},
   "outputs": [],
   "source": [
    "def getAtomFeatureVector(atom):\n",
    "\n",
    "    # Setup one-hot encoding vectors\n",
    "    atoms = [\"B\", \"C\", \"N\", \"O\", \"F\", \"Si\", \"P\", \"S\", \"As\", \"Se\", \"Br\", \"Te\", \"I\", \"At\"]\n",
    "    degrees = list(range(6))\n",
    "    hybridizations = [\n",
    "        Chem.HybridizationType.SP,\n",
    "        Chem.HybridizationType.SP2,\n",
    "        Chem.HybridizationType.SP3,\n",
    "        Chem.HybridizationType.SP3D,\n",
    "        Chem.HybridizationType.SP3D2,\n",
    "        Chem.HybridizationType.OTHER,\n",
    "    ]\n",
    "    hydrogens = list(range(5))\n",
    "    chirality_types = [\n",
    "        Chem.ChiralType.CHI_TETRAHEDRAL_CW, \n",
    "        Chem.ChiralType.CHI_TETRAHEDRAL_CCW\n",
    "    ]\n",
    "    \n",
    "#     atom_encoding = [\n",
    "#         [*[0]*(len(atoms)-1) + [1]] \n",
    "#         if atom.IsMetal()\n",
    "#         else oneHotEncoding(atom.GetSymbol(), atoms)\n",
    "#     ]\n",
    "\n",
    "    return [\n",
    "        *oneHotEncoding(atom.GetSymbol(), atoms),\n",
    "        *oneHotEncoding(atom.GetDegree(), degrees),\n",
    "        atom.GetFormalCharge(),\n",
    "        *oneHotEncoding(atom.GetHybridization(), hybridizations),\n",
    "        *oneHotEncoding(atom.GetTotalNumHs(), hydrogens),\n",
    "        int(atom.GetChiralTag() != Chem.ChiralType.CHI_UNSPECIFIED),\n",
    "        *oneHotEncoding(atom.GetChiralTag(), chirality_types)\n",
    "    ]"
   ]
  },
  {
   "cell_type": "code",
   "execution_count": 48,
   "metadata": {},
   "outputs": [],
   "source": [
    "def getBondFeatureVector(bond):\n",
    "    \n",
    "    # Setup one-hot encoding vectors\n",
    "    bond_types = [\n",
    "        Chem.BondType.SINGLE, \n",
    "        Chem.BondType.DOUBLE, \n",
    "        Chem.BondType.TRIPLE, \n",
    "        Chem.BondType.AROMATIC\n",
    "    ]\n",
    "    \n",
    "    stereo_types = [\n",
    "        Chem.BondStereo.STEREONONE, \n",
    "        Chem.BondStereo.STEREOANY, \n",
    "        Chem.BondStereo.STEREOZ, \n",
    "        Chem.BondStereo.STEREOE\n",
    "    ]\n",
    "    \n",
    "    return [\n",
    "        *oneHotEncoding(bond.GetBondType(), bond_types),\n",
    "        int(bond.GetIsConjugated()),\n",
    "        int(bond.IsInRing()),\n",
    "        *oneHotEncoding(bond.GetStereo(), stereo_types)\n",
    "    ]\n",
    "\n",
    "\n",
    "def getEdgeTypes(e):\n",
    "    \n",
    "    edge_types = np.zeros(e.shape[0], dtype=int)\n",
    "    \n",
    "    for row in range(e.shape[0]):\n",
    "        \n",
    "        bond_type = list(e[row, :4]).index(1)\n",
    "        is_conjugated = int(e[row, 4:5])\n",
    "        in_ring = int(e[row, 5:6])\n",
    "        stereo = list(e[row, 6:]).index(1)\n",
    "                \n",
    "        edge_type = (\n",
    "            bond_type + \n",
    "            is_conjugated * 4 + \n",
    "            in_ring * 8 + \n",
    "            stereo * 16\n",
    "        )\n",
    "        \n",
    "        edge_types[row] = edge_type\n",
    "    \n",
    "    return torch.tensor(edge_types, dtype=torch.long)"
   ]
  },
  {
   "cell_type": "code",
   "execution_count": 5,
   "metadata": {},
   "outputs": [
    {
     "name": "stdout",
     "output_type": "stream",
     "text": [
      "[0, 1, 2, 3, 4, 5, 6, 7, 8, 9, 10, 11, 12, 13, 14, 15, 16, 17, 18, 19, 20, 21, 22, 23, 24, 25, 26, 27, 28, 29, 30, 31, 32, 33, 34, 35, 36, 37, 38, 39, 40, 41, 42, 43, 44, 45, 46, 47, 48, 49, 50, 51, 52, 53, 54, 55, 56, 57, 58, 59, 60, 61, 62, 63]\n"
     ]
    }
   ],
   "source": [
    "btypes = []\n",
    "i = 0\n",
    "for bond_type in range(4):\n",
    "    for conj in range(2):\n",
    "        for in_ring in range(2):\n",
    "            for stereo in range(4):\n",
    "                i += 1\n",
    "                btype = bond_type + conj * 4 + in_ring * 8 + stereo * 16\n",
    "                \n",
    "                if btype not in btypes:\n",
    "                    btypes.append(btype)\n",
    "                else:\n",
    "                    print(bond_type, conj, in_ring, stereo)\n",
    "                    print(btype)\n",
    "                    raise ValueError\n",
    "                    \n",
    "print(sorted(btypes))"
   ]
  },
  {
   "cell_type": "code",
   "execution_count": 6,
   "metadata": {},
   "outputs": [],
   "source": [
    "def createDataObjectFromSmiles(smiles: str, y: any):\n",
    "    \n",
    "    rd_mol = Chem.MolFromSmiles(smiles)\n",
    "    \n",
    "    # x has shape [num_atoms, num_features]\n",
    "    x = torch.tensor([\n",
    "        getAtomFeatureVector(atom)\n",
    "        for atom in rd_mol.GetAtoms()\n",
    "    ])\n",
    "    \n",
    "    edge_indices, edge_attrs, edge_types = [], [], []\n",
    "    for bond in rd_mol.GetBonds():\n",
    "        \n",
    "        i = bond.GetBeginAtomIdx()\n",
    "        j = bond.GetEndAtomIdx()\n",
    "        \n",
    "        e = getBondFeatureVector(bond)\n",
    "        \n",
    "        # Treat molecules as undirected graphs\n",
    "        edge_indices += [[i, j], [j, i]]\n",
    "        edge_attrs += [e, e]\n",
    "        \n",
    "    edge_index = torch.tensor(edge_indices, dtype=torch.long).t().view(2, -1)\n",
    "    edge_attr = torch.tensor(edge_attrs, dtype=torch.long).view(-1, 10)\n",
    "    \n",
    "    data = Data(x=x, edge_index=edge_index, edge_attr=edge_attr, smiles=smiles)\n",
    "    data.y = y\n",
    "    \n",
    "    return data"
   ]
  },
  {
   "cell_type": "code",
   "execution_count": 82,
   "metadata": {},
   "outputs": [
    {
     "data": {
      "image/png": "[encoded data removed]",
      "text/plain": [
       "<rdkit.Chem.rdchem.Mol at 0x1502c6834260>"
      ]
     },
     "execution_count": 82,
     "metadata": {},
     "output_type": "execute_result"
    }
   ],
   "source": [
    "mol = Chem.MolFromSmiles(\"CC1CCC(C(C1)O)C(C)C\")\n",
    "mol"
   ]
  },
  {
   "cell_type": "markdown",
   "metadata": {},
   "source": [
    "## Create data set"
   ]
  },
  {
   "cell_type": "code",
   "execution_count": 7,
   "metadata": {},
   "outputs": [],
   "source": [
    "class SolubilityDataset(InMemoryDataset):\n",
    "    \n",
    "    def __init__(\n",
    "        self, \n",
    "        tag: str,\n",
    "        transform: Optional[Callable] = None, \n",
    "        pre_transform: Optional[Callable] =None,\n",
    "        pre_filter: Optional[Callable] = None\n",
    "    ):\n",
    "        self.name = \"solubility\"\n",
    "        self.tag = tag\n",
    "        super().__init__(\"../data\", transform, pre_transform, pre_filter)\n",
    "        self.data, self.slices = torch.load(self.processed_paths[0])\n",
    "        \n",
    "    @property\n",
    "    def raw_dir(self) -> str:\n",
    "        return osp.join(self.root, self.name)\n",
    "\n",
    "    @property\n",
    "    def processed_dir(self) -> str:\n",
    "        return osp.join(self.root, self.name)\n",
    "        \n",
    "    @property\n",
    "    def raw_file_names(self):\n",
    "        return f\"ESOL_{self.tag}.csv\"\n",
    "    \n",
    "    @property\n",
    "    def processed_file_names(self):\n",
    "        return f\"ESOL_{self.tag}.pt\"\n",
    "        \n",
    "    def process(self):\n",
    "        df = pd.read_csv(self.raw_paths[0])\n",
    "        data_list = df[[\"smiles\", \"ESOL\"]].apply(\n",
    "            lambda row: createDataObjectFromSmiles(*row),\n",
    "            axis=1\n",
    "        ).tolist()\n",
    "        \n",
    "        data, slices = self.collate(data_list)\n",
    "        torch.save((data, slices), osp.join(self.processed_dir, self.processed_file_names))"
   ]
  },
  {
   "cell_type": "markdown",
   "metadata": {},
   "source": [
    "## Relational graph neural network (RGCN)"
   ]
  },
  {
   "cell_type": "markdown",
   "metadata": {},
   "source": [
    "The GNN architecture used to predict the solubility of molecules is a relational GNN. A RGNN model extends a standard GCN model by also using edge types in the node update function,\n",
    "\n",
    "$$\n",
    "h_v^{(l+1)} = ReLU\\left(\\sum_{r \\in R} \\sum_{u \\in N_v^r} W_r^{(l)} h_u^{(l)} + W_0^{(l)} h_v^{(l)}\\right),\n",
    "$$\n",
    "\n",
    "with $R$ the set of edge types and $W_r^{(l)}$ a weight matrix of edge type $r$ of layer $l$ with learnable \n",
    "parameters and $N_v^r$ is the set of neighboring atoms with edge type $r$."
   ]
  },
  {
   "cell_type": "code",
   "execution_count": 8,
   "metadata": {},
   "outputs": [],
   "source": [
    "class MLP(torch.nn.Module):\n",
    "    \n",
    "    def __init__(self, input_units, hidden_units):\n",
    "        super().__init__()\n",
    "        \n",
    "        self.lin1 = Linear(input_units, hidden_units)\n",
    "        self.lin2 = Linear(hidden_units, hidden_units)\n",
    "        self.lin3 = Linear(hidden_units, 1)\n",
    "        \n",
    "    def forward(self, x):\n",
    "        \n",
    "        h = self.lin1(x)\n",
    "        h = F.relu(h)\n",
    "        h = F.dropout(0.1)\n",
    "        \n",
    "        h = self.lin2(h)\n",
    "        h = F.relu(h)\n",
    "        h = F.dropout(0.1)\n",
    "        \n",
    "        h = self.lin3(h)\n",
    "        h = F.relu(h)\n",
    "        \n",
    "        return h\n"
   ]
  },
  {
   "cell_type": "code",
   "execution_count": 9,
   "metadata": {},
   "outputs": [],
   "source": [
    "class MolecularEmbedding(torch.nn.Module):\n",
    "    \n",
    "    def __init__(self, input_units):\n",
    "        super().__init__()\n",
    "        \n",
    "        self.lin1 = Linear(input_units, 1)\n",
    "        \n",
    "    def forward(self, x):\n",
    "        \n",
    "        # Compute weights for each node\n",
    "        omega = self.lin1(x)\n",
    "        omega = F.sigmoid(omega)\n",
    "        \n",
    "        # Compute molecular embedding by a weighted sum\n",
    "        return omega @ x"
   ]
  },
  {
   "cell_type": "code",
   "execution_count": 65,
   "metadata": {},
   "outputs": [],
   "source": [
    "class RGCN(torch.nn.Module):\n",
    "    \n",
    "    def __init__(self, num_node_features: int):\n",
    "        super().__init__()\n",
    "        \n",
    "        # Define layers\n",
    "        self.rgcn1 = RGCNConv(num_node_features, 256, 65, 65)\n",
    "        self.rgcn2 = RGCNConv(256, 256, 65, 65)\n",
    "        self.molecularEmbedding = MolecularEmbedding(256)\n",
    "        self.mlp = MLP(256, 64)\n",
    "        \n",
    "    def forward(self, x, edge_index, edge_attr):\n",
    "        \n",
    "        # Convert edge_attr to edge_type\n",
    "        edge_type = getEdgeTypes(edge_attr)\n",
    "        print(edge_type.dtype)\n",
    "        \n",
    "        # Pass through two RGCN layers\n",
    "        h = self.rgcn1(x, edge_index, edge_type)\n",
    "        h = F.relu(h)\n",
    "        h = F.dropout(0.5, learning=self.training)\n",
    "        \n",
    "        h = self.rgcn2(h, edge_index, edge_type)\n",
    "        h = F.relu(h)\n",
    "        h = F.dropout(0.5, learning=self.training)\n",
    "        \n",
    "        # Create molecular embedding\n",
    "        molecular_embedding = self.molecularEmbedding(h)\n",
    "        \n",
    "        # Pass through a three layer MLP to obtain prediction\n",
    "        y = self.mlp(molecular_embedding)\n",
    "        \n",
    "        return y"
   ]
  },
  {
   "cell_type": "markdown",
   "metadata": {},
   "source": [
    "## Training RGCN"
   ]
  },
  {
   "cell_type": "code",
   "execution_count": 11,
   "metadata": {},
   "outputs": [
    {
     "data": {
      "text/html": [
       "<div>\n",
       "<style scoped>\n",
       "    .dataframe tbody tr th:only-of-type {\n",
       "        vertical-align: middle;\n",
       "    }\n",
       "\n",
       "    .dataframe tbody tr th {\n",
       "        vertical-align: top;\n",
       "    }\n",
       "\n",
       "    .dataframe thead th {\n",
       "        text-align: right;\n",
       "    }\n",
       "</style>\n",
       "<table border=\"1\" class=\"dataframe\">\n",
       "  <thead>\n",
       "    <tr style=\"text-align: right;\">\n",
       "      <th></th>\n",
       "      <th>smiles</th>\n",
       "      <th>ESOL</th>\n",
       "      <th>group</th>\n",
       "    </tr>\n",
       "  </thead>\n",
       "  <tbody>\n",
       "    <tr>\n",
       "      <th>0</th>\n",
       "      <td>N#CC(OC1OC(COC2OC(CO)C(O)C(O)C2O)C(O)C(O)C1O)c...</td>\n",
       "      <td>-0.77</td>\n",
       "      <td>training</td>\n",
       "    </tr>\n",
       "    <tr>\n",
       "      <th>1</th>\n",
       "      <td>Cc1occc1C(=O)Nc1ccccc1</td>\n",
       "      <td>-3.30</td>\n",
       "      <td>training</td>\n",
       "    </tr>\n",
       "    <tr>\n",
       "      <th>2</th>\n",
       "      <td>CC(C)=CCCC(C)=CC=O</td>\n",
       "      <td>-2.06</td>\n",
       "      <td>training</td>\n",
       "    </tr>\n",
       "    <tr>\n",
       "      <th>3</th>\n",
       "      <td>c1ccc2c(c1)ccc1c2ccc2c3ccccc3ccc21</td>\n",
       "      <td>-7.87</td>\n",
       "      <td>training</td>\n",
       "    </tr>\n",
       "    <tr>\n",
       "      <th>4</th>\n",
       "      <td>c1ccsc1</td>\n",
       "      <td>-1.33</td>\n",
       "      <td>training</td>\n",
       "    </tr>\n",
       "  </tbody>\n",
       "</table>\n",
       "</div>"
      ],
      "text/plain": [
       "                                              smiles  ESOL     group\n",
       "0  N#CC(OC1OC(COC2OC(CO)C(O)C(O)C2O)C(O)C(O)C1O)c... -0.77  training\n",
       "1                             Cc1occc1C(=O)Nc1ccccc1 -3.30  training\n",
       "2                                 CC(C)=CCCC(C)=CC=O -2.06  training\n",
       "3                 c1ccc2c(c1)ccc1c2ccc2c3ccccc3ccc21 -7.87  training\n",
       "4                                            c1ccsc1 -1.33  training"
      ]
     },
     "execution_count": 11,
     "metadata": {},
     "output_type": "execute_result"
    }
   ],
   "source": [
    "data = pd.read_csv(\"../data/solubility/ESOL.csv\")\n",
    "data.head()"
   ]
  },
  {
   "cell_type": "code",
   "execution_count": 12,
   "metadata": {},
   "outputs": [],
   "source": [
    "train_data = data.query(\"group == 'training'\")\n",
    "test_data = data.query(\"group == 'test'\")\n",
    "val_data = data.query(\"group == 'valid'\")"
   ]
  },
  {
   "cell_type": "code",
   "execution_count": 13,
   "metadata": {},
   "outputs": [],
   "source": [
    "train_data.to_csv(\"../data/solubility/ESOL_train.csv\")\n",
    "test_data.to_csv(\"../data/solubility/ESOL_test.csv\")\n",
    "val_data.to_csv(\"../data/solubility/ESOL_val.csv\")"
   ]
  },
  {
   "cell_type": "code",
   "execution_count": 14,
   "metadata": {},
   "outputs": [],
   "source": [
    "train_data = SolubilityDataset(tag=\"train\")\n",
    "test_data = SolubilityDataset(tag=\"test\")\n",
    "val_data = SolubilityDataset(tag=\"val\")"
   ]
  },
  {
   "cell_type": "code",
   "execution_count": 28,
   "metadata": {},
   "outputs": [],
   "source": [
    "train_dataloader = DataLoader(train_data, batch_size=256)\n",
    "test_dataloader = DataLoader(test_data, batch_size=256)\n",
    "val_dataloader = DataLoader(val_data, batch_size=256)"
   ]
  },
  {
   "cell_type": "code",
   "execution_count": 29,
   "metadata": {},
   "outputs": [],
   "source": [
    "def train(loader, model, criterion, optimizer):\n",
    "    # Set model to train mode\n",
    "    model.train()\n",
    "    \n",
    "    for data in loader:\n",
    "        optimizer.zero_grad()\n",
    "        out = model(data.x, data.edge_index, data.edge_attr)\n",
    "        loss = criterion(out, data.y)\n",
    "        loss.backward()\n",
    "        optimizer.step()\n",
    "        \n",
    "def test(loader, model):\n",
    "    # Set model to test mode\n",
    "    model.eval()\n",
    "    \n",
    "    correct = 0\n",
    "    for data in loader:\n",
    "        out = model(data.x, data.edge_index)\n",
    "        pred = out.armax(dim=1)\n",
    "        correct += int((pred == data.y).sum())\n",
    "        \n",
    "    return correct/len(loader.dataset)"
   ]
  },
  {
   "cell_type": "code",
   "execution_count": 63,
   "metadata": {},
   "outputs": [],
   "source": [
    "model = RGCN(num_node_features=35)\n",
    "criterion = torch.nn.MSELoss()\n",
    "optimizer = torch.optim.Adam(model.parameters(), lr=0.003)"
   ]
  },
  {
   "cell_type": "code",
   "execution_count": 64,
   "metadata": {},
   "outputs": [
    {
     "name": "stdout",
     "output_type": "stream",
     "text": [
      "Epoch \t train_acc \t val_acc \t test_acc\n",
      "torch.int64\n"
     ]
    },
    {
     "ename": "RuntimeError",
     "evalue": "Expected object of scalar type Long but got scalar type Float for argument #2 'mat2' in call to _th_mm_out",
     "output_type": "error",
     "traceback": [
      "\u001b[0;31m---------------------------------------------------------------------------\u001b[0m",
      "\u001b[0;31mRuntimeError\u001b[0m                              Traceback (most recent call last)",
      "\u001b[0;32m<ipython-input-64-427094d30725>\u001b[0m in \u001b[0;36m<module>\u001b[0;34m\u001b[0m\n\u001b[1;32m      1\u001b[0m \u001b[0mprint\u001b[0m\u001b[0;34m(\u001b[0m\u001b[0;34m\"Epoch \\t train_acc \\t val_acc \\t test_acc\"\u001b[0m\u001b[0;34m)\u001b[0m\u001b[0;34m\u001b[0m\u001b[0;34m\u001b[0m\u001b[0m\n\u001b[1;32m      2\u001b[0m \u001b[0;32mfor\u001b[0m \u001b[0mepoch\u001b[0m \u001b[0;32min\u001b[0m \u001b[0mrange\u001b[0m\u001b[0;34m(\u001b[0m\u001b[0;36m500\u001b[0m\u001b[0;34m)\u001b[0m\u001b[0;34m:\u001b[0m\u001b[0;34m\u001b[0m\u001b[0;34m\u001b[0m\u001b[0m\n\u001b[0;32m----> 3\u001b[0;31m     \u001b[0mtrain\u001b[0m\u001b[0;34m(\u001b[0m\u001b[0mtrain_dataloader\u001b[0m\u001b[0;34m,\u001b[0m \u001b[0mmodel\u001b[0m\u001b[0;34m,\u001b[0m \u001b[0mcriterion\u001b[0m\u001b[0;34m,\u001b[0m \u001b[0moptimizer\u001b[0m\u001b[0;34m)\u001b[0m\u001b[0;34m\u001b[0m\u001b[0;34m\u001b[0m\u001b[0m\n\u001b[0m\u001b[1;32m      4\u001b[0m \u001b[0;34m\u001b[0m\u001b[0m\n\u001b[1;32m      5\u001b[0m     \u001b[0mtrain_acc\u001b[0m \u001b[0;34m=\u001b[0m \u001b[0mtest\u001b[0m\u001b[0;34m(\u001b[0m\u001b[0mtrain_dataloader\u001b[0m\u001b[0;34m,\u001b[0m \u001b[0mmodel\u001b[0m\u001b[0;34m)\u001b[0m\u001b[0;34m\u001b[0m\u001b[0;34m\u001b[0m\u001b[0m\n",
      "\u001b[0;32m<ipython-input-29-70df48166a67>\u001b[0m in \u001b[0;36mtrain\u001b[0;34m(loader, model, criterion, optimizer)\u001b[0m\n\u001b[1;32m      5\u001b[0m     \u001b[0;32mfor\u001b[0m \u001b[0mdata\u001b[0m \u001b[0;32min\u001b[0m \u001b[0mloader\u001b[0m\u001b[0;34m:\u001b[0m\u001b[0;34m\u001b[0m\u001b[0;34m\u001b[0m\u001b[0m\n\u001b[1;32m      6\u001b[0m         \u001b[0moptimizer\u001b[0m\u001b[0;34m.\u001b[0m\u001b[0mzero_grad\u001b[0m\u001b[0;34m(\u001b[0m\u001b[0;34m)\u001b[0m\u001b[0;34m\u001b[0m\u001b[0;34m\u001b[0m\u001b[0m\n\u001b[0;32m----> 7\u001b[0;31m         \u001b[0mout\u001b[0m \u001b[0;34m=\u001b[0m \u001b[0mmodel\u001b[0m\u001b[0;34m(\u001b[0m\u001b[0mdata\u001b[0m\u001b[0;34m.\u001b[0m\u001b[0mx\u001b[0m\u001b[0;34m,\u001b[0m \u001b[0mdata\u001b[0m\u001b[0;34m.\u001b[0m\u001b[0medge_index\u001b[0m\u001b[0;34m,\u001b[0m \u001b[0mdata\u001b[0m\u001b[0;34m.\u001b[0m\u001b[0medge_attr\u001b[0m\u001b[0;34m)\u001b[0m\u001b[0;34m\u001b[0m\u001b[0;34m\u001b[0m\u001b[0m\n\u001b[0m\u001b[1;32m      8\u001b[0m         \u001b[0mloss\u001b[0m \u001b[0;34m=\u001b[0m \u001b[0mcriterion\u001b[0m\u001b[0;34m(\u001b[0m\u001b[0mout\u001b[0m\u001b[0;34m,\u001b[0m \u001b[0mdata\u001b[0m\u001b[0;34m.\u001b[0m\u001b[0my\u001b[0m\u001b[0;34m)\u001b[0m\u001b[0;34m\u001b[0m\u001b[0;34m\u001b[0m\u001b[0m\n\u001b[1;32m      9\u001b[0m         \u001b[0mloss\u001b[0m\u001b[0;34m.\u001b[0m\u001b[0mbackward\u001b[0m\u001b[0;34m(\u001b[0m\u001b[0;34m)\u001b[0m\u001b[0;34m\u001b[0m\u001b[0;34m\u001b[0m\u001b[0m\n",
      "\u001b[0;32m/apps/gent/RHEL8/cascadelake-ib/software/PyTorch/1.4.0-foss-2019b-Python-3.7.4/lib/python3.7/site-packages/torch/nn/modules/module.py\u001b[0m in \u001b[0;36m__call__\u001b[0;34m(self, *input, **kwargs)\u001b[0m\n\u001b[1;32m    530\u001b[0m             \u001b[0mresult\u001b[0m \u001b[0;34m=\u001b[0m \u001b[0mself\u001b[0m\u001b[0;34m.\u001b[0m\u001b[0m_slow_forward\u001b[0m\u001b[0;34m(\u001b[0m\u001b[0;34m*\u001b[0m\u001b[0minput\u001b[0m\u001b[0;34m,\u001b[0m \u001b[0;34m**\u001b[0m\u001b[0mkwargs\u001b[0m\u001b[0;34m)\u001b[0m\u001b[0;34m\u001b[0m\u001b[0;34m\u001b[0m\u001b[0m\n\u001b[1;32m    531\u001b[0m         \u001b[0;32melse\u001b[0m\u001b[0;34m:\u001b[0m\u001b[0;34m\u001b[0m\u001b[0;34m\u001b[0m\u001b[0m\n\u001b[0;32m--> 532\u001b[0;31m             \u001b[0mresult\u001b[0m \u001b[0;34m=\u001b[0m \u001b[0mself\u001b[0m\u001b[0;34m.\u001b[0m\u001b[0mforward\u001b[0m\u001b[0;34m(\u001b[0m\u001b[0;34m*\u001b[0m\u001b[0minput\u001b[0m\u001b[0;34m,\u001b[0m \u001b[0;34m**\u001b[0m\u001b[0mkwargs\u001b[0m\u001b[0;34m)\u001b[0m\u001b[0;34m\u001b[0m\u001b[0;34m\u001b[0m\u001b[0m\n\u001b[0m\u001b[1;32m    533\u001b[0m         \u001b[0;32mfor\u001b[0m \u001b[0mhook\u001b[0m \u001b[0;32min\u001b[0m \u001b[0mself\u001b[0m\u001b[0;34m.\u001b[0m\u001b[0m_forward_hooks\u001b[0m\u001b[0;34m.\u001b[0m\u001b[0mvalues\u001b[0m\u001b[0;34m(\u001b[0m\u001b[0;34m)\u001b[0m\u001b[0;34m:\u001b[0m\u001b[0;34m\u001b[0m\u001b[0;34m\u001b[0m\u001b[0m\n\u001b[1;32m    534\u001b[0m             \u001b[0mhook_result\u001b[0m \u001b[0;34m=\u001b[0m \u001b[0mhook\u001b[0m\u001b[0;34m(\u001b[0m\u001b[0mself\u001b[0m\u001b[0;34m,\u001b[0m \u001b[0minput\u001b[0m\u001b[0;34m,\u001b[0m \u001b[0mresult\u001b[0m\u001b[0;34m)\u001b[0m\u001b[0;34m\u001b[0m\u001b[0;34m\u001b[0m\u001b[0m\n",
      "\u001b[0;32m<ipython-input-62-3c652049679f>\u001b[0m in \u001b[0;36mforward\u001b[0;34m(self, x, edge_index, edge_attr)\u001b[0m\n\u001b[1;32m     17\u001b[0m \u001b[0;34m\u001b[0m\u001b[0m\n\u001b[1;32m     18\u001b[0m         \u001b[0;31m# Pass through two RGCN layers\u001b[0m\u001b[0;34m\u001b[0m\u001b[0;34m\u001b[0m\u001b[0;34m\u001b[0m\u001b[0m\n\u001b[0;32m---> 19\u001b[0;31m         \u001b[0mh\u001b[0m \u001b[0;34m=\u001b[0m \u001b[0mself\u001b[0m\u001b[0;34m.\u001b[0m\u001b[0mrgcn1\u001b[0m\u001b[0;34m(\u001b[0m\u001b[0mx\u001b[0m\u001b[0;34m,\u001b[0m \u001b[0medge_index\u001b[0m\u001b[0;34m,\u001b[0m \u001b[0medge_type\u001b[0m\u001b[0;34m)\u001b[0m\u001b[0;34m\u001b[0m\u001b[0;34m\u001b[0m\u001b[0m\n\u001b[0m\u001b[1;32m     20\u001b[0m         \u001b[0mh\u001b[0m \u001b[0;34m=\u001b[0m \u001b[0mF\u001b[0m\u001b[0;34m.\u001b[0m\u001b[0mrelu\u001b[0m\u001b[0;34m(\u001b[0m\u001b[0mh\u001b[0m\u001b[0;34m)\u001b[0m\u001b[0;34m\u001b[0m\u001b[0;34m\u001b[0m\u001b[0m\n\u001b[1;32m     21\u001b[0m         \u001b[0mh\u001b[0m \u001b[0;34m=\u001b[0m \u001b[0mF\u001b[0m\u001b[0;34m.\u001b[0m\u001b[0mdropout\u001b[0m\u001b[0;34m(\u001b[0m\u001b[0;36m0.5\u001b[0m\u001b[0;34m,\u001b[0m \u001b[0mlearning\u001b[0m\u001b[0;34m=\u001b[0m\u001b[0mself\u001b[0m\u001b[0;34m.\u001b[0m\u001b[0mtraining\u001b[0m\u001b[0;34m)\u001b[0m\u001b[0;34m\u001b[0m\u001b[0;34m\u001b[0m\u001b[0m\n",
      "\u001b[0;32m/apps/gent/RHEL8/cascadelake-ib/software/PyTorch/1.4.0-foss-2019b-Python-3.7.4/lib/python3.7/site-packages/torch/nn/modules/module.py\u001b[0m in \u001b[0;36m__call__\u001b[0;34m(self, *input, **kwargs)\u001b[0m\n\u001b[1;32m    530\u001b[0m             \u001b[0mresult\u001b[0m \u001b[0;34m=\u001b[0m \u001b[0mself\u001b[0m\u001b[0;34m.\u001b[0m\u001b[0m_slow_forward\u001b[0m\u001b[0;34m(\u001b[0m\u001b[0;34m*\u001b[0m\u001b[0minput\u001b[0m\u001b[0;34m,\u001b[0m \u001b[0;34m**\u001b[0m\u001b[0mkwargs\u001b[0m\u001b[0;34m)\u001b[0m\u001b[0;34m\u001b[0m\u001b[0;34m\u001b[0m\u001b[0m\n\u001b[1;32m    531\u001b[0m         \u001b[0;32melse\u001b[0m\u001b[0;34m:\u001b[0m\u001b[0;34m\u001b[0m\u001b[0;34m\u001b[0m\u001b[0m\n\u001b[0;32m--> 532\u001b[0;31m             \u001b[0mresult\u001b[0m \u001b[0;34m=\u001b[0m \u001b[0mself\u001b[0m\u001b[0;34m.\u001b[0m\u001b[0mforward\u001b[0m\u001b[0;34m(\u001b[0m\u001b[0;34m*\u001b[0m\u001b[0minput\u001b[0m\u001b[0;34m,\u001b[0m \u001b[0;34m**\u001b[0m\u001b[0mkwargs\u001b[0m\u001b[0;34m)\u001b[0m\u001b[0;34m\u001b[0m\u001b[0;34m\u001b[0m\u001b[0m\n\u001b[0m\u001b[1;32m    533\u001b[0m         \u001b[0;32mfor\u001b[0m \u001b[0mhook\u001b[0m \u001b[0;32min\u001b[0m \u001b[0mself\u001b[0m\u001b[0;34m.\u001b[0m\u001b[0m_forward_hooks\u001b[0m\u001b[0;34m.\u001b[0m\u001b[0mvalues\u001b[0m\u001b[0;34m(\u001b[0m\u001b[0;34m)\u001b[0m\u001b[0;34m:\u001b[0m\u001b[0;34m\u001b[0m\u001b[0;34m\u001b[0m\u001b[0m\n\u001b[1;32m    534\u001b[0m             \u001b[0mhook_result\u001b[0m \u001b[0;34m=\u001b[0m \u001b[0mhook\u001b[0m\u001b[0;34m(\u001b[0m\u001b[0mself\u001b[0m\u001b[0;34m,\u001b[0m \u001b[0minput\u001b[0m\u001b[0;34m,\u001b[0m \u001b[0mresult\u001b[0m\u001b[0;34m)\u001b[0m\u001b[0;34m\u001b[0m\u001b[0;34m\u001b[0m\u001b[0m\n",
      "\u001b[0;32m/apps/gent/RHEL8/cascadelake-ib/software/PyTorch-Geometric/1.4.2-foss-2019b-Python-3.7.4-PyTorch-1.4.0/lib/python3.7/site-packages/torch_geometric/nn/conv/rgcn_conv.py\u001b[0m in \u001b[0;36mforward\u001b[0;34m(self, x, edge_index, edge_type, edge_norm, size)\u001b[0m\n\u001b[1;32m     68\u001b[0m         \u001b[0;34m\"\"\"\"\"\"\u001b[0m\u001b[0;34m\u001b[0m\u001b[0;34m\u001b[0m\u001b[0m\n\u001b[1;32m     69\u001b[0m         return self.propagate(edge_index, size=size, x=x, edge_type=edge_type,\n\u001b[0;32m---> 70\u001b[0;31m                               edge_norm=edge_norm)\n\u001b[0m\u001b[1;32m     71\u001b[0m \u001b[0;34m\u001b[0m\u001b[0m\n\u001b[1;32m     72\u001b[0m     \u001b[0;32mdef\u001b[0m \u001b[0mmessage\u001b[0m\u001b[0;34m(\u001b[0m\u001b[0mself\u001b[0m\u001b[0;34m,\u001b[0m \u001b[0mx_j\u001b[0m\u001b[0;34m,\u001b[0m \u001b[0medge_index_j\u001b[0m\u001b[0;34m,\u001b[0m \u001b[0medge_type\u001b[0m\u001b[0;34m,\u001b[0m \u001b[0medge_norm\u001b[0m\u001b[0;34m)\u001b[0m\u001b[0;34m:\u001b[0m\u001b[0;34m\u001b[0m\u001b[0;34m\u001b[0m\u001b[0m\n",
      "\u001b[0;32m/apps/gent/RHEL8/cascadelake-ib/software/PyTorch-Geometric/1.4.2-foss-2019b-Python-3.7.4-PyTorch-1.4.0/lib/python3.7/site-packages/torch_geometric/nn/conv/message_passing.py\u001b[0m in \u001b[0;36mpropagate\u001b[0;34m(self, edge_index, size, **kwargs)\u001b[0m\n\u001b[1;32m    168\u001b[0m \u001b[0;34m\u001b[0m\u001b[0m\n\u001b[1;32m    169\u001b[0m         \u001b[0mmsg_kwargs\u001b[0m \u001b[0;34m=\u001b[0m \u001b[0mself\u001b[0m\u001b[0;34m.\u001b[0m\u001b[0m__distribute__\u001b[0m\u001b[0;34m(\u001b[0m\u001b[0mself\u001b[0m\u001b[0;34m.\u001b[0m\u001b[0m__msg_params__\u001b[0m\u001b[0;34m,\u001b[0m \u001b[0mkwargs\u001b[0m\u001b[0;34m)\u001b[0m\u001b[0;34m\u001b[0m\u001b[0;34m\u001b[0m\u001b[0m\n\u001b[0;32m--> 170\u001b[0;31m         \u001b[0mout\u001b[0m \u001b[0;34m=\u001b[0m \u001b[0mself\u001b[0m\u001b[0;34m.\u001b[0m\u001b[0mmessage\u001b[0m\u001b[0;34m(\u001b[0m\u001b[0;34m**\u001b[0m\u001b[0mmsg_kwargs\u001b[0m\u001b[0;34m)\u001b[0m\u001b[0;34m\u001b[0m\u001b[0;34m\u001b[0m\u001b[0m\n\u001b[0m\u001b[1;32m    171\u001b[0m \u001b[0;34m\u001b[0m\u001b[0m\n\u001b[1;32m    172\u001b[0m         \u001b[0maggr_kwargs\u001b[0m \u001b[0;34m=\u001b[0m \u001b[0mself\u001b[0m\u001b[0;34m.\u001b[0m\u001b[0m__distribute__\u001b[0m\u001b[0;34m(\u001b[0m\u001b[0mself\u001b[0m\u001b[0;34m.\u001b[0m\u001b[0m__aggr_params__\u001b[0m\u001b[0;34m,\u001b[0m \u001b[0mkwargs\u001b[0m\u001b[0;34m)\u001b[0m\u001b[0;34m\u001b[0m\u001b[0;34m\u001b[0m\u001b[0m\n",
      "\u001b[0;32m/apps/gent/RHEL8/cascadelake-ib/software/PyTorch-Geometric/1.4.2-foss-2019b-Python-3.7.4-PyTorch-1.4.0/lib/python3.7/site-packages/torch_geometric/nn/conv/rgcn_conv.py\u001b[0m in \u001b[0;36mmessage\u001b[0;34m(self, x_j, edge_index_j, edge_type, edge_norm)\u001b[0m\n\u001b[1;32m     82\u001b[0m             \u001b[0mw\u001b[0m \u001b[0;34m=\u001b[0m \u001b[0mw\u001b[0m\u001b[0;34m.\u001b[0m\u001b[0mview\u001b[0m\u001b[0;34m(\u001b[0m\u001b[0mself\u001b[0m\u001b[0;34m.\u001b[0m\u001b[0mnum_relations\u001b[0m\u001b[0;34m,\u001b[0m \u001b[0mself\u001b[0m\u001b[0;34m.\u001b[0m\u001b[0min_channels\u001b[0m\u001b[0;34m,\u001b[0m \u001b[0mself\u001b[0m\u001b[0;34m.\u001b[0m\u001b[0mout_channels\u001b[0m\u001b[0;34m)\u001b[0m\u001b[0;34m\u001b[0m\u001b[0;34m\u001b[0m\u001b[0m\n\u001b[1;32m     83\u001b[0m             \u001b[0mw\u001b[0m \u001b[0;34m=\u001b[0m \u001b[0mtorch\u001b[0m\u001b[0;34m.\u001b[0m\u001b[0mindex_select\u001b[0m\u001b[0;34m(\u001b[0m\u001b[0mw\u001b[0m\u001b[0;34m,\u001b[0m \u001b[0;36m0\u001b[0m\u001b[0;34m,\u001b[0m \u001b[0medge_type\u001b[0m\u001b[0;34m)\u001b[0m\u001b[0;34m\u001b[0m\u001b[0;34m\u001b[0m\u001b[0m\n\u001b[0;32m---> 84\u001b[0;31m             \u001b[0mout\u001b[0m \u001b[0;34m=\u001b[0m \u001b[0mtorch\u001b[0m\u001b[0;34m.\u001b[0m\u001b[0mbmm\u001b[0m\u001b[0;34m(\u001b[0m\u001b[0mx_j\u001b[0m\u001b[0;34m.\u001b[0m\u001b[0munsqueeze\u001b[0m\u001b[0;34m(\u001b[0m\u001b[0;36m1\u001b[0m\u001b[0;34m)\u001b[0m\u001b[0;34m,\u001b[0m \u001b[0mw\u001b[0m\u001b[0;34m)\u001b[0m\u001b[0;34m.\u001b[0m\u001b[0msqueeze\u001b[0m\u001b[0;34m(\u001b[0m\u001b[0;34m-\u001b[0m\u001b[0;36m2\u001b[0m\u001b[0;34m)\u001b[0m\u001b[0;34m\u001b[0m\u001b[0;34m\u001b[0m\u001b[0m\n\u001b[0m\u001b[1;32m     85\u001b[0m \u001b[0;34m\u001b[0m\u001b[0m\n\u001b[1;32m     86\u001b[0m         \u001b[0;32mreturn\u001b[0m \u001b[0mout\u001b[0m \u001b[0;32mif\u001b[0m \u001b[0medge_norm\u001b[0m \u001b[0;32mis\u001b[0m \u001b[0;32mNone\u001b[0m \u001b[0;32melse\u001b[0m \u001b[0mout\u001b[0m \u001b[0;34m*\u001b[0m \u001b[0medge_norm\u001b[0m\u001b[0;34m.\u001b[0m\u001b[0mview\u001b[0m\u001b[0;34m(\u001b[0m\u001b[0;34m-\u001b[0m\u001b[0;36m1\u001b[0m\u001b[0;34m,\u001b[0m \u001b[0;36m1\u001b[0m\u001b[0;34m)\u001b[0m\u001b[0;34m\u001b[0m\u001b[0;34m\u001b[0m\u001b[0m\n",
      "\u001b[0;31mRuntimeError\u001b[0m: Expected object of scalar type Long but got scalar type Float for argument #2 'mat2' in call to _th_mm_out"
     ]
    }
   ],
   "source": [
    "print(\"Epoch \\t train_acc \\t val_acc \\t test_acc\")\n",
    "for epoch in range(500):\n",
    "    train(train_dataloader, model, criterion, optimizer)\n",
    "    \n",
    "    train_acc = test(train_dataloader, model)\n",
    "    vall_acc = test(val_dataloader, model)\n",
    "    test_acc = test(test_dataloader, model)\n",
    "    \n",
    "    if epoch % 10 == 0:\n",
    "        print(f\"{epoch} \\t {train_acc} \\t {val_acc} \\t {test_acc}\")"
   ]
  },
  {
   "cell_type": "code",
   "execution_count": null,
   "metadata": {},
   "outputs": [],
   "source": []
  },
  {
   "cell_type": "code",
   "execution_count": 93,
   "metadata": {},
   "outputs": [
    {
     "name": "stdout",
     "output_type": "stream",
     "text": [
      "Batch(batch=[3374], edge_attr=[6920, 10], edge_index=[2, 6920], smiles=[256], x=[3374, 35], y=[256])\n",
      "Batch(batch=[3506], edge_attr=[7270, 10], edge_index=[2, 7270], smiles=[256], x=[3506, 35], y=[256])\n",
      "Batch(batch=[3478], edge_attr=[7164, 10], edge_index=[2, 7164], smiles=[256], x=[3478, 35], y=[256])\n",
      "Batch(batch=[1593], edge_attr=[3266, 10], edge_index=[2, 3266], smiles=[120], x=[1593, 35], y=[120])\n"
     ]
    }
   ],
   "source": [
    "for data in train_dataloader:\n",
    "    print(data)"
   ]
  },
  {
   "cell_type": "code",
   "execution_count": null,
   "metadata": {},
   "outputs": [],
   "source": []
  }
 ],
 "metadata": {
  "kernelspec": {
   "display_name": "Python 3",
   "language": "python",
   "name": "python3"
  },
  "language_info": {
   "codemirror_mode": {
    "name": "ipython",
    "version": 3
   },
   "file_extension": ".py",
   "mimetype": "text/x-python",
   "name": "python",
   "nbconvert_exporter": "python",
   "pygments_lexer": "ipython3",
   "version": "3.7.4"
  }
 },
 "nbformat": 4,
 "nbformat_minor": 5
}
