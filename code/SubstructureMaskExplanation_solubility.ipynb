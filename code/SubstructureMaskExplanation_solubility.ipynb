{
 "cells": [
  {
   "cell_type": "code",
   "execution_count": 77,
   "metadata": {},
   "outputs": [],
   "source": [
    "# Data science packages\n",
    "import pandas as pd \n",
    "\n",
    "# Chemoinformatics packages\n",
    "from rdkit import Chem\n",
    "from rdkit.Chem import PeriodicTable\n",
    "\n",
    "# Graph neural netowrks packages\n",
    "import torch\n",
    "from torch.nn import Linear\n",
    "import torch.nn.functional as F\n",
    "from torch_geometric.nn import RGCNConv\n",
    "from torch_geometric.data import DataLoader"
   ]
  },
  {
   "cell_type": "markdown",
   "metadata": {},
   "source": [
    "## Feature vectors"
   ]
  },
  {
   "cell_type": "code",
   "execution_count": 34,
   "metadata": {},
   "outputs": [],
   "source": [
    "def oneHotEncoding(x, values):\n",
    "    \"\"\"\n",
    "    Helper function to encode the given value as a one-hot vector\n",
    "\n",
    "    :param x: value to encode\n",
    "    :param values: encoding vector, i.e. contains every possible values of x\n",
    "    \"\"\"\n",
    "\n",
    "    return [int(x == value) for value in values]"
   ]
  },
  {
   "cell_type": "code",
   "execution_count": 32,
   "metadata": {},
   "outputs": [],
   "source": [
    "def getAtomFeatureVector(atom):\n",
    "\n",
    "    # Setup one-hot encoding vectors\n",
    "    atoms = [\"B\", \"C\", \"N\", \"O\", \"F\", \"Si\", \"P\", \"S\", \"As\", \"Se\", \"Br\", \"Te\", \"I\", \"At\"]\n",
    "    degrees = list(range(6))\n",
    "    hybridizations = [\"sp\", \"sp2\", \"sp3\", \"sp3d\", \"sp3d2\", \"other\"]\n",
    "    hydrogens = list(range(5))\n",
    "    chirality_types = [\"R\", \"S\"]\n",
    "    \n",
    "#     atom_encoding = [\n",
    "#         [*[0]*(len(atoms)-1) + [1]] \n",
    "#         if atom.IsMetal()\n",
    "#         else oneHotEncoding(atom.GetSymbol(), atoms)\n",
    "#     ]\n",
    "\n",
    "    return [\n",
    "        *oneHotEncoding(atom.GetSymbol(), atoms),\n",
    "        *oneHotEncoding(atom.GetDegree(), degrees),\n",
    "        atom.GetFormalCharge(),\n",
    "        *oneHotEncoding(atom.GetHybridization(), hybridizations),\n",
    "        *oneHotEncoding(atom.GetTotalNumHs(), hydrogens),\n",
    "        int(atom.GetChiralTag()),\n",
    "        *oneHotEncoding(atom.GetChiralTag(), chirality_types)\n",
    "    ]"
   ]
  },
  {
   "cell_type": "code",
   "execution_count": 45,
   "metadata": {},
   "outputs": [],
   "source": [
    "def getBondFeatureVecotr(bond):\n",
    "    \n",
    "    # Setup one-hot encoding vectors\n",
    "    bond_types = [\"single\", \"double\", \"triple\", \"aromatic\"]\n",
    "    stereo_types = [\"StereoNone\", \"StereoAny\", \"StereoZ\", \"StereoE\"]\n",
    "    \n",
    "    return [\n",
    "        *oneHotEncoding(bond.GetBondType(), bond_types),\n",
    "        int(bond.GetIsConjugated()),\n",
    "        int(bond.IsInRing()),\n",
    "        *oneHotEncoding(bond.GetStereo(), stereo_types)\n",
    "    ]"
   ]
  },
  {
   "cell_type": "code",
   "execution_count": 26,
   "metadata": {},
   "outputs": [
    {
     "data": {
      "image/png": "[encoded data removed]",
      "text/plain": [
       "<rdkit.Chem.rdchem.Mol at 0x145f4ede1c60>"
      ]
     },
     "execution_count": 26,
     "metadata": {},
     "output_type": "execute_result"
    }
   ],
   "source": [
    "mol = Chem.MolFromSmiles(\"CC1CCC(C(C1)O)C(C)C\")\n",
    "mol"
   ]
  },
  {
   "cell_type": "markdown",
   "metadata": {},
   "source": [
    "## Relational graph neural network (RGCN)"
   ]
  },
  {
   "cell_type": "markdown",
   "metadata": {},
   "source": [
    "The GNN architecture used to predict the solubility of molecules is a relational GNN. A RGNN model extends a standard GCN model by also using edge types in the node update function,\n",
    "\n",
    "$$\n",
    "h_v^{(l+1)} = ReLU\\left(\\sum_{r \\in R} \\sum_{u \\in N_v^r} W_r^{(l)} h_u^{(l)} + W_0^{(l)} h_v^{(l)}\\right),\n",
    "$$\n",
    "\n",
    "with $R$ the set of edge types and $W_r^{(l)}$ a weight matrix of edge type $r$ of layer $l$ with learnable \n",
    "parameters and $N_v^r$ is the set of neighboring atoms with edge type $r$."
   ]
  },
  {
   "cell_type": "code",
   "execution_count": null,
   "metadata": {},
   "outputs": [],
   "source": [
    "class MLP(torch.nn.Module):\n",
    "    \n",
    "    def __init__(self, input_units, hidden_units):\n",
    "        super().__init__()\n",
    "        \n",
    "        self.lin1 = Linear(input_units, hidden_units)\n",
    "        self.lin2 = Linear(hidden_units, hidden_units)\n",
    "        self.lin3 = Linear(hidden_units, dataset.num_classes)\n",
    "        \n",
    "    def forward(self, x):\n",
    "        \n",
    "        h = self.lin1(x)\n",
    "        h = F.relu(h)\n",
    "        h = F.dropout(0.1)\n",
    "        \n",
    "        h = self.lin2(h)\n",
    "        h = F.relu(h)\n",
    "        h = F.dropout(0.1)\n",
    "        \n",
    "        h = self.lin3(h)\n",
    "        h = F.relu(h)\n",
    "        \n",
    "        return h\n"
   ]
  },
  {
   "cell_type": "code",
   "execution_count": 60,
   "metadata": {},
   "outputs": [],
   "source": [
    "class MolecularEmbedding(torch.nn.Module):\n",
    "    \n",
    "    def __init__(self, input_units):\n",
    "        super().__init()\n",
    "        \n",
    "        self.lin1 = Linear(input_units, dataset.num_nodes)\n",
    "        \n",
    "    def forward(self, x):\n",
    "        \n",
    "        # Compute weights for each node\n",
    "        omega = self.lin1(x)\n",
    "        omega = F.sigmoid(omega)\n",
    "        \n",
    "        # Compute molecular embedding by a weighted sum\n",
    "        return omega @ x"
   ]
  },
  {
   "cell_type": "code",
   "execution_count": 61,
   "metadata": {},
   "outputs": [],
   "source": [
    "class RGCN(torch.nn.Module):\n",
    "    \n",
    "    def __init__(self):\n",
    "        super().__init__()\n",
    "        \n",
    "        # Define layers\n",
    "        self.rgcn1 = RGCNConv(dataset.num_node_features, 256, 64)\n",
    "        self.rgcn2 = RGCNConv(256, 256, 64)\n",
    "        self.molecularEmbedding = MolecularEmbedding(256)\n",
    "        self.mlp = MLP(256, 64)\n",
    "        \n",
    "    def forward(self, x, edge_index):\n",
    "        \n",
    "        # Pass through two RGCN layers\n",
    "        h = self.rgcn1(x, edge_index)\n",
    "        h = F.relu(h)\n",
    "        h = F.dropout(0.5, learning=self.training)\n",
    "        \n",
    "        h = self.rgcn2(h, edge_index)\n",
    "        h = F.relu(h)\n",
    "        h = F.dropout(0.5, learning=self.training)\n",
    "        \n",
    "        # Create molecular embedding\n",
    "        molecular_embedding = self.molecularEmbedding(h)\n",
    "        \n",
    "        # Pass through a three layer MLP to obtain prediction\n",
    "        y = self.mlp(molecular_embedding)\n",
    "        \n",
    "        return y"
   ]
  },
  {
   "cell_type": "markdown",
   "metadata": {},
   "source": [
    "## Training RGCN"
   ]
  },
  {
   "cell_type": "code",
   "execution_count": 62,
   "metadata": {},
   "outputs": [
    {
     "data": {
      "text/html": [
       "<div>\n",
       "<style scoped>\n",
       "    .dataframe tbody tr th:only-of-type {\n",
       "        vertical-align: middle;\n",
       "    }\n",
       "\n",
       "    .dataframe tbody tr th {\n",
       "        vertical-align: top;\n",
       "    }\n",
       "\n",
       "    .dataframe thead th {\n",
       "        text-align: right;\n",
       "    }\n",
       "</style>\n",
       "<table border=\"1\" class=\"dataframe\">\n",
       "  <thead>\n",
       "    <tr style=\"text-align: right;\">\n",
       "      <th></th>\n",
       "      <th>smiles</th>\n",
       "      <th>ESOL</th>\n",
       "      <th>group</th>\n",
       "    </tr>\n",
       "  </thead>\n",
       "  <tbody>\n",
       "    <tr>\n",
       "      <th>0</th>\n",
       "      <td>N#CC(OC1OC(COC2OC(CO)C(O)C(O)C2O)C(O)C(O)C1O)c...</td>\n",
       "      <td>-0.77</td>\n",
       "      <td>training</td>\n",
       "    </tr>\n",
       "    <tr>\n",
       "      <th>1</th>\n",
       "      <td>Cc1occc1C(=O)Nc1ccccc1</td>\n",
       "      <td>-3.30</td>\n",
       "      <td>training</td>\n",
       "    </tr>\n",
       "    <tr>\n",
       "      <th>2</th>\n",
       "      <td>CC(C)=CCCC(C)=CC=O</td>\n",
       "      <td>-2.06</td>\n",
       "      <td>training</td>\n",
       "    </tr>\n",
       "    <tr>\n",
       "      <th>3</th>\n",
       "      <td>c1ccc2c(c1)ccc1c2ccc2c3ccccc3ccc21</td>\n",
       "      <td>-7.87</td>\n",
       "      <td>training</td>\n",
       "    </tr>\n",
       "    <tr>\n",
       "      <th>4</th>\n",
       "      <td>c1ccsc1</td>\n",
       "      <td>-1.33</td>\n",
       "      <td>training</td>\n",
       "    </tr>\n",
       "  </tbody>\n",
       "</table>\n",
       "</div>"
      ],
      "text/plain": [
       "                                              smiles  ESOL     group\n",
       "0  N#CC(OC1OC(COC2OC(CO)C(O)C(O)C2O)C(O)C(O)C1O)c... -0.77  training\n",
       "1                             Cc1occc1C(=O)Nc1ccccc1 -3.30  training\n",
       "2                                 CC(C)=CCCC(C)=CC=O -2.06  training\n",
       "3                 c1ccc2c(c1)ccc1c2ccc2c3ccccc3ccc21 -7.87  training\n",
       "4                                            c1ccsc1 -1.33  training"
      ]
     },
     "execution_count": 62,
     "metadata": {},
     "output_type": "execute_result"
    }
   ],
   "source": [
    "data = pd.read_csv(\"../data/ESOL.csv\")\n",
    "data.head()"
   ]
  },
  {
   "cell_type": "code",
   "execution_count": 70,
   "metadata": {},
   "outputs": [],
   "source": [
    "train_data = data.query(\"group == 'training'\")\n",
    "test_data = data.query(\"group == 'test'\")\n",
    "val_data = data.query(\"group == 'valid'\")"
   ]
  },
  {
   "cell_type": "code",
   "execution_count": 74,
   "metadata": {},
   "outputs": [
    {
     "data": {
      "text/plain": [
       "(888, 3)"
      ]
     },
     "execution_count": 74,
     "metadata": {},
     "output_type": "execute_result"
    }
   ],
   "source": [
    "train_data.shape"
   ]
  },
  {
   "cell_type": "code",
   "execution_count": 75,
   "metadata": {},
   "outputs": [
    {
     "data": {
      "text/plain": [
       "(112, 3)"
      ]
     },
     "execution_count": 75,
     "metadata": {},
     "output_type": "execute_result"
    }
   ],
   "source": [
    "test_data.shape"
   ]
  },
  {
   "cell_type": "code",
   "execution_count": 76,
   "metadata": {},
   "outputs": [
    {
     "data": {
      "text/plain": [
       "(111, 3)"
      ]
     },
     "execution_count": 76,
     "metadata": {},
     "output_type": "execute_result"
    }
   ],
   "source": [
    "val_data.shape"
   ]
  },
  {
   "cell_type": "code",
   "execution_count": null,
   "metadata": {},
   "outputs": [],
   "source": [
    "train_dataloader = DataLoader(train_data)"
   ]
  }
 ],
 "metadata": {
  "kernelspec": {
   "display_name": "Python 3",
   "language": "python",
   "name": "python3"
  },
  "language_info": {
   "codemirror_mode": {
    "name": "ipython",
    "version": 3
   },
   "file_extension": ".py",
   "mimetype": "text/x-python",
   "name": "python",
   "nbconvert_exporter": "python",
   "pygments_lexer": "ipython3",
   "version": "3.7.4"
  }
 },
 "nbformat": 4,
 "nbformat_minor": 5
}
