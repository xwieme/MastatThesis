{
 "cells": [
  {
   "cell_type": "code",
   "execution_count": 21,
   "id": "fa0b73f3",
   "metadata": {},
   "outputs": [],
   "source": [
    "from typing import Optional, Callable\n",
    "import os.path as osp\n",
    "\n",
    "import pandas as pd \n",
    "import numpy as np\n",
    "\n",
    "from rdkit import Chem\n",
    "from rdkit.Chem import PeriodicTable\n",
    "\n",
    "import torch\n",
    "from torch.nn import Linear\n",
    "import torch.nn.functional as F\n",
    "from torch_geometric.utils import scatter\n",
    "from torch_geometric.nn import GCNConv, RGCNConv, MLP, MessagePassing, aggr\n",
    "from torch_geometric.data import (\n",
    "    InMemoryDataset, \n",
    "    download_url,\n",
    "    Data\n",
    ")\n",
    "from torch_geometric.loader import DataLoader"
   ]
  },
  {
   "cell_type": "markdown",
   "id": "af9a16ac",
   "metadata": {},
   "source": [
    "## Feature vectors"
   ]
  },
  {
   "cell_type": "code",
   "execution_count": 2,
   "id": "0a4b3129",
   "metadata": {},
   "outputs": [],
   "source": [
    "def oneHotEncoding(x, values):\n",
    "    \"\"\"\n",
    "    Helper function to encode the given value as a one-hot vector\n",
    "\n",
    "    :param x: value to encode\n",
    "    :param values: encoding vector, i.e. contains every possible values of x\n",
    "    \"\"\"\n",
    "\n",
    "    return [int(x == value) for value in values]"
   ]
  },
  {
   "cell_type": "code",
   "execution_count": 3,
   "id": "63aafe14",
   "metadata": {},
   "outputs": [],
   "source": [
    "def getAtomFeatureVector(atom):\n",
    "\n",
    "    # Setup one-hot encoding vectors\n",
    "    atoms = [\"B\", \"C\", \"N\", \"O\", \"F\", \"Si\", \"P\", \"S\", \"As\", \"Se\", \"Br\", \"Te\", \"I\", \"At\"]\n",
    "    degrees = list(range(6))\n",
    "    hybridizations = [\n",
    "        Chem.HybridizationType.SP,\n",
    "        Chem.HybridizationType.SP2,\n",
    "        Chem.HybridizationType.SP3,\n",
    "        Chem.HybridizationType.SP3D,\n",
    "        Chem.HybridizationType.SP3D2,\n",
    "        Chem.HybridizationType.OTHER,\n",
    "    ]\n",
    "    hydrogens = list(range(5))\n",
    "    chirality_types = [\n",
    "        Chem.ChiralType.CHI_TETRAHEDRAL_CW, \n",
    "        Chem.ChiralType.CHI_TETRAHEDRAL_CCW\n",
    "    ]\n",
    "    \n",
    "#     atom_encoding = [\n",
    "#         [*[0]*(len(atoms)-1) + [1]] \n",
    "#         if atom.IsMetal()\n",
    "#         else oneHotEncoding(atom.GetSymbol(), atoms)\n",
    "#     ]\n",
    "\n",
    "    return [\n",
    "        *oneHotEncoding(atom.GetSymbol(), atoms),\n",
    "        *oneHotEncoding(atom.GetDegree(), degrees),\n",
    "        atom.GetFormalCharge(),\n",
    "        *oneHotEncoding(atom.GetHybridization(), hybridizations),\n",
    "        *oneHotEncoding(atom.GetTotalNumHs(), hydrogens),\n",
    "        int(atom.GetChiralTag() != Chem.ChiralType.CHI_UNSPECIFIED),\n",
    "        *oneHotEncoding(atom.GetChiralTag(), chirality_types)\n",
    "    ]"
   ]
  },
  {
   "cell_type": "code",
   "execution_count": 4,
   "id": "fb644d2d",
   "metadata": {},
   "outputs": [],
   "source": [
    "def getBondFeatureVector(bond):\n",
    "    \n",
    "    # Setup one-hot encoding vectors\n",
    "    bond_types = [\n",
    "        Chem.BondType.SINGLE, \n",
    "        Chem.BondType.DOUBLE, \n",
    "        Chem.BondType.TRIPLE, \n",
    "        Chem.BondType.AROMATIC\n",
    "    ]\n",
    "    \n",
    "    stereo_types = [\n",
    "        Chem.BondStereo.STEREONONE, \n",
    "        Chem.BondStereo.STEREOANY, \n",
    "        Chem.BondStereo.STEREOZ, \n",
    "        Chem.BondStereo.STEREOE\n",
    "    ]\n",
    "    \n",
    "    return [\n",
    "        *oneHotEncoding(bond.GetBondType(), bond_types),\n",
    "        int(bond.GetIsConjugated()),\n",
    "        int(bond.IsInRing()),\n",
    "        *oneHotEncoding(bond.GetStereo(), stereo_types)\n",
    "    ]\n",
    "\n",
    "\n",
    "def getEdgeTypes(e):\n",
    "    \n",
    "    edge_types = np.zeros(e.shape[0], dtype=int)\n",
    "    \n",
    "    for row in range(e.shape[0]):\n",
    "        \n",
    "        bond_type = list(e[row, :4]).index(1)\n",
    "        is_conjugated = int(e[row, 4:5])\n",
    "        in_ring = int(e[row, 5:6])\n",
    "        stereo = list(e[row, 6:]).index(1)\n",
    "                \n",
    "        edge_type = (\n",
    "            bond_type + \n",
    "            is_conjugated * 4 + \n",
    "            in_ring * 8 + \n",
    "            stereo * 16\n",
    "        )\n",
    "        \n",
    "        edge_types[row] = edge_type\n",
    "    \n",
    "    return torch.tensor(edge_types, dtype=torch.long)"
   ]
  },
  {
   "cell_type": "code",
   "execution_count": 5,
   "id": "b46acb85",
   "metadata": {},
   "outputs": [],
   "source": [
    "def createDataObjectFromSmiles(smiles: str, y: any):\n",
    "    \n",
    "    rd_mol = Chem.MolFromSmiles(smiles)\n",
    "    \n",
    "    # x has shape [num_atoms, num_features]\n",
    "    x = torch.tensor([\n",
    "        getAtomFeatureVector(atom)\n",
    "        for atom in rd_mol.GetAtoms()\n",
    "    ], dtype=torch.float)\n",
    "    \n",
    "    edge_indices, edge_attrs, edge_types = [], [], []\n",
    "    for bond in rd_mol.GetBonds():\n",
    "        \n",
    "        i = bond.GetBeginAtomIdx()\n",
    "        j = bond.GetEndAtomIdx()\n",
    "        \n",
    "        e = getBondFeatureVector(bond)\n",
    "        \n",
    "        # Treat molecules as undirected graphs\n",
    "        edge_indices += [[i, j], [j, i]]\n",
    "        edge_attrs += [e, e]\n",
    "        \n",
    "    edge_index = torch.tensor(edge_indices, dtype=torch.long).t().view(2, -1)\n",
    "    edge_attr = torch.tensor(edge_attrs, dtype=torch.long).view(-1, 10)\n",
    "    \n",
    "    data = Data(x=x, edge_index=edge_index, edge_attr=edge_attr, smiles=smiles)\n",
    "    data.y = y\n",
    "    \n",
    "    return data"
   ]
  },
  {
   "cell_type": "code",
   "execution_count": 6,
   "id": "d9dc44bb",
   "metadata": {},
   "outputs": [
    {
     "data": {
      "image/png": "[encoded data removed]",
      "text/plain": [
       "<rdkit.Chem.rdchem.Mol at 0x7f634c39f5a0>"
      ]
     },
     "execution_count": 6,
     "metadata": {},
     "output_type": "execute_result"
    }
   ],
   "source": [
    "mol = Chem.MolFromSmiles(\"CC1CCC(C(C1)O)C(C)C\")\n",
    "mol"
   ]
  },
  {
   "cell_type": "markdown",
   "id": "09e4801c",
   "metadata": {},
   "source": [
    "## Create data set"
   ]
  },
  {
   "cell_type": "code",
   "execution_count": 7,
   "id": "e59f25d7",
   "metadata": {},
   "outputs": [],
   "source": [
    "class SolubilityDataset(InMemoryDataset):\n",
    "    \n",
    "    def __init__(\n",
    "        self, \n",
    "        tag: str,\n",
    "        transform: Optional[Callable] = None, \n",
    "        pre_transform: Optional[Callable] =None,\n",
    "        pre_filter: Optional[Callable] = None\n",
    "    ):\n",
    "        self.name = \"solubility\"\n",
    "        self.tag = tag\n",
    "        super().__init__(\"../data\", transform, pre_transform, pre_filter)\n",
    "        self.data, self.slices = torch.load(self.processed_paths[0])\n",
    "        \n",
    "    @property\n",
    "    def raw_dir(self) -> str:\n",
    "        return osp.join(self.root, self.name)\n",
    "\n",
    "    @property\n",
    "    def processed_dir(self) -> str:\n",
    "        return osp.join(self.root, self.name)\n",
    "        \n",
    "    @property\n",
    "    def raw_file_names(self):\n",
    "        return f\"ESOL_{self.tag}.csv\"\n",
    "    \n",
    "    @property\n",
    "    def processed_file_names(self):\n",
    "        return f\"ESOL_{self.tag}.pt\"\n",
    "        \n",
    "    def process(self):\n",
    "        df = pd.read_csv(self.raw_paths[0])\n",
    "        data_list = df[[\"smiles\", \"ESOL\"]].apply(\n",
    "            lambda row: createDataObjectFromSmiles(*row),\n",
    "            axis=1\n",
    "        ).tolist()\n",
    "        \n",
    "        data, slices = self.collate(data_list)\n",
    "        torch.save((data, slices), osp.join(self.processed_dir, self.processed_file_names))"
   ]
  },
  {
   "cell_type": "markdown",
   "id": "893e3605",
   "metadata": {},
   "source": [
    "## Relational graph neural network (RGCN)"
   ]
  },
  {
   "cell_type": "markdown",
   "id": "af1a82bf",
   "metadata": {},
   "source": [
    "The GNN architecture used to predict the solubility of molecules is a relational GNN. A RGNN model extends a standard GCN model by also using edge types in the node update function,\n",
    "\n",
    "$$\n",
    "h_v^{(l+1)} = ReLU\\left(\\sum_{r \\in R} \\sum_{u \\in N_v^r} W_r^{(l)} h_u^{(l)} + W_0^{(l)} h_v^{(l)}\\right),\n",
    "$$\n",
    "\n",
    "with $R$ the set of edge types and $W_r^{(l)}$ a weight matrix of edge type $r$ of layer $l$ with learnable \n",
    "parameters and $N_v^r$ is the set of neighboring atoms with edge type $r$."
   ]
  },
  {
   "cell_type": "code",
   "execution_count": 13,
   "id": "63d412bc",
   "metadata": {},
   "outputs": [],
   "source": [
    "# class MLP(torch.nn.Module):\n",
    "    \n",
    "#     def __init__(self, input_units, hidden_units):\n",
    "#         super().__init__()\n",
    "        \n",
    "#         self.lin1 = Linear(input_units, hidden_units)\n",
    "#         self.lin2 = Linear(hidden_units, hidden_units)\n",
    "#         self.lin3 = Linear(hidden_units, 1)\n",
    "        \n",
    "#     def forward(self, x):\n",
    "        \n",
    "#         h = self.lin1(x)\n",
    "#         h = F.relu(h)\n",
    "#         h = F.dropout(h, 0.1)\n",
    "        \n",
    "#         h = self.lin2(h)\n",
    "#         h = F.relu(h)\n",
    "#         h = F.dropout(h, 0.1)\n",
    "        \n",
    "#         h = self.lin3(h)\n",
    "#         h = F.relu(h)\n",
    "        \n",
    "#         return h\n"
   ]
  },
  {
   "cell_type": "code",
   "execution_count": 8,
   "id": "76b47a43",
   "metadata": {},
   "outputs": [],
   "source": [
    "class WeightedSum(torch.nn.Module):\n",
    "    \n",
    "    def __init__(self, input_units):\n",
    "        super().__init__()\n",
    "        \n",
    "        self.lin1 = Linear(input_units, 1)\n",
    "        \n",
    "    def forward(self, x, batch):\n",
    "        \n",
    "        # Compute weights for each node\n",
    "        omega = self.lin1(x)\n",
    "        omega = F.sigmoid(omega)\n",
    "        \n",
    "        # Compute molecular embedding by a weighted sum\n",
    "        return scatter(omega * x, batch, dim=0, reduce='sum')"
   ]
  },
  {
   "cell_type": "code",
   "execution_count": 20,
   "id": "bef4f1d0",
   "metadata": {},
   "outputs": [],
   "source": [
    "class RGCN(torch.nn.Module):\n",
    "    \n",
    "    def __init__(self, num_node_features: int):\n",
    "        super(RGCN, self).__init__()\n",
    "        \n",
    "        self.rgcn1 = RGCNConv(num_node_features, 256, 65)\n",
    "        self.rgcn2 = RGCNConv(256, 256, 65)\n",
    "        # self.weighted_sum = WeightedSum(256)\n",
    "        # self.mlp = MLP(256, 64)\n",
    "        self.aggr = aggr.SumAggregation()\n",
    "        self.mlp = MLP(\n",
    "            in_channels=256, \n",
    "            hidden_channels=64, \n",
    "            out_channels=1, \n",
    "            num_layers=3\n",
    "        )\n",
    "        \n",
    "    def forward(self, x, edge_index, edge_attr, batch):\n",
    "        \n",
    "        # Convert edge_attr to edge_type\n",
    "        edge_type = getEdgeTypes(edge_attr)\n",
    "        \n",
    "        h = self.rgcn1(x, edge_index, edge_type)\n",
    "        h = F.relu(h)\n",
    "        h = F.dropout(h, 0.5)\n",
    "        \n",
    "        h = self.rgcn2(h, edge_index, edge_type)\n",
    "        h = F.relu(h)\n",
    "        h = F.dropout(h, 0.5)\n",
    "        \n",
    "        # molecular_embedding = self.weighted_sum(h, batch)\n",
    "        molecular_embedding = self.aggr(h, batch)\n",
    "        \n",
    "        y = self.mlp(molecular_embedding)\n",
    "        \n",
    "        return y"
   ]
  },
  {
   "cell_type": "markdown",
   "id": "ec4eaadb",
   "metadata": {},
   "source": [
    "## Training RGCN"
   ]
  },
  {
   "cell_type": "code",
   "execution_count": 11,
   "id": "2a89d459-c7e6-4128-af6f-8acc3c1c7ebe",
   "metadata": {},
   "outputs": [],
   "source": [
    "device = torch.device('cuda') if torch.cuda.is_available() else torch.device('cpu') "
   ]
  },
  {
   "cell_type": "code",
   "execution_count": 11,
   "id": "fea0ba61",
   "metadata": {},
   "outputs": [
    {
     "data": {
      "text/html": [
       "<div>\n",
       "<style scoped>\n",
       "    .dataframe tbody tr th:only-of-type {\n",
       "        vertical-align: middle;\n",
       "    }\n",
       "\n",
       "    .dataframe tbody tr th {\n",
       "        vertical-align: top;\n",
       "    }\n",
       "\n",
       "    .dataframe thead th {\n",
       "        text-align: right;\n",
       "    }\n",
       "</style>\n",
       "<table border=\"1\" class=\"dataframe\">\n",
       "  <thead>\n",
       "    <tr style=\"text-align: right;\">\n",
       "      <th></th>\n",
       "      <th>smiles</th>\n",
       "      <th>ESOL</th>\n",
       "      <th>group</th>\n",
       "    </tr>\n",
       "  </thead>\n",
       "  <tbody>\n",
       "    <tr>\n",
       "      <th>0</th>\n",
       "      <td>N#CC(OC1OC(COC2OC(CO)C(O)C(O)C2O)C(O)C(O)C1O)c...</td>\n",
       "      <td>-0.77</td>\n",
       "      <td>training</td>\n",
       "    </tr>\n",
       "    <tr>\n",
       "      <th>1</th>\n",
       "      <td>Cc1occc1C(=O)Nc1ccccc1</td>\n",
       "      <td>-3.30</td>\n",
       "      <td>training</td>\n",
       "    </tr>\n",
       "    <tr>\n",
       "      <th>2</th>\n",
       "      <td>CC(C)=CCCC(C)=CC=O</td>\n",
       "      <td>-2.06</td>\n",
       "      <td>training</td>\n",
       "    </tr>\n",
       "    <tr>\n",
       "      <th>3</th>\n",
       "      <td>c1ccc2c(c1)ccc1c2ccc2c3ccccc3ccc21</td>\n",
       "      <td>-7.87</td>\n",
       "      <td>training</td>\n",
       "    </tr>\n",
       "    <tr>\n",
       "      <th>4</th>\n",
       "      <td>c1ccsc1</td>\n",
       "      <td>-1.33</td>\n",
       "      <td>training</td>\n",
       "    </tr>\n",
       "  </tbody>\n",
       "</table>\n",
       "</div>"
      ],
      "text/plain": [
       "                                              smiles  ESOL     group\n",
       "0  N#CC(OC1OC(COC2OC(CO)C(O)C(O)C2O)C(O)C(O)C1O)c... -0.77  training\n",
       "1                             Cc1occc1C(=O)Nc1ccccc1 -3.30  training\n",
       "2                                 CC(C)=CCCC(C)=CC=O -2.06  training\n",
       "3                 c1ccc2c(c1)ccc1c2ccc2c3ccccc3ccc21 -7.87  training\n",
       "4                                            c1ccsc1 -1.33  training"
      ]
     },
     "execution_count": 11,
     "metadata": {},
     "output_type": "execute_result"
    }
   ],
   "source": [
    "data = pd.read_csv(\"../data/solubility/ESOL.csv\")\n",
    "data.head()"
   ]
  },
  {
   "cell_type": "code",
   "execution_count": 12,
   "id": "22eeac27",
   "metadata": {},
   "outputs": [],
   "source": [
    "train_data = data.query(\"group == 'training'\")\n",
    "test_data = data.query(\"group == 'test'\")\n",
    "val_data = data.query(\"group == 'valid'\")"
   ]
  },
  {
   "cell_type": "code",
   "execution_count": 13,
   "id": "38010a44",
   "metadata": {},
   "outputs": [],
   "source": [
    "train_data.to_csv(\"../data/solubility/ESOL_train.csv\")\n",
    "test_data.to_csv(\"../data/solubility/ESOL_test.csv\")\n",
    "val_data.to_csv(\"../data/solubility/ESOL_val.csv\")"
   ]
  },
  {
   "cell_type": "code",
   "execution_count": 10,
   "id": "2a22aeb3",
   "metadata": {},
   "outputs": [
    {
     "name": "stderr",
     "output_type": "stream",
     "text": [
      "Processing...\n",
      "Done!\n",
      "Processing...\n",
      "Done!\n",
      "Processing...\n",
      "Done!\n"
     ]
    }
   ],
   "source": [
    "train_data = SolubilityDataset(tag=\"train\")\n",
    "test_data = SolubilityDataset(tag=\"test\")\n",
    "val_data = SolubilityDataset(tag=\"val\")"
   ]
  },
  {
   "cell_type": "code",
   "execution_count": 11,
   "id": "9bead9c0",
   "metadata": {},
   "outputs": [],
   "source": [
    "train_dataloader = DataLoader(train_data, batch_size=256)\n",
    "test_dataloader = DataLoader(test_data, batch_size=256)\n",
    "val_dataloader = DataLoader(val_data, batch_size=256)"
   ]
  },
  {
   "cell_type": "code",
   "execution_count": 105,
   "id": "3353cf28",
   "metadata": {},
   "outputs": [],
   "source": [
    "def train(loader, model, criterion, optimizer):\n",
    "    model.train()\n",
    "    \n",
    "    for data in loader:\n",
    "        out = model(data.x, data.edge_index, data.edge_attr, data.batch)\n",
    "        loss = criterion(out, data.y.view(-1, 1))\n",
    "        loss.backward()\n",
    "        optimizer.step()\n",
    "        optimizer.zero_grad()\n",
    "        \n",
    "def test(loader, model, criterion):\n",
    "    # Set model to test mode\n",
    "    model.eval()\n",
    "\n",
    "    sample_size = len(loader.dataset)\n",
    "    predictions, labels = torch.zeros(sample_size), torch.zeros(sample_size)\n",
    "    id = 0\n",
    "    for data in loader:\n",
    "        new_id = id + data.batch_size\n",
    "        predictions[id:new_id] = model(data.x, data.edge_index, data.edge_attr, data.batch).view(-1)\n",
    "        labels[id:new_id] = data.y\n",
    "        id = new_id\n",
    "\n",
    "    predictions = predictions - torch.mean(predictions)\n",
    "    labels = labels - torch.mean(labels)\n",
    "    pearson_corr = torch.sum(predictions * labels) / (torch.sqrt(torch.sum(predictions**2)) * torch.sqrt(torch.sum(labels**2)))\n",
    "        \n",
    "    return pearson_corr"
   ]
  },
  {
   "cell_type": "code",
   "execution_count": 106,
   "id": "34fb89d8",
   "metadata": {},
   "outputs": [],
   "source": [
    "model = RGCN(num_node_features=35)\n",
    "criterion = torch.nn.MSELoss()\n",
    "optimizer = torch.optim.Adam(model.parameters(), lr=0.003)"
   ]
  },
  {
   "cell_type": "code",
   "execution_count": 107,
   "id": "cf79d51e-fb45-4e7e-a01e-3ffaabacf360",
   "metadata": {},
   "outputs": [
    {
     "name": "stdout",
     "output_type": "stream",
     "text": [
      "RGCN(\n",
      "  (rgcn1): RGCNConv(35, 256, num_relations=65)\n",
      "  (rgcn2): RGCNConv(256, 256, num_relations=65)\n",
      "  (aggr): SumAggregation()\n",
      "  (mlp): MLP(256, 64, 64, 1)\n",
      ")\n"
     ]
    }
   ],
   "source": [
    "print(model)"
   ]
  },
  {
   "cell_type": "code",
   "execution_count": 108,
   "id": "f3db1939",
   "metadata": {},
   "outputs": [
    {
     "name": "stdout",
     "output_type": "stream",
     "text": [
      "Epoch \t train_acc \t val_acc \t test_acc\n",
      "0 \t 0.70625 \t 0.75077 \t 0.66656\n",
      "10 \t 0.88377 \t 0.87492 \t 0.89691\n",
      "20 \t 0.95197 \t 0.93081 \t 0.94796\n",
      "30 \t 0.96578 \t 0.93679 \t 0.94413\n",
      "40 \t 0.96967 \t 0.94600 \t 0.95234\n",
      "50 \t 0.97437 \t 0.96014 \t 0.94975\n",
      "60 \t 0.97842 \t 0.95794 \t 0.95436\n",
      "70 \t 0.97875 \t 0.96183 \t 0.95265\n",
      "80 \t 0.98011 \t 0.96123 \t 0.95361\n",
      "90 \t 0.98292 \t 0.95993 \t 0.94944\n",
      "100 \t 0.98353 \t 0.96268 \t 0.95558\n",
      "110 \t 0.98610 \t 0.96640 \t 0.95463\n",
      "120 \t 0.98599 \t 0.96600 \t 0.95331\n",
      "130 \t 0.98647 \t 0.96297 \t 0.94443\n",
      "140 \t 0.98771 \t 0.96726 \t 0.95339\n",
      "150 \t 0.98753 \t 0.97105 \t 0.95515\n",
      "160 \t 0.98663 \t 0.96902 \t 0.95321\n",
      "170 \t 0.98853 \t 0.95779 \t 0.95657\n",
      "180 \t 0.98901 \t 0.96446 \t 0.95123\n",
      "190 \t 0.98860 \t 0.96606 \t 0.95407\n",
      "200 \t 0.98932 \t 0.96063 \t 0.95408\n",
      "210 \t 0.99032 \t 0.97224 \t 0.94926\n",
      "220 \t 0.98859 \t 0.96297 \t 0.95218\n",
      "230 \t 0.99004 \t 0.97030 \t 0.94876\n",
      "240 \t 0.99028 \t 0.96763 \t 0.95809\n",
      "250 \t 0.99043 \t 0.96573 \t 0.95069\n",
      "260 \t 0.99128 \t 0.96262 \t 0.95536\n",
      "270 \t 0.99099 \t 0.96190 \t 0.95058\n",
      "280 \t 0.98940 \t 0.96980 \t 0.95648\n",
      "290 \t 0.99100 \t 0.96785 \t 0.95392\n",
      "300 \t 0.99243 \t 0.96646 \t 0.95801\n",
      "310 \t 0.99112 \t 0.96789 \t 0.95011\n"
     ]
    },
    {
     "ename": "KeyboardInterrupt",
     "evalue": "",
     "output_type": "error",
     "traceback": [
      "\u001b[0;31m---------------------------------------------------------------------------\u001b[0m",
      "\u001b[0;31mKeyboardInterrupt\u001b[0m                         Traceback (most recent call last)",
      "Cell \u001b[0;32mIn[108], line 5\u001b[0m\n\u001b[1;32m      1\u001b[0m \u001b[38;5;28mprint\u001b[39m(\u001b[38;5;124m\"\u001b[39m\u001b[38;5;124mEpoch \u001b[39m\u001b[38;5;130;01m\\t\u001b[39;00m\u001b[38;5;124m train_acc \u001b[39m\u001b[38;5;130;01m\\t\u001b[39;00m\u001b[38;5;124m val_acc \u001b[39m\u001b[38;5;130;01m\\t\u001b[39;00m\u001b[38;5;124m test_acc\u001b[39m\u001b[38;5;124m\"\u001b[39m)\n\u001b[1;32m      3\u001b[0m \u001b[38;5;28;01mfor\u001b[39;00m epoch \u001b[38;5;129;01min\u001b[39;00m \u001b[38;5;28mrange\u001b[39m(\u001b[38;5;241m500\u001b[39m):\n\u001b[0;32m----> 5\u001b[0m     \u001b[43mtrain\u001b[49m\u001b[43m(\u001b[49m\u001b[43mtrain_dataloader\u001b[49m\u001b[43m,\u001b[49m\u001b[43m \u001b[49m\u001b[43mmodel\u001b[49m\u001b[43m,\u001b[49m\u001b[43m \u001b[49m\u001b[43mcriterion\u001b[49m\u001b[43m,\u001b[49m\u001b[43m \u001b[49m\u001b[43moptimizer\u001b[49m\u001b[43m)\u001b[49m\n\u001b[1;32m      7\u001b[0m     train_acc \u001b[38;5;241m=\u001b[39m test(train_dataloader, model, criterion)\n\u001b[1;32m      8\u001b[0m     val_acc \u001b[38;5;241m=\u001b[39m test(val_dataloader, model, criterion)\n",
      "Cell \u001b[0;32mIn[105], line 7\u001b[0m, in \u001b[0;36mtrain\u001b[0;34m(loader, model, criterion, optimizer)\u001b[0m\n\u001b[1;32m      5\u001b[0m out \u001b[38;5;241m=\u001b[39m model(data\u001b[38;5;241m.\u001b[39mx, data\u001b[38;5;241m.\u001b[39medge_index, data\u001b[38;5;241m.\u001b[39medge_attr, data\u001b[38;5;241m.\u001b[39mbatch)\n\u001b[1;32m      6\u001b[0m loss \u001b[38;5;241m=\u001b[39m criterion(out, data\u001b[38;5;241m.\u001b[39my\u001b[38;5;241m.\u001b[39mview(\u001b[38;5;241m-\u001b[39m\u001b[38;5;241m1\u001b[39m, \u001b[38;5;241m1\u001b[39m))\n\u001b[0;32m----> 7\u001b[0m \u001b[43mloss\u001b[49m\u001b[38;5;241;43m.\u001b[39;49m\u001b[43mbackward\u001b[49m\u001b[43m(\u001b[49m\u001b[43m)\u001b[49m\n\u001b[1;32m      8\u001b[0m optimizer\u001b[38;5;241m.\u001b[39mstep()\n\u001b[1;32m      9\u001b[0m optimizer\u001b[38;5;241m.\u001b[39mzero_grad()\n",
      "File \u001b[0;32m/opt/conda/envs/lab/lib/python3.10/site-packages/torch/_tensor.py:492\u001b[0m, in \u001b[0;36mTensor.backward\u001b[0;34m(self, gradient, retain_graph, create_graph, inputs)\u001b[0m\n\u001b[1;32m    482\u001b[0m \u001b[38;5;28;01mif\u001b[39;00m has_torch_function_unary(\u001b[38;5;28mself\u001b[39m):\n\u001b[1;32m    483\u001b[0m     \u001b[38;5;28;01mreturn\u001b[39;00m handle_torch_function(\n\u001b[1;32m    484\u001b[0m         Tensor\u001b[38;5;241m.\u001b[39mbackward,\n\u001b[1;32m    485\u001b[0m         (\u001b[38;5;28mself\u001b[39m,),\n\u001b[0;32m   (...)\u001b[0m\n\u001b[1;32m    490\u001b[0m         inputs\u001b[38;5;241m=\u001b[39minputs,\n\u001b[1;32m    491\u001b[0m     )\n\u001b[0;32m--> 492\u001b[0m \u001b[43mtorch\u001b[49m\u001b[38;5;241;43m.\u001b[39;49m\u001b[43mautograd\u001b[49m\u001b[38;5;241;43m.\u001b[39;49m\u001b[43mbackward\u001b[49m\u001b[43m(\u001b[49m\n\u001b[1;32m    493\u001b[0m \u001b[43m    \u001b[49m\u001b[38;5;28;43mself\u001b[39;49m\u001b[43m,\u001b[49m\u001b[43m \u001b[49m\u001b[43mgradient\u001b[49m\u001b[43m,\u001b[49m\u001b[43m \u001b[49m\u001b[43mretain_graph\u001b[49m\u001b[43m,\u001b[49m\u001b[43m \u001b[49m\u001b[43mcreate_graph\u001b[49m\u001b[43m,\u001b[49m\u001b[43m \u001b[49m\u001b[43minputs\u001b[49m\u001b[38;5;241;43m=\u001b[39;49m\u001b[43minputs\u001b[49m\n\u001b[1;32m    494\u001b[0m \u001b[43m\u001b[49m\u001b[43m)\u001b[49m\n",
      "File \u001b[0;32m/opt/conda/envs/lab/lib/python3.10/site-packages/torch/autograd/__init__.py:251\u001b[0m, in \u001b[0;36mbackward\u001b[0;34m(tensors, grad_tensors, retain_graph, create_graph, grad_variables, inputs)\u001b[0m\n\u001b[1;32m    246\u001b[0m     retain_graph \u001b[38;5;241m=\u001b[39m create_graph\n\u001b[1;32m    248\u001b[0m \u001b[38;5;66;03m# The reason we repeat the same comment below is that\u001b[39;00m\n\u001b[1;32m    249\u001b[0m \u001b[38;5;66;03m# some Python versions print out the first line of a multi-line function\u001b[39;00m\n\u001b[1;32m    250\u001b[0m \u001b[38;5;66;03m# calls in the traceback and some print out the last line\u001b[39;00m\n\u001b[0;32m--> 251\u001b[0m \u001b[43mVariable\u001b[49m\u001b[38;5;241;43m.\u001b[39;49m\u001b[43m_execution_engine\u001b[49m\u001b[38;5;241;43m.\u001b[39;49m\u001b[43mrun_backward\u001b[49m\u001b[43m(\u001b[49m\u001b[43m  \u001b[49m\u001b[38;5;66;43;03m# Calls into the C++ engine to run the backward pass\u001b[39;49;00m\n\u001b[1;32m    252\u001b[0m \u001b[43m    \u001b[49m\u001b[43mtensors\u001b[49m\u001b[43m,\u001b[49m\n\u001b[1;32m    253\u001b[0m \u001b[43m    \u001b[49m\u001b[43mgrad_tensors_\u001b[49m\u001b[43m,\u001b[49m\n\u001b[1;32m    254\u001b[0m \u001b[43m    \u001b[49m\u001b[43mretain_graph\u001b[49m\u001b[43m,\u001b[49m\n\u001b[1;32m    255\u001b[0m \u001b[43m    \u001b[49m\u001b[43mcreate_graph\u001b[49m\u001b[43m,\u001b[49m\n\u001b[1;32m    256\u001b[0m \u001b[43m    \u001b[49m\u001b[43minputs\u001b[49m\u001b[43m,\u001b[49m\n\u001b[1;32m    257\u001b[0m \u001b[43m    \u001b[49m\u001b[43mallow_unreachable\u001b[49m\u001b[38;5;241;43m=\u001b[39;49m\u001b[38;5;28;43;01mTrue\u001b[39;49;00m\u001b[43m,\u001b[49m\n\u001b[1;32m    258\u001b[0m \u001b[43m    \u001b[49m\u001b[43maccumulate_grad\u001b[49m\u001b[38;5;241;43m=\u001b[39;49m\u001b[38;5;28;43;01mTrue\u001b[39;49;00m\u001b[43m,\u001b[49m\n\u001b[1;32m    259\u001b[0m \u001b[43m\u001b[49m\u001b[43m)\u001b[49m\n",
      "\u001b[0;31mKeyboardInterrupt\u001b[0m: "
     ]
    }
   ],
   "source": [
    "print(\"Epoch \\t train_acc \\t val_acc \\t test_acc\")\n",
    "\n",
    "for epoch in range(500):\n",
    "    \n",
    "    train(train_dataloader, model, criterion, optimizer)\n",
    "    \n",
    "    train_acc = test(train_dataloader, model, criterion)\n",
    "    val_acc = test(val_dataloader, model, criterion)\n",
    "    test_acc = test(test_dataloader, model, criterion)\n",
    "    \n",
    "    if epoch % 10 == 0:\n",
    "        print(f\"{epoch} \\t {train_acc:.5f} \\t {val_acc:.5f} \\t {test_acc:.5f}\")"
   ]
  },
  {
   "cell_type": "code",
   "execution_count": null,
   "id": "95c3899e",
   "metadata": {},
   "outputs": [],
   "source": []
  },
  {
   "cell_type": "code",
   "execution_count": null,
   "id": "3e0a153e-86de-4f6b-b955-17e21680175a",
   "metadata": {},
   "outputs": [],
   "source": []
  }
 ],
 "metadata": {
  "kernelspec": {
   "display_name": "Python 3 (ipykernel)",
   "language": "python",
   "name": "python3"
  },
  "language_info": {
   "codemirror_mode": {
    "name": "ipython",
    "version": 3
   },
   "file_extension": ".py",
   "mimetype": "text/x-python",
   "name": "python",
   "nbconvert_exporter": "python",
   "pygments_lexer": "ipython3",
   "version": "3.10.13"
  }
 },
 "nbformat": 4,
 "nbformat_minor": 5
}
